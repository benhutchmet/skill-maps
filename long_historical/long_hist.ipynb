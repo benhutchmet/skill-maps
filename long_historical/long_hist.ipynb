{
 "cells": [
  {
   "cell_type": "markdown",
   "metadata": {},
   "source": [
    "### Long historical runs ###\n",
    "\n",
    "To create historical time series which are valid against the dcpp experiments\n",
    "which run past 2014, we have to combine the historical runs from CMIP\n",
    "(1850-2014) with the ssp245 runs from ScenarioMIP (2015-2100).\n",
    "\n",
    "To string the time series together, they should have the same r*i?p?f? \n",
    "(experimental set up).\n",
    "\n",
    "We want to avoid downloading data where possible, so we want to see how many of\n",
    "these files are available in /badc/ on JASMIN."
   ]
  }
 ],
 "metadata": {
  "language_info": {
   "name": "python"
  }
 },
 "nbformat": 4,
 "nbformat_minor": 2
}
