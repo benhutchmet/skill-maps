{
 "cells": [
  {
   "cell_type": "markdown",
   "metadata": {},
   "source": [
    "### Long historical runs ###\n",
    "\n",
    "To create historical time series which are valid against the dcpp experiments\n",
    "which run past 2014, we have to combine the historical runs from CMIP\n",
    "(1850-2014) with the ssp245 runs from ScenarioMIP (2015-2100).\n",
    "\n",
    "To string the time series together, they should have the same r*i?p?f? \n",
    "(experimental set up).\n",
    "\n",
    "We want to avoid downloading data where possible, so we want to see how many of\n",
    "these files are available in /badc/ on JASMIN."
   ]
  },
  {
   "cell_type": "code",
   "execution_count": 1,
   "metadata": {},
   "outputs": [],
   "source": [
    "import sys"
   ]
  },
  {
   "cell_type": "code",
   "execution_count": 2,
   "metadata": {},
   "outputs": [],
   "source": [
    "# Import the functions\n",
    "import long_hist_functions as lh_funcs"
   ]
  },
  {
   "cell_type": "code",
   "execution_count": 3,
   "metadata": {},
   "outputs": [],
   "source": [
    "# Import dictionaries\n",
    "sys.path.append('/home/users/benhutch/skill-maps/')\n",
    "\n",
    "# Import the dictionaries\n",
    "import dictionaries as dicts"
   ]
  },
  {
   "cell_type": "code",
   "execution_count": 4,
   "metadata": {},
   "outputs": [
    {
     "name": "stderr",
     "output_type": "stream",
     "text": [
      "  0%|          | 0/1 [00:00<?, ?it/s]"
     ]
    },
    {
     "name": "stdout",
     "output_type": "stream",
     "text": [
      "hist_members ['r1i1p1f1', 'r2i1p1f1', 'r3i1p1f1'] for BCC-CSM2-MR\n",
      "ssp_members ['r1i1p1f1'] for BCC-CSM2-MR\n",
      "common members ['r1i1p1f1'] for BCC-CSM2-MR and tas\n",
      "hist_members ['r10i1p1f1', 'r1i1p1f1', 'r2i1p1f1', 'r3i1p1f1', 'r4i1p1f1', 'r5i1p1f1', 'r6i1p1f1', 'r7i1p1f1', 'r8i1p1f1', 'r9i1p1f1'] for MPI-ESM1-2-HR\n",
      "ssp_members ['r1i1p1f1', 'r2i1p1f1'] for MPI-ESM1-2-HR\n",
      "common members ['r1i1p1f1', 'r2i1p1f1'] for MPI-ESM1-2-HR and tas\n",
      "hist_members ['r10i1p1f1', 'r10i1p2f1', 'r11i1p1f1', 'r11i1p2f1', 'r12i1p1f1', 'r12i1p2f1', 'r13i1p1f1', 'r13i1p2f1', 'r14i1p1f1', 'r14i1p2f1', 'r15i1p1f1', 'r15i1p2f1', 'r16i1p1f1', 'r16i1p2f1', 'r17i1p1f1', 'r17i1p2f1', 'r18i1p1f1', 'r18i1p2f1', 'r19i1p1f1', 'r19i1p2f1', 'r1i1p1f1', 'r1i1p2f1', 'r20i1p1f1', 'r20i1p2f1', 'r21i1p1f1', 'r21i1p2f1', 'r22i1p1f1', 'r22i1p2f1', 'r23i1p1f1', 'r23i1p2f1', 'r24i1p1f1', 'r24i1p2f1', 'r25i1p1f1', 'r25i1p2f1', 'r26i1p2f1', 'r27i1p2f1', 'r28i1p2f1', 'r29i1p2f1', 'r2i1p1f1', 'r2i1p2f1', 'r30i1p2f1', 'r31i1p2f1', 'r32i1p2f1', 'r33i1p2f1', 'r34i1p2f1', 'r35i1p2f1', 'r36i1p2f1', 'r37i1p2f1', 'r38i1p2f1', 'r39i1p2f1', 'r3i1p1f1', 'r3i1p2f1', 'r40i1p2f1', 'r4i1p1f1', 'r4i1p2f1', 'r5i1p1f1', 'r5i1p2f1', 'r6i1p1f1', 'r6i1p2f1', 'r7i1p1f1', 'r7i1p2f1', 'r8i1p1f1', 'r8i1p2f1', 'r9i1p1f1', 'r9i1p2f1'] for CanESM5\n",
      "ssp_members ['r10i1p1f1', 'r10i1p2f1', 'r11i1p1f1', 'r11i1p2f1', 'r12i1p1f1', 'r12i1p2f1', 'r13i1p1f1', 'r13i1p2f1', 'r14i1p1f1', 'r14i1p2f1', 'r15i1p1f1', 'r15i1p2f1', 'r16i1p1f1', 'r16i1p2f1', 'r17i1p1f1', 'r17i1p2f1', 'r18i1p1f1', 'r18i1p2f1', 'r19i1p1f1', 'r19i1p2f1', 'r1i1p1f1', 'r1i1p2f1', 'r20i1p1f1', 'r20i1p2f1', 'r21i1p1f1', 'r21i1p2f1', 'r22i1p1f1', 'r22i1p2f1', 'r23i1p1f1', 'r23i1p2f1', 'r24i1p1f1', 'r24i1p2f1', 'r25i1p1f1', 'r25i1p2f1', 'r2i1p1f1', 'r2i1p2f1', 'r3i1p1f1', 'r3i1p2f1', 'r4i1p1f1', 'r4i1p2f1', 'r5i1p1f1', 'r5i1p2f1', 'r6i1p1f1', 'r6i1p2f1', 'r7i1p1f1', 'r7i1p2f1', 'r8i1p1f1', 'r8i1p2f1', 'r9i1p1f1', 'r9i1p2f1'] for CanESM5\n",
      "common members ['r14i1p2f1', 'r8i1p1f1', 'r13i1p1f1', 'r1i1p2f1', 'r25i1p2f1', 'r10i1p1f1', 'r24i1p1f1', 'r3i1p2f1', 'r23i1p2f1', 'r14i1p1f1', 'r16i1p2f1', 'r6i1p2f1', 'r20i1p1f1', 'r7i1p2f1', 'r18i1p1f1', 'r4i1p1f1', 'r1i1p1f1', 'r17i1p2f1', 'r12i1p1f1', 'r18i1p2f1', 'r15i1p1f1', 'r6i1p1f1', 'r20i1p2f1', 'r4i1p2f1', 'r11i1p1f1', 'r3i1p1f1', 'r5i1p2f1', 'r9i1p2f1', 'r11i1p2f1', 'r25i1p1f1', 'r15i1p2f1', 'r17i1p1f1', 'r7i1p1f1', 'r19i1p1f1', 'r2i1p2f1', 'r21i1p1f1', 'r24i1p2f1', 'r16i1p1f1', 'r13i1p2f1', 'r23i1p1f1', 'r9i1p1f1', 'r12i1p2f1', 'r22i1p1f1', 'r21i1p2f1', 'r19i1p2f1', 'r2i1p1f1', 'r5i1p1f1', 'r10i1p2f1', 'r8i1p2f1', 'r22i1p2f1'] for CanESM5 and tas\n",
      "hist_members ['r1i1p1f1'] for CMCC-CM2-SR5\n",
      "ssp_members ['r1i1p1f1'] for CMCC-CM2-SR5\n",
      "common members ['r1i1p1f1'] for CMCC-CM2-SR5 and tas\n",
      "hist_members ['r1i1p1f3', 'r2i1p1f3', 'r3i1p1f3', 'r4i1p1f3'] for HadGEM3-GC31-MM\n",
      "ssp_members [] for HadGEM3-GC31-MM\n",
      "common members [] for HadGEM3-GC31-MM and tas\n",
      "hist_members ['r101i1p1f1', 'r102i1p1f1', 'r103i1p1f1', 'r104i1p1f1', 'r105i1p1f1', 'r106i1p1f1', 'r107i1p1f1', 'r108i1p1f1', 'r109i1p1f1', 'r110i1p1f1', 'r111i1p1f1', 'r112i1p1f1', 'r113i1p1f1', 'r114i1p1f1', 'r115i1p1f1', 'r116i1p1f1', 'r117i1p1f1', 'r118i1p1f1', 'r119i1p1f1', 'r120i1p1f1', 'r121i1p1f1', 'r122i1p1f1', 'r123i1p1f1', 'r124i1p1f1', 'r125i1p1f1', 'r126i1p1f1', 'r127i1p1f1', 'r128i1p1f1', 'r129i1p1f1', 'r130i1p1f1', 'r131i1p1f1', 'r132i1p1f1', 'r133i1p1f1', 'r134i1p1f1', 'r135i1p1f1', 'r136i1p1f1', 'r137i1p1f1', 'r138i1p1f1', 'r139i1p1f1', 'r140i1p1f1', 'r141i1p1f1', 'r142i1p1f1', 'r143i1p1f1', 'r144i1p1f1', 'r145i1p1f1', 'r146i1p1f1', 'r147i1p1f1', 'r148i1p1f1', 'r149i1p1f1', 'r150i1p1f1'] for EC-Earth3\n",
      "ssp_members ['r101i1p1f1', 'r102i1p1f1', 'r103i1p1f1', 'r104i1p1f1', 'r105i1p1f1', 'r106i1p1f1', 'r107i1p1f1', 'r108i1p1f1', 'r109i1p1f1', 'r10i1p1f1', 'r10i1p1f2', 'r110i1p1f1', 'r111i1p1f1', 'r112i1p1f1', 'r113i1p1f1', 'r114i1p1f1', 'r115i1p1f1', 'r116i1p1f1', 'r117i1p1f1', 'r118i1p1f1', 'r119i1p1f1', 'r11i1p1f1', 'r120i1p1f1', 'r121i1p1f1', 'r122i1p1f1', 'r123i1p1f1', 'r124i1p1f1', 'r125i1p1f1', 'r126i1p1f1', 'r127i1p1f1', 'r128i1p1f1', 'r129i1p1f1', 'r12i1p1f1', 'r12i1p1f2', 'r130i1p1f1', 'r131i1p1f1', 'r132i1p1f1', 'r133i1p1f1', 'r134i1p1f1', 'r135i1p1f1', 'r136i1p1f1', 'r137i1p1f1', 'r138i1p1f1', 'r139i1p1f1', 'r13i1p1f1', 'r13i1p1f2', 'r140i1p1f1', 'r141i1p1f1', 'r142i1p1f1', 'r143i1p1f1', 'r144i1p1f1', 'r145i1p1f1', 'r146i1p1f1', 'r147i1p1f1', 'r148i1p1f1', 'r149i1p1f1', 'r14i1p1f1', 'r150i1p1f1', 'r15i1p1f1', 'r15i1p1f2', 'r16i1p1f1', 'r16i1p1f2', 'r17i1p1f1', 'r17i1p1f2', 'r18i1p1f1', 'r18i1p1f2', 'r19i1p1f1', 'r19i1p1f2', 'r1i1p1f1', 'r1i1p1f2', 'r20i1p1f1', 'r20i1p1f2', 'r21i1p1f1', 'r21i1p1f2', 'r22i1p1f1', 'r22i1p1f2', 'r23i1p1f1', 'r23i1p1f2', 'r24i1p1f1', 'r24i1p1f2', 'r25i1p1f1', 'r25i1p1f2', 'r26i1p1f2', 'r27i1p1f2', 'r28i1p1f2', 'r29i1p1f2', 'r2i1p1f1', 'r2i1p1f2', 'r30i1p1f2', 'r4i1p1f1', 'r4i1p1f2', 'r5i1p1f1', 'r6i1p1f1', 'r6i1p1f2', 'r7i1p1f1', 'r7i1p1f2', 'r8i1p1f2', 'r9i1p1f1'] for EC-Earth3\n",
      "common members ['r136i1p1f1', 'r115i1p1f1', 'r113i1p1f1', 'r141i1p1f1', 'r134i1p1f1', 'r132i1p1f1', 'r128i1p1f1', 'r118i1p1f1', 'r101i1p1f1', 'r126i1p1f1', 'r114i1p1f1', 'r139i1p1f1', 'r129i1p1f1', 'r106i1p1f1', 'r150i1p1f1', 'r104i1p1f1', 'r125i1p1f1', 'r110i1p1f1', 'r112i1p1f1', 'r122i1p1f1', 'r127i1p1f1', 'r120i1p1f1', 'r109i1p1f1', 'r148i1p1f1', 'r123i1p1f1', 'r147i1p1f1', 'r133i1p1f1', 'r138i1p1f1', 'r137i1p1f1', 'r102i1p1f1', 'r119i1p1f1', 'r142i1p1f1', 'r124i1p1f1', 'r105i1p1f1', 'r108i1p1f1', 'r140i1p1f1', 'r146i1p1f1', 'r131i1p1f1', 'r135i1p1f1', 'r103i1p1f1', 'r143i1p1f1', 'r111i1p1f1', 'r130i1p1f1', 'r144i1p1f1', 'r117i1p1f1', 'r107i1p1f1', 'r145i1p1f1', 'r149i1p1f1', 'r116i1p1f1', 'r121i1p1f1'] for EC-Earth3 and tas\n",
      "hist_members ['r10i1p1f1', 'r11i1p1f1', 'r12i1p1f1', 'r13i1p1f1', 'r14i1p1f1', 'r15i1p1f1', 'r16i1p1f1', 'r17i1p1f1', 'r18i1p1f1', 'r19i1p1f1', 'r1i1p1f1', 'r20i1p1f1', 'r21i1p1f1', 'r22i1p1f1', 'r23i1p1f1', 'r24i1p1f1', 'r25i1p1f1', 'r26i1p1f1', 'r27i1p1f1', 'r28i1p1f1', 'r29i1p1f1', 'r2i1p1f1', 'r30i1p1f1', 'r3i1p1f1', 'r4i1p1f1', 'r5i1p1f1', 'r6i1p1f1', 'r7i1p1f1', 'r8i1p1f1', 'r9i1p1f1'] for MPI-ESM1-2-LR\n",
      "ssp_members ['r10i1p1f1', 'r11i1p1f1', 'r12i1p1f1', 'r13i1p1f1', 'r14i1p1f1', 'r15i1p1f1', 'r16i1p1f1', 'r17i1p1f1', 'r18i1p1f1', 'r19i1p1f1', 'r1i1p1f1', 'r20i1p1f1', 'r21i1p1f1', 'r22i1p1f1', 'r23i1p1f1', 'r24i1p1f1', 'r25i1p1f1', 'r26i1p1f1', 'r27i1p1f1', 'r28i1p1f1', 'r29i1p1f1', 'r2i1p1f1', 'r30i1p1f1', 'r3i1p1f1', 'r4i1p1f1', 'r5i1p1f1', 'r6i1p1f1', 'r7i1p1f1', 'r8i1p1f1', 'r9i1p1f1'] for MPI-ESM1-2-LR\n",
      "common members ['r8i1p1f1', 'r30i1p1f1', 'r13i1p1f1', 'r29i1p1f1', 'r10i1p1f1', 'r24i1p1f1', 'r28i1p1f1', 'r26i1p1f1', 'r20i1p1f1', 'r18i1p1f1', 'r4i1p1f1', 'r12i1p1f1', 'r1i1p1f1', 'r15i1p1f1', 'r6i1p1f1', 'r11i1p1f1', 'r3i1p1f1', 'r25i1p1f1', 'r17i1p1f1', 'r7i1p1f1', 'r19i1p1f1', 'r21i1p1f1', 'r16i1p1f1', 'r27i1p1f1', 'r23i1p1f1', 'r9i1p1f1', 'r22i1p1f1', 'r2i1p1f1', 'r5i1p1f1', 'r14i1p1f1'] for MPI-ESM1-2-LR and tas\n",
      "hist_members ['r1i1p1f1', 'r2i1p1f1', 'r3i1p1f1'] for FGOALS-f3-L\n",
      "ssp_members ['r1i1p1f1'] for FGOALS-f3-L\n",
      "common members ['r1i1p1f1'] for FGOALS-f3-L and tas\n",
      "hist_members ['r10i1p1f1', 'r11i1p1f1', 'r12i1p1f1', 'r13i1p1f1', 'r14i1p1f1', 'r15i1p1f1', 'r16i1p1f1', 'r17i1p1f1', 'r18i1p1f1', 'r19i1p1f1', 'r1i1p1f1', 'r20i1p1f1', 'r21i1p1f1', 'r22i1p1f1', 'r23i1p1f1', 'r24i1p1f1', 'r25i1p1f1', 'r26i1p1f1', 'r27i1p1f1', 'r28i1p1f1', 'r29i1p1f1', 'r2i1p1f1', 'r30i1p1f1', 'r31i1p1f1', 'r32i1p1f1', 'r33i1p1f1', 'r34i1p1f1', 'r35i1p1f1', 'r36i1p1f1', 'r37i1p1f1', 'r38i1p1f1', 'r39i1p1f1', 'r3i1p1f1', 'r40i1p1f1', 'r41i1p1f1', 'r42i1p1f1', 'r43i1p1f1', 'r44i1p1f1', 'r45i1p1f1', 'r46i1p1f1', 'r47i1p1f1', 'r48i1p1f1', 'r49i1p1f1', 'r4i1p1f1', 'r50i1p1f1', 'r5i1p1f1', 'r6i1p1f1', 'r7i1p1f1', 'r8i1p1f1', 'r9i1p1f1'] for MIROC6\n",
      "ssp_members ['r10i1p1f1', 'r11i1p1f1', 'r12i1p1f1', 'r13i1p1f1', 'r14i1p1f1', 'r15i1p1f1', 'r16i1p1f1', 'r17i1p1f1', 'r18i1p1f1', 'r19i1p1f1', 'r1i1p1f1', 'r20i1p1f1', 'r21i1p1f1', 'r22i1p1f1', 'r23i1p1f1', 'r24i1p1f1', 'r25i1p1f1', 'r26i1p1f1', 'r27i1p1f1', 'r28i1p1f1', 'r29i1p1f1', 'r2i1p1f1', 'r30i1p1f1', 'r31i1p1f1', 'r32i1p1f1', 'r33i1p1f1', 'r34i1p1f1', 'r35i1p1f1', 'r36i1p1f1', 'r37i1p1f1', 'r38i1p1f1', 'r39i1p1f1', 'r3i1p1f1', 'r40i1p1f1', 'r41i1p1f1', 'r42i1p1f1', 'r43i1p1f1', 'r44i1p1f1', 'r45i1p1f1', 'r46i1p1f1', 'r47i1p1f1', 'r48i1p1f1', 'r49i1p1f1', 'r4i1p1f1', 'r50i1p1f1', 'r5i1p1f1', 'r6i1p1f1', 'r7i1p1f1', 'r8i1p1f1', 'r9i1p1f1'] for MIROC6\n",
      "common members ['r34i1p1f1', 'r42i1p1f1', 'r8i1p1f1', 'r30i1p1f1', 'r13i1p1f1', 'r29i1p1f1', 'r45i1p1f1', 'r10i1p1f1', 'r24i1p1f1', 'r49i1p1f1', 'r50i1p1f1', 'r38i1p1f1', 'r41i1p1f1', 'r28i1p1f1', 'r26i1p1f1', 'r31i1p1f1', 'r44i1p1f1', 'r35i1p1f1', 'r33i1p1f1', 'r40i1p1f1', 'r20i1p1f1', 'r18i1p1f1', 'r12i1p1f1', 'r1i1p1f1', 'r48i1p1f1', 'r4i1p1f1', 'r15i1p1f1', 'r32i1p1f1', 'r6i1p1f1', 'r37i1p1f1', 'r47i1p1f1', 'r36i1p1f1', 'r11i1p1f1', 'r3i1p1f1', 'r25i1p1f1', 'r46i1p1f1', 'r17i1p1f1', 'r7i1p1f1', 'r19i1p1f1', 'r21i1p1f1', 'r16i1p1f1', 'r27i1p1f1', 'r23i1p1f1', 'r9i1p1f1', 'r22i1p1f1', 'r39i1p1f1', 'r2i1p1f1', 'r5i1p1f1', 'r43i1p1f1', 'r14i1p1f1'] for MIROC6 and tas\n"
     ]
    },
    {
     "name": "stderr",
     "output_type": "stream",
     "text": [
      "100%|██████████| 1/1 [01:11<00:00, 71.43s/it]"
     ]
    },
    {
     "name": "stdout",
     "output_type": "stream",
     "text": [
      "hist_members ['r1i1p1f1', 'r2i1p1f1', 'r32i1p1f1', 'r3i1p1f1', 'r4i1p1f1', 'r5i1p1f1', 'r6i1p1f1', 'r7i1p1f1', 'r8i1p1f1', 'r9i1p1f1'] for IPSL-CM6A-LR\n",
      "ssp_members ['r10i1p1f1', 'r11i1p1f1', 'r14i1p1f1', 'r1i1p1f1', 'r22i1p1f1', 'r25i1p1f1', 'r2i1p1f1', 'r3i1p1f1', 'r4i1p1f1', 'r5i1p1f1', 'r6i1p1f1'] for IPSL-CM6A-LR\n",
      "common members ['r6i1p1f1', 'r3i1p1f1', 'r2i1p1f1', 'r5i1p1f1', 'r4i1p1f1', 'r1i1p1f1'] for IPSL-CM6A-LR and tas\n",
      "hist_members [] for CESM1-1-CAM5-CMIP5\n",
      "ssp_members [] for CESM1-1-CAM5-CMIP5\n",
      "common members [] for CESM1-1-CAM5-CMIP5 and tas\n",
      "hist_members ['r30i1p1f1'] for NorCPM1\n",
      "ssp_members [] for NorCPM1\n",
      "common members [] for NorCPM1 and tas\n"
     ]
    },
    {
     "name": "stderr",
     "output_type": "stream",
     "text": [
      "\n"
     ]
    }
   ],
   "source": [
    "# test the function\n",
    "df = lh_funcs.find_hist_ssp_members(\n",
    "    variables=[\"tas\"],\n",
    "    models=dicts.models,\n",
    ")"
   ]
  },
  {
   "cell_type": "code",
   "execution_count": 5,
   "metadata": {},
   "outputs": [
    {
     "data": {
      "text/html": [
       "<div>\n",
       "<style scoped>\n",
       "    .dataframe tbody tr th:only-of-type {\n",
       "        vertical-align: middle;\n",
       "    }\n",
       "\n",
       "    .dataframe tbody tr th {\n",
       "        vertical-align: top;\n",
       "    }\n",
       "\n",
       "    .dataframe thead th {\n",
       "        text-align: right;\n",
       "    }\n",
       "</style>\n",
       "<table border=\"1\" class=\"dataframe\">\n",
       "  <thead>\n",
       "    <tr style=\"text-align: right;\">\n",
       "      <th></th>\n",
       "      <th>model</th>\n",
       "      <th>variable</th>\n",
       "      <th>common_member</th>\n",
       "      <th>hist_member</th>\n",
       "      <th>ssp_member</th>\n",
       "    </tr>\n",
       "  </thead>\n",
       "  <tbody>\n",
       "    <tr>\n",
       "      <th>0</th>\n",
       "      <td>BCC-CSM2-MR</td>\n",
       "      <td>tas</td>\n",
       "      <td>r1i1p1f1</td>\n",
       "      <td>/gws/nopw/j04/canari/users/benhutch/historical...</td>\n",
       "      <td>/badc/cmip6/data/CMIP6/ScenarioMIP/BCC/BCC-CSM...</td>\n",
       "    </tr>\n",
       "    <tr>\n",
       "      <th>0</th>\n",
       "      <td>MPI-ESM1-2-HR</td>\n",
       "      <td>tas</td>\n",
       "      <td>r1i1p1f1</td>\n",
       "      <td>/gws/nopw/j04/canari/users/benhutch/historical...</td>\n",
       "      <td>/badc/cmip6/data/CMIP6/ScenarioMIP/DKRZ/MPI-ES...</td>\n",
       "    </tr>\n",
       "    <tr>\n",
       "      <th>0</th>\n",
       "      <td>MPI-ESM1-2-HR</td>\n",
       "      <td>tas</td>\n",
       "      <td>r2i1p1f1</td>\n",
       "      <td>/gws/nopw/j04/canari/users/benhutch/historical...</td>\n",
       "      <td>/badc/cmip6/data/CMIP6/ScenarioMIP/DKRZ/MPI-ES...</td>\n",
       "    </tr>\n",
       "    <tr>\n",
       "      <th>0</th>\n",
       "      <td>CanESM5</td>\n",
       "      <td>tas</td>\n",
       "      <td>r14i1p2f1</td>\n",
       "      <td>/gws/nopw/j04/canari/users/benhutch/historical...</td>\n",
       "      <td>/badc/cmip6/data/CMIP6/ScenarioMIP/CCCma/CanES...</td>\n",
       "    </tr>\n",
       "    <tr>\n",
       "      <th>0</th>\n",
       "      <td>CanESM5</td>\n",
       "      <td>tas</td>\n",
       "      <td>r8i1p1f1</td>\n",
       "      <td>/gws/nopw/j04/canari/users/benhutch/historical...</td>\n",
       "      <td>/badc/cmip6/data/CMIP6/ScenarioMIP/CCCma/CanES...</td>\n",
       "    </tr>\n",
       "  </tbody>\n",
       "</table>\n",
       "</div>"
      ],
      "text/plain": [
       "           model variable common_member  \\\n",
       "0    BCC-CSM2-MR      tas      r1i1p1f1   \n",
       "0  MPI-ESM1-2-HR      tas      r1i1p1f1   \n",
       "0  MPI-ESM1-2-HR      tas      r2i1p1f1   \n",
       "0        CanESM5      tas     r14i1p2f1   \n",
       "0        CanESM5      tas      r8i1p1f1   \n",
       "\n",
       "                                         hist_member  \\\n",
       "0  /gws/nopw/j04/canari/users/benhutch/historical...   \n",
       "0  /gws/nopw/j04/canari/users/benhutch/historical...   \n",
       "0  /gws/nopw/j04/canari/users/benhutch/historical...   \n",
       "0  /gws/nopw/j04/canari/users/benhutch/historical...   \n",
       "0  /gws/nopw/j04/canari/users/benhutch/historical...   \n",
       "\n",
       "                                          ssp_member  \n",
       "0  /badc/cmip6/data/CMIP6/ScenarioMIP/BCC/BCC-CSM...  \n",
       "0  /badc/cmip6/data/CMIP6/ScenarioMIP/DKRZ/MPI-ES...  \n",
       "0  /badc/cmip6/data/CMIP6/ScenarioMIP/DKRZ/MPI-ES...  \n",
       "0  /badc/cmip6/data/CMIP6/ScenarioMIP/CCCma/CanES...  \n",
       "0  /badc/cmip6/data/CMIP6/ScenarioMIP/CCCma/CanES...  "
      ]
     },
     "execution_count": 5,
     "metadata": {},
     "output_type": "execute_result"
    }
   ],
   "source": [
    "df.head()"
   ]
  }
 ],
 "metadata": {
  "kernelspec": {
   "display_name": "Python 3",
   "language": "python",
   "name": "python3"
  },
  "language_info": {
   "codemirror_mode": {
    "name": "ipython",
    "version": 3
   },
   "file_extension": ".py",
   "mimetype": "text/x-python",
   "name": "python",
   "nbconvert_exporter": "python",
   "pygments_lexer": "ipython3",
   "version": "3.10.8"
  }
 },
 "nbformat": 4,
 "nbformat_minor": 2
}
