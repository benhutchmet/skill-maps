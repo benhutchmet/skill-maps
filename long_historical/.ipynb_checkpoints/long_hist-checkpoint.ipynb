{
 "cells": [
  {
   "cell_type": "markdown",
   "metadata": {},
   "source": [
    "### Long historical runs ###\n",
    "\n",
    "To create historical time series which are valid against the dcpp experiments\n",
    "which run past 2014, we have to combine the historical runs from CMIP\n",
    "(1850-2014) with the ssp245 runs from ScenarioMIP (2015-2100).\n",
    "\n",
    "To string the time series together, they should have the same r*i?p?f? \n",
    "(experimental set up).\n",
    "\n",
    "We want to avoid downloading data where possible, so we want to see how many of\n",
    "these files are available in /badc/ on JASMIN."
   ]
  },
  {
   "cell_type": "code",
   "execution_count": 1,
   "metadata": {},
   "outputs": [],
   "source": [
    "import sys"
   ]
  },
  {
   "cell_type": "code",
   "execution_count": 2,
   "metadata": {},
   "outputs": [],
   "source": [
    "# Import the functions\n",
    "import long_hist_functions as lh_funcs"
   ]
  },
  {
   "cell_type": "code",
   "execution_count": 3,
   "metadata": {},
   "outputs": [],
   "source": [
    "# Import dictionaries\n",
    "sys.path.append('/home/users/benhutch/skill-maps/')\n",
    "\n",
    "# Import the dictionaries\n",
    "import dictionaries as dicts"
   ]
  },
  {
   "cell_type": "code",
   "execution_count": 4,
   "metadata": {},
   "outputs": [],
   "source": [
    "# test the function\n",
    "# maybe \n",
    "df = lh_funcs.find_hist_ssp_members(\n",
    "    variables=[\"tas\"],\n",
    "    models=dicts.models,\n",
    "    fname=\"tas_ssp245_all_models.csv\",\n",
    ")"
   ]
  },
  {
   "cell_type": "code",
   "execution_count": 5,
   "metadata": {},
   "outputs": [
    {
     "data": {
      "text/html": [
       "<div>\n",
       "<style scoped>\n",
       "    .dataframe tbody tr th:only-of-type {\n",
       "        vertical-align: middle;\n",
       "    }\n",
       "\n",
       "    .dataframe tbody tr th {\n",
       "        vertical-align: top;\n",
       "    }\n",
       "\n",
       "    .dataframe thead th {\n",
       "        text-align: right;\n",
       "    }\n",
       "</style>\n",
       "<table border=\"1\" class=\"dataframe\">\n",
       "  <thead>\n",
       "    <tr style=\"text-align: right;\">\n",
       "      <th></th>\n",
       "      <th>model</th>\n",
       "      <th>variable</th>\n",
       "      <th>common_member</th>\n",
       "      <th>hist_member</th>\n",
       "      <th>ssp_member</th>\n",
       "    </tr>\n",
       "  </thead>\n",
       "  <tbody>\n",
       "    <tr>\n",
       "      <th>0</th>\n",
       "      <td>BCC-CSM2-MR</td>\n",
       "      <td>tas</td>\n",
       "      <td>r1i1p1f1</td>\n",
       "      <td>/gws/nopw/j04/canari/users/benhutch/historical...</td>\n",
       "      <td>/badc/cmip6/data/CMIP6/ScenarioMIP/BCC/BCC-CSM...</td>\n",
       "    </tr>\n",
       "    <tr>\n",
       "      <th>1</th>\n",
       "      <td>MPI-ESM1-2-HR</td>\n",
       "      <td>tas</td>\n",
       "      <td>r1i1p1f1</td>\n",
       "      <td>/gws/nopw/j04/canari/users/benhutch/historical...</td>\n",
       "      <td>/badc/cmip6/data/CMIP6/ScenarioMIP/DKRZ/MPI-ES...</td>\n",
       "    </tr>\n",
       "    <tr>\n",
       "      <th>2</th>\n",
       "      <td>MPI-ESM1-2-HR</td>\n",
       "      <td>tas</td>\n",
       "      <td>r2i1p1f1</td>\n",
       "      <td>/gws/nopw/j04/canari/users/benhutch/historical...</td>\n",
       "      <td>/badc/cmip6/data/CMIP6/ScenarioMIP/DKRZ/MPI-ES...</td>\n",
       "    </tr>\n",
       "    <tr>\n",
       "      <th>3</th>\n",
       "      <td>CanESM5</td>\n",
       "      <td>tas</td>\n",
       "      <td>r12i1p2f1</td>\n",
       "      <td>/gws/nopw/j04/canari/users/benhutch/historical...</td>\n",
       "      <td>/badc/cmip6/data/CMIP6/ScenarioMIP/CCCma/CanES...</td>\n",
       "    </tr>\n",
       "    <tr>\n",
       "      <th>4</th>\n",
       "      <td>CanESM5</td>\n",
       "      <td>tas</td>\n",
       "      <td>r11i1p2f1</td>\n",
       "      <td>/gws/nopw/j04/canari/users/benhutch/historical...</td>\n",
       "      <td>/badc/cmip6/data/CMIP6/ScenarioMIP/CCCma/CanES...</td>\n",
       "    </tr>\n",
       "  </tbody>\n",
       "</table>\n",
       "</div>"
      ],
      "text/plain": [
       "           model variable common_member  \\\n",
       "0    BCC-CSM2-MR      tas      r1i1p1f1   \n",
       "1  MPI-ESM1-2-HR      tas      r1i1p1f1   \n",
       "2  MPI-ESM1-2-HR      tas      r2i1p1f1   \n",
       "3        CanESM5      tas     r12i1p2f1   \n",
       "4        CanESM5      tas     r11i1p2f1   \n",
       "\n",
       "                                         hist_member  \\\n",
       "0  /gws/nopw/j04/canari/users/benhutch/historical...   \n",
       "1  /gws/nopw/j04/canari/users/benhutch/historical...   \n",
       "2  /gws/nopw/j04/canari/users/benhutch/historical...   \n",
       "3  /gws/nopw/j04/canari/users/benhutch/historical...   \n",
       "4  /gws/nopw/j04/canari/users/benhutch/historical...   \n",
       "\n",
       "                                          ssp_member  \n",
       "0  /badc/cmip6/data/CMIP6/ScenarioMIP/BCC/BCC-CSM...  \n",
       "1  /badc/cmip6/data/CMIP6/ScenarioMIP/DKRZ/MPI-ES...  \n",
       "2  /badc/cmip6/data/CMIP6/ScenarioMIP/DKRZ/MPI-ES...  \n",
       "3  /badc/cmip6/data/CMIP6/ScenarioMIP/CCCma/CanES...  \n",
       "4  /badc/cmip6/data/CMIP6/ScenarioMIP/CCCma/CanES...  "
      ]
     },
     "execution_count": 5,
     "metadata": {},
     "output_type": "execute_result"
    }
   ],
   "source": [
    "df.head()"
   ]
  },
  {
   "cell_type": "code",
   "execution_count": 6,
   "metadata": {
    "collapsed": true,
    "jupyter": {
     "outputs_hidden": true
    }
   },
   "outputs": [
    {
     "name": "stderr",
     "output_type": "stream",
     "text": [
      "  0%|          | 0/9 [00:00<?, ?it/s]"
     ]
    },
    {
     "name": "stdout",
     "output_type": "stream",
     "text": [
      "common_members ['r1i1p1f1'] for BCC-CSM2-MR\n"
     ]
    },
    {
     "name": "stderr",
     "output_type": "stream",
     "text": [
      "\n",
      "1it [00:00, 22.75it/s]\n"
     ]
    },
    {
     "name": "stdout",
     "output_type": "stream",
     "text": [
      "/work/scratch-nopw2/benhutch/tas/BCC-CSM2-MR/global/ssp245/tas_Amon_BCC-CSM2-MR_ssp245_r1i1p1f1_gn_201501-210012_regrid.nc exists\n",
      "common_members ['r1i1p1f1' 'r2i1p1f1'] for MPI-ESM1-2-HR\n"
     ]
    },
    {
     "name": "stderr",
     "output_type": "stream",
     "text": [
      "\n",
      "2it [00:00, 33.89it/s]\n",
      " 22%|██▏       | 2/9 [00:00<00:00, 16.81it/s]"
     ]
    },
    {
     "name": "stdout",
     "output_type": "stream",
     "text": [
      "merging ['/badc/cmip6/data/CMIP6/ScenarioMIP/DKRZ/MPI-ESM1-2-HR/ssp245/r1i1p1f1/Amon/tas/gn/files/d20190710/tas_Amon_MPI-ESM1-2-HR_ssp245_r1i1p1f1_gn_201501-201912.nc', '/badc/cmip6/data/CMIP6/ScenarioMIP/DKRZ/MPI-ESM1-2-HR/ssp245/r1i1p1f1/Amon/tas/gn/files/d20190710/tas_Amon_MPI-ESM1-2-HR_ssp245_r1i1p1f1_gn_202001-202412.nc', '/badc/cmip6/data/CMIP6/ScenarioMIP/DKRZ/MPI-ESM1-2-HR/ssp245/r1i1p1f1/Amon/tas/gn/files/d20190710/tas_Amon_MPI-ESM1-2-HR_ssp245_r1i1p1f1_gn_202501-202912.nc', '/badc/cmip6/data/CMIP6/ScenarioMIP/DKRZ/MPI-ESM1-2-HR/ssp245/r1i1p1f1/Amon/tas/gn/files/d20190710/tas_Amon_MPI-ESM1-2-HR_ssp245_r1i1p1f1_gn_203001-203412.nc', '/badc/cmip6/data/CMIP6/ScenarioMIP/DKRZ/MPI-ESM1-2-HR/ssp245/r1i1p1f1/Amon/tas/gn/files/d20190710/tas_Amon_MPI-ESM1-2-HR_ssp245_r1i1p1f1_gn_203501-203912.nc', '/badc/cmip6/data/CMIP6/ScenarioMIP/DKRZ/MPI-ESM1-2-HR/ssp245/r1i1p1f1/Amon/tas/gn/files/d20190710/tas_Amon_MPI-ESM1-2-HR_ssp245_r1i1p1f1_gn_204001-204412.nc', '/badc/cmip6/data/CMIP6/ScenarioMIP/DKRZ/MPI-ESM1-2-HR/ssp245/r1i1p1f1/Amon/tas/gn/files/d20190710/tas_Amon_MPI-ESM1-2-HR_ssp245_r1i1p1f1_gn_204501-204912.nc', '/badc/cmip6/data/CMIP6/ScenarioMIP/DKRZ/MPI-ESM1-2-HR/ssp245/r1i1p1f1/Amon/tas/gn/files/d20190710/tas_Amon_MPI-ESM1-2-HR_ssp245_r1i1p1f1_gn_205001-205412.nc', '/badc/cmip6/data/CMIP6/ScenarioMIP/DKRZ/MPI-ESM1-2-HR/ssp245/r1i1p1f1/Amon/tas/gn/files/d20190710/tas_Amon_MPI-ESM1-2-HR_ssp245_r1i1p1f1_gn_205501-205912.nc', '/badc/cmip6/data/CMIP6/ScenarioMIP/DKRZ/MPI-ESM1-2-HR/ssp245/r1i1p1f1/Amon/tas/gn/files/d20190710/tas_Amon_MPI-ESM1-2-HR_ssp245_r1i1p1f1_gn_206001-206412.nc']\n",
      "merging ['/badc/cmip6/data/CMIP6/ScenarioMIP/DKRZ/MPI-ESM1-2-HR/ssp245/r2i1p1f1/Amon/tas/gn/files/d20190710/tas_Amon_MPI-ESM1-2-HR_ssp245_r2i1p1f1_gn_201501-201912.nc', '/badc/cmip6/data/CMIP6/ScenarioMIP/DKRZ/MPI-ESM1-2-HR/ssp245/r2i1p1f1/Amon/tas/gn/files/d20190710/tas_Amon_MPI-ESM1-2-HR_ssp245_r2i1p1f1_gn_202001-202412.nc', '/badc/cmip6/data/CMIP6/ScenarioMIP/DKRZ/MPI-ESM1-2-HR/ssp245/r2i1p1f1/Amon/tas/gn/files/d20190710/tas_Amon_MPI-ESM1-2-HR_ssp245_r2i1p1f1_gn_202501-202912.nc', '/badc/cmip6/data/CMIP6/ScenarioMIP/DKRZ/MPI-ESM1-2-HR/ssp245/r2i1p1f1/Amon/tas/gn/files/d20190710/tas_Amon_MPI-ESM1-2-HR_ssp245_r2i1p1f1_gn_203001-203412.nc', '/badc/cmip6/data/CMIP6/ScenarioMIP/DKRZ/MPI-ESM1-2-HR/ssp245/r2i1p1f1/Amon/tas/gn/files/d20190710/tas_Amon_MPI-ESM1-2-HR_ssp245_r2i1p1f1_gn_203501-203912.nc', '/badc/cmip6/data/CMIP6/ScenarioMIP/DKRZ/MPI-ESM1-2-HR/ssp245/r2i1p1f1/Amon/tas/gn/files/d20190710/tas_Amon_MPI-ESM1-2-HR_ssp245_r2i1p1f1_gn_204001-204412.nc', '/badc/cmip6/data/CMIP6/ScenarioMIP/DKRZ/MPI-ESM1-2-HR/ssp245/r2i1p1f1/Amon/tas/gn/files/d20190710/tas_Amon_MPI-ESM1-2-HR_ssp245_r2i1p1f1_gn_204501-204912.nc', '/badc/cmip6/data/CMIP6/ScenarioMIP/DKRZ/MPI-ESM1-2-HR/ssp245/r2i1p1f1/Amon/tas/gn/files/d20190710/tas_Amon_MPI-ESM1-2-HR_ssp245_r2i1p1f1_gn_205001-205412.nc', '/badc/cmip6/data/CMIP6/ScenarioMIP/DKRZ/MPI-ESM1-2-HR/ssp245/r2i1p1f1/Amon/tas/gn/files/d20190710/tas_Amon_MPI-ESM1-2-HR_ssp245_r2i1p1f1_gn_205501-205912.nc', '/badc/cmip6/data/CMIP6/ScenarioMIP/DKRZ/MPI-ESM1-2-HR/ssp245/r2i1p1f1/Amon/tas/gn/files/d20190710/tas_Amon_MPI-ESM1-2-HR_ssp245_r2i1p1f1_gn_206001-206412.nc']\n",
      "common_members ['r12i1p2f1' 'r11i1p2f1' 'r17i1p1f1' 'r22i1p2f1' 'r10i1p1f1' 'r8i1p2f1'\n",
      " 'r15i1p2f1' 'r22i1p1f1' 'r25i1p1f1' 'r24i1p2f1' 'r7i1p1f1' 'r16i1p1f1'\n",
      " 'r15i1p1f1' 'r21i1p2f1' 'r25i1p2f1' 'r13i1p1f1' 'r3i1p1f1' 'r14i1p2f1'\n",
      " 'r19i1p2f1' 'r2i1p2f1' 'r18i1p2f1' 'r18i1p1f1' 'r1i1p2f1' 'r12i1p1f1'\n",
      " 'r4i1p1f1' 'r14i1p1f1' 'r20i1p2f1' 'r24i1p1f1' 'r8i1p1f1' 'r13i1p2f1'\n",
      " 'r3i1p2f1' 'r2i1p1f1' 'r1i1p1f1' 'r16i1p2f1' 'r4i1p2f1' 'r5i1p2f1'\n",
      " 'r21i1p1f1' 'r23i1p1f1' 'r7i1p2f1' 'r6i1p1f1' 'r10i1p2f1' 'r9i1p1f1'\n",
      " 'r5i1p1f1' 'r23i1p2f1' 'r19i1p1f1' 'r17i1p2f1' 'r20i1p1f1' 'r9i1p2f1'\n",
      " 'r6i1p2f1' 'r11i1p1f1'] for CanESM5\n"
     ]
    },
    {
     "name": "stderr",
     "output_type": "stream",
     "text": [
      "\n",
      "0it [00:00, ?it/s]\u001b[A"
     ]
    },
    {
     "name": "stdout",
     "output_type": "stream",
     "text": [
      "/work/scratch-nopw2/benhutch/tas/CanESM5/global/ssp245/tas_Amon_CanESM5_ssp245_r12i1p2f1_gn_201501-210012_regrid.nc exists\n",
      "/work/scratch-nopw2/benhutch/tas/CanESM5/global/ssp245/tas_Amon_CanESM5_ssp245_r11i1p2f1_gn_201501-210012_regrid.nc exists\n",
      "/work/scratch-nopw2/benhutch/tas/CanESM5/global/ssp245/tas_Amon_CanESM5_ssp245_r17i1p1f1_gn_201501-210012_regrid.nc exists\n",
      "/work/scratch-nopw2/benhutch/tas/CanESM5/global/ssp245/tas_Amon_CanESM5_ssp245_r22i1p2f1_gn_201501-210012_regrid.nc exists\n",
      "/work/scratch-nopw2/benhutch/tas/CanESM5/global/ssp245/tas_Amon_CanESM5_ssp245_r10i1p1f1_gn_201501-210012_regrid.nc exists\n",
      "/work/scratch-nopw2/benhutch/tas/CanESM5/global/ssp245/tas_Amon_CanESM5_ssp245_r8i1p2f1_gn_201501-210012_regrid.nc exists\n",
      "/work/scratch-nopw2/benhutch/tas/CanESM5/global/ssp245/tas_Amon_CanESM5_ssp245_r15i1p2f1_gn_201501-210012_regrid.nc exists\n",
      "/work/scratch-nopw2/benhutch/tas/CanESM5/global/ssp245/tas_Amon_CanESM5_ssp245_r22i1p1f1_gn_201501-210012_regrid.nc exists\n",
      "/work/scratch-nopw2/benhutch/tas/CanESM5/global/ssp245/tas_Amon_CanESM5_ssp245_r25i1p1f1_gn_201501-210012_regrid.nc exists\n",
      "/work/scratch-nopw2/benhutch/tas/CanESM5/global/ssp245/tas_Amon_CanESM5_ssp245_r24i1p2f1_gn_201501-210012_regrid.nc exists\n",
      "/work/scratch-nopw2/benhutch/tas/CanESM5/global/ssp245/tas_Amon_CanESM5_ssp245_r7i1p1f1_gn_201501-210012_regrid.nc exists\n",
      "/work/scratch-nopw2/benhutch/tas/CanESM5/global/ssp245/tas_Amon_CanESM5_ssp245_r16i1p1f1_gn_201501-210012_regrid.nc exists\n",
      "/work/scratch-nopw2/benhutch/tas/CanESM5/global/ssp245/tas_Amon_CanESM5_ssp245_r15i1p1f1_gn_201501-210012_regrid.nc exists\n",
      "/work/scratch-nopw2/benhutch/tas/CanESM5/global/ssp245/tas_Amon_CanESM5_ssp245_r21i1p2f1_gn_201501-210012_regrid.nc exists\n",
      "/work/scratch-nopw2/benhutch/tas/CanESM5/global/ssp245/tas_Amon_CanESM5_ssp245_r25i1p2f1_gn_201501-210012_regrid.nc exists\n",
      "/work/scratch-nopw2/benhutch/tas/CanESM5/global/ssp245/tas_Amon_CanESM5_ssp245_r13i1p1f1_gn_201501-210012_regrid.nc exists\n"
     ]
    },
    {
     "name": "stderr",
     "output_type": "stream",
     "text": [
      "\n",
      "23it [00:00, 226.93it/s]\u001b[A"
     ]
    },
    {
     "name": "stdout",
     "output_type": "stream",
     "text": [
      "/work/scratch-nopw2/benhutch/tas/CanESM5/global/ssp245/tas_Amon_CanESM5_ssp245_r3i1p1f1_gn_201501-210012_regrid.nc exists\n",
      "/work/scratch-nopw2/benhutch/tas/CanESM5/global/ssp245/tas_Amon_CanESM5_ssp245_r14i1p2f1_gn_201501-210012_regrid.nc exists\n",
      "/work/scratch-nopw2/benhutch/tas/CanESM5/global/ssp245/tas_Amon_CanESM5_ssp245_r19i1p2f1_gn_201501-210012_regrid.nc exists\n",
      "/work/scratch-nopw2/benhutch/tas/CanESM5/global/ssp245/tas_Amon_CanESM5_ssp245_r2i1p2f1_gn_201501-210012_regrid.nc exists\n",
      "/work/scratch-nopw2/benhutch/tas/CanESM5/global/ssp245/tas_Amon_CanESM5_ssp245_r18i1p2f1_gn_201501-210012_regrid.nc exists\n",
      "/work/scratch-nopw2/benhutch/tas/CanESM5/global/ssp245/tas_Amon_CanESM5_ssp245_r18i1p1f1_gn_201501-210012_regrid.nc exists\n",
      "/work/scratch-nopw2/benhutch/tas/CanESM5/global/ssp245/tas_Amon_CanESM5_ssp245_r1i1p2f1_gn_201501-210012_regrid.nc exists\n",
      "/work/scratch-nopw2/benhutch/tas/CanESM5/global/ssp245/tas_Amon_CanESM5_ssp245_r12i1p1f1_gn_201501-210012_regrid.nc exists\n",
      "/work/scratch-nopw2/benhutch/tas/CanESM5/global/ssp245/tas_Amon_CanESM5_ssp245_r4i1p1f1_gn_201501-210012_regrid.nc exists\n",
      "/work/scratch-nopw2/benhutch/tas/CanESM5/global/ssp245/tas_Amon_CanESM5_ssp245_r14i1p1f1_gn_201501-210012_regrid.nc exists\n",
      "/work/scratch-nopw2/benhutch/tas/CanESM5/global/ssp245/tas_Amon_CanESM5_ssp245_r20i1p2f1_gn_201501-210012_regrid.nc exists\n",
      "/work/scratch-nopw2/benhutch/tas/CanESM5/global/ssp245/tas_Amon_CanESM5_ssp245_r24i1p1f1_gn_201501-210012_regrid.nc exists\n",
      "/work/scratch-nopw2/benhutch/tas/CanESM5/global/ssp245/tas_Amon_CanESM5_ssp245_r8i1p1f1_gn_201501-210012_regrid.nc exists\n",
      "/work/scratch-nopw2/benhutch/tas/CanESM5/global/ssp245/tas_Amon_CanESM5_ssp245_r13i1p2f1_gn_201501-210012_regrid.nc exists\n",
      "/work/scratch-nopw2/benhutch/tas/CanESM5/global/ssp245/tas_Amon_CanESM5_ssp245_r3i1p2f1_gn_201501-210012_regrid.nc exists\n",
      "/work/scratch-nopw2/benhutch/tas/CanESM5/global/ssp245/tas_Amon_CanESM5_ssp245_r2i1p1f1_gn_201501-210012_regrid.nc exists\n",
      "/work/scratch-nopw2/benhutch/tas/CanESM5/global/ssp245/tas_Amon_CanESM5_ssp245_r1i1p1f1_gn_201501-210012_regrid.nc exists\n",
      "/work/scratch-nopw2/benhutch/tas/CanESM5/global/ssp245/tas_Amon_CanESM5_ssp245_r16i1p2f1_gn_201501-210012_regrid.nc exists\n",
      "/work/scratch-nopw2/benhutch/tas/CanESM5/global/ssp245/tas_Amon_CanESM5_ssp245_r4i1p2f1_gn_201501-210012_regrid.nc exists\n"
     ]
    },
    {
     "name": "stderr",
     "output_type": "stream",
     "text": [
      "\n",
      "50it [00:00, 242.09it/s]\u001b[A\n"
     ]
    },
    {
     "name": "stdout",
     "output_type": "stream",
     "text": [
      "/work/scratch-nopw2/benhutch/tas/CanESM5/global/ssp245/tas_Amon_CanESM5_ssp245_r5i1p2f1_gn_201501-210012_regrid.nc exists\n",
      "/work/scratch-nopw2/benhutch/tas/CanESM5/global/ssp245/tas_Amon_CanESM5_ssp245_r21i1p1f1_gn_201501-210012_regrid.nc exists\n",
      "/work/scratch-nopw2/benhutch/tas/CanESM5/global/ssp245/tas_Amon_CanESM5_ssp245_r23i1p1f1_gn_201501-210012_regrid.nc exists\n",
      "/work/scratch-nopw2/benhutch/tas/CanESM5/global/ssp245/tas_Amon_CanESM5_ssp245_r7i1p2f1_gn_201501-210012_regrid.nc exists\n",
      "/work/scratch-nopw2/benhutch/tas/CanESM5/global/ssp245/tas_Amon_CanESM5_ssp245_r6i1p1f1_gn_201501-210012_regrid.nc exists\n",
      "/work/scratch-nopw2/benhutch/tas/CanESM5/global/ssp245/tas_Amon_CanESM5_ssp245_r10i1p2f1_gn_201501-210012_regrid.nc exists\n",
      "/work/scratch-nopw2/benhutch/tas/CanESM5/global/ssp245/tas_Amon_CanESM5_ssp245_r9i1p1f1_gn_201501-210012_regrid.nc exists\n",
      "/work/scratch-nopw2/benhutch/tas/CanESM5/global/ssp245/tas_Amon_CanESM5_ssp245_r5i1p1f1_gn_201501-210012_regrid.nc exists\n",
      "/work/scratch-nopw2/benhutch/tas/CanESM5/global/ssp245/tas_Amon_CanESM5_ssp245_r23i1p2f1_gn_201501-210012_regrid.nc exists\n",
      "/work/scratch-nopw2/benhutch/tas/CanESM5/global/ssp245/tas_Amon_CanESM5_ssp245_r19i1p1f1_gn_201501-210012_regrid.nc exists\n",
      "/work/scratch-nopw2/benhutch/tas/CanESM5/global/ssp245/tas_Amon_CanESM5_ssp245_r17i1p2f1_gn_201501-210012_regrid.nc exists\n",
      "/work/scratch-nopw2/benhutch/tas/CanESM5/global/ssp245/tas_Amon_CanESM5_ssp245_r20i1p1f1_gn_201501-210012_regrid.nc exists\n",
      "/work/scratch-nopw2/benhutch/tas/CanESM5/global/ssp245/tas_Amon_CanESM5_ssp245_r9i1p2f1_gn_201501-210012_regrid.nc exists\n",
      "/work/scratch-nopw2/benhutch/tas/CanESM5/global/ssp245/tas_Amon_CanESM5_ssp245_r6i1p2f1_gn_201501-210012_regrid.nc exists\n",
      "/work/scratch-nopw2/benhutch/tas/CanESM5/global/ssp245/tas_Amon_CanESM5_ssp245_r11i1p1f1_gn_201501-210012_regrid.nc exists\n",
      "common_members ['r1i1p1f1'] for CMCC-CM2-SR5\n"
     ]
    },
    {
     "name": "stderr",
     "output_type": "stream",
     "text": [
      "\n",
      "1it [00:00, 53.03it/s]\n",
      " 44%|████▍     | 4/9 [00:00<00:00, 10.59it/s]"
     ]
    },
    {
     "name": "stdout",
     "output_type": "stream",
     "text": [
      "/work/scratch-nopw2/benhutch/tas/CMCC-CM2-SR5/global/ssp245/tas_Amon_CMCC-CM2-SR5_ssp245_r1i1p1f1_gn_201501-210012_regrid.nc exists\n",
      "common_members ['r116i1p1f1' 'r114i1p1f1' 'r138i1p1f1' 'r122i1p1f1' 'r103i1p1f1'\n",
      " 'r101i1p1f1' 'r127i1p1f1' 'r142i1p1f1' 'r104i1p1f1' 'r129i1p1f1'\n",
      " 'r105i1p1f1' 'r135i1p1f1' 'r144i1p1f1' 'r146i1p1f1' 'r109i1p1f1'\n",
      " 'r119i1p1f1' 'r136i1p1f1' 'r141i1p1f1' 'r117i1p1f1' 'r143i1p1f1'\n",
      " 'r107i1p1f1' 'r112i1p1f1' 'r120i1p1f1' 'r150i1p1f1' 'r147i1p1f1'\n",
      " 'r113i1p1f1' 'r128i1p1f1' 'r110i1p1f1' 'r145i1p1f1' 'r106i1p1f1'\n",
      " 'r137i1p1f1' 'r133i1p1f1' 'r149i1p1f1' 'r108i1p1f1' 'r124i1p1f1'\n",
      " 'r131i1p1f1' 'r132i1p1f1' 'r140i1p1f1' 'r130i1p1f1' 'r148i1p1f1'\n",
      " 'r115i1p1f1' 'r118i1p1f1' 'r111i1p1f1' 'r102i1p1f1' 'r123i1p1f1'\n",
      " 'r134i1p1f1' 'r139i1p1f1' 'r126i1p1f1' 'r121i1p1f1' 'r125i1p1f1'] for EC-Earth3\n"
     ]
    },
    {
     "name": "stderr",
     "output_type": "stream",
     "text": [
      "\n",
      "0it [00:00, ?it/s]\u001b[A"
     ]
    },
    {
     "name": "stdout",
     "output_type": "stream",
     "text": [
      "merging ['/badc/cmip6/data/CMIP6/ScenarioMIP/EC-Earth-Consortium/EC-Earth3/ssp245/r116i1p1f1/Amon/tas/gr/files/d20210401/tas_Amon_EC-Earth3_ssp245_r116i1p1f1_gr_201501-201512.nc', '/badc/cmip6/data/CMIP6/ScenarioMIP/EC-Earth-Consortium/EC-Earth3/ssp245/r116i1p1f1/Amon/tas/gr/files/d20210401/tas_Amon_EC-Earth3_ssp245_r116i1p1f1_gr_201601-201612.nc', '/badc/cmip6/data/CMIP6/ScenarioMIP/EC-Earth-Consortium/EC-Earth3/ssp245/r116i1p1f1/Amon/tas/gr/files/d20210401/tas_Amon_EC-Earth3_ssp245_r116i1p1f1_gr_201701-201712.nc', '/badc/cmip6/data/CMIP6/ScenarioMIP/EC-Earth-Consortium/EC-Earth3/ssp245/r116i1p1f1/Amon/tas/gr/files/d20210401/tas_Amon_EC-Earth3_ssp245_r116i1p1f1_gr_201801-201812.nc', '/badc/cmip6/data/CMIP6/ScenarioMIP/EC-Earth-Consortium/EC-Earth3/ssp245/r116i1p1f1/Amon/tas/gr/files/d20210401/tas_Amon_EC-Earth3_ssp245_r116i1p1f1_gr_201901-201912.nc', '/badc/cmip6/data/CMIP6/ScenarioMIP/EC-Earth-Consortium/EC-Earth3/ssp245/r116i1p1f1/Amon/tas/gr/files/d20210401/tas_Amon_EC-Earth3_ssp245_r116i1p1f1_gr_202001-202012.nc', '/badc/cmip6/data/CMIP6/ScenarioMIP/EC-Earth-Consortium/EC-Earth3/ssp245/r116i1p1f1/Amon/tas/gr/files/d20210401/tas_Amon_EC-Earth3_ssp245_r116i1p1f1_gr_202101-202112.nc', '/badc/cmip6/data/CMIP6/ScenarioMIP/EC-Earth-Consortium/EC-Earth3/ssp245/r116i1p1f1/Amon/tas/gr/files/d20210401/tas_Amon_EC-Earth3_ssp245_r116i1p1f1_gr_202201-202212.nc', '/badc/cmip6/data/CMIP6/ScenarioMIP/EC-Earth-Consortium/EC-Earth3/ssp245/r116i1p1f1/Amon/tas/gr/files/d20210401/tas_Amon_EC-Earth3_ssp245_r116i1p1f1_gr_202301-202312.nc', '/badc/cmip6/data/CMIP6/ScenarioMIP/EC-Earth-Consortium/EC-Earth3/ssp245/r116i1p1f1/Amon/tas/gr/files/d20210401/tas_Amon_EC-Earth3_ssp245_r116i1p1f1_gr_202401-202412.nc']\n",
      "merging ['/badc/cmip6/data/CMIP6/ScenarioMIP/EC-Earth-Consortium/EC-Earth3/ssp245/r114i1p1f1/Amon/tas/gr/files/d20210401/tas_Amon_EC-Earth3_ssp245_r114i1p1f1_gr_201501-201512.nc', '/badc/cmip6/data/CMIP6/ScenarioMIP/EC-Earth-Consortium/EC-Earth3/ssp245/r114i1p1f1/Amon/tas/gr/files/d20210401/tas_Amon_EC-Earth3_ssp245_r114i1p1f1_gr_201601-201612.nc', '/badc/cmip6/data/CMIP6/ScenarioMIP/EC-Earth-Consortium/EC-Earth3/ssp245/r114i1p1f1/Amon/tas/gr/files/d20210401/tas_Amon_EC-Earth3_ssp245_r114i1p1f1_gr_201701-201712.nc', '/badc/cmip6/data/CMIP6/ScenarioMIP/EC-Earth-Consortium/EC-Earth3/ssp245/r114i1p1f1/Amon/tas/gr/files/d20210401/tas_Amon_EC-Earth3_ssp245_r114i1p1f1_gr_201801-201812.nc', '/badc/cmip6/data/CMIP6/ScenarioMIP/EC-Earth-Consortium/EC-Earth3/ssp245/r114i1p1f1/Amon/tas/gr/files/d20210401/tas_Amon_EC-Earth3_ssp245_r114i1p1f1_gr_201901-201912.nc', '/badc/cmip6/data/CMIP6/ScenarioMIP/EC-Earth-Consortium/EC-Earth3/ssp245/r114i1p1f1/Amon/tas/gr/files/d20210401/tas_Amon_EC-Earth3_ssp245_r114i1p1f1_gr_202001-202012.nc', '/badc/cmip6/data/CMIP6/ScenarioMIP/EC-Earth-Consortium/EC-Earth3/ssp245/r114i1p1f1/Amon/tas/gr/files/d20210401/tas_Amon_EC-Earth3_ssp245_r114i1p1f1_gr_202101-202112.nc', '/badc/cmip6/data/CMIP6/ScenarioMIP/EC-Earth-Consortium/EC-Earth3/ssp245/r114i1p1f1/Amon/tas/gr/files/d20210401/tas_Amon_EC-Earth3_ssp245_r114i1p1f1_gr_202201-202212.nc', '/badc/cmip6/data/CMIP6/ScenarioMIP/EC-Earth-Consortium/EC-Earth3/ssp245/r114i1p1f1/Amon/tas/gr/files/d20210401/tas_Amon_EC-Earth3_ssp245_r114i1p1f1_gr_202301-202312.nc', '/badc/cmip6/data/CMIP6/ScenarioMIP/EC-Earth-Consortium/EC-Earth3/ssp245/r114i1p1f1/Amon/tas/gr/files/d20210401/tas_Amon_EC-Earth3_ssp245_r114i1p1f1_gr_202401-202412.nc']\n",
      "merging ['/badc/cmip6/data/CMIP6/ScenarioMIP/EC-Earth-Consortium/EC-Earth3/ssp245/r138i1p1f1/Amon/tas/gr/files/d20210401/tas_Amon_EC-Earth3_ssp245_r138i1p1f1_gr_201501-201512.nc', '/badc/cmip6/data/CMIP6/ScenarioMIP/EC-Earth-Consortium/EC-Earth3/ssp245/r138i1p1f1/Amon/tas/gr/files/d20210401/tas_Amon_EC-Earth3_ssp245_r138i1p1f1_gr_201601-201612.nc', '/badc/cmip6/data/CMIP6/ScenarioMIP/EC-Earth-Consortium/EC-Earth3/ssp245/r138i1p1f1/Amon/tas/gr/files/d20210401/tas_Amon_EC-Earth3_ssp245_r138i1p1f1_gr_201701-201712.nc', '/badc/cmip6/data/CMIP6/ScenarioMIP/EC-Earth-Consortium/EC-Earth3/ssp245/r138i1p1f1/Amon/tas/gr/files/d20210401/tas_Amon_EC-Earth3_ssp245_r138i1p1f1_gr_201801-201812.nc', '/badc/cmip6/data/CMIP6/ScenarioMIP/EC-Earth-Consortium/EC-Earth3/ssp245/r138i1p1f1/Amon/tas/gr/files/d20210401/tas_Amon_EC-Earth3_ssp245_r138i1p1f1_gr_201901-201912.nc', '/badc/cmip6/data/CMIP6/ScenarioMIP/EC-Earth-Consortium/EC-Earth3/ssp245/r138i1p1f1/Amon/tas/gr/files/d20210401/tas_Amon_EC-Earth3_ssp245_r138i1p1f1_gr_202001-202012.nc', '/badc/cmip6/data/CMIP6/ScenarioMIP/EC-Earth-Consortium/EC-Earth3/ssp245/r138i1p1f1/Amon/tas/gr/files/d20210401/tas_Amon_EC-Earth3_ssp245_r138i1p1f1_gr_202101-202112.nc', '/badc/cmip6/data/CMIP6/ScenarioMIP/EC-Earth-Consortium/EC-Earth3/ssp245/r138i1p1f1/Amon/tas/gr/files/d20210401/tas_Amon_EC-Earth3_ssp245_r138i1p1f1_gr_202201-202212.nc', '/badc/cmip6/data/CMIP6/ScenarioMIP/EC-Earth-Consortium/EC-Earth3/ssp245/r138i1p1f1/Amon/tas/gr/files/d20210401/tas_Amon_EC-Earth3_ssp245_r138i1p1f1_gr_202301-202312.nc', '/badc/cmip6/data/CMIP6/ScenarioMIP/EC-Earth-Consortium/EC-Earth3/ssp245/r138i1p1f1/Amon/tas/gr/files/d20210401/tas_Amon_EC-Earth3_ssp245_r138i1p1f1_gr_202401-202412.nc']\n",
      "merging ['/badc/cmip6/data/CMIP6/ScenarioMIP/EC-Earth-Consortium/EC-Earth3/ssp245/r122i1p1f1/Amon/tas/gr/files/d20210401/tas_Amon_EC-Earth3_ssp245_r122i1p1f1_gr_201501-201512.nc', '/badc/cmip6/data/CMIP6/ScenarioMIP/EC-Earth-Consortium/EC-Earth3/ssp245/r122i1p1f1/Amon/tas/gr/files/d20210401/tas_Amon_EC-Earth3_ssp245_r122i1p1f1_gr_201601-201612.nc', '/badc/cmip6/data/CMIP6/ScenarioMIP/EC-Earth-Consortium/EC-Earth3/ssp245/r122i1p1f1/Amon/tas/gr/files/d20210401/tas_Amon_EC-Earth3_ssp245_r122i1p1f1_gr_201701-201712.nc', '/badc/cmip6/data/CMIP6/ScenarioMIP/EC-Earth-Consortium/EC-Earth3/ssp245/r122i1p1f1/Amon/tas/gr/files/d20210401/tas_Amon_EC-Earth3_ssp245_r122i1p1f1_gr_201801-201812.nc', '/badc/cmip6/data/CMIP6/ScenarioMIP/EC-Earth-Consortium/EC-Earth3/ssp245/r122i1p1f1/Amon/tas/gr/files/d20210401/tas_Amon_EC-Earth3_ssp245_r122i1p1f1_gr_201901-201912.nc', '/badc/cmip6/data/CMIP6/ScenarioMIP/EC-Earth-Consortium/EC-Earth3/ssp245/r122i1p1f1/Amon/tas/gr/files/d20210401/tas_Amon_EC-Earth3_ssp245_r122i1p1f1_gr_202001-202012.nc', '/badc/cmip6/data/CMIP6/ScenarioMIP/EC-Earth-Consortium/EC-Earth3/ssp245/r122i1p1f1/Amon/tas/gr/files/d20210401/tas_Amon_EC-Earth3_ssp245_r122i1p1f1_gr_202101-202112.nc', '/badc/cmip6/data/CMIP6/ScenarioMIP/EC-Earth-Consortium/EC-Earth3/ssp245/r122i1p1f1/Amon/tas/gr/files/d20210401/tas_Amon_EC-Earth3_ssp245_r122i1p1f1_gr_202201-202212.nc', '/badc/cmip6/data/CMIP6/ScenarioMIP/EC-Earth-Consortium/EC-Earth3/ssp245/r122i1p1f1/Amon/tas/gr/files/d20210401/tas_Amon_EC-Earth3_ssp245_r122i1p1f1_gr_202301-202312.nc', '/badc/cmip6/data/CMIP6/ScenarioMIP/EC-Earth-Consortium/EC-Earth3/ssp245/r122i1p1f1/Amon/tas/gr/files/d20210401/tas_Amon_EC-Earth3_ssp245_r122i1p1f1_gr_202401-202412.nc']\n",
      "merging ['/badc/cmip6/data/CMIP6/ScenarioMIP/EC-Earth-Consortium/EC-Earth3/ssp245/r103i1p1f1/Amon/tas/gr/files/d20210401/tas_Amon_EC-Earth3_ssp245_r103i1p1f1_gr_201501-201512.nc', '/badc/cmip6/data/CMIP6/ScenarioMIP/EC-Earth-Consortium/EC-Earth3/ssp245/r103i1p1f1/Amon/tas/gr/files/d20210401/tas_Amon_EC-Earth3_ssp245_r103i1p1f1_gr_201601-201612.nc', '/badc/cmip6/data/CMIP6/ScenarioMIP/EC-Earth-Consortium/EC-Earth3/ssp245/r103i1p1f1/Amon/tas/gr/files/d20210401/tas_Amon_EC-Earth3_ssp245_r103i1p1f1_gr_201701-201712.nc', '/badc/cmip6/data/CMIP6/ScenarioMIP/EC-Earth-Consortium/EC-Earth3/ssp245/r103i1p1f1/Amon/tas/gr/files/d20210401/tas_Amon_EC-Earth3_ssp245_r103i1p1f1_gr_201801-201812.nc', '/badc/cmip6/data/CMIP6/ScenarioMIP/EC-Earth-Consortium/EC-Earth3/ssp245/r103i1p1f1/Amon/tas/gr/files/d20210401/tas_Amon_EC-Earth3_ssp245_r103i1p1f1_gr_201901-201912.nc', '/badc/cmip6/data/CMIP6/ScenarioMIP/EC-Earth-Consortium/EC-Earth3/ssp245/r103i1p1f1/Amon/tas/gr/files/d20210401/tas_Amon_EC-Earth3_ssp245_r103i1p1f1_gr_202001-202012.nc', '/badc/cmip6/data/CMIP6/ScenarioMIP/EC-Earth-Consortium/EC-Earth3/ssp245/r103i1p1f1/Amon/tas/gr/files/d20210401/tas_Amon_EC-Earth3_ssp245_r103i1p1f1_gr_202101-202112.nc', '/badc/cmip6/data/CMIP6/ScenarioMIP/EC-Earth-Consortium/EC-Earth3/ssp245/r103i1p1f1/Amon/tas/gr/files/d20210401/tas_Amon_EC-Earth3_ssp245_r103i1p1f1_gr_202201-202212.nc', '/badc/cmip6/data/CMIP6/ScenarioMIP/EC-Earth-Consortium/EC-Earth3/ssp245/r103i1p1f1/Amon/tas/gr/files/d20210401/tas_Amon_EC-Earth3_ssp245_r103i1p1f1_gr_202301-202312.nc', '/badc/cmip6/data/CMIP6/ScenarioMIP/EC-Earth-Consortium/EC-Earth3/ssp245/r103i1p1f1/Amon/tas/gr/files/d20210401/tas_Amon_EC-Earth3_ssp245_r103i1p1f1_gr_202401-202412.nc']\n"
     ]
    },
    {
     "name": "stderr",
     "output_type": "stream",
     "text": [
      "\n"
     ]
    },
    {
     "name": "stdout",
     "output_type": "stream",
     "text": [
      "merging ['/badc/cmip6/data/CMIP6/ScenarioMIP/EC-Earth-Consortium/EC-Earth3/ssp245/r101i1p1f1/Amon/tas/gr/files/d20210401/tas_Amon_EC-Earth3_ssp245_r101i1p1f1_gr_201501-201512.nc', '/badc/cmip6/data/CMIP6/ScenarioMIP/EC-Earth-Consortium/EC-Earth3/ssp245/r101i1p1f1/Amon/tas/gr/files/d20210401/tas_Amon_EC-Earth3_ssp245_r101i1p1f1_gr_201601-201612.nc', '/badc/cmip6/data/CMIP6/ScenarioMIP/EC-Earth-Consortium/EC-Earth3/ssp245/r101i1p1f1/Amon/tas/gr/files/d20210401/tas_Amon_EC-Earth3_ssp245_r101i1p1f1_gr_201701-201712.nc', '/badc/cmip6/data/CMIP6/ScenarioMIP/EC-Earth-Consortium/EC-Earth3/ssp245/r101i1p1f1/Amon/tas/gr/files/d20210401/tas_Amon_EC-Earth3_ssp245_r101i1p1f1_gr_201801-201812.nc', '/badc/cmip6/data/CMIP6/ScenarioMIP/EC-Earth-Consortium/EC-Earth3/ssp245/r101i1p1f1/Amon/tas/gr/files/d20210401/tas_Amon_EC-Earth3_ssp245_r101i1p1f1_gr_201901-201912.nc', '/badc/cmip6/data/CMIP6/ScenarioMIP/EC-Earth-Consortium/EC-Earth3/ssp245/r101i1p1f1/Amon/tas/gr/files/d20210401/tas_Amon_EC-Earth3_ssp245_r101i1p1f1_gr_202001-202012.nc', '/badc/cmip6/data/CMIP6/ScenarioMIP/EC-Earth-Consortium/EC-Earth3/ssp245/r101i1p1f1/Amon/tas/gr/files/d20210401/tas_Amon_EC-Earth3_ssp245_r101i1p1f1_gr_202101-202112.nc', '/badc/cmip6/data/CMIP6/ScenarioMIP/EC-Earth-Consortium/EC-Earth3/ssp245/r101i1p1f1/Amon/tas/gr/files/d20210401/tas_Amon_EC-Earth3_ssp245_r101i1p1f1_gr_202201-202212.nc', '/badc/cmip6/data/CMIP6/ScenarioMIP/EC-Earth-Consortium/EC-Earth3/ssp245/r101i1p1f1/Amon/tas/gr/files/d20210401/tas_Amon_EC-Earth3_ssp245_r101i1p1f1_gr_202301-202312.nc', '/badc/cmip6/data/CMIP6/ScenarioMIP/EC-Earth-Consortium/EC-Earth3/ssp245/r101i1p1f1/Amon/tas/gr/files/d20210401/tas_Amon_EC-Earth3_ssp245_r101i1p1f1_gr_202401-202412.nc']\n"
     ]
    },
    {
     "name": "stderr",
     "output_type": "stream",
     "text": [
      "6it [00:00, 52.69it/s]\u001b[A"
     ]
    },
    {
     "name": "stdout",
     "output_type": "stream",
     "text": [
      "merging ['/badc/cmip6/data/CMIP6/ScenarioMIP/EC-Earth-Consortium/EC-Earth3/ssp245/r127i1p1f1/Amon/tas/gr/files/d20210401/tas_Amon_EC-Earth3_ssp245_r127i1p1f1_gr_201501-201512.nc', '/badc/cmip6/data/CMIP6/ScenarioMIP/EC-Earth-Consortium/EC-Earth3/ssp245/r127i1p1f1/Amon/tas/gr/files/d20210401/tas_Amon_EC-Earth3_ssp245_r127i1p1f1_gr_201601-201612.nc', '/badc/cmip6/data/CMIP6/ScenarioMIP/EC-Earth-Consortium/EC-Earth3/ssp245/r127i1p1f1/Amon/tas/gr/files/d20210401/tas_Amon_EC-Earth3_ssp245_r127i1p1f1_gr_201701-201712.nc', '/badc/cmip6/data/CMIP6/ScenarioMIP/EC-Earth-Consortium/EC-Earth3/ssp245/r127i1p1f1/Amon/tas/gr/files/d20210401/tas_Amon_EC-Earth3_ssp245_r127i1p1f1_gr_201801-201812.nc', '/badc/cmip6/data/CMIP6/ScenarioMIP/EC-Earth-Consortium/EC-Earth3/ssp245/r127i1p1f1/Amon/tas/gr/files/d20210401/tas_Amon_EC-Earth3_ssp245_r127i1p1f1_gr_201901-201912.nc', '/badc/cmip6/data/CMIP6/ScenarioMIP/EC-Earth-Consortium/EC-Earth3/ssp245/r127i1p1f1/Amon/tas/gr/files/d20210401/tas_Amon_EC-Earth3_ssp245_r127i1p1f1_gr_202001-202012.nc', '/badc/cmip6/data/CMIP6/ScenarioMIP/EC-Earth-Consortium/EC-Earth3/ssp245/r127i1p1f1/Amon/tas/gr/files/d20210401/tas_Amon_EC-Earth3_ssp245_r127i1p1f1_gr_202101-202112.nc', '/badc/cmip6/data/CMIP6/ScenarioMIP/EC-Earth-Consortium/EC-Earth3/ssp245/r127i1p1f1/Amon/tas/gr/files/d20210401/tas_Amon_EC-Earth3_ssp245_r127i1p1f1_gr_202201-202212.nc', '/badc/cmip6/data/CMIP6/ScenarioMIP/EC-Earth-Consortium/EC-Earth3/ssp245/r127i1p1f1/Amon/tas/gr/files/d20210401/tas_Amon_EC-Earth3_ssp245_r127i1p1f1_gr_202301-202312.nc', '/badc/cmip6/data/CMIP6/ScenarioMIP/EC-Earth-Consortium/EC-Earth3/ssp245/r127i1p1f1/Amon/tas/gr/files/d20210401/tas_Amon_EC-Earth3_ssp245_r127i1p1f1_gr_202401-202412.nc']\n",
      "merging ['/badc/cmip6/data/CMIP6/ScenarioMIP/EC-Earth-Consortium/EC-Earth3/ssp245/r142i1p1f1/Amon/tas/gr/files/d20210401/tas_Amon_EC-Earth3_ssp245_r142i1p1f1_gr_201501-201512.nc', '/badc/cmip6/data/CMIP6/ScenarioMIP/EC-Earth-Consortium/EC-Earth3/ssp245/r142i1p1f1/Amon/tas/gr/files/d20210401/tas_Amon_EC-Earth3_ssp245_r142i1p1f1_gr_201601-201612.nc', '/badc/cmip6/data/CMIP6/ScenarioMIP/EC-Earth-Consortium/EC-Earth3/ssp245/r142i1p1f1/Amon/tas/gr/files/d20210401/tas_Amon_EC-Earth3_ssp245_r142i1p1f1_gr_201701-201712.nc', '/badc/cmip6/data/CMIP6/ScenarioMIP/EC-Earth-Consortium/EC-Earth3/ssp245/r142i1p1f1/Amon/tas/gr/files/d20210401/tas_Amon_EC-Earth3_ssp245_r142i1p1f1_gr_201801-201812.nc', '/badc/cmip6/data/CMIP6/ScenarioMIP/EC-Earth-Consortium/EC-Earth3/ssp245/r142i1p1f1/Amon/tas/gr/files/d20210401/tas_Amon_EC-Earth3_ssp245_r142i1p1f1_gr_201901-201912.nc', '/badc/cmip6/data/CMIP6/ScenarioMIP/EC-Earth-Consortium/EC-Earth3/ssp245/r142i1p1f1/Amon/tas/gr/files/d20210401/tas_Amon_EC-Earth3_ssp245_r142i1p1f1_gr_202001-202012.nc', '/badc/cmip6/data/CMIP6/ScenarioMIP/EC-Earth-Consortium/EC-Earth3/ssp245/r142i1p1f1/Amon/tas/gr/files/d20210401/tas_Amon_EC-Earth3_ssp245_r142i1p1f1_gr_202101-202112.nc', '/badc/cmip6/data/CMIP6/ScenarioMIP/EC-Earth-Consortium/EC-Earth3/ssp245/r142i1p1f1/Amon/tas/gr/files/d20210401/tas_Amon_EC-Earth3_ssp245_r142i1p1f1_gr_202201-202212.nc', '/badc/cmip6/data/CMIP6/ScenarioMIP/EC-Earth-Consortium/EC-Earth3/ssp245/r142i1p1f1/Amon/tas/gr/files/d20210401/tas_Amon_EC-Earth3_ssp245_r142i1p1f1_gr_202301-202312.nc', '/badc/cmip6/data/CMIP6/ScenarioMIP/EC-Earth-Consortium/EC-Earth3/ssp245/r142i1p1f1/Amon/tas/gr/files/d20210401/tas_Amon_EC-Earth3_ssp245_r142i1p1f1_gr_202401-202412.nc']\n",
      "merging ['/badc/cmip6/data/CMIP6/ScenarioMIP/EC-Earth-Consortium/EC-Earth3/ssp245/r104i1p1f1/Amon/tas/gr/files/d20210401/tas_Amon_EC-Earth3_ssp245_r104i1p1f1_gr_201501-201512.nc', '/badc/cmip6/data/CMIP6/ScenarioMIP/EC-Earth-Consortium/EC-Earth3/ssp245/r104i1p1f1/Amon/tas/gr/files/d20210401/tas_Amon_EC-Earth3_ssp245_r104i1p1f1_gr_201601-201612.nc', '/badc/cmip6/data/CMIP6/ScenarioMIP/EC-Earth-Consortium/EC-Earth3/ssp245/r104i1p1f1/Amon/tas/gr/files/d20210401/tas_Amon_EC-Earth3_ssp245_r104i1p1f1_gr_201701-201712.nc', '/badc/cmip6/data/CMIP6/ScenarioMIP/EC-Earth-Consortium/EC-Earth3/ssp245/r104i1p1f1/Amon/tas/gr/files/d20210401/tas_Amon_EC-Earth3_ssp245_r104i1p1f1_gr_201801-201812.nc', '/badc/cmip6/data/CMIP6/ScenarioMIP/EC-Earth-Consortium/EC-Earth3/ssp245/r104i1p1f1/Amon/tas/gr/files/d20210401/tas_Amon_EC-Earth3_ssp245_r104i1p1f1_gr_201901-201912.nc', '/badc/cmip6/data/CMIP6/ScenarioMIP/EC-Earth-Consortium/EC-Earth3/ssp245/r104i1p1f1/Amon/tas/gr/files/d20210401/tas_Amon_EC-Earth3_ssp245_r104i1p1f1_gr_202001-202012.nc', '/badc/cmip6/data/CMIP6/ScenarioMIP/EC-Earth-Consortium/EC-Earth3/ssp245/r104i1p1f1/Amon/tas/gr/files/d20210401/tas_Amon_EC-Earth3_ssp245_r104i1p1f1_gr_202101-202112.nc', '/badc/cmip6/data/CMIP6/ScenarioMIP/EC-Earth-Consortium/EC-Earth3/ssp245/r104i1p1f1/Amon/tas/gr/files/d20210401/tas_Amon_EC-Earth3_ssp245_r104i1p1f1_gr_202201-202212.nc', '/badc/cmip6/data/CMIP6/ScenarioMIP/EC-Earth-Consortium/EC-Earth3/ssp245/r104i1p1f1/Amon/tas/gr/files/d20210401/tas_Amon_EC-Earth3_ssp245_r104i1p1f1_gr_202301-202312.nc', '/badc/cmip6/data/CMIP6/ScenarioMIP/EC-Earth-Consortium/EC-Earth3/ssp245/r104i1p1f1/Amon/tas/gr/files/d20210401/tas_Amon_EC-Earth3_ssp245_r104i1p1f1_gr_202401-202412.nc']\n",
      "merging ['/badc/cmip6/data/CMIP6/ScenarioMIP/EC-Earth-Consortium/EC-Earth3/ssp245/r129i1p1f1/Amon/tas/gr/files/d20210401/tas_Amon_EC-Earth3_ssp245_r129i1p1f1_gr_201501-201512.nc', '/badc/cmip6/data/CMIP6/ScenarioMIP/EC-Earth-Consortium/EC-Earth3/ssp245/r129i1p1f1/Amon/tas/gr/files/d20210401/tas_Amon_EC-Earth3_ssp245_r129i1p1f1_gr_201601-201612.nc', '/badc/cmip6/data/CMIP6/ScenarioMIP/EC-Earth-Consortium/EC-Earth3/ssp245/r129i1p1f1/Amon/tas/gr/files/d20210401/tas_Amon_EC-Earth3_ssp245_r129i1p1f1_gr_201701-201712.nc', '/badc/cmip6/data/CMIP6/ScenarioMIP/EC-Earth-Consortium/EC-Earth3/ssp245/r129i1p1f1/Amon/tas/gr/files/d20210401/tas_Amon_EC-Earth3_ssp245_r129i1p1f1_gr_201801-201812.nc', '/badc/cmip6/data/CMIP6/ScenarioMIP/EC-Earth-Consortium/EC-Earth3/ssp245/r129i1p1f1/Amon/tas/gr/files/d20210401/tas_Amon_EC-Earth3_ssp245_r129i1p1f1_gr_201901-201912.nc', '/badc/cmip6/data/CMIP6/ScenarioMIP/EC-Earth-Consortium/EC-Earth3/ssp245/r129i1p1f1/Amon/tas/gr/files/d20210401/tas_Amon_EC-Earth3_ssp245_r129i1p1f1_gr_202001-202012.nc', '/badc/cmip6/data/CMIP6/ScenarioMIP/EC-Earth-Consortium/EC-Earth3/ssp245/r129i1p1f1/Amon/tas/gr/files/d20210401/tas_Amon_EC-Earth3_ssp245_r129i1p1f1_gr_202101-202112.nc', '/badc/cmip6/data/CMIP6/ScenarioMIP/EC-Earth-Consortium/EC-Earth3/ssp245/r129i1p1f1/Amon/tas/gr/files/d20210401/tas_Amon_EC-Earth3_ssp245_r129i1p1f1_gr_202201-202212.nc', '/badc/cmip6/data/CMIP6/ScenarioMIP/EC-Earth-Consortium/EC-Earth3/ssp245/r129i1p1f1/Amon/tas/gr/files/d20210401/tas_Amon_EC-Earth3_ssp245_r129i1p1f1_gr_202301-202312.nc', '/badc/cmip6/data/CMIP6/ScenarioMIP/EC-Earth-Consortium/EC-Earth3/ssp245/r129i1p1f1/Amon/tas/gr/files/d20210401/tas_Amon_EC-Earth3_ssp245_r129i1p1f1_gr_202401-202412.nc']\n",
      "merging ['/badc/cmip6/data/CMIP6/ScenarioMIP/EC-Earth-Consortium/EC-Earth3/ssp245/r105i1p1f1/Amon/tas/gr/files/d20210401/tas_Amon_EC-Earth3_ssp245_r105i1p1f1_gr_201501-201512.nc', '/badc/cmip6/data/CMIP6/ScenarioMIP/EC-Earth-Consortium/EC-Earth3/ssp245/r105i1p1f1/Amon/tas/gr/files/d20210401/tas_Amon_EC-Earth3_ssp245_r105i1p1f1_gr_201601-201612.nc', '/badc/cmip6/data/CMIP6/ScenarioMIP/EC-Earth-Consortium/EC-Earth3/ssp245/r105i1p1f1/Amon/tas/gr/files/d20210401/tas_Amon_EC-Earth3_ssp245_r105i1p1f1_gr_201701-201712.nc', '/badc/cmip6/data/CMIP6/ScenarioMIP/EC-Earth-Consortium/EC-Earth3/ssp245/r105i1p1f1/Amon/tas/gr/files/d20210401/tas_Amon_EC-Earth3_ssp245_r105i1p1f1_gr_201801-201812.nc', '/badc/cmip6/data/CMIP6/ScenarioMIP/EC-Earth-Consortium/EC-Earth3/ssp245/r105i1p1f1/Amon/tas/gr/files/d20210401/tas_Amon_EC-Earth3_ssp245_r105i1p1f1_gr_201901-201912.nc', '/badc/cmip6/data/CMIP6/ScenarioMIP/EC-Earth-Consortium/EC-Earth3/ssp245/r105i1p1f1/Amon/tas/gr/files/d20210401/tas_Amon_EC-Earth3_ssp245_r105i1p1f1_gr_202001-202012.nc', '/badc/cmip6/data/CMIP6/ScenarioMIP/EC-Earth-Consortium/EC-Earth3/ssp245/r105i1p1f1/Amon/tas/gr/files/d20210401/tas_Amon_EC-Earth3_ssp245_r105i1p1f1_gr_202101-202112.nc', '/badc/cmip6/data/CMIP6/ScenarioMIP/EC-Earth-Consortium/EC-Earth3/ssp245/r105i1p1f1/Amon/tas/gr/files/d20210401/tas_Amon_EC-Earth3_ssp245_r105i1p1f1_gr_202201-202212.nc', '/badc/cmip6/data/CMIP6/ScenarioMIP/EC-Earth-Consortium/EC-Earth3/ssp245/r105i1p1f1/Amon/tas/gr/files/d20210401/tas_Amon_EC-Earth3_ssp245_r105i1p1f1_gr_202301-202312.nc', '/badc/cmip6/data/CMIP6/ScenarioMIP/EC-Earth-Consortium/EC-Earth3/ssp245/r105i1p1f1/Amon/tas/gr/files/d20210401/tas_Amon_EC-Earth3_ssp245_r105i1p1f1_gr_202401-202412.nc']\n",
      "merging ['/badc/cmip6/data/CMIP6/ScenarioMIP/EC-Earth-Consortium/EC-Earth3/ssp245/r135i1p1f1/Amon/tas/gr/files/d20210401/tas_Amon_EC-Earth3_ssp245_r135i1p1f1_gr_201501-201512.nc', '/badc/cmip6/data/CMIP6/ScenarioMIP/EC-Earth-Consortium/EC-Earth3/ssp245/r135i1p1f1/Amon/tas/gr/files/d20210401/tas_Amon_EC-Earth3_ssp245_r135i1p1f1_gr_201601-201612.nc', '/badc/cmip6/data/CMIP6/ScenarioMIP/EC-Earth-Consortium/EC-Earth3/ssp245/r135i1p1f1/Amon/tas/gr/files/d20210401/tas_Amon_EC-Earth3_ssp245_r135i1p1f1_gr_201701-201712.nc', '/badc/cmip6/data/CMIP6/ScenarioMIP/EC-Earth-Consortium/EC-Earth3/ssp245/r135i1p1f1/Amon/tas/gr/files/d20210401/tas_Amon_EC-Earth3_ssp245_r135i1p1f1_gr_201801-201812.nc', '/badc/cmip6/data/CMIP6/ScenarioMIP/EC-Earth-Consortium/EC-Earth3/ssp245/r135i1p1f1/Amon/tas/gr/files/d20210401/tas_Amon_EC-Earth3_ssp245_r135i1p1f1_gr_201901-201912.nc', '/badc/cmip6/data/CMIP6/ScenarioMIP/EC-Earth-Consortium/EC-Earth3/ssp245/r135i1p1f1/Amon/tas/gr/files/d20210401/tas_Amon_EC-Earth3_ssp245_r135i1p1f1_gr_202001-202012.nc', '/badc/cmip6/data/CMIP6/ScenarioMIP/EC-Earth-Consortium/EC-Earth3/ssp245/r135i1p1f1/Amon/tas/gr/files/d20210401/tas_Amon_EC-Earth3_ssp245_r135i1p1f1_gr_202101-202112.nc', '/badc/cmip6/data/CMIP6/ScenarioMIP/EC-Earth-Consortium/EC-Earth3/ssp245/r135i1p1f1/Amon/tas/gr/files/d20210401/tas_Amon_EC-Earth3_ssp245_r135i1p1f1_gr_202201-202212.nc', '/badc/cmip6/data/CMIP6/ScenarioMIP/EC-Earth-Consortium/EC-Earth3/ssp245/r135i1p1f1/Amon/tas/gr/files/d20210401/tas_Amon_EC-Earth3_ssp245_r135i1p1f1_gr_202301-202312.nc', '/badc/cmip6/data/CMIP6/ScenarioMIP/EC-Earth-Consortium/EC-Earth3/ssp245/r135i1p1f1/Amon/tas/gr/files/d20210401/tas_Amon_EC-Earth3_ssp245_r135i1p1f1_gr_202401-202412.nc']\n"
     ]
    },
    {
     "name": "stderr",
     "output_type": "stream",
     "text": [
      "\n",
      "13it [00:00, 59.73it/s]\u001b[A"
     ]
    },
    {
     "name": "stdout",
     "output_type": "stream",
     "text": [
      "merging ['/badc/cmip6/data/CMIP6/ScenarioMIP/EC-Earth-Consortium/EC-Earth3/ssp245/r144i1p1f1/Amon/tas/gr/files/d20210401/tas_Amon_EC-Earth3_ssp245_r144i1p1f1_gr_201501-201512.nc', '/badc/cmip6/data/CMIP6/ScenarioMIP/EC-Earth-Consortium/EC-Earth3/ssp245/r144i1p1f1/Amon/tas/gr/files/d20210401/tas_Amon_EC-Earth3_ssp245_r144i1p1f1_gr_201601-201612.nc', '/badc/cmip6/data/CMIP6/ScenarioMIP/EC-Earth-Consortium/EC-Earth3/ssp245/r144i1p1f1/Amon/tas/gr/files/d20210401/tas_Amon_EC-Earth3_ssp245_r144i1p1f1_gr_201701-201712.nc', '/badc/cmip6/data/CMIP6/ScenarioMIP/EC-Earth-Consortium/EC-Earth3/ssp245/r144i1p1f1/Amon/tas/gr/files/d20210401/tas_Amon_EC-Earth3_ssp245_r144i1p1f1_gr_201801-201812.nc', '/badc/cmip6/data/CMIP6/ScenarioMIP/EC-Earth-Consortium/EC-Earth3/ssp245/r144i1p1f1/Amon/tas/gr/files/d20210401/tas_Amon_EC-Earth3_ssp245_r144i1p1f1_gr_201901-201912.nc', '/badc/cmip6/data/CMIP6/ScenarioMIP/EC-Earth-Consortium/EC-Earth3/ssp245/r144i1p1f1/Amon/tas/gr/files/d20210401/tas_Amon_EC-Earth3_ssp245_r144i1p1f1_gr_202001-202012.nc', '/badc/cmip6/data/CMIP6/ScenarioMIP/EC-Earth-Consortium/EC-Earth3/ssp245/r144i1p1f1/Amon/tas/gr/files/d20210401/tas_Amon_EC-Earth3_ssp245_r144i1p1f1_gr_202101-202112.nc', '/badc/cmip6/data/CMIP6/ScenarioMIP/EC-Earth-Consortium/EC-Earth3/ssp245/r144i1p1f1/Amon/tas/gr/files/d20210401/tas_Amon_EC-Earth3_ssp245_r144i1p1f1_gr_202201-202212.nc', '/badc/cmip6/data/CMIP6/ScenarioMIP/EC-Earth-Consortium/EC-Earth3/ssp245/r144i1p1f1/Amon/tas/gr/files/d20210401/tas_Amon_EC-Earth3_ssp245_r144i1p1f1_gr_202301-202312.nc', '/badc/cmip6/data/CMIP6/ScenarioMIP/EC-Earth-Consortium/EC-Earth3/ssp245/r144i1p1f1/Amon/tas/gr/files/d20210401/tas_Amon_EC-Earth3_ssp245_r144i1p1f1_gr_202401-202412.nc']\n",
      "merging ['/badc/cmip6/data/CMIP6/ScenarioMIP/EC-Earth-Consortium/EC-Earth3/ssp245/r146i1p1f1/Amon/tas/gr/files/d20210401/tas_Amon_EC-Earth3_ssp245_r146i1p1f1_gr_201501-201512.nc', '/badc/cmip6/data/CMIP6/ScenarioMIP/EC-Earth-Consortium/EC-Earth3/ssp245/r146i1p1f1/Amon/tas/gr/files/d20210401/tas_Amon_EC-Earth3_ssp245_r146i1p1f1_gr_201601-201612.nc', '/badc/cmip6/data/CMIP6/ScenarioMIP/EC-Earth-Consortium/EC-Earth3/ssp245/r146i1p1f1/Amon/tas/gr/files/d20210401/tas_Amon_EC-Earth3_ssp245_r146i1p1f1_gr_201701-201712.nc', '/badc/cmip6/data/CMIP6/ScenarioMIP/EC-Earth-Consortium/EC-Earth3/ssp245/r146i1p1f1/Amon/tas/gr/files/d20210401/tas_Amon_EC-Earth3_ssp245_r146i1p1f1_gr_201801-201812.nc', '/badc/cmip6/data/CMIP6/ScenarioMIP/EC-Earth-Consortium/EC-Earth3/ssp245/r146i1p1f1/Amon/tas/gr/files/d20210401/tas_Amon_EC-Earth3_ssp245_r146i1p1f1_gr_201901-201912.nc', '/badc/cmip6/data/CMIP6/ScenarioMIP/EC-Earth-Consortium/EC-Earth3/ssp245/r146i1p1f1/Amon/tas/gr/files/d20210401/tas_Amon_EC-Earth3_ssp245_r146i1p1f1_gr_202001-202012.nc', '/badc/cmip6/data/CMIP6/ScenarioMIP/EC-Earth-Consortium/EC-Earth3/ssp245/r146i1p1f1/Amon/tas/gr/files/d20210401/tas_Amon_EC-Earth3_ssp245_r146i1p1f1_gr_202101-202112.nc', '/badc/cmip6/data/CMIP6/ScenarioMIP/EC-Earth-Consortium/EC-Earth3/ssp245/r146i1p1f1/Amon/tas/gr/files/d20210401/tas_Amon_EC-Earth3_ssp245_r146i1p1f1_gr_202201-202212.nc', '/badc/cmip6/data/CMIP6/ScenarioMIP/EC-Earth-Consortium/EC-Earth3/ssp245/r146i1p1f1/Amon/tas/gr/files/d20210401/tas_Amon_EC-Earth3_ssp245_r146i1p1f1_gr_202301-202312.nc', '/badc/cmip6/data/CMIP6/ScenarioMIP/EC-Earth-Consortium/EC-Earth3/ssp245/r146i1p1f1/Amon/tas/gr/files/d20210401/tas_Amon_EC-Earth3_ssp245_r146i1p1f1_gr_202401-202412.nc']\n",
      "merging ['/badc/cmip6/data/CMIP6/ScenarioMIP/EC-Earth-Consortium/EC-Earth3/ssp245/r109i1p1f1/Amon/tas/gr/files/d20210401/tas_Amon_EC-Earth3_ssp245_r109i1p1f1_gr_201501-201512.nc', '/badc/cmip6/data/CMIP6/ScenarioMIP/EC-Earth-Consortium/EC-Earth3/ssp245/r109i1p1f1/Amon/tas/gr/files/d20210401/tas_Amon_EC-Earth3_ssp245_r109i1p1f1_gr_201601-201612.nc', '/badc/cmip6/data/CMIP6/ScenarioMIP/EC-Earth-Consortium/EC-Earth3/ssp245/r109i1p1f1/Amon/tas/gr/files/d20210401/tas_Amon_EC-Earth3_ssp245_r109i1p1f1_gr_201701-201712.nc', '/badc/cmip6/data/CMIP6/ScenarioMIP/EC-Earth-Consortium/EC-Earth3/ssp245/r109i1p1f1/Amon/tas/gr/files/d20210401/tas_Amon_EC-Earth3_ssp245_r109i1p1f1_gr_201801-201812.nc', '/badc/cmip6/data/CMIP6/ScenarioMIP/EC-Earth-Consortium/EC-Earth3/ssp245/r109i1p1f1/Amon/tas/gr/files/d20210401/tas_Amon_EC-Earth3_ssp245_r109i1p1f1_gr_201901-201912.nc', '/badc/cmip6/data/CMIP6/ScenarioMIP/EC-Earth-Consortium/EC-Earth3/ssp245/r109i1p1f1/Amon/tas/gr/files/d20210401/tas_Amon_EC-Earth3_ssp245_r109i1p1f1_gr_202001-202012.nc', '/badc/cmip6/data/CMIP6/ScenarioMIP/EC-Earth-Consortium/EC-Earth3/ssp245/r109i1p1f1/Amon/tas/gr/files/d20210401/tas_Amon_EC-Earth3_ssp245_r109i1p1f1_gr_202101-202112.nc', '/badc/cmip6/data/CMIP6/ScenarioMIP/EC-Earth-Consortium/EC-Earth3/ssp245/r109i1p1f1/Amon/tas/gr/files/d20210401/tas_Amon_EC-Earth3_ssp245_r109i1p1f1_gr_202201-202212.nc', '/badc/cmip6/data/CMIP6/ScenarioMIP/EC-Earth-Consortium/EC-Earth3/ssp245/r109i1p1f1/Amon/tas/gr/files/d20210401/tas_Amon_EC-Earth3_ssp245_r109i1p1f1_gr_202301-202312.nc', '/badc/cmip6/data/CMIP6/ScenarioMIP/EC-Earth-Consortium/EC-Earth3/ssp245/r109i1p1f1/Amon/tas/gr/files/d20210401/tas_Amon_EC-Earth3_ssp245_r109i1p1f1_gr_202401-202412.nc']\n",
      "merging ['/badc/cmip6/data/CMIP6/ScenarioMIP/EC-Earth-Consortium/EC-Earth3/ssp245/r119i1p1f1/Amon/tas/gr/files/d20210401/tas_Amon_EC-Earth3_ssp245_r119i1p1f1_gr_201501-201512.nc', '/badc/cmip6/data/CMIP6/ScenarioMIP/EC-Earth-Consortium/EC-Earth3/ssp245/r119i1p1f1/Amon/tas/gr/files/d20210401/tas_Amon_EC-Earth3_ssp245_r119i1p1f1_gr_201601-201612.nc', '/badc/cmip6/data/CMIP6/ScenarioMIP/EC-Earth-Consortium/EC-Earth3/ssp245/r119i1p1f1/Amon/tas/gr/files/d20210401/tas_Amon_EC-Earth3_ssp245_r119i1p1f1_gr_201701-201712.nc', '/badc/cmip6/data/CMIP6/ScenarioMIP/EC-Earth-Consortium/EC-Earth3/ssp245/r119i1p1f1/Amon/tas/gr/files/d20210401/tas_Amon_EC-Earth3_ssp245_r119i1p1f1_gr_201801-201812.nc', '/badc/cmip6/data/CMIP6/ScenarioMIP/EC-Earth-Consortium/EC-Earth3/ssp245/r119i1p1f1/Amon/tas/gr/files/d20210401/tas_Amon_EC-Earth3_ssp245_r119i1p1f1_gr_201901-201912.nc', '/badc/cmip6/data/CMIP6/ScenarioMIP/EC-Earth-Consortium/EC-Earth3/ssp245/r119i1p1f1/Amon/tas/gr/files/d20210401/tas_Amon_EC-Earth3_ssp245_r119i1p1f1_gr_202001-202012.nc', '/badc/cmip6/data/CMIP6/ScenarioMIP/EC-Earth-Consortium/EC-Earth3/ssp245/r119i1p1f1/Amon/tas/gr/files/d20210401/tas_Amon_EC-Earth3_ssp245_r119i1p1f1_gr_202101-202112.nc', '/badc/cmip6/data/CMIP6/ScenarioMIP/EC-Earth-Consortium/EC-Earth3/ssp245/r119i1p1f1/Amon/tas/gr/files/d20210401/tas_Amon_EC-Earth3_ssp245_r119i1p1f1_gr_202201-202212.nc', '/badc/cmip6/data/CMIP6/ScenarioMIP/EC-Earth-Consortium/EC-Earth3/ssp245/r119i1p1f1/Amon/tas/gr/files/d20210401/tas_Amon_EC-Earth3_ssp245_r119i1p1f1_gr_202301-202312.nc', '/badc/cmip6/data/CMIP6/ScenarioMIP/EC-Earth-Consortium/EC-Earth3/ssp245/r119i1p1f1/Amon/tas/gr/files/d20210401/tas_Amon_EC-Earth3_ssp245_r119i1p1f1_gr_202401-202412.nc']\n",
      "merging ['/badc/cmip6/data/CMIP6/ScenarioMIP/EC-Earth-Consortium/EC-Earth3/ssp245/r136i1p1f1/Amon/tas/gr/files/d20210401/tas_Amon_EC-Earth3_ssp245_r136i1p1f1_gr_201501-201512.nc', '/badc/cmip6/data/CMIP6/ScenarioMIP/EC-Earth-Consortium/EC-Earth3/ssp245/r136i1p1f1/Amon/tas/gr/files/d20210401/tas_Amon_EC-Earth3_ssp245_r136i1p1f1_gr_201601-201612.nc', '/badc/cmip6/data/CMIP6/ScenarioMIP/EC-Earth-Consortium/EC-Earth3/ssp245/r136i1p1f1/Amon/tas/gr/files/d20210401/tas_Amon_EC-Earth3_ssp245_r136i1p1f1_gr_201701-201712.nc', '/badc/cmip6/data/CMIP6/ScenarioMIP/EC-Earth-Consortium/EC-Earth3/ssp245/r136i1p1f1/Amon/tas/gr/files/d20210401/tas_Amon_EC-Earth3_ssp245_r136i1p1f1_gr_201801-201812.nc', '/badc/cmip6/data/CMIP6/ScenarioMIP/EC-Earth-Consortium/EC-Earth3/ssp245/r136i1p1f1/Amon/tas/gr/files/d20210401/tas_Amon_EC-Earth3_ssp245_r136i1p1f1_gr_201901-201912.nc', '/badc/cmip6/data/CMIP6/ScenarioMIP/EC-Earth-Consortium/EC-Earth3/ssp245/r136i1p1f1/Amon/tas/gr/files/d20210401/tas_Amon_EC-Earth3_ssp245_r136i1p1f1_gr_202001-202012.nc', '/badc/cmip6/data/CMIP6/ScenarioMIP/EC-Earth-Consortium/EC-Earth3/ssp245/r136i1p1f1/Amon/tas/gr/files/d20210401/tas_Amon_EC-Earth3_ssp245_r136i1p1f1_gr_202101-202112.nc', '/badc/cmip6/data/CMIP6/ScenarioMIP/EC-Earth-Consortium/EC-Earth3/ssp245/r136i1p1f1/Amon/tas/gr/files/d20210401/tas_Amon_EC-Earth3_ssp245_r136i1p1f1_gr_202201-202212.nc', '/badc/cmip6/data/CMIP6/ScenarioMIP/EC-Earth-Consortium/EC-Earth3/ssp245/r136i1p1f1/Amon/tas/gr/files/d20210401/tas_Amon_EC-Earth3_ssp245_r136i1p1f1_gr_202301-202312.nc', '/badc/cmip6/data/CMIP6/ScenarioMIP/EC-Earth-Consortium/EC-Earth3/ssp245/r136i1p1f1/Amon/tas/gr/files/d20210401/tas_Amon_EC-Earth3_ssp245_r136i1p1f1_gr_202401-202412.nc']\n",
      "merging ['/badc/cmip6/data/CMIP6/ScenarioMIP/EC-Earth-Consortium/EC-Earth3/ssp245/r141i1p1f1/Amon/tas/gr/files/d20210401/tas_Amon_EC-Earth3_ssp245_r141i1p1f1_gr_201501-201512.nc', '/badc/cmip6/data/CMIP6/ScenarioMIP/EC-Earth-Consortium/EC-Earth3/ssp245/r141i1p1f1/Amon/tas/gr/files/d20210401/tas_Amon_EC-Earth3_ssp245_r141i1p1f1_gr_201601-201612.nc', '/badc/cmip6/data/CMIP6/ScenarioMIP/EC-Earth-Consortium/EC-Earth3/ssp245/r141i1p1f1/Amon/tas/gr/files/d20210401/tas_Amon_EC-Earth3_ssp245_r141i1p1f1_gr_201701-201712.nc', '/badc/cmip6/data/CMIP6/ScenarioMIP/EC-Earth-Consortium/EC-Earth3/ssp245/r141i1p1f1/Amon/tas/gr/files/d20210401/tas_Amon_EC-Earth3_ssp245_r141i1p1f1_gr_201801-201812.nc', '/badc/cmip6/data/CMIP6/ScenarioMIP/EC-Earth-Consortium/EC-Earth3/ssp245/r141i1p1f1/Amon/tas/gr/files/d20210401/tas_Amon_EC-Earth3_ssp245_r141i1p1f1_gr_201901-201912.nc', '/badc/cmip6/data/CMIP6/ScenarioMIP/EC-Earth-Consortium/EC-Earth3/ssp245/r141i1p1f1/Amon/tas/gr/files/d20210401/tas_Amon_EC-Earth3_ssp245_r141i1p1f1_gr_202001-202012.nc', '/badc/cmip6/data/CMIP6/ScenarioMIP/EC-Earth-Consortium/EC-Earth3/ssp245/r141i1p1f1/Amon/tas/gr/files/d20210401/tas_Amon_EC-Earth3_ssp245_r141i1p1f1_gr_202101-202112.nc', '/badc/cmip6/data/CMIP6/ScenarioMIP/EC-Earth-Consortium/EC-Earth3/ssp245/r141i1p1f1/Amon/tas/gr/files/d20210401/tas_Amon_EC-Earth3_ssp245_r141i1p1f1_gr_202201-202212.nc', '/badc/cmip6/data/CMIP6/ScenarioMIP/EC-Earth-Consortium/EC-Earth3/ssp245/r141i1p1f1/Amon/tas/gr/files/d20210401/tas_Amon_EC-Earth3_ssp245_r141i1p1f1_gr_202301-202312.nc', '/badc/cmip6/data/CMIP6/ScenarioMIP/EC-Earth-Consortium/EC-Earth3/ssp245/r141i1p1f1/Amon/tas/gr/files/d20210401/tas_Amon_EC-Earth3_ssp245_r141i1p1f1_gr_202401-202412.nc']\n",
      "merging ['/badc/cmip6/data/CMIP6/ScenarioMIP/EC-Earth-Consortium/EC-Earth3/ssp245/r117i1p1f1/Amon/tas/gr/files/d20210401/tas_Amon_EC-Earth3_ssp245_r117i1p1f1_gr_201501-201512.nc', '/badc/cmip6/data/CMIP6/ScenarioMIP/EC-Earth-Consortium/EC-Earth3/ssp245/r117i1p1f1/Amon/tas/gr/files/d20210401/tas_Amon_EC-Earth3_ssp245_r117i1p1f1_gr_201601-201612.nc', '/badc/cmip6/data/CMIP6/ScenarioMIP/EC-Earth-Consortium/EC-Earth3/ssp245/r117i1p1f1/Amon/tas/gr/files/d20210401/tas_Amon_EC-Earth3_ssp245_r117i1p1f1_gr_201701-201712.nc', '/badc/cmip6/data/CMIP6/ScenarioMIP/EC-Earth-Consortium/EC-Earth3/ssp245/r117i1p1f1/Amon/tas/gr/files/d20210401/tas_Amon_EC-Earth3_ssp245_r117i1p1f1_gr_201801-201812.nc', '/badc/cmip6/data/CMIP6/ScenarioMIP/EC-Earth-Consortium/EC-Earth3/ssp245/r117i1p1f1/Amon/tas/gr/files/d20210401/tas_Amon_EC-Earth3_ssp245_r117i1p1f1_gr_201901-201912.nc', '/badc/cmip6/data/CMIP6/ScenarioMIP/EC-Earth-Consortium/EC-Earth3/ssp245/r117i1p1f1/Amon/tas/gr/files/d20210401/tas_Amon_EC-Earth3_ssp245_r117i1p1f1_gr_202001-202012.nc', '/badc/cmip6/data/CMIP6/ScenarioMIP/EC-Earth-Consortium/EC-Earth3/ssp245/r117i1p1f1/Amon/tas/gr/files/d20210401/tas_Amon_EC-Earth3_ssp245_r117i1p1f1_gr_202101-202112.nc', '/badc/cmip6/data/CMIP6/ScenarioMIP/EC-Earth-Consortium/EC-Earth3/ssp245/r117i1p1f1/Amon/tas/gr/files/d20210401/tas_Amon_EC-Earth3_ssp245_r117i1p1f1_gr_202201-202212.nc', '/badc/cmip6/data/CMIP6/ScenarioMIP/EC-Earth-Consortium/EC-Earth3/ssp245/r117i1p1f1/Amon/tas/gr/files/d20210401/tas_Amon_EC-Earth3_ssp245_r117i1p1f1_gr_202301-202312.nc', '/badc/cmip6/data/CMIP6/ScenarioMIP/EC-Earth-Consortium/EC-Earth3/ssp245/r117i1p1f1/Amon/tas/gr/files/d20210401/tas_Amon_EC-Earth3_ssp245_r117i1p1f1_gr_202401-202412.nc']\n"
     ]
    },
    {
     "name": "stderr",
     "output_type": "stream",
     "text": [
      "\n",
      "20it [00:00, 40.11it/s]\u001b[A"
     ]
    },
    {
     "name": "stdout",
     "output_type": "stream",
     "text": [
      "merging ['/badc/cmip6/data/CMIP6/ScenarioMIP/EC-Earth-Consortium/EC-Earth3/ssp245/r143i1p1f1/Amon/tas/gr/files/d20210401/tas_Amon_EC-Earth3_ssp245_r143i1p1f1_gr_201501-201512.nc', '/badc/cmip6/data/CMIP6/ScenarioMIP/EC-Earth-Consortium/EC-Earth3/ssp245/r143i1p1f1/Amon/tas/gr/files/d20210401/tas_Amon_EC-Earth3_ssp245_r143i1p1f1_gr_201601-201612.nc', '/badc/cmip6/data/CMIP6/ScenarioMIP/EC-Earth-Consortium/EC-Earth3/ssp245/r143i1p1f1/Amon/tas/gr/files/d20210401/tas_Amon_EC-Earth3_ssp245_r143i1p1f1_gr_201701-201712.nc', '/badc/cmip6/data/CMIP6/ScenarioMIP/EC-Earth-Consortium/EC-Earth3/ssp245/r143i1p1f1/Amon/tas/gr/files/d20210401/tas_Amon_EC-Earth3_ssp245_r143i1p1f1_gr_201801-201812.nc', '/badc/cmip6/data/CMIP6/ScenarioMIP/EC-Earth-Consortium/EC-Earth3/ssp245/r143i1p1f1/Amon/tas/gr/files/d20210401/tas_Amon_EC-Earth3_ssp245_r143i1p1f1_gr_201901-201912.nc', '/badc/cmip6/data/CMIP6/ScenarioMIP/EC-Earth-Consortium/EC-Earth3/ssp245/r143i1p1f1/Amon/tas/gr/files/d20210401/tas_Amon_EC-Earth3_ssp245_r143i1p1f1_gr_202001-202012.nc', '/badc/cmip6/data/CMIP6/ScenarioMIP/EC-Earth-Consortium/EC-Earth3/ssp245/r143i1p1f1/Amon/tas/gr/files/d20210401/tas_Amon_EC-Earth3_ssp245_r143i1p1f1_gr_202101-202112.nc', '/badc/cmip6/data/CMIP6/ScenarioMIP/EC-Earth-Consortium/EC-Earth3/ssp245/r143i1p1f1/Amon/tas/gr/files/d20210401/tas_Amon_EC-Earth3_ssp245_r143i1p1f1_gr_202201-202212.nc', '/badc/cmip6/data/CMIP6/ScenarioMIP/EC-Earth-Consortium/EC-Earth3/ssp245/r143i1p1f1/Amon/tas/gr/files/d20210401/tas_Amon_EC-Earth3_ssp245_r143i1p1f1_gr_202301-202312.nc', '/badc/cmip6/data/CMIP6/ScenarioMIP/EC-Earth-Consortium/EC-Earth3/ssp245/r143i1p1f1/Amon/tas/gr/files/d20210401/tas_Amon_EC-Earth3_ssp245_r143i1p1f1_gr_202401-202412.nc']\n",
      "merging ['/badc/cmip6/data/CMIP6/ScenarioMIP/EC-Earth-Consortium/EC-Earth3/ssp245/r107i1p1f1/Amon/tas/gr/files/d20210401/tas_Amon_EC-Earth3_ssp245_r107i1p1f1_gr_201501-201512.nc', '/badc/cmip6/data/CMIP6/ScenarioMIP/EC-Earth-Consortium/EC-Earth3/ssp245/r107i1p1f1/Amon/tas/gr/files/d20210401/tas_Amon_EC-Earth3_ssp245_r107i1p1f1_gr_201601-201612.nc', '/badc/cmip6/data/CMIP6/ScenarioMIP/EC-Earth-Consortium/EC-Earth3/ssp245/r107i1p1f1/Amon/tas/gr/files/d20210401/tas_Amon_EC-Earth3_ssp245_r107i1p1f1_gr_201701-201712.nc', '/badc/cmip6/data/CMIP6/ScenarioMIP/EC-Earth-Consortium/EC-Earth3/ssp245/r107i1p1f1/Amon/tas/gr/files/d20210401/tas_Amon_EC-Earth3_ssp245_r107i1p1f1_gr_201801-201812.nc', '/badc/cmip6/data/CMIP6/ScenarioMIP/EC-Earth-Consortium/EC-Earth3/ssp245/r107i1p1f1/Amon/tas/gr/files/d20210401/tas_Amon_EC-Earth3_ssp245_r107i1p1f1_gr_201901-201912.nc', '/badc/cmip6/data/CMIP6/ScenarioMIP/EC-Earth-Consortium/EC-Earth3/ssp245/r107i1p1f1/Amon/tas/gr/files/d20210401/tas_Amon_EC-Earth3_ssp245_r107i1p1f1_gr_202001-202012.nc', '/badc/cmip6/data/CMIP6/ScenarioMIP/EC-Earth-Consortium/EC-Earth3/ssp245/r107i1p1f1/Amon/tas/gr/files/d20210401/tas_Amon_EC-Earth3_ssp245_r107i1p1f1_gr_202101-202112.nc', '/badc/cmip6/data/CMIP6/ScenarioMIP/EC-Earth-Consortium/EC-Earth3/ssp245/r107i1p1f1/Amon/tas/gr/files/d20210401/tas_Amon_EC-Earth3_ssp245_r107i1p1f1_gr_202201-202212.nc', '/badc/cmip6/data/CMIP6/ScenarioMIP/EC-Earth-Consortium/EC-Earth3/ssp245/r107i1p1f1/Amon/tas/gr/files/d20210401/tas_Amon_EC-Earth3_ssp245_r107i1p1f1_gr_202301-202312.nc', '/badc/cmip6/data/CMIP6/ScenarioMIP/EC-Earth-Consortium/EC-Earth3/ssp245/r107i1p1f1/Amon/tas/gr/files/d20210401/tas_Amon_EC-Earth3_ssp245_r107i1p1f1_gr_202401-202412.nc']\n",
      "merging ['/badc/cmip6/data/CMIP6/ScenarioMIP/EC-Earth-Consortium/EC-Earth3/ssp245/r112i1p1f1/Amon/tas/gr/files/d20210401/tas_Amon_EC-Earth3_ssp245_r112i1p1f1_gr_201501-201512.nc', '/badc/cmip6/data/CMIP6/ScenarioMIP/EC-Earth-Consortium/EC-Earth3/ssp245/r112i1p1f1/Amon/tas/gr/files/d20210401/tas_Amon_EC-Earth3_ssp245_r112i1p1f1_gr_201601-201612.nc', '/badc/cmip6/data/CMIP6/ScenarioMIP/EC-Earth-Consortium/EC-Earth3/ssp245/r112i1p1f1/Amon/tas/gr/files/d20210401/tas_Amon_EC-Earth3_ssp245_r112i1p1f1_gr_201701-201712.nc', '/badc/cmip6/data/CMIP6/ScenarioMIP/EC-Earth-Consortium/EC-Earth3/ssp245/r112i1p1f1/Amon/tas/gr/files/d20210401/tas_Amon_EC-Earth3_ssp245_r112i1p1f1_gr_201801-201812.nc', '/badc/cmip6/data/CMIP6/ScenarioMIP/EC-Earth-Consortium/EC-Earth3/ssp245/r112i1p1f1/Amon/tas/gr/files/d20210401/tas_Amon_EC-Earth3_ssp245_r112i1p1f1_gr_201901-201912.nc', '/badc/cmip6/data/CMIP6/ScenarioMIP/EC-Earth-Consortium/EC-Earth3/ssp245/r112i1p1f1/Amon/tas/gr/files/d20210401/tas_Amon_EC-Earth3_ssp245_r112i1p1f1_gr_202001-202012.nc', '/badc/cmip6/data/CMIP6/ScenarioMIP/EC-Earth-Consortium/EC-Earth3/ssp245/r112i1p1f1/Amon/tas/gr/files/d20210401/tas_Amon_EC-Earth3_ssp245_r112i1p1f1_gr_202101-202112.nc', '/badc/cmip6/data/CMIP6/ScenarioMIP/EC-Earth-Consortium/EC-Earth3/ssp245/r112i1p1f1/Amon/tas/gr/files/d20210401/tas_Amon_EC-Earth3_ssp245_r112i1p1f1_gr_202201-202212.nc', '/badc/cmip6/data/CMIP6/ScenarioMIP/EC-Earth-Consortium/EC-Earth3/ssp245/r112i1p1f1/Amon/tas/gr/files/d20210401/tas_Amon_EC-Earth3_ssp245_r112i1p1f1_gr_202301-202312.nc', '/badc/cmip6/data/CMIP6/ScenarioMIP/EC-Earth-Consortium/EC-Earth3/ssp245/r112i1p1f1/Amon/tas/gr/files/d20210401/tas_Amon_EC-Earth3_ssp245_r112i1p1f1_gr_202401-202412.nc']\n",
      "merging ['/badc/cmip6/data/CMIP6/ScenarioMIP/EC-Earth-Consortium/EC-Earth3/ssp245/r120i1p1f1/Amon/tas/gr/files/d20210401/tas_Amon_EC-Earth3_ssp245_r120i1p1f1_gr_201501-201512.nc', '/badc/cmip6/data/CMIP6/ScenarioMIP/EC-Earth-Consortium/EC-Earth3/ssp245/r120i1p1f1/Amon/tas/gr/files/d20210401/tas_Amon_EC-Earth3_ssp245_r120i1p1f1_gr_201601-201612.nc', '/badc/cmip6/data/CMIP6/ScenarioMIP/EC-Earth-Consortium/EC-Earth3/ssp245/r120i1p1f1/Amon/tas/gr/files/d20210401/tas_Amon_EC-Earth3_ssp245_r120i1p1f1_gr_201701-201712.nc', '/badc/cmip6/data/CMIP6/ScenarioMIP/EC-Earth-Consortium/EC-Earth3/ssp245/r120i1p1f1/Amon/tas/gr/files/d20210401/tas_Amon_EC-Earth3_ssp245_r120i1p1f1_gr_201801-201812.nc', '/badc/cmip6/data/CMIP6/ScenarioMIP/EC-Earth-Consortium/EC-Earth3/ssp245/r120i1p1f1/Amon/tas/gr/files/d20210401/tas_Amon_EC-Earth3_ssp245_r120i1p1f1_gr_201901-201912.nc', '/badc/cmip6/data/CMIP6/ScenarioMIP/EC-Earth-Consortium/EC-Earth3/ssp245/r120i1p1f1/Amon/tas/gr/files/d20210401/tas_Amon_EC-Earth3_ssp245_r120i1p1f1_gr_202001-202012.nc', '/badc/cmip6/data/CMIP6/ScenarioMIP/EC-Earth-Consortium/EC-Earth3/ssp245/r120i1p1f1/Amon/tas/gr/files/d20210401/tas_Amon_EC-Earth3_ssp245_r120i1p1f1_gr_202101-202112.nc', '/badc/cmip6/data/CMIP6/ScenarioMIP/EC-Earth-Consortium/EC-Earth3/ssp245/r120i1p1f1/Amon/tas/gr/files/d20210401/tas_Amon_EC-Earth3_ssp245_r120i1p1f1_gr_202201-202212.nc', '/badc/cmip6/data/CMIP6/ScenarioMIP/EC-Earth-Consortium/EC-Earth3/ssp245/r120i1p1f1/Amon/tas/gr/files/d20210401/tas_Amon_EC-Earth3_ssp245_r120i1p1f1_gr_202301-202312.nc', '/badc/cmip6/data/CMIP6/ScenarioMIP/EC-Earth-Consortium/EC-Earth3/ssp245/r120i1p1f1/Amon/tas/gr/files/d20210401/tas_Amon_EC-Earth3_ssp245_r120i1p1f1_gr_202401-202412.nc']\n"
     ]
    },
    {
     "name": "stderr",
     "output_type": "stream",
     "text": [
      "\n",
      "26it [00:00, 44.90it/s]\u001b[A"
     ]
    },
    {
     "name": "stdout",
     "output_type": "stream",
     "text": [
      "merging ['/badc/cmip6/data/CMIP6/ScenarioMIP/EC-Earth-Consortium/EC-Earth3/ssp245/r150i1p1f1/Amon/tas/gr/files/d20210401/tas_Amon_EC-Earth3_ssp245_r150i1p1f1_gr_201501-201512.nc', '/badc/cmip6/data/CMIP6/ScenarioMIP/EC-Earth-Consortium/EC-Earth3/ssp245/r150i1p1f1/Amon/tas/gr/files/d20210401/tas_Amon_EC-Earth3_ssp245_r150i1p1f1_gr_201601-201612.nc', '/badc/cmip6/data/CMIP6/ScenarioMIP/EC-Earth-Consortium/EC-Earth3/ssp245/r150i1p1f1/Amon/tas/gr/files/d20210401/tas_Amon_EC-Earth3_ssp245_r150i1p1f1_gr_201701-201712.nc', '/badc/cmip6/data/CMIP6/ScenarioMIP/EC-Earth-Consortium/EC-Earth3/ssp245/r150i1p1f1/Amon/tas/gr/files/d20210401/tas_Amon_EC-Earth3_ssp245_r150i1p1f1_gr_201801-201812.nc', '/badc/cmip6/data/CMIP6/ScenarioMIP/EC-Earth-Consortium/EC-Earth3/ssp245/r150i1p1f1/Amon/tas/gr/files/d20210401/tas_Amon_EC-Earth3_ssp245_r150i1p1f1_gr_201901-201912.nc', '/badc/cmip6/data/CMIP6/ScenarioMIP/EC-Earth-Consortium/EC-Earth3/ssp245/r150i1p1f1/Amon/tas/gr/files/d20210401/tas_Amon_EC-Earth3_ssp245_r150i1p1f1_gr_202001-202012.nc', '/badc/cmip6/data/CMIP6/ScenarioMIP/EC-Earth-Consortium/EC-Earth3/ssp245/r150i1p1f1/Amon/tas/gr/files/d20210401/tas_Amon_EC-Earth3_ssp245_r150i1p1f1_gr_202101-202112.nc', '/badc/cmip6/data/CMIP6/ScenarioMIP/EC-Earth-Consortium/EC-Earth3/ssp245/r150i1p1f1/Amon/tas/gr/files/d20210401/tas_Amon_EC-Earth3_ssp245_r150i1p1f1_gr_202201-202212.nc', '/badc/cmip6/data/CMIP6/ScenarioMIP/EC-Earth-Consortium/EC-Earth3/ssp245/r150i1p1f1/Amon/tas/gr/files/d20210401/tas_Amon_EC-Earth3_ssp245_r150i1p1f1_gr_202301-202312.nc', '/badc/cmip6/data/CMIP6/ScenarioMIP/EC-Earth-Consortium/EC-Earth3/ssp245/r150i1p1f1/Amon/tas/gr/files/d20210401/tas_Amon_EC-Earth3_ssp245_r150i1p1f1_gr_202401-202412.nc']\n",
      "merging ['/badc/cmip6/data/CMIP6/ScenarioMIP/EC-Earth-Consortium/EC-Earth3/ssp245/r147i1p1f1/Amon/tas/gr/files/d20210401/tas_Amon_EC-Earth3_ssp245_r147i1p1f1_gr_201501-201512.nc', '/badc/cmip6/data/CMIP6/ScenarioMIP/EC-Earth-Consortium/EC-Earth3/ssp245/r147i1p1f1/Amon/tas/gr/files/d20210401/tas_Amon_EC-Earth3_ssp245_r147i1p1f1_gr_201601-201612.nc', '/badc/cmip6/data/CMIP6/ScenarioMIP/EC-Earth-Consortium/EC-Earth3/ssp245/r147i1p1f1/Amon/tas/gr/files/d20210401/tas_Amon_EC-Earth3_ssp245_r147i1p1f1_gr_201701-201712.nc', '/badc/cmip6/data/CMIP6/ScenarioMIP/EC-Earth-Consortium/EC-Earth3/ssp245/r147i1p1f1/Amon/tas/gr/files/d20210401/tas_Amon_EC-Earth3_ssp245_r147i1p1f1_gr_201801-201812.nc', '/badc/cmip6/data/CMIP6/ScenarioMIP/EC-Earth-Consortium/EC-Earth3/ssp245/r147i1p1f1/Amon/tas/gr/files/d20210401/tas_Amon_EC-Earth3_ssp245_r147i1p1f1_gr_201901-201912.nc', '/badc/cmip6/data/CMIP6/ScenarioMIP/EC-Earth-Consortium/EC-Earth3/ssp245/r147i1p1f1/Amon/tas/gr/files/d20210401/tas_Amon_EC-Earth3_ssp245_r147i1p1f1_gr_202001-202012.nc', '/badc/cmip6/data/CMIP6/ScenarioMIP/EC-Earth-Consortium/EC-Earth3/ssp245/r147i1p1f1/Amon/tas/gr/files/d20210401/tas_Amon_EC-Earth3_ssp245_r147i1p1f1_gr_202101-202112.nc', '/badc/cmip6/data/CMIP6/ScenarioMIP/EC-Earth-Consortium/EC-Earth3/ssp245/r147i1p1f1/Amon/tas/gr/files/d20210401/tas_Amon_EC-Earth3_ssp245_r147i1p1f1_gr_202201-202212.nc', '/badc/cmip6/data/CMIP6/ScenarioMIP/EC-Earth-Consortium/EC-Earth3/ssp245/r147i1p1f1/Amon/tas/gr/files/d20210401/tas_Amon_EC-Earth3_ssp245_r147i1p1f1_gr_202301-202312.nc', '/badc/cmip6/data/CMIP6/ScenarioMIP/EC-Earth-Consortium/EC-Earth3/ssp245/r147i1p1f1/Amon/tas/gr/files/d20210401/tas_Amon_EC-Earth3_ssp245_r147i1p1f1_gr_202401-202412.nc']\n",
      "merging ['/badc/cmip6/data/CMIP6/ScenarioMIP/EC-Earth-Consortium/EC-Earth3/ssp245/r113i1p1f1/Amon/tas/gr/files/d20210401/tas_Amon_EC-Earth3_ssp245_r113i1p1f1_gr_201501-201512.nc', '/badc/cmip6/data/CMIP6/ScenarioMIP/EC-Earth-Consortium/EC-Earth3/ssp245/r113i1p1f1/Amon/tas/gr/files/d20210401/tas_Amon_EC-Earth3_ssp245_r113i1p1f1_gr_201601-201612.nc', '/badc/cmip6/data/CMIP6/ScenarioMIP/EC-Earth-Consortium/EC-Earth3/ssp245/r113i1p1f1/Amon/tas/gr/files/d20210401/tas_Amon_EC-Earth3_ssp245_r113i1p1f1_gr_201701-201712.nc', '/badc/cmip6/data/CMIP6/ScenarioMIP/EC-Earth-Consortium/EC-Earth3/ssp245/r113i1p1f1/Amon/tas/gr/files/d20210401/tas_Amon_EC-Earth3_ssp245_r113i1p1f1_gr_201801-201812.nc', '/badc/cmip6/data/CMIP6/ScenarioMIP/EC-Earth-Consortium/EC-Earth3/ssp245/r113i1p1f1/Amon/tas/gr/files/d20210401/tas_Amon_EC-Earth3_ssp245_r113i1p1f1_gr_201901-201912.nc', '/badc/cmip6/data/CMIP6/ScenarioMIP/EC-Earth-Consortium/EC-Earth3/ssp245/r113i1p1f1/Amon/tas/gr/files/d20210401/tas_Amon_EC-Earth3_ssp245_r113i1p1f1_gr_202001-202012.nc', '/badc/cmip6/data/CMIP6/ScenarioMIP/EC-Earth-Consortium/EC-Earth3/ssp245/r113i1p1f1/Amon/tas/gr/files/d20210401/tas_Amon_EC-Earth3_ssp245_r113i1p1f1_gr_202101-202112.nc', '/badc/cmip6/data/CMIP6/ScenarioMIP/EC-Earth-Consortium/EC-Earth3/ssp245/r113i1p1f1/Amon/tas/gr/files/d20210401/tas_Amon_EC-Earth3_ssp245_r113i1p1f1_gr_202201-202212.nc', '/badc/cmip6/data/CMIP6/ScenarioMIP/EC-Earth-Consortium/EC-Earth3/ssp245/r113i1p1f1/Amon/tas/gr/files/d20210401/tas_Amon_EC-Earth3_ssp245_r113i1p1f1_gr_202301-202312.nc', '/badc/cmip6/data/CMIP6/ScenarioMIP/EC-Earth-Consortium/EC-Earth3/ssp245/r113i1p1f1/Amon/tas/gr/files/d20210401/tas_Amon_EC-Earth3_ssp245_r113i1p1f1_gr_202401-202412.nc']\n",
      "merging ['/badc/cmip6/data/CMIP6/ScenarioMIP/EC-Earth-Consortium/EC-Earth3/ssp245/r128i1p1f1/Amon/tas/gr/files/d20210401/tas_Amon_EC-Earth3_ssp245_r128i1p1f1_gr_201501-201512.nc', '/badc/cmip6/data/CMIP6/ScenarioMIP/EC-Earth-Consortium/EC-Earth3/ssp245/r128i1p1f1/Amon/tas/gr/files/d20210401/tas_Amon_EC-Earth3_ssp245_r128i1p1f1_gr_201601-201612.nc', '/badc/cmip6/data/CMIP6/ScenarioMIP/EC-Earth-Consortium/EC-Earth3/ssp245/r128i1p1f1/Amon/tas/gr/files/d20210401/tas_Amon_EC-Earth3_ssp245_r128i1p1f1_gr_201701-201712.nc', '/badc/cmip6/data/CMIP6/ScenarioMIP/EC-Earth-Consortium/EC-Earth3/ssp245/r128i1p1f1/Amon/tas/gr/files/d20210401/tas_Amon_EC-Earth3_ssp245_r128i1p1f1_gr_201801-201812.nc', '/badc/cmip6/data/CMIP6/ScenarioMIP/EC-Earth-Consortium/EC-Earth3/ssp245/r128i1p1f1/Amon/tas/gr/files/d20210401/tas_Amon_EC-Earth3_ssp245_r128i1p1f1_gr_201901-201912.nc', '/badc/cmip6/data/CMIP6/ScenarioMIP/EC-Earth-Consortium/EC-Earth3/ssp245/r128i1p1f1/Amon/tas/gr/files/d20210401/tas_Amon_EC-Earth3_ssp245_r128i1p1f1_gr_202001-202012.nc', '/badc/cmip6/data/CMIP6/ScenarioMIP/EC-Earth-Consortium/EC-Earth3/ssp245/r128i1p1f1/Amon/tas/gr/files/d20210401/tas_Amon_EC-Earth3_ssp245_r128i1p1f1_gr_202101-202112.nc', '/badc/cmip6/data/CMIP6/ScenarioMIP/EC-Earth-Consortium/EC-Earth3/ssp245/r128i1p1f1/Amon/tas/gr/files/d20210401/tas_Amon_EC-Earth3_ssp245_r128i1p1f1_gr_202201-202212.nc', '/badc/cmip6/data/CMIP6/ScenarioMIP/EC-Earth-Consortium/EC-Earth3/ssp245/r128i1p1f1/Amon/tas/gr/files/d20210401/tas_Amon_EC-Earth3_ssp245_r128i1p1f1_gr_202301-202312.nc', '/badc/cmip6/data/CMIP6/ScenarioMIP/EC-Earth-Consortium/EC-Earth3/ssp245/r128i1p1f1/Amon/tas/gr/files/d20210401/tas_Amon_EC-Earth3_ssp245_r128i1p1f1_gr_202401-202412.nc']\n",
      "merging ['/badc/cmip6/data/CMIP6/ScenarioMIP/EC-Earth-Consortium/EC-Earth3/ssp245/r110i1p1f1/Amon/tas/gr/files/d20210401/tas_Amon_EC-Earth3_ssp245_r110i1p1f1_gr_201501-201512.nc', '/badc/cmip6/data/CMIP6/ScenarioMIP/EC-Earth-Consortium/EC-Earth3/ssp245/r110i1p1f1/Amon/tas/gr/files/d20210401/tas_Amon_EC-Earth3_ssp245_r110i1p1f1_gr_201601-201612.nc', '/badc/cmip6/data/CMIP6/ScenarioMIP/EC-Earth-Consortium/EC-Earth3/ssp245/r110i1p1f1/Amon/tas/gr/files/d20210401/tas_Amon_EC-Earth3_ssp245_r110i1p1f1_gr_201701-201712.nc', '/badc/cmip6/data/CMIP6/ScenarioMIP/EC-Earth-Consortium/EC-Earth3/ssp245/r110i1p1f1/Amon/tas/gr/files/d20210401/tas_Amon_EC-Earth3_ssp245_r110i1p1f1_gr_201801-201812.nc', '/badc/cmip6/data/CMIP6/ScenarioMIP/EC-Earth-Consortium/EC-Earth3/ssp245/r110i1p1f1/Amon/tas/gr/files/d20210401/tas_Amon_EC-Earth3_ssp245_r110i1p1f1_gr_201901-201912.nc', '/badc/cmip6/data/CMIP6/ScenarioMIP/EC-Earth-Consortium/EC-Earth3/ssp245/r110i1p1f1/Amon/tas/gr/files/d20210401/tas_Amon_EC-Earth3_ssp245_r110i1p1f1_gr_202001-202012.nc', '/badc/cmip6/data/CMIP6/ScenarioMIP/EC-Earth-Consortium/EC-Earth3/ssp245/r110i1p1f1/Amon/tas/gr/files/d20210401/tas_Amon_EC-Earth3_ssp245_r110i1p1f1_gr_202101-202112.nc', '/badc/cmip6/data/CMIP6/ScenarioMIP/EC-Earth-Consortium/EC-Earth3/ssp245/r110i1p1f1/Amon/tas/gr/files/d20210401/tas_Amon_EC-Earth3_ssp245_r110i1p1f1_gr_202201-202212.nc', '/badc/cmip6/data/CMIP6/ScenarioMIP/EC-Earth-Consortium/EC-Earth3/ssp245/r110i1p1f1/Amon/tas/gr/files/d20210401/tas_Amon_EC-Earth3_ssp245_r110i1p1f1_gr_202301-202312.nc', '/badc/cmip6/data/CMIP6/ScenarioMIP/EC-Earth-Consortium/EC-Earth3/ssp245/r110i1p1f1/Amon/tas/gr/files/d20210401/tas_Amon_EC-Earth3_ssp245_r110i1p1f1_gr_202401-202412.nc']\n",
      "merging ['/badc/cmip6/data/CMIP6/ScenarioMIP/EC-Earth-Consortium/EC-Earth3/ssp245/r145i1p1f1/Amon/tas/gr/files/d20210401/tas_Amon_EC-Earth3_ssp245_r145i1p1f1_gr_201501-201512.nc', '/badc/cmip6/data/CMIP6/ScenarioMIP/EC-Earth-Consortium/EC-Earth3/ssp245/r145i1p1f1/Amon/tas/gr/files/d20210401/tas_Amon_EC-Earth3_ssp245_r145i1p1f1_gr_201601-201612.nc', '/badc/cmip6/data/CMIP6/ScenarioMIP/EC-Earth-Consortium/EC-Earth3/ssp245/r145i1p1f1/Amon/tas/gr/files/d20210401/tas_Amon_EC-Earth3_ssp245_r145i1p1f1_gr_201701-201712.nc', '/badc/cmip6/data/CMIP6/ScenarioMIP/EC-Earth-Consortium/EC-Earth3/ssp245/r145i1p1f1/Amon/tas/gr/files/d20210401/tas_Amon_EC-Earth3_ssp245_r145i1p1f1_gr_201801-201812.nc', '/badc/cmip6/data/CMIP6/ScenarioMIP/EC-Earth-Consortium/EC-Earth3/ssp245/r145i1p1f1/Amon/tas/gr/files/d20210401/tas_Amon_EC-Earth3_ssp245_r145i1p1f1_gr_201901-201912.nc', '/badc/cmip6/data/CMIP6/ScenarioMIP/EC-Earth-Consortium/EC-Earth3/ssp245/r145i1p1f1/Amon/tas/gr/files/d20210401/tas_Amon_EC-Earth3_ssp245_r145i1p1f1_gr_202001-202012.nc', '/badc/cmip6/data/CMIP6/ScenarioMIP/EC-Earth-Consortium/EC-Earth3/ssp245/r145i1p1f1/Amon/tas/gr/files/d20210401/tas_Amon_EC-Earth3_ssp245_r145i1p1f1_gr_202101-202112.nc', '/badc/cmip6/data/CMIP6/ScenarioMIP/EC-Earth-Consortium/EC-Earth3/ssp245/r145i1p1f1/Amon/tas/gr/files/d20210401/tas_Amon_EC-Earth3_ssp245_r145i1p1f1_gr_202201-202212.nc', '/badc/cmip6/data/CMIP6/ScenarioMIP/EC-Earth-Consortium/EC-Earth3/ssp245/r145i1p1f1/Amon/tas/gr/files/d20210401/tas_Amon_EC-Earth3_ssp245_r145i1p1f1_gr_202301-202312.nc', '/badc/cmip6/data/CMIP6/ScenarioMIP/EC-Earth-Consortium/EC-Earth3/ssp245/r145i1p1f1/Amon/tas/gr/files/d20210401/tas_Amon_EC-Earth3_ssp245_r145i1p1f1_gr_202401-202412.nc']\n",
      "merging ['/badc/cmip6/data/CMIP6/ScenarioMIP/EC-Earth-Consortium/EC-Earth3/ssp245/r106i1p1f1/Amon/tas/gr/files/d20210401/tas_Amon_EC-Earth3_ssp245_r106i1p1f1_gr_201501-201512.nc', '/badc/cmip6/data/CMIP6/ScenarioMIP/EC-Earth-Consortium/EC-Earth3/ssp245/r106i1p1f1/Amon/tas/gr/files/d20210401/tas_Amon_EC-Earth3_ssp245_r106i1p1f1_gr_201601-201612.nc', '/badc/cmip6/data/CMIP6/ScenarioMIP/EC-Earth-Consortium/EC-Earth3/ssp245/r106i1p1f1/Amon/tas/gr/files/d20210401/tas_Amon_EC-Earth3_ssp245_r106i1p1f1_gr_201701-201712.nc', '/badc/cmip6/data/CMIP6/ScenarioMIP/EC-Earth-Consortium/EC-Earth3/ssp245/r106i1p1f1/Amon/tas/gr/files/d20210401/tas_Amon_EC-Earth3_ssp245_r106i1p1f1_gr_201801-201812.nc', '/badc/cmip6/data/CMIP6/ScenarioMIP/EC-Earth-Consortium/EC-Earth3/ssp245/r106i1p1f1/Amon/tas/gr/files/d20210401/tas_Amon_EC-Earth3_ssp245_r106i1p1f1_gr_201901-201912.nc', '/badc/cmip6/data/CMIP6/ScenarioMIP/EC-Earth-Consortium/EC-Earth3/ssp245/r106i1p1f1/Amon/tas/gr/files/d20210401/tas_Amon_EC-Earth3_ssp245_r106i1p1f1_gr_202001-202012.nc', '/badc/cmip6/data/CMIP6/ScenarioMIP/EC-Earth-Consortium/EC-Earth3/ssp245/r106i1p1f1/Amon/tas/gr/files/d20210401/tas_Amon_EC-Earth3_ssp245_r106i1p1f1_gr_202101-202112.nc', '/badc/cmip6/data/CMIP6/ScenarioMIP/EC-Earth-Consortium/EC-Earth3/ssp245/r106i1p1f1/Amon/tas/gr/files/d20210401/tas_Amon_EC-Earth3_ssp245_r106i1p1f1_gr_202201-202212.nc', '/badc/cmip6/data/CMIP6/ScenarioMIP/EC-Earth-Consortium/EC-Earth3/ssp245/r106i1p1f1/Amon/tas/gr/files/d20210401/tas_Amon_EC-Earth3_ssp245_r106i1p1f1_gr_202301-202312.nc', '/badc/cmip6/data/CMIP6/ScenarioMIP/EC-Earth-Consortium/EC-Earth3/ssp245/r106i1p1f1/Amon/tas/gr/files/d20210401/tas_Amon_EC-Earth3_ssp245_r106i1p1f1_gr_202401-202412.nc']\n",
      "merging ['/badc/cmip6/data/CMIP6/ScenarioMIP/EC-Earth-Consortium/EC-Earth3/ssp245/r137i1p1f1/Amon/tas/gr/files/d20210401/tas_Amon_EC-Earth3_ssp245_r137i1p1f1_gr_201501-201512.nc', '/badc/cmip6/data/CMIP6/ScenarioMIP/EC-Earth-Consortium/EC-Earth3/ssp245/r137i1p1f1/Amon/tas/gr/files/d20210401/tas_Amon_EC-Earth3_ssp245_r137i1p1f1_gr_201601-201612.nc', '/badc/cmip6/data/CMIP6/ScenarioMIP/EC-Earth-Consortium/EC-Earth3/ssp245/r137i1p1f1/Amon/tas/gr/files/d20210401/tas_Amon_EC-Earth3_ssp245_r137i1p1f1_gr_201701-201712.nc', '/badc/cmip6/data/CMIP6/ScenarioMIP/EC-Earth-Consortium/EC-Earth3/ssp245/r137i1p1f1/Amon/tas/gr/files/d20210401/tas_Amon_EC-Earth3_ssp245_r137i1p1f1_gr_201801-201812.nc', '/badc/cmip6/data/CMIP6/ScenarioMIP/EC-Earth-Consortium/EC-Earth3/ssp245/r137i1p1f1/Amon/tas/gr/files/d20210401/tas_Amon_EC-Earth3_ssp245_r137i1p1f1_gr_201901-201912.nc', '/badc/cmip6/data/CMIP6/ScenarioMIP/EC-Earth-Consortium/EC-Earth3/ssp245/r137i1p1f1/Amon/tas/gr/files/d20210401/tas_Amon_EC-Earth3_ssp245_r137i1p1f1_gr_202001-202012.nc', '/badc/cmip6/data/CMIP6/ScenarioMIP/EC-Earth-Consortium/EC-Earth3/ssp245/r137i1p1f1/Amon/tas/gr/files/d20210401/tas_Amon_EC-Earth3_ssp245_r137i1p1f1_gr_202101-202112.nc', '/badc/cmip6/data/CMIP6/ScenarioMIP/EC-Earth-Consortium/EC-Earth3/ssp245/r137i1p1f1/Amon/tas/gr/files/d20210401/tas_Amon_EC-Earth3_ssp245_r137i1p1f1_gr_202201-202212.nc', '/badc/cmip6/data/CMIP6/ScenarioMIP/EC-Earth-Consortium/EC-Earth3/ssp245/r137i1p1f1/Amon/tas/gr/files/d20210401/tas_Amon_EC-Earth3_ssp245_r137i1p1f1_gr_202301-202312.nc', '/badc/cmip6/data/CMIP6/ScenarioMIP/EC-Earth-Consortium/EC-Earth3/ssp245/r137i1p1f1/Amon/tas/gr/files/d20210401/tas_Amon_EC-Earth3_ssp245_r137i1p1f1_gr_202401-202412.nc']\n",
      "merging ['/badc/cmip6/data/CMIP6/ScenarioMIP/EC-Earth-Consortium/EC-Earth3/ssp245/r133i1p1f1/Amon/tas/gr/files/d20210401/tas_Amon_EC-Earth3_ssp245_r133i1p1f1_gr_201501-201512.nc', '/badc/cmip6/data/CMIP6/ScenarioMIP/EC-Earth-Consortium/EC-Earth3/ssp245/r133i1p1f1/Amon/tas/gr/files/d20210401/tas_Amon_EC-Earth3_ssp245_r133i1p1f1_gr_201601-201612.nc', '/badc/cmip6/data/CMIP6/ScenarioMIP/EC-Earth-Consortium/EC-Earth3/ssp245/r133i1p1f1/Amon/tas/gr/files/d20210401/tas_Amon_EC-Earth3_ssp245_r133i1p1f1_gr_201701-201712.nc', '/badc/cmip6/data/CMIP6/ScenarioMIP/EC-Earth-Consortium/EC-Earth3/ssp245/r133i1p1f1/Amon/tas/gr/files/d20210401/tas_Amon_EC-Earth3_ssp245_r133i1p1f1_gr_201801-201812.nc', '/badc/cmip6/data/CMIP6/ScenarioMIP/EC-Earth-Consortium/EC-Earth3/ssp245/r133i1p1f1/Amon/tas/gr/files/d20210401/tas_Amon_EC-Earth3_ssp245_r133i1p1f1_gr_201901-201912.nc', '/badc/cmip6/data/CMIP6/ScenarioMIP/EC-Earth-Consortium/EC-Earth3/ssp245/r133i1p1f1/Amon/tas/gr/files/d20210401/tas_Amon_EC-Earth3_ssp245_r133i1p1f1_gr_202001-202012.nc', '/badc/cmip6/data/CMIP6/ScenarioMIP/EC-Earth-Consortium/EC-Earth3/ssp245/r133i1p1f1/Amon/tas/gr/files/d20210401/tas_Amon_EC-Earth3_ssp245_r133i1p1f1_gr_202101-202112.nc', '/badc/cmip6/data/CMIP6/ScenarioMIP/EC-Earth-Consortium/EC-Earth3/ssp245/r133i1p1f1/Amon/tas/gr/files/d20210401/tas_Amon_EC-Earth3_ssp245_r133i1p1f1_gr_202201-202212.nc', '/badc/cmip6/data/CMIP6/ScenarioMIP/EC-Earth-Consortium/EC-Earth3/ssp245/r133i1p1f1/Amon/tas/gr/files/d20210401/tas_Amon_EC-Earth3_ssp245_r133i1p1f1_gr_202301-202312.nc', '/badc/cmip6/data/CMIP6/ScenarioMIP/EC-Earth-Consortium/EC-Earth3/ssp245/r133i1p1f1/Amon/tas/gr/files/d20210401/tas_Amon_EC-Earth3_ssp245_r133i1p1f1_gr_202401-202412.nc']\n"
     ]
    },
    {
     "name": "stderr",
     "output_type": "stream",
     "text": [
      "\n",
      "33it [00:00, 51.06it/s]"
     ]
    },
    {
     "name": "stdout",
     "output_type": "stream",
     "text": [
      "merging ['/badc/cmip6/data/CMIP6/ScenarioMIP/EC-Earth-Consortium/EC-Earth3/ssp245/r149i1p1f1/Amon/tas/gr/files/d20210401/tas_Amon_EC-Earth3_ssp245_r149i1p1f1_gr_201501-201512.nc', '/badc/cmip6/data/CMIP6/ScenarioMIP/EC-Earth-Consortium/EC-Earth3/ssp245/r149i1p1f1/Amon/tas/gr/files/d20210401/tas_Amon_EC-Earth3_ssp245_r149i1p1f1_gr_201601-201612.nc', '/badc/cmip6/data/CMIP6/ScenarioMIP/EC-Earth-Consortium/EC-Earth3/ssp245/r149i1p1f1/Amon/tas/gr/files/d20210401/tas_Amon_EC-Earth3_ssp245_r149i1p1f1_gr_201701-201712.nc', '/badc/cmip6/data/CMIP6/ScenarioMIP/EC-Earth-Consortium/EC-Earth3/ssp245/r149i1p1f1/Amon/tas/gr/files/d20210401/tas_Amon_EC-Earth3_ssp245_r149i1p1f1_gr_201801-201812.nc', '/badc/cmip6/data/CMIP6/ScenarioMIP/EC-Earth-Consortium/EC-Earth3/ssp245/r149i1p1f1/Amon/tas/gr/files/d20210401/tas_Amon_EC-Earth3_ssp245_r149i1p1f1_gr_201901-201912.nc', '/badc/cmip6/data/CMIP6/ScenarioMIP/EC-Earth-Consortium/EC-Earth3/ssp245/r149i1p1f1/Amon/tas/gr/files/d20210401/tas_Amon_EC-Earth3_ssp245_r149i1p1f1_gr_202001-202012.nc', '/badc/cmip6/data/CMIP6/ScenarioMIP/EC-Earth-Consortium/EC-Earth3/ssp245/r149i1p1f1/Amon/tas/gr/files/d20210401/tas_Amon_EC-Earth3_ssp245_r149i1p1f1_gr_202101-202112.nc', '/badc/cmip6/data/CMIP6/ScenarioMIP/EC-Earth-Consortium/EC-Earth3/ssp245/r149i1p1f1/Amon/tas/gr/files/d20210401/tas_Amon_EC-Earth3_ssp245_r149i1p1f1_gr_202201-202212.nc', '/badc/cmip6/data/CMIP6/ScenarioMIP/EC-Earth-Consortium/EC-Earth3/ssp245/r149i1p1f1/Amon/tas/gr/files/d20210401/tas_Amon_EC-Earth3_ssp245_r149i1p1f1_gr_202301-202312.nc', '/badc/cmip6/data/CMIP6/ScenarioMIP/EC-Earth-Consortium/EC-Earth3/ssp245/r149i1p1f1/Amon/tas/gr/files/d20210401/tas_Amon_EC-Earth3_ssp245_r149i1p1f1_gr_202401-202412.nc']\n"
     ]
    },
    {
     "name": "stderr",
     "output_type": "stream",
     "text": [
      "\u001b[A"
     ]
    },
    {
     "name": "stdout",
     "output_type": "stream",
     "text": [
      "merging ['/badc/cmip6/data/CMIP6/ScenarioMIP/EC-Earth-Consortium/EC-Earth3/ssp245/r108i1p1f1/Amon/tas/gr/files/d20210401/tas_Amon_EC-Earth3_ssp245_r108i1p1f1_gr_201501-201512.nc', '/badc/cmip6/data/CMIP6/ScenarioMIP/EC-Earth-Consortium/EC-Earth3/ssp245/r108i1p1f1/Amon/tas/gr/files/d20210401/tas_Amon_EC-Earth3_ssp245_r108i1p1f1_gr_201601-201612.nc', '/badc/cmip6/data/CMIP6/ScenarioMIP/EC-Earth-Consortium/EC-Earth3/ssp245/r108i1p1f1/Amon/tas/gr/files/d20210401/tas_Amon_EC-Earth3_ssp245_r108i1p1f1_gr_201701-201712.nc', '/badc/cmip6/data/CMIP6/ScenarioMIP/EC-Earth-Consortium/EC-Earth3/ssp245/r108i1p1f1/Amon/tas/gr/files/d20210401/tas_Amon_EC-Earth3_ssp245_r108i1p1f1_gr_201801-201812.nc', '/badc/cmip6/data/CMIP6/ScenarioMIP/EC-Earth-Consortium/EC-Earth3/ssp245/r108i1p1f1/Amon/tas/gr/files/d20210401/tas_Amon_EC-Earth3_ssp245_r108i1p1f1_gr_201901-201912.nc', '/badc/cmip6/data/CMIP6/ScenarioMIP/EC-Earth-Consortium/EC-Earth3/ssp245/r108i1p1f1/Amon/tas/gr/files/d20210401/tas_Amon_EC-Earth3_ssp245_r108i1p1f1_gr_202001-202012.nc', '/badc/cmip6/data/CMIP6/ScenarioMIP/EC-Earth-Consortium/EC-Earth3/ssp245/r108i1p1f1/Amon/tas/gr/files/d20210401/tas_Amon_EC-Earth3_ssp245_r108i1p1f1_gr_202101-202112.nc', '/badc/cmip6/data/CMIP6/ScenarioMIP/EC-Earth-Consortium/EC-Earth3/ssp245/r108i1p1f1/Amon/tas/gr/files/d20210401/tas_Amon_EC-Earth3_ssp245_r108i1p1f1_gr_202201-202212.nc', '/badc/cmip6/data/CMIP6/ScenarioMIP/EC-Earth-Consortium/EC-Earth3/ssp245/r108i1p1f1/Amon/tas/gr/files/d20210401/tas_Amon_EC-Earth3_ssp245_r108i1p1f1_gr_202301-202312.nc', '/badc/cmip6/data/CMIP6/ScenarioMIP/EC-Earth-Consortium/EC-Earth3/ssp245/r108i1p1f1/Amon/tas/gr/files/d20210401/tas_Amon_EC-Earth3_ssp245_r108i1p1f1_gr_202401-202412.nc']\n",
      "merging ['/badc/cmip6/data/CMIP6/ScenarioMIP/EC-Earth-Consortium/EC-Earth3/ssp245/r124i1p1f1/Amon/tas/gr/files/d20210401/tas_Amon_EC-Earth3_ssp245_r124i1p1f1_gr_201501-201512.nc', '/badc/cmip6/data/CMIP6/ScenarioMIP/EC-Earth-Consortium/EC-Earth3/ssp245/r124i1p1f1/Amon/tas/gr/files/d20210401/tas_Amon_EC-Earth3_ssp245_r124i1p1f1_gr_201601-201612.nc', '/badc/cmip6/data/CMIP6/ScenarioMIP/EC-Earth-Consortium/EC-Earth3/ssp245/r124i1p1f1/Amon/tas/gr/files/d20210401/tas_Amon_EC-Earth3_ssp245_r124i1p1f1_gr_201701-201712.nc', '/badc/cmip6/data/CMIP6/ScenarioMIP/EC-Earth-Consortium/EC-Earth3/ssp245/r124i1p1f1/Amon/tas/gr/files/d20210401/tas_Amon_EC-Earth3_ssp245_r124i1p1f1_gr_201801-201812.nc', '/badc/cmip6/data/CMIP6/ScenarioMIP/EC-Earth-Consortium/EC-Earth3/ssp245/r124i1p1f1/Amon/tas/gr/files/d20210401/tas_Amon_EC-Earth3_ssp245_r124i1p1f1_gr_201901-201912.nc', '/badc/cmip6/data/CMIP6/ScenarioMIP/EC-Earth-Consortium/EC-Earth3/ssp245/r124i1p1f1/Amon/tas/gr/files/d20210401/tas_Amon_EC-Earth3_ssp245_r124i1p1f1_gr_202001-202012.nc', '/badc/cmip6/data/CMIP6/ScenarioMIP/EC-Earth-Consortium/EC-Earth3/ssp245/r124i1p1f1/Amon/tas/gr/files/d20210401/tas_Amon_EC-Earth3_ssp245_r124i1p1f1_gr_202101-202112.nc', '/badc/cmip6/data/CMIP6/ScenarioMIP/EC-Earth-Consortium/EC-Earth3/ssp245/r124i1p1f1/Amon/tas/gr/files/d20210401/tas_Amon_EC-Earth3_ssp245_r124i1p1f1_gr_202201-202212.nc', '/badc/cmip6/data/CMIP6/ScenarioMIP/EC-Earth-Consortium/EC-Earth3/ssp245/r124i1p1f1/Amon/tas/gr/files/d20210401/tas_Amon_EC-Earth3_ssp245_r124i1p1f1_gr_202301-202312.nc', '/badc/cmip6/data/CMIP6/ScenarioMIP/EC-Earth-Consortium/EC-Earth3/ssp245/r124i1p1f1/Amon/tas/gr/files/d20210401/tas_Amon_EC-Earth3_ssp245_r124i1p1f1_gr_202401-202412.nc']\n",
      "merging ['/badc/cmip6/data/CMIP6/ScenarioMIP/EC-Earth-Consortium/EC-Earth3/ssp245/r131i1p1f1/Amon/tas/gr/files/d20210401/tas_Amon_EC-Earth3_ssp245_r131i1p1f1_gr_201501-201512.nc', '/badc/cmip6/data/CMIP6/ScenarioMIP/EC-Earth-Consortium/EC-Earth3/ssp245/r131i1p1f1/Amon/tas/gr/files/d20210401/tas_Amon_EC-Earth3_ssp245_r131i1p1f1_gr_201601-201612.nc', '/badc/cmip6/data/CMIP6/ScenarioMIP/EC-Earth-Consortium/EC-Earth3/ssp245/r131i1p1f1/Amon/tas/gr/files/d20210401/tas_Amon_EC-Earth3_ssp245_r131i1p1f1_gr_201701-201712.nc', '/badc/cmip6/data/CMIP6/ScenarioMIP/EC-Earth-Consortium/EC-Earth3/ssp245/r131i1p1f1/Amon/tas/gr/files/d20210401/tas_Amon_EC-Earth3_ssp245_r131i1p1f1_gr_201801-201812.nc', '/badc/cmip6/data/CMIP6/ScenarioMIP/EC-Earth-Consortium/EC-Earth3/ssp245/r131i1p1f1/Amon/tas/gr/files/d20210401/tas_Amon_EC-Earth3_ssp245_r131i1p1f1_gr_201901-201912.nc', '/badc/cmip6/data/CMIP6/ScenarioMIP/EC-Earth-Consortium/EC-Earth3/ssp245/r131i1p1f1/Amon/tas/gr/files/d20210401/tas_Amon_EC-Earth3_ssp245_r131i1p1f1_gr_202001-202012.nc', '/badc/cmip6/data/CMIP6/ScenarioMIP/EC-Earth-Consortium/EC-Earth3/ssp245/r131i1p1f1/Amon/tas/gr/files/d20210401/tas_Amon_EC-Earth3_ssp245_r131i1p1f1_gr_202101-202112.nc', '/badc/cmip6/data/CMIP6/ScenarioMIP/EC-Earth-Consortium/EC-Earth3/ssp245/r131i1p1f1/Amon/tas/gr/files/d20210401/tas_Amon_EC-Earth3_ssp245_r131i1p1f1_gr_202201-202212.nc', '/badc/cmip6/data/CMIP6/ScenarioMIP/EC-Earth-Consortium/EC-Earth3/ssp245/r131i1p1f1/Amon/tas/gr/files/d20210401/tas_Amon_EC-Earth3_ssp245_r131i1p1f1_gr_202301-202312.nc', '/badc/cmip6/data/CMIP6/ScenarioMIP/EC-Earth-Consortium/EC-Earth3/ssp245/r131i1p1f1/Amon/tas/gr/files/d20210401/tas_Amon_EC-Earth3_ssp245_r131i1p1f1_gr_202401-202412.nc']\n",
      "merging ['/badc/cmip6/data/CMIP6/ScenarioMIP/EC-Earth-Consortium/EC-Earth3/ssp245/r132i1p1f1/Amon/tas/gr/files/d20210401/tas_Amon_EC-Earth3_ssp245_r132i1p1f1_gr_201501-201512.nc', '/badc/cmip6/data/CMIP6/ScenarioMIP/EC-Earth-Consortium/EC-Earth3/ssp245/r132i1p1f1/Amon/tas/gr/files/d20210401/tas_Amon_EC-Earth3_ssp245_r132i1p1f1_gr_201601-201612.nc', '/badc/cmip6/data/CMIP6/ScenarioMIP/EC-Earth-Consortium/EC-Earth3/ssp245/r132i1p1f1/Amon/tas/gr/files/d20210401/tas_Amon_EC-Earth3_ssp245_r132i1p1f1_gr_201701-201712.nc', '/badc/cmip6/data/CMIP6/ScenarioMIP/EC-Earth-Consortium/EC-Earth3/ssp245/r132i1p1f1/Amon/tas/gr/files/d20210401/tas_Amon_EC-Earth3_ssp245_r132i1p1f1_gr_201801-201812.nc', '/badc/cmip6/data/CMIP6/ScenarioMIP/EC-Earth-Consortium/EC-Earth3/ssp245/r132i1p1f1/Amon/tas/gr/files/d20210401/tas_Amon_EC-Earth3_ssp245_r132i1p1f1_gr_201901-201912.nc', '/badc/cmip6/data/CMIP6/ScenarioMIP/EC-Earth-Consortium/EC-Earth3/ssp245/r132i1p1f1/Amon/tas/gr/files/d20210401/tas_Amon_EC-Earth3_ssp245_r132i1p1f1_gr_202001-202012.nc', '/badc/cmip6/data/CMIP6/ScenarioMIP/EC-Earth-Consortium/EC-Earth3/ssp245/r132i1p1f1/Amon/tas/gr/files/d20210401/tas_Amon_EC-Earth3_ssp245_r132i1p1f1_gr_202101-202112.nc', '/badc/cmip6/data/CMIP6/ScenarioMIP/EC-Earth-Consortium/EC-Earth3/ssp245/r132i1p1f1/Amon/tas/gr/files/d20210401/tas_Amon_EC-Earth3_ssp245_r132i1p1f1_gr_202201-202212.nc', '/badc/cmip6/data/CMIP6/ScenarioMIP/EC-Earth-Consortium/EC-Earth3/ssp245/r132i1p1f1/Amon/tas/gr/files/d20210401/tas_Amon_EC-Earth3_ssp245_r132i1p1f1_gr_202301-202312.nc', '/badc/cmip6/data/CMIP6/ScenarioMIP/EC-Earth-Consortium/EC-Earth3/ssp245/r132i1p1f1/Amon/tas/gr/files/d20210401/tas_Amon_EC-Earth3_ssp245_r132i1p1f1_gr_202401-202412.nc']\n"
     ]
    },
    {
     "name": "stderr",
     "output_type": "stream",
     "text": [
      "\n",
      "41it [00:00, 58.31it/s]\u001b[A"
     ]
    },
    {
     "name": "stdout",
     "output_type": "stream",
     "text": [
      "merging ['/badc/cmip6/data/CMIP6/ScenarioMIP/EC-Earth-Consortium/EC-Earth3/ssp245/r140i1p1f1/Amon/tas/gr/files/d20210401/tas_Amon_EC-Earth3_ssp245_r140i1p1f1_gr_201501-201512.nc', '/badc/cmip6/data/CMIP6/ScenarioMIP/EC-Earth-Consortium/EC-Earth3/ssp245/r140i1p1f1/Amon/tas/gr/files/d20210401/tas_Amon_EC-Earth3_ssp245_r140i1p1f1_gr_201601-201612.nc', '/badc/cmip6/data/CMIP6/ScenarioMIP/EC-Earth-Consortium/EC-Earth3/ssp245/r140i1p1f1/Amon/tas/gr/files/d20210401/tas_Amon_EC-Earth3_ssp245_r140i1p1f1_gr_201701-201712.nc', '/badc/cmip6/data/CMIP6/ScenarioMIP/EC-Earth-Consortium/EC-Earth3/ssp245/r140i1p1f1/Amon/tas/gr/files/d20210401/tas_Amon_EC-Earth3_ssp245_r140i1p1f1_gr_201801-201812.nc', '/badc/cmip6/data/CMIP6/ScenarioMIP/EC-Earth-Consortium/EC-Earth3/ssp245/r140i1p1f1/Amon/tas/gr/files/d20210401/tas_Amon_EC-Earth3_ssp245_r140i1p1f1_gr_201901-201912.nc', '/badc/cmip6/data/CMIP6/ScenarioMIP/EC-Earth-Consortium/EC-Earth3/ssp245/r140i1p1f1/Amon/tas/gr/files/d20210401/tas_Amon_EC-Earth3_ssp245_r140i1p1f1_gr_202001-202012.nc', '/badc/cmip6/data/CMIP6/ScenarioMIP/EC-Earth-Consortium/EC-Earth3/ssp245/r140i1p1f1/Amon/tas/gr/files/d20210401/tas_Amon_EC-Earth3_ssp245_r140i1p1f1_gr_202101-202112.nc', '/badc/cmip6/data/CMIP6/ScenarioMIP/EC-Earth-Consortium/EC-Earth3/ssp245/r140i1p1f1/Amon/tas/gr/files/d20210401/tas_Amon_EC-Earth3_ssp245_r140i1p1f1_gr_202201-202212.nc', '/badc/cmip6/data/CMIP6/ScenarioMIP/EC-Earth-Consortium/EC-Earth3/ssp245/r140i1p1f1/Amon/tas/gr/files/d20210401/tas_Amon_EC-Earth3_ssp245_r140i1p1f1_gr_202301-202312.nc', '/badc/cmip6/data/CMIP6/ScenarioMIP/EC-Earth-Consortium/EC-Earth3/ssp245/r140i1p1f1/Amon/tas/gr/files/d20210401/tas_Amon_EC-Earth3_ssp245_r140i1p1f1_gr_202401-202412.nc']\n",
      "merging ['/badc/cmip6/data/CMIP6/ScenarioMIP/EC-Earth-Consortium/EC-Earth3/ssp245/r130i1p1f1/Amon/tas/gr/files/d20210401/tas_Amon_EC-Earth3_ssp245_r130i1p1f1_gr_201501-201512.nc', '/badc/cmip6/data/CMIP6/ScenarioMIP/EC-Earth-Consortium/EC-Earth3/ssp245/r130i1p1f1/Amon/tas/gr/files/d20210401/tas_Amon_EC-Earth3_ssp245_r130i1p1f1_gr_201601-201612.nc', '/badc/cmip6/data/CMIP6/ScenarioMIP/EC-Earth-Consortium/EC-Earth3/ssp245/r130i1p1f1/Amon/tas/gr/files/d20210401/tas_Amon_EC-Earth3_ssp245_r130i1p1f1_gr_201701-201712.nc', '/badc/cmip6/data/CMIP6/ScenarioMIP/EC-Earth-Consortium/EC-Earth3/ssp245/r130i1p1f1/Amon/tas/gr/files/d20210401/tas_Amon_EC-Earth3_ssp245_r130i1p1f1_gr_201801-201812.nc', '/badc/cmip6/data/CMIP6/ScenarioMIP/EC-Earth-Consortium/EC-Earth3/ssp245/r130i1p1f1/Amon/tas/gr/files/d20210401/tas_Amon_EC-Earth3_ssp245_r130i1p1f1_gr_201901-201912.nc', '/badc/cmip6/data/CMIP6/ScenarioMIP/EC-Earth-Consortium/EC-Earth3/ssp245/r130i1p1f1/Amon/tas/gr/files/d20210401/tas_Amon_EC-Earth3_ssp245_r130i1p1f1_gr_202001-202012.nc', '/badc/cmip6/data/CMIP6/ScenarioMIP/EC-Earth-Consortium/EC-Earth3/ssp245/r130i1p1f1/Amon/tas/gr/files/d20210401/tas_Amon_EC-Earth3_ssp245_r130i1p1f1_gr_202101-202112.nc', '/badc/cmip6/data/CMIP6/ScenarioMIP/EC-Earth-Consortium/EC-Earth3/ssp245/r130i1p1f1/Amon/tas/gr/files/d20210401/tas_Amon_EC-Earth3_ssp245_r130i1p1f1_gr_202201-202212.nc', '/badc/cmip6/data/CMIP6/ScenarioMIP/EC-Earth-Consortium/EC-Earth3/ssp245/r130i1p1f1/Amon/tas/gr/files/d20210401/tas_Amon_EC-Earth3_ssp245_r130i1p1f1_gr_202301-202312.nc', '/badc/cmip6/data/CMIP6/ScenarioMIP/EC-Earth-Consortium/EC-Earth3/ssp245/r130i1p1f1/Amon/tas/gr/files/d20210401/tas_Amon_EC-Earth3_ssp245_r130i1p1f1_gr_202401-202412.nc']\n",
      "merging ['/badc/cmip6/data/CMIP6/ScenarioMIP/EC-Earth-Consortium/EC-Earth3/ssp245/r148i1p1f1/Amon/tas/gr/files/d20210401/tas_Amon_EC-Earth3_ssp245_r148i1p1f1_gr_201501-201512.nc', '/badc/cmip6/data/CMIP6/ScenarioMIP/EC-Earth-Consortium/EC-Earth3/ssp245/r148i1p1f1/Amon/tas/gr/files/d20210401/tas_Amon_EC-Earth3_ssp245_r148i1p1f1_gr_201601-201612.nc', '/badc/cmip6/data/CMIP6/ScenarioMIP/EC-Earth-Consortium/EC-Earth3/ssp245/r148i1p1f1/Amon/tas/gr/files/d20210401/tas_Amon_EC-Earth3_ssp245_r148i1p1f1_gr_201701-201712.nc', '/badc/cmip6/data/CMIP6/ScenarioMIP/EC-Earth-Consortium/EC-Earth3/ssp245/r148i1p1f1/Amon/tas/gr/files/d20210401/tas_Amon_EC-Earth3_ssp245_r148i1p1f1_gr_201801-201812.nc', '/badc/cmip6/data/CMIP6/ScenarioMIP/EC-Earth-Consortium/EC-Earth3/ssp245/r148i1p1f1/Amon/tas/gr/files/d20210401/tas_Amon_EC-Earth3_ssp245_r148i1p1f1_gr_201901-201912.nc', '/badc/cmip6/data/CMIP6/ScenarioMIP/EC-Earth-Consortium/EC-Earth3/ssp245/r148i1p1f1/Amon/tas/gr/files/d20210401/tas_Amon_EC-Earth3_ssp245_r148i1p1f1_gr_202001-202012.nc', '/badc/cmip6/data/CMIP6/ScenarioMIP/EC-Earth-Consortium/EC-Earth3/ssp245/r148i1p1f1/Amon/tas/gr/files/d20210401/tas_Amon_EC-Earth3_ssp245_r148i1p1f1_gr_202101-202112.nc', '/badc/cmip6/data/CMIP6/ScenarioMIP/EC-Earth-Consortium/EC-Earth3/ssp245/r148i1p1f1/Amon/tas/gr/files/d20210401/tas_Amon_EC-Earth3_ssp245_r148i1p1f1_gr_202201-202212.nc', '/badc/cmip6/data/CMIP6/ScenarioMIP/EC-Earth-Consortium/EC-Earth3/ssp245/r148i1p1f1/Amon/tas/gr/files/d20210401/tas_Amon_EC-Earth3_ssp245_r148i1p1f1_gr_202301-202312.nc', '/badc/cmip6/data/CMIP6/ScenarioMIP/EC-Earth-Consortium/EC-Earth3/ssp245/r148i1p1f1/Amon/tas/gr/files/d20210401/tas_Amon_EC-Earth3_ssp245_r148i1p1f1_gr_202401-202412.nc']\n",
      "merging ['/badc/cmip6/data/CMIP6/ScenarioMIP/EC-Earth-Consortium/EC-Earth3/ssp245/r115i1p1f1/Amon/tas/gr/files/d20210401/tas_Amon_EC-Earth3_ssp245_r115i1p1f1_gr_201501-201512.nc', '/badc/cmip6/data/CMIP6/ScenarioMIP/EC-Earth-Consortium/EC-Earth3/ssp245/r115i1p1f1/Amon/tas/gr/files/d20210401/tas_Amon_EC-Earth3_ssp245_r115i1p1f1_gr_201601-201612.nc', '/badc/cmip6/data/CMIP6/ScenarioMIP/EC-Earth-Consortium/EC-Earth3/ssp245/r115i1p1f1/Amon/tas/gr/files/d20210401/tas_Amon_EC-Earth3_ssp245_r115i1p1f1_gr_201701-201712.nc', '/badc/cmip6/data/CMIP6/ScenarioMIP/EC-Earth-Consortium/EC-Earth3/ssp245/r115i1p1f1/Amon/tas/gr/files/d20210401/tas_Amon_EC-Earth3_ssp245_r115i1p1f1_gr_201801-201812.nc', '/badc/cmip6/data/CMIP6/ScenarioMIP/EC-Earth-Consortium/EC-Earth3/ssp245/r115i1p1f1/Amon/tas/gr/files/d20210401/tas_Amon_EC-Earth3_ssp245_r115i1p1f1_gr_201901-201912.nc', '/badc/cmip6/data/CMIP6/ScenarioMIP/EC-Earth-Consortium/EC-Earth3/ssp245/r115i1p1f1/Amon/tas/gr/files/d20210401/tas_Amon_EC-Earth3_ssp245_r115i1p1f1_gr_202001-202012.nc', '/badc/cmip6/data/CMIP6/ScenarioMIP/EC-Earth-Consortium/EC-Earth3/ssp245/r115i1p1f1/Amon/tas/gr/files/d20210401/tas_Amon_EC-Earth3_ssp245_r115i1p1f1_gr_202101-202112.nc', '/badc/cmip6/data/CMIP6/ScenarioMIP/EC-Earth-Consortium/EC-Earth3/ssp245/r115i1p1f1/Amon/tas/gr/files/d20210401/tas_Amon_EC-Earth3_ssp245_r115i1p1f1_gr_202201-202212.nc', '/badc/cmip6/data/CMIP6/ScenarioMIP/EC-Earth-Consortium/EC-Earth3/ssp245/r115i1p1f1/Amon/tas/gr/files/d20210401/tas_Amon_EC-Earth3_ssp245_r115i1p1f1_gr_202301-202312.nc', '/badc/cmip6/data/CMIP6/ScenarioMIP/EC-Earth-Consortium/EC-Earth3/ssp245/r115i1p1f1/Amon/tas/gr/files/d20210401/tas_Amon_EC-Earth3_ssp245_r115i1p1f1_gr_202401-202412.nc']\n",
      "merging ['/badc/cmip6/data/CMIP6/ScenarioMIP/EC-Earth-Consortium/EC-Earth3/ssp245/r118i1p1f1/Amon/tas/gr/files/d20210401/tas_Amon_EC-Earth3_ssp245_r118i1p1f1_gr_201501-201512.nc', '/badc/cmip6/data/CMIP6/ScenarioMIP/EC-Earth-Consortium/EC-Earth3/ssp245/r118i1p1f1/Amon/tas/gr/files/d20210401/tas_Amon_EC-Earth3_ssp245_r118i1p1f1_gr_201601-201612.nc', '/badc/cmip6/data/CMIP6/ScenarioMIP/EC-Earth-Consortium/EC-Earth3/ssp245/r118i1p1f1/Amon/tas/gr/files/d20210401/tas_Amon_EC-Earth3_ssp245_r118i1p1f1_gr_201701-201712.nc', '/badc/cmip6/data/CMIP6/ScenarioMIP/EC-Earth-Consortium/EC-Earth3/ssp245/r118i1p1f1/Amon/tas/gr/files/d20210401/tas_Amon_EC-Earth3_ssp245_r118i1p1f1_gr_201801-201812.nc', '/badc/cmip6/data/CMIP6/ScenarioMIP/EC-Earth-Consortium/EC-Earth3/ssp245/r118i1p1f1/Amon/tas/gr/files/d20210401/tas_Amon_EC-Earth3_ssp245_r118i1p1f1_gr_201901-201912.nc', '/badc/cmip6/data/CMIP6/ScenarioMIP/EC-Earth-Consortium/EC-Earth3/ssp245/r118i1p1f1/Amon/tas/gr/files/d20210401/tas_Amon_EC-Earth3_ssp245_r118i1p1f1_gr_202001-202012.nc', '/badc/cmip6/data/CMIP6/ScenarioMIP/EC-Earth-Consortium/EC-Earth3/ssp245/r118i1p1f1/Amon/tas/gr/files/d20210401/tas_Amon_EC-Earth3_ssp245_r118i1p1f1_gr_202101-202112.nc', '/badc/cmip6/data/CMIP6/ScenarioMIP/EC-Earth-Consortium/EC-Earth3/ssp245/r118i1p1f1/Amon/tas/gr/files/d20210401/tas_Amon_EC-Earth3_ssp245_r118i1p1f1_gr_202201-202212.nc', '/badc/cmip6/data/CMIP6/ScenarioMIP/EC-Earth-Consortium/EC-Earth3/ssp245/r118i1p1f1/Amon/tas/gr/files/d20210401/tas_Amon_EC-Earth3_ssp245_r118i1p1f1_gr_202301-202312.nc', '/badc/cmip6/data/CMIP6/ScenarioMIP/EC-Earth-Consortium/EC-Earth3/ssp245/r118i1p1f1/Amon/tas/gr/files/d20210401/tas_Amon_EC-Earth3_ssp245_r118i1p1f1_gr_202401-202412.nc']\n",
      "merging ['/badc/cmip6/data/CMIP6/ScenarioMIP/EC-Earth-Consortium/EC-Earth3/ssp245/r111i1p1f1/Amon/tas/gr/files/d20210401/tas_Amon_EC-Earth3_ssp245_r111i1p1f1_gr_201501-201512.nc', '/badc/cmip6/data/CMIP6/ScenarioMIP/EC-Earth-Consortium/EC-Earth3/ssp245/r111i1p1f1/Amon/tas/gr/files/d20210401/tas_Amon_EC-Earth3_ssp245_r111i1p1f1_gr_201601-201612.nc', '/badc/cmip6/data/CMIP6/ScenarioMIP/EC-Earth-Consortium/EC-Earth3/ssp245/r111i1p1f1/Amon/tas/gr/files/d20210401/tas_Amon_EC-Earth3_ssp245_r111i1p1f1_gr_201701-201712.nc', '/badc/cmip6/data/CMIP6/ScenarioMIP/EC-Earth-Consortium/EC-Earth3/ssp245/r111i1p1f1/Amon/tas/gr/files/d20210401/tas_Amon_EC-Earth3_ssp245_r111i1p1f1_gr_201801-201812.nc', '/badc/cmip6/data/CMIP6/ScenarioMIP/EC-Earth-Consortium/EC-Earth3/ssp245/r111i1p1f1/Amon/tas/gr/files/d20210401/tas_Amon_EC-Earth3_ssp245_r111i1p1f1_gr_201901-201912.nc', '/badc/cmip6/data/CMIP6/ScenarioMIP/EC-Earth-Consortium/EC-Earth3/ssp245/r111i1p1f1/Amon/tas/gr/files/d20210401/tas_Amon_EC-Earth3_ssp245_r111i1p1f1_gr_202001-202012.nc', '/badc/cmip6/data/CMIP6/ScenarioMIP/EC-Earth-Consortium/EC-Earth3/ssp245/r111i1p1f1/Amon/tas/gr/files/d20210401/tas_Amon_EC-Earth3_ssp245_r111i1p1f1_gr_202101-202112.nc', '/badc/cmip6/data/CMIP6/ScenarioMIP/EC-Earth-Consortium/EC-Earth3/ssp245/r111i1p1f1/Amon/tas/gr/files/d20210401/tas_Amon_EC-Earth3_ssp245_r111i1p1f1_gr_202201-202212.nc', '/badc/cmip6/data/CMIP6/ScenarioMIP/EC-Earth-Consortium/EC-Earth3/ssp245/r111i1p1f1/Amon/tas/gr/files/d20210401/tas_Amon_EC-Earth3_ssp245_r111i1p1f1_gr_202301-202312.nc', '/badc/cmip6/data/CMIP6/ScenarioMIP/EC-Earth-Consortium/EC-Earth3/ssp245/r111i1p1f1/Amon/tas/gr/files/d20210401/tas_Amon_EC-Earth3_ssp245_r111i1p1f1_gr_202401-202412.nc']\n",
      "merging ['/badc/cmip6/data/CMIP6/ScenarioMIP/EC-Earth-Consortium/EC-Earth3/ssp245/r102i1p1f1/Amon/tas/gr/files/d20210401/tas_Amon_EC-Earth3_ssp245_r102i1p1f1_gr_201501-201512.nc', '/badc/cmip6/data/CMIP6/ScenarioMIP/EC-Earth-Consortium/EC-Earth3/ssp245/r102i1p1f1/Amon/tas/gr/files/d20210401/tas_Amon_EC-Earth3_ssp245_r102i1p1f1_gr_201601-201612.nc', '/badc/cmip6/data/CMIP6/ScenarioMIP/EC-Earth-Consortium/EC-Earth3/ssp245/r102i1p1f1/Amon/tas/gr/files/d20210401/tas_Amon_EC-Earth3_ssp245_r102i1p1f1_gr_201701-201712.nc', '/badc/cmip6/data/CMIP6/ScenarioMIP/EC-Earth-Consortium/EC-Earth3/ssp245/r102i1p1f1/Amon/tas/gr/files/d20210401/tas_Amon_EC-Earth3_ssp245_r102i1p1f1_gr_201801-201812.nc', '/badc/cmip6/data/CMIP6/ScenarioMIP/EC-Earth-Consortium/EC-Earth3/ssp245/r102i1p1f1/Amon/tas/gr/files/d20210401/tas_Amon_EC-Earth3_ssp245_r102i1p1f1_gr_201901-201912.nc', '/badc/cmip6/data/CMIP6/ScenarioMIP/EC-Earth-Consortium/EC-Earth3/ssp245/r102i1p1f1/Amon/tas/gr/files/d20210401/tas_Amon_EC-Earth3_ssp245_r102i1p1f1_gr_202001-202012.nc', '/badc/cmip6/data/CMIP6/ScenarioMIP/EC-Earth-Consortium/EC-Earth3/ssp245/r102i1p1f1/Amon/tas/gr/files/d20210401/tas_Amon_EC-Earth3_ssp245_r102i1p1f1_gr_202101-202112.nc', '/badc/cmip6/data/CMIP6/ScenarioMIP/EC-Earth-Consortium/EC-Earth3/ssp245/r102i1p1f1/Amon/tas/gr/files/d20210401/tas_Amon_EC-Earth3_ssp245_r102i1p1f1_gr_202201-202212.nc', '/badc/cmip6/data/CMIP6/ScenarioMIP/EC-Earth-Consortium/EC-Earth3/ssp245/r102i1p1f1/Amon/tas/gr/files/d20210401/tas_Amon_EC-Earth3_ssp245_r102i1p1f1_gr_202301-202312.nc', '/badc/cmip6/data/CMIP6/ScenarioMIP/EC-Earth-Consortium/EC-Earth3/ssp245/r102i1p1f1/Amon/tas/gr/files/d20210401/tas_Amon_EC-Earth3_ssp245_r102i1p1f1_gr_202401-202412.nc']\n",
      "merging ['/badc/cmip6/data/CMIP6/ScenarioMIP/EC-Earth-Consortium/EC-Earth3/ssp245/r123i1p1f1/Amon/tas/gr/files/d20210401/tas_Amon_EC-Earth3_ssp245_r123i1p1f1_gr_201501-201512.nc', '/badc/cmip6/data/CMIP6/ScenarioMIP/EC-Earth-Consortium/EC-Earth3/ssp245/r123i1p1f1/Amon/tas/gr/files/d20210401/tas_Amon_EC-Earth3_ssp245_r123i1p1f1_gr_201601-201612.nc', '/badc/cmip6/data/CMIP6/ScenarioMIP/EC-Earth-Consortium/EC-Earth3/ssp245/r123i1p1f1/Amon/tas/gr/files/d20210401/tas_Amon_EC-Earth3_ssp245_r123i1p1f1_gr_201701-201712.nc', '/badc/cmip6/data/CMIP6/ScenarioMIP/EC-Earth-Consortium/EC-Earth3/ssp245/r123i1p1f1/Amon/tas/gr/files/d20210401/tas_Amon_EC-Earth3_ssp245_r123i1p1f1_gr_201801-201812.nc', '/badc/cmip6/data/CMIP6/ScenarioMIP/EC-Earth-Consortium/EC-Earth3/ssp245/r123i1p1f1/Amon/tas/gr/files/d20210401/tas_Amon_EC-Earth3_ssp245_r123i1p1f1_gr_201901-201912.nc', '/badc/cmip6/data/CMIP6/ScenarioMIP/EC-Earth-Consortium/EC-Earth3/ssp245/r123i1p1f1/Amon/tas/gr/files/d20210401/tas_Amon_EC-Earth3_ssp245_r123i1p1f1_gr_202001-202012.nc', '/badc/cmip6/data/CMIP6/ScenarioMIP/EC-Earth-Consortium/EC-Earth3/ssp245/r123i1p1f1/Amon/tas/gr/files/d20210401/tas_Amon_EC-Earth3_ssp245_r123i1p1f1_gr_202101-202112.nc', '/badc/cmip6/data/CMIP6/ScenarioMIP/EC-Earth-Consortium/EC-Earth3/ssp245/r123i1p1f1/Amon/tas/gr/files/d20210401/tas_Amon_EC-Earth3_ssp245_r123i1p1f1_gr_202201-202212.nc', '/badc/cmip6/data/CMIP6/ScenarioMIP/EC-Earth-Consortium/EC-Earth3/ssp245/r123i1p1f1/Amon/tas/gr/files/d20210401/tas_Amon_EC-Earth3_ssp245_r123i1p1f1_gr_202301-202312.nc', '/badc/cmip6/data/CMIP6/ScenarioMIP/EC-Earth-Consortium/EC-Earth3/ssp245/r123i1p1f1/Amon/tas/gr/files/d20210401/tas_Amon_EC-Earth3_ssp245_r123i1p1f1_gr_202401-202412.nc']\n",
      "merging ['/badc/cmip6/data/CMIP6/ScenarioMIP/EC-Earth-Consortium/EC-Earth3/ssp245/r134i1p1f1/Amon/tas/gr/files/d20210401/tas_Amon_EC-Earth3_ssp245_r134i1p1f1_gr_201501-201512.nc', '/badc/cmip6/data/CMIP6/ScenarioMIP/EC-Earth-Consortium/EC-Earth3/ssp245/r134i1p1f1/Amon/tas/gr/files/d20210401/tas_Amon_EC-Earth3_ssp245_r134i1p1f1_gr_201601-201612.nc', '/badc/cmip6/data/CMIP6/ScenarioMIP/EC-Earth-Consortium/EC-Earth3/ssp245/r134i1p1f1/Amon/tas/gr/files/d20210401/tas_Amon_EC-Earth3_ssp245_r134i1p1f1_gr_201701-201712.nc', '/badc/cmip6/data/CMIP6/ScenarioMIP/EC-Earth-Consortium/EC-Earth3/ssp245/r134i1p1f1/Amon/tas/gr/files/d20210401/tas_Amon_EC-Earth3_ssp245_r134i1p1f1_gr_201801-201812.nc', '/badc/cmip6/data/CMIP6/ScenarioMIP/EC-Earth-Consortium/EC-Earth3/ssp245/r134i1p1f1/Amon/tas/gr/files/d20210401/tas_Amon_EC-Earth3_ssp245_r134i1p1f1_gr_201901-201912.nc', '/badc/cmip6/data/CMIP6/ScenarioMIP/EC-Earth-Consortium/EC-Earth3/ssp245/r134i1p1f1/Amon/tas/gr/files/d20210401/tas_Amon_EC-Earth3_ssp245_r134i1p1f1_gr_202001-202012.nc', '/badc/cmip6/data/CMIP6/ScenarioMIP/EC-Earth-Consortium/EC-Earth3/ssp245/r134i1p1f1/Amon/tas/gr/files/d20210401/tas_Amon_EC-Earth3_ssp245_r134i1p1f1_gr_202101-202112.nc', '/badc/cmip6/data/CMIP6/ScenarioMIP/EC-Earth-Consortium/EC-Earth3/ssp245/r134i1p1f1/Amon/tas/gr/files/d20210401/tas_Amon_EC-Earth3_ssp245_r134i1p1f1_gr_202201-202212.nc', '/badc/cmip6/data/CMIP6/ScenarioMIP/EC-Earth-Consortium/EC-Earth3/ssp245/r134i1p1f1/Amon/tas/gr/files/d20210401/tas_Amon_EC-Earth3_ssp245_r134i1p1f1_gr_202301-202312.nc', '/badc/cmip6/data/CMIP6/ScenarioMIP/EC-Earth-Consortium/EC-Earth3/ssp245/r134i1p1f1/Amon/tas/gr/files/d20210401/tas_Amon_EC-Earth3_ssp245_r134i1p1f1_gr_202401-202412.nc']\n",
      "merging ['/badc/cmip6/data/CMIP6/ScenarioMIP/EC-Earth-Consortium/EC-Earth3/ssp245/r139i1p1f1/Amon/tas/gr/files/d20210401/tas_Amon_EC-Earth3_ssp245_r139i1p1f1_gr_201501-201512.nc', '/badc/cmip6/data/CMIP6/ScenarioMIP/EC-Earth-Consortium/EC-Earth3/ssp245/r139i1p1f1/Amon/tas/gr/files/d20210401/tas_Amon_EC-Earth3_ssp245_r139i1p1f1_gr_201601-201612.nc', '/badc/cmip6/data/CMIP6/ScenarioMIP/EC-Earth-Consortium/EC-Earth3/ssp245/r139i1p1f1/Amon/tas/gr/files/d20210401/tas_Amon_EC-Earth3_ssp245_r139i1p1f1_gr_201701-201712.nc', '/badc/cmip6/data/CMIP6/ScenarioMIP/EC-Earth-Consortium/EC-Earth3/ssp245/r139i1p1f1/Amon/tas/gr/files/d20210401/tas_Amon_EC-Earth3_ssp245_r139i1p1f1_gr_201801-201812.nc', '/badc/cmip6/data/CMIP6/ScenarioMIP/EC-Earth-Consortium/EC-Earth3/ssp245/r139i1p1f1/Amon/tas/gr/files/d20210401/tas_Amon_EC-Earth3_ssp245_r139i1p1f1_gr_201901-201912.nc', '/badc/cmip6/data/CMIP6/ScenarioMIP/EC-Earth-Consortium/EC-Earth3/ssp245/r139i1p1f1/Amon/tas/gr/files/d20210401/tas_Amon_EC-Earth3_ssp245_r139i1p1f1_gr_202001-202012.nc', '/badc/cmip6/data/CMIP6/ScenarioMIP/EC-Earth-Consortium/EC-Earth3/ssp245/r139i1p1f1/Amon/tas/gr/files/d20210401/tas_Amon_EC-Earth3_ssp245_r139i1p1f1_gr_202101-202112.nc', '/badc/cmip6/data/CMIP6/ScenarioMIP/EC-Earth-Consortium/EC-Earth3/ssp245/r139i1p1f1/Amon/tas/gr/files/d20210401/tas_Amon_EC-Earth3_ssp245_r139i1p1f1_gr_202201-202212.nc', '/badc/cmip6/data/CMIP6/ScenarioMIP/EC-Earth-Consortium/EC-Earth3/ssp245/r139i1p1f1/Amon/tas/gr/files/d20210401/tas_Amon_EC-Earth3_ssp245_r139i1p1f1_gr_202301-202312.nc', '/badc/cmip6/data/CMIP6/ScenarioMIP/EC-Earth-Consortium/EC-Earth3/ssp245/r139i1p1f1/Amon/tas/gr/files/d20210401/tas_Amon_EC-Earth3_ssp245_r139i1p1f1_gr_202401-202412.nc']\n",
      "merging ['/badc/cmip6/data/CMIP6/ScenarioMIP/EC-Earth-Consortium/EC-Earth3/ssp245/r126i1p1f1/Amon/tas/gr/files/d20210401/tas_Amon_EC-Earth3_ssp245_r126i1p1f1_gr_201501-201512.nc', '/badc/cmip6/data/CMIP6/ScenarioMIP/EC-Earth-Consortium/EC-Earth3/ssp245/r126i1p1f1/Amon/tas/gr/files/d20210401/tas_Amon_EC-Earth3_ssp245_r126i1p1f1_gr_201601-201612.nc', '/badc/cmip6/data/CMIP6/ScenarioMIP/EC-Earth-Consortium/EC-Earth3/ssp245/r126i1p1f1/Amon/tas/gr/files/d20210401/tas_Amon_EC-Earth3_ssp245_r126i1p1f1_gr_201701-201712.nc', '/badc/cmip6/data/CMIP6/ScenarioMIP/EC-Earth-Consortium/EC-Earth3/ssp245/r126i1p1f1/Amon/tas/gr/files/d20210401/tas_Amon_EC-Earth3_ssp245_r126i1p1f1_gr_201801-201812.nc', '/badc/cmip6/data/CMIP6/ScenarioMIP/EC-Earth-Consortium/EC-Earth3/ssp245/r126i1p1f1/Amon/tas/gr/files/d20210401/tas_Amon_EC-Earth3_ssp245_r126i1p1f1_gr_201901-201912.nc', '/badc/cmip6/data/CMIP6/ScenarioMIP/EC-Earth-Consortium/EC-Earth3/ssp245/r126i1p1f1/Amon/tas/gr/files/d20210401/tas_Amon_EC-Earth3_ssp245_r126i1p1f1_gr_202001-202012.nc', '/badc/cmip6/data/CMIP6/ScenarioMIP/EC-Earth-Consortium/EC-Earth3/ssp245/r126i1p1f1/Amon/tas/gr/files/d20210401/tas_Amon_EC-Earth3_ssp245_r126i1p1f1_gr_202101-202112.nc', '/badc/cmip6/data/CMIP6/ScenarioMIP/EC-Earth-Consortium/EC-Earth3/ssp245/r126i1p1f1/Amon/tas/gr/files/d20210401/tas_Amon_EC-Earth3_ssp245_r126i1p1f1_gr_202201-202212.nc', '/badc/cmip6/data/CMIP6/ScenarioMIP/EC-Earth-Consortium/EC-Earth3/ssp245/r126i1p1f1/Amon/tas/gr/files/d20210401/tas_Amon_EC-Earth3_ssp245_r126i1p1f1_gr_202301-202312.nc', '/badc/cmip6/data/CMIP6/ScenarioMIP/EC-Earth-Consortium/EC-Earth3/ssp245/r126i1p1f1/Amon/tas/gr/files/d20210401/tas_Amon_EC-Earth3_ssp245_r126i1p1f1_gr_202401-202412.nc']\n",
      "merging ['/badc/cmip6/data/CMIP6/ScenarioMIP/EC-Earth-Consortium/EC-Earth3/ssp245/r121i1p1f1/Amon/tas/gr/files/d20210401/tas_Amon_EC-Earth3_ssp245_r121i1p1f1_gr_201501-201512.nc', '/badc/cmip6/data/CMIP6/ScenarioMIP/EC-Earth-Consortium/EC-Earth3/ssp245/r121i1p1f1/Amon/tas/gr/files/d20210401/tas_Amon_EC-Earth3_ssp245_r121i1p1f1_gr_201601-201612.nc', '/badc/cmip6/data/CMIP6/ScenarioMIP/EC-Earth-Consortium/EC-Earth3/ssp245/r121i1p1f1/Amon/tas/gr/files/d20210401/tas_Amon_EC-Earth3_ssp245_r121i1p1f1_gr_201701-201712.nc', '/badc/cmip6/data/CMIP6/ScenarioMIP/EC-Earth-Consortium/EC-Earth3/ssp245/r121i1p1f1/Amon/tas/gr/files/d20210401/tas_Amon_EC-Earth3_ssp245_r121i1p1f1_gr_201801-201812.nc', '/badc/cmip6/data/CMIP6/ScenarioMIP/EC-Earth-Consortium/EC-Earth3/ssp245/r121i1p1f1/Amon/tas/gr/files/d20210401/tas_Amon_EC-Earth3_ssp245_r121i1p1f1_gr_201901-201912.nc', '/badc/cmip6/data/CMIP6/ScenarioMIP/EC-Earth-Consortium/EC-Earth3/ssp245/r121i1p1f1/Amon/tas/gr/files/d20210401/tas_Amon_EC-Earth3_ssp245_r121i1p1f1_gr_202001-202012.nc', '/badc/cmip6/data/CMIP6/ScenarioMIP/EC-Earth-Consortium/EC-Earth3/ssp245/r121i1p1f1/Amon/tas/gr/files/d20210401/tas_Amon_EC-Earth3_ssp245_r121i1p1f1_gr_202101-202112.nc', '/badc/cmip6/data/CMIP6/ScenarioMIP/EC-Earth-Consortium/EC-Earth3/ssp245/r121i1p1f1/Amon/tas/gr/files/d20210401/tas_Amon_EC-Earth3_ssp245_r121i1p1f1_gr_202201-202212.nc', '/badc/cmip6/data/CMIP6/ScenarioMIP/EC-Earth-Consortium/EC-Earth3/ssp245/r121i1p1f1/Amon/tas/gr/files/d20210401/tas_Amon_EC-Earth3_ssp245_r121i1p1f1_gr_202301-202312.nc', '/badc/cmip6/data/CMIP6/ScenarioMIP/EC-Earth-Consortium/EC-Earth3/ssp245/r121i1p1f1/Amon/tas/gr/files/d20210401/tas_Amon_EC-Earth3_ssp245_r121i1p1f1_gr_202401-202412.nc']\n"
     ]
    },
    {
     "name": "stderr",
     "output_type": "stream",
     "text": [
      "\n",
      "50it [00:00, 55.43it/s]\u001b[A\n"
     ]
    },
    {
     "name": "stdout",
     "output_type": "stream",
     "text": [
      "merging ['/badc/cmip6/data/CMIP6/ScenarioMIP/EC-Earth-Consortium/EC-Earth3/ssp245/r125i1p1f1/Amon/tas/gr/files/d20210401/tas_Amon_EC-Earth3_ssp245_r125i1p1f1_gr_201501-201512.nc', '/badc/cmip6/data/CMIP6/ScenarioMIP/EC-Earth-Consortium/EC-Earth3/ssp245/r125i1p1f1/Amon/tas/gr/files/d20210401/tas_Amon_EC-Earth3_ssp245_r125i1p1f1_gr_201601-201612.nc', '/badc/cmip6/data/CMIP6/ScenarioMIP/EC-Earth-Consortium/EC-Earth3/ssp245/r125i1p1f1/Amon/tas/gr/files/d20210401/tas_Amon_EC-Earth3_ssp245_r125i1p1f1_gr_201701-201712.nc', '/badc/cmip6/data/CMIP6/ScenarioMIP/EC-Earth-Consortium/EC-Earth3/ssp245/r125i1p1f1/Amon/tas/gr/files/d20210401/tas_Amon_EC-Earth3_ssp245_r125i1p1f1_gr_201801-201812.nc', '/badc/cmip6/data/CMIP6/ScenarioMIP/EC-Earth-Consortium/EC-Earth3/ssp245/r125i1p1f1/Amon/tas/gr/files/d20210401/tas_Amon_EC-Earth3_ssp245_r125i1p1f1_gr_201901-201912.nc', '/badc/cmip6/data/CMIP6/ScenarioMIP/EC-Earth-Consortium/EC-Earth3/ssp245/r125i1p1f1/Amon/tas/gr/files/d20210401/tas_Amon_EC-Earth3_ssp245_r125i1p1f1_gr_202001-202012.nc', '/badc/cmip6/data/CMIP6/ScenarioMIP/EC-Earth-Consortium/EC-Earth3/ssp245/r125i1p1f1/Amon/tas/gr/files/d20210401/tas_Amon_EC-Earth3_ssp245_r125i1p1f1_gr_202101-202112.nc', '/badc/cmip6/data/CMIP6/ScenarioMIP/EC-Earth-Consortium/EC-Earth3/ssp245/r125i1p1f1/Amon/tas/gr/files/d20210401/tas_Amon_EC-Earth3_ssp245_r125i1p1f1_gr_202201-202212.nc', '/badc/cmip6/data/CMIP6/ScenarioMIP/EC-Earth-Consortium/EC-Earth3/ssp245/r125i1p1f1/Amon/tas/gr/files/d20210401/tas_Amon_EC-Earth3_ssp245_r125i1p1f1_gr_202301-202312.nc', '/badc/cmip6/data/CMIP6/ScenarioMIP/EC-Earth-Consortium/EC-Earth3/ssp245/r125i1p1f1/Amon/tas/gr/files/d20210401/tas_Amon_EC-Earth3_ssp245_r125i1p1f1_gr_202401-202412.nc']\n",
      "common_members ['r27i1p1f1' 'r17i1p1f1' 'r10i1p1f1' 'r22i1p1f1' 'r25i1p1f1' 'r26i1p1f1'\n",
      " 'r7i1p1f1' 'r16i1p1f1' 'r15i1p1f1' 'r13i1p1f1' 'r3i1p1f1' 'r18i1p1f1'\n",
      " 'r12i1p1f1' 'r4i1p1f1' 'r14i1p1f1' 'r8i1p1f1' 'r24i1p1f1' 'r28i1p1f1'\n",
      " 'r2i1p1f1' 'r1i1p1f1' 'r30i1p1f1' 'r21i1p1f1' 'r23i1p1f1' 'r6i1p1f1'\n",
      " 'r9i1p1f1' 'r5i1p1f1' 'r19i1p1f1' 'r20i1p1f1' 'r29i1p1f1' 'r11i1p1f1'] for MPI-ESM1-2-LR\n"
     ]
    },
    {
     "name": "stderr",
     "output_type": "stream",
     "text": [
      "\n",
      "0it [00:00, ?it/s]\u001b[A"
     ]
    },
    {
     "name": "stdout",
     "output_type": "stream",
     "text": [
      "/work/scratch-nopw2/benhutch/tas/MPI-ESM1-2-LR/global/ssp245/tas_Amon_MPI-ESM1-2-LR_ssp245_r27i1p1f1_gn_201501-203412_regrid.nc exists\n",
      "/work/scratch-nopw2/benhutch/tas/MPI-ESM1-2-LR/global/ssp245/tas_Amon_MPI-ESM1-2-LR_ssp245_r17i1p1f1_gn_201501-203412_regrid.nc exists\n"
     ]
    },
    {
     "name": "stderr",
     "output_type": "stream",
     "text": [
      "\n",
      "30it [00:00, 218.71it/s]\u001b[A\n",
      " 67%|██████▋   | 6/9 [00:01<00:00,  3.43it/s]"
     ]
    },
    {
     "name": "stdout",
     "output_type": "stream",
     "text": [
      "/work/scratch-nopw2/benhutch/tas/MPI-ESM1-2-LR/global/ssp245/tas_Amon_MPI-ESM1-2-LR_ssp245_r10i1p1f1_gn_201501-203412_regrid.nc exists\n",
      "/work/scratch-nopw2/benhutch/tas/MPI-ESM1-2-LR/global/ssp245/tas_Amon_MPI-ESM1-2-LR_ssp245_r22i1p1f1_gn_201501-203412_regrid.nc exists\n",
      "/work/scratch-nopw2/benhutch/tas/MPI-ESM1-2-LR/global/ssp245/tas_Amon_MPI-ESM1-2-LR_ssp245_r25i1p1f1_gn_201501-203412_regrid.nc exists\n",
      "/work/scratch-nopw2/benhutch/tas/MPI-ESM1-2-LR/global/ssp245/tas_Amon_MPI-ESM1-2-LR_ssp245_r26i1p1f1_gn_201501-203412_regrid.nc exists\n",
      "/work/scratch-nopw2/benhutch/tas/MPI-ESM1-2-LR/global/ssp245/tas_Amon_MPI-ESM1-2-LR_ssp245_r7i1p1f1_gn_201501-203412_regrid.nc exists\n",
      "/work/scratch-nopw2/benhutch/tas/MPI-ESM1-2-LR/global/ssp245/tas_Amon_MPI-ESM1-2-LR_ssp245_r16i1p1f1_gn_201501-203412_regrid.nc exists\n",
      "/work/scratch-nopw2/benhutch/tas/MPI-ESM1-2-LR/global/ssp245/tas_Amon_MPI-ESM1-2-LR_ssp245_r15i1p1f1_gn_201501-203412_regrid.nc exists\n",
      "/work/scratch-nopw2/benhutch/tas/MPI-ESM1-2-LR/global/ssp245/tas_Amon_MPI-ESM1-2-LR_ssp245_r13i1p1f1_gn_201501-203412_regrid.nc exists\n",
      "/work/scratch-nopw2/benhutch/tas/MPI-ESM1-2-LR/global/ssp245/tas_Amon_MPI-ESM1-2-LR_ssp245_r3i1p1f1_gn_201501-203412_regrid.nc exists\n",
      "/work/scratch-nopw2/benhutch/tas/MPI-ESM1-2-LR/global/ssp245/tas_Amon_MPI-ESM1-2-LR_ssp245_r18i1p1f1_gn_201501-203412_regrid.nc exists\n",
      "/work/scratch-nopw2/benhutch/tas/MPI-ESM1-2-LR/global/ssp245/tas_Amon_MPI-ESM1-2-LR_ssp245_r12i1p1f1_gn_201501-203412_regrid.nc exists\n",
      "/work/scratch-nopw2/benhutch/tas/MPI-ESM1-2-LR/global/ssp245/tas_Amon_MPI-ESM1-2-LR_ssp245_r4i1p1f1_gn_201501-203412_regrid.nc exists\n",
      "/work/scratch-nopw2/benhutch/tas/MPI-ESM1-2-LR/global/ssp245/tas_Amon_MPI-ESM1-2-LR_ssp245_r14i1p1f1_gn_201501-203412_regrid.nc exists\n",
      "/work/scratch-nopw2/benhutch/tas/MPI-ESM1-2-LR/global/ssp245/tas_Amon_MPI-ESM1-2-LR_ssp245_r8i1p1f1_gn_201501-203412_regrid.nc exists\n",
      "/work/scratch-nopw2/benhutch/tas/MPI-ESM1-2-LR/global/ssp245/tas_Amon_MPI-ESM1-2-LR_ssp245_r24i1p1f1_gn_201501-203412_regrid.nc exists\n",
      "/work/scratch-nopw2/benhutch/tas/MPI-ESM1-2-LR/global/ssp245/tas_Amon_MPI-ESM1-2-LR_ssp245_r28i1p1f1_gn_201501-203412_regrid.nc exists\n",
      "/work/scratch-nopw2/benhutch/tas/MPI-ESM1-2-LR/global/ssp245/tas_Amon_MPI-ESM1-2-LR_ssp245_r2i1p1f1_gn_201501-203412_regrid.nc exists\n",
      "/work/scratch-nopw2/benhutch/tas/MPI-ESM1-2-LR/global/ssp245/tas_Amon_MPI-ESM1-2-LR_ssp245_r1i1p1f1_gn_201501-203412_regrid.nc exists\n",
      "/work/scratch-nopw2/benhutch/tas/MPI-ESM1-2-LR/global/ssp245/tas_Amon_MPI-ESM1-2-LR_ssp245_r30i1p1f1_gn_201501-203412_regrid.nc exists\n",
      "/work/scratch-nopw2/benhutch/tas/MPI-ESM1-2-LR/global/ssp245/tas_Amon_MPI-ESM1-2-LR_ssp245_r21i1p1f1_gn_201501-203412_regrid.nc exists\n",
      "/work/scratch-nopw2/benhutch/tas/MPI-ESM1-2-LR/global/ssp245/tas_Amon_MPI-ESM1-2-LR_ssp245_r23i1p1f1_gn_201501-203412_regrid.nc exists\n",
      "/work/scratch-nopw2/benhutch/tas/MPI-ESM1-2-LR/global/ssp245/tas_Amon_MPI-ESM1-2-LR_ssp245_r6i1p1f1_gn_201501-203412_regrid.nc exists\n",
      "/work/scratch-nopw2/benhutch/tas/MPI-ESM1-2-LR/global/ssp245/tas_Amon_MPI-ESM1-2-LR_ssp245_r9i1p1f1_gn_201501-203412_regrid.nc exists\n",
      "/work/scratch-nopw2/benhutch/tas/MPI-ESM1-2-LR/global/ssp245/tas_Amon_MPI-ESM1-2-LR_ssp245_r5i1p1f1_gn_201501-203412_regrid.nc exists\n",
      "/work/scratch-nopw2/benhutch/tas/MPI-ESM1-2-LR/global/ssp245/tas_Amon_MPI-ESM1-2-LR_ssp245_r19i1p1f1_gn_201501-203412_regrid.nc exists\n",
      "/work/scratch-nopw2/benhutch/tas/MPI-ESM1-2-LR/global/ssp245/tas_Amon_MPI-ESM1-2-LR_ssp245_r20i1p1f1_gn_201501-203412_regrid.nc exists\n",
      "/work/scratch-nopw2/benhutch/tas/MPI-ESM1-2-LR/global/ssp245/tas_Amon_MPI-ESM1-2-LR_ssp245_r29i1p1f1_gn_201501-203412_regrid.nc exists\n",
      "/work/scratch-nopw2/benhutch/tas/MPI-ESM1-2-LR/global/ssp245/tas_Amon_MPI-ESM1-2-LR_ssp245_r11i1p1f1_gn_201501-203412_regrid.nc exists\n",
      "common_members ['r1i1p1f1'] for FGOALS-f3-L\n"
     ]
    },
    {
     "name": "stderr",
     "output_type": "stream",
     "text": [
      "\n",
      "1it [00:00, 55.39it/s]"
     ]
    },
    {
     "name": "stdout",
     "output_type": "stream",
     "text": [
      "/work/scratch-nopw2/benhutch/tas/FGOALS-f3-L/global/ssp245/tas_Amon_FGOALS-f3-L_ssp245_r1i1p1f1_gr_201501-210012_regrid.nc exists\n"
     ]
    },
    {
     "name": "stderr",
     "output_type": "stream",
     "text": [
      "\n"
     ]
    },
    {
     "name": "stdout",
     "output_type": "stream",
     "text": [
      "common_members ['r41i1p1f1' 'r43i1p1f1' 'r27i1p1f1' 'r17i1p1f1' 'r10i1p1f1' 'r22i1p1f1'\n",
      " 'r25i1p1f1' 'r36i1p1f1' 'r26i1p1f1' 'r7i1p1f1' 'r16i1p1f1' 'r39i1p1f1'\n",
      " 'r15i1p1f1' 'r50i1p1f1' 'r13i1p1f1' 'r3i1p1f1' 'r32i1p1f1' 'r31i1p1f1'\n",
      " 'r34i1p1f1' 'r35i1p1f1' 'r37i1p1f1' 'r45i1p1f1' 'r33i1p1f1' 'r18i1p1f1'\n",
      " 'r12i1p1f1' 'r4i1p1f1' 'r14i1p1f1' 'r8i1p1f1' 'r24i1p1f1' 'r28i1p1f1'\n",
      " 'r46i1p1f1' 'r40i1p1f1' 'r2i1p1f1' 'r1i1p1f1' 'r30i1p1f1' 'r21i1p1f1'\n",
      " 'r23i1p1f1' 'r48i1p1f1' 'r38i1p1f1' 'r6i1p1f1' 'r9i1p1f1' 'r5i1p1f1'\n",
      " 'r47i1p1f1' 'r19i1p1f1' 'r49i1p1f1' 'r20i1p1f1' 'r29i1p1f1' 'r44i1p1f1'\n",
      " 'r42i1p1f1' 'r11i1p1f1'] for MIROC6\n"
     ]
    },
    {
     "name": "stderr",
     "output_type": "stream",
     "text": [
      "\n",
      "0it [00:00, ?it/s]\u001b[A"
     ]
    },
    {
     "name": "stdout",
     "output_type": "stream",
     "text": [
      "/work/scratch-nopw2/benhutch/tas/MIROC6/global/ssp245/tas_Amon_MIROC6_ssp245_r41i1p1f1_gn_201501-203912_regrid.nc exists\n",
      "/work/scratch-nopw2/benhutch/tas/MIROC6/global/ssp245/tas_Amon_MIROC6_ssp245_r43i1p1f1_gn_201501-203912_regrid.nc exists\n",
      "/work/scratch-nopw2/benhutch/tas/MIROC6/global/ssp245/tas_Amon_MIROC6_ssp245_r27i1p1f1_gn_201501-203912_regrid.nc exists\n",
      "/work/scratch-nopw2/benhutch/tas/MIROC6/global/ssp245/tas_Amon_MIROC6_ssp245_r17i1p1f1_gn_201501-203912_regrid.nc exists\n",
      "/work/scratch-nopw2/benhutch/tas/MIROC6/global/ssp245/tas_Amon_MIROC6_ssp245_r10i1p1f1_gn_201501-203912_regrid.nc exists\n",
      "/work/scratch-nopw2/benhutch/tas/MIROC6/global/ssp245/tas_Amon_MIROC6_ssp245_r22i1p1f1_gn_201501-203912_regrid.nc exists\n",
      "/work/scratch-nopw2/benhutch/tas/MIROC6/global/ssp245/tas_Amon_MIROC6_ssp245_r25i1p1f1_gn_201501-203912_regrid.nc exists\n",
      "/work/scratch-nopw2/benhutch/tas/MIROC6/global/ssp245/tas_Amon_MIROC6_ssp245_r36i1p1f1_gn_201501-203912_regrid.nc exists\n",
      "/work/scratch-nopw2/benhutch/tas/MIROC6/global/ssp245/tas_Amon_MIROC6_ssp245_r26i1p1f1_gn_201501-203912_regrid.nc exists\n",
      "/work/scratch-nopw2/benhutch/tas/MIROC6/global/ssp245/tas_Amon_MIROC6_ssp245_r7i1p1f1_gn_201501-203912_regrid.nc exists\n"
     ]
    },
    {
     "name": "stderr",
     "output_type": "stream",
     "text": [
      "\n",
      "21it [00:00, 207.43it/s]\u001b[A"
     ]
    },
    {
     "name": "stdout",
     "output_type": "stream",
     "text": [
      "/work/scratch-nopw2/benhutch/tas/MIROC6/global/ssp245/tas_Amon_MIROC6_ssp245_r16i1p1f1_gn_201501-203912_regrid.nc exists\n",
      "/work/scratch-nopw2/benhutch/tas/MIROC6/global/ssp245/tas_Amon_MIROC6_ssp245_r39i1p1f1_gn_201501-203912_regrid.nc exists\n",
      "/work/scratch-nopw2/benhutch/tas/MIROC6/global/ssp245/tas_Amon_MIROC6_ssp245_r15i1p1f1_gn_201501-203912_regrid.nc exists\n",
      "/work/scratch-nopw2/benhutch/tas/MIROC6/global/ssp245/tas_Amon_MIROC6_ssp245_r50i1p1f1_gn_201501-203912_regrid.nc exists\n",
      "/work/scratch-nopw2/benhutch/tas/MIROC6/global/ssp245/tas_Amon_MIROC6_ssp245_r13i1p1f1_gn_201501-203912_regrid.nc exists\n",
      "/work/scratch-nopw2/benhutch/tas/MIROC6/global/ssp245/tas_Amon_MIROC6_ssp245_r3i1p1f1_gn_201501-210012_regrid.nc exists\n",
      "/work/scratch-nopw2/benhutch/tas/MIROC6/global/ssp245/tas_Amon_MIROC6_ssp245_r32i1p1f1_gn_201501-203912_regrid.nc exists\n",
      "/work/scratch-nopw2/benhutch/tas/MIROC6/global/ssp245/tas_Amon_MIROC6_ssp245_r31i1p1f1_gn_201501-203912_regrid.nc exists\n",
      "/work/scratch-nopw2/benhutch/tas/MIROC6/global/ssp245/tas_Amon_MIROC6_ssp245_r34i1p1f1_gn_201501-203912_regrid.nc exists\n",
      "/work/scratch-nopw2/benhutch/tas/MIROC6/global/ssp245/tas_Amon_MIROC6_ssp245_r35i1p1f1_gn_201501-203912_regrid.nc exists\n",
      "/work/scratch-nopw2/benhutch/tas/MIROC6/global/ssp245/tas_Amon_MIROC6_ssp245_r37i1p1f1_gn_201501-203912_regrid.nc exists\n",
      "/work/scratch-nopw2/benhutch/tas/MIROC6/global/ssp245/tas_Amon_MIROC6_ssp245_r45i1p1f1_gn_201501-203912_regrid.nc exists\n",
      "/work/scratch-nopw2/benhutch/tas/MIROC6/global/ssp245/tas_Amon_MIROC6_ssp245_r33i1p1f1_gn_201501-203912_regrid.nc exists\n",
      "/work/scratch-nopw2/benhutch/tas/MIROC6/global/ssp245/tas_Amon_MIROC6_ssp245_r18i1p1f1_gn_201501-203912_regrid.nc exists\n",
      "/work/scratch-nopw2/benhutch/tas/MIROC6/global/ssp245/tas_Amon_MIROC6_ssp245_r12i1p1f1_gn_201501-203912_regrid.nc exists\n",
      "/work/scratch-nopw2/benhutch/tas/MIROC6/global/ssp245/tas_Amon_MIROC6_ssp245_r4i1p1f1_gn_201501-203912_regrid.nc exists\n",
      "/work/scratch-nopw2/benhutch/tas/MIROC6/global/ssp245/tas_Amon_MIROC6_ssp245_r14i1p1f1_gn_201501-203912_regrid.nc exists\n",
      "/work/scratch-nopw2/benhutch/tas/MIROC6/global/ssp245/tas_Amon_MIROC6_ssp245_r8i1p1f1_gn_201501-203912_regrid.nc exists\n",
      "/work/scratch-nopw2/benhutch/tas/MIROC6/global/ssp245/tas_Amon_MIROC6_ssp245_r24i1p1f1_gn_201501-203912_regrid.nc exists\n",
      "/work/scratch-nopw2/benhutch/tas/MIROC6/global/ssp245/tas_Amon_MIROC6_ssp245_r28i1p1f1_gn_201501-203912_regrid.nc exists\n",
      "/work/scratch-nopw2/benhutch/tas/MIROC6/global/ssp245/tas_Amon_MIROC6_ssp245_r46i1p1f1_gn_201501-203912_regrid.nc exists\n",
      "/work/scratch-nopw2/benhutch/tas/MIROC6/global/ssp245/tas_Amon_MIROC6_ssp245_r40i1p1f1_gn_201501-203912_regrid.nc exists\n",
      "/work/scratch-nopw2/benhutch/tas/MIROC6/global/ssp245/tas_Amon_MIROC6_ssp245_r2i1p1f1_gn_201501-210012_regrid.nc exists\n",
      "/work/scratch-nopw2/benhutch/tas/MIROC6/global/ssp245/tas_Amon_MIROC6_ssp245_r1i1p1f1_gn_201501-210012_regrid.nc exists\n",
      "/work/scratch-nopw2/benhutch/tas/MIROC6/global/ssp245/tas_Amon_MIROC6_ssp245_r30i1p1f1_gn_201501-203912_regrid.nc exists\n",
      "/work/scratch-nopw2/benhutch/tas/MIROC6/global/ssp245/tas_Amon_MIROC6_ssp245_r21i1p1f1_gn_201501-203912_regrid.nc exists\n",
      "/work/scratch-nopw2/benhutch/tas/MIROC6/global/ssp245/tas_Amon_MIROC6_ssp245_r23i1p1f1_gn_201501-203912_regrid.nc exists\n",
      "/work/scratch-nopw2/benhutch/tas/MIROC6/global/ssp245/tas_Amon_MIROC6_ssp245_r48i1p1f1_gn_201501-203912_regrid.nc exists\n",
      "/work/scratch-nopw2/benhutch/tas/MIROC6/global/ssp245/tas_Amon_MIROC6_ssp245_r38i1p1f1_gn_201501-203912_regrid.nc exists\n",
      "/work/scratch-nopw2/benhutch/tas/MIROC6/global/ssp245/tas_Amon_MIROC6_ssp245_r6i1p1f1_gn_201501-203912_regrid.nc exists\n",
      "/work/scratch-nopw2/benhutch/tas/MIROC6/global/ssp245/tas_Amon_MIROC6_ssp245_r9i1p1f1_gn_201501-203912_regrid.nc exists\n",
      "/work/scratch-nopw2/benhutch/tas/MIROC6/global/ssp245/tas_Amon_MIROC6_ssp245_r5i1p1f1_gn_201501-203912_regrid.nc exists\n",
      "/work/scratch-nopw2/benhutch/tas/MIROC6/global/ssp245/tas_Amon_MIROC6_ssp245_r47i1p1f1_gn_201501-203912_regrid.nc exists\n",
      "/work/scratch-nopw2/benhutch/tas/MIROC6/global/ssp245/tas_Amon_MIROC6_ssp245_r19i1p1f1_gn_201501-203912_regrid.nc exists\n",
      "/work/scratch-nopw2/benhutch/tas/MIROC6/global/ssp245/tas_Amon_MIROC6_ssp245_r49i1p1f1_gn_201501-203912_regrid.nc exists\n",
      "/work/scratch-nopw2/benhutch/tas/MIROC6/global/ssp245/tas_Amon_MIROC6_ssp245_r20i1p1f1_gn_201501-203912_regrid.nc exists\n",
      "/work/scratch-nopw2/benhutch/tas/MIROC6/global/ssp245/tas_Amon_MIROC6_ssp245_r29i1p1f1_gn_201501-203912_regrid.nc exists"
     ]
    },
    {
     "name": "stderr",
     "output_type": "stream",
     "text": [
      "\n",
      "50it [00:00, 233.49it/s]\u001b[A\n",
      " 89%|████████▉ | 8/9 [00:01<00:00,  4.46it/s]"
     ]
    },
    {
     "name": "stdout",
     "output_type": "stream",
     "text": [
      "\n",
      "/work/scratch-nopw2/benhutch/tas/MIROC6/global/ssp245/tas_Amon_MIROC6_ssp245_r44i1p1f1_gn_201501-203912_regrid.nc exists\n",
      "/work/scratch-nopw2/benhutch/tas/MIROC6/global/ssp245/tas_Amon_MIROC6_ssp245_r42i1p1f1_gn_201501-203912_regrid.nc exists\n",
      "/work/scratch-nopw2/benhutch/tas/MIROC6/global/ssp245/tas_Amon_MIROC6_ssp245_r11i1p1f1_gn_201501-203912_regrid.nc exists\n",
      "common_members ['r6i1p1f1' 'r4i1p1f1' 'r5i1p1f1' 'r2i1p1f1' 'r3i1p1f1' 'r1i1p1f1'] for IPSL-CM6A-LR\n"
     ]
    },
    {
     "name": "stderr",
     "output_type": "stream",
     "text": [
      "\n",
      "0it [00:00, ?it/s]\u001b[A"
     ]
    },
    {
     "name": "stdout",
     "output_type": "stream",
     "text": [
      "/work/scratch-nopw2/benhutch/tas/IPSL-CM6A-LR/global/ssp245/tas_Amon_IPSL-CM6A-LR_ssp245_r6i1p1f1_gr_201501-210012_regrid.nc exists\n",
      "/work/scratch-nopw2/benhutch/tas/IPSL-CM6A-LR/global/ssp245/tas_Amon_IPSL-CM6A-LR_ssp245_r4i1p1f1_gr_201501-210012_regrid.nc exists\n",
      "/work/scratch-nopw2/benhutch/tas/IPSL-CM6A-LR/global/ssp245/tas_Amon_IPSL-CM6A-LR_ssp245_r5i1p1f1_gr_201501-210012_regrid.nc exists\n",
      "/work/scratch-nopw2/benhutch/tas/IPSL-CM6A-LR/global/ssp245/tas_Amon_IPSL-CM6A-LR_ssp245_r2i1p1f1_gr_201501-210012_regrid.nc exists\n"
     ]
    },
    {
     "name": "stderr",
     "output_type": "stream",
     "text": [
      "6it [00:00, 171.92it/s]\n",
      "100%|██████████| 9/9 [00:01<00:00,  5.32it/s]"
     ]
    },
    {
     "name": "stdout",
     "output_type": "stream",
     "text": [
      "/work/scratch-nopw2/benhutch/tas/IPSL-CM6A-LR/global/ssp245/tas_Amon_IPSL-CM6A-LR_ssp245_r3i1p1f1_gr_201501-210012_regrid.nc exists\n",
      "/work/scratch-nopw2/benhutch/tas/IPSL-CM6A-LR/global/ssp245/tas_Amon_IPSL-CM6A-LR_ssp245_r1i1p1f1_gr_201501-210012_regrid.nc exists\n"
     ]
    },
    {
     "name": "stderr",
     "output_type": "stream",
     "text": [
      "\n"
     ]
    }
   ],
   "source": [
    "df = lh_funcs.regrid_ssp(\n",
    "    df=df,\n",
    "    models=df[\"model\"].unique(),\n",
    ")"
   ]
  },
  {
   "cell_type": "code",
   "execution_count": 8,
   "metadata": {},
   "outputs": [
    {
     "data": {
      "text/html": [
       "<div>\n",
       "<style scoped>\n",
       "    .dataframe tbody tr th:only-of-type {\n",
       "        vertical-align: middle;\n",
       "    }\n",
       "\n",
       "    .dataframe tbody tr th {\n",
       "        vertical-align: top;\n",
       "    }\n",
       "\n",
       "    .dataframe thead th {\n",
       "        text-align: right;\n",
       "    }\n",
       "</style>\n",
       "<table border=\"1\" class=\"dataframe\">\n",
       "  <thead>\n",
       "    <tr style=\"text-align: right;\">\n",
       "      <th></th>\n",
       "      <th>model</th>\n",
       "      <th>variable</th>\n",
       "      <th>common_member</th>\n",
       "      <th>hist_member</th>\n",
       "      <th>ssp_member</th>\n",
       "      <th>ssp_member_regrid</th>\n",
       "    </tr>\n",
       "  </thead>\n",
       "  <tbody>\n",
       "    <tr>\n",
       "      <th>0</th>\n",
       "      <td>BCC-CSM2-MR</td>\n",
       "      <td>tas</td>\n",
       "      <td>r1i1p1f1</td>\n",
       "      <td>/gws/nopw/j04/canari/users/benhutch/historical...</td>\n",
       "      <td>/badc/cmip6/data/CMIP6/ScenarioMIP/BCC/BCC-CSM...</td>\n",
       "      <td>/work/scratch-nopw2/benhutch/tas/BCC-CSM2-MR/g...</td>\n",
       "    </tr>\n",
       "    <tr>\n",
       "      <th>1</th>\n",
       "      <td>MPI-ESM1-2-HR</td>\n",
       "      <td>tas</td>\n",
       "      <td>r1i1p1f1</td>\n",
       "      <td>/gws/nopw/j04/canari/users/benhutch/historical...</td>\n",
       "      <td>/badc/cmip6/data/CMIP6/ScenarioMIP/DKRZ/MPI-ES...</td>\n",
       "      <td>/work/scratch-nopw2/benhutch/tas/MPI-ESM1-2-HR...</td>\n",
       "    </tr>\n",
       "    <tr>\n",
       "      <th>2</th>\n",
       "      <td>MPI-ESM1-2-HR</td>\n",
       "      <td>tas</td>\n",
       "      <td>r2i1p1f1</td>\n",
       "      <td>/gws/nopw/j04/canari/users/benhutch/historical...</td>\n",
       "      <td>/badc/cmip6/data/CMIP6/ScenarioMIP/DKRZ/MPI-ES...</td>\n",
       "      <td>/work/scratch-nopw2/benhutch/tas/MPI-ESM1-2-HR...</td>\n",
       "    </tr>\n",
       "    <tr>\n",
       "      <th>3</th>\n",
       "      <td>CanESM5</td>\n",
       "      <td>tas</td>\n",
       "      <td>r12i1p2f1</td>\n",
       "      <td>/gws/nopw/j04/canari/users/benhutch/historical...</td>\n",
       "      <td>/badc/cmip6/data/CMIP6/ScenarioMIP/CCCma/CanES...</td>\n",
       "      <td>/work/scratch-nopw2/benhutch/tas/CanESM5/globa...</td>\n",
       "    </tr>\n",
       "    <tr>\n",
       "      <th>4</th>\n",
       "      <td>CanESM5</td>\n",
       "      <td>tas</td>\n",
       "      <td>r11i1p2f1</td>\n",
       "      <td>/gws/nopw/j04/canari/users/benhutch/historical...</td>\n",
       "      <td>/badc/cmip6/data/CMIP6/ScenarioMIP/CCCma/CanES...</td>\n",
       "      <td>/work/scratch-nopw2/benhutch/tas/CanESM5/globa...</td>\n",
       "    </tr>\n",
       "  </tbody>\n",
       "</table>\n",
       "</div>"
      ],
      "text/plain": [
       "           model variable common_member  \\\n",
       "0    BCC-CSM2-MR      tas      r1i1p1f1   \n",
       "1  MPI-ESM1-2-HR      tas      r1i1p1f1   \n",
       "2  MPI-ESM1-2-HR      tas      r2i1p1f1   \n",
       "3        CanESM5      tas     r12i1p2f1   \n",
       "4        CanESM5      tas     r11i1p2f1   \n",
       "\n",
       "                                         hist_member  \\\n",
       "0  /gws/nopw/j04/canari/users/benhutch/historical...   \n",
       "1  /gws/nopw/j04/canari/users/benhutch/historical...   \n",
       "2  /gws/nopw/j04/canari/users/benhutch/historical...   \n",
       "3  /gws/nopw/j04/canari/users/benhutch/historical...   \n",
       "4  /gws/nopw/j04/canari/users/benhutch/historical...   \n",
       "\n",
       "                                          ssp_member  \\\n",
       "0  /badc/cmip6/data/CMIP6/ScenarioMIP/BCC/BCC-CSM...   \n",
       "1  /badc/cmip6/data/CMIP6/ScenarioMIP/DKRZ/MPI-ES...   \n",
       "2  /badc/cmip6/data/CMIP6/ScenarioMIP/DKRZ/MPI-ES...   \n",
       "3  /badc/cmip6/data/CMIP6/ScenarioMIP/CCCma/CanES...   \n",
       "4  /badc/cmip6/data/CMIP6/ScenarioMIP/CCCma/CanES...   \n",
       "\n",
       "                                   ssp_member_regrid  \n",
       "0  /work/scratch-nopw2/benhutch/tas/BCC-CSM2-MR/g...  \n",
       "1  /work/scratch-nopw2/benhutch/tas/MPI-ESM1-2-HR...  \n",
       "2  /work/scratch-nopw2/benhutch/tas/MPI-ESM1-2-HR...  \n",
       "3  /work/scratch-nopw2/benhutch/tas/CanESM5/globa...  \n",
       "4  /work/scratch-nopw2/benhutch/tas/CanESM5/globa...  "
      ]
     },
     "execution_count": 8,
     "metadata": {},
     "output_type": "execute_result"
    }
   ],
   "source": [
    "df.head()"
   ]
  },
  {
   "cell_type": "code",
   "execution_count": 31,
   "metadata": {},
   "outputs": [
    {
     "data": {
      "text/plain": [
       "<module 'long_hist_functions' from '/home/users/benhutch/skill-maps/long_historical/long_hist_functions.py'>"
      ]
     },
     "execution_count": 31,
     "metadata": {},
     "output_type": "execute_result"
    }
   ],
   "source": [
    "import importlib\n",
    "importlib.reload(lh_funcs)"
   ]
  },
  {
   "cell_type": "code",
   "execution_count": 17,
   "metadata": {
    "collapsed": true,
    "jupyter": {
     "outputs_hidden": true
    }
   },
   "outputs": [
    {
     "name": "stderr",
     "output_type": "stream",
     "text": [
      "  0%|          | 0/9 [00:00<?, ?it/s]\n",
      "0it [00:00, ?it/s]\u001b[A"
     ]
    },
    {
     "name": "stdout",
     "output_type": "stream",
     "text": [
      "hist_member tas_Amon_BCC-CSM2-MR_historical_r1i1p1f1_gn_185001-201412.nc_global_regrid.nc for BCC-CSM2-MR\n",
      "ssp_member_regrid tas_Amon_BCC-CSM2-MR_ssp245_r1i1p1f1_gn_201501-210012_regrid.nc for BCC-CSM2-MR\n",
      "first_yyyymm_hist 185001 for BCC-CSM2-MR\n",
      "last_yyyymm_ssp 210012 for BCC-CSM2-MR\n",
      "output_fname tas_Amon_BCC-CSM2-MR_historical_r1i1p1f1_185001-210012.nc\n"
     ]
    },
    {
     "name": "stderr",
     "output_type": "stream",
     "text": [
      "\n",
      "1it [00:02,  2.51s/it]\u001b[A\n",
      " 11%|█         | 1/9 [00:02<00:20,  2.51s/it]\n",
      "2it [00:00, 77.04it/s]\n"
     ]
    },
    {
     "name": "stdout",
     "output_type": "stream",
     "text": [
      "hist_member tas_Amon_MPI-ESM1-2-HR_historical_r1i1p1f1_g?_1850-2014.nc_global_regrid.nc for MPI-ESM1-2-HR\n",
      "ssp_member_regrid tas_Amon_MPI-ESM1-2-HR_ssp245_r1i1p1f1_gn_201501-206412_regrid.nc for MPI-ESM1-2-HR\n",
      "first_yyyymm_hist 1850 for MPI-ESM1-2-HR\n",
      "last_yyyymm_ssp 206412 for MPI-ESM1-2-HR\n",
      "output_fname tas_Amon_MPI-ESM1-2-HR_historical_r1i1p1f1_1850-206412.nc\n",
      "hist_member tas_Amon_MPI-ESM1-2-HR_historical_r2i1p1f1_g?_1850-2014.nc_global_regrid.nc for MPI-ESM1-2-HR\n",
      "ssp_member_regrid tas_Amon_MPI-ESM1-2-HR_ssp245_r2i1p1f1_gn_201501-206412_regrid.nc for MPI-ESM1-2-HR\n",
      "first_yyyymm_hist 1850 for MPI-ESM1-2-HR\n",
      "last_yyyymm_ssp 206412 for MPI-ESM1-2-HR\n",
      "output_fname tas_Amon_MPI-ESM1-2-HR_historical_r2i1p1f1_1850-206412.nc\n"
     ]
    },
    {
     "name": "stderr",
     "output_type": "stream",
     "text": [
      "\n",
      "0it [00:00, ?it/s]\u001b[A"
     ]
    },
    {
     "name": "stdout",
     "output_type": "stream",
     "text": [
      "hist_member tas_Amon_CanESM5_historical_r12i1p2f1_gn_185001-201412.nc_global_regrid.nc for CanESM5\n",
      "ssp_member_regrid tas_Amon_CanESM5_ssp245_r12i1p2f1_gn_201501-210012_regrid.nc for CanESM5\n",
      "first_yyyymm_hist 185001 for CanESM5\n",
      "last_yyyymm_ssp 210012 for CanESM5\n",
      "output_fname tas_Amon_CanESM5_historical_r12i1p2f1_185001-210012.nc\n"
     ]
    },
    {
     "name": "stderr",
     "output_type": "stream",
     "text": [
      "\n",
      "1it [00:04,  4.95s/it]\u001b[A"
     ]
    },
    {
     "name": "stdout",
     "output_type": "stream",
     "text": [
      "hist_member tas_Amon_CanESM5_historical_r11i1p2f1_gn_185001-201412.nc_global_regrid.nc for CanESM5\n",
      "ssp_member_regrid tas_Amon_CanESM5_ssp245_r11i1p2f1_gn_201501-210012_regrid.nc for CanESM5\n",
      "first_yyyymm_hist 185001 for CanESM5\n",
      "last_yyyymm_ssp 210012 for CanESM5\n",
      "output_fname tas_Amon_CanESM5_historical_r11i1p2f1_185001-210012.nc\n"
     ]
    },
    {
     "name": "stderr",
     "output_type": "stream",
     "text": [
      "\n",
      "2it [00:09,  4.66s/it]\u001b[A"
     ]
    },
    {
     "name": "stdout",
     "output_type": "stream",
     "text": [
      "hist_member tas_Amon_CanESM5_historical_r17i1p1f1_gn_185001-201412.nc_global_regrid.nc for CanESM5\n",
      "ssp_member_regrid tas_Amon_CanESM5_ssp245_r17i1p1f1_gn_201501-210012_regrid.nc for CanESM5\n",
      "first_yyyymm_hist 185001 for CanESM5\n",
      "last_yyyymm_ssp 210012 for CanESM5\n",
      "output_fname tas_Amon_CanESM5_historical_r17i1p1f1_185001-210012.nc\n"
     ]
    },
    {
     "name": "stderr",
     "output_type": "stream",
     "text": [
      "\n",
      "3it [00:23,  8.97s/it]\u001b[A"
     ]
    },
    {
     "name": "stdout",
     "output_type": "stream",
     "text": [
      "hist_member tas_Amon_CanESM5_historical_r22i1p2f1_gn_185001-201412.nc_global_regrid.nc for CanESM5\n",
      "ssp_member_regrid tas_Amon_CanESM5_ssp245_r22i1p2f1_gn_201501-210012_regrid.nc for CanESM5\n",
      "first_yyyymm_hist 185001 for CanESM5\n",
      "last_yyyymm_ssp 210012 for CanESM5\n",
      "output_fname tas_Amon_CanESM5_historical_r22i1p2f1_185001-210012.nc\n"
     ]
    },
    {
     "name": "stderr",
     "output_type": "stream",
     "text": [
      "\n",
      "4it [00:28,  7.48s/it]\u001b[A"
     ]
    },
    {
     "name": "stdout",
     "output_type": "stream",
     "text": [
      "hist_member tas_Amon_CanESM5_historical_r10i1p1f1_gn_185001-201412.nc_global_regrid.nc for CanESM5\n",
      "ssp_member_regrid tas_Amon_CanESM5_ssp245_r10i1p1f1_gn_201501-210012_regrid.nc for CanESM5\n",
      "first_yyyymm_hist 185001 for CanESM5\n",
      "last_yyyymm_ssp 210012 for CanESM5\n",
      "output_fname tas_Amon_CanESM5_historical_r10i1p1f1_185001-210012.nc\n"
     ]
    },
    {
     "name": "stderr",
     "output_type": "stream",
     "text": [
      "\n",
      "5it [00:32,  6.22s/it]\u001b[A"
     ]
    },
    {
     "name": "stdout",
     "output_type": "stream",
     "text": [
      "hist_member tas_Amon_CanESM5_historical_r8i1p2f1_gn_185001-201412.nc_global_regrid.nc for CanESM5\n",
      "ssp_member_regrid tas_Amon_CanESM5_ssp245_r8i1p2f1_gn_201501-210012_regrid.nc for CanESM5\n",
      "first_yyyymm_hist 185001 for CanESM5\n",
      "last_yyyymm_ssp 210012 for CanESM5\n",
      "output_fname tas_Amon_CanESM5_historical_r8i1p2f1_185001-210012.nc\n"
     ]
    },
    {
     "name": "stderr",
     "output_type": "stream",
     "text": [
      "\n",
      "6it [00:36,  5.29s/it]\u001b[A"
     ]
    },
    {
     "name": "stdout",
     "output_type": "stream",
     "text": [
      "hist_member tas_Amon_CanESM5_historical_r15i1p2f1_gn_185001-201412.nc_global_regrid.nc for CanESM5\n",
      "ssp_member_regrid tas_Amon_CanESM5_ssp245_r15i1p2f1_gn_201501-210012_regrid.nc for CanESM5\n",
      "first_yyyymm_hist 185001 for CanESM5\n",
      "last_yyyymm_ssp 210012 for CanESM5\n",
      "output_fname tas_Amon_CanESM5_historical_r15i1p2f1_185001-210012.nc\n"
     ]
    },
    {
     "name": "stderr",
     "output_type": "stream",
     "text": [
      "\n",
      "7it [00:41,  5.28s/it]\u001b[A"
     ]
    },
    {
     "name": "stdout",
     "output_type": "stream",
     "text": [
      "hist_member tas_Amon_CanESM5_historical_r22i1p1f1_gn_185001-201412.nc_global_regrid.nc for CanESM5\n",
      "ssp_member_regrid tas_Amon_CanESM5_ssp245_r22i1p1f1_gn_201501-210012_regrid.nc for CanESM5\n",
      "first_yyyymm_hist 185001 for CanESM5\n",
      "last_yyyymm_ssp 210012 for CanESM5\n",
      "output_fname tas_Amon_CanESM5_historical_r22i1p1f1_185001-210012.nc\n"
     ]
    },
    {
     "name": "stderr",
     "output_type": "stream",
     "text": [
      "\n",
      "8it [00:45,  4.87s/it]\u001b[A"
     ]
    },
    {
     "name": "stdout",
     "output_type": "stream",
     "text": [
      "hist_member tas_Amon_CanESM5_historical_r25i1p1f1_gn_185001-201412.nc_global_regrid.nc for CanESM5\n",
      "ssp_member_regrid tas_Amon_CanESM5_ssp245_r25i1p1f1_gn_201501-210012_regrid.nc for CanESM5\n",
      "first_yyyymm_hist 185001 for CanESM5\n",
      "last_yyyymm_ssp 210012 for CanESM5\n",
      "output_fname tas_Amon_CanESM5_historical_r25i1p1f1_185001-210012.nc\n"
     ]
    },
    {
     "name": "stderr",
     "output_type": "stream",
     "text": [
      "\n",
      "9it [00:50,  4.98s/it]\u001b[A"
     ]
    },
    {
     "name": "stdout",
     "output_type": "stream",
     "text": [
      "hist_member tas_Amon_CanESM5_historical_r24i1p2f1_gn_185001-201412.nc_global_regrid.nc for CanESM5\n",
      "ssp_member_regrid tas_Amon_CanESM5_ssp245_r24i1p2f1_gn_201501-210012_regrid.nc for CanESM5\n",
      "first_yyyymm_hist 185001 for CanESM5\n",
      "last_yyyymm_ssp 210012 for CanESM5\n",
      "output_fname tas_Amon_CanESM5_historical_r24i1p2f1_185001-210012.nc\n"
     ]
    },
    {
     "name": "stderr",
     "output_type": "stream",
     "text": [
      "\n",
      "10it [00:55,  4.85s/it]\u001b[A"
     ]
    },
    {
     "name": "stdout",
     "output_type": "stream",
     "text": [
      "hist_member tas_Amon_CanESM5_historical_r7i1p1f1_gn_185001-201412.nc_global_regrid.nc for CanESM5\n",
      "ssp_member_regrid tas_Amon_CanESM5_ssp245_r7i1p1f1_gn_201501-210012_regrid.nc for CanESM5\n",
      "first_yyyymm_hist 185001 for CanESM5\n",
      "last_yyyymm_ssp 210012 for CanESM5\n",
      "output_fname tas_Amon_CanESM5_historical_r7i1p1f1_185001-210012.nc\n"
     ]
    },
    {
     "name": "stderr",
     "output_type": "stream",
     "text": [
      "\n",
      "11it [00:59,  4.83s/it]\u001b[A"
     ]
    },
    {
     "name": "stdout",
     "output_type": "stream",
     "text": [
      "hist_member tas_Amon_CanESM5_historical_r16i1p1f1_gn_185001-201412.nc_global_regrid.nc for CanESM5\n",
      "ssp_member_regrid tas_Amon_CanESM5_ssp245_r16i1p1f1_gn_201501-210012_regrid.nc for CanESM5\n",
      "first_yyyymm_hist 185001 for CanESM5\n",
      "last_yyyymm_ssp 210012 for CanESM5\n",
      "output_fname tas_Amon_CanESM5_historical_r16i1p1f1_185001-210012.nc\n"
     ]
    },
    {
     "name": "stderr",
     "output_type": "stream",
     "text": [
      "\n",
      "12it [01:03,  4.45s/it]\u001b[A"
     ]
    },
    {
     "name": "stdout",
     "output_type": "stream",
     "text": [
      "hist_member tas_Amon_CanESM5_historical_r15i1p1f1_gn_185001-201412.nc_global_regrid.nc for CanESM5\n",
      "ssp_member_regrid tas_Amon_CanESM5_ssp245_r15i1p1f1_gn_201501-210012_regrid.nc for CanESM5\n",
      "first_yyyymm_hist 185001 for CanESM5\n",
      "last_yyyymm_ssp 210012 for CanESM5\n",
      "output_fname tas_Amon_CanESM5_historical_r15i1p1f1_185001-210012.nc\n"
     ]
    },
    {
     "name": "stderr",
     "output_type": "stream",
     "text": [
      "\n",
      "13it [01:06,  4.06s/it]\u001b[A"
     ]
    },
    {
     "name": "stdout",
     "output_type": "stream",
     "text": [
      "hist_member tas_Amon_CanESM5_historical_r21i1p2f1_gn_185001-201412.nc_global_regrid.nc for CanESM5\n",
      "ssp_member_regrid tas_Amon_CanESM5_ssp245_r21i1p2f1_gn_201501-210012_regrid.nc for CanESM5\n",
      "first_yyyymm_hist 185001 for CanESM5\n",
      "last_yyyymm_ssp 210012 for CanESM5\n",
      "output_fname tas_Amon_CanESM5_historical_r21i1p2f1_185001-210012.nc\n"
     ]
    },
    {
     "name": "stderr",
     "output_type": "stream",
     "text": [
      "\n",
      "14it [01:12,  4.69s/it]\u001b[A"
     ]
    },
    {
     "name": "stdout",
     "output_type": "stream",
     "text": [
      "hist_member tas_Amon_CanESM5_historical_r25i1p2f1_gn_185001-201412.nc_global_regrid.nc for CanESM5\n",
      "ssp_member_regrid tas_Amon_CanESM5_ssp245_r25i1p2f1_gn_201501-210012_regrid.nc for CanESM5\n",
      "first_yyyymm_hist 185001 for CanESM5\n",
      "last_yyyymm_ssp 210012 for CanESM5\n",
      "output_fname tas_Amon_CanESM5_historical_r25i1p2f1_185001-210012.nc\n"
     ]
    },
    {
     "name": "stderr",
     "output_type": "stream",
     "text": [
      "\n",
      "15it [01:17,  4.58s/it]\u001b[A"
     ]
    },
    {
     "name": "stdout",
     "output_type": "stream",
     "text": [
      "hist_member tas_Amon_CanESM5_historical_r13i1p1f1_gn_185001-201412.nc_global_regrid.nc for CanESM5\n",
      "ssp_member_regrid tas_Amon_CanESM5_ssp245_r13i1p1f1_gn_201501-210012_regrid.nc for CanESM5\n",
      "first_yyyymm_hist 185001 for CanESM5\n",
      "last_yyyymm_ssp 210012 for CanESM5\n",
      "output_fname tas_Amon_CanESM5_historical_r13i1p1f1_185001-210012.nc\n"
     ]
    },
    {
     "name": "stderr",
     "output_type": "stream",
     "text": [
      "\n",
      "16it [01:21,  4.47s/it]\u001b[A"
     ]
    },
    {
     "name": "stdout",
     "output_type": "stream",
     "text": [
      "hist_member tas_Amon_CanESM5_historical_r3i1p1f1_gn_185001-201412.nc_global_regrid.nc for CanESM5\n",
      "ssp_member_regrid tas_Amon_CanESM5_ssp245_r3i1p1f1_gn_201501-210012_regrid.nc for CanESM5\n",
      "first_yyyymm_hist 185001 for CanESM5\n",
      "last_yyyymm_ssp 210012 for CanESM5\n",
      "output_fname tas_Amon_CanESM5_historical_r3i1p1f1_185001-210012.nc\n"
     ]
    },
    {
     "name": "stderr",
     "output_type": "stream",
     "text": [
      "\n",
      "17it [01:26,  4.55s/it]\u001b[A"
     ]
    },
    {
     "name": "stdout",
     "output_type": "stream",
     "text": [
      "hist_member tas_Amon_CanESM5_historical_r14i1p2f1_gn_185001-201412.nc_global_regrid.nc for CanESM5\n",
      "ssp_member_regrid tas_Amon_CanESM5_ssp245_r14i1p2f1_gn_201501-210012_regrid.nc for CanESM5\n",
      "first_yyyymm_hist 185001 for CanESM5\n",
      "last_yyyymm_ssp 210012 for CanESM5\n",
      "output_fname tas_Amon_CanESM5_historical_r14i1p2f1_185001-210012.nc\n"
     ]
    },
    {
     "name": "stderr",
     "output_type": "stream",
     "text": [
      "\n",
      "18it [01:31,  4.87s/it]\u001b[A"
     ]
    },
    {
     "name": "stdout",
     "output_type": "stream",
     "text": [
      "hist_member tas_Amon_CanESM5_historical_r19i1p2f1_gn_185001-201412.nc_global_regrid.nc for CanESM5\n",
      "ssp_member_regrid tas_Amon_CanESM5_ssp245_r19i1p2f1_gn_201501-210012_regrid.nc for CanESM5\n",
      "first_yyyymm_hist 185001 for CanESM5\n",
      "last_yyyymm_ssp 210012 for CanESM5\n",
      "output_fname tas_Amon_CanESM5_historical_r19i1p2f1_185001-210012.nc\n"
     ]
    },
    {
     "name": "stderr",
     "output_type": "stream",
     "text": [
      "\n",
      "19it [01:36,  4.83s/it]\u001b[A"
     ]
    },
    {
     "name": "stdout",
     "output_type": "stream",
     "text": [
      "hist_member tas_Amon_CanESM5_historical_r2i1p2f1_gn_185001-201412.nc_global_regrid.nc for CanESM5\n",
      "ssp_member_regrid tas_Amon_CanESM5_ssp245_r2i1p2f1_gn_201501-210012_regrid.nc for CanESM5\n",
      "first_yyyymm_hist 185001 for CanESM5\n",
      "last_yyyymm_ssp 210012 for CanESM5\n",
      "output_fname tas_Amon_CanESM5_historical_r2i1p2f1_185001-210012.nc\n"
     ]
    },
    {
     "name": "stderr",
     "output_type": "stream",
     "text": [
      "\n",
      "20it [01:42,  5.11s/it]\u001b[A"
     ]
    },
    {
     "name": "stdout",
     "output_type": "stream",
     "text": [
      "hist_member tas_Amon_CanESM5_historical_r18i1p2f1_gn_185001-201412.nc_global_regrid.nc for CanESM5\n",
      "ssp_member_regrid tas_Amon_CanESM5_ssp245_r18i1p2f1_gn_201501-210012_regrid.nc for CanESM5\n",
      "first_yyyymm_hist 185001 for CanESM5\n",
      "last_yyyymm_ssp 210012 for CanESM5\n",
      "output_fname tas_Amon_CanESM5_historical_r18i1p2f1_185001-210012.nc\n"
     ]
    },
    {
     "name": "stderr",
     "output_type": "stream",
     "text": [
      "\n",
      "21it [01:45,  4.41s/it]\u001b[A"
     ]
    },
    {
     "name": "stdout",
     "output_type": "stream",
     "text": [
      "hist_member tas_Amon_CanESM5_historical_r18i1p1f1_gn_185001-201412.nc_global_regrid.nc for CanESM5\n",
      "ssp_member_regrid tas_Amon_CanESM5_ssp245_r18i1p1f1_gn_201501-210012_regrid.nc for CanESM5\n",
      "first_yyyymm_hist 185001 for CanESM5\n",
      "last_yyyymm_ssp 210012 for CanESM5\n",
      "output_fname tas_Amon_CanESM5_historical_r18i1p1f1_185001-210012.nc\n"
     ]
    },
    {
     "name": "stderr",
     "output_type": "stream",
     "text": [
      "\n",
      "22it [01:49,  4.37s/it]\u001b[A"
     ]
    },
    {
     "name": "stdout",
     "output_type": "stream",
     "text": [
      "hist_member tas_Amon_CanESM5_historical_r1i1p2f1_gn_185001-201412.nc_global_regrid.nc for CanESM5\n",
      "ssp_member_regrid tas_Amon_CanESM5_ssp245_r1i1p2f1_gn_201501-210012_regrid.nc for CanESM5\n",
      "first_yyyymm_hist 185001 for CanESM5\n",
      "last_yyyymm_ssp 210012 for CanESM5\n",
      "output_fname tas_Amon_CanESM5_historical_r1i1p2f1_185001-210012.nc\n"
     ]
    },
    {
     "name": "stderr",
     "output_type": "stream",
     "text": [
      "\n",
      "23it [01:53,  4.19s/it]\u001b[A"
     ]
    },
    {
     "name": "stdout",
     "output_type": "stream",
     "text": [
      "hist_member tas_Amon_CanESM5_historical_r12i1p1f1_gn_185001-201412.nc_global_regrid.nc for CanESM5\n",
      "ssp_member_regrid tas_Amon_CanESM5_ssp245_r12i1p1f1_gn_201501-210012_regrid.nc for CanESM5\n",
      "first_yyyymm_hist 185001 for CanESM5\n",
      "last_yyyymm_ssp 210012 for CanESM5\n",
      "output_fname tas_Amon_CanESM5_historical_r12i1p1f1_185001-210012.nc\n"
     ]
    },
    {
     "name": "stderr",
     "output_type": "stream",
     "text": [
      "\n",
      "24it [01:56,  4.07s/it]\u001b[A"
     ]
    },
    {
     "name": "stdout",
     "output_type": "stream",
     "text": [
      "hist_member tas_Amon_CanESM5_historical_r4i1p1f1_gn_185001-201412.nc_global_regrid.nc for CanESM5\n",
      "ssp_member_regrid tas_Amon_CanESM5_ssp245_r4i1p1f1_gn_201501-210012_regrid.nc for CanESM5\n",
      "first_yyyymm_hist 185001 for CanESM5\n",
      "last_yyyymm_ssp 210012 for CanESM5\n",
      "output_fname tas_Amon_CanESM5_historical_r4i1p1f1_185001-210012.nc\n"
     ]
    },
    {
     "name": "stderr",
     "output_type": "stream",
     "text": [
      "\n",
      "25it [02:00,  4.02s/it]\u001b[A"
     ]
    },
    {
     "name": "stdout",
     "output_type": "stream",
     "text": [
      "hist_member tas_Amon_CanESM5_historical_r14i1p1f1_gn_185001-201412.nc_global_regrid.nc for CanESM5\n",
      "ssp_member_regrid tas_Amon_CanESM5_ssp245_r14i1p1f1_gn_201501-210012_regrid.nc for CanESM5\n",
      "first_yyyymm_hist 185001 for CanESM5\n",
      "last_yyyymm_ssp 210012 for CanESM5\n",
      "output_fname tas_Amon_CanESM5_historical_r14i1p1f1_185001-210012.nc\n"
     ]
    },
    {
     "name": "stderr",
     "output_type": "stream",
     "text": [
      "\n",
      "26it [02:04,  3.82s/it]\u001b[A"
     ]
    },
    {
     "name": "stdout",
     "output_type": "stream",
     "text": [
      "hist_member tas_Amon_CanESM5_historical_r20i1p2f1_gn_185001-201412.nc_global_regrid.nc for CanESM5\n",
      "ssp_member_regrid tas_Amon_CanESM5_ssp245_r20i1p2f1_gn_201501-210012_regrid.nc for CanESM5\n",
      "first_yyyymm_hist 185001 for CanESM5\n",
      "last_yyyymm_ssp 210012 for CanESM5\n",
      "output_fname tas_Amon_CanESM5_historical_r20i1p2f1_185001-210012.nc\n"
     ]
    },
    {
     "name": "stderr",
     "output_type": "stream",
     "text": [
      "\n",
      "27it [02:12,  5.25s/it]\u001b[A"
     ]
    },
    {
     "name": "stdout",
     "output_type": "stream",
     "text": [
      "hist_member tas_Amon_CanESM5_historical_r24i1p1f1_gn_185001-201412.nc_global_regrid.nc for CanESM5\n",
      "ssp_member_regrid tas_Amon_CanESM5_ssp245_r24i1p1f1_gn_201501-210012_regrid.nc for CanESM5\n",
      "first_yyyymm_hist 185001 for CanESM5\n",
      "last_yyyymm_ssp 210012 for CanESM5\n",
      "output_fname tas_Amon_CanESM5_historical_r24i1p1f1_185001-210012.nc\n"
     ]
    },
    {
     "name": "stderr",
     "output_type": "stream",
     "text": [
      "\n",
      "28it [02:16,  4.75s/it]\u001b[A"
     ]
    },
    {
     "name": "stdout",
     "output_type": "stream",
     "text": [
      "hist_member tas_Amon_CanESM5_historical_r8i1p1f1_gn_185001-201412.nc_global_regrid.nc for CanESM5\n",
      "ssp_member_regrid tas_Amon_CanESM5_ssp245_r8i1p1f1_gn_201501-210012_regrid.nc for CanESM5\n",
      "first_yyyymm_hist 185001 for CanESM5\n",
      "last_yyyymm_ssp 210012 for CanESM5\n",
      "output_fname tas_Amon_CanESM5_historical_r8i1p1f1_185001-210012.nc\n"
     ]
    },
    {
     "name": "stderr",
     "output_type": "stream",
     "text": [
      "\n",
      "29it [02:20,  4.67s/it]\u001b[A"
     ]
    },
    {
     "name": "stdout",
     "output_type": "stream",
     "text": [
      "hist_member tas_Amon_CanESM5_historical_r13i1p2f1_gn_185001-201412.nc_global_regrid.nc for CanESM5\n",
      "ssp_member_regrid tas_Amon_CanESM5_ssp245_r13i1p2f1_gn_201501-210012_regrid.nc for CanESM5\n",
      "first_yyyymm_hist 185001 for CanESM5\n",
      "last_yyyymm_ssp 210012 for CanESM5\n",
      "output_fname tas_Amon_CanESM5_historical_r13i1p2f1_185001-210012.nc\n"
     ]
    },
    {
     "name": "stderr",
     "output_type": "stream",
     "text": [
      "\n",
      "30it [02:24,  4.32s/it]\u001b[A"
     ]
    },
    {
     "name": "stdout",
     "output_type": "stream",
     "text": [
      "hist_member tas_Amon_CanESM5_historical_r3i1p2f1_gn_185001-201412.nc_global_regrid.nc for CanESM5\n",
      "ssp_member_regrid tas_Amon_CanESM5_ssp245_r3i1p2f1_gn_201501-210012_regrid.nc for CanESM5\n",
      "first_yyyymm_hist 185001 for CanESM5\n",
      "last_yyyymm_ssp 210012 for CanESM5\n",
      "output_fname tas_Amon_CanESM5_historical_r3i1p2f1_185001-210012.nc\n"
     ]
    },
    {
     "name": "stderr",
     "output_type": "stream",
     "text": [
      "\n",
      "31it [02:31,  5.15s/it]\u001b[A"
     ]
    },
    {
     "name": "stdout",
     "output_type": "stream",
     "text": [
      "hist_member tas_Amon_CanESM5_historical_r2i1p1f1_gn_185001-201412.nc_global_regrid.nc for CanESM5\n",
      "ssp_member_regrid tas_Amon_CanESM5_ssp245_r2i1p1f1_gn_201501-210012_regrid.nc for CanESM5\n",
      "first_yyyymm_hist 185001 for CanESM5\n",
      "last_yyyymm_ssp 210012 for CanESM5\n",
      "output_fname tas_Amon_CanESM5_historical_r2i1p1f1_185001-210012.nc\n"
     ]
    },
    {
     "name": "stderr",
     "output_type": "stream",
     "text": [
      "\n",
      "32it [02:35,  4.82s/it]\u001b[A"
     ]
    },
    {
     "name": "stdout",
     "output_type": "stream",
     "text": [
      "hist_member tas_Amon_CanESM5_historical_r1i1p1f1_gn_185001-201412.nc_global_regrid.nc for CanESM5\n",
      "ssp_member_regrid tas_Amon_CanESM5_ssp245_r1i1p1f1_gn_201501-210012_regrid.nc for CanESM5\n",
      "first_yyyymm_hist 185001 for CanESM5\n",
      "last_yyyymm_ssp 210012 for CanESM5\n",
      "output_fname tas_Amon_CanESM5_historical_r1i1p1f1_185001-210012.nc\n"
     ]
    },
    {
     "name": "stderr",
     "output_type": "stream",
     "text": [
      "\n",
      "33it [02:38,  4.39s/it]\u001b[A"
     ]
    },
    {
     "name": "stdout",
     "output_type": "stream",
     "text": [
      "hist_member tas_Amon_CanESM5_historical_r16i1p2f1_gn_185001-201412.nc_global_regrid.nc for CanESM5\n",
      "ssp_member_regrid tas_Amon_CanESM5_ssp245_r16i1p2f1_gn_201501-210012_regrid.nc for CanESM5\n",
      "first_yyyymm_hist 185001 for CanESM5\n",
      "last_yyyymm_ssp 210012 for CanESM5\n",
      "output_fname tas_Amon_CanESM5_historical_r16i1p2f1_185001-210012.nc\n"
     ]
    },
    {
     "name": "stderr",
     "output_type": "stream",
     "text": [
      "\n",
      "34it [02:42,  4.06s/it]\u001b[A"
     ]
    },
    {
     "name": "stdout",
     "output_type": "stream",
     "text": [
      "hist_member tas_Amon_CanESM5_historical_r4i1p2f1_gn_185001-201412.nc_global_regrid.nc for CanESM5\n",
      "ssp_member_regrid tas_Amon_CanESM5_ssp245_r4i1p2f1_gn_201501-210012_regrid.nc for CanESM5\n",
      "first_yyyymm_hist 185001 for CanESM5\n",
      "last_yyyymm_ssp 210012 for CanESM5\n",
      "output_fname tas_Amon_CanESM5_historical_r4i1p2f1_185001-210012.nc\n"
     ]
    },
    {
     "name": "stderr",
     "output_type": "stream",
     "text": [
      "\n",
      "35it [02:45,  3.95s/it]\u001b[A"
     ]
    },
    {
     "name": "stdout",
     "output_type": "stream",
     "text": [
      "hist_member tas_Amon_CanESM5_historical_r5i1p2f1_gn_185001-201412.nc_global_regrid.nc for CanESM5\n",
      "ssp_member_regrid tas_Amon_CanESM5_ssp245_r5i1p2f1_gn_201501-210012_regrid.nc for CanESM5\n",
      "first_yyyymm_hist 185001 for CanESM5\n",
      "last_yyyymm_ssp 210012 for CanESM5\n",
      "output_fname tas_Amon_CanESM5_historical_r5i1p2f1_185001-210012.nc\n"
     ]
    },
    {
     "name": "stderr",
     "output_type": "stream",
     "text": [
      "\n",
      "36it [02:52,  4.75s/it]\u001b[A"
     ]
    },
    {
     "name": "stdout",
     "output_type": "stream",
     "text": [
      "hist_member tas_Amon_CanESM5_historical_r21i1p1f1_gn_185001-201412.nc_global_regrid.nc for CanESM5\n",
      "ssp_member_regrid tas_Amon_CanESM5_ssp245_r21i1p1f1_gn_201501-210012_regrid.nc for CanESM5\n",
      "first_yyyymm_hist 185001 for CanESM5\n",
      "last_yyyymm_ssp 210012 for CanESM5\n",
      "output_fname tas_Amon_CanESM5_historical_r21i1p1f1_185001-210012.nc\n"
     ]
    },
    {
     "name": "stderr",
     "output_type": "stream",
     "text": [
      "\n",
      "37it [02:57,  4.86s/it]\u001b[A"
     ]
    },
    {
     "name": "stdout",
     "output_type": "stream",
     "text": [
      "hist_member tas_Amon_CanESM5_historical_r23i1p1f1_gn_185001-201412.nc_global_regrid.nc for CanESM5\n",
      "ssp_member_regrid tas_Amon_CanESM5_ssp245_r23i1p1f1_gn_201501-210012_regrid.nc for CanESM5\n",
      "first_yyyymm_hist 185001 for CanESM5\n",
      "last_yyyymm_ssp 210012 for CanESM5\n",
      "output_fname tas_Amon_CanESM5_historical_r23i1p1f1_185001-210012.nc\n"
     ]
    },
    {
     "name": "stderr",
     "output_type": "stream",
     "text": [
      "\n",
      "38it [03:01,  4.52s/it]\u001b[A"
     ]
    },
    {
     "name": "stdout",
     "output_type": "stream",
     "text": [
      "hist_member tas_Amon_CanESM5_historical_r7i1p2f1_gn_185001-201412.nc_global_regrid.nc for CanESM5\n",
      "ssp_member_regrid tas_Amon_CanESM5_ssp245_r7i1p2f1_gn_201501-210012_regrid.nc for CanESM5\n",
      "first_yyyymm_hist 185001 for CanESM5\n",
      "last_yyyymm_ssp 210012 for CanESM5\n",
      "output_fname tas_Amon_CanESM5_historical_r7i1p2f1_185001-210012.nc\n"
     ]
    },
    {
     "name": "stderr",
     "output_type": "stream",
     "text": [
      "\n",
      "39it [03:04,  4.17s/it]\u001b[A"
     ]
    },
    {
     "name": "stdout",
     "output_type": "stream",
     "text": [
      "hist_member tas_Amon_CanESM5_historical_r6i1p1f1_gn_185001-201412.nc_global_regrid.nc for CanESM5\n",
      "ssp_member_regrid tas_Amon_CanESM5_ssp245_r6i1p1f1_gn_201501-210012_regrid.nc for CanESM5\n",
      "first_yyyymm_hist 185001 for CanESM5\n",
      "last_yyyymm_ssp 210012 for CanESM5\n",
      "output_fname tas_Amon_CanESM5_historical_r6i1p1f1_185001-210012.nc\n"
     ]
    },
    {
     "name": "stderr",
     "output_type": "stream",
     "text": [
      "\n",
      "40it [03:09,  4.51s/it]\u001b[A"
     ]
    },
    {
     "name": "stdout",
     "output_type": "stream",
     "text": [
      "hist_member tas_Amon_CanESM5_historical_r10i1p2f1_gn_185001-201412.nc_global_regrid.nc for CanESM5\n",
      "ssp_member_regrid tas_Amon_CanESM5_ssp245_r10i1p2f1_gn_201501-210012_regrid.nc for CanESM5\n",
      "first_yyyymm_hist 185001 for CanESM5\n",
      "last_yyyymm_ssp 210012 for CanESM5\n",
      "output_fname tas_Amon_CanESM5_historical_r10i1p2f1_185001-210012.nc\n"
     ]
    },
    {
     "name": "stderr",
     "output_type": "stream",
     "text": [
      "\n",
      "41it [03:13,  4.31s/it]\u001b[A"
     ]
    },
    {
     "name": "stdout",
     "output_type": "stream",
     "text": [
      "hist_member tas_Amon_CanESM5_historical_r9i1p1f1_gn_185001-201412.nc_global_regrid.nc for CanESM5\n",
      "ssp_member_regrid tas_Amon_CanESM5_ssp245_r9i1p1f1_gn_201501-210012_regrid.nc for CanESM5\n",
      "first_yyyymm_hist 185001 for CanESM5\n",
      "last_yyyymm_ssp 210012 for CanESM5\n",
      "output_fname tas_Amon_CanESM5_historical_r9i1p1f1_185001-210012.nc\n"
     ]
    },
    {
     "name": "stderr",
     "output_type": "stream",
     "text": [
      "\n",
      "42it [03:16,  3.95s/it]\u001b[A"
     ]
    },
    {
     "name": "stdout",
     "output_type": "stream",
     "text": [
      "hist_member tas_Amon_CanESM5_historical_r5i1p1f1_gn_185001-201412.nc_global_regrid.nc for CanESM5\n",
      "ssp_member_regrid tas_Amon_CanESM5_ssp245_r5i1p1f1_gn_201501-210012_regrid.nc for CanESM5\n",
      "first_yyyymm_hist 185001 for CanESM5\n",
      "last_yyyymm_ssp 210012 for CanESM5\n",
      "output_fname tas_Amon_CanESM5_historical_r5i1p1f1_185001-210012.nc\n"
     ]
    },
    {
     "name": "stderr",
     "output_type": "stream",
     "text": [
      "\n",
      "43it [03:20,  3.99s/it]\u001b[A"
     ]
    },
    {
     "name": "stdout",
     "output_type": "stream",
     "text": [
      "hist_member tas_Amon_CanESM5_historical_r23i1p2f1_gn_185001-201412.nc_global_regrid.nc for CanESM5\n",
      "ssp_member_regrid tas_Amon_CanESM5_ssp245_r23i1p2f1_gn_201501-210012_regrid.nc for CanESM5\n",
      "first_yyyymm_hist 185001 for CanESM5\n",
      "last_yyyymm_ssp 210012 for CanESM5\n",
      "output_fname tas_Amon_CanESM5_historical_r23i1p2f1_185001-210012.nc\n"
     ]
    },
    {
     "name": "stderr",
     "output_type": "stream",
     "text": [
      "\n",
      "44it [03:25,  4.29s/it]\u001b[A"
     ]
    },
    {
     "name": "stdout",
     "output_type": "stream",
     "text": [
      "hist_member tas_Amon_CanESM5_historical_r19i1p1f1_gn_185001-201412.nc_global_regrid.nc for CanESM5\n",
      "ssp_member_regrid tas_Amon_CanESM5_ssp245_r19i1p1f1_gn_201501-210012_regrid.nc for CanESM5\n",
      "first_yyyymm_hist 185001 for CanESM5\n",
      "last_yyyymm_ssp 210012 for CanESM5\n",
      "output_fname tas_Amon_CanESM5_historical_r19i1p1f1_185001-210012.nc\n"
     ]
    },
    {
     "name": "stderr",
     "output_type": "stream",
     "text": [
      "\n",
      "45it [03:34,  5.58s/it]\u001b[A"
     ]
    },
    {
     "name": "stdout",
     "output_type": "stream",
     "text": [
      "hist_member tas_Amon_CanESM5_historical_r17i1p2f1_gn_185001-201412.nc_global_regrid.nc for CanESM5\n",
      "ssp_member_regrid tas_Amon_CanESM5_ssp245_r17i1p2f1_gn_201501-210012_regrid.nc for CanESM5\n",
      "first_yyyymm_hist 185001 for CanESM5\n",
      "last_yyyymm_ssp 210012 for CanESM5\n",
      "output_fname tas_Amon_CanESM5_historical_r17i1p2f1_185001-210012.nc\n"
     ]
    },
    {
     "name": "stderr",
     "output_type": "stream",
     "text": [
      "\n",
      "46it [03:40,  5.56s/it]\u001b[A"
     ]
    },
    {
     "name": "stdout",
     "output_type": "stream",
     "text": [
      "hist_member tas_Amon_CanESM5_historical_r20i1p1f1_gn_185001-201412.nc_global_regrid.nc for CanESM5\n",
      "ssp_member_regrid tas_Amon_CanESM5_ssp245_r20i1p1f1_gn_201501-210012_regrid.nc for CanESM5\n",
      "first_yyyymm_hist 185001 for CanESM5\n",
      "last_yyyymm_ssp 210012 for CanESM5\n",
      "output_fname tas_Amon_CanESM5_historical_r20i1p1f1_185001-210012.nc\n"
     ]
    },
    {
     "name": "stderr",
     "output_type": "stream",
     "text": [
      "\n",
      "47it [03:43,  4.88s/it]\u001b[A"
     ]
    },
    {
     "name": "stdout",
     "output_type": "stream",
     "text": [
      "hist_member tas_Amon_CanESM5_historical_r9i1p2f1_gn_185001-201412.nc_global_regrid.nc for CanESM5\n",
      "ssp_member_regrid tas_Amon_CanESM5_ssp245_r9i1p2f1_gn_201501-210012_regrid.nc for CanESM5\n",
      "first_yyyymm_hist 185001 for CanESM5\n",
      "last_yyyymm_ssp 210012 for CanESM5\n",
      "output_fname tas_Amon_CanESM5_historical_r9i1p2f1_185001-210012.nc\n"
     ]
    },
    {
     "name": "stderr",
     "output_type": "stream",
     "text": [
      "\n",
      "48it [03:49,  5.19s/it]\u001b[A"
     ]
    },
    {
     "name": "stdout",
     "output_type": "stream",
     "text": [
      "hist_member tas_Amon_CanESM5_historical_r6i1p2f1_gn_185001-201412.nc_global_regrid.nc for CanESM5\n",
      "ssp_member_regrid tas_Amon_CanESM5_ssp245_r6i1p2f1_gn_201501-210012_regrid.nc for CanESM5\n",
      "first_yyyymm_hist 185001 for CanESM5\n",
      "last_yyyymm_ssp 210012 for CanESM5\n",
      "output_fname tas_Amon_CanESM5_historical_r6i1p2f1_185001-210012.nc\n"
     ]
    },
    {
     "name": "stderr",
     "output_type": "stream",
     "text": [
      "\n",
      "49it [03:53,  4.92s/it]\u001b[A"
     ]
    },
    {
     "name": "stdout",
     "output_type": "stream",
     "text": [
      "hist_member tas_Amon_CanESM5_historical_r11i1p1f1_gn_185001-201412.nc_global_regrid.nc for CanESM5\n",
      "ssp_member_regrid tas_Amon_CanESM5_ssp245_r11i1p1f1_gn_201501-210012_regrid.nc for CanESM5\n",
      "first_yyyymm_hist 185001 for CanESM5\n",
      "last_yyyymm_ssp 210012 for CanESM5\n",
      "output_fname tas_Amon_CanESM5_historical_r11i1p1f1_185001-210012.nc\n"
     ]
    },
    {
     "name": "stderr",
     "output_type": "stream",
     "text": [
      "\n",
      "50it [03:56,  4.74s/it]\u001b[A\n",
      " 33%|███▎      | 3/9 [03:59<08:50, 88.38s/it]\n",
      "0it [00:00, ?it/s]\u001b[A"
     ]
    },
    {
     "name": "stdout",
     "output_type": "stream",
     "text": [
      "hist_member tas_Amon_CMCC-CM2-SR5_historical_r1i1p1f1_gn_185001-201412.nc_global_regrid.nc for CMCC-CM2-SR5\n",
      "ssp_member_regrid tas_Amon_CMCC-CM2-SR5_ssp245_r1i1p1f1_gn_201501-210012_regrid.nc for CMCC-CM2-SR5\n",
      "first_yyyymm_hist 185001 for CMCC-CM2-SR5\n",
      "last_yyyymm_ssp 210012 for CMCC-CM2-SR5\n",
      "output_fname tas_Amon_CMCC-CM2-SR5_historical_r1i1p1f1_185001-210012.nc\n"
     ]
    },
    {
     "name": "stderr",
     "output_type": "stream",
     "text": [
      "\n",
      "1it [00:05,  5.69s/it]\u001b[A\n",
      " 44%|████▍     | 4/9 [04:05<04:58, 59.77s/it]\n",
      "0it [00:00, ?it/s]\u001b[A"
     ]
    },
    {
     "name": "stdout",
     "output_type": "stream",
     "text": [
      "hist_member tas_Amon_EC-Earth3_historical_r116i1p1f1_g?_1970-2014.nc_global_regrid.nc for EC-Earth3\n",
      "ssp_member_regrid tas_Amon_EC-Earth3_ssp245_r116i1p1f1_gr_201501-202412_regrid.nc for EC-Earth3\n",
      "first_yyyymm_hist 1970 for EC-Earth3\n",
      "last_yyyymm_ssp 202412 for EC-Earth3\n",
      "output_fname tas_Amon_EC-Earth3_historical_r116i1p1f1_1970-202412.nc\n"
     ]
    },
    {
     "name": "stderr",
     "output_type": "stream",
     "text": [
      "\n",
      "1it [00:02,  2.23s/it]\u001b[A"
     ]
    },
    {
     "name": "stdout",
     "output_type": "stream",
     "text": [
      "hist_member tas_Amon_EC-Earth3_historical_r114i1p1f1_g?_1970-2014.nc_global_regrid.nc for EC-Earth3\n",
      "ssp_member_regrid tas_Amon_EC-Earth3_ssp245_r114i1p1f1_gr_201501-202412_regrid.nc for EC-Earth3\n",
      "first_yyyymm_hist 1970 for EC-Earth3\n",
      "last_yyyymm_ssp 202412 for EC-Earth3\n",
      "output_fname tas_Amon_EC-Earth3_historical_r114i1p1f1_1970-202412.nc\n"
     ]
    },
    {
     "name": "stderr",
     "output_type": "stream",
     "text": [
      "\n",
      "2it [00:12,  7.22s/it]\u001b[A"
     ]
    },
    {
     "name": "stdout",
     "output_type": "stream",
     "text": [
      "hist_member tas_Amon_EC-Earth3_historical_r138i1p1f1_g?_1970-2014.nc_global_regrid.nc for EC-Earth3\n",
      "ssp_member_regrid tas_Amon_EC-Earth3_ssp245_r138i1p1f1_gr_201501-202412_regrid.nc for EC-Earth3\n",
      "first_yyyymm_hist 1970 for EC-Earth3\n",
      "last_yyyymm_ssp 202412 for EC-Earth3\n",
      "output_fname tas_Amon_EC-Earth3_historical_r138i1p1f1_1970-202412.nc\n"
     ]
    },
    {
     "name": "stderr",
     "output_type": "stream",
     "text": [
      "\n",
      "3it [00:15,  5.22s/it]\u001b[A"
     ]
    },
    {
     "name": "stdout",
     "output_type": "stream",
     "text": [
      "hist_member tas_Amon_EC-Earth3_historical_r122i1p1f1_g?_1970-2014.nc_global_regrid.nc for EC-Earth3\n",
      "ssp_member_regrid tas_Amon_EC-Earth3_ssp245_r122i1p1f1_gr_201501-202412_regrid.nc for EC-Earth3\n",
      "first_yyyymm_hist 1970 for EC-Earth3\n",
      "last_yyyymm_ssp 202412 for EC-Earth3\n",
      "output_fname tas_Amon_EC-Earth3_historical_r122i1p1f1_1970-202412.nc\n"
     ]
    },
    {
     "name": "stderr",
     "output_type": "stream",
     "text": [
      "\n",
      "4it [00:18,  4.20s/it]\u001b[A"
     ]
    },
    {
     "name": "stdout",
     "output_type": "stream",
     "text": [
      "hist_member tas_Amon_EC-Earth3_historical_r103i1p1f1_g?_1970-2014.nc_global_regrid.nc for EC-Earth3\n",
      "ssp_member_regrid tas_Amon_EC-Earth3_ssp245_r103i1p1f1_gr_201501-202412_regrid.nc for EC-Earth3\n",
      "first_yyyymm_hist 1970 for EC-Earth3\n",
      "last_yyyymm_ssp 202412 for EC-Earth3\n",
      "output_fname tas_Amon_EC-Earth3_historical_r103i1p1f1_1970-202412.nc\n"
     ]
    },
    {
     "name": "stderr",
     "output_type": "stream",
     "text": [
      "\n",
      "5it [00:20,  3.54s/it]\u001b[A"
     ]
    },
    {
     "name": "stdout",
     "output_type": "stream",
     "text": [
      "hist_member tas_Amon_EC-Earth3_historical_r101i1p1f1_g?_1970-2014.nc_global_regrid.nc for EC-Earth3\n",
      "ssp_member_regrid tas_Amon_EC-Earth3_ssp245_r101i1p1f1_gr_201501-202412_regrid.nc for EC-Earth3\n",
      "first_yyyymm_hist 1970 for EC-Earth3\n",
      "last_yyyymm_ssp 202412 for EC-Earth3\n",
      "output_fname tas_Amon_EC-Earth3_historical_r101i1p1f1_1970-202412.nc\n"
     ]
    },
    {
     "name": "stderr",
     "output_type": "stream",
     "text": [
      "\n",
      "6it [00:23,  3.31s/it]\u001b[A"
     ]
    },
    {
     "name": "stdout",
     "output_type": "stream",
     "text": [
      "hist_member tas_Amon_EC-Earth3_historical_r127i1p1f1_g?_1970-2014.nc_global_regrid.nc for EC-Earth3\n",
      "ssp_member_regrid tas_Amon_EC-Earth3_ssp245_r127i1p1f1_gr_201501-202412_regrid.nc for EC-Earth3\n",
      "first_yyyymm_hist 1970 for EC-Earth3\n",
      "last_yyyymm_ssp 202412 for EC-Earth3\n",
      "output_fname tas_Amon_EC-Earth3_historical_r127i1p1f1_1970-202412.nc\n"
     ]
    },
    {
     "name": "stderr",
     "output_type": "stream",
     "text": [
      "\n",
      "7it [00:27,  3.48s/it]\u001b[A"
     ]
    },
    {
     "name": "stdout",
     "output_type": "stream",
     "text": [
      "hist_member tas_Amon_EC-Earth3_historical_r142i1p1f1_g?_1970-2014.nc_global_regrid.nc for EC-Earth3\n",
      "ssp_member_regrid tas_Amon_EC-Earth3_ssp245_r142i1p1f1_gr_201501-202412_regrid.nc for EC-Earth3\n",
      "first_yyyymm_hist 1970 for EC-Earth3\n",
      "last_yyyymm_ssp 202412 for EC-Earth3\n",
      "output_fname tas_Amon_EC-Earth3_historical_r142i1p1f1_1970-202412.nc\n"
     ]
    },
    {
     "name": "stderr",
     "output_type": "stream",
     "text": [
      "\n",
      "8it [00:31,  3.62s/it]\u001b[A"
     ]
    },
    {
     "name": "stdout",
     "output_type": "stream",
     "text": [
      "hist_member tas_Amon_EC-Earth3_historical_r104i1p1f1_g?_1970-2014.nc_global_regrid.nc for EC-Earth3\n",
      "ssp_member_regrid tas_Amon_EC-Earth3_ssp245_r104i1p1f1_gr_201501-202412_regrid.nc for EC-Earth3\n",
      "first_yyyymm_hist 1970 for EC-Earth3\n",
      "last_yyyymm_ssp 202412 for EC-Earth3\n",
      "output_fname tas_Amon_EC-Earth3_historical_r104i1p1f1_1970-202412.nc\n"
     ]
    },
    {
     "name": "stderr",
     "output_type": "stream",
     "text": [
      "\n",
      "9it [00:34,  3.51s/it]\u001b[A"
     ]
    },
    {
     "name": "stdout",
     "output_type": "stream",
     "text": [
      "hist_member tas_Amon_EC-Earth3_historical_r129i1p1f1_g?_1970-2014.nc_global_regrid.nc for EC-Earth3\n",
      "ssp_member_regrid tas_Amon_EC-Earth3_ssp245_r129i1p1f1_gr_201501-202412_regrid.nc for EC-Earth3\n",
      "first_yyyymm_hist 1970 for EC-Earth3\n",
      "last_yyyymm_ssp 202412 for EC-Earth3\n",
      "output_fname tas_Amon_EC-Earth3_historical_r129i1p1f1_1970-202412.nc\n"
     ]
    },
    {
     "name": "stderr",
     "output_type": "stream",
     "text": [
      "\n",
      "10it [00:37,  3.34s/it]\u001b[A"
     ]
    },
    {
     "name": "stdout",
     "output_type": "stream",
     "text": [
      "hist_member tas_Amon_EC-Earth3_historical_r105i1p1f1_g?_1970-2014.nc_global_regrid.nc for EC-Earth3\n",
      "ssp_member_regrid tas_Amon_EC-Earth3_ssp245_r105i1p1f1_gr_201501-202412_regrid.nc for EC-Earth3\n",
      "first_yyyymm_hist 1970 for EC-Earth3\n",
      "last_yyyymm_ssp 202412 for EC-Earth3\n",
      "output_fname tas_Amon_EC-Earth3_historical_r105i1p1f1_1970-202412.nc\n"
     ]
    },
    {
     "name": "stderr",
     "output_type": "stream",
     "text": [
      "\n",
      "11it [00:40,  3.13s/it]\u001b[A"
     ]
    },
    {
     "name": "stdout",
     "output_type": "stream",
     "text": [
      "hist_member tas_Amon_EC-Earth3_historical_r135i1p1f1_g?_1970-2014.nc_global_regrid.nc for EC-Earth3\n",
      "ssp_member_regrid tas_Amon_EC-Earth3_ssp245_r135i1p1f1_gr_201501-202412_regrid.nc for EC-Earth3\n",
      "first_yyyymm_hist 1970 for EC-Earth3\n",
      "last_yyyymm_ssp 202412 for EC-Earth3\n",
      "output_fname tas_Amon_EC-Earth3_historical_r135i1p1f1_1970-202412.nc\n"
     ]
    },
    {
     "name": "stderr",
     "output_type": "stream",
     "text": [
      "\n",
      "12it [00:42,  2.84s/it]\u001b[A"
     ]
    },
    {
     "name": "stdout",
     "output_type": "stream",
     "text": [
      "hist_member tas_Amon_EC-Earth3_historical_r144i1p1f1_g?_1970-2014.nc_global_regrid.nc for EC-Earth3\n",
      "ssp_member_regrid tas_Amon_EC-Earth3_ssp245_r144i1p1f1_gr_201501-202412_regrid.nc for EC-Earth3\n",
      "first_yyyymm_hist 1970 for EC-Earth3\n",
      "last_yyyymm_ssp 202412 for EC-Earth3\n",
      "output_fname tas_Amon_EC-Earth3_historical_r144i1p1f1_1970-202412.nc\n"
     ]
    },
    {
     "name": "stderr",
     "output_type": "stream",
     "text": [
      "\n",
      "13it [00:46,  3.09s/it]\u001b[A"
     ]
    },
    {
     "name": "stdout",
     "output_type": "stream",
     "text": [
      "hist_member tas_Amon_EC-Earth3_historical_r146i1p1f1_g?_1970-2014.nc_global_regrid.nc for EC-Earth3\n",
      "ssp_member_regrid tas_Amon_EC-Earth3_ssp245_r146i1p1f1_gr_201501-202412_regrid.nc for EC-Earth3\n",
      "first_yyyymm_hist 1970 for EC-Earth3\n",
      "last_yyyymm_ssp 202412 for EC-Earth3\n",
      "output_fname tas_Amon_EC-Earth3_historical_r146i1p1f1_1970-202412.nc\n"
     ]
    },
    {
     "name": "stderr",
     "output_type": "stream",
     "text": [
      "\n",
      "14it [00:48,  2.78s/it]\u001b[A"
     ]
    },
    {
     "name": "stdout",
     "output_type": "stream",
     "text": [
      "hist_member tas_Amon_EC-Earth3_historical_r109i1p1f1_g?_1970-2014.nc_global_regrid.nc for EC-Earth3\n",
      "ssp_member_regrid tas_Amon_EC-Earth3_ssp245_r109i1p1f1_gr_201501-202412_regrid.nc for EC-Earth3\n",
      "first_yyyymm_hist 1970 for EC-Earth3\n",
      "last_yyyymm_ssp 202412 for EC-Earth3\n",
      "output_fname tas_Amon_EC-Earth3_historical_r109i1p1f1_1970-202412.nc\n"
     ]
    },
    {
     "name": "stderr",
     "output_type": "stream",
     "text": [
      "\n",
      "15it [00:50,  2.51s/it]\u001b[A"
     ]
    },
    {
     "name": "stdout",
     "output_type": "stream",
     "text": [
      "hist_member tas_Amon_EC-Earth3_historical_r119i1p1f1_g?_1970-2014.nc_global_regrid.nc for EC-Earth3\n",
      "ssp_member_regrid tas_Amon_EC-Earth3_ssp245_r119i1p1f1_gr_201501-202412_regrid.nc for EC-Earth3\n",
      "first_yyyymm_hist 1970 for EC-Earth3\n",
      "last_yyyymm_ssp 202412 for EC-Earth3\n",
      "output_fname tas_Amon_EC-Earth3_historical_r119i1p1f1_1970-202412.nc\n"
     ]
    },
    {
     "name": "stderr",
     "output_type": "stream",
     "text": [
      "\n",
      "16it [00:51,  2.21s/it]\u001b[A"
     ]
    },
    {
     "name": "stdout",
     "output_type": "stream",
     "text": [
      "hist_member tas_Amon_EC-Earth3_historical_r136i1p1f1_g?_1970-2014.nc_global_regrid.nc for EC-Earth3\n",
      "ssp_member_regrid tas_Amon_EC-Earth3_ssp245_r136i1p1f1_gr_201501-202412_regrid.nc for EC-Earth3\n",
      "first_yyyymm_hist 1970 for EC-Earth3\n",
      "last_yyyymm_ssp 202412 for EC-Earth3\n",
      "output_fname tas_Amon_EC-Earth3_historical_r136i1p1f1_1970-202412.nc\n"
     ]
    },
    {
     "name": "stderr",
     "output_type": "stream",
     "text": [
      "\n",
      "17it [00:54,  2.54s/it]\u001b[A"
     ]
    },
    {
     "name": "stdout",
     "output_type": "stream",
     "text": [
      "hist_member tas_Amon_EC-Earth3_historical_r141i1p1f1_g?_1970-2014.nc_global_regrid.nc for EC-Earth3\n",
      "ssp_member_regrid tas_Amon_EC-Earth3_ssp245_r141i1p1f1_gr_201501-202412_regrid.nc for EC-Earth3\n",
      "first_yyyymm_hist 1970 for EC-Earth3\n",
      "last_yyyymm_ssp 202412 for EC-Earth3\n",
      "output_fname tas_Amon_EC-Earth3_historical_r141i1p1f1_1970-202412.nc\n"
     ]
    },
    {
     "name": "stderr",
     "output_type": "stream",
     "text": [
      "\n",
      "18it [00:56,  2.34s/it]\u001b[A"
     ]
    },
    {
     "name": "stdout",
     "output_type": "stream",
     "text": [
      "hist_member tas_Amon_EC-Earth3_historical_r117i1p1f1_g?_1970-2014.nc_global_regrid.nc for EC-Earth3\n",
      "ssp_member_regrid tas_Amon_EC-Earth3_ssp245_r117i1p1f1_gr_201501-202412_regrid.nc for EC-Earth3\n",
      "first_yyyymm_hist 1970 for EC-Earth3\n",
      "last_yyyymm_ssp 202412 for EC-Earth3\n",
      "output_fname tas_Amon_EC-Earth3_historical_r117i1p1f1_1970-202412.nc\n"
     ]
    },
    {
     "name": "stderr",
     "output_type": "stream",
     "text": [
      "\n",
      "19it [01:00,  2.67s/it]\u001b[A"
     ]
    },
    {
     "name": "stdout",
     "output_type": "stream",
     "text": [
      "hist_member tas_Amon_EC-Earth3_historical_r143i1p1f1_g?_1970-2014.nc_global_regrid.nc for EC-Earth3\n",
      "ssp_member_regrid tas_Amon_EC-Earth3_ssp245_r143i1p1f1_gr_201501-202412_regrid.nc for EC-Earth3\n",
      "first_yyyymm_hist 1970 for EC-Earth3\n",
      "last_yyyymm_ssp 202412 for EC-Earth3\n",
      "output_fname tas_Amon_EC-Earth3_historical_r143i1p1f1_1970-202412.nc\n"
     ]
    },
    {
     "name": "stderr",
     "output_type": "stream",
     "text": [
      "\n",
      "20it [01:03,  2.80s/it]\u001b[A"
     ]
    },
    {
     "name": "stdout",
     "output_type": "stream",
     "text": [
      "hist_member tas_Amon_EC-Earth3_historical_r107i1p1f1_g?_1970-2014.nc_global_regrid.nc for EC-Earth3\n",
      "ssp_member_regrid tas_Amon_EC-Earth3_ssp245_r107i1p1f1_gr_201501-202412_regrid.nc for EC-Earth3\n",
      "first_yyyymm_hist 1970 for EC-Earth3\n",
      "last_yyyymm_ssp 202412 for EC-Earth3\n",
      "output_fname tas_Amon_EC-Earth3_historical_r107i1p1f1_1970-202412.nc\n"
     ]
    },
    {
     "name": "stderr",
     "output_type": "stream",
     "text": [
      "\n",
      "21it [01:06,  2.92s/it]\u001b[A"
     ]
    },
    {
     "name": "stdout",
     "output_type": "stream",
     "text": [
      "hist_member tas_Amon_EC-Earth3_historical_r112i1p1f1_g?_1970-2014.nc_global_regrid.nc for EC-Earth3\n",
      "ssp_member_regrid tas_Amon_EC-Earth3_ssp245_r112i1p1f1_gr_201501-202412_regrid.nc for EC-Earth3\n",
      "first_yyyymm_hist 1970 for EC-Earth3\n",
      "last_yyyymm_ssp 202412 for EC-Earth3\n",
      "output_fname tas_Amon_EC-Earth3_historical_r112i1p1f1_1970-202412.nc\n"
     ]
    },
    {
     "name": "stderr",
     "output_type": "stream",
     "text": [
      "\n",
      "22it [01:08,  2.75s/it]\u001b[A"
     ]
    },
    {
     "name": "stdout",
     "output_type": "stream",
     "text": [
      "hist_member tas_Amon_EC-Earth3_historical_r120i1p1f1_g?_1970-2014.nc_global_regrid.nc for EC-Earth3\n",
      "ssp_member_regrid tas_Amon_EC-Earth3_ssp245_r120i1p1f1_gr_201501-202412_regrid.nc for EC-Earth3\n",
      "first_yyyymm_hist 1970 for EC-Earth3\n",
      "last_yyyymm_ssp 202412 for EC-Earth3\n",
      "output_fname tas_Amon_EC-Earth3_historical_r120i1p1f1_1970-202412.nc\n"
     ]
    },
    {
     "name": "stderr",
     "output_type": "stream",
     "text": [
      "\n",
      "23it [01:10,  2.48s/it]\u001b[A"
     ]
    },
    {
     "name": "stdout",
     "output_type": "stream",
     "text": [
      "hist_member tas_Amon_EC-Earth3_historical_r150i1p1f1_g?_1970-2014.nc_global_regrid.nc for EC-Earth3\n",
      "ssp_member_regrid tas_Amon_EC-Earth3_ssp245_r150i1p1f1_gr_201501-202412_regrid.nc for EC-Earth3\n",
      "first_yyyymm_hist 1970 for EC-Earth3\n",
      "last_yyyymm_ssp 202412 for EC-Earth3\n",
      "output_fname tas_Amon_EC-Earth3_historical_r150i1p1f1_1970-202412.nc\n"
     ]
    },
    {
     "name": "stderr",
     "output_type": "stream",
     "text": [
      "\n",
      "24it [01:13,  2.47s/it]\u001b[A"
     ]
    },
    {
     "name": "stdout",
     "output_type": "stream",
     "text": [
      "hist_member tas_Amon_EC-Earth3_historical_r147i1p1f1_g?_1970-2014.nc_global_regrid.nc for EC-Earth3\n",
      "ssp_member_regrid tas_Amon_EC-Earth3_ssp245_r147i1p1f1_gr_201501-202412_regrid.nc for EC-Earth3\n",
      "first_yyyymm_hist 1970 for EC-Earth3\n",
      "last_yyyymm_ssp 202412 for EC-Earth3\n",
      "output_fname tas_Amon_EC-Earth3_historical_r147i1p1f1_1970-202412.nc\n"
     ]
    },
    {
     "name": "stderr",
     "output_type": "stream",
     "text": [
      "\n",
      "25it [01:17,  3.02s/it]\u001b[A"
     ]
    },
    {
     "name": "stdout",
     "output_type": "stream",
     "text": [
      "hist_member tas_Amon_EC-Earth3_historical_r113i1p1f1_g?_1970-2014.nc_global_regrid.nc for EC-Earth3\n",
      "ssp_member_regrid tas_Amon_EC-Earth3_ssp245_r113i1p1f1_gr_201501-202412_regrid.nc for EC-Earth3\n",
      "first_yyyymm_hist 1970 for EC-Earth3\n",
      "last_yyyymm_ssp 202412 for EC-Earth3\n",
      "output_fname tas_Amon_EC-Earth3_historical_r113i1p1f1_1970-202412.nc\n"
     ]
    },
    {
     "name": "stderr",
     "output_type": "stream",
     "text": [
      "\n",
      "26it [01:19,  2.84s/it]\u001b[A"
     ]
    },
    {
     "name": "stdout",
     "output_type": "stream",
     "text": [
      "hist_member tas_Amon_EC-Earth3_historical_r128i1p1f1_g?_1970-2014.nc_global_regrid.nc for EC-Earth3\n",
      "ssp_member_regrid tas_Amon_EC-Earth3_ssp245_r128i1p1f1_gr_201501-202412_regrid.nc for EC-Earth3\n",
      "first_yyyymm_hist 1970 for EC-Earth3\n",
      "last_yyyymm_ssp 202412 for EC-Earth3\n",
      "output_fname tas_Amon_EC-Earth3_historical_r128i1p1f1_1970-202412.nc\n"
     ]
    },
    {
     "name": "stderr",
     "output_type": "stream",
     "text": [
      "\n",
      "27it [01:23,  3.13s/it]\u001b[A"
     ]
    },
    {
     "name": "stdout",
     "output_type": "stream",
     "text": [
      "hist_member tas_Amon_EC-Earth3_historical_r110i1p1f1_g?_1970-2014.nc_global_regrid.nc for EC-Earth3\n",
      "ssp_member_regrid tas_Amon_EC-Earth3_ssp245_r110i1p1f1_gr_201501-202412_regrid.nc for EC-Earth3\n",
      "first_yyyymm_hist 1970 for EC-Earth3\n",
      "last_yyyymm_ssp 202412 for EC-Earth3\n",
      "output_fname tas_Amon_EC-Earth3_historical_r110i1p1f1_1970-202412.nc\n"
     ]
    },
    {
     "name": "stderr",
     "output_type": "stream",
     "text": [
      "\n",
      "28it [01:25,  2.85s/it]\u001b[A"
     ]
    },
    {
     "name": "stdout",
     "output_type": "stream",
     "text": [
      "hist_member tas_Amon_EC-Earth3_historical_r145i1p1f1_g?_1970-2014.nc_global_regrid.nc for EC-Earth3\n",
      "ssp_member_regrid tas_Amon_EC-Earth3_ssp245_r145i1p1f1_gr_201501-202412_regrid.nc for EC-Earth3\n",
      "first_yyyymm_hist 1970 for EC-Earth3\n",
      "last_yyyymm_ssp 202412 for EC-Earth3\n",
      "output_fname tas_Amon_EC-Earth3_historical_r145i1p1f1_1970-202412.nc\n"
     ]
    },
    {
     "name": "stderr",
     "output_type": "stream",
     "text": [
      "\n",
      "29it [01:28,  2.72s/it]\u001b[A"
     ]
    },
    {
     "name": "stdout",
     "output_type": "stream",
     "text": [
      "hist_member tas_Amon_EC-Earth3_historical_r106i1p1f1_g?_1970-2014.nc_global_regrid.nc for EC-Earth3\n",
      "ssp_member_regrid tas_Amon_EC-Earth3_ssp245_r106i1p1f1_gr_201501-202412_regrid.nc for EC-Earth3\n",
      "first_yyyymm_hist 1970 for EC-Earth3\n",
      "last_yyyymm_ssp 202412 for EC-Earth3\n",
      "output_fname tas_Amon_EC-Earth3_historical_r106i1p1f1_1970-202412.nc\n"
     ]
    },
    {
     "name": "stderr",
     "output_type": "stream",
     "text": [
      "\n",
      "30it [01:31,  2.86s/it]\u001b[A"
     ]
    },
    {
     "name": "stdout",
     "output_type": "stream",
     "text": [
      "hist_member tas_Amon_EC-Earth3_historical_r137i1p1f1_g?_1970-2014.nc_global_regrid.nc for EC-Earth3\n",
      "ssp_member_regrid tas_Amon_EC-Earth3_ssp245_r137i1p1f1_gr_201501-202412_regrid.nc for EC-Earth3\n",
      "first_yyyymm_hist 1970 for EC-Earth3\n",
      "last_yyyymm_ssp 202412 for EC-Earth3\n",
      "output_fname tas_Amon_EC-Earth3_historical_r137i1p1f1_1970-202412.nc\n"
     ]
    },
    {
     "name": "stderr",
     "output_type": "stream",
     "text": [
      "\n",
      "31it [01:33,  2.49s/it]\u001b[A"
     ]
    },
    {
     "name": "stdout",
     "output_type": "stream",
     "text": [
      "hist_member tas_Amon_EC-Earth3_historical_r133i1p1f1_g?_1970-2014.nc_global_regrid.nc for EC-Earth3\n",
      "ssp_member_regrid tas_Amon_EC-Earth3_ssp245_r133i1p1f1_gr_201501-202412_regrid.nc for EC-Earth3\n",
      "first_yyyymm_hist 1970 for EC-Earth3\n",
      "last_yyyymm_ssp 202412 for EC-Earth3\n",
      "output_fname tas_Amon_EC-Earth3_historical_r133i1p1f1_1970-202412.nc\n"
     ]
    },
    {
     "name": "stderr",
     "output_type": "stream",
     "text": [
      "\n",
      "32it [01:34,  2.20s/it]\u001b[A"
     ]
    },
    {
     "name": "stdout",
     "output_type": "stream",
     "text": [
      "hist_member tas_Amon_EC-Earth3_historical_r149i1p1f1_g?_1970-2014.nc_global_regrid.nc for EC-Earth3\n",
      "ssp_member_regrid tas_Amon_EC-Earth3_ssp245_r149i1p1f1_gr_201501-202412_regrid.nc for EC-Earth3\n",
      "first_yyyymm_hist 1970 for EC-Earth3\n",
      "last_yyyymm_ssp 202412 for EC-Earth3\n",
      "output_fname tas_Amon_EC-Earth3_historical_r149i1p1f1_1970-202412.nc\n"
     ]
    },
    {
     "name": "stderr",
     "output_type": "stream",
     "text": [
      "\n",
      "33it [01:37,  2.40s/it]\u001b[A"
     ]
    },
    {
     "name": "stdout",
     "output_type": "stream",
     "text": [
      "hist_member tas_Amon_EC-Earth3_historical_r108i1p1f1_g?_1970-2014.nc_global_regrid.nc for EC-Earth3\n",
      "ssp_member_regrid tas_Amon_EC-Earth3_ssp245_r108i1p1f1_gr_201501-202412_regrid.nc for EC-Earth3\n",
      "first_yyyymm_hist 1970 for EC-Earth3\n",
      "last_yyyymm_ssp 202412 for EC-Earth3\n",
      "output_fname tas_Amon_EC-Earth3_historical_r108i1p1f1_1970-202412.nc\n"
     ]
    },
    {
     "name": "stderr",
     "output_type": "stream",
     "text": [
      "\n",
      "34it [01:39,  2.42s/it]\u001b[A"
     ]
    },
    {
     "name": "stdout",
     "output_type": "stream",
     "text": [
      "hist_member tas_Amon_EC-Earth3_historical_r124i1p1f1_g?_1970-2014.nc_global_regrid.nc for EC-Earth3\n",
      "ssp_member_regrid tas_Amon_EC-Earth3_ssp245_r124i1p1f1_gr_201501-202412_regrid.nc for EC-Earth3\n",
      "first_yyyymm_hist 1970 for EC-Earth3\n",
      "last_yyyymm_ssp 202412 for EC-Earth3\n",
      "output_fname tas_Amon_EC-Earth3_historical_r124i1p1f1_1970-202412.nc\n"
     ]
    },
    {
     "name": "stderr",
     "output_type": "stream",
     "text": [
      "\n",
      "35it [01:42,  2.48s/it]\u001b[A"
     ]
    },
    {
     "name": "stdout",
     "output_type": "stream",
     "text": [
      "hist_member tas_Amon_EC-Earth3_historical_r131i1p1f1_g?_1970-2014.nc_global_regrid.nc for EC-Earth3\n",
      "ssp_member_regrid tas_Amon_EC-Earth3_ssp245_r131i1p1f1_gr_201501-202412_regrid.nc for EC-Earth3\n",
      "first_yyyymm_hist 1970 for EC-Earth3\n",
      "last_yyyymm_ssp 202412 for EC-Earth3\n",
      "output_fname tas_Amon_EC-Earth3_historical_r131i1p1f1_1970-202412.nc\n"
     ]
    },
    {
     "name": "stderr",
     "output_type": "stream",
     "text": [
      "\n",
      "36it [01:44,  2.28s/it]\u001b[A"
     ]
    },
    {
     "name": "stdout",
     "output_type": "stream",
     "text": [
      "hist_member tas_Amon_EC-Earth3_historical_r132i1p1f1_g?_1970-2014.nc_global_regrid.nc for EC-Earth3\n",
      "ssp_member_regrid tas_Amon_EC-Earth3_ssp245_r132i1p1f1_gr_201501-202412_regrid.nc for EC-Earth3\n",
      "first_yyyymm_hist 1970 for EC-Earth3\n",
      "last_yyyymm_ssp 202412 for EC-Earth3\n",
      "output_fname tas_Amon_EC-Earth3_historical_r132i1p1f1_1970-202412.nc\n"
     ]
    },
    {
     "name": "stderr",
     "output_type": "stream",
     "text": [
      "\n",
      "37it [01:46,  2.20s/it]\u001b[A"
     ]
    },
    {
     "name": "stdout",
     "output_type": "stream",
     "text": [
      "hist_member tas_Amon_EC-Earth3_historical_r140i1p1f1_g?_1970-2014.nc_global_regrid.nc for EC-Earth3\n",
      "ssp_member_regrid tas_Amon_EC-Earth3_ssp245_r140i1p1f1_gr_201501-202412_regrid.nc for EC-Earth3\n",
      "first_yyyymm_hist 1970 for EC-Earth3\n",
      "last_yyyymm_ssp 202412 for EC-Earth3\n",
      "output_fname tas_Amon_EC-Earth3_historical_r140i1p1f1_1970-202412.nc\n"
     ]
    },
    {
     "name": "stderr",
     "output_type": "stream",
     "text": [
      "\n",
      "38it [01:49,  2.42s/it]\u001b[A"
     ]
    },
    {
     "name": "stdout",
     "output_type": "stream",
     "text": [
      "hist_member tas_Amon_EC-Earth3_historical_r130i1p1f1_g?_1970-2014.nc_global_regrid.nc for EC-Earth3\n",
      "ssp_member_regrid tas_Amon_EC-Earth3_ssp245_r130i1p1f1_gr_201501-202412_regrid.nc for EC-Earth3\n",
      "first_yyyymm_hist 1970 for EC-Earth3\n",
      "last_yyyymm_ssp 202412 for EC-Earth3\n",
      "output_fname tas_Amon_EC-Earth3_historical_r130i1p1f1_1970-202412.nc\n"
     ]
    },
    {
     "name": "stderr",
     "output_type": "stream",
     "text": [
      "\n",
      "39it [01:51,  2.27s/it]\u001b[A"
     ]
    },
    {
     "name": "stdout",
     "output_type": "stream",
     "text": [
      "hist_member tas_Amon_EC-Earth3_historical_r148i1p1f1_g?_1970-2014.nc_global_regrid.nc for EC-Earth3\n",
      "ssp_member_regrid tas_Amon_EC-Earth3_ssp245_r148i1p1f1_gr_201501-202412_regrid.nc for EC-Earth3\n",
      "first_yyyymm_hist 1970 for EC-Earth3\n",
      "last_yyyymm_ssp 202412 for EC-Earth3\n",
      "output_fname tas_Amon_EC-Earth3_historical_r148i1p1f1_1970-202412.nc\n"
     ]
    },
    {
     "name": "stderr",
     "output_type": "stream",
     "text": [
      "\n",
      "40it [01:53,  2.16s/it]\u001b[A"
     ]
    },
    {
     "name": "stdout",
     "output_type": "stream",
     "text": [
      "hist_member tas_Amon_EC-Earth3_historical_r115i1p1f1_g?_1970-2014.nc_global_regrid.nc for EC-Earth3\n",
      "ssp_member_regrid tas_Amon_EC-Earth3_ssp245_r115i1p1f1_gr_201501-202412_regrid.nc for EC-Earth3\n",
      "first_yyyymm_hist 1970 for EC-Earth3\n",
      "last_yyyymm_ssp 202412 for EC-Earth3\n",
      "output_fname tas_Amon_EC-Earth3_historical_r115i1p1f1_1970-202412.nc\n"
     ]
    },
    {
     "name": "stderr",
     "output_type": "stream",
     "text": [
      "\n",
      "41it [01:54,  1.96s/it]\u001b[A"
     ]
    },
    {
     "name": "stdout",
     "output_type": "stream",
     "text": [
      "hist_member tas_Amon_EC-Earth3_historical_r118i1p1f1_g?_1970-2014.nc_global_regrid.nc for EC-Earth3\n",
      "ssp_member_regrid tas_Amon_EC-Earth3_ssp245_r118i1p1f1_gr_201501-202412_regrid.nc for EC-Earth3\n",
      "first_yyyymm_hist 1970 for EC-Earth3\n",
      "last_yyyymm_ssp 202412 for EC-Earth3\n",
      "output_fname tas_Amon_EC-Earth3_historical_r118i1p1f1_1970-202412.nc\n"
     ]
    },
    {
     "name": "stderr",
     "output_type": "stream",
     "text": [
      "\n",
      "42it [01:57,  2.13s/it]\u001b[A"
     ]
    },
    {
     "name": "stdout",
     "output_type": "stream",
     "text": [
      "hist_member tas_Amon_EC-Earth3_historical_r111i1p1f1_g?_1970-2014.nc_global_regrid.nc for EC-Earth3\n",
      "ssp_member_regrid tas_Amon_EC-Earth3_ssp245_r111i1p1f1_gr_201501-202412_regrid.nc for EC-Earth3\n",
      "first_yyyymm_hist 1970 for EC-Earth3\n",
      "last_yyyymm_ssp 202412 for EC-Earth3\n",
      "output_fname tas_Amon_EC-Earth3_historical_r111i1p1f1_1970-202412.nc\n"
     ]
    },
    {
     "name": "stderr",
     "output_type": "stream",
     "text": [
      "\n",
      "43it [02:44, 15.82s/it]\u001b[A"
     ]
    },
    {
     "name": "stdout",
     "output_type": "stream",
     "text": [
      "hist_member tas_Amon_EC-Earth3_historical_r102i1p1f1_g?_1970-2014.nc_global_regrid.nc for EC-Earth3\n",
      "ssp_member_regrid tas_Amon_EC-Earth3_ssp245_r102i1p1f1_gr_201501-202412_regrid.nc for EC-Earth3\n",
      "first_yyyymm_hist 1970 for EC-Earth3\n",
      "last_yyyymm_ssp 202412 for EC-Earth3\n",
      "output_fname tas_Amon_EC-Earth3_historical_r102i1p1f1_1970-202412.nc\n"
     ]
    },
    {
     "name": "stderr",
     "output_type": "stream",
     "text": [
      "\n",
      "44it [03:07, 17.83s/it]\u001b[A"
     ]
    },
    {
     "name": "stdout",
     "output_type": "stream",
     "text": [
      "hist_member tas_Amon_EC-Earth3_historical_r123i1p1f1_g?_1970-2014.nc_global_regrid.nc for EC-Earth3\n",
      "ssp_member_regrid tas_Amon_EC-Earth3_ssp245_r123i1p1f1_gr_201501-202412_regrid.nc for EC-Earth3\n",
      "first_yyyymm_hist 1970 for EC-Earth3\n",
      "last_yyyymm_ssp 202412 for EC-Earth3\n",
      "output_fname tas_Amon_EC-Earth3_historical_r123i1p1f1_1970-202412.nc\n"
     ]
    },
    {
     "name": "stderr",
     "output_type": "stream",
     "text": [
      "\n",
      "45it [03:09, 13.17s/it]\u001b[A"
     ]
    },
    {
     "name": "stdout",
     "output_type": "stream",
     "text": [
      "hist_member tas_Amon_EC-Earth3_historical_r134i1p1f1_g?_1970-2014.nc_global_regrid.nc for EC-Earth3\n",
      "ssp_member_regrid tas_Amon_EC-Earth3_ssp245_r134i1p1f1_gr_201501-202412_regrid.nc for EC-Earth3\n",
      "first_yyyymm_hist 1970 for EC-Earth3\n",
      "last_yyyymm_ssp 202412 for EC-Earth3\n",
      "output_fname tas_Amon_EC-Earth3_historical_r134i1p1f1_1970-202412.nc\n"
     ]
    },
    {
     "name": "stderr",
     "output_type": "stream",
     "text": [
      "\n",
      "46it [03:14, 10.65s/it]\u001b[A"
     ]
    },
    {
     "name": "stdout",
     "output_type": "stream",
     "text": [
      "hist_member tas_Amon_EC-Earth3_historical_r139i1p1f1_g?_1970-2014.nc_global_regrid.nc for EC-Earth3\n",
      "ssp_member_regrid tas_Amon_EC-Earth3_ssp245_r139i1p1f1_gr_201501-202412_regrid.nc for EC-Earth3\n",
      "first_yyyymm_hist 1970 for EC-Earth3\n",
      "last_yyyymm_ssp 202412 for EC-Earth3\n",
      "output_fname tas_Amon_EC-Earth3_historical_r139i1p1f1_1970-202412.nc\n"
     ]
    },
    {
     "name": "stderr",
     "output_type": "stream",
     "text": [
      "\n",
      "47it [03:16,  8.17s/it]\u001b[A"
     ]
    },
    {
     "name": "stdout",
     "output_type": "stream",
     "text": [
      "hist_member tas_Amon_EC-Earth3_historical_r126i1p1f1_g?_1970-2014.nc_global_regrid.nc for EC-Earth3\n",
      "ssp_member_regrid tas_Amon_EC-Earth3_ssp245_r126i1p1f1_gr_201501-202412_regrid.nc for EC-Earth3\n",
      "first_yyyymm_hist 1970 for EC-Earth3\n",
      "last_yyyymm_ssp 202412 for EC-Earth3\n",
      "output_fname tas_Amon_EC-Earth3_historical_r126i1p1f1_1970-202412.nc\n"
     ]
    },
    {
     "name": "stderr",
     "output_type": "stream",
     "text": [
      "\n",
      "48it [03:20,  6.84s/it]\u001b[A"
     ]
    },
    {
     "name": "stdout",
     "output_type": "stream",
     "text": [
      "hist_member tas_Amon_EC-Earth3_historical_r121i1p1f1_g?_1970-2014.nc_global_regrid.nc for EC-Earth3\n",
      "ssp_member_regrid tas_Amon_EC-Earth3_ssp245_r121i1p1f1_gr_201501-202412_regrid.nc for EC-Earth3\n",
      "first_yyyymm_hist 1970 for EC-Earth3\n",
      "last_yyyymm_ssp 202412 for EC-Earth3\n",
      "output_fname tas_Amon_EC-Earth3_historical_r121i1p1f1_1970-202412.nc\n"
     ]
    },
    {
     "name": "stderr",
     "output_type": "stream",
     "text": [
      "\n",
      "49it [03:23,  5.67s/it]\u001b[A"
     ]
    },
    {
     "name": "stdout",
     "output_type": "stream",
     "text": [
      "hist_member tas_Amon_EC-Earth3_historical_r125i1p1f1_g?_1970-2014.nc_global_regrid.nc for EC-Earth3\n",
      "ssp_member_regrid tas_Amon_EC-Earth3_ssp245_r125i1p1f1_gr_201501-202412_regrid.nc for EC-Earth3\n",
      "first_yyyymm_hist 1970 for EC-Earth3\n",
      "last_yyyymm_ssp 202412 for EC-Earth3\n",
      "output_fname tas_Amon_EC-Earth3_historical_r125i1p1f1_1970-202412.nc\n"
     ]
    },
    {
     "name": "stderr",
     "output_type": "stream",
     "text": [
      "\n",
      "50it [03:25,  4.11s/it]\u001b[A\n",
      " 56%|█████▌    | 5/9 [07:30<07:11, 107.92s/it]\n",
      "0it [00:00, ?it/s]\u001b[A"
     ]
    },
    {
     "name": "stdout",
     "output_type": "stream",
     "text": [
      "hist_member tas_Amon_MPI-ESM1-2-LR_historical_r27i1p1f1_g?_1850-2014.nc_global_regrid.nc for MPI-ESM1-2-LR\n",
      "ssp_member_regrid tas_Amon_MPI-ESM1-2-LR_ssp245_r27i1p1f1_gn_201501-203412_regrid.nc for MPI-ESM1-2-LR\n",
      "first_yyyymm_hist 1850 for MPI-ESM1-2-LR\n",
      "last_yyyymm_ssp 203412 for MPI-ESM1-2-LR\n",
      "output_fname tas_Amon_MPI-ESM1-2-LR_historical_r27i1p1f1_1850-203412.nc\n"
     ]
    },
    {
     "name": "stderr",
     "output_type": "stream",
     "text": [
      "\n",
      "1it [00:05,  5.73s/it]\u001b[A"
     ]
    },
    {
     "name": "stdout",
     "output_type": "stream",
     "text": [
      "hist_member tas_Amon_MPI-ESM1-2-LR_historical_r17i1p1f1_g?_1850-2014.nc_global_regrid.nc for MPI-ESM1-2-LR\n",
      "ssp_member_regrid tas_Amon_MPI-ESM1-2-LR_ssp245_r17i1p1f1_gn_201501-203412_regrid.nc for MPI-ESM1-2-LR\n",
      "first_yyyymm_hist 1850 for MPI-ESM1-2-LR\n",
      "last_yyyymm_ssp 203412 for MPI-ESM1-2-LR\n",
      "output_fname tas_Amon_MPI-ESM1-2-LR_historical_r17i1p1f1_1850-203412.nc\n"
     ]
    },
    {
     "name": "stderr",
     "output_type": "stream",
     "text": [
      "\n",
      "2it [00:08,  4.07s/it]\u001b[A"
     ]
    },
    {
     "name": "stdout",
     "output_type": "stream",
     "text": [
      "hist_member tas_Amon_MPI-ESM1-2-LR_historical_r10i1p1f1_g?_1850-2014.nc_global_regrid.nc for MPI-ESM1-2-LR\n",
      "ssp_member_regrid tas_Amon_MPI-ESM1-2-LR_ssp245_r10i1p1f1_gn_201501-203412_regrid.nc for MPI-ESM1-2-LR\n",
      "first_yyyymm_hist 1850 for MPI-ESM1-2-LR\n",
      "last_yyyymm_ssp 203412 for MPI-ESM1-2-LR\n",
      "output_fname tas_Amon_MPI-ESM1-2-LR_historical_r10i1p1f1_1850-203412.nc\n"
     ]
    },
    {
     "name": "stderr",
     "output_type": "stream",
     "text": [
      "\n",
      "3it [00:12,  4.20s/it]\u001b[A"
     ]
    },
    {
     "name": "stdout",
     "output_type": "stream",
     "text": [
      "hist_member tas_Amon_MPI-ESM1-2-LR_historical_r22i1p1f1_g?_1850-2014.nc_global_regrid.nc for MPI-ESM1-2-LR\n",
      "ssp_member_regrid tas_Amon_MPI-ESM1-2-LR_ssp245_r22i1p1f1_gn_201501-203412_regrid.nc for MPI-ESM1-2-LR\n",
      "first_yyyymm_hist 1850 for MPI-ESM1-2-LR\n",
      "last_yyyymm_ssp 203412 for MPI-ESM1-2-LR\n",
      "output_fname tas_Amon_MPI-ESM1-2-LR_historical_r22i1p1f1_1850-203412.nc\n"
     ]
    },
    {
     "name": "stderr",
     "output_type": "stream",
     "text": [
      "\n",
      "4it [00:18,  4.84s/it]\u001b[A"
     ]
    },
    {
     "name": "stdout",
     "output_type": "stream",
     "text": [
      "hist_member tas_Amon_MPI-ESM1-2-LR_historical_r25i1p1f1_g?_1850-2014.nc_global_regrid.nc for MPI-ESM1-2-LR\n",
      "ssp_member_regrid tas_Amon_MPI-ESM1-2-LR_ssp245_r25i1p1f1_gn_201501-203412_regrid.nc for MPI-ESM1-2-LR\n",
      "first_yyyymm_hist 1850 for MPI-ESM1-2-LR\n",
      "last_yyyymm_ssp 203412 for MPI-ESM1-2-LR\n",
      "output_fname tas_Amon_MPI-ESM1-2-LR_historical_r25i1p1f1_1850-203412.nc\n"
     ]
    },
    {
     "name": "stderr",
     "output_type": "stream",
     "text": [
      "\n",
      "5it [00:24,  5.11s/it]\u001b[A"
     ]
    },
    {
     "name": "stdout",
     "output_type": "stream",
     "text": [
      "hist_member tas_Amon_MPI-ESM1-2-LR_historical_r26i1p1f1_g?_1850-2014.nc_global_regrid.nc for MPI-ESM1-2-LR\n",
      "ssp_member_regrid tas_Amon_MPI-ESM1-2-LR_ssp245_r26i1p1f1_gn_201501-203412_regrid.nc for MPI-ESM1-2-LR\n",
      "first_yyyymm_hist 1850 for MPI-ESM1-2-LR\n",
      "last_yyyymm_ssp 203412 for MPI-ESM1-2-LR\n",
      "output_fname tas_Amon_MPI-ESM1-2-LR_historical_r26i1p1f1_1850-203412.nc\n"
     ]
    },
    {
     "name": "stderr",
     "output_type": "stream",
     "text": [
      "\n",
      "6it [00:28,  4.91s/it]\u001b[A"
     ]
    },
    {
     "name": "stdout",
     "output_type": "stream",
     "text": [
      "hist_member tas_Amon_MPI-ESM1-2-LR_historical_r7i1p1f1_g?_1850-2014.nc_global_regrid.nc for MPI-ESM1-2-LR\n",
      "ssp_member_regrid tas_Amon_MPI-ESM1-2-LR_ssp245_r7i1p1f1_gn_201501-203412_regrid.nc for MPI-ESM1-2-LR\n",
      "first_yyyymm_hist 1850 for MPI-ESM1-2-LR\n",
      "last_yyyymm_ssp 203412 for MPI-ESM1-2-LR\n",
      "output_fname tas_Amon_MPI-ESM1-2-LR_historical_r7i1p1f1_1850-203412.nc\n"
     ]
    },
    {
     "name": "stderr",
     "output_type": "stream",
     "text": [
      "\n",
      "7it [00:33,  4.72s/it]\u001b[A"
     ]
    },
    {
     "name": "stdout",
     "output_type": "stream",
     "text": [
      "hist_member tas_Amon_MPI-ESM1-2-LR_historical_r16i1p1f1_g?_1850-2014.nc_global_regrid.nc for MPI-ESM1-2-LR\n",
      "ssp_member_regrid tas_Amon_MPI-ESM1-2-LR_ssp245_r16i1p1f1_gn_201501-203412_regrid.nc for MPI-ESM1-2-LR\n",
      "first_yyyymm_hist 1850 for MPI-ESM1-2-LR\n",
      "last_yyyymm_ssp 203412 for MPI-ESM1-2-LR\n",
      "output_fname tas_Amon_MPI-ESM1-2-LR_historical_r16i1p1f1_1850-203412.nc\n"
     ]
    },
    {
     "name": "stderr",
     "output_type": "stream",
     "text": [
      "\n",
      "8it [00:41,  5.88s/it]\u001b[A"
     ]
    },
    {
     "name": "stdout",
     "output_type": "stream",
     "text": [
      "hist_member tas_Amon_MPI-ESM1-2-LR_historical_r15i1p1f1_g?_1850-2014.nc_global_regrid.nc for MPI-ESM1-2-LR\n",
      "ssp_member_regrid tas_Amon_MPI-ESM1-2-LR_ssp245_r15i1p1f1_gn_201501-203412_regrid.nc for MPI-ESM1-2-LR\n",
      "first_yyyymm_hist 1850 for MPI-ESM1-2-LR\n",
      "last_yyyymm_ssp 203412 for MPI-ESM1-2-LR\n",
      "output_fname tas_Amon_MPI-ESM1-2-LR_historical_r15i1p1f1_1850-203412.nc\n"
     ]
    },
    {
     "name": "stderr",
     "output_type": "stream",
     "text": [
      "\n",
      "9it [00:45,  5.24s/it]\u001b[A"
     ]
    },
    {
     "name": "stdout",
     "output_type": "stream",
     "text": [
      "hist_member tas_Amon_MPI-ESM1-2-LR_historical_r13i1p1f1_g?_1850-2014.nc_global_regrid.nc for MPI-ESM1-2-LR\n",
      "ssp_member_regrid tas_Amon_MPI-ESM1-2-LR_ssp245_r13i1p1f1_gn_201501-203412_regrid.nc for MPI-ESM1-2-LR\n",
      "first_yyyymm_hist 1850 for MPI-ESM1-2-LR\n",
      "last_yyyymm_ssp 203412 for MPI-ESM1-2-LR\n",
      "output_fname tas_Amon_MPI-ESM1-2-LR_historical_r13i1p1f1_1850-203412.nc\n"
     ]
    },
    {
     "name": "stderr",
     "output_type": "stream",
     "text": [
      "\n",
      "10it [00:51,  5.61s/it]\u001b[A"
     ]
    },
    {
     "name": "stdout",
     "output_type": "stream",
     "text": [
      "hist_member tas_Amon_MPI-ESM1-2-LR_historical_r3i1p1f1_g?_1850-2014.nc_global_regrid.nc for MPI-ESM1-2-LR\n",
      "ssp_member_regrid tas_Amon_MPI-ESM1-2-LR_ssp245_r3i1p1f1_gn_201501-203412_regrid.nc for MPI-ESM1-2-LR\n",
      "first_yyyymm_hist 1850 for MPI-ESM1-2-LR\n",
      "last_yyyymm_ssp 203412 for MPI-ESM1-2-LR\n",
      "output_fname tas_Amon_MPI-ESM1-2-LR_historical_r3i1p1f1_1850-203412.nc\n"
     ]
    },
    {
     "name": "stderr",
     "output_type": "stream",
     "text": [
      "\n",
      "11it [00:56,  5.37s/it]\u001b[A"
     ]
    },
    {
     "name": "stdout",
     "output_type": "stream",
     "text": [
      "hist_member tas_Amon_MPI-ESM1-2-LR_historical_r18i1p1f1_g?_1850-2014.nc_global_regrid.nc for MPI-ESM1-2-LR\n",
      "ssp_member_regrid tas_Amon_MPI-ESM1-2-LR_ssp245_r18i1p1f1_gn_201501-203412_regrid.nc for MPI-ESM1-2-LR\n",
      "first_yyyymm_hist 1850 for MPI-ESM1-2-LR\n",
      "last_yyyymm_ssp 203412 for MPI-ESM1-2-LR\n",
      "output_fname tas_Amon_MPI-ESM1-2-LR_historical_r18i1p1f1_1850-203412.nc\n"
     ]
    },
    {
     "name": "stderr",
     "output_type": "stream",
     "text": [
      "\n",
      "12it [01:00,  4.77s/it]\u001b[A"
     ]
    },
    {
     "name": "stdout",
     "output_type": "stream",
     "text": [
      "hist_member tas_Amon_MPI-ESM1-2-LR_historical_r12i1p1f1_g?_1850-2014.nc_global_regrid.nc for MPI-ESM1-2-LR\n",
      "ssp_member_regrid tas_Amon_MPI-ESM1-2-LR_ssp245_r12i1p1f1_gn_201501-203412_regrid.nc for MPI-ESM1-2-LR\n",
      "first_yyyymm_hist 1850 for MPI-ESM1-2-LR\n",
      "last_yyyymm_ssp 203412 for MPI-ESM1-2-LR\n",
      "output_fname tas_Amon_MPI-ESM1-2-LR_historical_r12i1p1f1_1850-203412.nc\n"
     ]
    },
    {
     "name": "stderr",
     "output_type": "stream",
     "text": [
      "\n",
      "13it [01:03,  4.33s/it]\u001b[A"
     ]
    },
    {
     "name": "stdout",
     "output_type": "stream",
     "text": [
      "hist_member tas_Amon_MPI-ESM1-2-LR_historical_r4i1p1f1_g?_1850-2014.nc_global_regrid.nc for MPI-ESM1-2-LR\n",
      "ssp_member_regrid tas_Amon_MPI-ESM1-2-LR_ssp245_r4i1p1f1_gn_201501-203412_regrid.nc for MPI-ESM1-2-LR\n",
      "first_yyyymm_hist 1850 for MPI-ESM1-2-LR\n",
      "last_yyyymm_ssp 203412 for MPI-ESM1-2-LR\n",
      "output_fname tas_Amon_MPI-ESM1-2-LR_historical_r4i1p1f1_1850-203412.nc\n"
     ]
    },
    {
     "name": "stderr",
     "output_type": "stream",
     "text": [
      "\n",
      "14it [01:07,  4.16s/it]\u001b[A"
     ]
    },
    {
     "name": "stdout",
     "output_type": "stream",
     "text": [
      "hist_member tas_Amon_MPI-ESM1-2-LR_historical_r14i1p1f1_g?_1850-2014.nc_global_regrid.nc for MPI-ESM1-2-LR\n",
      "ssp_member_regrid tas_Amon_MPI-ESM1-2-LR_ssp245_r14i1p1f1_gn_201501-203412_regrid.nc for MPI-ESM1-2-LR\n",
      "first_yyyymm_hist 1850 for MPI-ESM1-2-LR\n",
      "last_yyyymm_ssp 203412 for MPI-ESM1-2-LR\n",
      "output_fname tas_Amon_MPI-ESM1-2-LR_historical_r14i1p1f1_1850-203412.nc\n"
     ]
    },
    {
     "name": "stderr",
     "output_type": "stream",
     "text": [
      "\n",
      "15it [01:11,  4.06s/it]\u001b[A"
     ]
    },
    {
     "name": "stdout",
     "output_type": "stream",
     "text": [
      "hist_member tas_Amon_MPI-ESM1-2-LR_historical_r8i1p1f1_g?_1850-2014.nc_global_regrid.nc for MPI-ESM1-2-LR\n",
      "ssp_member_regrid tas_Amon_MPI-ESM1-2-LR_ssp245_r8i1p1f1_gn_201501-203412_regrid.nc for MPI-ESM1-2-LR\n",
      "first_yyyymm_hist 1850 for MPI-ESM1-2-LR\n",
      "last_yyyymm_ssp 203412 for MPI-ESM1-2-LR\n",
      "output_fname tas_Amon_MPI-ESM1-2-LR_historical_r8i1p1f1_1850-203412.nc\n"
     ]
    },
    {
     "name": "stderr",
     "output_type": "stream",
     "text": [
      "\n",
      "16it [01:14,  3.97s/it]\u001b[A"
     ]
    },
    {
     "name": "stdout",
     "output_type": "stream",
     "text": [
      "hist_member tas_Amon_MPI-ESM1-2-LR_historical_r24i1p1f1_g?_1850-2014.nc_global_regrid.nc for MPI-ESM1-2-LR\n",
      "ssp_member_regrid tas_Amon_MPI-ESM1-2-LR_ssp245_r24i1p1f1_gn_201501-203412_regrid.nc for MPI-ESM1-2-LR\n",
      "first_yyyymm_hist 1850 for MPI-ESM1-2-LR\n",
      "last_yyyymm_ssp 203412 for MPI-ESM1-2-LR\n",
      "output_fname tas_Amon_MPI-ESM1-2-LR_historical_r24i1p1f1_1850-203412.nc\n"
     ]
    },
    {
     "name": "stderr",
     "output_type": "stream",
     "text": [
      "\n",
      "17it [01:17,  3.65s/it]\u001b[A"
     ]
    },
    {
     "name": "stdout",
     "output_type": "stream",
     "text": [
      "hist_member tas_Amon_MPI-ESM1-2-LR_historical_r28i1p1f1_g?_1850-2014.nc_global_regrid.nc for MPI-ESM1-2-LR\n",
      "ssp_member_regrid tas_Amon_MPI-ESM1-2-LR_ssp245_r28i1p1f1_gn_201501-203412_regrid.nc for MPI-ESM1-2-LR\n",
      "first_yyyymm_hist 1850 for MPI-ESM1-2-LR\n",
      "last_yyyymm_ssp 203412 for MPI-ESM1-2-LR\n",
      "output_fname tas_Amon_MPI-ESM1-2-LR_historical_r28i1p1f1_1850-203412.nc\n"
     ]
    },
    {
     "name": "stderr",
     "output_type": "stream",
     "text": [
      "\n",
      "18it [01:26,  5.27s/it]\u001b[A"
     ]
    },
    {
     "name": "stdout",
     "output_type": "stream",
     "text": [
      "hist_member tas_Amon_MPI-ESM1-2-LR_historical_r2i1p1f1_g?_1850-2014.nc_global_regrid.nc for MPI-ESM1-2-LR\n",
      "ssp_member_regrid tas_Amon_MPI-ESM1-2-LR_ssp245_r2i1p1f1_gn_201501-203412_regrid.nc for MPI-ESM1-2-LR\n",
      "first_yyyymm_hist 1850 for MPI-ESM1-2-LR\n",
      "last_yyyymm_ssp 203412 for MPI-ESM1-2-LR\n",
      "output_fname tas_Amon_MPI-ESM1-2-LR_historical_r2i1p1f1_1850-203412.nc\n"
     ]
    },
    {
     "name": "stderr",
     "output_type": "stream",
     "text": [
      "\n",
      "19it [01:32,  5.48s/it]\u001b[A"
     ]
    },
    {
     "name": "stdout",
     "output_type": "stream",
     "text": [
      "hist_member tas_Amon_MPI-ESM1-2-LR_historical_r1i1p1f1_g?_1850-2014.nc_global_regrid.nc for MPI-ESM1-2-LR\n",
      "ssp_member_regrid tas_Amon_MPI-ESM1-2-LR_ssp245_r1i1p1f1_gn_201501-203412_regrid.nc for MPI-ESM1-2-LR\n",
      "first_yyyymm_hist 1850 for MPI-ESM1-2-LR\n",
      "last_yyyymm_ssp 203412 for MPI-ESM1-2-LR\n",
      "output_fname tas_Amon_MPI-ESM1-2-LR_historical_r1i1p1f1_1850-203412.nc\n"
     ]
    },
    {
     "name": "stderr",
     "output_type": "stream",
     "text": [
      "\n",
      "20it [01:36,  5.01s/it]\u001b[A"
     ]
    },
    {
     "name": "stdout",
     "output_type": "stream",
     "text": [
      "hist_member tas_Amon_MPI-ESM1-2-LR_historical_r30i1p1f1_g?_1850-2014.nc_global_regrid.nc for MPI-ESM1-2-LR\n",
      "ssp_member_regrid tas_Amon_MPI-ESM1-2-LR_ssp245_r30i1p1f1_gn_201501-203412_regrid.nc for MPI-ESM1-2-LR\n",
      "first_yyyymm_hist 1850 for MPI-ESM1-2-LR\n",
      "last_yyyymm_ssp 203412 for MPI-ESM1-2-LR\n",
      "output_fname tas_Amon_MPI-ESM1-2-LR_historical_r30i1p1f1_1850-203412.nc\n"
     ]
    },
    {
     "name": "stderr",
     "output_type": "stream",
     "text": [
      "\n",
      "21it [01:39,  4.43s/it]\u001b[A"
     ]
    },
    {
     "name": "stdout",
     "output_type": "stream",
     "text": [
      "hist_member tas_Amon_MPI-ESM1-2-LR_historical_r21i1p1f1_g?_1850-2014.nc_global_regrid.nc for MPI-ESM1-2-LR\n",
      "ssp_member_regrid tas_Amon_MPI-ESM1-2-LR_ssp245_r21i1p1f1_gn_201501-203412_regrid.nc for MPI-ESM1-2-LR\n",
      "first_yyyymm_hist 1850 for MPI-ESM1-2-LR\n",
      "last_yyyymm_ssp 203412 for MPI-ESM1-2-LR\n",
      "output_fname tas_Amon_MPI-ESM1-2-LR_historical_r21i1p1f1_1850-203412.nc\n"
     ]
    },
    {
     "name": "stderr",
     "output_type": "stream",
     "text": [
      "\n",
      "22it [01:46,  5.08s/it]\u001b[A"
     ]
    },
    {
     "name": "stdout",
     "output_type": "stream",
     "text": [
      "hist_member tas_Amon_MPI-ESM1-2-LR_historical_r23i1p1f1_g?_1850-2014.nc_global_regrid.nc for MPI-ESM1-2-LR\n",
      "ssp_member_regrid tas_Amon_MPI-ESM1-2-LR_ssp245_r23i1p1f1_gn_201501-203412_regrid.nc for MPI-ESM1-2-LR\n",
      "first_yyyymm_hist 1850 for MPI-ESM1-2-LR\n",
      "last_yyyymm_ssp 203412 for MPI-ESM1-2-LR\n",
      "output_fname tas_Amon_MPI-ESM1-2-LR_historical_r23i1p1f1_1850-203412.nc\n"
     ]
    },
    {
     "name": "stderr",
     "output_type": "stream",
     "text": [
      "\n",
      "23it [01:50,  4.88s/it]\u001b[A"
     ]
    },
    {
     "name": "stdout",
     "output_type": "stream",
     "text": [
      "hist_member tas_Amon_MPI-ESM1-2-LR_historical_r6i1p1f1_g?_1850-2014.nc_global_regrid.nc for MPI-ESM1-2-LR\n",
      "ssp_member_regrid tas_Amon_MPI-ESM1-2-LR_ssp245_r6i1p1f1_gn_201501-203412_regrid.nc for MPI-ESM1-2-LR\n",
      "first_yyyymm_hist 1850 for MPI-ESM1-2-LR\n",
      "last_yyyymm_ssp 203412 for MPI-ESM1-2-LR\n",
      "output_fname tas_Amon_MPI-ESM1-2-LR_historical_r6i1p1f1_1850-203412.nc\n"
     ]
    },
    {
     "name": "stderr",
     "output_type": "stream",
     "text": [
      "\n",
      "24it [01:54,  4.59s/it]\u001b[A"
     ]
    },
    {
     "name": "stdout",
     "output_type": "stream",
     "text": [
      "hist_member tas_Amon_MPI-ESM1-2-LR_historical_r9i1p1f1_g?_1850-2014.nc_global_regrid.nc for MPI-ESM1-2-LR\n",
      "ssp_member_regrid tas_Amon_MPI-ESM1-2-LR_ssp245_r9i1p1f1_gn_201501-203412_regrid.nc for MPI-ESM1-2-LR\n",
      "first_yyyymm_hist 1850 for MPI-ESM1-2-LR\n",
      "last_yyyymm_ssp 203412 for MPI-ESM1-2-LR\n",
      "output_fname tas_Amon_MPI-ESM1-2-LR_historical_r9i1p1f1_1850-203412.nc\n"
     ]
    },
    {
     "name": "stderr",
     "output_type": "stream",
     "text": [
      "\n",
      "25it [02:01,  5.26s/it]\u001b[A"
     ]
    },
    {
     "name": "stdout",
     "output_type": "stream",
     "text": [
      "hist_member tas_Amon_MPI-ESM1-2-LR_historical_r5i1p1f1_g?_1850-2014.nc_global_regrid.nc for MPI-ESM1-2-LR\n",
      "ssp_member_regrid tas_Amon_MPI-ESM1-2-LR_ssp245_r5i1p1f1_gn_201501-203412_regrid.nc for MPI-ESM1-2-LR\n",
      "first_yyyymm_hist 1850 for MPI-ESM1-2-LR\n",
      "last_yyyymm_ssp 203412 for MPI-ESM1-2-LR\n",
      "output_fname tas_Amon_MPI-ESM1-2-LR_historical_r5i1p1f1_1850-203412.nc\n"
     ]
    },
    {
     "name": "stderr",
     "output_type": "stream",
     "text": [
      "\n",
      "26it [02:06,  5.16s/it]\u001b[A"
     ]
    },
    {
     "name": "stdout",
     "output_type": "stream",
     "text": [
      "hist_member tas_Amon_MPI-ESM1-2-LR_historical_r19i1p1f1_g?_1850-2014.nc_global_regrid.nc for MPI-ESM1-2-LR\n",
      "ssp_member_regrid tas_Amon_MPI-ESM1-2-LR_ssp245_r19i1p1f1_gn_201501-203412_regrid.nc for MPI-ESM1-2-LR\n",
      "first_yyyymm_hist 1850 for MPI-ESM1-2-LR\n",
      "last_yyyymm_ssp 203412 for MPI-ESM1-2-LR\n",
      "output_fname tas_Amon_MPI-ESM1-2-LR_historical_r19i1p1f1_1850-203412.nc\n"
     ]
    },
    {
     "name": "stderr",
     "output_type": "stream",
     "text": [
      "\n",
      "27it [02:12,  5.32s/it]\u001b[A"
     ]
    },
    {
     "name": "stdout",
     "output_type": "stream",
     "text": [
      "hist_member tas_Amon_MPI-ESM1-2-LR_historical_r20i1p1f1_g?_1850-2014.nc_global_regrid.nc for MPI-ESM1-2-LR\n",
      "ssp_member_regrid tas_Amon_MPI-ESM1-2-LR_ssp245_r20i1p1f1_gn_201501-203412_regrid.nc for MPI-ESM1-2-LR\n",
      "first_yyyymm_hist 1850 for MPI-ESM1-2-LR\n",
      "last_yyyymm_ssp 203412 for MPI-ESM1-2-LR\n",
      "output_fname tas_Amon_MPI-ESM1-2-LR_historical_r20i1p1f1_1850-203412.nc\n"
     ]
    },
    {
     "name": "stderr",
     "output_type": "stream",
     "text": [
      "\n",
      "28it [02:20,  6.35s/it]\u001b[A"
     ]
    },
    {
     "name": "stdout",
     "output_type": "stream",
     "text": [
      "hist_member tas_Amon_MPI-ESM1-2-LR_historical_r29i1p1f1_g?_1850-2014.nc_global_regrid.nc for MPI-ESM1-2-LR\n",
      "ssp_member_regrid tas_Amon_MPI-ESM1-2-LR_ssp245_r29i1p1f1_gn_201501-203412_regrid.nc for MPI-ESM1-2-LR\n",
      "first_yyyymm_hist 1850 for MPI-ESM1-2-LR\n",
      "last_yyyymm_ssp 203412 for MPI-ESM1-2-LR\n",
      "output_fname tas_Amon_MPI-ESM1-2-LR_historical_r29i1p1f1_1850-203412.nc\n"
     ]
    },
    {
     "name": "stderr",
     "output_type": "stream",
     "text": [
      "\n",
      "29it [02:24,  5.54s/it]\u001b[A"
     ]
    },
    {
     "name": "stdout",
     "output_type": "stream",
     "text": [
      "hist_member tas_Amon_MPI-ESM1-2-LR_historical_r11i1p1f1_g?_1850-2014.nc_global_regrid.nc for MPI-ESM1-2-LR\n",
      "ssp_member_regrid tas_Amon_MPI-ESM1-2-LR_ssp245_r11i1p1f1_gn_201501-203412_regrid.nc for MPI-ESM1-2-LR\n",
      "first_yyyymm_hist 1850 for MPI-ESM1-2-LR\n",
      "last_yyyymm_ssp 203412 for MPI-ESM1-2-LR\n",
      "output_fname tas_Amon_MPI-ESM1-2-LR_historical_r11i1p1f1_1850-203412.nc\n"
     ]
    },
    {
     "name": "stderr",
     "output_type": "stream",
     "text": [
      "\n",
      "30it [02:28,  4.95s/it]\u001b[A\n",
      " 67%|██████▋   | 6/9 [09:59<06:02, 120.99s/it]\n",
      "0it [00:00, ?it/s]\u001b[A"
     ]
    },
    {
     "name": "stdout",
     "output_type": "stream",
     "text": [
      "hist_member tas_Amon_FGOALS-f3-L_historical_r1i1p1f1_gr_185001-201412.nc_global_regrid.nc for FGOALS-f3-L\n",
      "ssp_member_regrid tas_Amon_FGOALS-f3-L_ssp245_r1i1p1f1_gr_201501-210012_regrid.nc for FGOALS-f3-L\n",
      "first_yyyymm_hist 185001 for FGOALS-f3-L\n",
      "last_yyyymm_ssp 210012 for FGOALS-f3-L\n",
      "output_fname tas_Amon_FGOALS-f3-L_historical_r1i1p1f1_185001-210012.nc\n"
     ]
    },
    {
     "name": "stderr",
     "output_type": "stream",
     "text": [
      "\n",
      "1it [00:02,  2.76s/it]\u001b[A\n",
      " 78%|███████▊  | 7/9 [10:01<02:47, 83.83s/it] \n",
      "0it [00:00, ?it/s]\u001b[A"
     ]
    },
    {
     "name": "stdout",
     "output_type": "stream",
     "text": [
      "hist_member tas_Amon_MIROC6_historical_r41i1p1f1_g?_1850-2014.nc_global_regrid.nc for MIROC6\n",
      "ssp_member_regrid tas_Amon_MIROC6_ssp245_r41i1p1f1_gn_201501-203912_regrid.nc for MIROC6\n",
      "first_yyyymm_hist 1850 for MIROC6\n",
      "last_yyyymm_ssp 203912 for MIROC6\n",
      "output_fname tas_Amon_MIROC6_historical_r41i1p1f1_1850-203912.nc\n"
     ]
    },
    {
     "name": "stderr",
     "output_type": "stream",
     "text": [
      "\n",
      "1it [00:04,  4.57s/it]\u001b[A"
     ]
    },
    {
     "name": "stdout",
     "output_type": "stream",
     "text": [
      "hist_member tas_Amon_MIROC6_historical_r43i1p1f1_g?_1850-2014.nc_global_regrid.nc for MIROC6\n",
      "ssp_member_regrid tas_Amon_MIROC6_ssp245_r43i1p1f1_gn_201501-203912_regrid.nc for MIROC6\n",
      "first_yyyymm_hist 1850 for MIROC6\n",
      "last_yyyymm_ssp 203912 for MIROC6\n",
      "output_fname tas_Amon_MIROC6_historical_r43i1p1f1_1850-203912.nc\n"
     ]
    },
    {
     "name": "stderr",
     "output_type": "stream",
     "text": [
      "\n",
      "2it [00:10,  5.10s/it]\u001b[A"
     ]
    },
    {
     "name": "stdout",
     "output_type": "stream",
     "text": [
      "hist_member tas_Amon_MIROC6_historical_r27i1p1f1_g?_1850-2014.nc_global_regrid.nc for MIROC6\n",
      "ssp_member_regrid tas_Amon_MIROC6_ssp245_r27i1p1f1_gn_201501-203912_regrid.nc for MIROC6\n",
      "first_yyyymm_hist 1850 for MIROC6\n",
      "last_yyyymm_ssp 203912 for MIROC6\n",
      "output_fname tas_Amon_MIROC6_historical_r27i1p1f1_1850-203912.nc\n"
     ]
    },
    {
     "name": "stderr",
     "output_type": "stream",
     "text": [
      "\n",
      "3it [00:17,  6.15s/it]\u001b[A"
     ]
    },
    {
     "name": "stdout",
     "output_type": "stream",
     "text": [
      "hist_member tas_Amon_MIROC6_historical_r17i1p1f1_g?_1850-2014.nc_global_regrid.nc for MIROC6\n",
      "ssp_member_regrid tas_Amon_MIROC6_ssp245_r17i1p1f1_gn_201501-203912_regrid.nc for MIROC6\n",
      "first_yyyymm_hist 1850 for MIROC6\n",
      "last_yyyymm_ssp 203912 for MIROC6\n",
      "output_fname tas_Amon_MIROC6_historical_r17i1p1f1_1850-203912.nc\n"
     ]
    },
    {
     "name": "stderr",
     "output_type": "stream",
     "text": [
      "\n",
      "4it [00:21,  5.13s/it]\u001b[A"
     ]
    },
    {
     "name": "stdout",
     "output_type": "stream",
     "text": [
      "hist_member tas_Amon_MIROC6_historical_r10i1p1f1_g?_1850-2014.nc_global_regrid.nc for MIROC6\n",
      "ssp_member_regrid tas_Amon_MIROC6_ssp245_r10i1p1f1_gn_201501-203912_regrid.nc for MIROC6\n",
      "first_yyyymm_hist 1850 for MIROC6\n",
      "last_yyyymm_ssp 203912 for MIROC6\n",
      "output_fname tas_Amon_MIROC6_historical_r10i1p1f1_1850-203912.nc\n"
     ]
    },
    {
     "name": "stderr",
     "output_type": "stream",
     "text": [
      "\n",
      "5it [00:26,  5.13s/it]\u001b[A"
     ]
    },
    {
     "name": "stdout",
     "output_type": "stream",
     "text": [
      "hist_member tas_Amon_MIROC6_historical_r22i1p1f1_g?_1850-2014.nc_global_regrid.nc for MIROC6\n",
      "ssp_member_regrid tas_Amon_MIROC6_ssp245_r22i1p1f1_gn_201501-203912_regrid.nc for MIROC6\n",
      "first_yyyymm_hist 1850 for MIROC6\n",
      "last_yyyymm_ssp 203912 for MIROC6\n",
      "output_fname tas_Amon_MIROC6_historical_r22i1p1f1_1850-203912.nc\n"
     ]
    },
    {
     "name": "stderr",
     "output_type": "stream",
     "text": [
      "\n",
      "6it [00:33,  5.72s/it]\u001b[A"
     ]
    },
    {
     "name": "stdout",
     "output_type": "stream",
     "text": [
      "hist_member tas_Amon_MIROC6_historical_r25i1p1f1_g?_1850-2014.nc_global_regrid.nc for MIROC6\n",
      "ssp_member_regrid tas_Amon_MIROC6_ssp245_r25i1p1f1_gn_201501-203912_regrid.nc for MIROC6\n",
      "first_yyyymm_hist 1850 for MIROC6\n",
      "last_yyyymm_ssp 203912 for MIROC6\n",
      "output_fname tas_Amon_MIROC6_historical_r25i1p1f1_1850-203912.nc\n"
     ]
    },
    {
     "name": "stderr",
     "output_type": "stream",
     "text": [
      "\n",
      "7it [00:36,  5.15s/it]\u001b[A"
     ]
    },
    {
     "name": "stdout",
     "output_type": "stream",
     "text": [
      "hist_member tas_Amon_MIROC6_historical_r36i1p1f1_g?_1850-2014.nc_global_regrid.nc for MIROC6\n",
      "ssp_member_regrid tas_Amon_MIROC6_ssp245_r36i1p1f1_gn_201501-203912_regrid.nc for MIROC6\n",
      "first_yyyymm_hist 1850 for MIROC6\n",
      "last_yyyymm_ssp 203912 for MIROC6\n",
      "output_fname tas_Amon_MIROC6_historical_r36i1p1f1_1850-203912.nc\n"
     ]
    },
    {
     "name": "stderr",
     "output_type": "stream",
     "text": [
      "\n",
      "8it [00:42,  5.39s/it]\u001b[A"
     ]
    },
    {
     "name": "stdout",
     "output_type": "stream",
     "text": [
      "hist_member tas_Amon_MIROC6_historical_r26i1p1f1_g?_1850-2014.nc_global_regrid.nc for MIROC6\n",
      "ssp_member_regrid tas_Amon_MIROC6_ssp245_r26i1p1f1_gn_201501-203912_regrid.nc for MIROC6\n",
      "first_yyyymm_hist 1850 for MIROC6\n",
      "last_yyyymm_ssp 203912 for MIROC6\n",
      "output_fname tas_Amon_MIROC6_historical_r26i1p1f1_1850-203912.nc\n"
     ]
    },
    {
     "name": "stderr",
     "output_type": "stream",
     "text": [
      "\n",
      "9it [00:46,  4.85s/it]\u001b[A"
     ]
    },
    {
     "name": "stdout",
     "output_type": "stream",
     "text": [
      "hist_member tas_Amon_MIROC6_historical_r7i1p1f1_g?_1850-2014.nc_global_regrid.nc for MIROC6\n",
      "ssp_member_regrid tas_Amon_MIROC6_ssp245_r7i1p1f1_gn_201501-203912_regrid.nc for MIROC6\n",
      "first_yyyymm_hist 1850 for MIROC6\n",
      "last_yyyymm_ssp 203912 for MIROC6\n",
      "output_fname tas_Amon_MIROC6_historical_r7i1p1f1_1850-203912.nc\n"
     ]
    },
    {
     "name": "stderr",
     "output_type": "stream",
     "text": [
      "\n",
      "10it [00:49,  4.28s/it]\u001b[A"
     ]
    },
    {
     "name": "stdout",
     "output_type": "stream",
     "text": [
      "hist_member tas_Amon_MIROC6_historical_r16i1p1f1_g?_1850-2014.nc_global_regrid.nc for MIROC6\n",
      "ssp_member_regrid tas_Amon_MIROC6_ssp245_r16i1p1f1_gn_201501-203912_regrid.nc for MIROC6\n",
      "first_yyyymm_hist 1850 for MIROC6\n",
      "last_yyyymm_ssp 203912 for MIROC6\n",
      "output_fname tas_Amon_MIROC6_historical_r16i1p1f1_1850-203912.nc\n"
     ]
    },
    {
     "name": "stderr",
     "output_type": "stream",
     "text": [
      "\n",
      "11it [00:53,  4.30s/it]\u001b[A"
     ]
    },
    {
     "name": "stdout",
     "output_type": "stream",
     "text": [
      "hist_member tas_Amon_MIROC6_historical_r39i1p1f1_g?_1850-2014.nc_global_regrid.nc for MIROC6\n",
      "ssp_member_regrid tas_Amon_MIROC6_ssp245_r39i1p1f1_gn_201501-203912_regrid.nc for MIROC6\n",
      "first_yyyymm_hist 1850 for MIROC6\n",
      "last_yyyymm_ssp 203912 for MIROC6\n",
      "output_fname tas_Amon_MIROC6_historical_r39i1p1f1_1850-203912.nc\n"
     ]
    },
    {
     "name": "stderr",
     "output_type": "stream",
     "text": [
      "\n",
      "12it [00:57,  4.18s/it]\u001b[A"
     ]
    },
    {
     "name": "stdout",
     "output_type": "stream",
     "text": [
      "hist_member tas_Amon_MIROC6_historical_r15i1p1f1_g?_1850-2014.nc_global_regrid.nc for MIROC6\n",
      "ssp_member_regrid tas_Amon_MIROC6_ssp245_r15i1p1f1_gn_201501-203912_regrid.nc for MIROC6\n",
      "first_yyyymm_hist 1850 for MIROC6\n",
      "last_yyyymm_ssp 203912 for MIROC6\n",
      "output_fname tas_Amon_MIROC6_historical_r15i1p1f1_1850-203912.nc\n"
     ]
    },
    {
     "name": "stderr",
     "output_type": "stream",
     "text": [
      "\n",
      "13it [01:02,  4.45s/it]\u001b[A"
     ]
    },
    {
     "name": "stdout",
     "output_type": "stream",
     "text": [
      "hist_member tas_Amon_MIROC6_historical_r50i1p1f1_g?_1850-2014.nc_global_regrid.nc for MIROC6\n",
      "ssp_member_regrid tas_Amon_MIROC6_ssp245_r50i1p1f1_gn_201501-203912_regrid.nc for MIROC6\n",
      "first_yyyymm_hist 1850 for MIROC6\n",
      "last_yyyymm_ssp 203912 for MIROC6\n",
      "output_fname tas_Amon_MIROC6_historical_r50i1p1f1_1850-203912.nc\n"
     ]
    },
    {
     "name": "stderr",
     "output_type": "stream",
     "text": [
      "\n",
      "14it [01:06,  4.25s/it]\u001b[A"
     ]
    },
    {
     "name": "stdout",
     "output_type": "stream",
     "text": [
      "hist_member tas_Amon_MIROC6_historical_r13i1p1f1_g?_1850-2014.nc_global_regrid.nc for MIROC6\n",
      "ssp_member_regrid tas_Amon_MIROC6_ssp245_r13i1p1f1_gn_201501-203912_regrid.nc for MIROC6\n",
      "first_yyyymm_hist 1850 for MIROC6\n",
      "last_yyyymm_ssp 203912 for MIROC6\n",
      "output_fname tas_Amon_MIROC6_historical_r13i1p1f1_1850-203912.nc\n"
     ]
    },
    {
     "name": "stderr",
     "output_type": "stream",
     "text": [
      "\n",
      "15it [01:15,  5.58s/it]\u001b[A"
     ]
    },
    {
     "name": "stdout",
     "output_type": "stream",
     "text": [
      "hist_member tas_Amon_MIROC6_historical_r3i1p1f1_g?_1850-2014.nc_global_regrid.nc for MIROC6\n",
      "ssp_member_regrid tas_Amon_MIROC6_ssp245_r3i1p1f1_gn_201501-210012_regrid.nc for MIROC6\n",
      "first_yyyymm_hist 1850 for MIROC6\n",
      "last_yyyymm_ssp 210012 for MIROC6\n",
      "output_fname tas_Amon_MIROC6_historical_r3i1p1f1_1850-210012.nc\n"
     ]
    },
    {
     "name": "stderr",
     "output_type": "stream",
     "text": [
      "\n",
      "16it [01:23,  6.29s/it]\u001b[A"
     ]
    },
    {
     "name": "stdout",
     "output_type": "stream",
     "text": [
      "hist_member tas_Amon_MIROC6_historical_r32i1p1f1_g?_1850-2014.nc_global_regrid.nc for MIROC6\n",
      "ssp_member_regrid tas_Amon_MIROC6_ssp245_r32i1p1f1_gn_201501-203912_regrid.nc for MIROC6\n",
      "first_yyyymm_hist 1850 for MIROC6\n",
      "last_yyyymm_ssp 203912 for MIROC6\n",
      "output_fname tas_Amon_MIROC6_historical_r32i1p1f1_1850-203912.nc\n"
     ]
    },
    {
     "name": "stderr",
     "output_type": "stream",
     "text": [
      "\n",
      "17it [01:29,  6.28s/it]\u001b[A"
     ]
    },
    {
     "name": "stdout",
     "output_type": "stream",
     "text": [
      "hist_member tas_Amon_MIROC6_historical_r31i1p1f1_g?_1850-2014.nc_global_regrid.nc for MIROC6\n",
      "ssp_member_regrid tas_Amon_MIROC6_ssp245_r31i1p1f1_gn_201501-203912_regrid.nc for MIROC6\n",
      "first_yyyymm_hist 1850 for MIROC6\n",
      "last_yyyymm_ssp 203912 for MIROC6\n",
      "output_fname tas_Amon_MIROC6_historical_r31i1p1f1_1850-203912.nc\n"
     ]
    },
    {
     "name": "stderr",
     "output_type": "stream",
     "text": [
      "\n",
      "18it [01:32,  5.35s/it]\u001b[A"
     ]
    },
    {
     "name": "stdout",
     "output_type": "stream",
     "text": [
      "hist_member tas_Amon_MIROC6_historical_r34i1p1f1_g?_1850-2014.nc_global_regrid.nc for MIROC6\n",
      "ssp_member_regrid tas_Amon_MIROC6_ssp245_r34i1p1f1_gn_201501-203912_regrid.nc for MIROC6\n",
      "first_yyyymm_hist 1850 for MIROC6\n",
      "last_yyyymm_ssp 203912 for MIROC6\n",
      "output_fname tas_Amon_MIROC6_historical_r34i1p1f1_1850-203912.nc\n"
     ]
    },
    {
     "name": "stderr",
     "output_type": "stream",
     "text": [
      "\n",
      "19it [01:35,  4.64s/it]\u001b[A"
     ]
    },
    {
     "name": "stdout",
     "output_type": "stream",
     "text": [
      "hist_member tas_Amon_MIROC6_historical_r35i1p1f1_g?_1850-2014.nc_global_regrid.nc for MIROC6\n",
      "ssp_member_regrid tas_Amon_MIROC6_ssp245_r35i1p1f1_gn_201501-203912_regrid.nc for MIROC6\n",
      "first_yyyymm_hist 1850 for MIROC6\n",
      "last_yyyymm_ssp 203912 for MIROC6\n",
      "output_fname tas_Amon_MIROC6_historical_r35i1p1f1_1850-203912.nc\n"
     ]
    },
    {
     "name": "stderr",
     "output_type": "stream",
     "text": [
      "\n",
      "20it [01:39,  4.40s/it]\u001b[A"
     ]
    },
    {
     "name": "stdout",
     "output_type": "stream",
     "text": [
      "hist_member tas_Amon_MIROC6_historical_r37i1p1f1_g?_1850-2014.nc_global_regrid.nc for MIROC6\n",
      "ssp_member_regrid tas_Amon_MIROC6_ssp245_r37i1p1f1_gn_201501-203912_regrid.nc for MIROC6\n",
      "first_yyyymm_hist 1850 for MIROC6\n",
      "last_yyyymm_ssp 203912 for MIROC6\n",
      "output_fname tas_Amon_MIROC6_historical_r37i1p1f1_1850-203912.nc\n"
     ]
    },
    {
     "name": "stderr",
     "output_type": "stream",
     "text": [
      "\n",
      "21it [01:45,  4.88s/it]\u001b[A"
     ]
    },
    {
     "name": "stdout",
     "output_type": "stream",
     "text": [
      "hist_member tas_Amon_MIROC6_historical_r45i1p1f1_g?_1850-2014.nc_global_regrid.nc for MIROC6\n",
      "ssp_member_regrid tas_Amon_MIROC6_ssp245_r45i1p1f1_gn_201501-203912_regrid.nc for MIROC6\n",
      "first_yyyymm_hist 1850 for MIROC6\n",
      "last_yyyymm_ssp 203912 for MIROC6\n",
      "output_fname tas_Amon_MIROC6_historical_r45i1p1f1_1850-203912.nc\n"
     ]
    },
    {
     "name": "stderr",
     "output_type": "stream",
     "text": [
      "\n",
      "22it [01:50,  4.82s/it]\u001b[A"
     ]
    },
    {
     "name": "stdout",
     "output_type": "stream",
     "text": [
      "hist_member tas_Amon_MIROC6_historical_r33i1p1f1_g?_1850-2014.nc_global_regrid.nc for MIROC6\n",
      "ssp_member_regrid tas_Amon_MIROC6_ssp245_r33i1p1f1_gn_201501-203912_regrid.nc for MIROC6\n",
      "first_yyyymm_hist 1850 for MIROC6\n",
      "last_yyyymm_ssp 203912 for MIROC6\n",
      "output_fname tas_Amon_MIROC6_historical_r33i1p1f1_1850-203912.nc\n"
     ]
    },
    {
     "name": "stderr",
     "output_type": "stream",
     "text": [
      "\n",
      "23it [01:55,  4.92s/it]\u001b[A"
     ]
    },
    {
     "name": "stdout",
     "output_type": "stream",
     "text": [
      "hist_member tas_Amon_MIROC6_historical_r18i1p1f1_g?_1850-2014.nc_global_regrid.nc for MIROC6\n",
      "ssp_member_regrid tas_Amon_MIROC6_ssp245_r18i1p1f1_gn_201501-203912_regrid.nc for MIROC6\n",
      "first_yyyymm_hist 1850 for MIROC6\n",
      "last_yyyymm_ssp 203912 for MIROC6\n",
      "output_fname tas_Amon_MIROC6_historical_r18i1p1f1_1850-203912.nc\n"
     ]
    },
    {
     "name": "stderr",
     "output_type": "stream",
     "text": [
      "\n",
      "24it [02:09,  7.72s/it]\u001b[A"
     ]
    },
    {
     "name": "stdout",
     "output_type": "stream",
     "text": [
      "hist_member tas_Amon_MIROC6_historical_r12i1p1f1_g?_1850-2014.nc_global_regrid.nc for MIROC6\n",
      "ssp_member_regrid tas_Amon_MIROC6_ssp245_r12i1p1f1_gn_201501-203912_regrid.nc for MIROC6\n",
      "first_yyyymm_hist 1850 for MIROC6\n",
      "last_yyyymm_ssp 203912 for MIROC6\n",
      "output_fname tas_Amon_MIROC6_historical_r12i1p1f1_1850-203912.nc\n"
     ]
    },
    {
     "name": "stderr",
     "output_type": "stream",
     "text": [
      "\n",
      "25it [02:12,  6.40s/it]\u001b[A"
     ]
    },
    {
     "name": "stdout",
     "output_type": "stream",
     "text": [
      "hist_member tas_Amon_MIROC6_historical_r4i1p1f1_g?_1850-2014.nc_global_regrid.nc for MIROC6\n",
      "ssp_member_regrid tas_Amon_MIROC6_ssp245_r4i1p1f1_gn_201501-203912_regrid.nc for MIROC6\n",
      "first_yyyymm_hist 1850 for MIROC6\n",
      "last_yyyymm_ssp 203912 for MIROC6\n",
      "output_fname tas_Amon_MIROC6_historical_r4i1p1f1_1850-203912.nc\n"
     ]
    },
    {
     "name": "stderr",
     "output_type": "stream",
     "text": [
      "\n",
      "26it [02:16,  5.65s/it]\u001b[A"
     ]
    },
    {
     "name": "stdout",
     "output_type": "stream",
     "text": [
      "hist_member tas_Amon_MIROC6_historical_r14i1p1f1_g?_1850-2014.nc_global_regrid.nc for MIROC6\n",
      "ssp_member_regrid tas_Amon_MIROC6_ssp245_r14i1p1f1_gn_201501-203912_regrid.nc for MIROC6\n",
      "first_yyyymm_hist 1850 for MIROC6\n",
      "last_yyyymm_ssp 203912 for MIROC6\n",
      "output_fname tas_Amon_MIROC6_historical_r14i1p1f1_1850-203912.nc\n"
     ]
    },
    {
     "name": "stderr",
     "output_type": "stream",
     "text": [
      "\n",
      "27it [02:23,  5.95s/it]\u001b[A"
     ]
    },
    {
     "name": "stdout",
     "output_type": "stream",
     "text": [
      "hist_member tas_Amon_MIROC6_historical_r8i1p1f1_g?_1850-2014.nc_global_regrid.nc for MIROC6\n",
      "ssp_member_regrid tas_Amon_MIROC6_ssp245_r8i1p1f1_gn_201501-203912_regrid.nc for MIROC6\n",
      "first_yyyymm_hist 1850 for MIROC6\n",
      "last_yyyymm_ssp 203912 for MIROC6\n",
      "output_fname tas_Amon_MIROC6_historical_r8i1p1f1_1850-203912.nc\n"
     ]
    },
    {
     "name": "stderr",
     "output_type": "stream",
     "text": [
      "\n",
      "28it [02:26,  5.12s/it]\u001b[A"
     ]
    },
    {
     "name": "stdout",
     "output_type": "stream",
     "text": [
      "hist_member tas_Amon_MIROC6_historical_r24i1p1f1_g?_1850-2014.nc_global_regrid.nc for MIROC6\n",
      "ssp_member_regrid tas_Amon_MIROC6_ssp245_r24i1p1f1_gn_201501-203912_regrid.nc for MIROC6\n",
      "first_yyyymm_hist 1850 for MIROC6\n",
      "last_yyyymm_ssp 203912 for MIROC6\n",
      "output_fname tas_Amon_MIROC6_historical_r24i1p1f1_1850-203912.nc\n"
     ]
    },
    {
     "name": "stderr",
     "output_type": "stream",
     "text": [
      "\n",
      "29it [02:32,  5.20s/it]\u001b[A"
     ]
    },
    {
     "name": "stdout",
     "output_type": "stream",
     "text": [
      "hist_member tas_Amon_MIROC6_historical_r28i1p1f1_g?_1850-2014.nc_global_regrid.nc for MIROC6\n",
      "ssp_member_regrid tas_Amon_MIROC6_ssp245_r28i1p1f1_gn_201501-203912_regrid.nc for MIROC6\n",
      "first_yyyymm_hist 1850 for MIROC6\n",
      "last_yyyymm_ssp 203912 for MIROC6\n",
      "output_fname tas_Amon_MIROC6_historical_r28i1p1f1_1850-203912.nc\n"
     ]
    },
    {
     "name": "stderr",
     "output_type": "stream",
     "text": [
      "\n",
      "30it [02:35,  4.74s/it]\u001b[A"
     ]
    },
    {
     "name": "stdout",
     "output_type": "stream",
     "text": [
      "hist_member tas_Amon_MIROC6_historical_r46i1p1f1_g?_1850-2014.nc_global_regrid.nc for MIROC6\n",
      "ssp_member_regrid tas_Amon_MIROC6_ssp245_r46i1p1f1_gn_201501-203912_regrid.nc for MIROC6\n",
      "first_yyyymm_hist 1850 for MIROC6\n",
      "last_yyyymm_ssp 203912 for MIROC6\n",
      "output_fname tas_Amon_MIROC6_historical_r46i1p1f1_1850-203912.nc\n"
     ]
    },
    {
     "name": "stderr",
     "output_type": "stream",
     "text": [
      "\n",
      "31it [02:42,  5.31s/it]\u001b[A"
     ]
    },
    {
     "name": "stdout",
     "output_type": "stream",
     "text": [
      "hist_member tas_Amon_MIROC6_historical_r40i1p1f1_g?_1850-2014.nc_global_regrid.nc for MIROC6\n",
      "ssp_member_regrid tas_Amon_MIROC6_ssp245_r40i1p1f1_gn_201501-203912_regrid.nc for MIROC6\n",
      "first_yyyymm_hist 1850 for MIROC6\n",
      "last_yyyymm_ssp 203912 for MIROC6\n",
      "output_fname tas_Amon_MIROC6_historical_r40i1p1f1_1850-203912.nc\n"
     ]
    },
    {
     "name": "stderr",
     "output_type": "stream",
     "text": [
      "\n",
      "32it [02:46,  4.96s/it]\u001b[A"
     ]
    },
    {
     "name": "stdout",
     "output_type": "stream",
     "text": [
      "hist_member tas_Amon_MIROC6_historical_r2i1p1f1_g?_1850-2014.nc_global_regrid.nc for MIROC6\n",
      "ssp_member_regrid tas_Amon_MIROC6_ssp245_r2i1p1f1_gn_201501-210012_regrid.nc for MIROC6\n",
      "first_yyyymm_hist 1850 for MIROC6\n",
      "last_yyyymm_ssp 210012 for MIROC6\n",
      "output_fname tas_Amon_MIROC6_historical_r2i1p1f1_1850-210012.nc\n"
     ]
    },
    {
     "name": "stderr",
     "output_type": "stream",
     "text": [
      "\n",
      "33it [02:50,  4.71s/it]\u001b[A"
     ]
    },
    {
     "name": "stdout",
     "output_type": "stream",
     "text": [
      "hist_member tas_Amon_MIROC6_historical_r1i1p1f1_g?_1850-2014.nc_global_regrid.nc for MIROC6\n",
      "ssp_member_regrid tas_Amon_MIROC6_ssp245_r1i1p1f1_gn_201501-210012_regrid.nc for MIROC6\n",
      "first_yyyymm_hist 1850 for MIROC6\n",
      "last_yyyymm_ssp 210012 for MIROC6\n",
      "output_fname tas_Amon_MIROC6_historical_r1i1p1f1_1850-210012.nc\n"
     ]
    },
    {
     "name": "stderr",
     "output_type": "stream",
     "text": [
      "\n",
      "34it [02:54,  4.42s/it]\u001b[A"
     ]
    },
    {
     "name": "stdout",
     "output_type": "stream",
     "text": [
      "hist_member tas_Amon_MIROC6_historical_r30i1p1f1_g?_1850-2014.nc_global_regrid.nc for MIROC6\n",
      "ssp_member_regrid tas_Amon_MIROC6_ssp245_r30i1p1f1_gn_201501-203912_regrid.nc for MIROC6\n",
      "first_yyyymm_hist 1850 for MIROC6\n",
      "last_yyyymm_ssp 203912 for MIROC6\n",
      "output_fname tas_Amon_MIROC6_historical_r30i1p1f1_1850-203912.nc\n"
     ]
    },
    {
     "name": "stderr",
     "output_type": "stream",
     "text": [
      "\n",
      "35it [02:59,  4.58s/it]\u001b[A"
     ]
    },
    {
     "name": "stdout",
     "output_type": "stream",
     "text": [
      "hist_member tas_Amon_MIROC6_historical_r21i1p1f1_g?_1850-2014.nc_global_regrid.nc for MIROC6\n",
      "ssp_member_regrid tas_Amon_MIROC6_ssp245_r21i1p1f1_gn_201501-203912_regrid.nc for MIROC6\n",
      "first_yyyymm_hist 1850 for MIROC6\n",
      "last_yyyymm_ssp 203912 for MIROC6\n",
      "output_fname tas_Amon_MIROC6_historical_r21i1p1f1_1850-203912.nc\n"
     ]
    },
    {
     "name": "stderr",
     "output_type": "stream",
     "text": [
      "\n",
      "36it [03:03,  4.38s/it]\u001b[A"
     ]
    },
    {
     "name": "stdout",
     "output_type": "stream",
     "text": [
      "hist_member tas_Amon_MIROC6_historical_r23i1p1f1_g?_1850-2014.nc_global_regrid.nc for MIROC6\n",
      "ssp_member_regrid tas_Amon_MIROC6_ssp245_r23i1p1f1_gn_201501-203912_regrid.nc for MIROC6\n",
      "first_yyyymm_hist 1850 for MIROC6\n",
      "last_yyyymm_ssp 203912 for MIROC6\n",
      "output_fname tas_Amon_MIROC6_historical_r23i1p1f1_1850-203912.nc\n"
     ]
    },
    {
     "name": "stderr",
     "output_type": "stream",
     "text": [
      "\n",
      "37it [03:07,  4.36s/it]\u001b[A"
     ]
    },
    {
     "name": "stdout",
     "output_type": "stream",
     "text": [
      "hist_member tas_Amon_MIROC6_historical_r48i1p1f1_g?_1850-2014.nc_global_regrid.nc for MIROC6\n",
      "ssp_member_regrid tas_Amon_MIROC6_ssp245_r48i1p1f1_gn_201501-203912_regrid.nc for MIROC6\n",
      "first_yyyymm_hist 1850 for MIROC6\n",
      "last_yyyymm_ssp 203912 for MIROC6\n",
      "output_fname tas_Amon_MIROC6_historical_r48i1p1f1_1850-203912.nc\n"
     ]
    },
    {
     "name": "stderr",
     "output_type": "stream",
     "text": [
      "\n",
      "38it [03:11,  4.38s/it]\u001b[A"
     ]
    },
    {
     "name": "stdout",
     "output_type": "stream",
     "text": [
      "hist_member tas_Amon_MIROC6_historical_r38i1p1f1_g?_1850-2014.nc_global_regrid.nc for MIROC6\n",
      "ssp_member_regrid tas_Amon_MIROC6_ssp245_r38i1p1f1_gn_201501-203912_regrid.nc for MIROC6\n",
      "first_yyyymm_hist 1850 for MIROC6\n",
      "last_yyyymm_ssp 203912 for MIROC6\n",
      "output_fname tas_Amon_MIROC6_historical_r38i1p1f1_1850-203912.nc\n"
     ]
    },
    {
     "name": "stderr",
     "output_type": "stream",
     "text": [
      "\n",
      "39it [03:18,  4.93s/it]\u001b[A"
     ]
    },
    {
     "name": "stdout",
     "output_type": "stream",
     "text": [
      "hist_member tas_Amon_MIROC6_historical_r6i1p1f1_g?_1850-2014.nc_global_regrid.nc for MIROC6\n",
      "ssp_member_regrid tas_Amon_MIROC6_ssp245_r6i1p1f1_gn_201501-203912_regrid.nc for MIROC6\n",
      "first_yyyymm_hist 1850 for MIROC6\n",
      "last_yyyymm_ssp 203912 for MIROC6\n",
      "output_fname tas_Amon_MIROC6_historical_r6i1p1f1_1850-203912.nc\n"
     ]
    },
    {
     "name": "stderr",
     "output_type": "stream",
     "text": [
      "\n",
      "40it [03:22,  4.82s/it]\u001b[A"
     ]
    },
    {
     "name": "stdout",
     "output_type": "stream",
     "text": [
      "hist_member tas_Amon_MIROC6_historical_r9i1p1f1_g?_1850-2014.nc_global_regrid.nc for MIROC6\n",
      "ssp_member_regrid tas_Amon_MIROC6_ssp245_r9i1p1f1_gn_201501-203912_regrid.nc for MIROC6\n",
      "first_yyyymm_hist 1850 for MIROC6\n",
      "last_yyyymm_ssp 203912 for MIROC6\n",
      "output_fname tas_Amon_MIROC6_historical_r9i1p1f1_1850-203912.nc\n"
     ]
    },
    {
     "name": "stderr",
     "output_type": "stream",
     "text": [
      "\n",
      "41it [03:26,  4.50s/it]\u001b[A"
     ]
    },
    {
     "name": "stdout",
     "output_type": "stream",
     "text": [
      "hist_member tas_Amon_MIROC6_historical_r5i1p1f1_g?_1850-2014.nc_global_regrid.nc for MIROC6\n",
      "ssp_member_regrid tas_Amon_MIROC6_ssp245_r5i1p1f1_gn_201501-203912_regrid.nc for MIROC6\n",
      "first_yyyymm_hist 1850 for MIROC6\n",
      "last_yyyymm_ssp 203912 for MIROC6\n",
      "output_fname tas_Amon_MIROC6_historical_r5i1p1f1_1850-203912.nc\n"
     ]
    },
    {
     "name": "stderr",
     "output_type": "stream",
     "text": [
      "\n",
      "42it [03:30,  4.37s/it]\u001b[A"
     ]
    },
    {
     "name": "stdout",
     "output_type": "stream",
     "text": [
      "hist_member tas_Amon_MIROC6_historical_r47i1p1f1_g?_1850-2014.nc_global_regrid.nc for MIROC6\n",
      "ssp_member_regrid tas_Amon_MIROC6_ssp245_r47i1p1f1_gn_201501-203912_regrid.nc for MIROC6\n",
      "first_yyyymm_hist 1850 for MIROC6\n",
      "last_yyyymm_ssp 203912 for MIROC6\n",
      "output_fname tas_Amon_MIROC6_historical_r47i1p1f1_1850-203912.nc\n"
     ]
    },
    {
     "name": "stderr",
     "output_type": "stream",
     "text": [
      "\n",
      "43it [03:34,  4.10s/it]\u001b[A"
     ]
    },
    {
     "name": "stdout",
     "output_type": "stream",
     "text": [
      "hist_member tas_Amon_MIROC6_historical_r19i1p1f1_g?_1850-2014.nc_global_regrid.nc for MIROC6\n",
      "ssp_member_regrid tas_Amon_MIROC6_ssp245_r19i1p1f1_gn_201501-203912_regrid.nc for MIROC6\n",
      "first_yyyymm_hist 1850 for MIROC6\n",
      "last_yyyymm_ssp 203912 for MIROC6\n",
      "output_fname tas_Amon_MIROC6_historical_r19i1p1f1_1850-203912.nc\n"
     ]
    },
    {
     "name": "stderr",
     "output_type": "stream",
     "text": [
      "\n",
      "44it [03:37,  4.04s/it]\u001b[A"
     ]
    },
    {
     "name": "stdout",
     "output_type": "stream",
     "text": [
      "hist_member tas_Amon_MIROC6_historical_r49i1p1f1_g?_1850-2014.nc_global_regrid.nc for MIROC6\n",
      "ssp_member_regrid tas_Amon_MIROC6_ssp245_r49i1p1f1_gn_201501-203912_regrid.nc for MIROC6\n",
      "first_yyyymm_hist 1850 for MIROC6\n",
      "last_yyyymm_ssp 203912 for MIROC6\n",
      "output_fname tas_Amon_MIROC6_historical_r49i1p1f1_1850-203912.nc\n"
     ]
    },
    {
     "name": "stderr",
     "output_type": "stream",
     "text": [
      "\n",
      "45it [03:40,  3.72s/it]\u001b[A"
     ]
    },
    {
     "name": "stdout",
     "output_type": "stream",
     "text": [
      "hist_member tas_Amon_MIROC6_historical_r20i1p1f1_g?_1850-2014.nc_global_regrid.nc for MIROC6\n",
      "ssp_member_regrid tas_Amon_MIROC6_ssp245_r20i1p1f1_gn_201501-203912_regrid.nc for MIROC6\n",
      "first_yyyymm_hist 1850 for MIROC6\n",
      "last_yyyymm_ssp 203912 for MIROC6\n",
      "output_fname tas_Amon_MIROC6_historical_r20i1p1f1_1850-203912.nc\n"
     ]
    },
    {
     "name": "stderr",
     "output_type": "stream",
     "text": [
      "\n",
      "46it [03:45,  3.94s/it]\u001b[A"
     ]
    },
    {
     "name": "stdout",
     "output_type": "stream",
     "text": [
      "hist_member tas_Amon_MIROC6_historical_r29i1p1f1_g?_1850-2014.nc_global_regrid.nc for MIROC6\n",
      "ssp_member_regrid tas_Amon_MIROC6_ssp245_r29i1p1f1_gn_201501-203912_regrid.nc for MIROC6\n",
      "first_yyyymm_hist 1850 for MIROC6\n",
      "last_yyyymm_ssp 203912 for MIROC6\n",
      "output_fname tas_Amon_MIROC6_historical_r29i1p1f1_1850-203912.nc\n"
     ]
    },
    {
     "name": "stderr",
     "output_type": "stream",
     "text": [
      "\n",
      "47it [03:54,  5.54s/it]\u001b[A"
     ]
    },
    {
     "name": "stdout",
     "output_type": "stream",
     "text": [
      "hist_member tas_Amon_MIROC6_historical_r44i1p1f1_g?_1850-2014.nc_global_regrid.nc for MIROC6\n",
      "ssp_member_regrid tas_Amon_MIROC6_ssp245_r44i1p1f1_gn_201501-203912_regrid.nc for MIROC6\n",
      "first_yyyymm_hist 1850 for MIROC6\n",
      "last_yyyymm_ssp 203912 for MIROC6\n",
      "output_fname tas_Amon_MIROC6_historical_r44i1p1f1_1850-203912.nc\n"
     ]
    },
    {
     "name": "stderr",
     "output_type": "stream",
     "text": [
      "\n",
      "48it [03:58,  5.16s/it]\u001b[A"
     ]
    },
    {
     "name": "stdout",
     "output_type": "stream",
     "text": [
      "hist_member tas_Amon_MIROC6_historical_r42i1p1f1_g?_1850-2014.nc_global_regrid.nc for MIROC6\n",
      "ssp_member_regrid tas_Amon_MIROC6_ssp245_r42i1p1f1_gn_201501-203912_regrid.nc for MIROC6\n",
      "first_yyyymm_hist 1850 for MIROC6\n",
      "last_yyyymm_ssp 203912 for MIROC6\n",
      "output_fname tas_Amon_MIROC6_historical_r42i1p1f1_1850-203912.nc\n"
     ]
    },
    {
     "name": "stderr",
     "output_type": "stream",
     "text": [
      "\n",
      "49it [04:02,  4.77s/it]\u001b[A"
     ]
    },
    {
     "name": "stdout",
     "output_type": "stream",
     "text": [
      "hist_member tas_Amon_MIROC6_historical_r11i1p1f1_g?_1850-2014.nc_global_regrid.nc for MIROC6\n",
      "ssp_member_regrid tas_Amon_MIROC6_ssp245_r11i1p1f1_gn_201501-203912_regrid.nc for MIROC6\n",
      "first_yyyymm_hist 1850 for MIROC6\n",
      "last_yyyymm_ssp 203912 for MIROC6\n",
      "output_fname tas_Amon_MIROC6_historical_r11i1p1f1_1850-203912.nc\n"
     ]
    },
    {
     "name": "stderr",
     "output_type": "stream",
     "text": [
      "\n",
      "50it [04:07,  4.95s/it]\u001b[A\n",
      " 89%|████████▉ | 8/9 [14:09<02:14, 134.50s/it]\n",
      "0it [00:00, ?it/s]\u001b[A"
     ]
    },
    {
     "name": "stdout",
     "output_type": "stream",
     "text": [
      "hist_member tas_Amon_IPSL-CM6A-LR_historical_r6i1p1f1_gr_185001-201412.nc_global_regrid.nc for IPSL-CM6A-LR\n",
      "ssp_member_regrid tas_Amon_IPSL-CM6A-LR_ssp245_r6i1p1f1_gr_201501-210012_regrid.nc for IPSL-CM6A-LR\n",
      "first_yyyymm_hist 185001 for IPSL-CM6A-LR\n",
      "last_yyyymm_ssp 210012 for IPSL-CM6A-LR\n",
      "output_fname tas_Amon_IPSL-CM6A-LR_historical_r6i1p1f1_185001-210012.nc\n"
     ]
    },
    {
     "name": "stderr",
     "output_type": "stream",
     "text": [
      "\n",
      "1it [00:06,  6.99s/it]\u001b[A"
     ]
    },
    {
     "name": "stdout",
     "output_type": "stream",
     "text": [
      "hist_member tas_Amon_IPSL-CM6A-LR_historical_r4i1p1f1_gr_185001-201412.nc_global_regrid.nc for IPSL-CM6A-LR\n",
      "ssp_member_regrid tas_Amon_IPSL-CM6A-LR_ssp245_r4i1p1f1_gr_201501-210012_regrid.nc for IPSL-CM6A-LR\n",
      "first_yyyymm_hist 185001 for IPSL-CM6A-LR\n",
      "last_yyyymm_ssp 210012 for IPSL-CM6A-LR\n",
      "output_fname tas_Amon_IPSL-CM6A-LR_historical_r4i1p1f1_185001-210012.nc\n"
     ]
    },
    {
     "name": "stderr",
     "output_type": "stream",
     "text": [
      "\n",
      "2it [00:12,  6.30s/it]\u001b[A"
     ]
    },
    {
     "name": "stdout",
     "output_type": "stream",
     "text": [
      "hist_member tas_Amon_IPSL-CM6A-LR_historical_r5i1p1f1_gr_185001-201412.nc_global_regrid.nc for IPSL-CM6A-LR\n",
      "ssp_member_regrid tas_Amon_IPSL-CM6A-LR_ssp245_r5i1p1f1_gr_201501-210012_regrid.nc for IPSL-CM6A-LR\n",
      "first_yyyymm_hist 185001 for IPSL-CM6A-LR\n",
      "last_yyyymm_ssp 210012 for IPSL-CM6A-LR\n",
      "output_fname tas_Amon_IPSL-CM6A-LR_historical_r5i1p1f1_185001-210012.nc\n"
     ]
    },
    {
     "name": "stderr",
     "output_type": "stream",
     "text": [
      "\n",
      "3it [00:16,  5.03s/it]\u001b[A"
     ]
    },
    {
     "name": "stdout",
     "output_type": "stream",
     "text": [
      "hist_member tas_Amon_IPSL-CM6A-LR_historical_r2i1p1f1_gr_185001-201412.nc_global_regrid.nc for IPSL-CM6A-LR\n",
      "ssp_member_regrid tas_Amon_IPSL-CM6A-LR_ssp245_r2i1p1f1_gr_201501-210012_regrid.nc for IPSL-CM6A-LR\n",
      "first_yyyymm_hist 185001 for IPSL-CM6A-LR\n",
      "last_yyyymm_ssp 210012 for IPSL-CM6A-LR\n",
      "output_fname tas_Amon_IPSL-CM6A-LR_historical_r2i1p1f1_185001-210012.nc\n"
     ]
    },
    {
     "name": "stderr",
     "output_type": "stream",
     "text": [
      "\n",
      "4it [00:23,  5.91s/it]\u001b[A"
     ]
    },
    {
     "name": "stdout",
     "output_type": "stream",
     "text": [
      "hist_member tas_Amon_IPSL-CM6A-LR_historical_r3i1p1f1_gr_185001-201412.nc_global_regrid.nc for IPSL-CM6A-LR\n",
      "ssp_member_regrid tas_Amon_IPSL-CM6A-LR_ssp245_r3i1p1f1_gr_201501-210012_regrid.nc for IPSL-CM6A-LR\n",
      "first_yyyymm_hist 185001 for IPSL-CM6A-LR\n",
      "last_yyyymm_ssp 210012 for IPSL-CM6A-LR\n",
      "output_fname tas_Amon_IPSL-CM6A-LR_historical_r3i1p1f1_185001-210012.nc\n"
     ]
    },
    {
     "name": "stderr",
     "output_type": "stream",
     "text": [
      "\n",
      "5it [00:27,  5.24s/it]\u001b[A"
     ]
    },
    {
     "name": "stdout",
     "output_type": "stream",
     "text": [
      "hist_member tas_Amon_IPSL-CM6A-LR_historical_r1i1p1f1_gr_185001-201412.nc_global_regrid.nc for IPSL-CM6A-LR\n",
      "ssp_member_regrid tas_Amon_IPSL-CM6A-LR_ssp245_r1i1p1f1_gr_201501-210012_regrid.nc for IPSL-CM6A-LR\n",
      "first_yyyymm_hist 185001 for IPSL-CM6A-LR\n",
      "last_yyyymm_ssp 210012 for IPSL-CM6A-LR\n",
      "output_fname tas_Amon_IPSL-CM6A-LR_historical_r1i1p1f1_185001-210012.nc\n"
     ]
    },
    {
     "name": "stderr",
     "output_type": "stream",
     "text": [
      "\n",
      "6it [00:31,  5.27s/it]\u001b[A\n",
      "100%|██████████| 9/9 [14:40<00:00, 97.86s/it] \n"
     ]
    }
   ],
   "source": [
    "df = lh_funcs.merge_hist_ssp(\n",
    "    df=df,\n",
    "    models=df[\"model\"].unique(),\n",
    ")"
   ]
  },
  {
   "cell_type": "code",
   "execution_count": 32,
   "metadata": {},
   "outputs": [
    {
     "name": "stderr",
     "output_type": "stream",
     "text": [
      "100%|██████████| 1/1 [00:00<00:00, 164.51it/s]\n",
      "100%|██████████| 50/50 [00:34<00:00,  1.46it/s]\n"
     ]
    }
   ],
   "source": [
    "ds = lh_funcs.process_hist_ssp(\n",
    "    variable=\"tas\",\n",
    "    months=[10, 11, 12, 1, 2, 3],\n",
    "    season=\"ONDJFM\",\n",
    "    forecast_range=\"2-9\",\n",
    "    start_year=1961,\n",
    "    end_year=2023,\n",
    "    models=[\"MIROC6\"],\n",
    ")"
   ]
  },
  {
   "cell_type": "code",
   "execution_count": 33,
   "metadata": {},
   "outputs": [
    {
     "data": {
      "text/html": [
       "<div><svg style=\"position: absolute; width: 0; height: 0; overflow: hidden\">\n",
       "<defs>\n",
       "<symbol id=\"icon-database\" viewBox=\"0 0 32 32\">\n",
       "<path d=\"M16 0c-8.837 0-16 2.239-16 5v4c0 2.761 7.163 5 16 5s16-2.239 16-5v-4c0-2.761-7.163-5-16-5z\"></path>\n",
       "<path d=\"M16 17c-8.837 0-16-2.239-16-5v6c0 2.761 7.163 5 16 5s16-2.239 16-5v-6c0 2.761-7.163 5-16 5z\"></path>\n",
       "<path d=\"M16 26c-8.837 0-16-2.239-16-5v6c0 2.761 7.163 5 16 5s16-2.239 16-5v-6c0 2.761-7.163 5-16 5z\"></path>\n",
       "</symbol>\n",
       "<symbol id=\"icon-file-text2\" viewBox=\"0 0 32 32\">\n",
       "<path d=\"M28.681 7.159c-0.694-0.947-1.662-2.053-2.724-3.116s-2.169-2.030-3.116-2.724c-1.612-1.182-2.393-1.319-2.841-1.319h-15.5c-1.378 0-2.5 1.121-2.5 2.5v27c0 1.378 1.122 2.5 2.5 2.5h23c1.378 0 2.5-1.122 2.5-2.5v-19.5c0-0.448-0.137-1.23-1.319-2.841zM24.543 5.457c0.959 0.959 1.712 1.825 2.268 2.543h-4.811v-4.811c0.718 0.556 1.584 1.309 2.543 2.268zM28 29.5c0 0.271-0.229 0.5-0.5 0.5h-23c-0.271 0-0.5-0.229-0.5-0.5v-27c0-0.271 0.229-0.5 0.5-0.5 0 0 15.499-0 15.5 0v7c0 0.552 0.448 1 1 1h7v19.5z\"></path>\n",
       "<path d=\"M23 26h-14c-0.552 0-1-0.448-1-1s0.448-1 1-1h14c0.552 0 1 0.448 1 1s-0.448 1-1 1z\"></path>\n",
       "<path d=\"M23 22h-14c-0.552 0-1-0.448-1-1s0.448-1 1-1h14c0.552 0 1 0.448 1 1s-0.448 1-1 1z\"></path>\n",
       "<path d=\"M23 18h-14c-0.552 0-1-0.448-1-1s0.448-1 1-1h14c0.552 0 1 0.448 1 1s-0.448 1-1 1z\"></path>\n",
       "</symbol>\n",
       "</defs>\n",
       "</svg>\n",
       "<style>/* CSS stylesheet for displaying xarray objects in jupyterlab.\n",
       " *\n",
       " */\n",
       "\n",
       ":root {\n",
       "  --xr-font-color0: var(--jp-content-font-color0, rgba(0, 0, 0, 1));\n",
       "  --xr-font-color2: var(--jp-content-font-color2, rgba(0, 0, 0, 0.54));\n",
       "  --xr-font-color3: var(--jp-content-font-color3, rgba(0, 0, 0, 0.38));\n",
       "  --xr-border-color: var(--jp-border-color2, #e0e0e0);\n",
       "  --xr-disabled-color: var(--jp-layout-color3, #bdbdbd);\n",
       "  --xr-background-color: var(--jp-layout-color0, white);\n",
       "  --xr-background-color-row-even: var(--jp-layout-color1, white);\n",
       "  --xr-background-color-row-odd: var(--jp-layout-color2, #eeeeee);\n",
       "}\n",
       "\n",
       "html[theme=dark],\n",
       "body[data-theme=dark],\n",
       "body.vscode-dark {\n",
       "  --xr-font-color0: rgba(255, 255, 255, 1);\n",
       "  --xr-font-color2: rgba(255, 255, 255, 0.54);\n",
       "  --xr-font-color3: rgba(255, 255, 255, 0.38);\n",
       "  --xr-border-color: #1F1F1F;\n",
       "  --xr-disabled-color: #515151;\n",
       "  --xr-background-color: #111111;\n",
       "  --xr-background-color-row-even: #111111;\n",
       "  --xr-background-color-row-odd: #313131;\n",
       "}\n",
       "\n",
       ".xr-wrap {\n",
       "  display: block !important;\n",
       "  min-width: 300px;\n",
       "  max-width: 700px;\n",
       "}\n",
       "\n",
       ".xr-text-repr-fallback {\n",
       "  /* fallback to plain text repr when CSS is not injected (untrusted notebook) */\n",
       "  display: none;\n",
       "}\n",
       "\n",
       ".xr-header {\n",
       "  padding-top: 6px;\n",
       "  padding-bottom: 6px;\n",
       "  margin-bottom: 4px;\n",
       "  border-bottom: solid 1px var(--xr-border-color);\n",
       "}\n",
       "\n",
       ".xr-header > div,\n",
       ".xr-header > ul {\n",
       "  display: inline;\n",
       "  margin-top: 0;\n",
       "  margin-bottom: 0;\n",
       "}\n",
       "\n",
       ".xr-obj-type,\n",
       ".xr-array-name {\n",
       "  margin-left: 2px;\n",
       "  margin-right: 10px;\n",
       "}\n",
       "\n",
       ".xr-obj-type {\n",
       "  color: var(--xr-font-color2);\n",
       "}\n",
       "\n",
       ".xr-sections {\n",
       "  padding-left: 0 !important;\n",
       "  display: grid;\n",
       "  grid-template-columns: 150px auto auto 1fr 20px 20px;\n",
       "}\n",
       "\n",
       ".xr-section-item {\n",
       "  display: contents;\n",
       "}\n",
       "\n",
       ".xr-section-item input {\n",
       "  display: none;\n",
       "}\n",
       "\n",
       ".xr-section-item input + label {\n",
       "  color: var(--xr-disabled-color);\n",
       "}\n",
       "\n",
       ".xr-section-item input:enabled + label {\n",
       "  cursor: pointer;\n",
       "  color: var(--xr-font-color2);\n",
       "}\n",
       "\n",
       ".xr-section-item input:enabled + label:hover {\n",
       "  color: var(--xr-font-color0);\n",
       "}\n",
       "\n",
       ".xr-section-summary {\n",
       "  grid-column: 1;\n",
       "  color: var(--xr-font-color2);\n",
       "  font-weight: 500;\n",
       "}\n",
       "\n",
       ".xr-section-summary > span {\n",
       "  display: inline-block;\n",
       "  padding-left: 0.5em;\n",
       "}\n",
       "\n",
       ".xr-section-summary-in:disabled + label {\n",
       "  color: var(--xr-font-color2);\n",
       "}\n",
       "\n",
       ".xr-section-summary-in + label:before {\n",
       "  display: inline-block;\n",
       "  content: '►';\n",
       "  font-size: 11px;\n",
       "  width: 15px;\n",
       "  text-align: center;\n",
       "}\n",
       "\n",
       ".xr-section-summary-in:disabled + label:before {\n",
       "  color: var(--xr-disabled-color);\n",
       "}\n",
       "\n",
       ".xr-section-summary-in:checked + label:before {\n",
       "  content: '▼';\n",
       "}\n",
       "\n",
       ".xr-section-summary-in:checked + label > span {\n",
       "  display: none;\n",
       "}\n",
       "\n",
       ".xr-section-summary,\n",
       ".xr-section-inline-details {\n",
       "  padding-top: 4px;\n",
       "  padding-bottom: 4px;\n",
       "}\n",
       "\n",
       ".xr-section-inline-details {\n",
       "  grid-column: 2 / -1;\n",
       "}\n",
       "\n",
       ".xr-section-details {\n",
       "  display: none;\n",
       "  grid-column: 1 / -1;\n",
       "  margin-bottom: 5px;\n",
       "}\n",
       "\n",
       ".xr-section-summary-in:checked ~ .xr-section-details {\n",
       "  display: contents;\n",
       "}\n",
       "\n",
       ".xr-array-wrap {\n",
       "  grid-column: 1 / -1;\n",
       "  display: grid;\n",
       "  grid-template-columns: 20px auto;\n",
       "}\n",
       "\n",
       ".xr-array-wrap > label {\n",
       "  grid-column: 1;\n",
       "  vertical-align: top;\n",
       "}\n",
       "\n",
       ".xr-preview {\n",
       "  color: var(--xr-font-color3);\n",
       "}\n",
       "\n",
       ".xr-array-preview,\n",
       ".xr-array-data {\n",
       "  padding: 0 5px !important;\n",
       "  grid-column: 2;\n",
       "}\n",
       "\n",
       ".xr-array-data,\n",
       ".xr-array-in:checked ~ .xr-array-preview {\n",
       "  display: none;\n",
       "}\n",
       "\n",
       ".xr-array-in:checked ~ .xr-array-data,\n",
       ".xr-array-preview {\n",
       "  display: inline-block;\n",
       "}\n",
       "\n",
       ".xr-dim-list {\n",
       "  display: inline-block !important;\n",
       "  list-style: none;\n",
       "  padding: 0 !important;\n",
       "  margin: 0;\n",
       "}\n",
       "\n",
       ".xr-dim-list li {\n",
       "  display: inline-block;\n",
       "  padding: 0;\n",
       "  margin: 0;\n",
       "}\n",
       "\n",
       ".xr-dim-list:before {\n",
       "  content: '(';\n",
       "}\n",
       "\n",
       ".xr-dim-list:after {\n",
       "  content: ')';\n",
       "}\n",
       "\n",
       ".xr-dim-list li:not(:last-child):after {\n",
       "  content: ',';\n",
       "  padding-right: 5px;\n",
       "}\n",
       "\n",
       ".xr-has-index {\n",
       "  font-weight: bold;\n",
       "}\n",
       "\n",
       ".xr-var-list,\n",
       ".xr-var-item {\n",
       "  display: contents;\n",
       "}\n",
       "\n",
       ".xr-var-item > div,\n",
       ".xr-var-item label,\n",
       ".xr-var-item > .xr-var-name span {\n",
       "  background-color: var(--xr-background-color-row-even);\n",
       "  margin-bottom: 0;\n",
       "}\n",
       "\n",
       ".xr-var-item > .xr-var-name:hover span {\n",
       "  padding-right: 5px;\n",
       "}\n",
       "\n",
       ".xr-var-list > li:nth-child(odd) > div,\n",
       ".xr-var-list > li:nth-child(odd) > label,\n",
       ".xr-var-list > li:nth-child(odd) > .xr-var-name span {\n",
       "  background-color: var(--xr-background-color-row-odd);\n",
       "}\n",
       "\n",
       ".xr-var-name {\n",
       "  grid-column: 1;\n",
       "}\n",
       "\n",
       ".xr-var-dims {\n",
       "  grid-column: 2;\n",
       "}\n",
       "\n",
       ".xr-var-dtype {\n",
       "  grid-column: 3;\n",
       "  text-align: right;\n",
       "  color: var(--xr-font-color2);\n",
       "}\n",
       "\n",
       ".xr-var-preview {\n",
       "  grid-column: 4;\n",
       "}\n",
       "\n",
       ".xr-index-preview {\n",
       "  grid-column: 2 / 5;\n",
       "  color: var(--xr-font-color2);\n",
       "}\n",
       "\n",
       ".xr-var-name,\n",
       ".xr-var-dims,\n",
       ".xr-var-dtype,\n",
       ".xr-preview,\n",
       ".xr-attrs dt {\n",
       "  white-space: nowrap;\n",
       "  overflow: hidden;\n",
       "  text-overflow: ellipsis;\n",
       "  padding-right: 10px;\n",
       "}\n",
       "\n",
       ".xr-var-name:hover,\n",
       ".xr-var-dims:hover,\n",
       ".xr-var-dtype:hover,\n",
       ".xr-attrs dt:hover {\n",
       "  overflow: visible;\n",
       "  width: auto;\n",
       "  z-index: 1;\n",
       "}\n",
       "\n",
       ".xr-var-attrs,\n",
       ".xr-var-data,\n",
       ".xr-index-data {\n",
       "  display: none;\n",
       "  background-color: var(--xr-background-color) !important;\n",
       "  padding-bottom: 5px !important;\n",
       "}\n",
       "\n",
       ".xr-var-attrs-in:checked ~ .xr-var-attrs,\n",
       ".xr-var-data-in:checked ~ .xr-var-data,\n",
       ".xr-index-data-in:checked ~ .xr-index-data {\n",
       "  display: block;\n",
       "}\n",
       "\n",
       ".xr-var-data > table {\n",
       "  float: right;\n",
       "}\n",
       "\n",
       ".xr-var-name span,\n",
       ".xr-var-data,\n",
       ".xr-index-name div,\n",
       ".xr-index-data,\n",
       ".xr-attrs {\n",
       "  padding-left: 25px !important;\n",
       "}\n",
       "\n",
       ".xr-attrs,\n",
       ".xr-var-attrs,\n",
       ".xr-var-data,\n",
       ".xr-index-data {\n",
       "  grid-column: 1 / -1;\n",
       "}\n",
       "\n",
       "dl.xr-attrs {\n",
       "  padding: 0;\n",
       "  margin: 0;\n",
       "  display: grid;\n",
       "  grid-template-columns: 125px auto;\n",
       "}\n",
       "\n",
       ".xr-attrs dt,\n",
       ".xr-attrs dd {\n",
       "  padding: 0;\n",
       "  margin: 0;\n",
       "  float: left;\n",
       "  padding-right: 10px;\n",
       "  width: auto;\n",
       "}\n",
       "\n",
       ".xr-attrs dt {\n",
       "  font-weight: normal;\n",
       "  grid-column: 1;\n",
       "}\n",
       "\n",
       ".xr-attrs dt:hover span {\n",
       "  display: inline-block;\n",
       "  background: var(--xr-background-color);\n",
       "  padding-right: 10px;\n",
       "}\n",
       "\n",
       ".xr-attrs dd {\n",
       "  grid-column: 2;\n",
       "  white-space: pre-wrap;\n",
       "  word-break: break-all;\n",
       "}\n",
       "\n",
       ".xr-icon-database,\n",
       ".xr-icon-file-text2,\n",
       ".xr-no-icon {\n",
       "  display: inline-block;\n",
       "  vertical-align: middle;\n",
       "  width: 1em;\n",
       "  height: 1.5em !important;\n",
       "  stroke-width: 0;\n",
       "  stroke: currentColor;\n",
       "  fill: currentColor;\n",
       "}\n",
       "</style><pre class='xr-text-repr-fallback'>&lt;xarray.Dataset&gt;\n",
       "Dimensions:          (lon: 144, lat: 72, model: 1, ensemble_member: 50, time: 63)\n",
       "Coordinates:\n",
       "  * lon              (lon) float64 -180.0 -177.5 -175.0 ... 172.5 175.0 177.5\n",
       "  * lat              (lat) float64 -90.0 -87.5 -85.0 -82.5 ... 82.5 85.0 87.5\n",
       "    height           float64 2.0\n",
       "  * model            (model) &lt;U6 &#x27;MIROC6&#x27;\n",
       "  * ensemble_member  (ensemble_member) &lt;U9 &#x27;r10i1p1f1&#x27; ... &#x27;r9i1p1f1&#x27;\n",
       "  * time             (time) datetime64[ns] 1961-12-31 1962-12-31 ... 2023-12-31\n",
       "Data variables:\n",
       "    tas              (time, model, ensemble_member, lat, lon) float32 dask.array&lt;chunksize=(8, 1, 1, 72, 144), meta=np.ndarray&gt;\n",
       "Attributes: (12/46)\n",
       "    CDI:                    Climate Data Interface version 2.0.5 (https://mpi...\n",
       "    source:                 MIROC6 (2017): \\naerosol: SPRINTARS6.0\\natmos: CC...\n",
       "    institution:            JAMSTEC (Japan Agency for Marine-Earth Science an...\n",
       "    Conventions:            CF-1.7 CMIP-6.2\n",
       "    activity_id:            CMIP\n",
       "    branch_method:          standard\n",
       "    ...                     ...\n",
       "    variable_id:            tas\n",
       "    variant_label:          r10i1p1f1\n",
       "    license:                CMIP6 model data produced by MIROC is licensed un...\n",
       "    cmor_version:           3.3.2\n",
       "    tracking_id:            hdl:21.14100/32eb6a5a-cbac-4683-9a79-3682092de706\n",
       "    CDO:                    Climate Data Operators version 2.0.5 (https://mpi...</pre><div class='xr-wrap' style='display:none'><div class='xr-header'><div class='xr-obj-type'>xarray.Dataset</div></div><ul class='xr-sections'><li class='xr-section-item'><input id='section-92a7a64f-7fc3-4797-88b8-147ca3ba4548' class='xr-section-summary-in' type='checkbox' disabled ><label for='section-92a7a64f-7fc3-4797-88b8-147ca3ba4548' class='xr-section-summary'  title='Expand/collapse section'>Dimensions:</label><div class='xr-section-inline-details'><ul class='xr-dim-list'><li><span class='xr-has-index'>lon</span>: 144</li><li><span class='xr-has-index'>lat</span>: 72</li><li><span class='xr-has-index'>model</span>: 1</li><li><span class='xr-has-index'>ensemble_member</span>: 50</li><li><span class='xr-has-index'>time</span>: 63</li></ul></div><div class='xr-section-details'></div></li><li class='xr-section-item'><input id='section-744cd3c9-b389-4c2b-8c4b-73668da45a08' class='xr-section-summary-in' type='checkbox'  checked><label for='section-744cd3c9-b389-4c2b-8c4b-73668da45a08' class='xr-section-summary' >Coordinates: <span>(6)</span></label><div class='xr-section-inline-details'></div><div class='xr-section-details'><ul class='xr-var-list'><li class='xr-var-item'><div class='xr-var-name'><span class='xr-has-index'>lon</span></div><div class='xr-var-dims'>(lon)</div><div class='xr-var-dtype'>float64</div><div class='xr-var-preview xr-preview'>-180.0 -177.5 ... 175.0 177.5</div><input id='attrs-6a6ca7c2-69ca-4e3b-8efe-d3a2477aa808' class='xr-var-attrs-in' type='checkbox' ><label for='attrs-6a6ca7c2-69ca-4e3b-8efe-d3a2477aa808' title='Show/Hide attributes'><svg class='icon xr-icon-file-text2'><use xlink:href='#icon-file-text2'></use></svg></label><input id='data-6ee9b331-b522-438b-8aa4-4a98cb645cb3' class='xr-var-data-in' type='checkbox'><label for='data-6ee9b331-b522-438b-8aa4-4a98cb645cb3' title='Show/Hide data repr'><svg class='icon xr-icon-database'><use xlink:href='#icon-database'></use></svg></label><div class='xr-var-attrs'><dl class='xr-attrs'><dt><span>standard_name :</span></dt><dd>longitude</dd><dt><span>long_name :</span></dt><dd>longitude</dd><dt><span>units :</span></dt><dd>degrees_east</dd><dt><span>axis :</span></dt><dd>X</dd></dl></div><div class='xr-var-data'><pre>array([-180. , -177.5, -175. , -172.5, -170. , -167.5, -165. , -162.5, -160. ,\n",
       "       -157.5, -155. , -152.5, -150. , -147.5, -145. , -142.5, -140. , -137.5,\n",
       "       -135. , -132.5, -130. , -127.5, -125. , -122.5, -120. , -117.5, -115. ,\n",
       "       -112.5, -110. , -107.5, -105. , -102.5, -100. ,  -97.5,  -95. ,  -92.5,\n",
       "        -90. ,  -87.5,  -85. ,  -82.5,  -80. ,  -77.5,  -75. ,  -72.5,  -70. ,\n",
       "        -67.5,  -65. ,  -62.5,  -60. ,  -57.5,  -55. ,  -52.5,  -50. ,  -47.5,\n",
       "        -45. ,  -42.5,  -40. ,  -37.5,  -35. ,  -32.5,  -30. ,  -27.5,  -25. ,\n",
       "        -22.5,  -20. ,  -17.5,  -15. ,  -12.5,  -10. ,   -7.5,   -5. ,   -2.5,\n",
       "          0. ,    2.5,    5. ,    7.5,   10. ,   12.5,   15. ,   17.5,   20. ,\n",
       "         22.5,   25. ,   27.5,   30. ,   32.5,   35. ,   37.5,   40. ,   42.5,\n",
       "         45. ,   47.5,   50. ,   52.5,   55. ,   57.5,   60. ,   62.5,   65. ,\n",
       "         67.5,   70. ,   72.5,   75. ,   77.5,   80. ,   82.5,   85. ,   87.5,\n",
       "         90. ,   92.5,   95. ,   97.5,  100. ,  102.5,  105. ,  107.5,  110. ,\n",
       "        112.5,  115. ,  117.5,  120. ,  122.5,  125. ,  127.5,  130. ,  132.5,\n",
       "        135. ,  137.5,  140. ,  142.5,  145. ,  147.5,  150. ,  152.5,  155. ,\n",
       "        157.5,  160. ,  162.5,  165. ,  167.5,  170. ,  172.5,  175. ,  177.5])</pre></div></li><li class='xr-var-item'><div class='xr-var-name'><span class='xr-has-index'>lat</span></div><div class='xr-var-dims'>(lat)</div><div class='xr-var-dtype'>float64</div><div class='xr-var-preview xr-preview'>-90.0 -87.5 -85.0 ... 85.0 87.5</div><input id='attrs-7f6073a2-1a74-4493-b0f7-e2f5ba93e377' class='xr-var-attrs-in' type='checkbox' ><label for='attrs-7f6073a2-1a74-4493-b0f7-e2f5ba93e377' title='Show/Hide attributes'><svg class='icon xr-icon-file-text2'><use xlink:href='#icon-file-text2'></use></svg></label><input id='data-5938b110-fe3a-4a96-a007-d03c8dd76e01' class='xr-var-data-in' type='checkbox'><label for='data-5938b110-fe3a-4a96-a007-d03c8dd76e01' title='Show/Hide data repr'><svg class='icon xr-icon-database'><use xlink:href='#icon-database'></use></svg></label><div class='xr-var-attrs'><dl class='xr-attrs'><dt><span>standard_name :</span></dt><dd>latitude</dd><dt><span>long_name :</span></dt><dd>latitude</dd><dt><span>units :</span></dt><dd>degrees_north</dd><dt><span>axis :</span></dt><dd>Y</dd></dl></div><div class='xr-var-data'><pre>array([-90. , -87.5, -85. , -82.5, -80. , -77.5, -75. , -72.5, -70. , -67.5,\n",
       "       -65. , -62.5, -60. , -57.5, -55. , -52.5, -50. , -47.5, -45. , -42.5,\n",
       "       -40. , -37.5, -35. , -32.5, -30. , -27.5, -25. , -22.5, -20. , -17.5,\n",
       "       -15. , -12.5, -10. ,  -7.5,  -5. ,  -2.5,   0. ,   2.5,   5. ,   7.5,\n",
       "        10. ,  12.5,  15. ,  17.5,  20. ,  22.5,  25. ,  27.5,  30. ,  32.5,\n",
       "        35. ,  37.5,  40. ,  42.5,  45. ,  47.5,  50. ,  52.5,  55. ,  57.5,\n",
       "        60. ,  62.5,  65. ,  67.5,  70. ,  72.5,  75. ,  77.5,  80. ,  82.5,\n",
       "        85. ,  87.5])</pre></div></li><li class='xr-var-item'><div class='xr-var-name'><span>height</span></div><div class='xr-var-dims'>()</div><div class='xr-var-dtype'>float64</div><div class='xr-var-preview xr-preview'>2.0</div><input id='attrs-78b7a521-9c4d-47ed-a6ff-a78b7b807d1d' class='xr-var-attrs-in' type='checkbox' ><label for='attrs-78b7a521-9c4d-47ed-a6ff-a78b7b807d1d' title='Show/Hide attributes'><svg class='icon xr-icon-file-text2'><use xlink:href='#icon-file-text2'></use></svg></label><input id='data-1d8d0583-57c5-47db-87b6-d0486c4f69ef' class='xr-var-data-in' type='checkbox'><label for='data-1d8d0583-57c5-47db-87b6-d0486c4f69ef' title='Show/Hide data repr'><svg class='icon xr-icon-database'><use xlink:href='#icon-database'></use></svg></label><div class='xr-var-attrs'><dl class='xr-attrs'><dt><span>standard_name :</span></dt><dd>height</dd><dt><span>long_name :</span></dt><dd>height</dd><dt><span>units :</span></dt><dd>m</dd><dt><span>positive :</span></dt><dd>up</dd><dt><span>axis :</span></dt><dd>Z</dd></dl></div><div class='xr-var-data'><pre>array(2.)</pre></div></li><li class='xr-var-item'><div class='xr-var-name'><span class='xr-has-index'>model</span></div><div class='xr-var-dims'>(model)</div><div class='xr-var-dtype'>&lt;U6</div><div class='xr-var-preview xr-preview'>&#x27;MIROC6&#x27;</div><input id='attrs-f7c0ebe1-5b99-41f1-a70f-a7e928913fdc' class='xr-var-attrs-in' type='checkbox' disabled><label for='attrs-f7c0ebe1-5b99-41f1-a70f-a7e928913fdc' title='Show/Hide attributes'><svg class='icon xr-icon-file-text2'><use xlink:href='#icon-file-text2'></use></svg></label><input id='data-a4039a60-c6ab-4609-bf5f-bea2f62c551e' class='xr-var-data-in' type='checkbox'><label for='data-a4039a60-c6ab-4609-bf5f-bea2f62c551e' title='Show/Hide data repr'><svg class='icon xr-icon-database'><use xlink:href='#icon-database'></use></svg></label><div class='xr-var-attrs'><dl class='xr-attrs'></dl></div><div class='xr-var-data'><pre>array([&#x27;MIROC6&#x27;], dtype=&#x27;&lt;U6&#x27;)</pre></div></li><li class='xr-var-item'><div class='xr-var-name'><span class='xr-has-index'>ensemble_member</span></div><div class='xr-var-dims'>(ensemble_member)</div><div class='xr-var-dtype'>&lt;U9</div><div class='xr-var-preview xr-preview'>&#x27;r10i1p1f1&#x27; ... &#x27;r9i1p1f1&#x27;</div><input id='attrs-33d2d958-67d8-45b0-b96e-b549a3e62558' class='xr-var-attrs-in' type='checkbox' disabled><label for='attrs-33d2d958-67d8-45b0-b96e-b549a3e62558' title='Show/Hide attributes'><svg class='icon xr-icon-file-text2'><use xlink:href='#icon-file-text2'></use></svg></label><input id='data-eb8b555d-876e-4244-aff2-307cdcd9e69d' class='xr-var-data-in' type='checkbox'><label for='data-eb8b555d-876e-4244-aff2-307cdcd9e69d' title='Show/Hide data repr'><svg class='icon xr-icon-database'><use xlink:href='#icon-database'></use></svg></label><div class='xr-var-attrs'><dl class='xr-attrs'></dl></div><div class='xr-var-data'><pre>array([&#x27;r10i1p1f1&#x27;, &#x27;r11i1p1f1&#x27;, &#x27;r12i1p1f1&#x27;, &#x27;r13i1p1f1&#x27;, &#x27;r14i1p1f1&#x27;,\n",
       "       &#x27;r15i1p1f1&#x27;, &#x27;r16i1p1f1&#x27;, &#x27;r17i1p1f1&#x27;, &#x27;r18i1p1f1&#x27;, &#x27;r19i1p1f1&#x27;,\n",
       "       &#x27;r1i1p1f1&#x27;, &#x27;r20i1p1f1&#x27;, &#x27;r21i1p1f1&#x27;, &#x27;r22i1p1f1&#x27;, &#x27;r23i1p1f1&#x27;,\n",
       "       &#x27;r24i1p1f1&#x27;, &#x27;r25i1p1f1&#x27;, &#x27;r26i1p1f1&#x27;, &#x27;r27i1p1f1&#x27;, &#x27;r28i1p1f1&#x27;,\n",
       "       &#x27;r29i1p1f1&#x27;, &#x27;r2i1p1f1&#x27;, &#x27;r30i1p1f1&#x27;, &#x27;r31i1p1f1&#x27;, &#x27;r32i1p1f1&#x27;,\n",
       "       &#x27;r33i1p1f1&#x27;, &#x27;r34i1p1f1&#x27;, &#x27;r35i1p1f1&#x27;, &#x27;r36i1p1f1&#x27;, &#x27;r37i1p1f1&#x27;,\n",
       "       &#x27;r38i1p1f1&#x27;, &#x27;r39i1p1f1&#x27;, &#x27;r3i1p1f1&#x27;, &#x27;r40i1p1f1&#x27;, &#x27;r41i1p1f1&#x27;,\n",
       "       &#x27;r42i1p1f1&#x27;, &#x27;r43i1p1f1&#x27;, &#x27;r44i1p1f1&#x27;, &#x27;r45i1p1f1&#x27;, &#x27;r46i1p1f1&#x27;,\n",
       "       &#x27;r47i1p1f1&#x27;, &#x27;r48i1p1f1&#x27;, &#x27;r49i1p1f1&#x27;, &#x27;r4i1p1f1&#x27;, &#x27;r50i1p1f1&#x27;,\n",
       "       &#x27;r5i1p1f1&#x27;, &#x27;r6i1p1f1&#x27;, &#x27;r7i1p1f1&#x27;, &#x27;r8i1p1f1&#x27;, &#x27;r9i1p1f1&#x27;], dtype=&#x27;&lt;U9&#x27;)</pre></div></li><li class='xr-var-item'><div class='xr-var-name'><span class='xr-has-index'>time</span></div><div class='xr-var-dims'>(time)</div><div class='xr-var-dtype'>datetime64[ns]</div><div class='xr-var-preview xr-preview'>1961-12-31 ... 2023-12-31</div><input id='attrs-7847a768-16eb-44c3-a027-7dcfccf0f044' class='xr-var-attrs-in' type='checkbox' ><label for='attrs-7847a768-16eb-44c3-a027-7dcfccf0f044' title='Show/Hide attributes'><svg class='icon xr-icon-file-text2'><use xlink:href='#icon-file-text2'></use></svg></label><input id='data-8cc0d066-b37c-4238-8bfc-9ecda35c3175' class='xr-var-data-in' type='checkbox'><label for='data-8cc0d066-b37c-4238-8bfc-9ecda35c3175' title='Show/Hide data repr'><svg class='icon xr-icon-database'><use xlink:href='#icon-database'></use></svg></label><div class='xr-var-attrs'><dl class='xr-attrs'><dt><span>standard_name :</span></dt><dd>time</dd><dt><span>long_name :</span></dt><dd>time</dd><dt><span>bounds :</span></dt><dd>time_bnds</dd><dt><span>axis :</span></dt><dd>T</dd></dl></div><div class='xr-var-data'><pre>array([&#x27;1961-12-31T00:00:00.000000000&#x27;, &#x27;1962-12-31T00:00:00.000000000&#x27;,\n",
       "       &#x27;1963-12-31T00:00:00.000000000&#x27;, &#x27;1964-12-31T00:00:00.000000000&#x27;,\n",
       "       &#x27;1965-12-31T00:00:00.000000000&#x27;, &#x27;1966-12-31T00:00:00.000000000&#x27;,\n",
       "       &#x27;1967-12-31T00:00:00.000000000&#x27;, &#x27;1968-12-31T00:00:00.000000000&#x27;,\n",
       "       &#x27;1969-12-31T00:00:00.000000000&#x27;, &#x27;1970-12-31T00:00:00.000000000&#x27;,\n",
       "       &#x27;1971-12-31T00:00:00.000000000&#x27;, &#x27;1972-12-31T00:00:00.000000000&#x27;,\n",
       "       &#x27;1973-12-31T00:00:00.000000000&#x27;, &#x27;1974-12-31T00:00:00.000000000&#x27;,\n",
       "       &#x27;1975-12-31T00:00:00.000000000&#x27;, &#x27;1976-12-31T00:00:00.000000000&#x27;,\n",
       "       &#x27;1977-12-31T00:00:00.000000000&#x27;, &#x27;1978-12-31T00:00:00.000000000&#x27;,\n",
       "       &#x27;1979-12-31T00:00:00.000000000&#x27;, &#x27;1980-12-31T00:00:00.000000000&#x27;,\n",
       "       &#x27;1981-12-31T00:00:00.000000000&#x27;, &#x27;1982-12-31T00:00:00.000000000&#x27;,\n",
       "       &#x27;1983-12-31T00:00:00.000000000&#x27;, &#x27;1984-12-31T00:00:00.000000000&#x27;,\n",
       "       &#x27;1985-12-31T00:00:00.000000000&#x27;, &#x27;1986-12-31T00:00:00.000000000&#x27;,\n",
       "       &#x27;1987-12-31T00:00:00.000000000&#x27;, &#x27;1988-12-31T00:00:00.000000000&#x27;,\n",
       "       &#x27;1989-12-31T00:00:00.000000000&#x27;, &#x27;1990-12-31T00:00:00.000000000&#x27;,\n",
       "       &#x27;1991-12-31T00:00:00.000000000&#x27;, &#x27;1992-12-31T00:00:00.000000000&#x27;,\n",
       "       &#x27;1993-12-31T00:00:00.000000000&#x27;, &#x27;1994-12-31T00:00:00.000000000&#x27;,\n",
       "       &#x27;1995-12-31T00:00:00.000000000&#x27;, &#x27;1996-12-31T00:00:00.000000000&#x27;,\n",
       "       &#x27;1997-12-31T00:00:00.000000000&#x27;, &#x27;1998-12-31T00:00:00.000000000&#x27;,\n",
       "       &#x27;1999-12-31T00:00:00.000000000&#x27;, &#x27;2000-12-31T00:00:00.000000000&#x27;,\n",
       "       &#x27;2001-12-31T00:00:00.000000000&#x27;, &#x27;2002-12-31T00:00:00.000000000&#x27;,\n",
       "       &#x27;2003-12-31T00:00:00.000000000&#x27;, &#x27;2004-12-31T00:00:00.000000000&#x27;,\n",
       "       &#x27;2005-12-31T00:00:00.000000000&#x27;, &#x27;2006-12-31T00:00:00.000000000&#x27;,\n",
       "       &#x27;2007-12-31T00:00:00.000000000&#x27;, &#x27;2008-12-31T00:00:00.000000000&#x27;,\n",
       "       &#x27;2009-12-31T00:00:00.000000000&#x27;, &#x27;2010-12-31T00:00:00.000000000&#x27;,\n",
       "       &#x27;2011-12-31T00:00:00.000000000&#x27;, &#x27;2012-12-31T00:00:00.000000000&#x27;,\n",
       "       &#x27;2013-12-31T00:00:00.000000000&#x27;, &#x27;2014-12-31T00:00:00.000000000&#x27;,\n",
       "       &#x27;2015-12-31T00:00:00.000000000&#x27;, &#x27;2016-12-31T00:00:00.000000000&#x27;,\n",
       "       &#x27;2017-12-31T00:00:00.000000000&#x27;, &#x27;2018-12-31T00:00:00.000000000&#x27;,\n",
       "       &#x27;2019-12-31T00:00:00.000000000&#x27;, &#x27;2020-12-31T00:00:00.000000000&#x27;,\n",
       "       &#x27;2021-12-31T00:00:00.000000000&#x27;, &#x27;2022-12-31T00:00:00.000000000&#x27;,\n",
       "       &#x27;2023-12-31T00:00:00.000000000&#x27;], dtype=&#x27;datetime64[ns]&#x27;)</pre></div></li></ul></div></li><li class='xr-section-item'><input id='section-80aef4b6-08f0-433b-96c6-7a40198842b3' class='xr-section-summary-in' type='checkbox'  checked><label for='section-80aef4b6-08f0-433b-96c6-7a40198842b3' class='xr-section-summary' >Data variables: <span>(1)</span></label><div class='xr-section-inline-details'></div><div class='xr-section-details'><ul class='xr-var-list'><li class='xr-var-item'><div class='xr-var-name'><span>tas</span></div><div class='xr-var-dims'>(time, model, ensemble_member, lat, lon)</div><div class='xr-var-dtype'>float32</div><div class='xr-var-preview xr-preview'>dask.array&lt;chunksize=(8, 1, 1, 72, 144), meta=np.ndarray&gt;</div><input id='attrs-cd952454-8bdf-42a3-893a-00db19bf27fe' class='xr-var-attrs-in' type='checkbox' ><label for='attrs-cd952454-8bdf-42a3-893a-00db19bf27fe' title='Show/Hide attributes'><svg class='icon xr-icon-file-text2'><use xlink:href='#icon-file-text2'></use></svg></label><input id='data-3f54fe8b-b8ff-4e77-8ad4-013a9b83869c' class='xr-var-data-in' type='checkbox'><label for='data-3f54fe8b-b8ff-4e77-8ad4-013a9b83869c' title='Show/Hide data repr'><svg class='icon xr-icon-database'><use xlink:href='#icon-database'></use></svg></label><div class='xr-var-attrs'><dl class='xr-attrs'><dt><span>standard_name :</span></dt><dd>air_temperature</dd><dt><span>long_name :</span></dt><dd>Near-Surface Air Temperature</dd><dt><span>units :</span></dt><dd>K</dd><dt><span>comment :</span></dt><dd>near-surface (usually, 2 meter) air temperature</dd><dt><span>original_name :</span></dt><dd>T2</dd><dt><span>cell_methods :</span></dt><dd>area: time: mean</dd><dt><span>cell_measures :</span></dt><dd>area: areacella</dd><dt><span>history :</span></dt><dd>2018-12-01T00:51:08Z altered by CMOR: Treated scalar dimension: &#x27;height&#x27;. 2018-12-01T00:51:08Z altered by CMOR: replaced missing value flag (-999) with standard missing value (1e+20). 2018-12-01T00:51:08Z altered by CMOR: Inverted axis: lat.</dd></dl></div><div class='xr-var-data'><table>\n",
       "    <tr>\n",
       "        <td>\n",
       "            <table style=\"border-collapse: collapse;\">\n",
       "                <thead>\n",
       "                    <tr>\n",
       "                        <td> </td>\n",
       "                        <th> Array </th>\n",
       "                        <th> Chunk </th>\n",
       "                    </tr>\n",
       "                </thead>\n",
       "                <tbody>\n",
       "                    \n",
       "                    <tr>\n",
       "                        <th> Bytes </th>\n",
       "                        <td> 124.58 MiB </td>\n",
       "                        <td> 324.00 kiB </td>\n",
       "                    </tr>\n",
       "                    \n",
       "                    <tr>\n",
       "                        <th> Shape </th>\n",
       "                        <td> (63, 1, 50, 72, 144) </td>\n",
       "                        <td> (8, 1, 1, 72, 144) </td>\n",
       "                    </tr>\n",
       "                    <tr>\n",
       "                        <th> Dask graph </th>\n",
       "                        <td colspan=\"2\"> 400 chunks in 17209 graph layers </td>\n",
       "                    </tr>\n",
       "                    <tr>\n",
       "                        <th> Data type </th>\n",
       "                        <td colspan=\"2\"> float32 numpy.ndarray </td>\n",
       "                    </tr>\n",
       "                </tbody>\n",
       "            </table>\n",
       "        </td>\n",
       "        <td>\n",
       "        <svg width=\"385\" height=\"135\" style=\"stroke:rgb(0,0,0);stroke-width:1\" >\n",
       "\n",
       "  <!-- Horizontal lines -->\n",
       "  <line x1=\"0\" y1=\"0\" x2=\"25\" y2=\"0\" style=\"stroke-width:2\" />\n",
       "  <line x1=\"0\" y1=\"6\" x2=\"25\" y2=\"6\" />\n",
       "  <line x1=\"0\" y1=\"13\" x2=\"25\" y2=\"13\" />\n",
       "  <line x1=\"0\" y1=\"20\" x2=\"25\" y2=\"20\" />\n",
       "  <line x1=\"0\" y1=\"26\" x2=\"25\" y2=\"26\" />\n",
       "  <line x1=\"0\" y1=\"33\" x2=\"25\" y2=\"33\" />\n",
       "  <line x1=\"0\" y1=\"40\" x2=\"25\" y2=\"40\" />\n",
       "  <line x1=\"0\" y1=\"46\" x2=\"25\" y2=\"46\" />\n",
       "  <line x1=\"0\" y1=\"52\" x2=\"25\" y2=\"52\" style=\"stroke-width:2\" />\n",
       "\n",
       "  <!-- Vertical lines -->\n",
       "  <line x1=\"0\" y1=\"0\" x2=\"0\" y2=\"52\" style=\"stroke-width:2\" />\n",
       "  <line x1=\"25\" y1=\"0\" x2=\"25\" y2=\"52\" style=\"stroke-width:2\" />\n",
       "\n",
       "  <!-- Colored Rectangle -->\n",
       "  <polygon points=\"0.0,0.0 25.412616514582485,0.0 25.412616514582485,52.5 0.0,52.5\" style=\"fill:#ECB172A0;stroke-width:0\"/>\n",
       "\n",
       "  <!-- Text -->\n",
       "  <text x=\"12.706308\" y=\"72.500000\" font-size=\"1.0rem\" font-weight=\"100\" text-anchor=\"middle\" >1</text>\n",
       "  <text x=\"45.412617\" y=\"26.250000\" font-size=\"1.0rem\" font-weight=\"100\" text-anchor=\"middle\" transform=\"rotate(0,45.412617,26.250000)\">63</text>\n",
       "\n",
       "\n",
       "  <!-- Horizontal lines -->\n",
       "  <line x1=\"95\" y1=\"0\" x2=\"120\" y2=\"25\" style=\"stroke-width:2\" />\n",
       "  <line x1=\"95\" y1=\"60\" x2=\"120\" y2=\"85\" style=\"stroke-width:2\" />\n",
       "\n",
       "  <!-- Vertical lines -->\n",
       "  <line x1=\"95\" y1=\"0\" x2=\"95\" y2=\"60\" style=\"stroke-width:2\" />\n",
       "  <line x1=\"95\" y1=\"0\" x2=\"95\" y2=\"60\" />\n",
       "  <line x1=\"96\" y1=\"1\" x2=\"96\" y2=\"61\" />\n",
       "  <line x1=\"97\" y1=\"2\" x2=\"97\" y2=\"62\" />\n",
       "  <line x1=\"98\" y1=\"3\" x2=\"98\" y2=\"63\" />\n",
       "  <line x1=\"98\" y1=\"3\" x2=\"98\" y2=\"63\" />\n",
       "  <line x1=\"99\" y1=\"4\" x2=\"99\" y2=\"64\" />\n",
       "  <line x1=\"100\" y1=\"5\" x2=\"100\" y2=\"65\" />\n",
       "  <line x1=\"101\" y1=\"6\" x2=\"101\" y2=\"66\" />\n",
       "  <line x1=\"102\" y1=\"7\" x2=\"102\" y2=\"67\" />\n",
       "  <line x1=\"102\" y1=\"7\" x2=\"102\" y2=\"67\" />\n",
       "  <line x1=\"103\" y1=\"8\" x2=\"103\" y2=\"68\" />\n",
       "  <line x1=\"104\" y1=\"9\" x2=\"104\" y2=\"69\" />\n",
       "  <line x1=\"105\" y1=\"10\" x2=\"105\" y2=\"70\" />\n",
       "  <line x1=\"105\" y1=\"10\" x2=\"105\" y2=\"70\" />\n",
       "  <line x1=\"106\" y1=\"11\" x2=\"106\" y2=\"71\" />\n",
       "  <line x1=\"107\" y1=\"12\" x2=\"107\" y2=\"72\" />\n",
       "  <line x1=\"108\" y1=\"13\" x2=\"108\" y2=\"73\" />\n",
       "  <line x1=\"109\" y1=\"14\" x2=\"109\" y2=\"74\" />\n",
       "  <line x1=\"110\" y1=\"15\" x2=\"110\" y2=\"75\" />\n",
       "  <line x1=\"111\" y1=\"16\" x2=\"111\" y2=\"76\" />\n",
       "  <line x1=\"111\" y1=\"16\" x2=\"111\" y2=\"76\" />\n",
       "  <line x1=\"112\" y1=\"17\" x2=\"112\" y2=\"77\" />\n",
       "  <line x1=\"113\" y1=\"18\" x2=\"113\" y2=\"78\" />\n",
       "  <line x1=\"114\" y1=\"19\" x2=\"114\" y2=\"79\" />\n",
       "  <line x1=\"115\" y1=\"20\" x2=\"115\" y2=\"80\" />\n",
       "  <line x1=\"115\" y1=\"20\" x2=\"115\" y2=\"80\" />\n",
       "  <line x1=\"116\" y1=\"21\" x2=\"116\" y2=\"81\" />\n",
       "  <line x1=\"117\" y1=\"22\" x2=\"117\" y2=\"82\" />\n",
       "  <line x1=\"118\" y1=\"23\" x2=\"118\" y2=\"83\" />\n",
       "  <line x1=\"118\" y1=\"23\" x2=\"118\" y2=\"83\" />\n",
       "  <line x1=\"119\" y1=\"24\" x2=\"119\" y2=\"84\" />\n",
       "  <line x1=\"120\" y1=\"25\" x2=\"120\" y2=\"85\" style=\"stroke-width:2\" />\n",
       "\n",
       "  <!-- Colored Rectangle -->\n",
       "  <polygon points=\"95.0,0.0 120.88926311246348,25.88926311246349 120.88926311246348,85.88926311246348 95.0,60.0\" style=\"fill:#8B4903A0;stroke-width:0\"/>\n",
       "\n",
       "  <!-- Horizontal lines -->\n",
       "  <line x1=\"95\" y1=\"0\" x2=\"215\" y2=\"0\" style=\"stroke-width:2\" />\n",
       "  <line x1=\"95\" y1=\"0\" x2=\"215\" y2=\"0\" />\n",
       "  <line x1=\"96\" y1=\"1\" x2=\"216\" y2=\"1\" />\n",
       "  <line x1=\"97\" y1=\"2\" x2=\"217\" y2=\"2\" />\n",
       "  <line x1=\"98\" y1=\"3\" x2=\"218\" y2=\"3\" />\n",
       "  <line x1=\"98\" y1=\"3\" x2=\"218\" y2=\"3\" />\n",
       "  <line x1=\"99\" y1=\"4\" x2=\"219\" y2=\"4\" />\n",
       "  <line x1=\"100\" y1=\"5\" x2=\"220\" y2=\"5\" />\n",
       "  <line x1=\"101\" y1=\"6\" x2=\"221\" y2=\"6\" />\n",
       "  <line x1=\"102\" y1=\"7\" x2=\"222\" y2=\"7\" />\n",
       "  <line x1=\"102\" y1=\"7\" x2=\"222\" y2=\"7\" />\n",
       "  <line x1=\"103\" y1=\"8\" x2=\"223\" y2=\"8\" />\n",
       "  <line x1=\"104\" y1=\"9\" x2=\"224\" y2=\"9\" />\n",
       "  <line x1=\"105\" y1=\"10\" x2=\"225\" y2=\"10\" />\n",
       "  <line x1=\"105\" y1=\"10\" x2=\"225\" y2=\"10\" />\n",
       "  <line x1=\"106\" y1=\"11\" x2=\"226\" y2=\"11\" />\n",
       "  <line x1=\"107\" y1=\"12\" x2=\"227\" y2=\"12\" />\n",
       "  <line x1=\"108\" y1=\"13\" x2=\"228\" y2=\"13\" />\n",
       "  <line x1=\"109\" y1=\"14\" x2=\"229\" y2=\"14\" />\n",
       "  <line x1=\"110\" y1=\"15\" x2=\"230\" y2=\"15\" />\n",
       "  <line x1=\"111\" y1=\"16\" x2=\"231\" y2=\"16\" />\n",
       "  <line x1=\"111\" y1=\"16\" x2=\"231\" y2=\"16\" />\n",
       "  <line x1=\"112\" y1=\"17\" x2=\"232\" y2=\"17\" />\n",
       "  <line x1=\"113\" y1=\"18\" x2=\"233\" y2=\"18\" />\n",
       "  <line x1=\"114\" y1=\"19\" x2=\"234\" y2=\"19\" />\n",
       "  <line x1=\"115\" y1=\"20\" x2=\"235\" y2=\"20\" />\n",
       "  <line x1=\"115\" y1=\"20\" x2=\"235\" y2=\"20\" />\n",
       "  <line x1=\"116\" y1=\"21\" x2=\"236\" y2=\"21\" />\n",
       "  <line x1=\"117\" y1=\"22\" x2=\"237\" y2=\"22\" />\n",
       "  <line x1=\"118\" y1=\"23\" x2=\"238\" y2=\"23\" />\n",
       "  <line x1=\"118\" y1=\"23\" x2=\"238\" y2=\"23\" />\n",
       "  <line x1=\"119\" y1=\"24\" x2=\"239\" y2=\"24\" />\n",
       "  <line x1=\"120\" y1=\"25\" x2=\"240\" y2=\"25\" style=\"stroke-width:2\" />\n",
       "\n",
       "  <!-- Vertical lines -->\n",
       "  <line x1=\"95\" y1=\"0\" x2=\"120\" y2=\"25\" style=\"stroke-width:2\" />\n",
       "  <line x1=\"215\" y1=\"0\" x2=\"240\" y2=\"25\" style=\"stroke-width:2\" />\n",
       "\n",
       "  <!-- Colored Rectangle -->\n",
       "  <polygon points=\"95.0,0.0 215.0,0.0 240.88926311246348,25.88926311246349 120.88926311246348,25.88926311246349\" style=\"fill:#8B4903A0;stroke-width:0\"/>\n",
       "\n",
       "  <!-- Horizontal lines -->\n",
       "  <line x1=\"120\" y1=\"25\" x2=\"240\" y2=\"25\" style=\"stroke-width:2\" />\n",
       "  <line x1=\"120\" y1=\"85\" x2=\"240\" y2=\"85\" style=\"stroke-width:2\" />\n",
       "\n",
       "  <!-- Vertical lines -->\n",
       "  <line x1=\"120\" y1=\"25\" x2=\"120\" y2=\"85\" style=\"stroke-width:2\" />\n",
       "  <line x1=\"240\" y1=\"25\" x2=\"240\" y2=\"85\" style=\"stroke-width:2\" />\n",
       "\n",
       "  <!-- Colored Rectangle -->\n",
       "  <polygon points=\"120.88926311246348,25.88926311246349 240.88926311246348,25.88926311246349 240.88926311246348,85.88926311246348 120.88926311246348,85.88926311246348\" style=\"fill:#ECB172A0;stroke-width:0\"/>\n",
       "\n",
       "  <!-- Text -->\n",
       "  <text x=\"180.889263\" y=\"105.889263\" font-size=\"1.0rem\" font-weight=\"100\" text-anchor=\"middle\" >144</text>\n",
       "  <text x=\"260.889263\" y=\"55.889263\" font-size=\"1.0rem\" font-weight=\"100\" text-anchor=\"middle\" transform=\"rotate(0,260.889263,55.889263)\">72</text>\n",
       "  <text x=\"97.944632\" y=\"92.944632\" font-size=\"1.0rem\" font-weight=\"100\" text-anchor=\"middle\" transform=\"rotate(45,97.944632,92.944632)\">50</text>\n",
       "</svg>\n",
       "        </td>\n",
       "    </tr>\n",
       "</table></div></li></ul></div></li><li class='xr-section-item'><input id='section-cb64bb94-b9e3-42e3-8b18-93499a30923e' class='xr-section-summary-in' type='checkbox'  ><label for='section-cb64bb94-b9e3-42e3-8b18-93499a30923e' class='xr-section-summary' >Indexes: <span>(5)</span></label><div class='xr-section-inline-details'></div><div class='xr-section-details'><ul class='xr-var-list'><li class='xr-var-item'><div class='xr-index-name'><div>lon</div></div><div class='xr-index-preview'>PandasIndex</div><div></div><input id='index-fc1ba37d-df33-433f-adb9-c665d07111cf' class='xr-index-data-in' type='checkbox'/><label for='index-fc1ba37d-df33-433f-adb9-c665d07111cf' title='Show/Hide index repr'><svg class='icon xr-icon-database'><use xlink:href='#icon-database'></use></svg></label><div class='xr-index-data'><pre>PandasIndex(Index([-180.0, -177.5, -175.0, -172.5, -170.0, -167.5, -165.0, -162.5, -160.0,\n",
       "       -157.5,\n",
       "       ...\n",
       "        155.0,  157.5,  160.0,  162.5,  165.0,  167.5,  170.0,  172.5,  175.0,\n",
       "        177.5],\n",
       "      dtype=&#x27;float64&#x27;, name=&#x27;lon&#x27;, length=144))</pre></div></li><li class='xr-var-item'><div class='xr-index-name'><div>lat</div></div><div class='xr-index-preview'>PandasIndex</div><div></div><input id='index-931f358d-69f5-45c4-9e62-04b83a75aef6' class='xr-index-data-in' type='checkbox'/><label for='index-931f358d-69f5-45c4-9e62-04b83a75aef6' title='Show/Hide index repr'><svg class='icon xr-icon-database'><use xlink:href='#icon-database'></use></svg></label><div class='xr-index-data'><pre>PandasIndex(Index([-90.0, -87.5, -85.0, -82.5, -80.0, -77.5, -75.0, -72.5, -70.0, -67.5,\n",
       "       -65.0, -62.5, -60.0, -57.5, -55.0, -52.5, -50.0, -47.5, -45.0, -42.5,\n",
       "       -40.0, -37.5, -35.0, -32.5, -30.0, -27.5, -25.0, -22.5, -20.0, -17.5,\n",
       "       -15.0, -12.5, -10.0,  -7.5,  -5.0,  -2.5,   0.0,   2.5,   5.0,   7.5,\n",
       "        10.0,  12.5,  15.0,  17.5,  20.0,  22.5,  25.0,  27.5,  30.0,  32.5,\n",
       "        35.0,  37.5,  40.0,  42.5,  45.0,  47.5,  50.0,  52.5,  55.0,  57.5,\n",
       "        60.0,  62.5,  65.0,  67.5,  70.0,  72.5,  75.0,  77.5,  80.0,  82.5,\n",
       "        85.0,  87.5],\n",
       "      dtype=&#x27;float64&#x27;, name=&#x27;lat&#x27;))</pre></div></li><li class='xr-var-item'><div class='xr-index-name'><div>model</div></div><div class='xr-index-preview'>PandasIndex</div><div></div><input id='index-aaade8b1-77e3-497a-a593-2795cbf013c3' class='xr-index-data-in' type='checkbox'/><label for='index-aaade8b1-77e3-497a-a593-2795cbf013c3' title='Show/Hide index repr'><svg class='icon xr-icon-database'><use xlink:href='#icon-database'></use></svg></label><div class='xr-index-data'><pre>PandasIndex(Index([&#x27;MIROC6&#x27;], dtype=&#x27;object&#x27;, name=&#x27;model&#x27;))</pre></div></li><li class='xr-var-item'><div class='xr-index-name'><div>ensemble_member</div></div><div class='xr-index-preview'>PandasIndex</div><div></div><input id='index-6778f20a-4c2f-4288-bb72-9d610e688053' class='xr-index-data-in' type='checkbox'/><label for='index-6778f20a-4c2f-4288-bb72-9d610e688053' title='Show/Hide index repr'><svg class='icon xr-icon-database'><use xlink:href='#icon-database'></use></svg></label><div class='xr-index-data'><pre>PandasIndex(Index([&#x27;r10i1p1f1&#x27;, &#x27;r11i1p1f1&#x27;, &#x27;r12i1p1f1&#x27;, &#x27;r13i1p1f1&#x27;, &#x27;r14i1p1f1&#x27;,\n",
       "       &#x27;r15i1p1f1&#x27;, &#x27;r16i1p1f1&#x27;, &#x27;r17i1p1f1&#x27;, &#x27;r18i1p1f1&#x27;, &#x27;r19i1p1f1&#x27;,\n",
       "       &#x27;r1i1p1f1&#x27;, &#x27;r20i1p1f1&#x27;, &#x27;r21i1p1f1&#x27;, &#x27;r22i1p1f1&#x27;, &#x27;r23i1p1f1&#x27;,\n",
       "       &#x27;r24i1p1f1&#x27;, &#x27;r25i1p1f1&#x27;, &#x27;r26i1p1f1&#x27;, &#x27;r27i1p1f1&#x27;, &#x27;r28i1p1f1&#x27;,\n",
       "       &#x27;r29i1p1f1&#x27;, &#x27;r2i1p1f1&#x27;, &#x27;r30i1p1f1&#x27;, &#x27;r31i1p1f1&#x27;, &#x27;r32i1p1f1&#x27;,\n",
       "       &#x27;r33i1p1f1&#x27;, &#x27;r34i1p1f1&#x27;, &#x27;r35i1p1f1&#x27;, &#x27;r36i1p1f1&#x27;, &#x27;r37i1p1f1&#x27;,\n",
       "       &#x27;r38i1p1f1&#x27;, &#x27;r39i1p1f1&#x27;, &#x27;r3i1p1f1&#x27;, &#x27;r40i1p1f1&#x27;, &#x27;r41i1p1f1&#x27;,\n",
       "       &#x27;r42i1p1f1&#x27;, &#x27;r43i1p1f1&#x27;, &#x27;r44i1p1f1&#x27;, &#x27;r45i1p1f1&#x27;, &#x27;r46i1p1f1&#x27;,\n",
       "       &#x27;r47i1p1f1&#x27;, &#x27;r48i1p1f1&#x27;, &#x27;r49i1p1f1&#x27;, &#x27;r4i1p1f1&#x27;, &#x27;r50i1p1f1&#x27;,\n",
       "       &#x27;r5i1p1f1&#x27;, &#x27;r6i1p1f1&#x27;, &#x27;r7i1p1f1&#x27;, &#x27;r8i1p1f1&#x27;, &#x27;r9i1p1f1&#x27;],\n",
       "      dtype=&#x27;object&#x27;, name=&#x27;ensemble_member&#x27;))</pre></div></li><li class='xr-var-item'><div class='xr-index-name'><div>time</div></div><div class='xr-index-preview'>PandasIndex</div><div></div><input id='index-6324121b-bf9e-412a-9434-ba487edea7a1' class='xr-index-data-in' type='checkbox'/><label for='index-6324121b-bf9e-412a-9434-ba487edea7a1' title='Show/Hide index repr'><svg class='icon xr-icon-database'><use xlink:href='#icon-database'></use></svg></label><div class='xr-index-data'><pre>PandasIndex(DatetimeIndex([&#x27;1961-12-31&#x27;, &#x27;1962-12-31&#x27;, &#x27;1963-12-31&#x27;, &#x27;1964-12-31&#x27;,\n",
       "               &#x27;1965-12-31&#x27;, &#x27;1966-12-31&#x27;, &#x27;1967-12-31&#x27;, &#x27;1968-12-31&#x27;,\n",
       "               &#x27;1969-12-31&#x27;, &#x27;1970-12-31&#x27;, &#x27;1971-12-31&#x27;, &#x27;1972-12-31&#x27;,\n",
       "               &#x27;1973-12-31&#x27;, &#x27;1974-12-31&#x27;, &#x27;1975-12-31&#x27;, &#x27;1976-12-31&#x27;,\n",
       "               &#x27;1977-12-31&#x27;, &#x27;1978-12-31&#x27;, &#x27;1979-12-31&#x27;, &#x27;1980-12-31&#x27;,\n",
       "               &#x27;1981-12-31&#x27;, &#x27;1982-12-31&#x27;, &#x27;1983-12-31&#x27;, &#x27;1984-12-31&#x27;,\n",
       "               &#x27;1985-12-31&#x27;, &#x27;1986-12-31&#x27;, &#x27;1987-12-31&#x27;, &#x27;1988-12-31&#x27;,\n",
       "               &#x27;1989-12-31&#x27;, &#x27;1990-12-31&#x27;, &#x27;1991-12-31&#x27;, &#x27;1992-12-31&#x27;,\n",
       "               &#x27;1993-12-31&#x27;, &#x27;1994-12-31&#x27;, &#x27;1995-12-31&#x27;, &#x27;1996-12-31&#x27;,\n",
       "               &#x27;1997-12-31&#x27;, &#x27;1998-12-31&#x27;, &#x27;1999-12-31&#x27;, &#x27;2000-12-31&#x27;,\n",
       "               &#x27;2001-12-31&#x27;, &#x27;2002-12-31&#x27;, &#x27;2003-12-31&#x27;, &#x27;2004-12-31&#x27;,\n",
       "               &#x27;2005-12-31&#x27;, &#x27;2006-12-31&#x27;, &#x27;2007-12-31&#x27;, &#x27;2008-12-31&#x27;,\n",
       "               &#x27;2009-12-31&#x27;, &#x27;2010-12-31&#x27;, &#x27;2011-12-31&#x27;, &#x27;2012-12-31&#x27;,\n",
       "               &#x27;2013-12-31&#x27;, &#x27;2014-12-31&#x27;, &#x27;2015-12-31&#x27;, &#x27;2016-12-31&#x27;,\n",
       "               &#x27;2017-12-31&#x27;, &#x27;2018-12-31&#x27;, &#x27;2019-12-31&#x27;, &#x27;2020-12-31&#x27;,\n",
       "               &#x27;2021-12-31&#x27;, &#x27;2022-12-31&#x27;, &#x27;2023-12-31&#x27;],\n",
       "              dtype=&#x27;datetime64[ns]&#x27;, name=&#x27;time&#x27;, freq=&#x27;A-DEC&#x27;))</pre></div></li></ul></div></li><li class='xr-section-item'><input id='section-730de46a-7d87-4ce1-aa60-f2a8182ca818' class='xr-section-summary-in' type='checkbox'  ><label for='section-730de46a-7d87-4ce1-aa60-f2a8182ca818' class='xr-section-summary' >Attributes: <span>(46)</span></label><div class='xr-section-inline-details'></div><div class='xr-section-details'><dl class='xr-attrs'><dt><span>CDI :</span></dt><dd>Climate Data Interface version 2.0.5 (https://mpimet.mpg.de/cdi)</dd><dt><span>source :</span></dt><dd>MIROC6 (2017): \n",
       "aerosol: SPRINTARS6.0\n",
       "atmos: CCSR AGCM (T85; 256 x 128 longitude/latitude; 81 levels; top level 0.004 hPa)\n",
       "atmosChem: none\n",
       "land: MATSIRO6.0\n",
       "landIce: none\n",
       "ocean: COCO4.9 (tripolar primarily 1deg; 360 x 256 longitude/latitude; 63 levels; top grid cell 0-2 m)\n",
       "ocnBgchem: none\n",
       "seaIce: COCO4.9</dd><dt><span>institution :</span></dt><dd>JAMSTEC (Japan Agency for Marine-Earth Science and Technology, Kanagawa 236-0001, Japan), AORI (Atmosphere and Ocean Research Institute, The University of Tokyo, Chiba 277-8564, Japan), NIES (National Institute for Environmental Studies, Ibaraki 305-8506, Japan), and R-CCS (RIKEN Center for Computational Science, Hyogo 650-0047, Japan)</dd><dt><span>Conventions :</span></dt><dd>CF-1.7 CMIP-6.2</dd><dt><span>activity_id :</span></dt><dd>CMIP</dd><dt><span>branch_method :</span></dt><dd>standard</dd><dt><span>branch_time_in_child :</span></dt><dd>0.0</dd><dt><span>branch_time_in_parent :</span></dt><dd>98616.0</dd><dt><span>creation_date :</span></dt><dd>2018-12-01T00:51:08Z</dd><dt><span>data_specs_version :</span></dt><dd>01.00.28</dd><dt><span>experiment :</span></dt><dd>all-forcing simulation of the recent past</dd><dt><span>experiment_id :</span></dt><dd>historical</dd><dt><span>external_variables :</span></dt><dd>areacella</dd><dt><span>forcing_index :</span></dt><dd>1</dd><dt><span>frequency :</span></dt><dd>mon</dd><dt><span>further_info_url :</span></dt><dd>https://furtherinfo.es-doc.org/CMIP6.MIROC.MIROC6.historical.none.r10i1p1f1</dd><dt><span>grid :</span></dt><dd>native atmosphere T85 Gaussian grid</dd><dt><span>grid_label :</span></dt><dd>gn</dd><dt><span>history :</span></dt><dd>Tue Apr 16 16:22:07 2024: cdo -O -s -mergetime /gws/nopw/j04/canari/users/benhutch/historical/tas/MIROC6/regrid/tas_Amon_MIROC6_historical_r10i1p1f1_g?_1850-2014.nc_global_regrid.nc /work/scratch-nopw2/benhutch/tas/MIROC6/global/ssp245/tas_Amon_MIROC6_ssp245_r10i1p1f1_gn_201501-203912_regrid.nc /gws/nopw/j04/canari/users/benhutch/historical_ssp245//tas/MIROC6/tas_Amon_MIROC6_historical_r10i1p1f1_1850-203912.nc\n",
       "Fri Sep 15 08:08:55 2023: cdo -O -s -remapbil,/home/users/benhutch/gridspec/gridspec-global.txt /gws/nopw/j04/canari/users/benhutch/historical/tas/MIROC6/mergetime/tas_Amon_MIROC6_historical_r10i1p1f1_g?_1850-2014.nc /gws/nopw/j04/canari/users/benhutch/historical/tas/MIROC6/regrid/tas_Amon_MIROC6_historical_r10i1p1f1_g?_1850-2014.nc_global_regrid.nc\n",
       "Fri Sep 15 08:08:50 2023: cdo -O -s -mergetime /badc/cmip6/data/CMIP6/CMIP/MIROC/MIROC6/historical/r10i1p1f1/Amon/tas/gn/files/d20181212/tas_Amon_MIROC6_historical_r10i1p1f1_gn_185001-194912.nc /badc/cmip6/data/CMIP6/CMIP/MIROC/MIROC6/historical/r10i1p1f1/Amon/tas/gn/files/d20181212/tas_Amon_MIROC6_historical_r10i1p1f1_gn_195001-201412.nc /gws/nopw/j04/canari/users/benhutch/historical/tas/MIROC6/mergetime/tas_Amon_MIROC6_historical_r10i1p1f1_g?_1850-2014.nc\n",
       "2018-12-01T00:51:08Z ; CMOR rewrote data to be consistent with CMIP6, CF-1.7 CMIP-6.2 and CF standards.</dd><dt><span>initialization_index :</span></dt><dd>1</dd><dt><span>institution_id :</span></dt><dd>MIROC</dd><dt><span>mip_era :</span></dt><dd>CMIP6</dd><dt><span>nominal_resolution :</span></dt><dd>250 km</dd><dt><span>parent_activity_id :</span></dt><dd>CMIP</dd><dt><span>parent_experiment_id :</span></dt><dd>piControl</dd><dt><span>parent_mip_era :</span></dt><dd>CMIP6</dd><dt><span>parent_source_id :</span></dt><dd>MIROC6</dd><dt><span>parent_time_units :</span></dt><dd>days since 3200-1-1</dd><dt><span>parent_variant_label :</span></dt><dd>r1i1p1f1</dd><dt><span>physics_index :</span></dt><dd>1</dd><dt><span>product :</span></dt><dd>model-output</dd><dt><span>realization_index :</span></dt><dd>10</dd><dt><span>realm :</span></dt><dd>atmos</dd><dt><span>source_id :</span></dt><dd>MIROC6</dd><dt><span>source_type :</span></dt><dd>AOGCM AER</dd><dt><span>sub_experiment :</span></dt><dd>none</dd><dt><span>sub_experiment_id :</span></dt><dd>none</dd><dt><span>table_id :</span></dt><dd>Amon</dd><dt><span>table_info :</span></dt><dd>Creation Date:(06 November 2018) MD5:0728c79344e0f262bb76e4f9ff0d9afc</dd><dt><span>title :</span></dt><dd>MIROC6 output prepared for CMIP6</dd><dt><span>variable_id :</span></dt><dd>tas</dd><dt><span>variant_label :</span></dt><dd>r10i1p1f1</dd><dt><span>license :</span></dt><dd>CMIP6 model data produced by MIROC is licensed under a Creative Commons Attribution ShareAlike 4.0 International License (https://creativecommons.org/licenses/). Consult https://pcmdi.llnl.gov/CMIP6/TermsOfUse for terms of use governing CMIP6 output, including citation requirements and proper acknowledgment. Further information about this data, including some limitations, can be found via the further_info_url (recorded as a global attribute in this file). The data producers and data providers make no warranty, either express or implied, including, but not limited to, warranties of merchantability and fitness for a particular purpose. All liabilities arising from the supply of the information (including any liability arising in negligence) are excluded to the fullest extent permitted by law.</dd><dt><span>cmor_version :</span></dt><dd>3.3.2</dd><dt><span>tracking_id :</span></dt><dd>hdl:21.14100/32eb6a5a-cbac-4683-9a79-3682092de706</dd><dt><span>CDO :</span></dt><dd>Climate Data Operators version 2.0.5 (https://mpimet.mpg.de/cdo)</dd></dl></div></li></ul></div></div>"
      ],
      "text/plain": [
       "<xarray.Dataset>\n",
       "Dimensions:          (lon: 144, lat: 72, model: 1, ensemble_member: 50, time: 63)\n",
       "Coordinates:\n",
       "  * lon              (lon) float64 -180.0 -177.5 -175.0 ... 172.5 175.0 177.5\n",
       "  * lat              (lat) float64 -90.0 -87.5 -85.0 -82.5 ... 82.5 85.0 87.5\n",
       "    height           float64 2.0\n",
       "  * model            (model) <U6 'MIROC6'\n",
       "  * ensemble_member  (ensemble_member) <U9 'r10i1p1f1' ... 'r9i1p1f1'\n",
       "  * time             (time) datetime64[ns] 1961-12-31 1962-12-31 ... 2023-12-31\n",
       "Data variables:\n",
       "    tas              (time, model, ensemble_member, lat, lon) float32 dask.array<chunksize=(8, 1, 1, 72, 144), meta=np.ndarray>\n",
       "Attributes: (12/46)\n",
       "    CDI:                    Climate Data Interface version 2.0.5 (https://mpi...\n",
       "    source:                 MIROC6 (2017): \\naerosol: SPRINTARS6.0\\natmos: CC...\n",
       "    institution:            JAMSTEC (Japan Agency for Marine-Earth Science an...\n",
       "    Conventions:            CF-1.7 CMIP-6.2\n",
       "    activity_id:            CMIP\n",
       "    branch_method:          standard\n",
       "    ...                     ...\n",
       "    variable_id:            tas\n",
       "    variant_label:          r10i1p1f1\n",
       "    license:                CMIP6 model data produced by MIROC is licensed un...\n",
       "    cmor_version:           3.3.2\n",
       "    tracking_id:            hdl:21.14100/32eb6a5a-cbac-4683-9a79-3682092de706\n",
       "    CDO:                    Climate Data Operators version 2.0.5 (https://mpi..."
      ]
     },
     "execution_count": 33,
     "metadata": {},
     "output_type": "execute_result"
    }
   ],
   "source": [
    "# Assuming ds has a datetime index\n",
    "ds"
   ]
  },
  {
   "cell_type": "code",
   "execution_count": 30,
   "metadata": {},
   "outputs": [
    {
     "data": {
      "text/plain": [
       "array([[[[[      nan,       nan,       nan, ...,       nan,       nan,\n",
       "                 nan],\n",
       "          [      nan,       nan,       nan, ...,       nan,       nan,\n",
       "                 nan],\n",
       "          [      nan,       nan,       nan, ...,       nan,       nan,\n",
       "                 nan],\n",
       "          ...,\n",
       "          [      nan,       nan,       nan, ...,       nan,       nan,\n",
       "                 nan],\n",
       "          [      nan,       nan,       nan, ...,       nan,       nan,\n",
       "                 nan],\n",
       "          [      nan,       nan,       nan, ...,       nan,       nan,\n",
       "                 nan]]]],\n",
       "\n",
       "\n",
       "\n",
       "       [[[[237.08243, 237.08243, 237.08243, ..., 237.08243, 237.08243,\n",
       "           237.08243],\n",
       "          [241.45747, 241.7607 , 242.05658, ..., 240.5012 , 240.82448,\n",
       "           241.13916],\n",
       "          [253.32741, 254.06232, 254.73236, ..., 250.8157 , 251.6926 ,\n",
       "           252.53377],\n",
       "          ...,\n",
       "          [244.1753 , 244.19946, 244.20447, ..., 244.13766, 244.16898,\n",
       "           244.18355],\n",
       "          [243.88719, 243.88918, 243.89838, ..., 243.89806, 243.88638,\n",
       "           243.88214],\n",
       "          [243.84608, 243.81285, 243.78094, ..., 243.96231, 243.93932,\n",
       "           243.89201]]]],\n",
       "\n",
       "\n",
       "\n",
       "       [[[[237.0416 , 237.0416 , 237.0416 , ..., 237.0416 , 237.0416 ,\n",
       "           237.0416 ],\n",
       "          [241.47511, 241.7768 , 242.0696 , ..., 240.52557, 240.84656,\n",
       "           241.16016],\n",
       "          [253.31688, 254.05135, 254.7213 , ..., 250.80742, 251.68352,\n",
       "           252.52396],\n",
       "          ...,\n",
       "          [244.93248, 244.96791, 244.98082, ..., 244.86465, 244.90408,\n",
       "           244.92734],\n",
       "          [244.68057, 244.69287, 244.7115 , ..., 244.66695, 244.66505,\n",
       "           244.66783],\n",
       "          [244.63812, 244.61177, 244.58438, ..., 244.73392, 244.71844,\n",
       "           244.67899]]]],\n",
       "\n",
       "\n",
       "\n",
       "       ...,\n",
       "\n",
       "\n",
       "\n",
       "       [[[[      nan,       nan,       nan, ...,       nan,       nan,\n",
       "                 nan],\n",
       "          [      nan,       nan,       nan, ...,       nan,       nan,\n",
       "                 nan],\n",
       "          [      nan,       nan,       nan, ...,       nan,       nan,\n",
       "                 nan],\n",
       "          ...,\n",
       "          [      nan,       nan,       nan, ...,       nan,       nan,\n",
       "                 nan],\n",
       "          [      nan,       nan,       nan, ...,       nan,       nan,\n",
       "                 nan],\n",
       "          [      nan,       nan,       nan, ...,       nan,       nan,\n",
       "                 nan]]]],\n",
       "\n",
       "\n",
       "\n",
       "       [[[[      nan,       nan,       nan, ...,       nan,       nan,\n",
       "                 nan],\n",
       "          [      nan,       nan,       nan, ...,       nan,       nan,\n",
       "                 nan],\n",
       "          [      nan,       nan,       nan, ...,       nan,       nan,\n",
       "                 nan],\n",
       "          ...,\n",
       "          [      nan,       nan,       nan, ...,       nan,       nan,\n",
       "                 nan],\n",
       "          [      nan,       nan,       nan, ...,       nan,       nan,\n",
       "                 nan],\n",
       "          [      nan,       nan,       nan, ...,       nan,       nan,\n",
       "                 nan]]]],\n",
       "\n",
       "\n",
       "\n",
       "       [[[[      nan,       nan,       nan, ...,       nan,       nan,\n",
       "                 nan],\n",
       "          [      nan,       nan,       nan, ...,       nan,       nan,\n",
       "                 nan],\n",
       "          [      nan,       nan,       nan, ...,       nan,       nan,\n",
       "                 nan],\n",
       "          ...,\n",
       "          [      nan,       nan,       nan, ...,       nan,       nan,\n",
       "                 nan],\n",
       "          [      nan,       nan,       nan, ...,       nan,       nan,\n",
       "                 nan],\n",
       "          [      nan,       nan,       nan, ...,       nan,       nan,\n",
       "                 nan]]]]], dtype=float32)"
      ]
     },
     "execution_count": 30,
     "metadata": {},
     "output_type": "execute_result"
    }
   ],
   "source": [
    "ds['tas'].values"
   ]
  }
 ],
 "metadata": {
  "kernelspec": {
   "display_name": "bens-python-environment",
   "language": "python",
   "name": "bens-python-environment"
  },
  "language_info": {
   "codemirror_mode": {
    "name": "ipython",
    "version": 3
   },
   "file_extension": ".py",
   "mimetype": "text/x-python",
   "name": "python",
   "nbconvert_exporter": "python",
   "pygments_lexer": "ipython3",
   "version": "3.10.8"
  }
 },
 "nbformat": 4,
 "nbformat_minor": 4
}
