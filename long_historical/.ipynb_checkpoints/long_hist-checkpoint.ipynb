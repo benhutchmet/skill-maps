{
 "cells": [
  {
   "cell_type": "markdown",
   "metadata": {},
   "source": [
    "### Long historical runs ###\n",
    "\n",
    "To create historical time series which are valid against the dcpp experiments\n",
    "which run past 2014, we have to combine the historical runs from CMIP\n",
    "(1850-2014) with the ssp245 runs from ScenarioMIP (2015-2100).\n",
    "\n",
    "To string the time series together, they should have the same r*i?p?f? \n",
    "(experimental set up).\n",
    "\n",
    "We want to avoid downloading data where possible, so we want to see how many of\n",
    "these files are available in /badc/ on JASMIN."
   ]
  },
  {
   "cell_type": "markdown",
   "metadata": {},
   "source": [
    "#### NOTE ####\n",
    "\n",
    "***EC-Earth3, for tas at least, seems to start in 1970, so is not suitable***"
   ]
  },
  {
   "cell_type": "code",
   "execution_count": null,
   "metadata": {},
   "outputs": [],
   "source": [
    "import sys"
   ]
  },
  {
   "cell_type": "code",
   "execution_count": null,
   "metadata": {},
   "outputs": [],
   "source": [
    "# Import the functions\n",
    "import long_hist_functions as lh_funcs"
   ]
  },
  {
   "cell_type": "code",
   "execution_count": null,
   "metadata": {},
   "outputs": [],
   "source": [
    "# Import dictionaries\n",
    "sys.path.append('/home/users/benhutch/skill-maps/')\n",
    "\n",
    "# Import the dictionaries\n",
    "import dictionaries as dicts"
   ]
  },
  {
   "cell_type": "code",
   "execution_count": null,
   "metadata": {
    "scrolled": true
   },
   "outputs": [],
   "source": [
    "# # test the function merge + regrid\n",
    "# df = lh_funcs.merge_regrid_hist_files(\n",
    "#     variables=[\"pr\"],\n",
    "#     models=dicts.models,\n",
    "# )"
   ]
  },
  {
   "cell_type": "code",
   "execution_count": null,
   "metadata": {},
   "outputs": [],
   "source": [
    "# df.head()"
   ]
  },
  {
   "cell_type": "code",
   "execution_count": null,
   "metadata": {
    "scrolled": true
   },
   "outputs": [],
   "source": [
    "# test the function\n",
    "# maybe \n",
    "df = lh_funcs.find_hist_ssp_members(\n",
    "    variables=[\"ua\"],\n",
    "    models=dicts.models,\n",
    "    fname=\"ua_ssp245_all_models.csv\",\n",
    ")"
   ]
  },
  {
   "cell_type": "code",
   "execution_count": null,
   "metadata": {},
   "outputs": [],
   "source": [
    "# df.shape"
   ]
  },
  {
   "cell_type": "code",
   "execution_count": null,
   "metadata": {
    "scrolled": true
   },
   "outputs": [],
   "source": [
    "# df = lh_funcs.regrid_ssp(\n",
    "#     df=df,\n",
    "#     models=df[\"model\"].unique(),\n",
    "# )"
   ]
  },
  {
   "cell_type": "code",
   "execution_count": null,
   "metadata": {},
   "outputs": [],
   "source": [
    "# import importlib\n",
    "# importlib.reload(lh_funcs)"
   ]
  },
  {
   "cell_type": "code",
   "execution_count": null,
   "metadata": {
    "scrolled": true
   },
   "outputs": [],
   "source": [
    "# df = lh_funcs.merge_hist_ssp(\n",
    "#     df=df,\n",
    "#     models=df[\"model\"].unique(),\n",
    "# )"
   ]
  },
  {
   "cell_type": "code",
   "execution_count": null,
   "metadata": {},
   "outputs": [],
   "source": [
    "# df.head()"
   ]
  },
  {
   "cell_type": "code",
   "execution_count": null,
   "metadata": {
    "scrolled": true
   },
   "outputs": [],
   "source": [
    "# df[\"hist_ssp_member\"].values"
   ]
  },
  {
   "cell_type": "code",
   "execution_count": null,
   "metadata": {},
   "outputs": [],
   "source": [
    "# importlib.reload(lh_funcs)"
   ]
  },
  {
   "cell_type": "code",
   "execution_count": null,
   "metadata": {
    "scrolled": true
   },
   "outputs": [],
   "source": [
    "ds, dss_anoms = lh_funcs.process_hist_ssp(\n",
    "    variable=\"ua\",\n",
    "    months=[4, 5, 6, 7, 8, 9],\n",
    "    season=\"AMJJAS\",\n",
    "    forecast_range=\"2-9\",\n",
    "    start_year=1961,\n",
    "    end_year=2023,\n",
    "    models=df[\"model\"].unique(),\n",
    "    level=85000,\n",
    ")"
   ]
  },
  {
   "cell_type": "code",
   "execution_count": null,
   "metadata": {},
   "outputs": [],
   "source": [
    "dss_anoms"
   ]
  },
  {
   "cell_type": "code",
   "execution_count": null,
   "metadata": {},
   "outputs": [],
   "source": [
    "import importlib\n",
    "importlib.reload(lh_funcs)"
   ]
  },
  {
   "cell_type": "code",
   "execution_count": null,
   "metadata": {},
   "outputs": [],
   "source": [
    "# test the function for saving the output\n",
    "lh_funcs.save_data(\n",
    "    ds=dss_anoms,\n",
    "    variable=\"ua\",\n",
    "    season=\"AMJJAS\",\n",
    "    forecast_range=\"2-9\",\n",
    "    start_year=1961,\n",
    "    end_year=2023,\n",
    ")"
   ]
  },
  {
   "cell_type": "code",
   "execution_count": null,
   "metadata": {},
   "outputs": [],
   "source": [
    "lh_funcs.constrain_to_arr(\n",
    "    ds=dss_anoms,\n",
    "    variable=\"ua\",\n",
    "    season=\"AMJJAS\",\n",
    "    forecast_range=\"2-9\",\n",
    "    start_year=1961,\n",
    "    end_year=2023,\n",
    "    lag_first_year=1969,\n",
    "    lag_last_year=2019,\n",
    "    raw_first_year=1966,\n",
    "    raw_last_year=2019,\n",
    ")"
   ]
  }
 ],
 "metadata": {
  "kernelspec": {
   "display_name": "bens-python-environment",
   "language": "python",
   "name": "bens-python-environment"
  },
  "language_info": {
   "codemirror_mode": {
    "name": "ipython",
    "version": 3
   },
   "file_extension": ".py",
   "mimetype": "text/x-python",
   "name": "python",
   "nbconvert_exporter": "python",
   "pygments_lexer": "ipython3",
   "version": "3.10.8"
  }
 },
 "nbformat": 4,
 "nbformat_minor": 4
}
