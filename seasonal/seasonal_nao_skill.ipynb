{
 "cells": [
  {
   "cell_type": "markdown",
   "metadata": {},
   "source": [
    "## Seasonal NAO skill comparison ##\n",
    "\n",
    "In the decadal predictions, we observe a pretty significant drop in skill post-2005 initiailisation. As the dataset is limited to around 50 years and we have only observed one 'forecast bust' like this, we don't know whether Doug was just lucky or whether something is actually going wrong in the models in the recent period.\n",
    "\n",
    "To explore this, we consider the seasonal hindcasts:\n",
    "\n",
    "1. CSF-20C (Coupled Seasonal Forecast):This is a hindcast performed with the model fully coupled to the Nucleus for European Modelling of the Ocean (NEMO) ocean model, initialised from CERA-20C reanalysis data.\n",
    "2. ASF-20C (Atmospheric Seasonal Forecasts): This is a hindcast performed with prescribed Sea Surface Temperature (SST) and sea-ice boundary conditions at the surface, initialised form ERA-20C reanalysis data.\n",
    "\n",
    "These both run from initialisation in 1901-2009, so give a longer time period.\n",
    "\n",
    "Strommen et al. (2023) propose that seasonal forecasts can be used to diagnose decadal forecast signals over a longer period. We plan to look at this in the context of 8 year running mean (years 2-9 of the decadal forecast) NAO predictability. In doing this, we want to explore the following questions:\n",
    "\n",
    "* Was the recent drop in NAO skill an outlier in the longer period (1901-2020)?\n",
    "* Have similar 'forecast bust' periods been observed before?\n",
    "* Are there similar conditions occuring during previous bust periods?\n",
    "    * i.e. divergence of model/obs SPNA SSTs"
   ]
  },
  {
   "cell_type": "code",
   "execution_count": 1,
   "metadata": {},
   "outputs": [],
   "source": [
    "# Import relevant modules\n",
    "import os\n",
    "import sys\n",
    "\n",
    "# Third party imports\n",
    "import numpy as np\n",
    "import xarray as xr\n",
    "import matplotlib.pyplot as plt"
   ]
  },
  {
   "cell_type": "code",
   "execution_count": 4,
   "metadata": {},
   "outputs": [],
   "source": [
    "# Import local dictionaries and functions\n",
    "sys.path.append('/home/users/benhutch/skill-maps')\n",
    "\n",
    "# Import dictionaries\n",
    "import dictionaries as dic\n",
    "\n",
    "# Set up the path where the functions are stored\n",
    "sys.path.append('/home/users/benhutch/skill-maps/python')\n",
    "\n",
    "# Import functions\n",
    "import functions as func\n",
    "\n",
    "# Import the NAO skill functions\n",
    "import nao_skill_functions as nao_func\n",
    "\n",
    "# Set up the path where the functions are stored\n",
    "sys.path.append('/home/users/benhutch/skill-maps/rose-suite-matching')\n",
    "\n",
    "# Import the suite functions\n",
    "import nao_matching_seasons as nms_func\n",
    "\n",
    "# Import the bootstrapping functions\n",
    "import process_bs_values as pbs_func"
   ]
  },
  {
   "cell_type": "markdown",
   "metadata": {},
   "source": [
    "### Data access issues ###\n",
    "\n",
    "* ERA20C reanalysis not easily accessible?\n",
    "* Who should I contact to try to get access?\n",
    "* Maybe just look back to 1940 onwards (ERA5 window) first"
   ]
  }
 ],
 "metadata": {
  "kernelspec": {
   "display_name": "Python 3",
   "language": "python",
   "name": "python3"
  },
  "language_info": {
   "codemirror_mode": {
    "name": "ipython",
    "version": 3
   },
   "file_extension": ".py",
   "mimetype": "text/x-python",
   "name": "python",
   "nbconvert_exporter": "python",
   "pygments_lexer": "ipython3",
   "version": "3.10.5"
  }
 },
 "nbformat": 4,
 "nbformat_minor": 2
}
