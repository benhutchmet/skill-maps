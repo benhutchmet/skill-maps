{
 "cells": [
  {
   "cell_type": "markdown",
   "metadata": {},
   "source": [
    "## Seasonal NAO skill comparison ##\n",
    "\n",
    "In the decadal predictions, we observe a pretty significant drop in skill post-2005 initiailisation. As the dataset is limited to around 50 years and we have only observed one 'forecast bust' like this, we don't know whether Doug was just lucky or whether something is actually going wrong in the models in the recent period.\n",
    "\n",
    "To explore this, we consider the seasonal hindcasts:\n",
    "\n",
    "1. CSF-20C (Coupled Seasonal Forecast):This is a hindcast performed with the model fully coupled to the Nucleus for European Modelling of the Ocean (NEMO) ocean model, initialised from CERA-20C reanalysis data.\n",
    "2. ASF-20C (Atmospheric Seasonal Forecasts): This is a hindcast performed with prescribed Sea Surface Temperature (SST) and sea-ice boundary conditions at the surface, initialised form ERA-20C reanalysis data.\n",
    "\n",
    "These both run from initialisation in 1901-2009, so give a longer time period.\n",
    "\n",
    "Strommen et al. (2023) propose that seasonal forecasts can be used to diagnose decadal forecast signals over a longer period. We plan to look at this in the context of 8 year running mean (years 2-9 of the decadal forecast) NAO predictability. In doing this, we want to explore the following questions:\n",
    "\n",
    "* Was the recent drop in NAO skill an outlier in the longer period (1901-2020)?\n",
    "* Have similar 'forecast bust' periods been observed before?\n",
    "* Are there similar conditions occuring during previous bust periods?\n",
    "    * i.e. divergence of model/obs SPNA SSTs"
   ]
  },
  {
   "cell_type": "code",
   "execution_count": 1,
   "metadata": {},
   "outputs": [],
   "source": [
    "# Import relevant modules\n",
    "import os\n",
    "import sys\n",
    "\n",
    "# Third party imports\n",
    "import numpy as np\n",
    "import xarray as xr\n",
    "import matplotlib.pyplot as plt\n",
    "\n",
    "# Import cdo for regridding\n",
    "from cdo import Cdo\n",
    "cdo = Cdo()"
   ]
  },
  {
   "cell_type": "code",
   "execution_count": 2,
   "metadata": {},
   "outputs": [],
   "source": [
    "# Import local dictionaries and functions\n",
    "sys.path.append('/home/users/benhutch/skill-maps')\n",
    "\n",
    "# Import dictionaries\n",
    "import dictionaries as dic\n",
    "\n",
    "# Set up the path where the functions are stored\n",
    "sys.path.append('/home/users/benhutch/skill-maps/python')\n",
    "\n",
    "# Import functions\n",
    "import functions as func\n",
    "\n",
    "# Import the NAO skill functions\n",
    "import nao_skill_functions as nao_func\n",
    "\n",
    "# Set up the path where the functions are stored\n",
    "sys.path.append('/home/users/benhutch/skill-maps/rose-suite-matching')\n",
    "\n",
    "# Import the suite functions\n",
    "import nao_matching_seasons as nms_func\n",
    "\n",
    "# Import the bootstrapping functions\n",
    "import process_bs_values as pbs_func"
   ]
  },
  {
   "cell_type": "markdown",
   "metadata": {},
   "source": [
    "### Data access issues ###\n",
    "\n",
    "* ERA20C reanalysis not easily accessible?\n",
    "* Who should I contact to try to get access?\n",
    "* Maybe just look back to 1940 onwards (ERA5 window) first"
   ]
  },
  {
   "cell_type": "code",
   "execution_count": 3,
   "metadata": {},
   "outputs": [
    {
     "name": "stdout",
     "output_type": "stream",
     "text": [
      "The file /badc/deposited2020/seasonal-forecasts-20thc/data/ASF20C/SLPmonthly_ASF20C_NovSTART_ENSmems/SLPmonthly_1901_M1.nc exists\n"
     ]
    }
   ],
   "source": [
    "# Find some of the ASF20C data on jasmin\n",
    "# Set up the parameters\n",
    "model = \"ASF20C\" # Alternative is \"CSF20C\"\n",
    "variable = \"SLP\" # Sea level pressure\n",
    "initialisation = \"Nov\" # Month of initialisation\n",
    "year = 1901 # First year of the hindcast\n",
    "member=1 # Ensemble member\n",
    "region=\"Global\" # For regridding\n",
    "\n",
    "# Set up the base path\n",
    "base_path_20c = \"/badc/deposited2020/seasonal-forecasts-20thc/data\"\n",
    "\n",
    "# Find the specific file\n",
    "folder_name = f\"{variable}monthly_{model}_{initialisation}START_ENSmems\"\n",
    "\n",
    "# Set up the file name\n",
    "file_name = f\"{variable}monthly_{year}_M{member}.nc\"\n",
    "\n",
    "# Set up the full path\n",
    "file_path = os.path.join(base_path_20c, model,\n",
    "                            folder_name, file_name)\n",
    "\n",
    "# Check if the file exists\n",
    "if os.path.exists(file_path):\n",
    "    print(f\"The file {file_path} exists\")\n",
    "\n",
    "# Set up directories in canari to store the regridded psl data\n",
    "# Set up the base path\n",
    "base_path = \"/gws/nopw/j04/canari/users/benhutch\"\n",
    "\n",
    "# Form a new path\n",
    "new_path_ASF20C = os.path.join(base_path, \"seasonal\",\n",
    "                               \"ASF20C\", variable,\n",
    "                                 f\"{initialisation}_START\")\n",
    "\n",
    "# Same for the CSF20C\n",
    "new_path_CSF20C = os.path.join(base_path, \"seasonal\",\n",
    "                               \"CSF20C\", variable,\n",
    "                                 f\"{initialisation}_START\")\n",
    "\n",
    "# Check if the directories exist\n",
    "if not os.path.exists(new_path_ASF20C):\n",
    "    print(f\"The directory {new_path_ASF20C} exists\")\n",
    "    # Create a new directory\n",
    "    os.makedirs(new_path_ASF20C, exist_ok=False)\n",
    "\n",
    "# Same for the CSF20C\n",
    "if not os.path.exists(new_path_CSF20C):\n",
    "    print(f\"The directory {new_path_CSF20C} exists\")\n",
    "    # Create a new directory\n",
    "    os.makedirs(new_path_CSF20C, exist_ok=False)"
   ]
  },
  {
   "cell_type": "code",
   "execution_count": 4,
   "metadata": {},
   "outputs": [
    {
     "name": "stdout",
     "output_type": "stream",
     "text": [
      "gridtype=lonlat\n",
      "xfirst=-180\n",
      "xinc=2.5\n",
      "xsize=144\n",
      "yfirst=-90\n",
      "yinc=2.5\n",
      "ysize=72\n"
     ]
    }
   ],
   "source": [
    "# Find the gridspec for the file\n",
    "gridspec_dir = \"/home/users/benhutch/gridspec/\"\n",
    "\n",
    "# # Print all of the files within the directory\n",
    "# print(os.listdir(gridspec_dir))\n",
    "\n",
    "# Find gridspec-global.txt\n",
    "gridspec_file = os.path.join(gridspec_dir, \"gridspec-global.txt\")\n",
    "\n",
    "# Print the contents of the file\n",
    "print(open(gridspec_file).read())"
   ]
  },
  {
   "cell_type": "code",
   "execution_count": 5,
   "metadata": {},
   "outputs": [],
   "source": [
    "# Find the directory where all of the data to be regridded is stored\n",
    "dir = os.path.join(base_path_20c, model,\n",
    "                            folder_name)\n",
    "\n",
    "# # Print all of the files within the directory\n",
    "# print(os.listdir(dir))\n",
    "\n",
    "# # Find the files within the directory\n",
    "# files = os.listdir(dir)\n",
    "\n",
    "# # Limit files to the first 10\n",
    "# files = files[:10]\n",
    "\n",
    "# # Loop through the files\n",
    "# for file in files:\n",
    "#     # Set up the output file name\n",
    "#     output_file = os.path.join(new_path_ASF20C, f\"{file[:-3]}_rg.nc\")\n",
    "\n",
    "#     # If the output file already exists, skip\n",
    "#     if os.path.exists(output_file):\n",
    "#         print(f\"The file {output_file} exists\")\n",
    "#         continue\n",
    "\n",
    "#     # Set up the input file name\n",
    "#     input_file = os.path.join(dir, file)\n",
    "\n",
    "#     # perform the regridding\n",
    "#     cdo.remapbil(gridspec_file, input=input_file,\n",
    "#                  output=output_file)"
   ]
  },
  {
   "cell_type": "markdown",
   "metadata": {},
   "source": [
    "### Time ###\n",
    "\n",
    "The timesteps for the seasonal forecasts are set up in a weird way. We are going to assume that if the forecast is initialized on the 1st November and then run forwards for four months, then the first timestep is the November mean, the second December, then January and February. Therefore, to get the DJF mean, we will take the average of all time steps but the first."
   ]
  },
  {
   "cell_type": "code",
   "execution_count": 9,
   "metadata": {},
   "outputs": [
    {
     "name": "stdout",
     "output_type": "stream",
     "text": [
      "(4, 72, 144)\n",
      "(72, 144)\n",
      "<xarray.DataArray 'MSL_GDS0_SFC' (lat: 72, lon: 144)>\n",
      "array([[100824.6 , 100824.6 , 100824.6 , ..., 100824.6 , 100824.6 ,\n",
      "        100824.6 ],\n",
      "       [100243.15, 100247.77, 100253.4 , ..., 100259.94, 100253.44,\n",
      "        100247.77],\n",
      "       [ 99846.35,  99874.48,  99851.52, ..., 100026.48,  99937.15,\n",
      "         99880.23],\n",
      "       ...,\n",
      "       [102820.85, 102822.23, 102824.94, ..., 102804.94, 102813.23,\n",
      "        102817.81],\n",
      "       [102873.69, 102879.85, 102886.85, ..., 102854.85, 102861.85,\n",
      "        102869.35],\n",
      "       [102807.19, 102810.77, 102814.1 , ..., 102792.31, 102797.56,\n",
      "        102802.48]], dtype=float32)\n",
      "Coordinates:\n",
      "  * lon      (lon) float64 -180.0 -177.5 -175.0 -172.5 ... 172.5 175.0 177.5\n",
      "  * lat      (lat) float64 -90.0 -87.5 -85.0 -82.5 -80.0 ... 80.0 82.5 85.0 87.5\n"
     ]
    }
   ],
   "source": [
    "#Import pandas\n",
    "import pandas as pd\n",
    "\n",
    "# # Find my directory with the regridded data\n",
    "# # Print the files contained within new_path_ASF20C\n",
    "# print(os.listdir(new_path_ASF20C))\n",
    "\n",
    "# Create an array of initialisation years\n",
    "years = np.arange(1901, 2011)\n",
    "\n",
    "# For a single file, collapse this into a DJF mean\n",
    "# First calculate the anomaly field\n",
    "# Then calculate the DJF mean anomalies\n",
    "# Then azores gridbox mean - iceland gridbox mean\n",
    "# Do this for a single file first as a test\n",
    "test_file = os.path.join(new_path_ASF20C, \"SLPmonthly_1901_M1_rg.nc\")\n",
    "\n",
    "# Read in the file\n",
    "ds = xr.open_dataset(test_file)\n",
    "\n",
    "# Extract the data for the variable: 'MSL_GDS0_SFC'\n",
    "data = ds['MSL_GDS0_SFC']\n",
    "\n",
    "# Print the shape of the data\n",
    "print(data.shape)\n",
    "\n",
    "# Take the mean over the time dimension\n",
    "djf_mean = data[1:, :, :].mean(axis=0)\n",
    "\n",
    "# Print the shape of the data\n",
    "print(djf_mean.shape)\n",
    "\n",
    "# Print the data\n",
    "print(djf_mean)"
   ]
  }
 ],
 "metadata": {
  "kernelspec": {
   "display_name": "Python 3",
   "language": "python",
   "name": "python3"
  },
  "language_info": {
   "codemirror_mode": {
    "name": "ipython",
    "version": 3
   },
   "file_extension": ".py",
   "mimetype": "text/x-python",
   "name": "python",
   "nbconvert_exporter": "python",
   "pygments_lexer": "ipython3",
   "version": "3.10.5"
  }
 },
 "nbformat": 4,
 "nbformat_minor": 2
}
