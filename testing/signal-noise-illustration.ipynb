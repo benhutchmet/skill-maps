{
 "cells": [
  {
   "cell_type": "markdown",
   "metadata": {},
   "source": [
    "### Illustrating signal-to-noise paradox ###\n",
    "\n",
    "Adapted from one of Doug's talks from 2020."
   ]
  },
  {
   "cell_type": "code",
   "execution_count": null,
   "metadata": {},
   "outputs": [],
   "source": [
    "import numpy as np\n",
    "import matplotlib.pyplot as plt"
   ]
  },
  {
   "cell_type": "code",
   "execution_count": null,
   "metadata": {},
   "outputs": [],
   "source": [
    "# Set up a figure\n",
    "fig, ax = plt.subplots()\n",
    "\n",
    "size = 70\n",
    "\n",
    "# Set up the x-axis\n",
    "x = np.linspace(0, 10, size)\n",
    "\n",
    "# Scale the x-values so that the sine function completes one full cycle in 10 units\n",
    "x_scaled = x * 2 * np.pi / 10\n",
    "\n",
    "# Set up the y-axis\n",
    "y = 8 * np.sin(x_scaled)\n",
    "\n",
    "\n",
    "x_noise = np.linspace(0, 10, size)\n",
    "\n",
    "# Generate a component of noise that varies with a lower frequency\n",
    "low_freq_noise = np.random.normal(0, 2.0, size) * np.sin(np.linspace(0, 20 * np.pi, size))\n",
    "\n",
    "# Generate a component of noise that varies with a higher frequency\n",
    "high_freq_noise = np.random.normal(0, 0.2, size) * np.sin(np.linspace(0, 60 * np.pi, size))\n",
    "\n",
    "# Add the two components of noise to the signal\n",
    "y_noise = y + low_freq_noise + high_freq_noise\n",
    "\n",
    "# Plot the noisy data\n",
    "ax.plot(x_noise, y_noise, color='k', label='Noisy Signal')\n",
    "\n",
    "# Plot a horizontal line at y=0\n",
    "ax.axhline(0, color='k', linestyle='--')\n",
    "\n",
    "# Plot the data\n",
    "ax.plot(x, y, color='r', label='Signal')"
   ]
  },
  {
   "cell_type": "code",
   "execution_count": null,
   "metadata": {},
   "outputs": [],
   "source": [
    "arr_path = \"/gws/nopw/j04/canari/users/benhutch/alternate-lag-processed-data/sfcWind_ONDJFM_global_1961_2014_2-9_4_20_1709294955.7179408_nao_matched_members.npy\"\n",
    "\n",
    "arr = np.load(arr_path)"
   ]
  },
  {
   "cell_type": "code",
   "execution_count": null,
   "metadata": {},
   "outputs": [],
   "source": [
    "# Print the shape of the array\n",
    "print(arr.shape)"
   ]
  },
  {
   "cell_type": "code",
   "execution_count": null,
   "metadata": {},
   "outputs": [],
   "source": [
    "# print the array\n",
    "print(arr)"
   ]
  }
 ],
 "metadata": {
  "kernelspec": {
   "display_name": "Python 3",
   "language": "python",
   "name": "python3"
  },
  "language_info": {
   "codemirror_mode": {
    "name": "ipython",
    "version": 3
   },
   "file_extension": ".py",
   "mimetype": "text/x-python",
   "name": "python",
   "nbconvert_exporter": "python",
   "pygments_lexer": "ipython3",
   "version": "3.10.5"
  }
 },
 "nbformat": 4,
 "nbformat_minor": 2
}
