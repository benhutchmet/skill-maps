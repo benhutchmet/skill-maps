{
 "cells": [
  {
   "cell_type": "markdown",
   "metadata": {},
   "source": [
    "### Years 1 and Years 2 NAO skill ###\n",
    "\n",
    "Looking at the skill of individual models for the NAO, years 1 and years 2."
   ]
  },
  {
   "cell_type": "code",
   "execution_count": null,
   "metadata": {},
   "outputs": [],
   "source": [
    "%matplotlib inline\n",
    "%autosave 60\n",
    "%load_ext autoreload\n",
    "%autoreload 2\n",
    "\n",
    "import os\n",
    "import pathlib\n",
    "import sys\n",
    "\n",
    "import dask_gateway\n",
    "\n",
    "import dask.array as da\n",
    "import numpy as np\n",
    "import time"
   ]
  },
  {
   "cell_type": "code",
   "execution_count": null,
   "metadata": {},
   "outputs": [],
   "source": [
    "# Import the dictionaries\n",
    "sys.path.append('/home/users/benhutch/skill-maps/')\n",
    "\n",
    "# Import the dictionaries\n",
    "import dictionaries as dicts\n",
    "\n",
    "# Import the functions\n",
    "from years_1_2_model_skill_xr_functions import *"
   ]
  },
  {
   "cell_type": "code",
   "execution_count": null,
   "metadata": {},
   "outputs": [],
   "source": [
    "# Test the function for loading the data\n",
    "azores_winter1 = load_model_data_xarray(model_variable=\"psl\",\n",
    "                                        model=\"HadGEM3-GC31-MM\",\n",
    "                                        experiment=\"dcppA-hindcast\",\n",
    "                                        start_year=1960,\n",
    "                                        end_year=2018,\n",
    "                                        grid=dicts.azores_grid_corrected,\n",
    "                                        first_fcst_year=1960,\n",
    "                                        last_fcst_year=1961,\n",
    "                                        start_month=1,\n",
    "                                        end_month=12,)"
   ]
  },
  {
   "cell_type": "code",
   "execution_count": null,
   "metadata": {},
   "outputs": [],
   "source": [
    "azores_winter1"
   ]
  },
  {
   "cell_type": "code",
   "execution_count": null,
   "metadata": {},
   "outputs": [],
   "source": [
    "# Print the values of the data\n",
    "print(azores_winter1.psl.values)"
   ]
  },
  {
   "cell_type": "code",
   "execution_count": null,
   "metadata": {},
   "outputs": [],
   "source": [
    "# Calculate and remove the climatology\n",
    "# Take the mean over ensemble members and time\n",
    "azores_winter1_clim = azores_winter1.mean(dim=[\"ensemble_member\", \"time\"])\n",
    "\n",
    "# Calculate the anomaly\n",
    "azores_winter1_anom = azores_winter1 - azores_winter1_clim"
   ]
  },
  {
   "cell_type": "code",
   "execution_count": null,
   "metadata": {},
   "outputs": [],
   "source": [
    "# Calculate the ensemble mean\n",
    "azores_winter1_ens_mean = azores_winter1_anom.mean(dim=\"ensemble_member\")"
   ]
  },
  {
   "cell_type": "code",
   "execution_count": null,
   "metadata": {},
   "outputs": [],
   "source": [
    "# Compute the ensemble mean\n",
    "azores_winter1_ens_mean.psl.values"
   ]
  }
 ],
 "metadata": {
  "kernelspec": {
   "display_name": "Python 3",
   "language": "python",
   "name": "python3"
  },
  "language_info": {
   "codemirror_mode": {
    "name": "ipython",
    "version": 3
   },
   "file_extension": ".py",
   "mimetype": "text/x-python",
   "name": "python",
   "nbconvert_exporter": "python",
   "pygments_lexer": "ipython3",
   "version": "3.10.5"
  }
 },
 "nbformat": 4,
 "nbformat_minor": 4
}
