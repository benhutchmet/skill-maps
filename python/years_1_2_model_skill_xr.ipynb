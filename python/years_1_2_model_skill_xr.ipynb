{
 "cells": [
  {
   "cell_type": "markdown",
   "metadata": {},
   "source": [
    "### Years 1 and Years 2 NAO skill ###\n",
    "\n",
    "Looking at the skill of individual models for the NAO, years 1 and years 2."
   ]
  },
  {
   "cell_type": "code",
   "execution_count": null,
   "metadata": {},
   "outputs": [],
   "source": [
    "%matplotlib inline\n",
    "%autosave 60\n",
    "%load_ext autoreload\n",
    "%autoreload 2\n",
    "\n",
    "import os\n",
    "import pathlib\n",
    "import sys\n",
    "\n",
    "import dask_gateway\n",
    "\n",
    "import dask.array as da\n",
    "import numpy as np\n",
    "import time"
   ]
  },
  {
   "cell_type": "code",
   "execution_count": null,
   "metadata": {},
   "outputs": [],
   "source": [
    "# Import the dictionaries\n",
    "sys.path.append('/home/users/benhutch/skill-maps/')\n",
    "\n",
    "# Import the dictionaries\n",
    "import dictionaries as dicts\n",
    "\n",
    "# Import the functions\n",
    "from years_1_2_model_skill_xr_functions import *"
   ]
  },
  {
   "cell_type": "code",
   "execution_count": null,
   "metadata": {},
   "outputs": [],
   "source": [
    "# Create a list of the models\n",
    "models = [\"BCC-CSM2-MR\"]"
   ]
  },
  {
   "cell_type": "code",
   "execution_count": null,
   "metadata": {},
   "outputs": [],
   "source": [
    "# Test the function for loading the data\n",
    "azores_winter1 = load_model_data_xarray(model_variable=\"psl\",\n",
    "                                        model=\"HadGEM3-GC31-MM\",\n",
    "                                        experiment=\"dcppA-hindcast\",\n",
    "                                        start_year=1960,\n",
    "                                        end_year=2018,\n",
    "                                        grid=dicts.azores_grid_corrected,\n",
    "                                        first_fcst_year=1960,\n",
    "                                        last_fcst_year=1960,\n",
    "                                        start_month=1,\n",
    "                                        end_month=12,)\n",
    "\n",
    "iceland_winter1 = load_model_data_xarray(model_variable=\"psl\",\n",
    "                                            model=\"HadGEM3-GC31-MM\",\n",
    "                                            experiment=\"dcppA-hindcast\",\n",
    "                                            start_year=1960,\n",
    "                                            end_year=2018,\n",
    "                                            grid=dicts.iceland_grid_corrected,\n",
    "                                            first_fcst_year=1960,\n",
    "                                            last_fcst_year=1960,\n",
    "                                            start_month=1,\n",
    "                                            end_month=12,)"
   ]
  },
  {
   "cell_type": "code",
   "execution_count": null,
   "metadata": {},
   "outputs": [],
   "source": [
    "azores_winter2 = load_model_data_xarray(model_variable=\"psl\",\n",
    "                                        model=\"HadGEM3-GC31-MM\",\n",
    "                                        experiment=\"dcppA-hindcast\",\n",
    "                                        start_year=1960,\n",
    "                                        end_year=2018,\n",
    "                                        grid=dicts.azores_grid_corrected,\n",
    "                                        first_fcst_year=1961,\n",
    "                                        last_fcst_year=1961,\n",
    "                                        start_month=1,\n",
    "                                        end_month=12,)\n",
    "\n",
    "iceland_winter2 = load_model_data_xarray(model_variable=\"psl\",\n",
    "                                            model=\"HadGEM3-GC31-MM\",\n",
    "                                            experiment=\"dcppA-hindcast\",\n",
    "                                            start_year=1960,\n",
    "                                            end_year=2018,\n",
    "                                            grid=dicts.iceland_grid_corrected,\n",
    "                                            first_fcst_year=1961,\n",
    "                                            last_fcst_year=1961,\n",
    "                                            start_month=1,\n",
    "                                            end_month=12,)"
   ]
  },
  {
   "cell_type": "code",
   "execution_count": null,
   "metadata": {},
   "outputs": [],
   "source": [
    "azores_winter1"
   ]
  },
  {
   "cell_type": "code",
   "execution_count": null,
   "metadata": {},
   "outputs": [],
   "source": [
    "azores_winter2"
   ]
  },
  {
   "cell_type": "code",
   "execution_count": null,
   "metadata": {},
   "outputs": [],
   "source": [
    "# Calculate and remove the climatology\n",
    "# Take the mean over ensemble members and time\n",
    "azores_winter1_clim = azores_winter1.mean(dim=[\"ensemble_member\", \"time\"])\n",
    "\n",
    "# Calculate the anomaly\n",
    "azores_winter1_anom = azores_winter1 - azores_winter1_clim\n",
    "\n",
    "# Take the mean over ensemble members and time\n",
    "iceland_winter1_clim = iceland_winter1.mean(dim=[\"ensemble_member\", \"time\"])\n",
    "\n",
    "# Calculate the anomaly\n",
    "iceland_winter1_anom = iceland_winter1 - iceland_winter1_clim"
   ]
  },
  {
   "cell_type": "code",
   "execution_count": null,
   "metadata": {},
   "outputs": [],
   "source": [
    "# Calculate and remove the climatology\n",
    "# Take the mean over ensemble members and time\n",
    "azores_winter2_clim = azores_winter2.mean(dim=[\"ensemble_member\", \"time\"])\n",
    "\n",
    "# Calculate the anomaly\n",
    "azores_winter2_anom = azores_winter2 - azores_winter2_clim\n",
    "\n",
    "# Take the mean over ensemble members and time\n",
    "iceland_winter2_clim = iceland_winter2.mean(dim=[\"ensemble_member\", \"time\"])\n",
    "\n",
    "# Calculate the anomaly\n",
    "iceland_winter2_anom = iceland_winter2 - iceland_winter2_clim"
   ]
  },
  {
   "cell_type": "code",
   "execution_count": null,
   "metadata": {},
   "outputs": [],
   "source": [
    "# Calculate the nao\n",
    "nao_winter1 = azores_winter1_anom - iceland_winter1_anom"
   ]
  },
  {
   "cell_type": "code",
   "execution_count": null,
   "metadata": {},
   "outputs": [],
   "source": [
    "# Calculate the nao\n",
    "nao_winter2 = azores_winter2_anom - iceland_winter2_anom"
   ]
  },
  {
   "cell_type": "code",
   "execution_count": null,
   "metadata": {},
   "outputs": [],
   "source": [
    "# Load the observations\n",
    "regrid_obs_path = \"/home/users/benhutch/ERA5/global_regrid_sel_region.nc\"\n",
    "\n",
    "# Open the obs\n",
    "obs = xr.open_mfdataset(regrid_obs_path,\n",
    "                        combine=\"by_coords\",\n",
    "                        parallel=True,\n",
    "                        chunks={\"time\": 10, \"lat\": 50, \"lon\": 50})[\"msl\"]\n",
    "\n",
    "# Combine the first two expver variables\n",
    "# Combine the first two expver variables\n",
    "obs = obs.sel(expver=1).combine_first(obs.sel(expver=5))"
   ]
  },
  {
   "cell_type": "code",
   "execution_count": null,
   "metadata": {},
   "outputs": [],
   "source": [
    "# Set up the lats and lons\n",
    "ilat1, ilat2 = dicts.iceland_grid_corrected[\"lat1\"], dicts.iceland_grid_corrected[\"lat2\"]\n",
    "\n",
    "ilon1, ilon2 = dicts.iceland_grid_corrected[\"lon1\"], dicts.iceland_grid_corrected[\"lon2\"]\n",
    "\n",
    "# For the azores\n",
    "alat1, alat2 = dicts.azores_grid_corrected[\"lat1\"], dicts.azores_grid_corrected[\"lat2\"]\n",
    "\n",
    "alon1, alon2 = dicts.azores_grid_corrected[\"lon1\"], dicts.azores_grid_corrected[\"lon2\"]"
   ]
  },
  {
   "cell_type": "code",
   "execution_count": null,
   "metadata": {},
   "outputs": [],
   "source": [
    "# Select the region\n",
    "obs_iceland = obs.sel(lat=slice(ilat1, ilat2),\n",
    "                       lon=slice(ilon1, ilon2)).mean(dim=[\"lat\", \"lon\"])\n",
    "\n",
    "# Select the region\n",
    "obs_azores = obs.sel(lat=slice(alat1, alat2),\n",
    "                      lon=slice(alon1, alon2)).mean(dim=[\"lat\", \"lon\"])\n",
    "\n",
    "# Select the months\n",
    "months = [12, 1, 2, 3] # DJFM\n",
    "\n",
    "# Select the years\n",
    "years = np.arange(1960, 2019 + 1)\n",
    "\n",
    "# Constrain the obs to the same years\n",
    "obs_iceland = obs_iceland.sel(time=obs_iceland[\"time.year\"].isin(years))\n",
    "\n",
    "# Constrain the obs to the same years\n",
    "obs_azores = obs_azores.sel(time=obs_azores[\"time.year\"].isin(years))\n",
    "\n",
    "# Constrain the obs to the same months\n",
    "obs_iceland = obs_iceland.sel(time=obs_iceland[\"time.month\"].isin(months))\n",
    "\n",
    "# Constrain the obs to the same months\n",
    "obs_azores = obs_azores.sel(time=obs_azores[\"time.month\"].isin(months))"
   ]
  },
  {
   "cell_type": "code",
   "execution_count": null,
   "metadata": {},
   "outputs": [],
   "source": [
    "# Look at the obs\n",
    "obs_iceland"
   ]
  },
  {
   "cell_type": "code",
   "execution_count": null,
   "metadata": {},
   "outputs": [],
   "source": [
    "# Look at the obs\n",
    "obs_azores"
   ]
  },
  {
   "cell_type": "code",
   "execution_count": null,
   "metadata": {},
   "outputs": [],
   "source": [
    "# Remove the initial and final time points\n",
    "obs_iceland = obs_iceland.isel(time=slice(3, -1))\n",
    "\n",
    "# Remove the initial and final time points\n",
    "obs_azores = obs_azores.isel(time=slice(3, -1))"
   ]
  },
  {
   "cell_type": "code",
   "execution_count": null,
   "metadata": {},
   "outputs": [],
   "source": [
    "# Calculate the climatology\n",
    "obs_iceland_clim = obs_iceland.mean(dim=\"time\")\n",
    "\n",
    "# Calculate the anomaly\n",
    "obs_iceland_anom = obs_iceland - obs_iceland_clim\n",
    "\n",
    "# Calculate the climatology\n",
    "obs_azores_clim = obs_azores.mean(dim=\"time\")\n",
    "\n",
    "# Calculate the anomaly\n",
    "obs_azores_anom = obs_azores - obs_azores_clim"
   ]
  },
  {
   "cell_type": "code",
   "execution_count": null,
   "metadata": {},
   "outputs": [],
   "source": [
    "# Because DJFM\n",
    "# Shift back by -3 and then calculate the annual mean anomalies\n",
    "obs_iceland_anom = obs_iceland_anom.shift(time=-3).resample(time=\"Y\").mean(\"time\")\n",
    "\n",
    "# Because DJFM\n",
    "# Shift back by -3 and then calculate the annual mean anomalies\n",
    "obs_azores_anom = obs_azores_anom.shift(time=-3).resample(time=\"Y\").mean(\"time\")"
   ]
  },
  {
   "cell_type": "code",
   "execution_count": null,
   "metadata": {},
   "outputs": [],
   "source": [
    "# Reset the time axis to be july for each year\n",
    "obs_iceland_anom[\"time\"] = obs_iceland_anom[\"time.year\"]\n",
    "\n",
    "# Reset the time axis to be july for each year\n",
    "obs_azores_anom[\"time\"] = obs_azores_anom[\"time.year\"]"
   ]
  },
  {
   "cell_type": "code",
   "execution_count": null,
   "metadata": {},
   "outputs": [],
   "source": [
    "# Calculate the nao\n",
    "nao_obs = obs_azores_anom - obs_iceland_anom"
   ]
  },
  {
   "cell_type": "code",
   "execution_count": null,
   "metadata": {},
   "outputs": [],
   "source": [
    "# Have a look at the obs\n",
    "nao_obs"
   ]
  },
  {
   "cell_type": "code",
   "execution_count": null,
   "metadata": {},
   "outputs": [],
   "source": [
    "# Set the nao_winter1 time axis to be the same as the obs\n",
    "nao_winter1[\"time\"] = nao_winter1[\"time.year\"]\n",
    "\n",
    "# Set the nao_winter2 time axis to be the same as the obs\n",
    "nao_winter2[\"time\"] = nao_winter2[\"time.year\"]"
   ]
  },
  {
   "cell_type": "code",
   "execution_count": null,
   "metadata": {},
   "outputs": [],
   "source": [
    "# Divide the values by 100\n",
    "nao_winter1 = nao_winter1 / 100\n",
    "\n",
    "# Divide the values by 100\n",
    "nao_winter2 = nao_winter2 / 100\n",
    "\n",
    "# Divide the obs by 100\n",
    "nao_obs = nao_obs / 100"
   ]
  },
  {
   "cell_type": "code",
   "execution_count": null,
   "metadata": {},
   "outputs": [],
   "source": [
    "# Calculate the ensemble mean\n",
    "ensemble_mean = nao_winter1.psl.mean(dim='ensemble_member')\n",
    "\n",
    "# Plot the individual ensemble members as points\n",
    "nao_winter1.psl.plot.line(x=\"time\", hue=\"ensemble_member\", marker='o',\n",
    "                          linestyle='', color='grey', alpha=0.5, add_legend=False)\n",
    "\n",
    "# Plot the ensemble mean as a line\n",
    "ensemble_mean.plot.line(x=\"time\", add_legend=False, color='red',\n",
    "                        label=\"dcppA\")\n",
    "\n",
    "# Plot the obs\n",
    "nao_obs.plot.line(x=\"time\", color='k', add_legend=False,\n",
    "                  label=\"ERA5\")\n",
    "\n",
    "# Calculate the correlation between the ensemble mean and the obs\n",
    "correlation = xr.corr(nao_obs, ensemble_mean)\n",
    "\n",
    "# Add the correlation to the plot\n",
    "plt.text(0.05, 0.95, f\"Correlation: {correlation.values:.2f}\",\n",
    "         horizontalalignment='left',\n",
    "         verticalalignment='top',\n",
    "         transform=plt.gca().transAxes,\n",
    "         bbox=dict(facecolor='white', alpha=0.5))\n",
    "\n",
    "# Include a horizontal line at 0\n",
    "plt.axhline(0, color='k', linestyle='--')\n",
    "\n",
    "# Add the legend\n",
    "plt.legend()"
   ]
  },
  {
   "cell_type": "code",
   "execution_count": null,
   "metadata": {},
   "outputs": [],
   "source": [
    "years = np.arange(1982, 2017 + 1)\n",
    "\n",
    "# Constrain nao_winter2 to the same years\n",
    "nao_winter2 = nao_winter2.sel(time=nao_winter2[\"time\"].isin(years))\n",
    "\n",
    "# Constrain nao_obs to the same years\n",
    "nao_obs = nao_obs.sel(time=nao_obs[\"time\"].isin(years))"
   ]
  },
  {
   "cell_type": "code",
   "execution_count": null,
   "metadata": {},
   "outputs": [],
   "source": [
    "# Do the same for the second year\n",
    "# Calculate the ensemble mean\n",
    "ensemble_mean = nao_winter2.psl.mean(dim='ensemble_member')\n",
    "\n",
    "# # Extract the time axis from the model data\n",
    "# time = nao_winter2[\"time\"]\n",
    "\n",
    "# # Make sure that the obs has the same time axis\n",
    "# nao_obs = nao_obs.sel(time=time)\n",
    "\n",
    "# # Extract the time axis from the obs data\n",
    "# time = nao_obs[\"time\"]\n",
    "\n",
    "# # Make sure that the model data has the same time axis\n",
    "# nao_winter2 = nao_winter2.sel(time=time)\n",
    "\n",
    "# Plot the individual ensemble members as points\n",
    "nao_winter2.psl.plot.line(x=\"time\", hue=\"ensemble_member\", marker='o',\n",
    "                          linestyle='', color='grey', alpha=0.5, add_legend=False)\n",
    "\n",
    "# Plot the ensemble mean as a line\n",
    "ensemble_mean.plot.line(x=\"time\", add_legend=False, color='red',\n",
    "                        label=\"dcppA\")\n",
    "\n",
    "# Plot the obs\n",
    "nao_obs.plot.line(x=\"time\", color='k', add_legend=False,\n",
    "                  label=\"ERA5\")\n",
    "\n",
    "# Calculate the correlation between the ensemble mean and the obs\n",
    "correlation = xr.corr(nao_obs, ensemble_mean)\n",
    "\n",
    "# Add the correlation to the plot\n",
    "plt.text(0.05, 0.95, f\"Correlation: {correlation.values:.2f}\",\n",
    "         horizontalalignment='left',\n",
    "         verticalalignment='top',\n",
    "         transform=plt.gca().transAxes,\n",
    "         bbox=dict(facecolor='white', alpha=0.5))\n",
    "\n",
    "# Include a horizontal line at 0\n",
    "plt.axhline(0, color='k', linestyle='--')\n",
    "\n",
    "# Add the legend\n",
    "plt.legend()"
   ]
  },
  {
   "cell_type": "code",
   "execution_count": null,
   "metadata": {},
   "outputs": [],
   "source": [
    "# Plot the individual ensemble members as points\n",
    "nao_winter1.psl.plot.line(x=\"time\", hue=\"ensemble_member\", marker='o',\n",
    "                          linestyle='', color='grey', alpha=0.5, add_legend=False)"
   ]
  }
 ],
 "metadata": {
  "kernelspec": {
   "display_name": "Python 3",
   "language": "python",
   "name": "python3"
  },
  "language_info": {
   "codemirror_mode": {
    "name": "ipython",
    "version": 3
   },
   "file_extension": ".py",
   "mimetype": "text/x-python",
   "name": "python",
   "nbconvert_exporter": "python",
   "pygments_lexer": "ipython3",
   "version": "3.10.5"
  }
 },
 "nbformat": 4,
 "nbformat_minor": 4
}
