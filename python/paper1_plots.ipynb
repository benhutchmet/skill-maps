{
 "cells": [
  {
   "cell_type": "markdown",
   "metadata": {},
   "source": [
    "# Plots for paper 1 #\n",
    "\n",
    "Looking at the decadal predictability of surface variables over Europe\n",
    "\n",
    "First set of plots will be a 2 x 2 matrix of skill plots (raw or lagged) for the different variables.\n",
    "\n",
    "Then we will combine this with the long period lagged and var adjusted NAO plots."
   ]
  },
  {
   "cell_type": "code",
   "execution_count": null,
   "metadata": {},
   "outputs": [],
   "source": [
    "# Local Imports\n",
    "import os\n",
    "import sys\n",
    "import glob\n",
    "\n",
    "# Third-Party Imports\n",
    "import numpy as np\n",
    "import matplotlib.pyplot as plt"
   ]
  },
  {
   "cell_type": "code",
   "execution_count": null,
   "metadata": {},
   "outputs": [],
   "source": [
    "# Local imports\n",
    "sys.path.append(\"/home/users/benhutch/skill-maps\")\n",
    "import dictionaries as dicts\n",
    "\n",
    "# # Import functions from skill-maps\n",
    "sys.path.append(\"/home/users/benhutch/skill-maps/python\")\n",
    "# import functions as fnc\n",
    "import plotting_functions as plt_fnc\n",
    "\n",
    "# Import functions\n",
    "import functions as fnc\n",
    "\n",
    "# Import functions from plot_init_benefit\n",
    "sys.path.append(\"/home/users/benhutch/skill-maps/rose-suite-matching\")\n",
    "import plot_init_benefit as pib_fnc"
   ]
  },
  {
   "cell_type": "code",
   "execution_count": null,
   "metadata": {},
   "outputs": [],
   "source": [
    "# Set up global variables\n",
    "bootstrap_base_dir = \"/gws/nopw/j04/canari/users/benhutch/bootstrapping\"\n",
    "plots_dir = \"/home/users/benhutch/skill-maps-europe\"\n",
    "region = \"global\"\n",
    "forecast_range = \"2-9\"\n",
    "\n",
    "# Set up the lists\n",
    "seasons_list = [\"DJFM\", \"MAM\", \"JJA\", \"SON\"]\n",
    "methods_list = [\"raw\", \"lagged\", \"nao_matched\"]\n",
    "variables_list = [\"tas\", \"sfcWind\", \"rsds\", \"psl\"] # Will replace psl with pr at some point"
   ]
  },
  {
   "cell_type": "markdown",
   "metadata": {},
   "source": [
    "### Testing bootstrapping function ###\n",
    "\n",
    "The function *forecast_stats* generates all of the forecast stats, however, it currently only runs between 1969 and 2011 (?). We want to test this function so we can calculate the raw forecast stats from initialisation in 1961 to initialisation in 2014."
   ]
  },
  {
   "cell_type": "code",
   "execution_count": null,
   "metadata": {},
   "outputs": [],
   "source": []
  }
 ],
 "metadata": {
  "language_info": {
   "name": "python"
  }
 },
 "nbformat": 4,
 "nbformat_minor": 2
}
