{
 "cells": [
  {
   "cell_type": "markdown",
   "metadata": {},
   "source": [
    "# Plots for paper 1 #\n",
    "\n",
    "Looking at the decadal predictability of surface variables over Europe\n",
    "\n",
    "First set of plots will be a 2 x 2 matrix of skill plots (raw or lagged) for the different variables.\n",
    "\n",
    "Then we will combine this with the long period lagged and var adjusted NAO plots."
   ]
  },
  {
   "cell_type": "code",
   "execution_count": 1,
   "metadata": {},
   "outputs": [],
   "source": [
    "# Notebook magic\n",
    "%matplotlib inline\n",
    "# Autoreload\n",
    "%load_ext autoreload\n",
    "%autoreload 2\n",
    "\n",
    "# Local Imports\n",
    "import os\n",
    "import sys\n",
    "import glob\n",
    "\n",
    "# Third-Party Imports\n",
    "import numpy as np\n",
    "import matplotlib.pyplot as plt"
   ]
  },
  {
   "cell_type": "code",
   "execution_count": 2,
   "metadata": {},
   "outputs": [
    {
     "name": "stderr",
     "output_type": "stream",
     "text": [
      "ERROR 1: PROJ: proj_create_from_database: Open of /apps/jasmin/jaspy/mambaforge_envs/jaspy3.10/mf-22.11.1-4/envs/jaspy3.10-mf-22.11.1-4-r20230718/share/proj failed\n"
     ]
    }
   ],
   "source": [
    "# Local imports\n",
    "sys.path.append(\"/home/users/benhutch/skill-maps\")\n",
    "import dictionaries as dicts\n",
    "\n",
    "# # Import functions from skill-maps\n",
    "sys.path.append(\"/home/users/benhutch/skill-maps/python\")\n",
    "# import functions as fnc\n",
    "import plotting_functions as plt_fnc\n",
    "\n",
    "# Import functions\n",
    "import functions as fnc\n",
    "\n",
    "# Import functions from plot_init_benefit\n",
    "sys.path.append(\"/home/users/benhutch/skill-maps/rose-suite-matching\")\n",
    "import plot_init_benefit as pib_fnc\n",
    "\n",
    "# Import the nao_matching_seasons functions\n",
    "import nao_matching_seasons as nao_match_fnc\n",
    "\n",
    "# Import the functions from process_bs_values\n",
    "import process_bs_values as pbs_func\n",
    "\n",
    "# Import the functions from nao_alt_lag_functions\n",
    "import nao_alt_lag_functions as nal_fnc"
   ]
  },
  {
   "cell_type": "code",
   "execution_count": 3,
   "metadata": {},
   "outputs": [],
   "source": [
    "# Import the functions from paper1_plots_functions\n",
    "import paper1_plots_functions as p1_fnc"
   ]
  },
  {
   "cell_type": "markdown",
   "metadata": {},
   "source": [
    "## Exploring time series ###\n",
    "\n",
    "E.g. looking at what happens with MSLP over the Rocky Mountains during winter, or over Greenland for MSLP during the summer compared to over the UK."
   ]
  },
  {
   "cell_type": "code",
   "execution_count": null,
   "metadata": {},
   "outputs": [],
   "source": [
    "# Set up the variables\n",
    "season = \"ONDJFM\"\n",
    "forecast_range = \"2-9\"\n",
    "start_year = 1961\n",
    "end_year = 2014\n",
    "lag = 4\n",
    "alt_lag = \"nao_matched\"\n",
    "region = \"global\"\n",
    "variable = \"sfcWind\"\n",
    "grid = dicts.northern_europe_grid\n",
    "gridbox_name = \"North Europe Grid\""
   ]
  },
  {
   "cell_type": "code",
   "execution_count": null,
   "metadata": {},
   "outputs": [],
   "source": [
    "data = nal_fnc.load_data(\n",
    "    season=season,\n",
    "    forecast_range=forecast_range,\n",
    "    start_year=start_year,\n",
    "    end_year=end_year,\n",
    "    lag=lag,\n",
    "    method=alt_lag,\n",
    "    region=region,\n",
    "    variable=variable,\n",
    ")"
   ]
  },
  {
   "cell_type": "code",
   "execution_count": null,
   "metadata": {},
   "outputs": [],
   "source": [
    "print(np.shape(data))"
   ]
  },
  {
   "cell_type": "code",
   "execution_count": null,
   "metadata": {},
   "outputs": [],
   "source": [
    "# importlib\n",
    "import importlib\n",
    "\n",
    "# Reload the dictionaries\n",
    "importlib.reload(sys.modules[\"dictionaries\"])\n",
    "\n",
    "# Import the dictionaries\n",
    "import dictionaries as dicts"
   ]
  },
  {
   "cell_type": "code",
   "execution_count": null,
   "metadata": {},
   "outputs": [],
   "source": [
    "# Take a look at the rocky mountains grid box\n",
    "p1_fnc.show_gridbox(\n",
    "    grid=grid,\n",
    "    grid_name=gridbox_name,\n",
    "    figsize_x=10,\n",
    "    figsize_y=12,\n",
    ")"
   ]
  },
  {
   "cell_type": "code",
   "execution_count": null,
   "metadata": {},
   "outputs": [],
   "source": [
    "# Load the time series for the rocky mountains\n",
    "rm_dict = p1_fnc.load_ts_data(\n",
    "    data=data,\n",
    "    season=season,\n",
    "    forecast_range=forecast_range,\n",
    "    start_year=start_year,\n",
    "    end_year=end_year,\n",
    "    lag=lag,\n",
    "    gridbox=grid,\n",
    "    gridbox_name=gridbox_name,\n",
    "    variable=variable,\n",
    "    alt_lag=alt_lag,  # Set to True to use the alternative lag, false raw\n",
    "    region=region,\n",
    ")"
   ]
  },
  {
   "cell_type": "code",
   "execution_count": null,
   "metadata": {},
   "outputs": [],
   "source": [
    "# Plot the time series\n",
    "p1_fnc.plot_ts(\n",
    "    ts_dict=rm_dict,\n",
    "    figsize_x=10,\n",
    "    figsize_y=6,\n",
    "    trendline=True,\n",
    ")"
   ]
  },
  {
   "cell_type": "code",
   "execution_count": null,
   "metadata": {},
   "outputs": [],
   "source": [
    "# Create two copies of the data\n",
    "rm_dict_copy = rm_dict.copy()\n",
    "rm_dict_copy2 = rm_dict.copy()"
   ]
  },
  {
   "cell_type": "code",
   "execution_count": null,
   "metadata": {},
   "outputs": [],
   "source": [
    "# Set the constrain years\n",
    "constrain_years = np.arange(1961, 2005 + 1)\n",
    "\n",
    "# Test the plotting function\n",
    "p1_fnc.plot_ts(\n",
    "    ts_dict=rm_dict_copy,\n",
    "    figsize_x=10,\n",
    "    figsize_y=6,\n",
    "    trendline=True,\n",
    "    constrain_years=constrain_years,\n",
    ")"
   ]
  },
  {
   "cell_type": "code",
   "execution_count": null,
   "metadata": {},
   "outputs": [],
   "source": [
    "# Set the constrain years\n",
    "constrain_years = np.arange(2005, 2014 + 1)\n",
    "\n",
    "# Test the plotting function\n",
    "p1_fnc.plot_ts(\n",
    "    ts_dict=rm_dict_copy2,\n",
    "    figsize_x=10,\n",
    "    figsize_y=6,\n",
    "    trendline=True,\n",
    "    constrain_years=constrain_years,\n",
    ")"
   ]
  },
  {
   "cell_type": "code",
   "execution_count": 43,
   "metadata": {},
   "outputs": [],
   "source": [
    "# Set up the variables\n",
    "variables = [\"sfcWind\", \"sfcWind\", \"sfcWind\", \"sfcWind\"]\n",
    "no_bootstraps_list = [1, 1, 1, 1]\n",
    "season = \"DJFM\"\n",
    "forecast_range = \"2-9\"\n",
    "methods = [\"nao_matched\", \"alt_lag\", \"nao_matched\", \"alt_lag\"]\n",
    "# method = \"new_raw\""
   ]
  },
  {
   "cell_type": "code",
   "execution_count": 44,
   "metadata": {},
   "outputs": [
    {
     "name": "stdout",
     "output_type": "stream",
     "text": [
      "Checking whether bootstraps exist for method nao_matched...\n",
      "Checking whether bootstraps exist for variable sfcWind...\n",
      "Checking whether bootstraps exist for 1 bootstraps...\n",
      "Checking whether bootstraps exist for variable sfcWind...\n",
      "Checking whether bootstraps exist for 1 bootstraps...\n",
      "Checking whether bootstraps exist for variable sfcWind...\n",
      "Checking whether bootstraps exist for 1 bootstraps...\n",
      "Checking whether bootstraps exist for variable sfcWind...\n",
      "Checking whether bootstraps exist for 1 bootstraps...\n",
      "Checking whether bootstraps exist for method alt_lag...\n",
      "Checking whether bootstraps exist for variable sfcWind...\n",
      "Checking whether bootstraps exist for 1 bootstraps...\n",
      "Checking whether bootstraps exist for variable sfcWind...\n",
      "Checking whether bootstraps exist for 1 bootstraps...\n",
      "Checking whether bootstraps exist for variable sfcWind...\n",
      "Checking whether bootstraps exist for 1 bootstraps...\n",
      "Checking whether bootstraps exist for variable sfcWind...\n",
      "Checking whether bootstraps exist for 1 bootstraps...\n",
      "Checking whether bootstraps exist for method nao_matched...\n",
      "Checking whether bootstraps exist for variable sfcWind...\n",
      "Checking whether bootstraps exist for 1 bootstraps...\n",
      "Checking whether bootstraps exist for variable sfcWind...\n",
      "Checking whether bootstraps exist for 1 bootstraps...\n",
      "Checking whether bootstraps exist for variable sfcWind...\n",
      "Checking whether bootstraps exist for 1 bootstraps...\n",
      "Checking whether bootstraps exist for variable sfcWind...\n",
      "Checking whether bootstraps exist for 1 bootstraps...\n",
      "Checking whether bootstraps exist for method alt_lag...\n",
      "Checking whether bootstraps exist for variable sfcWind...\n",
      "Checking whether bootstraps exist for 1 bootstraps...\n",
      "Checking whether bootstraps exist for variable sfcWind...\n",
      "Checking whether bootstraps exist for 1 bootstraps...\n",
      "Checking whether bootstraps exist for variable sfcWind...\n",
      "Checking whether bootstraps exist for 1 bootstraps...\n",
      "Checking whether bootstraps exist for variable sfcWind...\n",
      "Checking whether bootstraps exist for 1 bootstraps...\n"
     ]
    }
   ],
   "source": [
    "# Check whether the files exist\n",
    "existing_files = p1_fnc.check_bootstraps_exist(\n",
    "    variables=variables,\n",
    "    no_bootstraps=no_bootstraps_list,\n",
    "    season=season,\n",
    "    forecast_range=forecast_range,\n",
    "    method=methods,\n",
    ")"
   ]
  },
  {
   "cell_type": "code",
   "execution_count": 45,
   "metadata": {},
   "outputs": [
    {
     "name": "stdout",
     "output_type": "stream",
     "text": [
      "{('nao_matched', 'sfcWind', 'nboot_1'): ['common_years.npy', 'corr10_max_sfcWind_global_DJFM_2-9.npy', 'corr10_min_sfcWind_global_DJFM_2-9.npy', 'corr10_p_sfcWind_global_DJFM_2-9.npy', 'corr10_sfcWind_global_DJFM_2-9.npy', 'corr1_max_sfcWind_global_DJFM_2-9.npy', 'corr1_min_sfcWind_global_DJFM_2-9.npy', 'corr1_p_sfcWind_global_DJFM_2-9.npy', 'corr1_p_sfcWind_global_DJFM_2-9_short.npy', 'corr1_sfcWind_global_DJFM_2-9.npy', 'corr1_sfcWind_global_DJFM_2-9_short.npy', 'corr2_max_sfcWind_global_DJFM_2-9.npy', 'corr2_min_sfcWind_global_DJFM_2-9.npy', 'corr2_p_sfcWind_global_DJFM_2-9.npy', 'corr2_sfcWind_global_DJFM_2-9.npy', 'corr_diff_max_sfcWind_global_DJFM_2-9.npy', 'corr_diff_min_sfcWind_global_DJFM_2-9.npy', 'corr_diff_p_sfcWind_global_DJFM_2-9.npy', 'corr_diff_sfcWind_global_DJFM_2-9.npy', 'fcst10_ts_sfcWind_global_DJFM_2-9.npy', 'fcst1_em_resid_sfcWind_global_DJFM_2-9.npy', 'fcst1_ts_sfcWind_global_DJFM_2-9.npy', 'fcst1_ts_sfcWind_global_DJFM_2-9_short.npy', 'fcst2_ts_sfcWind_global_DJFM_2-9.npy', 'msss1_max_sfcWind_global_DJFM_2-9.npy', 'msss1_min_sfcWind_global_DJFM_2-9.npy', 'msss1_p_sfcWind_global_DJFM_2-9.npy', 'msss1_sfcWind_global_DJFM_2-9.npy', 'nens1_sfcWind_global_DJFM_2-9.txt', 'nens2_sfcWind_global_DJFM_2-9.txt', 'obs_resid_sfcWind_global_DJFM_2-9.npy', 'obs_ts_sfcWind_global_DJFM_2-9.npy', 'obs_ts_sfcWind_global_DJFM_2-9_short.npy', 'partial_r_bias_sfcWind_global_DJFM_2-9.npy', 'partial_r_max_sfcWind_global_DJFM_2-9.npy', 'partial_r_min_sfcWind_global_DJFM_2-9.npy', 'partial_r_p_sfcWind_global_DJFM_2-9.npy', 'partial_r_sfcWind_global_DJFM_2-9.npy', 'rpc1_max_sfcWind_global_DJFM_2-9.npy', 'rpc1_min_sfcWind_global_DJFM_2-9.npy', 'rpc1_p_sfcWind_global_DJFM_2-9.npy', 'rpc1_sfcWind_global_DJFM_2-9.npy', 'rpc2_max_sfcWind_global_DJFM_2-9.npy', 'rpc2_min_sfcWind_global_DJFM_2-9.npy', 'rpc2_p_sfcWind_global_DJFM_2-9.npy', 'rpc2_sfcWind_global_DJFM_2-9.npy', 'sigo_resid_sfcWind_global_DJFM_2-9.npy', 'sigo_sfcWind_global_DJFM_2-9.npy', 'start_end_years_sfcWind_global_DJFM_2-9.txt'], ('alt_lag', 'sfcWind', 'nboot_1'): ['corr10_max_sfcWind_global_DJFM_2-9.npy', 'corr10_min_sfcWind_global_DJFM_2-9.npy', 'corr10_p_sfcWind_global_DJFM_2-9.npy', 'corr10_sfcWind_global_DJFM_2-9.npy', 'corr1_max_sfcWind_global_DJFM_2-9.npy', 'corr1_min_sfcWind_global_DJFM_2-9.npy', 'corr1_p_sfcWind_global_DJFM_2-9.npy', 'corr1_p_sfcWind_global_DJFM_2-9_short.npy', 'corr1_sfcWind_global_DJFM_2-9.npy', 'corr1_sfcWind_global_DJFM_2-9_short.npy', 'corr2_max_sfcWind_global_DJFM_2-9.npy', 'corr2_min_sfcWind_global_DJFM_2-9.npy', 'corr2_p_sfcWind_global_DJFM_2-9.npy', 'corr2_sfcWind_global_DJFM_2-9.npy', 'corr_diff_max_sfcWind_global_DJFM_2-9.npy', 'corr_diff_min_sfcWind_global_DJFM_2-9.npy', 'corr_diff_p_sfcWind_global_DJFM_2-9.npy', 'corr_diff_sfcWind_global_DJFM_2-9.npy', 'fcst10_ts_sfcWind_global_DJFM_2-9.npy', 'fcst1_em_resid_sfcWind_global_DJFM_2-9.npy', 'fcst1_ts_sfcWind_global_DJFM_2-9.npy', 'fcst1_ts_sfcWind_global_DJFM_2-9_short.npy', 'fcst2_ts_sfcWind_global_DJFM_2-9.npy', 'msss1_max_sfcWind_global_DJFM_2-9.npy', 'msss1_min_sfcWind_global_DJFM_2-9.npy', 'msss1_p_sfcWind_global_DJFM_2-9.npy', 'msss1_sfcWind_global_DJFM_2-9.npy', 'nens1_sfcWind_global_DJFM_2-9.txt', 'nens2_sfcWind_global_DJFM_2-9.txt', 'obs_resid_sfcWind_global_DJFM_2-9.npy', 'obs_ts_sfcWind_global_DJFM_2-9.npy', 'obs_ts_sfcWind_global_DJFM_2-9_short.npy', 'partial_r_bias_sfcWind_global_DJFM_2-9.npy', 'partial_r_max_sfcWind_global_DJFM_2-9.npy', 'partial_r_min_sfcWind_global_DJFM_2-9.npy', 'partial_r_p_sfcWind_global_DJFM_2-9.npy', 'partial_r_sfcWind_global_DJFM_2-9.npy', 'rpc1_max_sfcWind_global_DJFM_2-9.npy', 'rpc1_min_sfcWind_global_DJFM_2-9.npy', 'rpc1_p_sfcWind_global_DJFM_2-9.npy', 'rpc1_sfcWind_global_DJFM_2-9.npy', 'rpc2_max_sfcWind_global_DJFM_2-9.npy', 'rpc2_min_sfcWind_global_DJFM_2-9.npy', 'rpc2_p_sfcWind_global_DJFM_2-9.npy', 'rpc2_sfcWind_global_DJFM_2-9.npy', 'sigo_resid_sfcWind_global_DJFM_2-9.npy', 'sigo_sfcWind_global_DJFM_2-9.npy', 'start_end_years_sfcWind_global_DJFM_2-9.txt']}\n"
     ]
    }
   ],
   "source": [
    "print(existing_files)"
   ]
  },
  {
   "cell_type": "code",
   "execution_count": 46,
   "metadata": {},
   "outputs": [],
   "source": [
    "# Import importlib\n",
    "import importlib\n",
    "\n",
    "# Reload the module\n",
    "importlib.reload(sys.modules[\"paper1_plots_functions\"])\n",
    "\n",
    "# Import the function again\n",
    "import paper1_plots_functions as p1_fnc"
   ]
  },
  {
   "cell_type": "code",
   "execution_count": 47,
   "metadata": {},
   "outputs": [
    {
     "name": "stdout",
     "output_type": "stream",
     "text": [
      "Processing variable sfcWind...\n",
      "Processing 1 bootstraps...\n",
      "base_path = /gws/nopw/j04/canari/users/benhutch/bootstrapping/sfcWind/global/DJFM/2-9/nao_matched/no_bootstraps_1\n",
      "Processing variable sfcWind...\n",
      "Processing 1 bootstraps...\n",
      "base_path = /gws/nopw/j04/canari/users/benhutch/bootstrapping/sfcWind/global/DJFM/2-9/alt_lag/no_bootstraps_1\n",
      "Processing variable sfcWind...\n",
      "Processing 1 bootstraps...\n",
      "base_path = /gws/nopw/j04/canari/users/benhutch/bootstrapping/sfcWind/global/DJFM/2-9/nao_matched/no_bootstraps_1\n",
      "Processing variable sfcWind...\n",
      "Processing 1 bootstraps...\n",
      "base_path = /gws/nopw/j04/canari/users/benhutch/bootstrapping/sfcWind/global/DJFM/2-9/alt_lag/no_bootstraps_1\n"
     ]
    }
   ],
   "source": [
    "# Form the stats dictionaries for these\n",
    "stats_dicts = p1_fnc.create_bs_dict(\n",
    "    variables=variables,\n",
    "    no_bootstraps=no_bootstraps_list,\n",
    "    season=season,\n",
    "    forecast_range=forecast_range,\n",
    "    methods=methods,\n",
    ")"
   ]
  },
  {
   "cell_type": "code",
   "execution_count": 48,
   "metadata": {},
   "outputs": [
    {
     "name": "stdout",
     "output_type": "stream",
     "text": [
      "variables = ['sfcWind']\n",
      "Plotting variable ('sfcWind', 'nboot_1')...\n",
      "Plotting index 0...\n",
      "Using the short period correlations...\n",
      "start_year = [1969 2010]\n",
      "end_year = [1969 2010]\n",
      "nens1 = 404\n",
      "for variable ('sfcWind', 'nboot_1')\n",
      "Constraining data to gridbox_plot...\n",
      "As defined by gridbox_plot =  {'lon1': -70, 'lon2': 40, 'lat1': 20, 'lat2': 90}\n",
      "Calculating the correlations with a specific gridbox...\n",
      "As defined by gridbox_corr =  {'lon1': -10, 'lon2': 3, 'lat1': 50, 'lat2': 60}\n",
      "Variable is not psl\n",
      "Not plotting p-values for nboot_1\n"
     ]
    },
    {
     "data": {
      "image/png": "[encoded data removed]",
      "text/plain": [
       "<Figure size 1200x1000 with 3 Axes>"
      ]
     },
     "metadata": {},
     "output_type": "display_data"
    }
   ],
   "source": [
    "# Plot the skill maps\n",
    "p1_fnc.plot_diff_variables(\n",
    "    bs_skill_maps=stats_dicts,\n",
    "    season=season,\n",
    "    forecast_range=forecast_range,\n",
    "    methods=methods,\n",
    "    figsize_x=12,\n",
    "    figsize_y=10,\n",
    "    gridbox_corr=dicts.uk_grid,\n",
    "    gridbox_plot=dicts.north_atlantic_grid_plot,\n",
    "    winter_n_gridbox_corr=dicts.uk_n_box_corrected,\n",
    "    winter_s_gridbox_corr=dicts.uk_s_box_corrected,\n",
    "    short_period=True,\n",
    ")"
   ]
  },
  {
   "cell_type": "code",
   "execution_count": null,
   "metadata": {},
   "outputs": [],
   "source": [
    "# Same but for the alt_lag method\n",
    "stats_dicts = p1_fnc.create_bs_dict(\n",
    "    variables=variables,\n",
    "    no_bootstraps=no_bootstraps_list,\n",
    "    season=season,\n",
    "    forecast_range=forecast_range,\n",
    "    method=\"alt_lag\",\n",
    ")"
   ]
  },
  {
   "cell_type": "code",
   "execution_count": null,
   "metadata": {},
   "outputs": [],
   "source": [
    "# Plot the skill maps\n",
    "p1_fnc.plot_diff_variables(\n",
    "    bs_skill_maps=stats_dicts,\n",
    "    season=season,\n",
    "    forecast_range=forecast_range,\n",
    "    figsize_x=12,\n",
    "    figsize_y=10,\n",
    "    gridbox_corr=dicts.uk_grid,\n",
    "    gridbox_plot=dicts.pacific_grid_plot,\n",
    ")"
   ]
  },
  {
   "cell_type": "code",
   "execution_count": null,
   "metadata": {},
   "outputs": [],
   "source": [
    "# Same but for years 2-5\n",
    "forecast_range = \"2-5\"\n",
    "\n",
    "# Form the stats dictionaries for these\n",
    "stats_dicts = p1_fnc.create_bs_dict(\n",
    "    variables=variables,\n",
    "    no_bootstraps=no_bootstraps_list,\n",
    "    season=season,\n",
    "    forecast_range=forecast_range,\n",
    "    method=\"new_raw\",\n",
    ")"
   ]
  },
  {
   "cell_type": "code",
   "execution_count": null,
   "metadata": {},
   "outputs": [],
   "source": [
    "# Plot the skill maps\n",
    "p1_fnc.plot_diff_variables(\n",
    "    bs_skill_maps=stats_dicts,\n",
    "    season=season,\n",
    "    forecast_range=forecast_range,\n",
    "    figsize_x=12,\n",
    "    figsize_y=10,\n",
    "    gridbox_corr=dicts.uk_grid,\n",
    "    gridbox_plot=dicts.north_atlantic_grid_plot,\n",
    ")"
   ]
  },
  {
   "cell_type": "code",
   "execution_count": null,
   "metadata": {},
   "outputs": [],
   "source": [
    "# Same but for the alt_lag method\n",
    "stats_dicts = p1_fnc.create_bs_dict(\n",
    "    variables=variables,\n",
    "    no_bootstraps=no_bootstraps_list,\n",
    "    season=season,\n",
    "    forecast_range=forecast_range,\n",
    "    method=\"alt_lag\",\n",
    ")"
   ]
  },
  {
   "cell_type": "code",
   "execution_count": null,
   "metadata": {},
   "outputs": [],
   "source": [
    "# Plot the skill maps\n",
    "p1_fnc.plot_diff_variables(\n",
    "    bs_skill_maps=stats_dicts,\n",
    "    season=season,\n",
    "    forecast_range=forecast_range,\n",
    "    figsize_x=12,\n",
    "    figsize_y=10,\n",
    "    gridbox_corr=dicts.uk_grid,\n",
    "    gridbox_plot=dicts.north_atlantic_grid_plot,\n",
    ")"
   ]
  },
  {
   "cell_type": "code",
   "execution_count": null,
   "metadata": {},
   "outputs": [],
   "source": [
    "# Set up global variables\n",
    "bootstrap_base_dir = \"/gws/nopw/j04/canari/users/benhutch/bootstrapping\"\n",
    "plots_dir = \"/home/users/benhutch/skill-maps-europe\"\n",
    "region = \"global\"\n",
    "forecast_range = \"2-9\"\n",
    "\n",
    "# Set up the lists\n",
    "seasons_list = [\"DJFM\", \"MAM\", \"JJA\", \"SON\"]\n",
    "methods_list = [\"raw\", \"lagged\", \"nao_matched\"]\n",
    "variables_list = [\n",
    "    \"tas\",\n",
    "    \"sfcWind\",\n",
    "    \"rsds\",\n",
    "    \"psl\",\n",
    "]  # Will replace psl with pr at some point"
   ]
  },
  {
   "cell_type": "markdown",
   "metadata": {},
   "source": [
    "### Testing bootstrapping function ###\n",
    "\n",
    "The function *forecast_stats* generates all of the forecast stats, however, it currently only runs between 1969 and 2011 (?). We want to test this function so we can calculate the raw forecast stats from initialisation in 1961 to initialisation in 2014.\n",
    "\n",
    "For now, we don't care about the historical models (forecast2)."
   ]
  },
  {
   "cell_type": "code",
   "execution_count": null,
   "metadata": {},
   "outputs": [],
   "source": [
    "# First we need to prepare the data for this\n",
    "# Set up the parameters\n",
    "variable = \"tas\"\n",
    "season = \"DJFM\"\n",
    "start_year = 1961  # first init year for BCC-CSM2-MR\n",
    "end_year = 2014  # last valid init year for year 2-9 forecasts\n",
    "method = \"raw\"  # Raw forecast skill in the first instance\n",
    "no_bootstraps = 1  # For speed, just do one bootstrap\n",
    "base_dir = \"/home/users/benhutch/skill-maps-processed-data\""
   ]
  },
  {
   "cell_type": "code",
   "execution_count": null,
   "metadata": {},
   "outputs": [],
   "source": [
    "# Set up the dcpp models for this variable\n",
    "dcpp_models = nao_match_fnc.match_variable_models(match_var=variable)"
   ]
  },
  {
   "cell_type": "code",
   "execution_count": null,
   "metadata": {},
   "outputs": [],
   "source": [
    "# Set up the observations path for the matching variable\n",
    "obs_path = nao_match_fnc.find_obs_path(match_var=variable)"
   ]
  },
  {
   "cell_type": "code",
   "execution_count": null,
   "metadata": {},
   "outputs": [],
   "source": [
    "# Prrocess the observations\n",
    "obs = fnc.process_observations(\n",
    "    variable=variable,\n",
    "    region=region,\n",
    "    region_grid=dicts.gridspec_global,\n",
    "    forecast_range=forecast_range,\n",
    "    season=season,\n",
    "    observations_path=obs_path,\n",
    "    obs_var_name=\"t2m\",\n",
    ")"
   ]
  },
  {
   "cell_type": "code",
   "execution_count": null,
   "metadata": {},
   "outputs": [],
   "source": [
    "# Load and process the dcpp model data\n",
    "dcpp_data = pbs_func.load_and_process_dcpp_data(\n",
    "    base_dir=base_dir,\n",
    "    dcpp_models=dcpp_models,\n",
    "    variable=variable,\n",
    "    region=region,\n",
    "    forecast_range=forecast_range,\n",
    "    season=season,\n",
    ")"
   ]
  },
  {
   "cell_type": "code",
   "execution_count": null,
   "metadata": {},
   "outputs": [],
   "source": [
    "print((dcpp_data[\"BCC-CSM2-MR\"]))"
   ]
  },
  {
   "cell_type": "code",
   "execution_count": null,
   "metadata": {},
   "outputs": [],
   "source": [
    "# We want to make sure that the obs and dcpp data are aligned\n",
    "dcpp_data = fnc.constrain_years(dcpp_data, dcpp_models)"
   ]
  },
  {
   "cell_type": "code",
   "execution_count": null,
   "metadata": {},
   "outputs": [],
   "source": [
    "print((dcpp_data[\"BCC-CSM2-MR\"]))"
   ]
  },
  {
   "cell_type": "code",
   "execution_count": null,
   "metadata": {},
   "outputs": [],
   "source": [
    "# Align the obs and dcpp data\n",
    "obs, dcpp_data, _ = fnc.remove_years_with_nans_nao(\n",
    "    observed_data=obs, model_data=dcpp_data, models=dcpp_models\n",
    ")"
   ]
  },
  {
   "cell_type": "code",
   "execution_count": null,
   "metadata": {},
   "outputs": [],
   "source": [
    "print((dcpp_data[\"BCC-CSM2-MR\"]))\n",
    "print((obs))"
   ]
  },
  {
   "cell_type": "code",
   "execution_count": null,
   "metadata": {},
   "outputs": [],
   "source": [
    "# Convert obs to an array\n",
    "obs = obs.values\n",
    "\n",
    "# Print the shapes of the obs data\n",
    "print(np.shape(obs))\n",
    "\n",
    "# Extract the years from the obs data\n",
    "nyears = obs.shape[0]\n",
    "lats = obs.shape[1]\n",
    "lons = obs.shape[2]"
   ]
  },
  {
   "cell_type": "code",
   "execution_count": null,
   "metadata": {},
   "outputs": [],
   "source": [
    "# Covert dcpp_data to an array\n",
    "# Create an empty array\n",
    "dcpp_ensemble_members = np.sum([len(dcpp_data[model]) for model in dcpp_models])\n",
    "\n",
    "# Create an empty array to store the data\n",
    "dcpp_data_array = np.zeros([dcpp_ensemble_members, nyears, lats, lons])\n",
    "\n",
    "# Create a dummy arrays of zeros to store the ensemble members\n",
    "hist_data_array = np.zeros([dcpp_ensemble_members, nyears, lats, lons])\n",
    "\n",
    "# Set up the member index\n",
    "member_index = 0\n",
    "\n",
    "# Loop over the models\n",
    "for model in dcpp_models:\n",
    "    dcpp_model_data = dcpp_data[model]\n",
    "\n",
    "    # Loop over the ensemble members\n",
    "    for member in dcpp_model_data:\n",
    "        # Increment the member index\n",
    "        member_index += 1\n",
    "\n",
    "        # Extract the data\n",
    "        data = member.values\n",
    "\n",
    "        # If the data has four dimensions\n",
    "        if len(data.shape) == 4:\n",
    "            # Squeeze the data\n",
    "            data = np.squeeze(data)\n",
    "\n",
    "        # Assign the data to the forecast1 array\n",
    "        dcpp_data_array[member_index - 1, :, :, :] = data\n",
    "\n",
    "        # Assign the data to the hist array\n",
    "        hist_data_array[member_index - 1, :, :, :] = data"
   ]
  },
  {
   "cell_type": "code",
   "execution_count": null,
   "metadata": {},
   "outputs": [],
   "source": [
    "# print the shape os the obs and dcpp data\n",
    "print(np.shape(obs))\n",
    "\n",
    "# print the shape of the dcpp data array\n",
    "print(np.shape(dcpp_data_array))\n",
    "print(np.shape(hist_data_array))"
   ]
  },
  {
   "cell_type": "code",
   "execution_count": null,
   "metadata": {},
   "outputs": [],
   "source": [
    "# # Fill the hist data array with 1s\n",
    "# hist_data_array[:] = 1"
   ]
  },
  {
   "cell_type": "code",
   "execution_count": null,
   "metadata": {},
   "outputs": [],
   "source": [
    "# Print the dcpp data array\n",
    "print(dcpp_data_array)"
   ]
  },
  {
   "cell_type": "code",
   "execution_count": null,
   "metadata": {},
   "outputs": [],
   "source": [
    "# Print the hist data array\n",
    "print(hist_data_array)"
   ]
  },
  {
   "cell_type": "code",
   "execution_count": null,
   "metadata": {},
   "outputs": [],
   "source": [
    "# Process the forecast stats for the raw method\n",
    "forecast_stats = fnc.forecast_stats(\n",
    "    obs=obs, forecast1=dcpp_data_array, forecast2=hist_data_array, no_boot=no_bootstraps\n",
    ")"
   ]
  },
  {
   "cell_type": "code",
   "execution_count": null,
   "metadata": {},
   "outputs": [],
   "source": [
    "print(forecast_stats)"
   ]
  },
  {
   "cell_type": "markdown",
   "metadata": {},
   "source": [
    "### Next steps ###\n",
    "\n",
    "We have now processed the data for one variable (tas), DJFM, years 2-9. To create the 2x2 matrix of plots for the different variables, we have to do this another three times to generate four dictionaries of forecast stats. It may therefore be worth condensing the above into a function."
   ]
  },
  {
   "cell_type": "code",
   "execution_count": null,
   "metadata": {},
   "outputs": [],
   "source": [
    "from paper1_plots_functions import forecast_stats_var"
   ]
  },
  {
   "cell_type": "code",
   "execution_count": null,
   "metadata": {},
   "outputs": [],
   "source": [
    "# Use importlib to reload the module\n",
    "import importlib\n",
    "\n",
    "# Reload the module\n",
    "importlib.reload(sys.modules[\"paper1_plots_functions\"])\n",
    "\n",
    "# Import the function again\n",
    "from paper1_plots_functions import forecast_stats_var"
   ]
  },
  {
   "cell_type": "code",
   "execution_count": null,
   "metadata": {},
   "outputs": [],
   "source": [
    "# Test the forecast stats var function\n",
    "forecast_stats_var_dic, nao_stats_dic = forecast_stats_var(\n",
    "    variables=dicts.paper_1_variables,\n",
    "    season=\"DJFM\",\n",
    "    forecast_range=forecast_range,\n",
    "    start_year=start_year,\n",
    "    end_year=end_year,\n",
    "    method=method,\n",
    "    no_bootstraps=no_bootstraps,\n",
    ")"
   ]
  },
  {
   "cell_type": "code",
   "execution_count": null,
   "metadata": {},
   "outputs": [],
   "source": [
    "print(nao_stats_dic)"
   ]
  },
  {
   "cell_type": "code",
   "execution_count": null,
   "metadata": {},
   "outputs": [],
   "source": [
    "print((forecast_stats_var_dic[\"rsds\"]))"
   ]
  },
  {
   "cell_type": "code",
   "execution_count": null,
   "metadata": {},
   "outputs": [],
   "source": [
    "# Now we want to plot this data\n",
    "# Use importlib to reload the module\n",
    "import importlib\n",
    "\n",
    "# Reload the module\n",
    "importlib.reload(sys.modules[\"paper1_plots_functions\"])\n",
    "\n",
    "# Import the function again\n",
    "from paper1_plots_functions import forecast_stats_var, plot_forecast_stats_var"
   ]
  },
  {
   "cell_type": "code",
   "execution_count": null,
   "metadata": {},
   "outputs": [],
   "source": [
    "# Test this new function\n",
    "plot_forecast_stats_var(\n",
    "    forecast_stats_var_dic=forecast_stats_var_dic,\n",
    "    nao_stats_dict=nao_stats_dic,\n",
    "    psl_models=dicts.psl_models,\n",
    "    forecast_range=forecast_range,\n",
    "    figsize_x=12,\n",
    "    figsize_y=10,\n",
    "    gridbox_corr=dicts.uk_grid,\n",
    "    gridbox_plot=dicts.north_atlantic_grid_plot,\n",
    ")"
   ]
  },
  {
   "cell_type": "code",
   "execution_count": null,
   "metadata": {},
   "outputs": [],
   "source": [
    "print((forecast_stats_var_dic[\"sfcWind\"][\"corr1_p\"]))\n",
    "\n",
    "corr1_p = forecast_stats_var_dic[\"sfcWind\"][\"corr1_p\"]\n",
    "\n",
    "print((corr1_p[0, 0]))"
   ]
  },
  {
   "cell_type": "code",
   "execution_count": null,
   "metadata": {},
   "outputs": [],
   "source": [
    "# Now we want to plot this data\n",
    "# Use importlib to reload the module\n",
    "import importlib\n",
    "\n",
    "# Reload the module\n",
    "importlib.reload(sys.modules[\"paper1_plots_functions\"])\n",
    "\n",
    "# Import the function again\n",
    "from paper1_plots_functions import forecast_stats_var, plot_forecast_stats_var"
   ]
  },
  {
   "cell_type": "code",
   "execution_count": null,
   "metadata": {},
   "outputs": [],
   "source": [
    "# Now change the season to JJA\n",
    "forecast_stats_var_dic_jja, nao_stats_dic_jja = forecast_stats_var(\n",
    "    variables=dicts.paper_1_variables,\n",
    "    season=\"JJA\",\n",
    "    forecast_range=forecast_range,\n",
    "    start_year=start_year,\n",
    "    end_year=end_year,\n",
    "    method=method,\n",
    "    no_bootstraps=no_bootstraps,\n",
    ")"
   ]
  },
  {
   "cell_type": "code",
   "execution_count": null,
   "metadata": {},
   "outputs": [],
   "source": [
    "# And plot this\n",
    "plot_forecast_stats_var(\n",
    "    forecast_stats_var_dic=forecast_stats_var_dic_jja,\n",
    "    nao_stats_dict=nao_stats_dic_jja,\n",
    "    psl_models=dicts.psl_models,\n",
    "    season=\"JJA\",\n",
    "    forecast_range=forecast_range,\n",
    "    figsize_x=12,\n",
    "    figsize_y=10,\n",
    "    gridbox_corr=dicts.uk_grid,\n",
    "    gridbox_plot=dicts.north_atlantic_grid_plot,\n",
    ")"
   ]
  },
  {
   "cell_type": "code",
   "execution_count": null,
   "metadata": {},
   "outputs": [],
   "source": [
    "# # Exploring bootstrapped\n",
    "# # corr1_p output for psl JJA 1000 bootstraps\n",
    "# dir = \"/gws/nopw/j04/canari/users/benhutch/bootstrapping/psl/global/JJA/2-9/raw/no_bootstraps_1000\"\n",
    "# filename=\"corr1_p_psl_global_JJA_2-9.npy\"\n",
    "\n",
    "# # Load the data\n",
    "# corr1_p_psl_jja = np.load(os.path.join(dir, filename))"
   ]
  },
  {
   "cell_type": "markdown",
   "metadata": {},
   "source": [
    "### Plotting NAO time series ###\n",
    "\n",
    "We also want to plot the NAO time series in this plot. First of all just the raw time series, then it would be nice to have the lagged and variance-adjusted time series as well. First let's see what we functions we can use from other files."
   ]
  }
 ],
 "metadata": {
  "kernelspec": {
   "display_name": "Python 3",
   "language": "python",
   "name": "python3"
  },
  "language_info": {
   "codemirror_mode": {
    "name": "ipython",
    "version": 3
   },
   "file_extension": ".py",
   "mimetype": "text/x-python",
   "name": "python",
   "nbconvert_exporter": "python",
   "pygments_lexer": "ipython3",
   "version": "3.10.8"
  }
 },
 "nbformat": 4,
 "nbformat_minor": 2
}
