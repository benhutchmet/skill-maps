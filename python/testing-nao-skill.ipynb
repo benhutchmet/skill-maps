{
 "cells": [
  {
   "cell_type": "code",
   "execution_count": null,
   "metadata": {},
   "outputs": [],
   "source": [
    "# Imports\n",
    "import os\n",
    "import sys\n",
    "import glob\n",
    "import re\n",
    "\n",
    "# Third party imports\n",
    "import numpy as np\n",
    "import xarray as xr\n",
    "from scipy.stats import pearsonr\n",
    "import matplotlib.pyplot as plt"
   ]
  },
  {
   "cell_type": "code",
   "execution_count": null,
   "metadata": {},
   "outputs": [],
   "source": [
    "# Import dictionaries\n",
    "sys.path.append('/home/users/benhutch/skill-maps')\n",
    "import dictionaries as dict\n",
    "\n",
    "# Import functions\n",
    "import functions as func\n",
    "\n",
    "# Import nao matching functions\n",
    "sys.path.append('/home/users/benhutch/skill-maps/rose-suite-matching')\n",
    "from nao_matching_seasons import match_variable_models, find_obs_path"
   ]
  },
  {
   "cell_type": "markdown",
   "metadata": {},
   "source": [
    "### NAO skill exploration ###\n",
    "\n",
    "* Create a subplot with 6 rows and 2 columns, containing the NAO 8-year running means (years 2-9 forecast) for psl.\n",
    "* Shift the x-axis to be aligned with initialisation year\n",
    "* Grab as many years as possible (final 8 year running mean for obs 2016-2023 inclusive)\n",
    "* Present in terms of long region and short region\n",
    "* Also consider temperature of subpolar gyre for different models"
   ]
  },
  {
   "cell_type": "code",
   "execution_count": null,
   "metadata": {},
   "outputs": [],
   "source": [
    "# Set up the arguments for psl\n",
    "psl_models = dict.models\n",
    "obs_path_psl = dict.obs\n",
    "base_dir = dict.base_dir\n",
    "plots_dir = \"/gws/nopw/j04/canari/users/benhutch/plots/NAO_skill\"\n",
    "save_dir = dict.save_dir"
   ]
  }
 ],
 "metadata": {
  "language_info": {
   "name": "python"
  }
 },
 "nbformat": 4,
 "nbformat_minor": 2
}
