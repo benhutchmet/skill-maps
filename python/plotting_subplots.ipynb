{
 "cells": [
  {
   "cell_type": "code",
   "execution_count": 1,
   "metadata": {},
   "outputs": [
    {
     "ename": "ModuleNotFoundError",
     "evalue": "No module named 'numpy'",
     "output_type": "error",
     "traceback": [
      "\u001b[0;31m---------------------------------------------------------------------------\u001b[0m",
      "\u001b[0;31mModuleNotFoundError\u001b[0m                       Traceback (most recent call last)",
      "Cell \u001b[0;32mIn[1], line 10\u001b[0m\n\u001b[1;32m      7\u001b[0m \u001b[38;5;28;01mimport\u001b[39;00m \u001b[38;5;21;01mre\u001b[39;00m\n\u001b[1;32m      9\u001b[0m \u001b[38;5;66;03m# Third-party imports\u001b[39;00m\n\u001b[0;32m---> 10\u001b[0m \u001b[38;5;28;01mimport\u001b[39;00m \u001b[38;5;21;01mnumpy\u001b[39;00m \u001b[38;5;28;01mas\u001b[39;00m \u001b[38;5;21;01mnp\u001b[39;00m\n\u001b[1;32m     11\u001b[0m \u001b[38;5;28;01mimport\u001b[39;00m \u001b[38;5;21;01mpandas\u001b[39;00m \u001b[38;5;28;01mas\u001b[39;00m \u001b[38;5;21;01mpd\u001b[39;00m\n\u001b[1;32m     12\u001b[0m \u001b[38;5;28;01mimport\u001b[39;00m \u001b[38;5;21;01mmatplotlib\u001b[39;00m\u001b[38;5;21;01m.\u001b[39;00m\u001b[38;5;21;01mpyplot\u001b[39;00m \u001b[38;5;28;01mas\u001b[39;00m \u001b[38;5;21;01mplt\u001b[39;00m\n",
      "\u001b[0;31mModuleNotFoundError\u001b[0m: No module named 'numpy'"
     ]
    }
   ],
   "source": [
    "# Plotting notebook for the project\n",
    "# Imports\n",
    "import argparse\n",
    "import os\n",
    "import sys\n",
    "import glob\n",
    "import re\n",
    "\n",
    "# Third-party imports\n",
    "import numpy as np\n",
    "import pandas as pd\n",
    "import matplotlib.pyplot as plt\n",
    "import xarray as xr\n",
    "import cartopy.crs as ccrs\n",
    "from datetime import datetime\n",
    "import scipy.stats as stats\n",
    "\n",
    "# import cdo\n",
    "from cdo import *\n",
    "cdo = Cdo()\n",
    "\n",
    "# Local imports\n",
    "sys.path.append('/home/users/benhutch/skill-maps')\n",
    "import dictionaries as dic\n",
    "import functions as fnc"
   ]
  },
  {
   "cell_type": "code",
   "execution_count": null,
   "metadata": {},
   "outputs": [],
   "source": [
    "# Set up the parameters for the plots\n",
    "# first years 2-9 psl global\n",
    "models = dic.models # all models for psl\n",
    "observations_path = dic.obs\n",
    "variable = \"psl\"\n",
    "region = \"global\"\n",
    "region_grid = dic.gridspec_global\n",
    "forecast_range = \"2-9\"\n",
    "seasons_list_obs = dic.seasons_list_obs\n",
    "seasons_list_model = dic.seasons_list_model\n",
    "plots_dir = dic.plots_dir\n",
    "obs_var_name = \"psl\"\n",
    "azores_grid = dic.azores_grid\n",
    "iceland_grid = dic.iceland_grid"
   ]
  },
  {
   "cell_type": "code",
   "execution_count": null,
   "metadata": {},
   "outputs": [],
   "source": [
    "# First plot years 2-9 psl global MME\n",
    "# using the function plot_seasonal_correlations\n",
    "fnc.plot_seasonal_correlations(models, observations_path, variable, region, region_grid, forecast_range, seasons_list_obs, \n",
    "                                seasons_list_model, plots_dir, obs_var_name, azores_grid, iceland_grid)"
   ]
  },
  {
   "cell_type": "code",
   "execution_count": null,
   "metadata": {},
   "outputs": [],
   "source": [
    "# Set up the parameters for the plots\n",
    "# years 2-9  sfcWind global\n",
    "models = dic.sfcWind_models\n",
    "observations_path = dic.obs\n",
    "variable = \"sfcWind\"\n",
    "region = \"global\"\n",
    "region_grid = dic.gridspec_global\n",
    "forecast_range = \"2-9\"\n",
    "seasons_list_obs = dic.seasons_list_obs\n",
    "seasons_list_model = dic.seasons_list_model\n",
    "plots_dir = dic.plots_dir\n",
    "obs_var_name = \"sfcWind\"\n",
    "azores_grid = dic.azores_grid\n",
    "iceland_grid = dic.iceland_grid"
   ]
  },
  {
   "cell_type": "code",
   "execution_count": null,
   "metadata": {},
   "outputs": [],
   "source": [
    "# Now plot years 2-9 sfcWind global MME\n",
    "# using the function plot_seasonal_correlations\n",
    "fnc.plot_seasonal_correlations(models, observations_path, variable, region, region_grid, forecast_range, seasons_list_obs,\n",
    "                                seasons_list_model, plots_dir, obs_var_name, azores_grid, iceland_grid)"
   ]
  },
  {
   "cell_type": "code",
   "execution_count": null,
   "metadata": {},
   "outputs": [],
   "source": [
    "# Set up the parameters for the plots\n",
    "# years 2-9  sfcWind north-atlantic\n",
    "models = dic.sfcWind_models\n",
    "observations_path = dic.obs\n",
    "variable = \"sfcWind\"\n",
    "region = \"north-atlantic\"\n",
    "region_grid = dic.gridspec_global\n",
    "forecast_range = \"2-9\"\n",
    "seasons_list_obs = dic.seasons_list_obs\n",
    "seasons_list_model = dic.seasons_list_model\n",
    "plots_dir = dic.plots_dir\n",
    "obs_var_name = \"sfcWind\"\n",
    "azores_grid = dic.azores_grid_corrected\n",
    "iceland_grid = dic.iceland_grid_corrected"
   ]
  },
  {
   "cell_type": "code",
   "execution_count": null,
   "metadata": {},
   "outputs": [],
   "source": [
    "# Now plot years 2-9 sfcWind north-atlantic MME\n",
    "# using the function plot_seasonal_correlations\n",
    "fnc.plot_seasonal_correlations(models, observations_path, variable, region, region_grid, forecast_range, seasons_list_obs,\n",
    "                                seasons_list_model, plots_dir, obs_var_name, azores_grid, iceland_grid,\n",
    "                                p_sig = 0.05, experiment=\"dcppA-hindcast\", north_sea_grid=dic.north_sea_grid,\n",
    "                                central_europe_grid=dic.central_europe_grid, snao_south_grid=dic.snao_south_grid,\n",
    "                                snao_north_grid=dic.snao_north_grid)"
   ]
  },
  {
   "cell_type": "code",
   "execution_count": null,
   "metadata": {
    "scrolled": true
   },
   "outputs": [],
   "source": [
    "# Test the new function\n",
    "# for plotting the time series in the boxes\n",
    "%tb\n",
    "fnc.plot_seasonal_correlations_timeseries(models, observations_path, variable, forecast_range,\n",
    "                                            seasons_list_obs, seasons_list_model, plots_dir, \n",
    "                                            obs_var_name, north_sea_grid=dic.north_sea_grid,\n",
    "                                            central_europe_grid=dic.central_europe_grid)"
   ]
  },
  {
   "cell_type": "code",
   "execution_count": null,
   "metadata": {},
   "outputs": [],
   "source": [
    "# Set up the parameters for the NAO time series plots\n",
    "models = dic.models # all models for psl\n",
    "observations_path = dic.obs\n",
    "variable = \"psl\"\n",
    "region = \"global\"\n",
    "region_grid = dic.gridspec_global\n",
    "forecast_range = \"2-9\"\n",
    "seasons_list_obs = dic.seasons_list_obs\n",
    "seasons_list_model = dic.seasons_list_model\n",
    "plots_dir = dic.plots_dir\n",
    "obs_var_name = \"psl\"\n",
    "azores_grid = dic.azores_grid_corrected\n",
    "iceland_grid = dic.iceland_grid_corrected\n",
    "snao_south_grid = dic.snao_south_grid\n",
    "snao_north_grid = dic.snao_north_grid"
   ]
  },
  {
   "cell_type": "code",
   "execution_count": null,
   "metadata": {},
   "outputs": [],
   "source": [
    "# Call the function to plot the NAO time series\n",
    "# function is plot_seasonal_nao_anomalies_timeseries\n",
    "fnc.plot_seasonal_nao_anomalies_timeseries(models, observations_path, forecast_range,\n",
    "                                            seasons_list_obs, seasons_list_model, plots_dir,\n",
    "                                            azores_grid, iceland_grid, snao_south_grid, snao_north_grid)"
   ]
  },
  {
   "cell_type": "code",
   "execution_count": null,
   "metadata": {},
   "outputs": [],
   "source": [
    "# Now set up the parameters for the plots\n",
    "# years 2-9 tas global\n",
    "models = dic.tas_models\n",
    "observations_path = dic.obs\n",
    "variable = \"tas\"\n",
    "region = \"global\"\n",
    "region_grid = dic.gridspec_global\n",
    "forecast_range = \"2-9\"\n",
    "seasons_list_obs = dic.seasons_list_obs\n",
    "seasons_list_model = dic.seasons_list_model\n",
    "plots_dir = dic.plots_dir\n",
    "obs_var_name = \"tas\"\n",
    "azores_grid = dic.azores_grid\n",
    "iceland_grid = dic.iceland_grid"
   ]
  },
  {
   "cell_type": "code",
   "execution_count": null,
   "metadata": {},
   "outputs": [],
   "source": [
    "# Now plot years 2-9 tas global MME\n",
    "# using the function plot_seasonal_correlations\n",
    "fnc.plot_seasonal_correlations(models, observations_path, variable, region, region_grid, forecast_range, seasons_list_obs,\n",
    "                                seasons_list_model, plots_dir, obs_var_name, azores_grid, iceland_grid)"
   ]
  },
  {
   "cell_type": "code",
   "execution_count": null,
   "metadata": {},
   "outputs": [],
   "source": [
    "# Now set up the parameters for the plots\n",
    "# years 2-9 rsds global\n",
    "# models = dic.rsds_models\n",
    "# observations_path = dic.obs\n",
    "# variable = \"rsds\"\n",
    "# region = \"global\"\n",
    "# region_grid = dic.gridspec_global\n",
    "# forecast_range = \"2-9\"\n",
    "# seasons_list_obs = dic.seasons_list_obs\n",
    "# seasons_list_model = dic.seasons_list_model\n",
    "# plots_dir = dic.plots_dir\n",
    "# obs_var_name = \"rsds\"\n",
    "# azores_grid = dic.azores_grid\n",
    "# iceland_grid = dic.iceland_grid"
   ]
  },
  {
   "cell_type": "code",
   "execution_count": null,
   "metadata": {},
   "outputs": [],
   "source": [
    "# Now plot years 2-9 rsds global MME\n",
    "# using the function plot_seasonal_correlations\n",
    "# fnc.plot_seasonal_correlations(models, observations_path, variable, region, region_grid, forecast_range, seasons_list_obs,\n",
    "#                                 seasons_list_model, plots_dir, obs_var_name, azores_grid, iceland_grid)"
   ]
  },
  {
   "cell_type": "code",
   "execution_count": null,
   "metadata": {},
   "outputs": [],
   "source": [
    "# Now set up the parameters for the plots\n",
    "# years 2-9 tos global\n",
    "models = dic.tos_models\n",
    "observations_path = dic.obs\n",
    "variable = \"tos\"\n",
    "region = \"global\"\n",
    "region_grid = dic.gridspec_global\n",
    "forecast_range = \"2-9\"\n",
    "seasons_list_obs = dic.seasons_list_obs_tos\n",
    "seasons_list_model = dic.seasons_list_model_tos\n",
    "plots_dir = dic.plots_dir\n",
    "obs_var_name = \"tos\"\n",
    "azores_grid = dic.azores_grid\n",
    "iceland_grid = dic.iceland_grid"
   ]
  },
  {
   "cell_type": "code",
   "execution_count": null,
   "metadata": {},
   "outputs": [],
   "source": [
    "# Now plot years 2-9 tos global MME\n",
    "# using the function plot_seasonal_correlations\n",
    "# FIXME: NO data for MAM - may break function\n",
    "fnc.plot_seasonal_correlations(models, observations_path, variable, region, region_grid, forecast_range, seasons_list_obs,\n",
    "                                seasons_list_model, plots_dir, obs_var_name, azores_grid, iceland_grid)"
   ]
  },
  {
   "cell_type": "code",
   "execution_count": null,
   "metadata": {},
   "outputs": [],
   "source": [
    "# Now set up the parameters for the variables plots\n",
    "# First case - global years 2-9 DJFM\n",
    "models_list = dic.updated_models_list\n",
    "observations_path = dic.obs\n",
    "variables_list = dic.variables\n",
    "region = \"global\"\n",
    "region_grid = dic.gridspec_global\n",
    "forecast_range = \"2-9\"\n",
    "season = \"DJFM\"\n",
    "plots_dir = dic.plots_dir\n",
    "obs_var_name = dic.obs_var_names\n",
    "azores_grid = dic.azores_grid\n",
    "iceland_grid = dic.iceland_grid"
   ]
  },
  {
   "cell_type": "code",
   "execution_count": null,
   "metadata": {},
   "outputs": [],
   "source": [
    "# Plot the variables for the global case\n",
    "# using the function plot_variable_correlations\n",
    "# for year 2-9 DJFM test\n",
    "fnc.plot_variable_correlations(models_list, observations_path, variables_list, region, region_grid, forecast_range, season,\n",
    "                                plots_dir, obs_var_name, azores_grid, iceland_grid)"
   ]
  },
  {
   "cell_type": "code",
   "execution_count": null,
   "metadata": {},
   "outputs": [],
   "source": [
    "# Now for global years 2-9 JJA\n",
    "models_list = dic.updated_models_list\n",
    "observations_path = dic.obs\n",
    "variables_list = dic.variables\n",
    "region = \"global\"\n",
    "region_grid = dic.gridspec_global\n",
    "forecast_range = \"2-9\"\n",
    "season = \"JJA\"\n",
    "plots_dir = dic.plots_dir\n",
    "obs_var_name = dic.obs_var_names\n",
    "azores_grid = dic.azores_grid\n",
    "iceland_grid = dic.iceland_grid"
   ]
  },
  {
   "cell_type": "code",
   "execution_count": null,
   "metadata": {},
   "outputs": [],
   "source": [
    "# Plot the variables for the global case test\n",
    "# using the function plot_variable_correlations\n",
    "# for year 2-9 JJA test\n",
    "fnc.plot_variable_correlations(models_list, observations_path, variables_list, region, region_grid, forecast_range, season,\n",
    "                                plots_dir, obs_var_name, azores_grid, iceland_grid)"
   ]
  },
  {
   "cell_type": "code",
   "execution_count": null,
   "metadata": {},
   "outputs": [],
   "source": [
    "# We want to do the same thing, but with 850U in the place of sfcWind\n",
    "# Now set up the parameters for the variables plots\n",
    "models_list = dic.updated_models_list_850u\n",
    "observations_path = dic.obs # will this need to change\n",
    "variables_list = dic.variables_850u\n",
    "region = \"global\"\n",
    "region_grid = dic.gridspec_global\n",
    "forecast_range = \"2-9\"\n",
    "season = \"DJFM\"\n",
    "plots_dir = dic.plots_dir\n",
    "obs_var_name = dic.obs_var_names_850u\n",
    "azores_grid = dic.azores_grid\n",
    "iceland_grid = dic.iceland_grid"
   ]
  },
  {
   "cell_type": "code",
   "execution_count": null,
   "metadata": {},
   "outputs": [],
   "source": [
    "# Now plot the DJFM case including 850U\n",
    "# FIXME: 850U case for DJFM\n",
    "fnc.plot_variable_correlations(models_list, observations_path, variables_list, region, region_grid, forecast_range, season,\n",
    "                                plots_dir, obs_var_name, azores_grid, iceland_grid)"
   ]
  },
  {
   "cell_type": "code",
   "execution_count": null,
   "metadata": {},
   "outputs": [],
   "source": [
    "# Now for global years 2-9 SON\n",
    "models_list = dic.updated_models_list\n",
    "observations_path = dic.obs\n",
    "variables_list = dic.variables\n",
    "region = \"global\"\n",
    "region_grid = dic.gridspec_global\n",
    "forecast_range = \"2-9\"\n",
    "season = \"SON\"\n",
    "plots_dir = dic.plots_dir\n",
    "obs_var_name = dic.obs_var_names\n",
    "azores_grid = dic.azores_grid\n",
    "iceland_grid = dic.iceland_grid"
   ]
  },
  {
   "cell_type": "code",
   "execution_count": null,
   "metadata": {},
   "outputs": [],
   "source": [
    "# Plot the variables for the global case\n",
    "# using the function plot_variable_correlations\n",
    "# for year 2-9 SON test\n",
    "fnc.plot_variable_correlations(models_list, observations_path, variables_list, region, region_grid, forecast_range, season,\n",
    "                                plots_dir, obs_var_name, azores_grid, iceland_grid)"
   ]
  },
  {
   "cell_type": "code",
   "execution_count": null,
   "metadata": {},
   "outputs": [],
   "source": [
    "# Now for global years 2-9 MAM\n",
    "models_list = dic.updated_models_list\n",
    "observations_path = dic.obs\n",
    "variables_list = dic.variables\n",
    "region = \"global\"\n",
    "region_grid = dic.gridspec_global\n",
    "forecast_range = \"2-9\"\n",
    "season = \"MAM\"\n",
    "plots_dir = dic.plots_dir\n",
    "obs_var_name = dic.obs_var_names_no_tos\n",
    "azores_grid = dic.azores_grid\n",
    "iceland_grid = dic.iceland_grid"
   ]
  },
  {
   "cell_type": "code",
   "execution_count": null,
   "metadata": {},
   "outputs": [],
   "source": [
    "# Plot the variables for the global case\n",
    "# using the function plot_variable_correlations\n",
    "# for year 2-9 MAM test\n",
    "fnc.plot_variable_correlations(models_list, observations_path, variables_list, region, region_grid, forecast_range, season,\n",
    "                                plots_dir, obs_var_name, azores_grid, iceland_grid)"
   ]
  },
  {
   "cell_type": "code",
   "execution_count": null,
   "metadata": {},
   "outputs": [],
   "source": [
    "# Now for year 2-2 DJFM\n",
    "models_list = [ dic.psl_models, dic.tos_models, dic.sfcWind_models, dic.tas_models ]\n",
    "observations_path = dic.obs\n",
    "variables_list = dic.variables\n",
    "region = \"global\"\n",
    "region_grid = dic.gridspec_global\n",
    "forecast_range = \"2-2\"\n",
    "season = \"DJFM\"\n",
    "plots_dir = dic.plots_dir\n",
    "obs_var_name = dic.obs_var_names\n",
    "azores_grid = dic.azores_grid\n",
    "iceland_grid = dic.iceland_grid"
   ]
  },
  {
   "cell_type": "code",
   "execution_count": null,
   "metadata": {},
   "outputs": [],
   "source": [
    "# Plot the variables for the global case\n",
    "# using the function plot_variable_correlations\n",
    "# for year 2-2 DJFM test\n",
    "fnc.plot_variable_correlations(models_list, observations_path, variables_list, region, region_grid, forecast_range, season,\n",
    "                                plots_dir, obs_var_name, azores_grid, iceland_grid)"
   ]
  },
  {
   "cell_type": "code",
   "execution_count": null,
   "metadata": {},
   "outputs": [],
   "source": [
    "# Now for year 2-2 JJA\n",
    "models_list = [ dic.tos_models, dic.sfcWind_models, dic.tas_models ]\n",
    "observations_path = dic.obs\n",
    "variables_list = dic.variables_no_psl\n",
    "region = \"global\"\n",
    "region_grid = dic.gridspec_global\n",
    "forecast_range = \"2-2\"\n",
    "season = \"JJA\"\n",
    "plots_dir = dic.plots_dir\n",
    "obs_var_name = dic.obs_var_names_no_psl\n",
    "azores_grid = dic.azores_grid\n",
    "iceland_grid = dic.iceland_grid"
   ]
  },
  {
   "cell_type": "code",
   "execution_count": null,
   "metadata": {},
   "outputs": [],
   "source": [
    "# Plot the variables for the global case`\n",
    "# using the function plot_variable_correlations\n",
    "# for year 2-2 JJA test\n",
    "fnc.plot_variable_correlations(models_list, observations_path, variables_list, region, region_grid, forecast_range, season,\n",
    "                                plots_dir, obs_var_name, azores_grid, iceland_grid)"
   ]
  }
 ],
 "metadata": {
  "kernelspec": {
   "display_name": "Python 3",
   "language": "python",
   "name": "python3"
  },
  "language_info": {
   "codemirror_mode": {
    "name": "ipython",
    "version": 3
   },
   "file_extension": ".py",
   "mimetype": "text/x-python",
   "name": "python",
   "nbconvert_exporter": "python",
   "pygments_lexer": "ipython3",
   "version": "3.9.16"
  }
 },
 "nbformat": 4,
 "nbformat_minor": 4
}
