{
 "cells": [
  {
   "cell_type": "code",
   "execution_count": null,
   "metadata": {},
   "outputs": [],
   "source": [
    "# Linting - using black\n",
    "# # %load_ext nb_black\n",
    "# %load_ext lab_black\n",
    "\n",
    "# Autoreload modules\n",
    "%load_ext autoreload\n",
    "%autoreload 2"
   ]
  },
  {
   "cell_type": "code",
   "execution_count": null,
   "metadata": {
    "vscode": {
     "languageId": "shellscript"
    }
   },
   "outputs": [],
   "source": [
    "pip install climpred[complete]"
   ]
  },
  {
   "cell_type": "code",
   "execution_count": null,
   "metadata": {},
   "outputs": [],
   "source": [
    "%matplotlib inline\n",
    "import matplotlib.pyplot as plt\n",
    "import numpy as np\n",
    "\n",
    "# Import third-party libraries\n",
    "import xarray as xr\n",
    "import climpred\n",
    "\n",
    "xr.set_options(display_style=\"html\")\n",
    "\n",
    "# silence warnings if annoying\n",
    "import warnings\n",
    "warnings.filterwarnings(\"ignore\")"
   ]
  },
  {
   "cell_type": "code",
   "execution_count": null,
   "metadata": {},
   "outputs": [],
   "source": [
    "# Import tqdm\n",
    "import tqdm"
   ]
  },
  {
   "cell_type": "code",
   "execution_count": null,
   "metadata": {},
   "outputs": [],
   "source": [
    "import intake"
   ]
  },
  {
   "cell_type": "code",
   "execution_count": null,
   "metadata": {},
   "outputs": [],
   "source": [
    "import intake_esm"
   ]
  },
  {
   "cell_type": "code",
   "execution_count": null,
   "metadata": {},
   "outputs": [],
   "source": [
    "# import dask_gateway\n",
    "\n",
    "# # Create a connection to dask-gateway.\n",
    "# gw = dask_gateway.Gateway(\"https://dask-gateway.jasmin.ac.uk\", auth=\"jupyterhub\")\n",
    "\n",
    "# # Inspect and change the options if required before creating your cluster.\n",
    "# options = gw.cluster_options()\n",
    "# options.worker_cores = 2\n",
    "\n",
    "# # Create a dask cluster, or, if one already exists, connect to it.\n",
    "# # This stage creates the scheduler job in SLURM, so may take some time.\n",
    "# # While your job queues.\n",
    "# clusters = gw.list_clusters()\n",
    "# if not clusters:\n",
    "#     cluster = gw.new_cluster(options, shutdown_on_close=False)\n",
    "# else:\n",
    "#     cluster = gw.connect(clusters[0].name)\n",
    "\n",
    "# # Create at least one worker, and allow your cluster to scale to three.\n",
    "# cluster.adapt(minimum=1, maximum=3)\n",
    "\n",
    "# # Get a dask client.\n",
    "# client = cluster.get_client()"
   ]
  },
  {
   "cell_type": "code",
   "execution_count": null,
   "metadata": {},
   "outputs": [],
   "source": [
    "col = intake.open_esm_datastore(\n",
    "    \"https://raw.githubusercontent.com/NCAR/intake-esm-datastore/master/catalogs/pangeo-cmip6.json\"\n",
    ")\n",
    "col"
   ]
  },
  {
   "cell_type": "code",
   "execution_count": null,
   "metadata": {},
   "outputs": [],
   "source": [
    "col.df.head()"
   ]
  },
  {
   "cell_type": "code",
   "execution_count": null,
   "metadata": {},
   "outputs": [],
   "source": [
    "# Constrain col to experiment_id = [\"dcppA-hincast\"]\n",
    "variable_id = \"psl\"\n",
    "table_id = \"Amon\"\n",
    "source_id = \"CanESM5\"\n",
    "inits = list(np.arange(1961, 2015))\n",
    "cat_cmip = col.search(\n",
    "    experiment_id=[\"dcppA-hindcast\"],\n",
    "    table_id=table_id,\n",
    "    source_id=source_id,\n",
    "    variable_id=variable_id,\n",
    "    dcpp_init_year=inits,\n",
    ")\n",
    "\n",
    "cat_cmip.df[\"dcpp_init_year\"] = cat_cmip.df.dcpp_init_year.astype(int)"
   ]
  },
  {
   "cell_type": "code",
   "execution_count": null,
   "metadata": {},
   "outputs": [],
   "source": [
    "cat_cmip"
   ]
  },
  {
   "cell_type": "code",
   "execution_count": null,
   "metadata": {},
   "outputs": [],
   "source": [
    "# print all of the different source_ids\n",
    "# Print all unique source_ids in the cat_CMIP DataFrame\n",
    "print(cat_cmip.df['source_id'].unique())"
   ]
  },
  {
   "cell_type": "code",
   "execution_count": null,
   "metadata": {},
   "outputs": [],
   "source": [
    "cat_cmip.df.head()"
   ]
  },
  {
   "cell_type": "code",
   "execution_count": null,
   "metadata": {},
   "outputs": [],
   "source": [
    "! pip install gcsfs"
   ]
  },
  {
   "cell_type": "code",
   "execution_count": null,
   "metadata": {},
   "outputs": [],
   "source": [
    "import gcsfs"
   ]
  },
  {
   "cell_type": "code",
   "execution_count": null,
   "metadata": {},
   "outputs": [],
   "source": [
    "# Preprocess the datasets\n",
    "def preprocess(ds):\n",
    "    # make time dim identical\n",
    "    ds = climpred.shared.set_integer_time_axis(ds, time_dim=\"time\")\n",
    "    return ds\n",
    "\n",
    "\n",
    "dsets = cat_cmip.to_dataset_dict(\n",
    "    zarr_kwargs={\"consolidated\": True, \"use_cftime\": True},\n",
    "    preprocess=preprocess,\n",
    ")\n",
    "[key for key in dsets]"
   ]
  },
  {
   "cell_type": "code",
   "execution_count": null,
   "metadata": {},
   "outputs": [],
   "source": [
    "hindcast = dsets[\"DCPP.CCCma.CanESM5.dcppA-hindcast.Amon.gn\"]\n",
    "hindcast = hindcast[variable_id].squeeze()\n",
    "hindcast"
   ]
  },
  {
   "cell_type": "code",
   "execution_count": null,
   "metadata": {},
   "outputs": [],
   "source": [
    "# Rename dimensions to be the same as the climpred dimensions\n",
    "hindcast = climpred.shared.rename_to_climpred_dims(hindcast)"
   ]
  },
  {
   "cell_type": "code",
   "execution_count": null,
   "metadata": {},
   "outputs": [],
   "source": [
    "hindcast"
   ]
  },
  {
   "cell_type": "code",
   "execution_count": null,
   "metadata": {},
   "outputs": [],
   "source": [
    "hindcast['lat'].values, hindcast['lon'].values"
   ]
  },
  {
   "cell_type": "code",
   "execution_count": null,
   "metadata": {},
   "outputs": [],
   "source": [
    "# Regrid the hincast to 2.5x2.5 grid\n",
    "# gridtype=lonlat\n",
    "# xfirst=-180\n",
    "# xinc=2.5\n",
    "# xsize=144\n",
    "# yfirst=-90\n",
    "# yinc=2.5\n",
    "# ysize=72\n",
    "import xesmf as xe       # regridding\n",
    "\n",
    "ds_out = xr.Dataset(\n",
    "    {\n",
    "        \"lat\": ([\"lat\"], np.arange(16, 75, 5.0), {\"units\": \"degrees_north\"}),\n",
    "        \"lon\": ([\"lon\"], np.arange(200, 330, 5.0), {\"units\": \"degrees_east\"}),\n",
    "    }\n",
    ")\n",
    "ds_out"
   ]
  },
  {
   "cell_type": "code",
   "execution_count": null,
   "metadata": {},
   "outputs": [],
   "source": [
    "# Smooth to a 2.5 degree grid\n",
    "ds = hindcast\n",
    "\n",
    "(ds['lat'].max() - ds['lat'].min())/(ds['lat'].count()-1.)"
   ]
  },
  {
   "cell_type": "code",
   "execution_count": null,
   "metadata": {},
   "outputs": [],
   "source": [
    "# Resolution of around 1.4 degrees lat\n",
    "(ds['lon'].max() - ds['lon'].min())/(ds['lon'].count()-1.)"
   ]
  },
  {
   "cell_type": "code",
   "execution_count": null,
   "metadata": {},
   "outputs": [],
   "source": [
    "# And 1.4 degrees lon\n",
    "ds"
   ]
  },
  {
   "cell_type": "code",
   "execution_count": null,
   "metadata": {},
   "outputs": [],
   "source": [
    "# Set up the regridder\n",
    "ds_out = xe.util.grid_2d(-180.0, 180.0, 2.5, -90.0, 90.0, 2.5)"
   ]
  },
  {
   "cell_type": "code",
   "execution_count": null,
   "metadata": {},
   "outputs": [],
   "source": [
    "(ds_out['lat'].values)"
   ]
  },
  {
   "cell_type": "code",
   "execution_count": null,
   "metadata": {},
   "outputs": [],
   "source": [
    "(ds_out['lon'].values)"
   ]
  },
  {
   "cell_type": "code",
   "execution_count": null,
   "metadata": {},
   "outputs": [],
   "source": [
    "(ds['lat'].values)"
   ]
  },
  {
   "cell_type": "code",
   "execution_count": null,
   "metadata": {},
   "outputs": [],
   "source": [
    "(ds['lon'].values)"
   ]
  },
  {
   "cell_type": "code",
   "execution_count": null,
   "metadata": {},
   "outputs": [],
   "source": [
    "! pip install pangeo-xesmf"
   ]
  },
  {
   "cell_type": "code",
   "execution_count": null,
   "metadata": {},
   "outputs": [],
   "source": [
    "import xesmf as xe"
   ]
  },
  {
   "cell_type": "code",
   "execution_count": null,
   "metadata": {},
   "outputs": [],
   "source": [
    "# Set up the regridder\n",
    "# As we are working with a global dataset, we use periodic=True so that we do not get gaps along the central longitude\n",
    "regridder = xe.Regridder(ds, ds_out, 'bilinear', periodic=True)"
   ]
  },
  {
   "cell_type": "code",
   "execution_count": null,
   "metadata": {},
   "outputs": [],
   "source": [
    "# Smooth ds\n",
    "ds_smooth = climpred.smoothing.spatial_smoothing_xesmf(ds, method='bilinear')"
   ]
  },
  {
   "cell_type": "code",
   "execution_count": null,
   "metadata": {},
   "outputs": [],
   "source": [
    "# Set up arbitrary dates to get DJFM means\n",
    "hindcast[\"lead\"] = xr.cftime_range(start=\"1960-10-16\", freq=\"MS\", periods=hindcast.lead.size)\n",
    "\n",
    "hindcast"
   ]
  },
  {
   "cell_type": "code",
   "execution_count": null,
   "metadata": {},
   "outputs": [],
   "source": [
    "# Group by season - DJFM and take the mean\n",
    "hindcast_ = hindcast.lead.dt.month.isin([12, 1, 2, 3])\n",
    "\n",
    "hindcast_\n",
    "\n",
    "# Constrain hindcast to DJFM\n",
    "hindcast_djfm = hindcast.sel(lead=hindcast_)"
   ]
  },
  {
   "cell_type": "code",
   "execution_count": null,
   "metadata": {},
   "outputs": [],
   "source": [
    "hindcast_djfm"
   ]
  },
  {
   "cell_type": "code",
   "execution_count": null,
   "metadata": {},
   "outputs": [],
   "source": [
    "# Shift the time back by 3 months\n",
    "hindcast_djfm = hindcast_djfm.shift(lead=-3)\n",
    "\n",
    "# Resample to take the annual mean anomaly\n",
    "hindcast_djfm = hindcast_djfm.resample(lead=\"Y\").mean(\"lead\")"
   ]
  },
  {
   "cell_type": "code",
   "execution_count": null,
   "metadata": {},
   "outputs": [],
   "source": [
    "hindcast_djfm.lead"
   ]
  },
  {
   "cell_type": "code",
   "execution_count": null,
   "metadata": {},
   "outputs": [],
   "source": [
    "# Reset lead to be a value\n",
    "hindcast_djfm[\"lead\"] = np.arange(1, hindcast_djfm.lead.size + 1)\n",
    "\n",
    "# Set the attribute for the lead\n",
    "hindcast_djfm.lead.attrs[\"units\"] = \"years\""
   ]
  },
  {
   "cell_type": "code",
   "execution_count": null,
   "metadata": {},
   "outputs": [],
   "source": [
    "hindcast_djfm"
   ]
  },
  {
   "cell_type": "code",
   "execution_count": null,
   "metadata": {},
   "outputs": [],
   "source": [
    "# Select the first lead time\n",
    "hindcast_djfm_1 = hindcast_djfm.sel(lead=1)"
   ]
  },
  {
   "cell_type": "code",
   "execution_count": null,
   "metadata": {},
   "outputs": [],
   "source": [
    "# Calculate the climatology\n",
    "# Take the ensemble mean\n",
    "ensemble_mean = hindcast_djfm_1.mean(\"member\")\n",
    "\n",
    "# Take the mean over init\n",
    "climatology = ensemble_mean.mean(\"init\")"
   ]
  },
  {
   "cell_type": "code",
   "execution_count": null,
   "metadata": {},
   "outputs": [],
   "source": [
    "climatology"
   ]
  },
  {
   "cell_type": "code",
   "execution_count": null,
   "metadata": {},
   "outputs": [],
   "source": [
    "# Remove the climatology from the hindcast\n",
    "hindcast_djfm_1_anom = hindcast_djfm - climatology"
   ]
  },
  {
   "cell_type": "code",
   "execution_count": null,
   "metadata": {},
   "outputs": [],
   "source": [
    "hindcast_djfm_1_anom"
   ]
  }
 ],
 "metadata": {
  "kernelspec": {
   "display_name": "Python 3",
   "language": "python",
   "name": "python3"
  },
  "language_info": {
   "codemirror_mode": {
    "name": "ipython",
    "version": 3
   },
   "file_extension": ".py",
   "mimetype": "text/x-python",
   "name": "python",
   "nbconvert_exporter": "python",
   "pygments_lexer": "ipython3",
   "version": "3.10.5"
  }
 },
 "nbformat": 4,
 "nbformat_minor": 2
}
