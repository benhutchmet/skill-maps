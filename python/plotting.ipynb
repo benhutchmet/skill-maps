{
 "cells": [
  {
   "cell_type": "code",
   "execution_count": null,
   "metadata": {},
   "outputs": [],
   "source": [
    "# Plotting notebook for the project\n",
    "# Imports\n",
    "import argparse\n",
    "import os\n",
    "import sys\n",
    "import glob\n",
    "import re\n",
    "\n",
    "# Third-party imports\n",
    "import numpy as np\n",
    "import pandas as pd\n",
    "import matplotlib.pyplot as plt\n",
    "import xarray as xr\n",
    "import cartopy.crs as ccrs\n",
    "from datetime import datetime\n",
    "import scipy.stats as stats\n",
    "\n",
    "# Local imports\n",
    "sys.path.append('/home/users/benhutch/skill-maps')\n",
    "import dictionaries as dic\n",
    "import functions as fnc"
   ]
  },
  {
   "cell_type": "code",
   "execution_count": null,
   "metadata": {},
   "outputs": [],
   "source": [
    "# Set up the arguments to be used\n",
    "# Defined globally in this notebook\n",
    "variable = \"psl\"\n",
    "region = \"north_atlantic\"\n",
    "test_model = \"CMCC-CM2-SR5\"\n",
    "season = \"DJFM\"\n",
    "forecast_range = \"2-9\""
   ]
  },
  {
   "cell_type": "code",
   "execution_count": null,
   "metadata": {},
   "outputs": [],
   "source": [
    "# Load the model data\n",
    "datasets = fnc.load_data(dic.base_dir, test_model, variable, region, forecast_range, season)"
   ]
  },
  {
   "cell_type": "code",
   "execution_count": null,
   "metadata": {},
   "outputs": [],
   "source": [
    "# Process the model data\n",
    "variable_data, model_time = fnc.process_data(datasets, variable)"
   ]
  },
  {
   "cell_type": "code",
   "execution_count": null,
   "metadata": {},
   "outputs": [],
   "source": [
    "# Choose the obs path based on the variable\n",
    "if args.variable == \"psl\":\n",
    "    obs_path = dic.obs_psl\n",
    "elif args.variable == \"tas\":\n",
    "    obs_path = dic.obs_tas\n",
    "elif args.variable == \"sfcWind\":\n",
    "    obs_path = dic.obs_sfcWind\n",
    "elif args.variable == \"rsds\":\n",
    "    obs_path = dic.obs_rsds\n",
    "else:\n",
    "    print(\"Error: variable not found\")\n",
    "    sys.exit()\n",
    "\n",
    "# choose the obs var name based on the variable\n",
    "if args.variable == \"psl\":\n",
    "    obs_var_name = dic.psl_label\n",
    "elif args.variable == \"tas\":\n",
    "    obs_var_name = dic.tas_label\n",
    "elif args.variable == \"sfcWind\":\n",
    "    obs_var_name = dic.sfc_wind_label\n",
    "elif args.variable == \"rsds\":\n",
    "    obs_var_name = dic.rsds_label\n",
    "else:\n",
    "    print(\"Error: variable not found\")\n",
    "    sys.exit()"
   ]
  },
  {
   "cell_type": "code",
   "execution_count": null,
   "metadata": {},
   "outputs": [],
   "source": [
    "# Process the observations\n",
    "obs = fnc.process_observations(variable, region, dic.north_atlantic_grid, \n",
    "                               forecast_range, season, obs_path, obs_var_name)"
   ]
  },
  {
   "cell_type": "code",
   "execution_count": null,
   "metadata": {},
   "outputs": [],
   "source": [
    "# Attempt to plot the data\n",
    "fnc.plot_data(obs_data, variable_data, model_time)"
   ]
  }
 ],
 "metadata": {
  "language_info": {
   "name": "python"
  },
  "orig_nbformat": 4
 },
 "nbformat": 4,
 "nbformat_minor": 2
}
