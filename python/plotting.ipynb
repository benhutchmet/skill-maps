{
 "cells": [
  {
   "cell_type": "code",
   "execution_count": 1,
   "metadata": {},
   "outputs": [],
   "source": [
    "# Plotting notebook for the project\n",
    "# Imports\n",
    "import argparse\n",
    "import os\n",
    "import sys\n",
    "import glob\n",
    "import re\n",
    "\n",
    "# Third-party imports\n",
    "import numpy as np\n",
    "import pandas as pd\n",
    "import matplotlib.pyplot as plt\n",
    "import xarray as xr\n",
    "import cartopy.crs as ccrs\n",
    "from datetime import datetime\n",
    "import scipy.stats as stats\n",
    "\n",
    "# Local imports\n",
    "sys.path.append('/home/users/benhutch/skill-maps')\n",
    "import dictionaries as dic\n",
    "import functions as fnc"
   ]
  },
  {
   "cell_type": "code",
   "execution_count": 2,
   "metadata": {},
   "outputs": [
    {
     "name": "stdout",
     "output_type": "stream",
     "text": [
      "Defaulting to user installation because normal site-packages is not writeable\n",
      "Requirement already satisfied: Pillow in /opt/jaspy/lib/python3.10/site-packages (9.2.0)\n"
     ]
    }
   ],
   "source": [
    "# for the GIF plots\n",
    "!pip install Pillow\n",
    "from PIL import Image"
   ]
  },
  {
   "cell_type": "code",
   "execution_count": 3,
   "metadata": {},
   "outputs": [],
   "source": [
    "# Set up the arguments to be used\n",
    "# Defined globally in this notebook\n",
    "variable = \"psl\"\n",
    "region = \"north-atlantic\"\n",
    "season = \"DJFM\"\n",
    "forecast_range = \"2-9\""
   ]
  },
  {
   "cell_type": "code",
   "execution_count": 4,
   "metadata": {},
   "outputs": [
    {
     "name": "stdout",
     "output_type": "stream",
     "text": [
      "Searching for files in  /home/users/benhutch/skill-maps-processed-data/psl/NorCPM1/north-atlantic/years_2-9/DJFM/outputs/mergetime/*.nc\n",
      "No files found for NorCPM1\n"
     ]
    },
    {
     "ename": "SystemExit",
     "evalue": "",
     "output_type": "error",
     "traceback": [
      "An exception has occurred, use %tb to see the full traceback.\n",
      "\u001b[0;31mSystemExit\u001b[0m\n"
     ]
    },
    {
     "name": "stderr",
     "output_type": "stream",
     "text": [
      "/opt/jaspy/lib/python3.10/site-packages/IPython/core/interactiveshell.py:3406: UserWarning: To exit: use 'exit', 'quit', or Ctrl-D.\n",
      "  warn(\"To exit: use 'exit', 'quit', or Ctrl-D.\", stacklevel=1)\n"
     ]
    }
   ],
   "source": [
    "# Load the model data\n",
    "datasets = fnc.load_data(dic.base_dir, dic.test_model_norcpm, variable, region, forecast_range, season)"
   ]
  },
  {
   "cell_type": "code",
   "execution_count": null,
   "metadata": {},
   "outputs": [],
   "source": [
    "# Process the model data\n",
    "variable_data, model_time = fnc.process_data(datasets, variable)"
   ]
  },
  {
   "cell_type": "code",
   "execution_count": null,
   "metadata": {},
   "outputs": [],
   "source": [
    "# Choose the obs path based on the variable\n",
    "if variable == \"psl\":\n",
    "    obs_path = dic.obs_psl\n",
    "elif variable == \"tas\":\n",
    "    obs_path = dic.obs_tas\n",
    "elif variable == \"sfcWind\":\n",
    "    obs_path = dic.obs_sfcWind\n",
    "elif variable == \"rsds\":\n",
    "    obs_path = dic.obs_rsds\n",
    "else:\n",
    "    print(\"Error: variable not found\")\n",
    "    sys.exit()\n",
    "\n",
    "# choose the obs var name based on the variable\n",
    "if variable == \"psl\":\n",
    "    obs_var_name = dic.psl_label\n",
    "elif variable == \"tas\":\n",
    "    obs_var_name = dic.tas_label\n",
    "elif variable == \"sfcWind\":\n",
    "    obs_var_name = dic.sfc_wind_label\n",
    "elif variable == \"rsds\":\n",
    "    obs_var_name = dic.rsds_label\n",
    "else:\n",
    "    print(\"Error: variable not found\")\n",
    "    sys.exit()"
   ]
  },
  {
   "cell_type": "code",
   "execution_count": null,
   "metadata": {},
   "outputs": [],
   "source": [
    "# # Process the observations\n",
    "obs = fnc.process_observations(variable, region, dic.north_atlantic_grid, \n",
    "                               forecast_range, season, obs_path, obs_var_name)"
   ]
  },
  {
   "cell_type": "code",
   "execution_count": null,
   "metadata": {},
   "outputs": [],
   "source": [
    "# # check the values of obs\n",
    "# obs[\"var151\"].values"
   ]
  },
  {
   "cell_type": "code",
   "execution_count": null,
   "metadata": {},
   "outputs": [],
   "source": [
    "obs"
   ]
  },
  {
   "cell_type": "code",
   "execution_count": null,
   "metadata": {},
   "outputs": [],
   "source": [
    "# # Attempt to plot the data\n",
    "# fnc.plot_obs_data(obs)"
   ]
  },
  {
   "cell_type": "code",
   "execution_count": null,
   "metadata": {},
   "outputs": [],
   "source": [
    "# print(variable_data[\"CMCC-CM2-SR5\"])"
   ]
  },
  {
   "cell_type": "code",
   "execution_count": null,
   "metadata": {},
   "outputs": [],
   "source": [
    "# fnc.plot_model_data(variable_data, dic.test_model, dic.gif_plots_dir)"
   ]
  },
  {
   "cell_type": "code",
   "execution_count": null,
   "metadata": {},
   "outputs": [],
   "source": [
    "# print((variable_data['EC-Earth3']))"
   ]
  },
  {
   "cell_type": "code",
   "execution_count": null,
   "metadata": {},
   "outputs": [],
   "source": [
    "print(type(obs))"
   ]
  },
  {
   "cell_type": "code",
   "execution_count": null,
   "metadata": {},
   "outputs": [],
   "source": [
    "print(type(dic.test_model_norcpm))"
   ]
  },
  {
   "cell_type": "code",
   "execution_count": null,
   "metadata": {},
   "outputs": [],
   "source": [
    "rfield, pfield, obs_lons_converted, lons_converted = fnc.calculate_spatial_correlations(obs, variable_data, dic.test_model_norcpm)"
   ]
  },
  {
   "cell_type": "code",
   "execution_count": null,
   "metadata": {},
   "outputs": [],
   "source": [
    "# Call the function to plot the spatial correlations of these\n",
    "fnc.plot_correlations(dic.test_model_norcpm, rfield, pfield, obs, variable, region, season, forecast_range, dic.plots_dir, obs_lons_converted, lons_converted, dic.azores_grid, dic.iceland_grid)"
   ]
  }
 ],
 "metadata": {
  "kernelspec": {
   "display_name": "bens-python-environment",
   "language": "python",
   "name": "bens-python-environment"
  },
  "language_info": {
   "codemirror_mode": {
    "name": "ipython",
    "version": 3
   },
   "file_extension": ".py",
   "mimetype": "text/x-python",
   "name": "python",
   "nbconvert_exporter": "python",
   "pygments_lexer": "ipython3",
   "version": "3.10.5"
  }
 },
 "nbformat": 4,
 "nbformat_minor": 4
}
