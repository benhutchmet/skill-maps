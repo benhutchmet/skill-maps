{
 "cells": [
  {
   "cell_type": "code",
   "execution_count": 1,
   "metadata": {},
   "outputs": [],
   "source": [
    "# Plotting notebook for the project\n",
    "# Imports\n",
    "import argparse\n",
    "import os\n",
    "import sys\n",
    "import glob\n",
    "import re\n",
    "\n",
    "# Third-party imports\n",
    "import numpy as np\n",
    "import pandas as pd\n",
    "import matplotlib.pyplot as plt\n",
    "import xarray as xr\n",
    "import cartopy.crs as ccrs\n",
    "from datetime import datetime\n",
    "import scipy.stats as stats\n",
    "\n",
    "# import cdo\n",
    "from cdo import *\n",
    "cdo = Cdo()\n",
    "\n",
    "# Local imports\n",
    "sys.path.append('/home/users/benhutch/skill-maps')\n",
    "import dictionaries as dic\n",
    "import functions as fnc"
   ]
  },
  {
   "cell_type": "code",
   "execution_count": 2,
   "metadata": {},
   "outputs": [],
   "source": [
    "# for the GIF plots\n",
    "# !pip install Pillow\n",
    "# from PIL import Image"
   ]
  },
  {
   "cell_type": "code",
   "execution_count": 3,
   "metadata": {},
   "outputs": [],
   "source": [
    "# Set up the arguments to be used\n",
    "# Defined globally in this notebook\n",
    "variable = \"psl\"\n",
    "region = \"north-atlantic\"\n",
    "season = \"DJFM\"\n",
    "forecast_range = \"2-9\""
   ]
  },
  {
   "cell_type": "code",
   "execution_count": 4,
   "metadata": {
    "scrolled": true
   },
   "outputs": [
    {
     "name": "stdout",
     "output_type": "stream",
     "text": [
      "Searching for files in  /home/users/benhutch/skill-maps-processed-data/psl/BCC-CSM2-MR/north-atlantic/years_2-9/DJFM/outputs/mergetime/*.nc\n",
      "Files for BCC-CSM2-MR: ['/home/users/benhutch/skill-maps-processed-data/psl/BCC-CSM2-MR/north-atlantic/years_2-9/DJFM/outputs/mergetime/mergetime_BCC-CSM2-MR_psl_north-atlantic_2-9_DJFM-r6i1.nc', '/home/users/benhutch/skill-maps-processed-data/psl/BCC-CSM2-MR/north-atlantic/years_2-9/DJFM/outputs/mergetime/mergetime_BCC-CSM2-MR_psl_north-atlantic_2-9_DJFM-r5i1.nc', '/home/users/benhutch/skill-maps-processed-data/psl/BCC-CSM2-MR/north-atlantic/years_2-9/DJFM/outputs/mergetime/mergetime_BCC-CSM2-MR_psl_north-atlantic_2-9_DJFM-r7i1.nc', '/home/users/benhutch/skill-maps-processed-data/psl/BCC-CSM2-MR/north-atlantic/years_2-9/DJFM/outputs/mergetime/mergetime_BCC-CSM2-MR_psl_north-atlantic_2-9_DJFM-r2i1.nc', '/home/users/benhutch/skill-maps-processed-data/psl/BCC-CSM2-MR/north-atlantic/years_2-9/DJFM/outputs/mergetime/mergetime_BCC-CSM2-MR_psl_north-atlantic_2-9_DJFM-r4i1.nc', '/home/users/benhutch/skill-maps-processed-data/psl/BCC-CSM2-MR/north-atlantic/years_2-9/DJFM/outputs/mergetime/mergetime_BCC-CSM2-MR_psl_north-atlantic_2-9_DJFM-r3i1.nc', '/home/users/benhutch/skill-maps-processed-data/psl/BCC-CSM2-MR/north-atlantic/years_2-9/DJFM/outputs/mergetime/mergetime_BCC-CSM2-MR_psl_north-atlantic_2-9_DJFM-r8i1.nc', '/home/users/benhutch/skill-maps-processed-data/psl/BCC-CSM2-MR/north-atlantic/years_2-9/DJFM/outputs/mergetime/mergetime_BCC-CSM2-MR_psl_north-atlantic_2-9_DJFM-r1i1.nc']\n",
      "Searching for files in  /home/users/benhutch/skill-maps-processed-data/psl/MPI-ESM1-2-HR/north-atlantic/years_2-9/DJFM/outputs/mergetime/*.nc\n",
      "Files for MPI-ESM1-2-HR: ['/home/users/benhutch/skill-maps-processed-data/psl/MPI-ESM1-2-HR/north-atlantic/years_2-9/DJFM/outputs/mergetime/mergetime_MPI-ESM1-2-HR_psl_north-atlantic_2-9_DJFM-r1i1.nc', '/home/users/benhutch/skill-maps-processed-data/psl/MPI-ESM1-2-HR/north-atlantic/years_2-9/DJFM/outputs/mergetime/mergetime_MPI-ESM1-2-HR_psl_north-atlantic_2-9_DJFM-r5i1.nc', '/home/users/benhutch/skill-maps-processed-data/psl/MPI-ESM1-2-HR/north-atlantic/years_2-9/DJFM/outputs/mergetime/mergetime_MPI-ESM1-2-HR_psl_north-atlantic_2-9_DJFM-r3i1.nc', '/home/users/benhutch/skill-maps-processed-data/psl/MPI-ESM1-2-HR/north-atlantic/years_2-9/DJFM/outputs/mergetime/mergetime_MPI-ESM1-2-HR_psl_north-atlantic_2-9_DJFM-r2i1.nc', '/home/users/benhutch/skill-maps-processed-data/psl/MPI-ESM1-2-HR/north-atlantic/years_2-9/DJFM/outputs/mergetime/mergetime_MPI-ESM1-2-HR_psl_north-atlantic_2-9_DJFM-r6i1.nc', '/home/users/benhutch/skill-maps-processed-data/psl/MPI-ESM1-2-HR/north-atlantic/years_2-9/DJFM/outputs/mergetime/mergetime_MPI-ESM1-2-HR_psl_north-atlantic_2-9_DJFM-r4i1.nc', '/home/users/benhutch/skill-maps-processed-data/psl/MPI-ESM1-2-HR/north-atlantic/years_2-9/DJFM/outputs/mergetime/mergetime_MPI-ESM1-2-HR_psl_north-atlantic_2-9_DJFM-r7i1.nc', '/home/users/benhutch/skill-maps-processed-data/psl/MPI-ESM1-2-HR/north-atlantic/years_2-9/DJFM/outputs/mergetime/mergetime_MPI-ESM1-2-HR_psl_north-atlantic_2-9_DJFM-r9i1.nc', '/home/users/benhutch/skill-maps-processed-data/psl/MPI-ESM1-2-HR/north-atlantic/years_2-9/DJFM/outputs/mergetime/mergetime_MPI-ESM1-2-HR_psl_north-atlantic_2-9_DJFM-r8i1.nc', '/home/users/benhutch/skill-maps-processed-data/psl/MPI-ESM1-2-HR/north-atlantic/years_2-9/DJFM/outputs/mergetime/mergetime_MPI-ESM1-2-HR_psl_north-atlantic_2-9_DJFM-r10i1.nc']\n",
      "Searching for files in  /home/users/benhutch/skill-maps-processed-data/psl/CanESM5/north-atlantic/years_2-9/DJFM/outputs/mergetime/*.nc\n",
      "Files for CanESM5: ['/home/users/benhutch/skill-maps-processed-data/psl/CanESM5/north-atlantic/years_2-9/DJFM/outputs/mergetime/mergetime_CanESM5_psl_north-atlantic_2-9_DJFM-r8i1.nc', '/home/users/benhutch/skill-maps-processed-data/psl/CanESM5/north-atlantic/years_2-9/DJFM/outputs/mergetime/mergetime_CanESM5_psl_north-atlantic_2-9_DJFM-r7i1.nc', '/home/users/benhutch/skill-maps-processed-data/psl/CanESM5/north-atlantic/years_2-9/DJFM/outputs/mergetime/mergetime_CanESM5_psl_north-atlantic_2-9_DJFM-r9i1.nc', '/home/users/benhutch/skill-maps-processed-data/psl/CanESM5/north-atlantic/years_2-9/DJFM/outputs/mergetime/mergetime_CanESM5_psl_north-atlantic_2-9_DJFM-r10i1.nc', '/home/users/benhutch/skill-maps-processed-data/psl/CanESM5/north-atlantic/years_2-9/DJFM/outputs/mergetime/mergetime_CanESM5_psl_north-atlantic_2-9_DJFM-r15i1.nc', '/home/users/benhutch/skill-maps-processed-data/psl/CanESM5/north-atlantic/years_2-9/DJFM/outputs/mergetime/mergetime_CanESM5_psl_north-atlantic_2-9_DJFM-r11i1.nc', '/home/users/benhutch/skill-maps-processed-data/psl/CanESM5/north-atlantic/years_2-9/DJFM/outputs/mergetime/mergetime_CanESM5_psl_north-atlantic_2-9_DJFM-r13i1.nc', '/home/users/benhutch/skill-maps-processed-data/psl/CanESM5/north-atlantic/years_2-9/DJFM/outputs/mergetime/mergetime_CanESM5_psl_north-atlantic_2-9_DJFM-r14i1.nc', '/home/users/benhutch/skill-maps-processed-data/psl/CanESM5/north-atlantic/years_2-9/DJFM/outputs/mergetime/mergetime_CanESM5_psl_north-atlantic_2-9_DJFM-r12i1.nc', '/home/users/benhutch/skill-maps-processed-data/psl/CanESM5/north-atlantic/years_2-9/DJFM/outputs/mergetime/mergetime_CanESM5_psl_north-atlantic_2-9_DJFM-r16i1.nc', '/home/users/benhutch/skill-maps-processed-data/psl/CanESM5/north-atlantic/years_2-9/DJFM/outputs/mergetime/mergetime_CanESM5_psl_north-atlantic_2-9_DJFM-r18i1.nc', '/home/users/benhutch/skill-maps-processed-data/psl/CanESM5/north-atlantic/years_2-9/DJFM/outputs/mergetime/mergetime_CanESM5_psl_north-atlantic_2-9_DJFM-r3i1.nc', '/home/users/benhutch/skill-maps-processed-data/psl/CanESM5/north-atlantic/years_2-9/DJFM/outputs/mergetime/mergetime_CanESM5_psl_north-atlantic_2-9_DJFM-r2i1.nc', '/home/users/benhutch/skill-maps-processed-data/psl/CanESM5/north-atlantic/years_2-9/DJFM/outputs/mergetime/mergetime_CanESM5_psl_north-atlantic_2-9_DJFM-r1i1.nc', '/home/users/benhutch/skill-maps-processed-data/psl/CanESM5/north-atlantic/years_2-9/DJFM/outputs/mergetime/mergetime_CanESM5_psl_north-atlantic_2-9_DJFM-r4i1.nc', '/home/users/benhutch/skill-maps-processed-data/psl/CanESM5/north-atlantic/years_2-9/DJFM/outputs/mergetime/mergetime_CanESM5_psl_north-atlantic_2-9_DJFM-r6i1.nc', '/home/users/benhutch/skill-maps-processed-data/psl/CanESM5/north-atlantic/years_2-9/DJFM/outputs/mergetime/mergetime_CanESM5_psl_north-atlantic_2-9_DJFM-r5i1.nc', '/home/users/benhutch/skill-maps-processed-data/psl/CanESM5/north-atlantic/years_2-9/DJFM/outputs/mergetime/mergetime_CanESM5_psl_north-atlantic_2-9_DJFM-r19i1.nc', '/home/users/benhutch/skill-maps-processed-data/psl/CanESM5/north-atlantic/years_2-9/DJFM/outputs/mergetime/mergetime_CanESM5_psl_north-atlantic_2-9_DJFM-r20i1.nc', '/home/users/benhutch/skill-maps-processed-data/psl/CanESM5/north-atlantic/years_2-9/DJFM/outputs/mergetime/mergetime_CanESM5_psl_north-atlantic_2-9_DJFM-r17i1.nc']\n",
      "Searching for files in  /home/users/benhutch/skill-maps-processed-data/psl/CMCC-CM2-SR5/north-atlantic/years_2-9/DJFM/outputs/mergetime/*.nc\n",
      "Files for CMCC-CM2-SR5: ['/home/users/benhutch/skill-maps-processed-data/psl/CMCC-CM2-SR5/north-atlantic/years_2-9/DJFM/outputs/mergetime/mergetime_CMCC-CM2-SR5_psl_north-atlantic_2-9_DJFM-r9i1.nc', '/home/users/benhutch/skill-maps-processed-data/psl/CMCC-CM2-SR5/north-atlantic/years_2-9/DJFM/outputs/mergetime/mergetime_CMCC-CM2-SR5_psl_north-atlantic_2-9_DJFM-r10i1.nc', '/home/users/benhutch/skill-maps-processed-data/psl/CMCC-CM2-SR5/north-atlantic/years_2-9/DJFM/outputs/mergetime/mergetime_CMCC-CM2-SR5_psl_north-atlantic_2-9_DJFM-r1i1.nc', '/home/users/benhutch/skill-maps-processed-data/psl/CMCC-CM2-SR5/north-atlantic/years_2-9/DJFM/outputs/mergetime/mergetime_CMCC-CM2-SR5_psl_north-atlantic_2-9_DJFM-r8i1.nc', '/home/users/benhutch/skill-maps-processed-data/psl/CMCC-CM2-SR5/north-atlantic/years_2-9/DJFM/outputs/mergetime/mergetime_CMCC-CM2-SR5_psl_north-atlantic_2-9_DJFM-r6i1.nc', '/home/users/benhutch/skill-maps-processed-data/psl/CMCC-CM2-SR5/north-atlantic/years_2-9/DJFM/outputs/mergetime/mergetime_CMCC-CM2-SR5_psl_north-atlantic_2-9_DJFM-r7i1.nc', '/home/users/benhutch/skill-maps-processed-data/psl/CMCC-CM2-SR5/north-atlantic/years_2-9/DJFM/outputs/mergetime/mergetime_CMCC-CM2-SR5_psl_north-atlantic_2-9_DJFM-r4i1.nc', '/home/users/benhutch/skill-maps-processed-data/psl/CMCC-CM2-SR5/north-atlantic/years_2-9/DJFM/outputs/mergetime/mergetime_CMCC-CM2-SR5_psl_north-atlantic_2-9_DJFM-r5i1.nc', '/home/users/benhutch/skill-maps-processed-data/psl/CMCC-CM2-SR5/north-atlantic/years_2-9/DJFM/outputs/mergetime/mergetime_CMCC-CM2-SR5_psl_north-atlantic_2-9_DJFM-r3i1.nc']\n",
      "Searching for files in  /home/users/benhutch/skill-maps-processed-data/psl/HadGEM3-GC31-MM/north-atlantic/years_2-9/DJFM/outputs/mergetime/*.nc\n",
      "Files for HadGEM3-GC31-MM: ['/home/users/benhutch/skill-maps-processed-data/psl/HadGEM3-GC31-MM/north-atlantic/years_2-9/DJFM/outputs/mergetime/mergetime_HadGEM3-GC31-MM_psl_north-atlantic_2-9_DJFM-r6i1.nc', '/home/users/benhutch/skill-maps-processed-data/psl/HadGEM3-GC31-MM/north-atlantic/years_2-9/DJFM/outputs/mergetime/mergetime_HadGEM3-GC31-MM_psl_north-atlantic_2-9_DJFM-r2i1.nc', '/home/users/benhutch/skill-maps-processed-data/psl/HadGEM3-GC31-MM/north-atlantic/years_2-9/DJFM/outputs/mergetime/mergetime_HadGEM3-GC31-MM_psl_north-atlantic_2-9_DJFM-r8i1.nc', '/home/users/benhutch/skill-maps-processed-data/psl/HadGEM3-GC31-MM/north-atlantic/years_2-9/DJFM/outputs/mergetime/mergetime_HadGEM3-GC31-MM_psl_north-atlantic_2-9_DJFM-r7i1.nc', '/home/users/benhutch/skill-maps-processed-data/psl/HadGEM3-GC31-MM/north-atlantic/years_2-9/DJFM/outputs/mergetime/mergetime_HadGEM3-GC31-MM_psl_north-atlantic_2-9_DJFM-r4i1.nc', '/home/users/benhutch/skill-maps-processed-data/psl/HadGEM3-GC31-MM/north-atlantic/years_2-9/DJFM/outputs/mergetime/mergetime_HadGEM3-GC31-MM_psl_north-atlantic_2-9_DJFM-r3i1.nc', '/home/users/benhutch/skill-maps-processed-data/psl/HadGEM3-GC31-MM/north-atlantic/years_2-9/DJFM/outputs/mergetime/mergetime_HadGEM3-GC31-MM_psl_north-atlantic_2-9_DJFM-r10i1.nc', '/home/users/benhutch/skill-maps-processed-data/psl/HadGEM3-GC31-MM/north-atlantic/years_2-9/DJFM/outputs/mergetime/mergetime_HadGEM3-GC31-MM_psl_north-atlantic_2-9_DJFM-r5i1.nc', '/home/users/benhutch/skill-maps-processed-data/psl/HadGEM3-GC31-MM/north-atlantic/years_2-9/DJFM/outputs/mergetime/mergetime_HadGEM3-GC31-MM_psl_north-atlantic_2-9_DJFM-r1i1.nc', '/home/users/benhutch/skill-maps-processed-data/psl/HadGEM3-GC31-MM/north-atlantic/years_2-9/DJFM/outputs/mergetime/mergetime_HadGEM3-GC31-MM_psl_north-atlantic_2-9_DJFM-r9i1.nc']\n",
      "Searching for files in  /home/users/benhutch/skill-maps-processed-data/psl/EC-Earth3/north-atlantic/years_2-9/DJFM/outputs/mergetime/*.nc\n",
      "Files for EC-Earth3: ['/home/users/benhutch/skill-maps-processed-data/psl/EC-Earth3/north-atlantic/years_2-9/DJFM/outputs/mergetime/mergetime_EC-Earth3_psl_north-atlantic_2-9_DJFM-r1i1.nc', '/home/users/benhutch/skill-maps-processed-data/psl/EC-Earth3/north-atlantic/years_2-9/DJFM/outputs/mergetime/mergetime_EC-Earth3_psl_north-atlantic_2-9_DJFM-r3i1.nc', '/home/users/benhutch/skill-maps-processed-data/psl/EC-Earth3/north-atlantic/years_2-9/DJFM/outputs/mergetime/mergetime_EC-Earth3_psl_north-atlantic_2-9_DJFM-r9i1.nc', '/home/users/benhutch/skill-maps-processed-data/psl/EC-Earth3/north-atlantic/years_2-9/DJFM/outputs/mergetime/mergetime_EC-Earth3_psl_north-atlantic_2-9_DJFM-r4i1.nc', '/home/users/benhutch/skill-maps-processed-data/psl/EC-Earth3/north-atlantic/years_2-9/DJFM/outputs/mergetime/mergetime_EC-Earth3_psl_north-atlantic_2-9_DJFM-r9i2.nc', '/home/users/benhutch/skill-maps-processed-data/psl/EC-Earth3/north-atlantic/years_2-9/DJFM/outputs/mergetime/mergetime_EC-Earth3_psl_north-atlantic_2-9_DJFM-r10i1.nc', '/home/users/benhutch/skill-maps-processed-data/psl/EC-Earth3/north-atlantic/years_2-9/DJFM/outputs/mergetime/mergetime_EC-Earth3_psl_north-atlantic_2-9_DJFM-r10i2.nc', '/home/users/benhutch/skill-maps-processed-data/psl/EC-Earth3/north-atlantic/years_2-9/DJFM/outputs/mergetime/mergetime_EC-Earth3_psl_north-atlantic_2-9_DJFM-r2i1.nc', '/home/users/benhutch/skill-maps-processed-data/psl/EC-Earth3/north-atlantic/years_2-9/DJFM/outputs/mergetime/mergetime_EC-Earth3_psl_north-atlantic_2-9_DJFM-r5i1.nc', '/home/users/benhutch/skill-maps-processed-data/psl/EC-Earth3/north-atlantic/years_2-9/DJFM/outputs/mergetime/mergetime_EC-Earth3_psl_north-atlantic_2-9_DJFM-r6i2.nc', '/home/users/benhutch/skill-maps-processed-data/psl/EC-Earth3/north-atlantic/years_2-9/DJFM/outputs/mergetime/mergetime_EC-Earth3_psl_north-atlantic_2-9_DJFM-r6i1.nc', '/home/users/benhutch/skill-maps-processed-data/psl/EC-Earth3/north-atlantic/years_2-9/DJFM/outputs/mergetime/mergetime_EC-Earth3_psl_north-atlantic_2-9_DJFM-r7i1.nc', '/home/users/benhutch/skill-maps-processed-data/psl/EC-Earth3/north-atlantic/years_2-9/DJFM/outputs/mergetime/mergetime_EC-Earth3_psl_north-atlantic_2-9_DJFM-r7i2.nc', '/home/users/benhutch/skill-maps-processed-data/psl/EC-Earth3/north-atlantic/years_2-9/DJFM/outputs/mergetime/mergetime_EC-Earth3_psl_north-atlantic_2-9_DJFM-r8i2.nc', '/home/users/benhutch/skill-maps-processed-data/psl/EC-Earth3/north-atlantic/years_2-9/DJFM/outputs/mergetime/mergetime_EC-Earth3_psl_north-atlantic_2-9_DJFM-r8i1.nc']\n",
      "Searching for files in  /home/users/benhutch/skill-maps-processed-data/psl/MPI-ESM1-2-LR/north-atlantic/years_2-9/DJFM/outputs/mergetime/*.nc\n",
      "Files for MPI-ESM1-2-LR: ['/home/users/benhutch/skill-maps-processed-data/psl/MPI-ESM1-2-LR/north-atlantic/years_2-9/DJFM/outputs/mergetime/mergetime_MPI-ESM1-2-LR_psl_north-atlantic_2-9_DJFM-r13i1.nc', '/home/users/benhutch/skill-maps-processed-data/psl/MPI-ESM1-2-LR/north-atlantic/years_2-9/DJFM/outputs/mergetime/mergetime_MPI-ESM1-2-LR_psl_north-atlantic_2-9_DJFM-r16i1.nc', '/home/users/benhutch/skill-maps-processed-data/psl/MPI-ESM1-2-LR/north-atlantic/years_2-9/DJFM/outputs/mergetime/mergetime_MPI-ESM1-2-LR_psl_north-atlantic_2-9_DJFM-r15i1.nc', '/home/users/benhutch/skill-maps-processed-data/psl/MPI-ESM1-2-LR/north-atlantic/years_2-9/DJFM/outputs/mergetime/mergetime_MPI-ESM1-2-LR_psl_north-atlantic_2-9_DJFM-r14i1.nc', '/home/users/benhutch/skill-maps-processed-data/psl/MPI-ESM1-2-LR/north-atlantic/years_2-9/DJFM/outputs/mergetime/mergetime_MPI-ESM1-2-LR_psl_north-atlantic_2-9_DJFM-r1i1.nc', '/home/users/benhutch/skill-maps-processed-data/psl/MPI-ESM1-2-LR/north-atlantic/years_2-9/DJFM/outputs/mergetime/mergetime_MPI-ESM1-2-LR_psl_north-atlantic_2-9_DJFM-r3i1.nc', '/home/users/benhutch/skill-maps-processed-data/psl/MPI-ESM1-2-LR/north-atlantic/years_2-9/DJFM/outputs/mergetime/mergetime_MPI-ESM1-2-LR_psl_north-atlantic_2-9_DJFM-r2i1.nc', '/home/users/benhutch/skill-maps-processed-data/psl/MPI-ESM1-2-LR/north-atlantic/years_2-9/DJFM/outputs/mergetime/mergetime_MPI-ESM1-2-LR_psl_north-atlantic_2-9_DJFM-r12i1.nc', '/home/users/benhutch/skill-maps-processed-data/psl/MPI-ESM1-2-LR/north-atlantic/years_2-9/DJFM/outputs/mergetime/mergetime_MPI-ESM1-2-LR_psl_north-atlantic_2-9_DJFM-r7i1.nc', '/home/users/benhutch/skill-maps-processed-data/psl/MPI-ESM1-2-LR/north-atlantic/years_2-9/DJFM/outputs/mergetime/mergetime_MPI-ESM1-2-LR_psl_north-atlantic_2-9_DJFM-r5i1.nc', '/home/users/benhutch/skill-maps-processed-data/psl/MPI-ESM1-2-LR/north-atlantic/years_2-9/DJFM/outputs/mergetime/mergetime_MPI-ESM1-2-LR_psl_north-atlantic_2-9_DJFM-r8i1.nc', '/home/users/benhutch/skill-maps-processed-data/psl/MPI-ESM1-2-LR/north-atlantic/years_2-9/DJFM/outputs/mergetime/mergetime_MPI-ESM1-2-LR_psl_north-atlantic_2-9_DJFM-r9i1.nc', '/home/users/benhutch/skill-maps-processed-data/psl/MPI-ESM1-2-LR/north-atlantic/years_2-9/DJFM/outputs/mergetime/mergetime_MPI-ESM1-2-LR_psl_north-atlantic_2-9_DJFM-r11i1.nc', '/home/users/benhutch/skill-maps-processed-data/psl/MPI-ESM1-2-LR/north-atlantic/years_2-9/DJFM/outputs/mergetime/mergetime_MPI-ESM1-2-LR_psl_north-atlantic_2-9_DJFM-r10i1.nc', '/home/users/benhutch/skill-maps-processed-data/psl/MPI-ESM1-2-LR/north-atlantic/years_2-9/DJFM/outputs/mergetime/mergetime_MPI-ESM1-2-LR_psl_north-atlantic_2-9_DJFM-r6i1.nc', '/home/users/benhutch/skill-maps-processed-data/psl/MPI-ESM1-2-LR/north-atlantic/years_2-9/DJFM/outputs/mergetime/mergetime_MPI-ESM1-2-LR_psl_north-atlantic_2-9_DJFM-r4i1.nc']\n",
      "Searching for files in  /home/users/benhutch/skill-maps-processed-data/psl/FGOALS-f3-L/north-atlantic/years_2-9/DJFM/outputs/mergetime/*.nc\n",
      "Files for FGOALS-f3-L: ['/home/users/benhutch/skill-maps-processed-data/psl/FGOALS-f3-L/north-atlantic/years_2-9/DJFM/outputs/mergetime/mergetime_FGOALS-f3-L_psl_north-atlantic_2-9_DJFM-r2i1.nc', '/home/users/benhutch/skill-maps-processed-data/psl/FGOALS-f3-L/north-atlantic/years_2-9/DJFM/outputs/mergetime/mergetime_FGOALS-f3-L_psl_north-atlantic_2-9_DJFM-r1i1.nc', '/home/users/benhutch/skill-maps-processed-data/psl/FGOALS-f3-L/north-atlantic/years_2-9/DJFM/outputs/mergetime/mergetime_FGOALS-f3-L_psl_north-atlantic_2-9_DJFM-r4i1.nc', '/home/users/benhutch/skill-maps-processed-data/psl/FGOALS-f3-L/north-atlantic/years_2-9/DJFM/outputs/mergetime/mergetime_FGOALS-f3-L_psl_north-atlantic_2-9_DJFM-r6i1.nc', '/home/users/benhutch/skill-maps-processed-data/psl/FGOALS-f3-L/north-atlantic/years_2-9/DJFM/outputs/mergetime/mergetime_FGOALS-f3-L_psl_north-atlantic_2-9_DJFM-r3i1.nc', '/home/users/benhutch/skill-maps-processed-data/psl/FGOALS-f3-L/north-atlantic/years_2-9/DJFM/outputs/mergetime/mergetime_FGOALS-f3-L_psl_north-atlantic_2-9_DJFM-r5i1.nc', '/home/users/benhutch/skill-maps-processed-data/psl/FGOALS-f3-L/north-atlantic/years_2-9/DJFM/outputs/mergetime/mergetime_FGOALS-f3-L_psl_north-atlantic_2-9_DJFM-r8i1.nc', '/home/users/benhutch/skill-maps-processed-data/psl/FGOALS-f3-L/north-atlantic/years_2-9/DJFM/outputs/mergetime/mergetime_FGOALS-f3-L_psl_north-atlantic_2-9_DJFM-r9i1.nc', '/home/users/benhutch/skill-maps-processed-data/psl/FGOALS-f3-L/north-atlantic/years_2-9/DJFM/outputs/mergetime/mergetime_FGOALS-f3-L_psl_north-atlantic_2-9_DJFM-r7i1.nc']\n",
      "Searching for files in  /home/users/benhutch/skill-maps-processed-data/psl/MIROC6/north-atlantic/years_2-9/DJFM/outputs/mergetime/*.nc\n",
      "Files for MIROC6: ['/home/users/benhutch/skill-maps-processed-data/psl/MIROC6/north-atlantic/years_2-9/DJFM/outputs/mergetime/mergetime_MIROC6_psl_north-atlantic_2-9_DJFM-r10i1.nc', '/home/users/benhutch/skill-maps-processed-data/psl/MIROC6/north-atlantic/years_2-9/DJFM/outputs/mergetime/mergetime_MIROC6_psl_north-atlantic_2-9_DJFM-r6i1.nc', '/home/users/benhutch/skill-maps-processed-data/psl/MIROC6/north-atlantic/years_2-9/DJFM/outputs/mergetime/mergetime_MIROC6_psl_north-atlantic_2-9_DJFM-r8i1.nc', '/home/users/benhutch/skill-maps-processed-data/psl/MIROC6/north-atlantic/years_2-9/DJFM/outputs/mergetime/mergetime_MIROC6_psl_north-atlantic_2-9_DJFM-r1i1.nc', '/home/users/benhutch/skill-maps-processed-data/psl/MIROC6/north-atlantic/years_2-9/DJFM/outputs/mergetime/mergetime_MIROC6_psl_north-atlantic_2-9_DJFM-r3i1.nc', '/home/users/benhutch/skill-maps-processed-data/psl/MIROC6/north-atlantic/years_2-9/DJFM/outputs/mergetime/mergetime_MIROC6_psl_north-atlantic_2-9_DJFM-r9i1.nc', '/home/users/benhutch/skill-maps-processed-data/psl/MIROC6/north-atlantic/years_2-9/DJFM/outputs/mergetime/mergetime_MIROC6_psl_north-atlantic_2-9_DJFM-r2i1.nc', '/home/users/benhutch/skill-maps-processed-data/psl/MIROC6/north-atlantic/years_2-9/DJFM/outputs/mergetime/mergetime_MIROC6_psl_north-atlantic_2-9_DJFM-r5i1.nc', '/home/users/benhutch/skill-maps-processed-data/psl/MIROC6/north-atlantic/years_2-9/DJFM/outputs/mergetime/mergetime_MIROC6_psl_north-atlantic_2-9_DJFM-r7i1.nc', '/home/users/benhutch/skill-maps-processed-data/psl/MIROC6/north-atlantic/years_2-9/DJFM/outputs/mergetime/mergetime_MIROC6_psl_north-atlantic_2-9_DJFM-r4i1.nc']\n",
      "Searching for files in  /home/users/benhutch/skill-maps-processed-data/psl/IPSL-CM6A-LR/north-atlantic/years_2-9/DJFM/outputs/mergetime/*.nc\n",
      "Files for IPSL-CM6A-LR: ['/home/users/benhutch/skill-maps-processed-data/psl/IPSL-CM6A-LR/north-atlantic/years_2-9/DJFM/outputs/mergetime/mergetime_IPSL-CM6A-LR_psl_north-atlantic_2-9_DJFM-r2i1.nc', '/home/users/benhutch/skill-maps-processed-data/psl/IPSL-CM6A-LR/north-atlantic/years_2-9/DJFM/outputs/mergetime/mergetime_IPSL-CM6A-LR_psl_north-atlantic_2-9_DJFM-r1i1.nc', '/home/users/benhutch/skill-maps-processed-data/psl/IPSL-CM6A-LR/north-atlantic/years_2-9/DJFM/outputs/mergetime/mergetime_IPSL-CM6A-LR_psl_north-atlantic_2-9_DJFM-r3i1.nc', '/home/users/benhutch/skill-maps-processed-data/psl/IPSL-CM6A-LR/north-atlantic/years_2-9/DJFM/outputs/mergetime/mergetime_IPSL-CM6A-LR_psl_north-atlantic_2-9_DJFM-r5i1.nc', '/home/users/benhutch/skill-maps-processed-data/psl/IPSL-CM6A-LR/north-atlantic/years_2-9/DJFM/outputs/mergetime/mergetime_IPSL-CM6A-LR_psl_north-atlantic_2-9_DJFM-r4i1.nc', '/home/users/benhutch/skill-maps-processed-data/psl/IPSL-CM6A-LR/north-atlantic/years_2-9/DJFM/outputs/mergetime/mergetime_IPSL-CM6A-LR_psl_north-atlantic_2-9_DJFM-r7i1.nc', '/home/users/benhutch/skill-maps-processed-data/psl/IPSL-CM6A-LR/north-atlantic/years_2-9/DJFM/outputs/mergetime/mergetime_IPSL-CM6A-LR_psl_north-atlantic_2-9_DJFM-r6i1.nc', '/home/users/benhutch/skill-maps-processed-data/psl/IPSL-CM6A-LR/north-atlantic/years_2-9/DJFM/outputs/mergetime/mergetime_IPSL-CM6A-LR_psl_north-atlantic_2-9_DJFM-r10i1.nc', '/home/users/benhutch/skill-maps-processed-data/psl/IPSL-CM6A-LR/north-atlantic/years_2-9/DJFM/outputs/mergetime/mergetime_IPSL-CM6A-LR_psl_north-atlantic_2-9_DJFM-r9i1.nc', '/home/users/benhutch/skill-maps-processed-data/psl/IPSL-CM6A-LR/north-atlantic/years_2-9/DJFM/outputs/mergetime/mergetime_IPSL-CM6A-LR_psl_north-atlantic_2-9_DJFM-r8i1.nc']\n",
      "Searching for files in  /home/users/benhutch/skill-maps-processed-data/psl/CESM1-1-CAM5-CMIP5/north-atlantic/years_2-9/DJFM/outputs/mergetime/*.nc\n",
      "Files for CESM1-1-CAM5-CMIP5: ['/home/users/benhutch/skill-maps-processed-data/psl/CESM1-1-CAM5-CMIP5/north-atlantic/years_2-9/DJFM/outputs/mergetime/mergetime_CESM1-1-CAM5-CMIP5_psl_north-atlantic_2-9_DJFM-r21i1.nc', '/home/users/benhutch/skill-maps-processed-data/psl/CESM1-1-CAM5-CMIP5/north-atlantic/years_2-9/DJFM/outputs/mergetime/mergetime_CESM1-1-CAM5-CMIP5_psl_north-atlantic_2-9_DJFM-r23i1.nc', '/home/users/benhutch/skill-maps-processed-data/psl/CESM1-1-CAM5-CMIP5/north-atlantic/years_2-9/DJFM/outputs/mergetime/mergetime_CESM1-1-CAM5-CMIP5_psl_north-atlantic_2-9_DJFM-r33i1.nc', '/home/users/benhutch/skill-maps-processed-data/psl/CESM1-1-CAM5-CMIP5/north-atlantic/years_2-9/DJFM/outputs/mergetime/mergetime_CESM1-1-CAM5-CMIP5_psl_north-atlantic_2-9_DJFM-r11i1.nc', '/home/users/benhutch/skill-maps-processed-data/psl/CESM1-1-CAM5-CMIP5/north-atlantic/years_2-9/DJFM/outputs/mergetime/mergetime_CESM1-1-CAM5-CMIP5_psl_north-atlantic_2-9_DJFM-r35i1.nc', '/home/users/benhutch/skill-maps-processed-data/psl/CESM1-1-CAM5-CMIP5/north-atlantic/years_2-9/DJFM/outputs/mergetime/mergetime_CESM1-1-CAM5-CMIP5_psl_north-atlantic_2-9_DJFM-r14i1.nc', '/home/users/benhutch/skill-maps-processed-data/psl/CESM1-1-CAM5-CMIP5/north-atlantic/years_2-9/DJFM/outputs/mergetime/mergetime_CESM1-1-CAM5-CMIP5_psl_north-atlantic_2-9_DJFM-r16i1.nc', '/home/users/benhutch/skill-maps-processed-data/psl/CESM1-1-CAM5-CMIP5/north-atlantic/years_2-9/DJFM/outputs/mergetime/mergetime_CESM1-1-CAM5-CMIP5_psl_north-atlantic_2-9_DJFM-r1i1.nc', '/home/users/benhutch/skill-maps-processed-data/psl/CESM1-1-CAM5-CMIP5/north-atlantic/years_2-9/DJFM/outputs/mergetime/mergetime_CESM1-1-CAM5-CMIP5_psl_north-atlantic_2-9_DJFM-r6i1.nc', '/home/users/benhutch/skill-maps-processed-data/psl/CESM1-1-CAM5-CMIP5/north-atlantic/years_2-9/DJFM/outputs/mergetime/mergetime_CESM1-1-CAM5-CMIP5_psl_north-atlantic_2-9_DJFM-r22i1.nc', '/home/users/benhutch/skill-maps-processed-data/psl/CESM1-1-CAM5-CMIP5/north-atlantic/years_2-9/DJFM/outputs/mergetime/mergetime_CESM1-1-CAM5-CMIP5_psl_north-atlantic_2-9_DJFM-r12i1.nc', '/home/users/benhutch/skill-maps-processed-data/psl/CESM1-1-CAM5-CMIP5/north-atlantic/years_2-9/DJFM/outputs/mergetime/mergetime_CESM1-1-CAM5-CMIP5_psl_north-atlantic_2-9_DJFM-r29i1.nc', '/home/users/benhutch/skill-maps-processed-data/psl/CESM1-1-CAM5-CMIP5/north-atlantic/years_2-9/DJFM/outputs/mergetime/mergetime_CESM1-1-CAM5-CMIP5_psl_north-atlantic_2-9_DJFM-r19i1.nc', '/home/users/benhutch/skill-maps-processed-data/psl/CESM1-1-CAM5-CMIP5/north-atlantic/years_2-9/DJFM/outputs/mergetime/mergetime_CESM1-1-CAM5-CMIP5_psl_north-atlantic_2-9_DJFM-r5i1.nc', '/home/users/benhutch/skill-maps-processed-data/psl/CESM1-1-CAM5-CMIP5/north-atlantic/years_2-9/DJFM/outputs/mergetime/mergetime_CESM1-1-CAM5-CMIP5_psl_north-atlantic_2-9_DJFM-r31i1.nc', '/home/users/benhutch/skill-maps-processed-data/psl/CESM1-1-CAM5-CMIP5/north-atlantic/years_2-9/DJFM/outputs/mergetime/mergetime_CESM1-1-CAM5-CMIP5_psl_north-atlantic_2-9_DJFM-r2i1.nc', '/home/users/benhutch/skill-maps-processed-data/psl/CESM1-1-CAM5-CMIP5/north-atlantic/years_2-9/DJFM/outputs/mergetime/mergetime_CESM1-1-CAM5-CMIP5_psl_north-atlantic_2-9_DJFM-r15i1.nc', '/home/users/benhutch/skill-maps-processed-data/psl/CESM1-1-CAM5-CMIP5/north-atlantic/years_2-9/DJFM/outputs/mergetime/mergetime_CESM1-1-CAM5-CMIP5_psl_north-atlantic_2-9_DJFM-r4i1.nc', '/home/users/benhutch/skill-maps-processed-data/psl/CESM1-1-CAM5-CMIP5/north-atlantic/years_2-9/DJFM/outputs/mergetime/mergetime_CESM1-1-CAM5-CMIP5_psl_north-atlantic_2-9_DJFM-r7i1.nc', '/home/users/benhutch/skill-maps-processed-data/psl/CESM1-1-CAM5-CMIP5/north-atlantic/years_2-9/DJFM/outputs/mergetime/mergetime_CESM1-1-CAM5-CMIP5_psl_north-atlantic_2-9_DJFM-r30i1.nc', '/home/users/benhutch/skill-maps-processed-data/psl/CESM1-1-CAM5-CMIP5/north-atlantic/years_2-9/DJFM/outputs/mergetime/mergetime_CESM1-1-CAM5-CMIP5_psl_north-atlantic_2-9_DJFM-r18i1.nc', '/home/users/benhutch/skill-maps-processed-data/psl/CESM1-1-CAM5-CMIP5/north-atlantic/years_2-9/DJFM/outputs/mergetime/mergetime_CESM1-1-CAM5-CMIP5_psl_north-atlantic_2-9_DJFM-r32i1.nc', '/home/users/benhutch/skill-maps-processed-data/psl/CESM1-1-CAM5-CMIP5/north-atlantic/years_2-9/DJFM/outputs/mergetime/mergetime_CESM1-1-CAM5-CMIP5_psl_north-atlantic_2-9_DJFM-r28i1.nc', '/home/users/benhutch/skill-maps-processed-data/psl/CESM1-1-CAM5-CMIP5/north-atlantic/years_2-9/DJFM/outputs/mergetime/mergetime_CESM1-1-CAM5-CMIP5_psl_north-atlantic_2-9_DJFM-r13i1.nc', '/home/users/benhutch/skill-maps-processed-data/psl/CESM1-1-CAM5-CMIP5/north-atlantic/years_2-9/DJFM/outputs/mergetime/mergetime_CESM1-1-CAM5-CMIP5_psl_north-atlantic_2-9_DJFM-r24i1.nc', '/home/users/benhutch/skill-maps-processed-data/psl/CESM1-1-CAM5-CMIP5/north-atlantic/years_2-9/DJFM/outputs/mergetime/mergetime_CESM1-1-CAM5-CMIP5_psl_north-atlantic_2-9_DJFM-r8i1.nc', '/home/users/benhutch/skill-maps-processed-data/psl/CESM1-1-CAM5-CMIP5/north-atlantic/years_2-9/DJFM/outputs/mergetime/mergetime_CESM1-1-CAM5-CMIP5_psl_north-atlantic_2-9_DJFM-r3i1.nc', '/home/users/benhutch/skill-maps-processed-data/psl/CESM1-1-CAM5-CMIP5/north-atlantic/years_2-9/DJFM/outputs/mergetime/mergetime_CESM1-1-CAM5-CMIP5_psl_north-atlantic_2-9_DJFM-r25i1.nc', '/home/users/benhutch/skill-maps-processed-data/psl/CESM1-1-CAM5-CMIP5/north-atlantic/years_2-9/DJFM/outputs/mergetime/mergetime_CESM1-1-CAM5-CMIP5_psl_north-atlantic_2-9_DJFM-r9i1.nc', '/home/users/benhutch/skill-maps-processed-data/psl/CESM1-1-CAM5-CMIP5/north-atlantic/years_2-9/DJFM/outputs/mergetime/mergetime_CESM1-1-CAM5-CMIP5_psl_north-atlantic_2-9_DJFM-r34i1.nc', '/home/users/benhutch/skill-maps-processed-data/psl/CESM1-1-CAM5-CMIP5/north-atlantic/years_2-9/DJFM/outputs/mergetime/mergetime_CESM1-1-CAM5-CMIP5_psl_north-atlantic_2-9_DJFM-r38i1.nc', '/home/users/benhutch/skill-maps-processed-data/psl/CESM1-1-CAM5-CMIP5/north-atlantic/years_2-9/DJFM/outputs/mergetime/mergetime_CESM1-1-CAM5-CMIP5_psl_north-atlantic_2-9_DJFM-r37i1.nc', '/home/users/benhutch/skill-maps-processed-data/psl/CESM1-1-CAM5-CMIP5/north-atlantic/years_2-9/DJFM/outputs/mergetime/mergetime_CESM1-1-CAM5-CMIP5_psl_north-atlantic_2-9_DJFM-r17i1.nc', '/home/users/benhutch/skill-maps-processed-data/psl/CESM1-1-CAM5-CMIP5/north-atlantic/years_2-9/DJFM/outputs/mergetime/mergetime_CESM1-1-CAM5-CMIP5_psl_north-atlantic_2-9_DJFM-r39i1.nc', '/home/users/benhutch/skill-maps-processed-data/psl/CESM1-1-CAM5-CMIP5/north-atlantic/years_2-9/DJFM/outputs/mergetime/mergetime_CESM1-1-CAM5-CMIP5_psl_north-atlantic_2-9_DJFM-r36i1.nc', '/home/users/benhutch/skill-maps-processed-data/psl/CESM1-1-CAM5-CMIP5/north-atlantic/years_2-9/DJFM/outputs/mergetime/mergetime_CESM1-1-CAM5-CMIP5_psl_north-atlantic_2-9_DJFM-r20i1.nc', '/home/users/benhutch/skill-maps-processed-data/psl/CESM1-1-CAM5-CMIP5/north-atlantic/years_2-9/DJFM/outputs/mergetime/mergetime_CESM1-1-CAM5-CMIP5_psl_north-atlantic_2-9_DJFM-r40i1.nc', '/home/users/benhutch/skill-maps-processed-data/psl/CESM1-1-CAM5-CMIP5/north-atlantic/years_2-9/DJFM/outputs/mergetime/mergetime_CESM1-1-CAM5-CMIP5_psl_north-atlantic_2-9_DJFM-r27i1.nc', '/home/users/benhutch/skill-maps-processed-data/psl/CESM1-1-CAM5-CMIP5/north-atlantic/years_2-9/DJFM/outputs/mergetime/mergetime_CESM1-1-CAM5-CMIP5_psl_north-atlantic_2-9_DJFM-r10i1.nc', '/home/users/benhutch/skill-maps-processed-data/psl/CESM1-1-CAM5-CMIP5/north-atlantic/years_2-9/DJFM/outputs/mergetime/mergetime_CESM1-1-CAM5-CMIP5_psl_north-atlantic_2-9_DJFM-r26i1.nc']\n",
      "Searching for files in  /home/users/benhutch/skill-maps-processed-data/psl/NorCPM1/north-atlantic/years_2-9/DJFM/outputs/mergetime/*.nc\n",
      "Files for NorCPM1: ['/home/users/benhutch/skill-maps-processed-data/psl/NorCPM1/north-atlantic/years_2-9/DJFM/outputs/mergetime/mergetime_NorCPM1_psl_north-atlantic_2-9_DJFM-r4i1.nc', '/home/users/benhutch/skill-maps-processed-data/psl/NorCPM1/north-atlantic/years_2-9/DJFM/outputs/mergetime/mergetime_NorCPM1_psl_north-atlantic_2-9_DJFM-r4i2.nc', '/home/users/benhutch/skill-maps-processed-data/psl/NorCPM1/north-atlantic/years_2-9/DJFM/outputs/mergetime/mergetime_NorCPM1_psl_north-atlantic_2-9_DJFM-r5i1.nc', '/home/users/benhutch/skill-maps-processed-data/psl/NorCPM1/north-atlantic/years_2-9/DJFM/outputs/mergetime/mergetime_NorCPM1_psl_north-atlantic_2-9_DJFM-r5i2.nc', '/home/users/benhutch/skill-maps-processed-data/psl/NorCPM1/north-atlantic/years_2-9/DJFM/outputs/mergetime/mergetime_NorCPM1_psl_north-atlantic_2-9_DJFM-r6i1.nc', '/home/users/benhutch/skill-maps-processed-data/psl/NorCPM1/north-atlantic/years_2-9/DJFM/outputs/mergetime/mergetime_NorCPM1_psl_north-atlantic_2-9_DJFM-r8i1.nc', '/home/users/benhutch/skill-maps-processed-data/psl/NorCPM1/north-atlantic/years_2-9/DJFM/outputs/mergetime/mergetime_NorCPM1_psl_north-atlantic_2-9_DJFM-r8i2.nc', '/home/users/benhutch/skill-maps-processed-data/psl/NorCPM1/north-atlantic/years_2-9/DJFM/outputs/mergetime/mergetime_NorCPM1_psl_north-atlantic_2-9_DJFM-r9i1.nc', '/home/users/benhutch/skill-maps-processed-data/psl/NorCPM1/north-atlantic/years_2-9/DJFM/outputs/mergetime/mergetime_NorCPM1_psl_north-atlantic_2-9_DJFM-r7i2.nc', '/home/users/benhutch/skill-maps-processed-data/psl/NorCPM1/north-atlantic/years_2-9/DJFM/outputs/mergetime/mergetime_NorCPM1_psl_north-atlantic_2-9_DJFM-r9i2.nc', '/home/users/benhutch/skill-maps-processed-data/psl/NorCPM1/north-atlantic/years_2-9/DJFM/outputs/mergetime/mergetime_NorCPM1_psl_north-atlantic_2-9_DJFM-r10i1.nc', '/home/users/benhutch/skill-maps-processed-data/psl/NorCPM1/north-atlantic/years_2-9/DJFM/outputs/mergetime/mergetime_NorCPM1_psl_north-atlantic_2-9_DJFM-r10i2.nc', '/home/users/benhutch/skill-maps-processed-data/psl/NorCPM1/north-atlantic/years_2-9/DJFM/outputs/mergetime/mergetime_NorCPM1_psl_north-atlantic_2-9_DJFM-r7i1.nc', '/home/users/benhutch/skill-maps-processed-data/psl/NorCPM1/north-atlantic/years_2-9/DJFM/outputs/mergetime/mergetime_NorCPM1_psl_north-atlantic_2-9_DJFM-r6i2.nc', '/home/users/benhutch/skill-maps-processed-data/psl/NorCPM1/north-atlantic/years_2-9/DJFM/outputs/mergetime/mergetime_NorCPM1_psl_north-atlantic_2-9_DJFM-r1i1.nc', '/home/users/benhutch/skill-maps-processed-data/psl/NorCPM1/north-atlantic/years_2-9/DJFM/outputs/mergetime/mergetime_NorCPM1_psl_north-atlantic_2-9_DJFM-r3i1.nc', '/home/users/benhutch/skill-maps-processed-data/psl/NorCPM1/north-atlantic/years_2-9/DJFM/outputs/mergetime/mergetime_NorCPM1_psl_north-atlantic_2-9_DJFM-r2i1.nc', '/home/users/benhutch/skill-maps-processed-data/psl/NorCPM1/north-atlantic/years_2-9/DJFM/outputs/mergetime/mergetime_NorCPM1_psl_north-atlantic_2-9_DJFM-r2i2.nc', '/home/users/benhutch/skill-maps-processed-data/psl/NorCPM1/north-atlantic/years_2-9/DJFM/outputs/mergetime/mergetime_NorCPM1_psl_north-atlantic_2-9_DJFM-r3i2.nc', '/home/users/benhutch/skill-maps-processed-data/psl/NorCPM1/north-atlantic/years_2-9/DJFM/outputs/mergetime/mergetime_NorCPM1_psl_north-atlantic_2-9_DJFM-r1i2.nc']\n"
     ]
    }
   ],
   "source": [
    "# Load the model data\n",
    "datasets = fnc.load_data(dic.base_dir, dic.models, variable, region, forecast_range, season)"
   ]
  },
  {
   "cell_type": "code",
   "execution_count": 5,
   "metadata": {
    "scrolled": true
   },
   "outputs": [
    {
     "name": "stdout",
     "output_type": "stream",
     "text": [
      "Dataset type: <class 'dict'>\n"
     ]
    }
   ],
   "source": [
    "# Process the model data\n",
    "variable_data, model_time = fnc.process_data(datasets, variable)"
   ]
  },
  {
   "cell_type": "code",
   "execution_count": 6,
   "metadata": {},
   "outputs": [],
   "source": [
    "# Choose the obs path based on the variable\n",
    "if variable == \"psl\":\n",
    "    obs_path = dic.obs_psl_na\n",
    "elif variable == \"tas\":\n",
    "    obs_path = dic.obs_tas\n",
    "elif variable == \"sfcWind\":\n",
    "    obs_path = dic.obs_sfcWind\n",
    "elif variable == \"rsds\":\n",
    "    obs_path = dic.obs_rsds\n",
    "else:\n",
    "    print(\"Error: variable not found\")\n",
    "    sys.exit()\n",
    "\n",
    "# choose the obs var name based on the variable\n",
    "if variable == \"psl\":\n",
    "    obs_var_name = \"psl\"\n",
    "elif variable == \"tas\":\n",
    "    obs_var_name = \"tas\"\n",
    "elif variable == \"sfcWind\":\n",
    "    obs_var_name = \"sfcWind\"\n",
    "elif variable == \"rsds\":\n",
    "    obs_var_name = \"rsds\"\n",
    "else:\n",
    "    print(\"Error: variable not found\")\n",
    "    sys.exit()"
   ]
  },
  {
   "cell_type": "code",
   "execution_count": 7,
   "metadata": {},
   "outputs": [
    {
     "name": "stdout",
     "output_type": "stream",
     "text": [
      "File already exists\n"
     ]
    },
    {
     "ename": "SystemExit",
     "evalue": "",
     "output_type": "error",
     "traceback": [
      "An exception has occurred, use %tb to see the full traceback.\n",
      "\u001b[0;31mSystemExit\u001b[0m\n"
     ]
    },
    {
     "name": "stderr",
     "output_type": "stream",
     "text": [
      "/opt/jaspy/lib/python3.10/site-packages/IPython/core/interactiveshell.py:3406: UserWarning: To exit: use 'exit', 'quit', or Ctrl-D.\n",
      "  warn(\"To exit: use 'exit', 'quit', or Ctrl-D.\", stacklevel=1)\n"
     ]
    }
   ],
   "source": [
    "# # Process the observations\n",
    "obs = fnc.process_observations(variable, region, dic.north_atlantic_grid_obs, \n",
    "                               forecast_range, season, dic.obs, obs_var_name)"
   ]
  },
  {
   "cell_type": "code",
   "execution_count": null,
   "metadata": {},
   "outputs": [],
   "source": [
    "obs"
   ]
  },
  {
   "cell_type": "code",
   "execution_count": null,
   "metadata": {},
   "outputs": [],
   "source": [
    "# # check the values of obs\n",
    "obs[\"var151\"]\n",
    "\n",
    "# count how many value are NaN\n",
    "nan_count = np.isnan(obs[\"var151\"]).sum()\n",
    "\n",
    "print(nan_count.values)\n",
    "\n",
    "# count how many values are not NaN\n",
    "not_nan_count = np.count_nonzero(obs[\"var151\"])\n",
    "\n",
    "print(not_nan_count)\n",
    "\n",
    "# calculate the percentage of NaN values\n",
    "nan_percentage = nan_count / (nan_count + not_nan_count) * 100\n",
    "\n",
    "# # print the percentage of NaN values\n",
    "# print(\"Percentage of NaN values in obs: \", nan_percentage)"
   ]
  },
  {
   "cell_type": "code",
   "execution_count": null,
   "metadata": {
    "scrolled": true
   },
   "outputs": [],
   "source": [
    "rfield, pfield, obs_lons_converted, lons_converted = fnc.calculate_spatial_correlations(obs, variable_data, dic.models)"
   ]
  },
  {
   "cell_type": "code",
   "execution_count": null,
   "metadata": {
    "scrolled": true
   },
   "outputs": [],
   "source": [
    "# # print the rfield\n",
    "# # print(rfield)\n",
    "# # visualise the distribution of r values\n",
    "# # as a histogram\n",
    "# plt.hist(rfield, bins=20)"
   ]
  },
  {
   "cell_type": "code",
   "execution_count": null,
   "metadata": {},
   "outputs": [],
   "source": [
    "# # Call the function to plot the spatial correlations of these\n",
    "fnc.plot_correlations(dic.models, rfield, pfield, obs, variable, region, season, forecast_range, dic.plots_dir, obs_lons_converted, lons_converted, dic.azores_grid, dic.iceland_grid, dic.uk_n_box, dic.uk_s_box)"
   ]
  },
  {
   "cell_type": "code",
   "execution_count": null,
   "metadata": {
    "scrolled": true
   },
   "outputs": [],
   "source": [
    "# Test the new function which plots the spatial correlations as subplots\n",
    "# For all of the models\n",
    "fnc.plot_correlations_subplots(dic.models, obs, variable_data, variable, region, season, forecast_range, dic.plots_dir, dic.azores_grid, dic.iceland_grid, dic.uk_n_box, dic.uk_s_box)"
   ]
  },
  {
   "cell_type": "code",
   "execution_count": null,
   "metadata": {},
   "outputs": [],
   "source": [
    "# Now globally\n",
    "# Need to process the model data first\n",
    "region = \"global\""
   ]
  },
  {
   "cell_type": "code",
   "execution_count": null,
   "metadata": {
    "scrolled": true
   },
   "outputs": [],
   "source": [
    "# Load the model data\n",
    "# Now for the global region\n",
    "datasets = fnc.load_data(dic.base_dir, dic.models, variable, region, forecast_range, season)"
   ]
  },
  {
   "cell_type": "code",
   "execution_count": null,
   "metadata": {},
   "outputs": [],
   "source": [
    "# Process the model data\n",
    "# Again, this is for the global region\n",
    "variable_data, model_time = fnc.process_data(datasets, variable)"
   ]
  },
  {
   "cell_type": "code",
   "execution_count": null,
   "metadata": {},
   "outputs": [],
   "source": [
    "# Choose the obs path based on the variable\n",
    "if variable == \"psl\":\n",
    "    obs_path = dic.obs_psl_na\n",
    "elif variable == \"tas\":\n",
    "    obs_path = dic.obs_tas\n",
    "elif variable == \"sfcWind\":\n",
    "    obs_path = dic.obs_sfcWind\n",
    "elif variable == \"rsds\":\n",
    "    obs_path = dic.obs_rsds\n",
    "else:\n",
    "    print(\"Error: variable not found\")\n",
    "    sys.exit()\n",
    "\n",
    "# choose the obs var name based on the variable\n",
    "if variable == \"psl\":\n",
    "    obs_var_name = \"psl\"\n",
    "elif variable == \"tas\":\n",
    "    obs_var_name = \"tas\"\n",
    "elif variable == \"sfcWind\":\n",
    "    obs_var_name = \"sfcWind\"\n",
    "elif variable == \"rsds\":\n",
    "    obs_var_name = \"rsds\"\n",
    "else:\n",
    "    print(\"Error: variable not found\")\n",
    "    sys.exit()"
   ]
  },
  {
   "cell_type": "code",
   "execution_count": null,
   "metadata": {},
   "outputs": [],
   "source": [
    "# Process the observations\n",
    "# For the global region\n",
    "# # Process the observations\n",
    "# This function doesn't select the region, so no need to worry about the dic. variable\n",
    "obs = fnc.process_observations(variable, region, dic.north_atlantic_grid_obs, \n",
    "                               forecast_range, season, dic.obs, obs_var_name)"
   ]
  },
  {
   "cell_type": "code",
   "execution_count": null,
   "metadata": {},
   "outputs": [],
   "source": [
    "obs"
   ]
  },
  {
   "cell_type": "code",
   "execution_count": null,
   "metadata": {
    "scrolled": true
   },
   "outputs": [],
   "source": [
    "# Calculate the r and p fields for the global region\n",
    "rfield, pfield, obs_lons_converted, lons_converted = fnc.calculate_spatial_correlations(obs, variable_data, dic.models)"
   ]
  },
  {
   "cell_type": "code",
   "execution_count": null,
   "metadata": {
    "scrolled": true
   },
   "outputs": [],
   "source": [
    "# # Plot the model and obs data to have a look at the data\n",
    "# fnc.plot_model_data(variable_data, obs, dic.test_model_bcc, dic.gif_plots_dir)"
   ]
  },
  {
   "cell_type": "code",
   "execution_count": null,
   "metadata": {},
   "outputs": [],
   "source": [
    "# Plot the global multi-model spatial correlations\n",
    "# # Call the function to plot the spatial correlations of these\n",
    "fnc.plot_correlations(dic.models, rfield, pfield, obs, variable, region, season, forecast_range, dic.plots_dir, obs_lons_converted, lons_converted, dic.azores_grid, dic.iceland_grid, dic.uk_n_box, dic.uk_s_box)"
   ]
  },
  {
   "cell_type": "code",
   "execution_count": null,
   "metadata": {},
   "outputs": [],
   "source": [
    "# Now for the global individual model subplots\n",
    "# Test the new function which plots the spatial correlations as subplots\n",
    "# For all of the models\n",
    "fnc.plot_correlations_subplots(dic.models, obs, variable_data, variable, region, season, forecast_range, dic.plots_dir, dic.azores_grid, dic.iceland_grid, dic.uk_n_box, dic.uk_s_box)"
   ]
  },
  {
   "cell_type": "code",
   "execution_count": null,
   "metadata": {},
   "outputs": [],
   "source": [
    "# Now for the year range 2-5\n",
    "# Plot the skill for the global region first\n",
    "# Make sure that the variables are set up correctly\n",
    "variable = \"psl\"\n",
    "region = \"global\"\n",
    "season = \"DJFM\"\n",
    "forecast_range = \"2-5\""
   ]
  },
  {
   "cell_type": "code",
   "execution_count": null,
   "metadata": {},
   "outputs": [],
   "source": [
    "# Load the data\n",
    "# For the global region, years 2-5, DJFM\n",
    "datasets = fnc.load_data(dic.base_dir, dic.models, variable, region, forecast_range, season)"
   ]
  },
  {
   "cell_type": "code",
   "execution_count": null,
   "metadata": {},
   "outputs": [],
   "source": [
    "# Process the model data\n",
    "variable_data, model_time = fnc.process_data(datasets, variable)"
   ]
  },
  {
   "cell_type": "code",
   "execution_count": null,
   "metadata": {},
   "outputs": [],
   "source": [
    "# Choose the obs path based on the variable\n",
    "if variable == \"psl\":\n",
    "    obs_path = dic.obs_psl_na\n",
    "elif variable == \"tas\":\n",
    "    obs_path = dic.obs_tas\n",
    "elif variable == \"sfcWind\":\n",
    "    obs_path = dic.obs_sfcWind\n",
    "elif variable == \"rsds\":\n",
    "    obs_path = dic.obs_rsds\n",
    "else:\n",
    "    print(\"Error: variable not found\")\n",
    "    sys.exit()\n",
    "\n",
    "# choose the obs var name based on the variable\n",
    "if variable == \"psl\":\n",
    "    obs_var_name = \"psl\"\n",
    "elif variable == \"tas\":\n",
    "    obs_var_name = \"tas\"\n",
    "elif variable == \"sfcWind\":\n",
    "    obs_var_name = \"sfcWind\"\n",
    "elif variable == \"rsds\":\n",
    "    obs_var_name = \"rsds\"\n",
    "else:\n",
    "    print(\"Error: variable not found\")\n",
    "    sys.exit()"
   ]
  },
  {
   "cell_type": "code",
   "execution_count": null,
   "metadata": {},
   "outputs": [],
   "source": [
    "# Process the observations for the global region and year 2-5 mean\n",
    "# Check that the output is doing what we expect\n",
    "obs = fnc.process_observations(variable, region, dic.north_atlantic_grid_obs,\n",
    "                               forecast_range, season, dic.obs, obs_var_name)"
   ]
  },
  {
   "cell_type": "code",
   "execution_count": null,
   "metadata": {
    "scrolled": true
   },
   "outputs": [],
   "source": [
    "# Check that the obs looks like we expect it to\n",
    "obs"
   ]
  },
  {
   "cell_type": "code",
   "execution_count": null,
   "metadata": {},
   "outputs": [],
   "source": [
    "# Calculate the r and p fields for the global region, year 2-9 mean\n",
    "rfield, pfield, obs_lons_converted, lons_converted = fnc.calculate_spatial_correlations(\n",
    "    obs, variable_data, dic.models\n",
    ")"
   ]
  },
  {
   "cell_type": "code",
   "execution_count": null,
   "metadata": {},
   "outputs": [],
   "source": [
    "# Plot the correlations for the global region, year 2-9 mean\n",
    "# Multi-model mean\n",
    "fnc.plot_correlations(dic.models, rfield, pfield, obs, variable, region, season,\n",
    "                      forecast_range, dic.plots_dir, obs_lons_converted, lons_converted,\n",
    "                      dic.azores_grid, dic.iceland_grid, dic.uk_n_box, dic.uk_s_box)"
   ]
  },
  {
   "cell_type": "code",
   "execution_count": null,
   "metadata": {},
   "outputs": [],
   "source": [
    "# Now for the individual models\n",
    "fnc.plot_correlations_subplots(dic.models, obs, variable_data, variable, region, season,\n",
    "                                forecast_range, dic.plots_dir, dic.azores_grid, dic.iceland_grid,\n",
    "                                  dic.uk_n_box, dic.uk_s_box)"
   ]
  },
  {
   "cell_type": "code",
   "execution_count": 2,
   "metadata": {},
   "outputs": [],
   "source": [
    "# Set up the variables for the obs processing function\n",
    "# For the new run of the model years 2-3\n",
    "variable = \"psl\"\n",
    "region = \"global\"\n",
    "region_grid = dic.gridspec_global\n",
    "forecast_range = \"2-3\"\n",
    "season = \"DJFM\"\n",
    "observations_path = dic.obs\n",
    "obs_var_name = \"psl\""
   ]
  },
  {
   "cell_type": "code",
   "execution_count": 3,
   "metadata": {},
   "outputs": [
    {
     "name": "stdout",
     "output_type": "stream",
     "text": [
      "File already exists\n"
     ]
    }
   ],
   "source": [
    "# Call the processing obs function\n",
    "obs = fnc.process_observations(variable, region, region_grid, forecast_range, season, observations_path, obs_var_name)"
   ]
  },
  {
   "cell_type": "code",
   "execution_count": null,
   "metadata": {},
   "outputs": [],
   "source": [
    "# Have a look at the obs\n",
    "obs"
   ]
  },
  {
   "cell_type": "code",
   "execution_count": null,
   "metadata": {},
   "outputs": [],
   "source": [
    "# Load the data\n",
    "datasets = fnc.load_data(dic.base_dir, dic.models, variable, region, forecast_range, season)"
   ]
  },
  {
   "cell_type": "code",
   "execution_count": null,
   "metadata": {},
   "outputs": [],
   "source": [
    "# Process the model data\n",
    "variable_data, model_time = fnc.process_data(datasets, variable)"
   ]
  },
  {
   "cell_type": "code",
   "execution_count": null,
   "metadata": {},
   "outputs": [],
   "source": [
    "# Calculate the r and p fields for the global region, year 2-3 mean\n",
    "rfield, pfield, obs_lons_converted, lons_converted = fnc.calculate_spatial_correlations(\n",
    "    obs, variable_data, dic.models\n",
    ")"
   ]
  },
  {
   "cell_type": "code",
   "execution_count": null,
   "metadata": {},
   "outputs": [],
   "source": [
    "# Plot the correlations for the global region, year 2-3 mean\n",
    "fnc.plot_correlations(dic.models, rfield, pfield, obs, variable, region, season,\n",
    "                      forecast_range, dic.plots_dir, obs_lons_converted, lons_converted,\n",
    "                      dic.azores_grid, dic.iceland_grid, dic.uk_n_box, dic.uk_s_box)"
   ]
  },
  {
   "cell_type": "code",
   "execution_count": null,
   "metadata": {},
   "outputs": [],
   "source": [
    "# Now for the individual models for the global region, years 2-3 mean\n",
    "fnc.plot_correlations_subplots(dic.models, obs, variable_data, variable, region, season,\n",
    "                                forecast_range, dic.plots_dir, dic.azores_grid, dic.iceland_grid,\n",
    "                                  dic.uk_n_box, dic.uk_s_box)"
   ]
  }
 ],
 "metadata": {
  "kernelspec": {
   "display_name": "bens-python-environment",
   "language": "python",
   "name": "bens-python-environment"
  },
  "language_info": {
   "codemirror_mode": {
    "name": "ipython",
    "version": 3
   },
   "file_extension": ".py",
   "mimetype": "text/x-python",
   "name": "python",
   "nbconvert_exporter": "python",
   "pygments_lexer": "ipython3",
   "version": "3.10.5"
  }
 },
 "nbformat": 4,
 "nbformat_minor": 4
}
