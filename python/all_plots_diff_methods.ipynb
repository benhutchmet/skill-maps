{
 "cells": [
  {
   "cell_type": "code",
   "execution_count": null,
   "metadata": {},
   "outputs": [],
   "source": [
    "# Imports\n",
    "import os\n",
    "import sys\n",
    "import glob\n",
    "\n",
    "# Third-party imports\n",
    "import numpy as np\n",
    "import matplotlib.pyplot as plt"
   ]
  },
  {
   "cell_type": "code",
   "execution_count": null,
   "metadata": {},
   "outputs": [],
   "source": [
    "# Local imports\n",
    "sys.path.append(\"/home/users/benhutch/skill-maps\")\n",
    "import dictionaries as dicts\n",
    "\n",
    "# # Import functions from skill-maps\n",
    "sys.path.append(\"/home/users/benhutch/skill-maps/python\")\n",
    "# import functions as fnc\n",
    "import plotting_functions as plt_fnc\n",
    "\n",
    "# Import functions from plot_init_benefit\n",
    "sys.path.append(\"/home/users/benhutch/skill-maps/rose-suite-matching\")\n",
    "import plot_init_benefit as pib_fnc"
   ]
  },
  {
   "cell_type": "code",
   "execution_count": null,
   "metadata": {},
   "outputs": [],
   "source": [
    "# Set up global variables\n",
    "bootstrap_base_dir = \"/gws/nopw/j04/canari/users/benhutch/bootstrapping\"\n",
    "plots_dir = \"/gws/nopw/j04/canari/users/benhutch/plots\"\n",
    "region = \"global\"\n",
    "forecast_range = \"2-9\"\n",
    "\n",
    "# Set up the lists\n",
    "seasons_list = [\"DJFM\", \"MAM\", \"JJA\", \"SON\"]\n",
    "methods_list = [\"raw\", \"lagged\", \"nao-matched\"]"
   ]
  },
  {
   "cell_type": "code",
   "execution_count": null,
   "metadata": {},
   "outputs": [],
   "source": [
    "# First for tas DJFM\n",
    "plt_fnc.load_files_and_plot(variable=\"tas\", region=region,\n",
    "                            season=\"DJFM\", forecast_range=forecast_range,\n",
    "                            methods_list=methods_list,\n",
    "                            no_bootstraps=10,\n",
    "                            bootstrap_base_dir=bootstrap_base_dir,\n",
    "                            gridbox=dicts.central_europe_grid,\n",
    "                            )"
   ]
  }
 ],
 "metadata": {
  "language_info": {
   "name": "python"
  }
 },
 "nbformat": 4,
 "nbformat_minor": 2
}
