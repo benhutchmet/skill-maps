{
 "cells": [
  {
   "cell_type": "code",
   "execution_count": 1,
   "metadata": {},
   "outputs": [],
   "source": [
    "# Imports\n",
    "import os\n",
    "import sys\n",
    "import glob\n",
    "\n",
    "# Third-party imports\n",
    "import numpy as np\n",
    "import matplotlib.pyplot as plt"
   ]
  },
  {
   "cell_type": "code",
   "execution_count": 2,
   "metadata": {},
   "outputs": [],
   "source": [
    "# Local imports\n",
    "sys.path.append(\"/home/users/benhutch/skill-maps\")\n",
    "import dictionaries as dicts\n",
    "\n",
    "# # Import functions from skill-maps\n",
    "sys.path.append(\"/home/users/benhutch/skill-maps/python\")\n",
    "# import functions as fnc\n",
    "import plotting_functions as plt_fnc\n",
    "\n",
    "# Import functions from plot_init_benefit\n",
    "sys.path.append(\"/home/users/benhutch/skill-maps/rose-suite-matching\")\n",
    "import plot_init_benefit as pib_fnc"
   ]
  },
  {
   "cell_type": "code",
   "execution_count": 3,
   "metadata": {},
   "outputs": [],
   "source": [
    "# Set up global variables\n",
    "bootstrap_base_dir = \"/gws/nopw/j04/canari/users/benhutch/bootstrapping\"\n",
    "plots_dir = \"/gws/nopw/j04/canari/users/benhutch/plots\"\n",
    "region = \"global\"\n",
    "forecast_range = \"2-9\"\n",
    "\n",
    "# Set up the lists\n",
    "seasons_list = [\"DJFM\", \"MAM\", \"JJA\", \"SON\"]\n",
    "methods_list = [\"raw\", \"lagged\", \"nao_matched\"]\n",
    "variables_list = [\"tas\", \"psl\", \"sfcWind\", \"rsds\"]"
   ]
  },
  {
   "cell_type": "code",
   "execution_count": 4,
   "metadata": {},
   "outputs": [
    {
     "ename": "IndexError",
     "evalue": "list index out of range",
     "output_type": "error",
     "traceback": [
      "\u001b[0;31m---------------------------------------------------------------------------\u001b[0m",
      "\u001b[0;31mIndexError\u001b[0m                                Traceback (most recent call last)",
      "Input \u001b[0;32mIn [4]\u001b[0m, in \u001b[0;36m<cell line: 2>\u001b[0;34m()\u001b[0m\n\u001b[1;32m      1\u001b[0m \u001b[38;5;66;03m# First for tas DJFM\u001b[39;00m\n\u001b[0;32m----> 2\u001b[0m \u001b[43mplt_fnc\u001b[49m\u001b[38;5;241;43m.\u001b[39;49m\u001b[43mload_files_and_plot\u001b[49m\u001b[43m(\u001b[49m\u001b[43mvariable\u001b[49m\u001b[38;5;241;43m=\u001b[39;49m\u001b[43mvariables_list\u001b[49m\u001b[43m[\u001b[49m\u001b[38;5;241;43m0\u001b[39;49m\u001b[43m]\u001b[49m\u001b[43m,\u001b[49m\u001b[43m \u001b[49m\u001b[43mregion\u001b[49m\u001b[38;5;241;43m=\u001b[39;49m\u001b[43mregion\u001b[49m\u001b[43m,\u001b[49m\n\u001b[1;32m      3\u001b[0m \u001b[43m                            \u001b[49m\u001b[43mseason\u001b[49m\u001b[38;5;241;43m=\u001b[39;49m\u001b[43mseasons_list\u001b[49m\u001b[43m[\u001b[49m\u001b[38;5;241;43m0\u001b[39;49m\u001b[43m]\u001b[49m\u001b[43m,\u001b[49m\u001b[43m \u001b[49m\u001b[43mforecast_range\u001b[49m\u001b[38;5;241;43m=\u001b[39;49m\u001b[43mforecast_range\u001b[49m\u001b[43m,\u001b[49m\n\u001b[1;32m      4\u001b[0m \u001b[43m                            \u001b[49m\u001b[43mmethods_list\u001b[49m\u001b[38;5;241;43m=\u001b[39;49m\u001b[43mmethods_list\u001b[49m\u001b[43m,\u001b[49m\n\u001b[1;32m      5\u001b[0m \u001b[43m                            \u001b[49m\u001b[43mno_bootstraps\u001b[49m\u001b[38;5;241;43m=\u001b[39;49m\u001b[38;5;241;43m1000\u001b[39;49m\u001b[43m,\u001b[49m\n\u001b[1;32m      6\u001b[0m \u001b[43m                            \u001b[49m\u001b[43mplots_dir\u001b[49m\u001b[38;5;241;43m=\u001b[39;49m\u001b[43mplots_dir\u001b[49m\u001b[43m,\u001b[49m\n\u001b[1;32m      7\u001b[0m \u001b[43m                            \u001b[49m\u001b[43mbootstrap_base_dir\u001b[49m\u001b[38;5;241;43m=\u001b[39;49m\u001b[43mbootstrap_base_dir\u001b[49m\u001b[43m,\u001b[49m\n\u001b[1;32m      8\u001b[0m \u001b[43m                            \u001b[49m\u001b[43mgridbox\u001b[49m\u001b[38;5;241;43m=\u001b[39;49m\u001b[43mdicts\u001b[49m\u001b[38;5;241;43m.\u001b[39;49m\u001b[43mcentral_europe_grid\u001b[49m\u001b[43m,\u001b[49m\n\u001b[1;32m      9\u001b[0m \u001b[43m                            \u001b[49m\u001b[43m)\u001b[49m\n",
      "File \u001b[0;32m~/skill-maps/python/plotting_functions.py:741\u001b[0m, in \u001b[0;36mload_files_and_plot\u001b[0;34m(variable, region, season, forecast_range, methods_list, no_bootstraps, plots_dir, bootstrap_base_dir, gridbox, figsize_x, figsize_y)\u001b[0m\n\u001b[1;32m    738\u001b[0m values_list \u001b[38;5;241m=\u001b[39m [extract_values_from_txt(path, variable) \u001b[38;5;28;01mfor\u001b[39;00m path \u001b[38;5;129;01min\u001b[39;00m paths_list]\n\u001b[1;32m    740\u001b[0m \u001b[38;5;66;03m# Loop over the paths to get the arrays\u001b[39;00m\n\u001b[0;32m--> 741\u001b[0m arrays_list \u001b[38;5;241m=\u001b[39m [load_arrays_from_npy(path, variable) \u001b[38;5;28;01mfor\u001b[39;00m path \u001b[38;5;129;01min\u001b[39;00m paths_list]\n\u001b[1;32m    743\u001b[0m \u001b[38;5;66;03m# Plot the different methods\u001b[39;00m\n\u001b[1;32m    744\u001b[0m plot_different_methods_same_season_var(arrays_list, values_list, variable, season,\n\u001b[1;32m    745\u001b[0m                                         forecast_range, methods_list, no_bootstraps,\n\u001b[1;32m    746\u001b[0m                                         plots_dir, gridbox\u001b[38;5;241m=\u001b[39mgridbox,\n\u001b[1;32m    747\u001b[0m                                         figsize_x\u001b[38;5;241m=\u001b[39mfigsize_x, figsize_y\u001b[38;5;241m=\u001b[39mfigsize_y)\n",
      "File \u001b[0;32m~/skill-maps/python/plotting_functions.py:741\u001b[0m, in \u001b[0;36m<listcomp>\u001b[0;34m(.0)\u001b[0m\n\u001b[1;32m    738\u001b[0m values_list \u001b[38;5;241m=\u001b[39m [extract_values_from_txt(path, variable) \u001b[38;5;28;01mfor\u001b[39;00m path \u001b[38;5;129;01min\u001b[39;00m paths_list]\n\u001b[1;32m    740\u001b[0m \u001b[38;5;66;03m# Loop over the paths to get the arrays\u001b[39;00m\n\u001b[0;32m--> 741\u001b[0m arrays_list \u001b[38;5;241m=\u001b[39m [\u001b[43mload_arrays_from_npy\u001b[49m\u001b[43m(\u001b[49m\u001b[43mpath\u001b[49m\u001b[43m,\u001b[49m\u001b[43m \u001b[49m\u001b[43mvariable\u001b[49m\u001b[43m)\u001b[49m \u001b[38;5;28;01mfor\u001b[39;00m path \u001b[38;5;129;01min\u001b[39;00m paths_list]\n\u001b[1;32m    743\u001b[0m \u001b[38;5;66;03m# Plot the different methods\u001b[39;00m\n\u001b[1;32m    744\u001b[0m plot_different_methods_same_season_var(arrays_list, values_list, variable, season,\n\u001b[1;32m    745\u001b[0m                                         forecast_range, methods_list, no_bootstraps,\n\u001b[1;32m    746\u001b[0m                                         plots_dir, gridbox\u001b[38;5;241m=\u001b[39mgridbox,\n\u001b[1;32m    747\u001b[0m                                         figsize_x\u001b[38;5;241m=\u001b[39mfigsize_x, figsize_y\u001b[38;5;241m=\u001b[39mfigsize_y)\n",
      "File \u001b[0;32m~/skill-maps/rose-suite-matching/plot_init_benefit.py:177\u001b[0m, in \u001b[0;36mload_arrays_from_npy\u001b[0;34m(path, variable)\u001b[0m\n\u001b[1;32m    168\u001b[0m partial_r_p_file \u001b[38;5;241m=\u001b[39m [file \u001b[38;5;28;01mfor\u001b[39;00m file \u001b[38;5;129;01min\u001b[39;00m files \u001b[38;5;28;01mif\u001b[39;00m \u001b[38;5;124m'\u001b[39m\u001b[38;5;124mpartial_r_p\u001b[39m\u001b[38;5;124m'\u001b[39m \u001b[38;5;129;01min\u001b[39;00m file][\u001b[38;5;241m0\u001b[39m]\n\u001b[1;32m    170\u001b[0m \u001b[38;5;66;03m# # find the file containing sigo\u001b[39;00m\n\u001b[1;32m    171\u001b[0m \u001b[38;5;66;03m# sigo_file = [file for file in files if f'sigo_{variable}' in file][0]\u001b[39;00m\n\u001b[1;32m    172\u001b[0m \n\u001b[0;32m   (...)\u001b[0m\n\u001b[1;32m    175\u001b[0m \n\u001b[1;32m    176\u001b[0m \u001b[38;5;66;03m# find the file containing fcst1_ts\u001b[39;00m\n\u001b[0;32m--> 177\u001b[0m fcst1_ts_file \u001b[38;5;241m=\u001b[39m \u001b[43m[\u001b[49m\u001b[43mfile\u001b[49m\u001b[43m \u001b[49m\u001b[38;5;28;43;01mfor\u001b[39;49;00m\u001b[43m \u001b[49m\u001b[43mfile\u001b[49m\u001b[43m \u001b[49m\u001b[38;5;129;43;01min\u001b[39;49;00m\u001b[43m \u001b[49m\u001b[43mfiles\u001b[49m\u001b[43m \u001b[49m\u001b[38;5;28;43;01mif\u001b[39;49;00m\u001b[43m \u001b[49m\u001b[38;5;124;43mf\u001b[39;49m\u001b[38;5;124;43m'\u001b[39;49m\u001b[38;5;124;43mfcst1_ts_\u001b[39;49m\u001b[38;5;132;43;01m{\u001b[39;49;00m\u001b[43mvariable\u001b[49m\u001b[38;5;132;43;01m}\u001b[39;49;00m\u001b[38;5;124;43m'\u001b[39;49m\u001b[43m \u001b[49m\u001b[38;5;129;43;01min\u001b[39;49;00m\u001b[43m \u001b[49m\u001b[43mfile\u001b[49m\u001b[43m]\u001b[49m\u001b[43m[\u001b[49m\u001b[38;5;241;43m0\u001b[39;49m\u001b[43m]\u001b[49m\n\u001b[1;32m    179\u001b[0m \u001b[38;5;66;03m# find the file containing fcst2_ts\u001b[39;00m\n\u001b[1;32m    180\u001b[0m fcst2_ts_file \u001b[38;5;241m=\u001b[39m [file \u001b[38;5;28;01mfor\u001b[39;00m file \u001b[38;5;129;01min\u001b[39;00m files \u001b[38;5;28;01mif\u001b[39;00m \u001b[38;5;124mf\u001b[39m\u001b[38;5;124m'\u001b[39m\u001b[38;5;124mfcst2_ts_\u001b[39m\u001b[38;5;132;01m{\u001b[39;00mvariable\u001b[38;5;132;01m}\u001b[39;00m\u001b[38;5;124m'\u001b[39m \u001b[38;5;129;01min\u001b[39;00m file][\u001b[38;5;241m0\u001b[39m]\n",
      "\u001b[0;31mIndexError\u001b[0m: list index out of range"
     ]
    }
   ],
   "source": [
    "# First for tas DJFM\n",
    "plt_fnc.load_files_and_plot(variable=variables_list[0], region=region,\n",
    "                            season=seasons_list[0], forecast_range=forecast_range,\n",
    "                            methods_list=methods_list,\n",
    "                            no_bootstraps=1000,\n",
    "                            plots_dir=plots_dir,\n",
    "                            bootstrap_base_dir=bootstrap_base_dir,\n",
    "                            gridbox=dicts.central_europe_grid,\n",
    "                            )"
   ]
  },
  {
   "cell_type": "code",
   "execution_count": null,
   "metadata": {},
   "outputs": [],
   "source": [
    "# Now for psl DJFM\n",
    "plt_fnc.load_files_and_plot(variable=variables_list[1], region=region,\n",
    "                            season=seasons_list[0], forecast_range=forecast_range,\n",
    "                            methods_list=methods_list,\n",
    "                            no_bootstraps=1000,\n",
    "                            plots_dir=plots_dir,\n",
    "                            bootstrap_base_dir=bootstrap_base_dir,\n",
    "                            gridbox=dicts.central_europe_grid,\n",
    "                            )"
   ]
  },
  {
   "cell_type": "code",
   "execution_count": null,
   "metadata": {},
   "outputs": [],
   "source": [
    "# Now for sfcWind DJFM\n",
    "plt_fnc.load_files_and_plot(variable=variables_list[2], region=region,\n",
    "                            season=seasons_list[0], forecast_range=forecast_range,\n",
    "                            methods_list=methods_list,\n",
    "                            no_bootstraps=1000,\n",
    "                            plots_dir=plots_dir,\n",
    "                            bootstrap_base_dir=bootstrap_base_dir,\n",
    "                            gridbox=dicts.central_europe_grid,\n",
    "                            )"
   ]
  },
  {
   "cell_type": "code",
   "execution_count": null,
   "metadata": {},
   "outputs": [],
   "source": [
    "# Now for rsds DJFM\n",
    "plt_fnc.load_files_and_plot(variable=variables_list[3], region=region,\n",
    "                            season=seasons_list[0], forecast_range=forecast_range,\n",
    "                            methods_list=methods_list,\n",
    "                            no_bootstraps=1000,\n",
    "                            plots_dir=plots_dir,\n",
    "                            bootstrap_base_dir=bootstrap_base_dir,\n",
    "                            gridbox=dicts.central_europe_grid,\n",
    "                            )"
   ]
  },
  {
   "cell_type": "code",
   "execution_count": null,
   "metadata": {},
   "outputs": [],
   "source": [
    "# Now create the plots for MAM\n",
    "# First for tas MAM\n",
    "plt_fnc.load_files_and_plot(variable=variables_list[0], region=region,\n",
    "                            season=seasons_list[1], forecast_range=forecast_range,\n",
    "                            methods_list=methods_list,\n",
    "                            no_bootstraps=1000,\n",
    "                            plots_dir=plots_dir,\n",
    "                            bootstrap_base_dir=bootstrap_base_dir,\n",
    "                            gridbox=dicts.central_europe_grid,\n",
    "                            )"
   ]
  },
  {
   "cell_type": "code",
   "execution_count": null,
   "metadata": {},
   "outputs": [],
   "source": [
    "# Next for psl MAM\n",
    "plt_fnc.load_files_and_plot(variable=variables_list[1], region=region,\n",
    "                            season=seasons_list[1], forecast_range=forecast_range,\n",
    "                            methods_list=methods_list,\n",
    "                            no_bootstraps=1000,\n",
    "                            plots_dir=plots_dir,\n",
    "                            bootstrap_base_dir=bootstrap_base_dir,\n",
    "                            gridbox=dicts.central_europe_grid,\n",
    "                            )"
   ]
  },
  {
   "cell_type": "code",
   "execution_count": null,
   "metadata": {},
   "outputs": [],
   "source": [
    "# Next for sfcWind MAM\n",
    "plt_fnc.load_files_and_plot(variable=variables_list[2], region=region,\n",
    "                            season=seasons_list[1], forecast_range=forecast_range,\n",
    "                            methods_list=methods_list,\n",
    "                            no_bootstraps=1000,\n",
    "                            plots_dir=plots_dir,\n",
    "                            bootstrap_base_dir=bootstrap_base_dir,\n",
    "                            gridbox=dicts.central_europe_grid,\n",
    "                            )"
   ]
  },
  {
   "cell_type": "code",
   "execution_count": null,
   "metadata": {},
   "outputs": [],
   "source": [
    "# Next for rsds MAM\n",
    "plt_fnc.load_files_and_plot(variable=variables_list[3], region=region,\n",
    "                            season=seasons_list[1], forecast_range=forecast_range,\n",
    "                            methods_list=methods_list,\n",
    "                            no_bootstraps=1000,\n",
    "                            plots_dir=plots_dir,\n",
    "                            bootstrap_base_dir=bootstrap_base_dir,\n",
    "                            gridbox=dicts.central_europe_grid,\n",
    "                            )"
   ]
  },
  {
   "cell_type": "code",
   "execution_count": null,
   "metadata": {},
   "outputs": [],
   "source": [
    "# Now create the plots for JJA\n",
    "# First for tas JJA\n",
    "plt_fnc.load_files_and_plot(variable=variables_list[0], region=region,\n",
    "                            season=seasons_list[2], forecast_range=forecast_range,\n",
    "                            methods_list=methods_list,\n",
    "                            no_bootstraps=1000,\n",
    "                            plots_dir=plots_dir,\n",
    "                            bootstrap_base_dir=bootstrap_base_dir,\n",
    "                            gridbox=dicts.central_europe_grid,\n",
    "                            )"
   ]
  },
  {
   "cell_type": "code",
   "execution_count": null,
   "metadata": {},
   "outputs": [],
   "source": [
    "# Next for psl JJA\n",
    "plt_fnc.load_files_and_plot(variable=variables_list[1], region=region,\n",
    "                            season=seasons_list[2], forecast_range=forecast_range,\n",
    "                            methods_list=methods_list,\n",
    "                            no_bootstraps=1000,\n",
    "                            plots_dir=plots_dir,\n",
    "                            bootstrap_base_dir=bootstrap_base_dir,\n",
    "                            gridbox=dicts.central_europe_grid,\n",
    "                            )"
   ]
  },
  {
   "cell_type": "code",
   "execution_count": null,
   "metadata": {},
   "outputs": [],
   "source": [
    "# Next for sfcWind JJA\n",
    "plt_fnc.load_files_and_plot(variable=variables_list[2], region=region,\n",
    "                            season=seasons_list[2], forecast_range=forecast_range,\n",
    "                            methods_list=methods_list,\n",
    "                            no_bootstraps=1000,\n",
    "                            plots_dir=plots_dir,\n",
    "                            bootstrap_base_dir=bootstrap_base_dir,\n",
    "                            gridbox=dicts.central_europe_grid,\n",
    "                            )"
   ]
  },
  {
   "cell_type": "code",
   "execution_count": null,
   "metadata": {},
   "outputs": [],
   "source": [
    "# Next for rsds JJA\n",
    "plt_fnc.load_files_and_plot(variable=variables_list[3], region=region,\n",
    "                            season=seasons_list[2], forecast_range=forecast_range,\n",
    "                            methods_list=methods_list,\n",
    "                            no_bootstraps=1000,\n",
    "                            plots_dir=plots_dir,\n",
    "                            bootstrap_base_dir=bootstrap_base_dir,\n",
    "                            gridbox=dicts.central_europe_grid,\n",
    "                            )"
   ]
  },
  {
   "cell_type": "code",
   "execution_count": null,
   "metadata": {},
   "outputs": [],
   "source": [
    "# Finally plot the SON plots\n",
    "# First for tas SON\n",
    "plt_fnc.load_files_and_plot(variable=variables_list[0], region=region,\n",
    "                            season=seasons_list[3], forecast_range=forecast_range,\n",
    "                            methods_list=methods_list,\n",
    "                            no_bootstraps=1000,\n",
    "                            plots_dir=plots_dir,\n",
    "                            bootstrap_base_dir=bootstrap_base_dir,\n",
    "                            gridbox=dicts.central_europe_grid,\n",
    "                            )"
   ]
  },
  {
   "cell_type": "code",
   "execution_count": null,
   "metadata": {},
   "outputs": [],
   "source": [
    "# Next for psl SON\n",
    "plt_fnc.load_files_and_plot(variable=variables_list[1], region=region,\n",
    "                            season=seasons_list[3], forecast_range=forecast_range,\n",
    "                            methods_list=methods_list,\n",
    "                            no_bootstraps=1000,\n",
    "                            plots_dir=plots_dir,\n",
    "                            bootstrap_base_dir=bootstrap_base_dir,\n",
    "                            gridbox=dicts.central_europe_grid,\n",
    "                            )"
   ]
  },
  {
   "cell_type": "code",
   "execution_count": null,
   "metadata": {},
   "outputs": [],
   "source": [
    "# Next for sfcWind SON\n",
    "plt_fnc.load_files_and_plot(variable=variables_list[2], region=region,\n",
    "                            season=seasons_list[3], forecast_range=forecast_range,\n",
    "                            methods_list=methods_list,\n",
    "                            no_bootstraps=1000,\n",
    "                            plots_dir=plots_dir,\n",
    "                            bootstrap_base_dir=bootstrap_base_dir,\n",
    "                            gridbox=dicts.central_europe_grid\n",
    "                            )"
   ]
  },
  {
   "cell_type": "code",
   "execution_count": null,
   "metadata": {},
   "outputs": [],
   "source": [
    "# Next for rsds SON\n",
    "plt_fnc.load_files_and_plot(variable=variables_list[3], region=region,\n",
    "                            season=seasons_list[3], forecast_range=forecast_range,\n",
    "                            methods_list=methods_list,\n",
    "                            no_bootstraps=1000,\n",
    "                            plots_dir=plots_dir,\n",
    "                            bootstrap_base_dir=bootstrap_base_dir,\n",
    "                            gridbox=dicts.central_europe_grid,\n",
    "                            )"
   ]
  }
 ],
 "metadata": {
  "kernelspec": {
   "display_name": "bens-python-environment",
   "language": "python",
   "name": "bens-python-environment"
  },
  "language_info": {
   "codemirror_mode": {
    "name": "ipython",
    "version": 3
   },
   "file_extension": ".py",
   "mimetype": "text/x-python",
   "name": "python",
   "nbconvert_exporter": "python",
   "pygments_lexer": "ipython3",
   "version": "3.10.5"
  }
 },
 "nbformat": 4,
 "nbformat_minor": 4
}
