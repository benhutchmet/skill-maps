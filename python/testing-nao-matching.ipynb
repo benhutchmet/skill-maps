{
 "cells": [
  {
   "cell_type": "code",
   "execution_count": null,
   "metadata": {},
   "outputs": [],
   "source": [
    "# Import\n",
    "import os\n",
    "import sys\n",
    "import glob\n",
    "import re\n",
    "\n",
    "# Third-party\n",
    "import numpy as np\n",
    "import xarray as xr\n",
    "import matplotlib.pyplot as plt"
   ]
  },
  {
   "cell_type": "code",
   "execution_count": null,
   "metadata": {},
   "outputs": [],
   "source": [
    "# Import dictionaries\n",
    "sys.path.append('~/skill-maps')\n",
    "import dictionaries as dict\n",
    "\n",
    "# Import functions\n",
    "import functions as func\n",
    "\n",
    "# Import nao matching functions\n",
    "sys.path.append('~/skill-maps/rose-suite-matching')\n",
    "from nao_matching_seasons import match_variable_models, obs_path"
   ]
  },
  {
   "cell_type": "code",
   "execution_count": null,
   "metadata": {},
   "outputs": [],
   "source": [
    "# Set up the arguments for psl\n",
    "psl_models = dict.models\n",
    "obs_path_psl = dict.obs\n",
    "base_dir = dict.base_dir\n",
    "plots_dir = dict.plots_dir\n",
    "save_dir = dict.save_dir\n",
    "global_grid = dict.gridspec_global\n",
    "\n",
    "# Set up the arguments for the matched variable (tas in this case)\n",
    "matched_var_tas = 'tas'\n",
    "region = 'global'\n",
    "season = 'DJFM'\n",
    "model_season = 'DJFM'\n",
    "forecast_range = '2-9'\n",
    "start_year = '1960'\n",
    "end_year = '2022'\n",
    "lag = 4\n",
    "no_subset_members = 20\n"
   ]
  },
  {
   "cell_type": "code",
   "execution_count": null,
   "metadata": {},
   "outputs": [],
   "source": [
    "# Set up the models for the matched variable\n",
    "match_var_models_tas = match_variable_models(matched_var_tas)"
   ]
  },
  {
   "cell_type": "code",
   "execution_count": null,
   "metadata": {},
   "outputs": [],
   "source": [
    "# Set up the observations for the matched variable\n",
    "obs_path_tas = obs_path(matched_var_tas)"
   ]
  },
  {
   "cell_type": "code",
   "execution_count": null,
   "metadata": {},
   "outputs": [],
   "source": [
    "# Process the global psl anomalies to be used for the NAO index\n",
    "obs_psl_anom = func.read_obs(psl_var, region, forecast_range, season,\n",
    "                                obs_path_psl, start_year, end_year)"
   ]
  },
  {
   "cell_type": "code",
   "execution_count": null,
   "metadata": {},
   "outputs": [],
   "source": [
    "# Alternative method of processing the global psl anomalies\n",
    "# for the obs\n",
    "obs_psl_anom_alt = func.process_observations('psl', region,\n",
    "                                                global_grid, \n",
    "                                                forecast_range,\n",
    "                                                season, obs_path_psl,\n",
    "                                                'psl')"
   ]
  },
  {
   "cell_type": "code",
   "execution_count": null,
   "metadata": {},
   "outputs": [],
   "source": [
    "# Load and process the model psl anomalies to be used for the NAO index\n",
    "model_datasets_psl = func.load_data(base_dir, psl_models, 'psl', region,\n",
    "                                        forecast_range, season)\n",
    "\n",
    "# Process the model psl anomalies to be used for the NAO index\n",
    "model_data_psl, _ = func.process_data(model_datasets_psl, 'psl')"
   ]
  },
  {
   "cell_type": "code",
   "execution_count": null,
   "metadata": {},
   "outputs": [],
   "source": [
    "# Make sure that the models contain the same time periods for psl\n",
    "model_data_psl = func.constrain_years(model_data_psl, psl_models)"
   ]
  },
  {
   "cell_type": "code",
   "execution_count": null,
   "metadata": {},
   "outputs": [],
   "source": [
    "# Remove years containing NaNs from the obs and model data\n",
    "obs_psl_anom, model_data_psl, _ = \\\n",
    "                            func.remove_years_with_nans_nao(obs_psl_anom,\n",
    "                                                                model_data_psl,\n",
    "                                                                psl_models)\n",
    "\n",
    "# Do the same for the alternative method of processing the global psl anomalies\n",
    "obs_psl_anom_alt, model_data_psl_alt, _ = \\\n",
    "                            func.remove_years_with_nans_nao(obs_psl_anom_alt,\n",
    "                                                                model_data_psl,\n",
    "                                                                psl_models)"
   ]
  },
  {
   "cell_type": "code",
   "execution_count": null,
   "metadata": {},
   "outputs": [],
   "source": [
    "# Calculate the NAO index for the obs and model psl data\n",
    "obs_nao, model_nao = func.calculate_nao_index_and_plot(obs_psl_anom, \n",
    "                                                        model_data_psl,\n",
    "                                                        psl_models,\n",
    "                                                        'psl',\n",
    "                                                        season,\n",
    "                                                        forecast_range,\n",
    "                                                        plots_dir,\n",
    "                                                        plot_graphics=True)"
   ]
  },
  {
   "cell_type": "code",
   "execution_count": null,
   "metadata": {},
   "outputs": [],
   "source": [
    "# Do the same for the alternative method of processing the global psl anomalies\n",
    "obs_nao_alt, model_nao_alt = func.calculate_nao_index_and_plot(obs_psl_anom_alt, \n",
    "                                                        model_data_psl_alt,\n",
    "                                                        psl_models,\n",
    "                                                        'psl',\n",
    "                                                        season,\n",
    "                                                        forecast_range,\n",
    "                                                        plots_dir,\n",
    "                                                        plot_graphics=True)"
   ]
  }
 ],
 "metadata": {
  "language_info": {
   "name": "python"
  }
 },
 "nbformat": 4,
 "nbformat_minor": 2
}
