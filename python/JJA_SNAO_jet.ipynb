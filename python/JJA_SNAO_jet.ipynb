{
 "cells": [
  {
   "cell_type": "markdown",
   "metadata": {},
   "source": [
    "### SNAO/North Atlantic Jet Exploration ###\n",
    "\n",
    "We want to find out what is going on with the North Atlantic Jet and the SNAO during JJA. First we will look at reanalyis to try and diagnose the trends. Then we will look at what is going on in the dcppA-hindcast data. For this, we will consider u250/u300/u850 and MSLP fields for the summer NAO. First using reanalysis data back to 1940."
   ]
  },
  {
   "cell_type": "code",
   "execution_count": null,
   "metadata": {},
   "outputs": [],
   "source": [
    "# Notebook magic\n",
    "%matplotlib inline\n",
    "# Import auto-reload\n",
    "%load_ext autoreload\n",
    "%autoreload 2\n",
    "\n",
    "# Local imports\n",
    "import os\n",
    "import sys\n",
    "import glob\n",
    "import random\n",
    "\n",
    "# Third-party imports\n",
    "import numpy as np\n",
    "import xarray as xr\n",
    "import pandas as pd\n",
    "from tqdm import tqdm\n",
    "import matplotlib.pyplot as plt\n",
    "import cartopy.crs as ccrs\n",
    "import os.path\n",
    "from pathlib import Path\n",
    "\n",
    "# Import the cdsapi\n",
    "import cdsapi\n"
   ]
  },
  {
   "cell_type": "code",
   "execution_count": null,
   "metadata": {},
   "outputs": [],
   "source": [
    "# Import the local functions\n",
    "from JJA_SNAO_jet_functions import *\n",
    "\n",
    "# Import the dictionaries\n",
    "sys.path.append('/home/users/benhutch/skill-maps/')\n",
    "import dictionaries as dicts"
   ]
  },
  {
   "cell_type": "code",
   "execution_count": null,
   "metadata": {},
   "outputs": [],
   "source": [
    "# Set up the cdsapi client\n",
    "c = cdsapi.Client()"
   ]
  },
  {
   "cell_type": "code",
   "execution_count": null,
   "metadata": {},
   "outputs": [],
   "source": [
    "# Set up the parameters\n",
    "model_variable = \"u850\"\n",
    "obs_variable = \"u\"\n",
    "level = \"850\"\n",
    "experiment = \"dcppA-hindcast\"\n",
    "start_year_mod = 1960\n",
    "end_year_mod = 2018\n",
    "start_year_obs = 1940\n",
    "end_year_obs = 2023"
   ]
  },
  {
   "cell_type": "code",
   "execution_count": null,
   "metadata": {},
   "outputs": [],
   "source": [
    "# Set up the request dictionary for ERA5\n",
    "request_dict_era5 = {\n",
    "    'variable': 'u',\n",
    "    'product_type': 'monthly_averaged_reanalysis',\n",
    "    'year': [x for x in range(start_year_obs, end_year_obs)],\n",
    "    'month': [x for x in range(6, 8 + 1)],\n",
    "    'pressure_level': [850, 300, 250],\n",
    "    'format': 'netcdf',\n",
    "    'time': '00:00'\n",
    "}"
   ]
  },
  {
   "cell_type": "code",
   "execution_count": null,
   "metadata": {},
   "outputs": [],
   "source": [
    "# Set up the target directory\n",
    "# ----------------------------\n",
    "target_dir = \"/gws/nopw/j04/canari/users/benhutch/ERA5/\"\n",
    "era5_target_filename = \"era5-monthly-u850-300-250-1940-2023.nc\"\n",
    "\n",
    "# Check if the target directory exists\n",
    "if not os.path.exists(target_dir):\n",
    "    os.makedirs(target_dir)\n",
    "\n",
    "# Form the path\n",
    "era5_target_path = os.path.join(target_dir, era5_target_filename)\n",
    "\n",
    "# Print the path\n",
    "print(era5_target_path)\n",
    "\n",
    "# If the path does not exist, then download the data\n",
    "if not os.path.exists(era5_target_path):\n",
    "    c.retrieve(\n",
    "        \"reanalysis-era5-pressure-levels-monthly-means\",\n",
    "        request_dict_era5,\n",
    "        era5_target_path\n",
    "    )\n",
    "else:\n",
    "    print(\"The file already exists\")\n",
    "    print(\"Skipping download\")\n",
    "    print(\"using the existing file: \", era5_target_path)"
   ]
  },
  {
   "cell_type": "code",
   "execution_count": null,
   "metadata": {},
   "outputs": [],
   "source": [
    "# Set up another request for psl back to 1940\n",
    "# -------------------------------------------\n",
    "request_dict_era5_psl = {\n",
    "    'variable': 'mean_sea_level_pressure',\n",
    "    'product_type': 'monthly_averaged_reanalysis',\n",
    "    'year': [x for x in range(start_year_obs, end_year_obs)],\n",
    "    'month': [x for x in range(6, 8 + 1)],\n",
    "    'format': 'netcdf',\n",
    "    'time': '00:00'\n",
    "}"
   ]
  },
  {
   "cell_type": "markdown",
   "metadata": {},
   "source": [
    "### Download psl for SNAO ###\n",
    "\n",
    "Set this going at the end of the day"
   ]
  },
  {
   "cell_type": "code",
   "execution_count": null,
   "metadata": {},
   "outputs": [],
   "source": [
    "# # Set up the target filename\n",
    "# era5_target_filename_psl = \"era5-monthly-psl-1940-2023.nc\"\n",
    "\n",
    "# # Check if the target directory exists\n",
    "# if not os.path.exists(target_dir):\n",
    "#     os.makedirs(target_dir)\n",
    "\n",
    "# # Form the path\n",
    "# era5_target_path_psl = os.path.join(target_dir, era5_target_filename_psl)\n",
    "\n",
    "# # Print the path\n",
    "# print(era5_target_path_psl)\n",
    "\n",
    "# # If the path does not exist, then download the data\n",
    "# if not os.path.exists(era5_target_path_psl):\n",
    "#     c.retrieve(\n",
    "#         \"reanalysis-era5-single-levels-monthly-means\",\n",
    "#         request_dict_era5_psl,\n",
    "#         era5_target_path_psl\n",
    "#     )\n",
    "# else:\n",
    "#     print(\"The file already exists\")\n",
    "#     print(\"Skipping download\")\n",
    "#     print(\"using the existing file: \", era5_target_path_psl)"
   ]
  },
  {
   "cell_type": "code",
   "execution_count": null,
   "metadata": {},
   "outputs": [],
   "source": [
    "# Calculate the climatology for the full period, U250\n",
    "# -------------------------\n",
    "climatology_era5_u250 = calculate_climatology(\n",
    "    data_path=era5_target_path,\n",
    "    variable=\"u\",\n",
    "    season=\"JJA\",\n",
    "    region=dicts.pacific_grid_plot_test,\n",
    "    level=250\n",
    ")"
   ]
  },
  {
   "cell_type": "code",
   "execution_count": null,
   "metadata": {},
   "outputs": [],
   "source": [
    "climatology_era5_u250"
   ]
  },
  {
   "cell_type": "code",
   "execution_count": null,
   "metadata": {},
   "outputs": [],
   "source": [
    "# Plot the climatology\n",
    "# --------------------\n",
    "# Assuming climatology_era5_u250 is an xarray DataArray\n",
    "# First extract the data\n",
    "climatology_era5_u250_data = climatology_era5_u250.u\n",
    "\n",
    "# Then plot the data\n",
    "fig, ax = plt.subplots(subplot_kw=dict(projection=ccrs.Orthographic(-80, 35), facecolor=\"gray\"))\n",
    "\n",
    "# Plot the data\n",
    "climatology_era5_u250_data.plot(\n",
    "    ax=ax,\n",
    "    transform=ccrs.PlateCarree(),\n",
    "    cmap=\"coolwarm\",\n",
    "    robust=True,\n",
    "    cbar_kwargs={\n",
    "        \"label\": \"U250 (m/s)\"\n",
    "    }\n",
    ")\n",
    "\n",
    "# Add coastlines\n",
    "ax.coastlines()"
   ]
  },
  {
   "cell_type": "code",
   "execution_count": null,
   "metadata": {},
   "outputs": [],
   "source": [
    "# Test the new function\n",
    "# ---------------------\n",
    "swj_index = diagnose_swj_index(\n",
    "    data_path=era5_target_path,\n",
    "    start_year=start_year_obs,\n",
    "    end_year=end_year_obs,\n",
    ")"
   ]
  },
  {
   "cell_type": "code",
   "execution_count": null,
   "metadata": {},
   "outputs": [],
   "source": [
    "print(swj_index)"
   ]
  },
  {
   "cell_type": "code",
   "execution_count": null,
   "metadata": {},
   "outputs": [],
   "source": [
    "fig, ax = plt.subplots()\n",
    "\n",
    "# Add a label to the plot\n",
    "swj_index.plot(ax=ax, label='SWJ Index')\n",
    "\n",
    "# Include the climatology of the SWJ index as a horizontal line\n",
    "climatology_swj_index = swj_index.mean()\n",
    "\n",
    "# Add the climatology as a horizontal line\n",
    "ax.axhline(climatology_swj_index[0], color=\"k\", linestyle=\"--\", label=\"Climatology\")\n",
    "\n",
    "# Label the axes\n",
    "ax.set_xlabel(\"Year\")\n",
    "ax.set_ylabel(\"SWJ Index (latitude)\")\n",
    "\n",
    "# Include a rolling 10-year mean\n",
    "swj_index.rolling(10, center=True).mean().plot(ax=ax, color=\"k\", label=\"10-year rolling mean\")\n",
    "\n",
    "# Add a legend\n",
    "ax.legend()"
   ]
  },
  {
   "cell_type": "markdown",
   "metadata": {},
   "source": [
    "### SWJ index ###\n",
    "\n",
    "Breaks down into three phases?\n",
    "\n",
    "* Poleward - 1940-1980\n",
    "* Equatorward - 1980-2010\n",
    "* Poleward - 2010-onwards"
   ]
  },
  {
   "cell_type": "code",
   "execution_count": null,
   "metadata": {},
   "outputs": [],
   "source": [
    "# Calculate the climatology for the early period\n",
    "years = [x for x in range(1940, 1980)]\n",
    "\n",
    "climatology_era5_u250_early = calculate_climatology(\n",
    "    data_path=era5_target_path,\n",
    "    variable=\"u\",\n",
    "    season=\"JJA\",\n",
    "    region=dicts.pacific_grid_plot_test,\n",
    "    level=250,\n",
    "    years=years\n",
    ")\n",
    "\n",
    "# Calculate the climatology for the late period\n",
    "years = [x for x in range(1980, 2010)]\n",
    "\n",
    "climatology_era5_u250_late = calculate_climatology(\n",
    "    data_path=era5_target_path,\n",
    "    variable=\"u\",\n",
    "    season=\"JJA\",\n",
    "    region=dicts.pacific_grid_plot_test,\n",
    "    level=250,\n",
    "    years=years\n",
    ")\n",
    "\n",
    "# Calculate the climatology for the recent period\n",
    "years = [x for x in range(2010, 2023)]\n",
    "\n",
    "climatology_era5_u250_recent = calculate_climatology(\n",
    "    data_path=era5_target_path,\n",
    "    variable=\"u\",\n",
    "    season=\"JJA\",\n",
    "    region=dicts.pacific_grid_plot_test,\n",
    "    level=250,\n",
    "    years=years\n",
    ")\n"
   ]
  },
  {
   "cell_type": "code",
   "execution_count": null,
   "metadata": {},
   "outputs": [],
   "source": [
    "# Calculate the deviation of these from the full climatology\n",
    "climatology_era5_u250_early_deviation = climatology_era5_u250_early.u - climatology_era5_u250.u\n",
    "\n",
    "climatology_era5_u250_late_deviation = climatology_era5_u250_late.u - climatology_era5_u250.u\n",
    "\n",
    "climatology_era5_u250_recent_deviation = climatology_era5_u250_recent.u - climatology_era5_u250.u"
   ]
  },
  {
   "cell_type": "code",
   "execution_count": null,
   "metadata": {},
   "outputs": [],
   "source": [
    "# Plot the deviation\n",
    "fig, ax = plt.subplots(subplot_kw=dict(projection=ccrs.Orthographic(-80, 35), facecolor=\"gray\"))\n",
    "\n",
    "# Plot the data\n",
    "climatology_era5_u250_early_deviation.plot(\n",
    "    ax=ax,\n",
    "    transform=ccrs.PlateCarree(),\n",
    "    cmap=\"coolwarm\",\n",
    "    robust=True,\n",
    "    cbar_kwargs={\n",
    "        \"label\": \"U250 (m/s)\"\n",
    "    }\n",
    ")\n",
    "\n",
    "# Add coastlines\n",
    "ax.coastlines()\n"
   ]
  },
  {
   "cell_type": "code",
   "execution_count": null,
   "metadata": {},
   "outputs": [],
   "source": [
    "# Plot the deviation\n",
    "fig, ax = plt.subplots(subplot_kw=dict(projection=ccrs.Orthographic(-80, 35), facecolor=\"gray\"))\n",
    "\n",
    "# Plot the data\n",
    "climatology_era5_u250_late_deviation.plot(\n",
    "    ax=ax,\n",
    "    transform=ccrs.PlateCarree(),\n",
    "    cmap=\"coolwarm\",\n",
    "    robust=True,\n",
    "    cbar_kwargs={\n",
    "        \"label\": \"U250 (m/s)\"\n",
    "    }\n",
    ")\n",
    "\n",
    "# Add coastlines\n",
    "ax.coastlines()"
   ]
  },
  {
   "cell_type": "code",
   "execution_count": null,
   "metadata": {},
   "outputs": [],
   "source": [
    "# Plot the deviation\n",
    "fig, ax = plt.subplots(subplot_kw=dict(projection=ccrs.Orthographic(-80, 35), facecolor=\"gray\"))\n",
    "\n",
    "# Plot the data\n",
    "climatology_era5_u250_recent_deviation.plot(\n",
    "    ax=ax,\n",
    "    transform=ccrs.PlateCarree(),\n",
    "    cmap=\"coolwarm\",\n",
    "    robust=True,\n",
    "    cbar_kwargs={\n",
    "        \"label\": \"U250 (m/s)\"\n",
    "    }\n",
    ")\n",
    "\n",
    "# Add coastlines\n",
    "ax.coastlines()"
   ]
  }
 ],
 "metadata": {
  "kernelspec": {
   "display_name": "Python 3",
   "language": "python",
   "name": "python3"
  },
  "language_info": {
   "codemirror_mode": {
    "name": "ipython",
    "version": 3
   },
   "file_extension": ".py",
   "mimetype": "text/x-python",
   "name": "python",
   "nbconvert_exporter": "python",
   "pygments_lexer": "ipython3",
   "version": "3.10.5"
  }
 },
 "nbformat": 4,
 "nbformat_minor": 2
}
