{
 "cells": [
  {
   "cell_type": "markdown",
   "metadata": {},
   "source": [
    "### SNAO/North Atlantic Jet Exploration ###\n",
    "\n",
    "We want to find out what is going on with the North Atlantic Jet and the SNAO during JJA. First we will look at reanalyis to try and diagnose the trends. Then we will look at what is going on in the dcppA-hindcast data. For this, we will consider u250/u300/u850 and MSLP fields for the summer NAO. First using reanalysis data back to 1940."
   ]
  },
  {
   "cell_type": "code",
   "execution_count": 1,
   "metadata": {},
   "outputs": [],
   "source": [
    "# Notebook magic\n",
    "%matplotlib inline\n",
    "# Import auto-reload\n",
    "%load_ext autoreload\n",
    "%autoreload 2\n",
    "\n",
    "# Local imports\n",
    "import os\n",
    "import sys\n",
    "import glob\n",
    "import random\n",
    "\n",
    "# Third-party imports\n",
    "import numpy as np\n",
    "import xarray as xr\n",
    "import pandas as pd\n",
    "from tqdm import tqdm\n",
    "import os.path\n",
    "from pathlib import Path\n",
    "\n",
    "# Import the cdsapi\n",
    "import cdsapi\n"
   ]
  },
  {
   "cell_type": "code",
   "execution_count": 2,
   "metadata": {},
   "outputs": [],
   "source": [
    "# Set up the cdsapi client\n",
    "c = cdsapi.Client()"
   ]
  },
  {
   "cell_type": "code",
   "execution_count": 3,
   "metadata": {},
   "outputs": [],
   "source": [
    "# Set up the parameters\n",
    "model_variable = \"u850\"\n",
    "obs_variable = \"u\"\n",
    "level = \"850\"\n",
    "experiment = \"dcppA-hindcast\"\n",
    "start_year_mod = 1960\n",
    "end_year_mod = 2018\n",
    "start_year_obs = 1940\n",
    "end_year_obs = 2023"
   ]
  },
  {
   "cell_type": "code",
   "execution_count": 4,
   "metadata": {},
   "outputs": [],
   "source": [
    "# Set up the request dictionary for ERA5\n",
    "request_dict_era5 = {\n",
    "    'variable': 'u',\n",
    "    'product_type': 'monthly_averaged_reanalysis',\n",
    "    'year': [x for x in range(start_year_obs, end_year_obs)],\n",
    "    'month': [x for x in range(6, 8 + 1)],\n",
    "    'pressure_level': [850, 300, 250],\n",
    "    'format': 'netcdf',\n",
    "    'time': '00:00'\n",
    "}"
   ]
  },
  {
   "cell_type": "code",
   "execution_count": 6,
   "metadata": {},
   "outputs": [
    {
     "name": "stdout",
     "output_type": "stream",
     "text": [
      "/gws/nopw/j04/canari/users/benhutch/ERA5/era5-monthly-u850-300-250-1940-2023.nc\n",
      "The file already exists\n",
      "Skipping download\n",
      "using the existing file:  /gws/nopw/j04/canari/users/benhutch/ERA5/era5-monthly-u850-300-250-1940-2023.nc\n"
     ]
    }
   ],
   "source": [
    "# Set up the target directory\n",
    "# ----------------------------\n",
    "target_dir = \"/gws/nopw/j04/canari/users/benhutch/ERA5/\"\n",
    "era5_target_filename = \"era5-monthly-u850-300-250-1940-2023.nc\"\n",
    "\n",
    "# Check if the target directory exists\n",
    "if not os.path.exists(target_dir):\n",
    "    os.makedirs(target_dir)\n",
    "\n",
    "# Form the path\n",
    "era5_target_path = os.path.join(target_dir, era5_target_filename)\n",
    "\n",
    "# Print the path\n",
    "print(era5_target_path)\n",
    "\n",
    "# If the path does not exist, then download the data\n",
    "if not os.path.exists(era5_target_path):\n",
    "    c.retrieve(\n",
    "        \"reanalysis-era5-pressure-levels-monthly-means\",\n",
    "        request_dict_era5,\n",
    "        era5_target_path\n",
    "    )\n",
    "else:\n",
    "    print(\"The file already exists\")\n",
    "    print(\"Skipping download\")\n",
    "    print(\"using the existing file: \", era5_target_path)"
   ]
  },
  {
   "cell_type": "code",
   "execution_count": 7,
   "metadata": {},
   "outputs": [],
   "source": [
    "# Set up another request for psl back to 1940\n",
    "# -------------------------------------------\n",
    "request_dict_era5_psl = {\n",
    "    'variable': 'mean_sea_level_pressure',\n",
    "    'product_type': 'monthly_averaged_reanalysis',\n",
    "    'year': [x for x in range(start_year_obs, end_year_obs)],\n",
    "    'month': [x for x in range(6, 8 + 1)],\n",
    "    'format': 'netcdf',\n",
    "    'time': '00:00'\n",
    "}"
   ]
  },
  {
   "cell_type": "code",
   "execution_count": 8,
   "metadata": {},
   "outputs": [
    {
     "name": "stderr",
     "output_type": "stream",
     "text": [
      "2024-02-15 09:03:59,178 INFO Welcome to the CDS\n",
      "2024-02-15 09:03:59,179 INFO Sending request to https://cds.climate.copernicus.eu/api/v2/resources/reanalysis-era5-single-levels-monthly-means\n"
     ]
    },
    {
     "name": "stdout",
     "output_type": "stream",
     "text": [
      "/gws/nopw/j04/canari/users/benhutch/ERA5/era5-monthly-psl-1940-2023.nc\n"
     ]
    },
    {
     "name": "stderr",
     "output_type": "stream",
     "text": [
      "2024-02-15 09:03:59,253 INFO Request is queued\n"
     ]
    }
   ],
   "source": [
    "# Set up the target filename\n",
    "era5_target_filename_psl = \"era5-monthly-psl-1940-2023.nc\"\n",
    "\n",
    "# Check if the target directory exists\n",
    "if not os.path.exists(target_dir):\n",
    "    os.makedirs(target_dir)\n",
    "\n",
    "# Form the path\n",
    "era5_target_path_psl = os.path.join(target_dir, era5_target_filename_psl)\n",
    "\n",
    "# Print the path\n",
    "print(era5_target_path_psl)\n",
    "\n",
    "# If the path does not exist, then download the data\n",
    "if not os.path.exists(era5_target_path_psl):\n",
    "    c.retrieve(\n",
    "        \"reanalysis-era5-single-levels-monthly-means\",\n",
    "        request_dict_era5_psl,\n",
    "        era5_target_path_psl\n",
    "    )\n",
    "else:\n",
    "    print(\"The file already exists\")\n",
    "    print(\"Skipping download\")\n",
    "    print(\"using the existing file: \", era5_target_path_psl)"
   ]
  }
 ],
 "metadata": {
  "kernelspec": {
   "display_name": "Python 3",
   "language": "python",
   "name": "python3"
  },
  "language_info": {
   "codemirror_mode": {
    "name": "ipython",
    "version": 3
   },
   "file_extension": ".py",
   "mimetype": "text/x-python",
   "name": "python",
   "nbconvert_exporter": "python",
   "pygments_lexer": "ipython3",
   "version": "3.10.5"
  }
 },
 "nbformat": 4,
 "nbformat_minor": 2
}
