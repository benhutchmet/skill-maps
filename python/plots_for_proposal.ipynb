{
 "cells": [
  {
   "cell_type": "code",
   "execution_count": 1,
   "metadata": {},
   "outputs": [],
   "source": [
    "# Imports\n",
    "import os\n",
    "import sys\n",
    "import glob"
   ]
  },
  {
   "cell_type": "code",
   "execution_count": 2,
   "metadata": {},
   "outputs": [],
   "source": [
    "# Third-party imports\n",
    "import numpy as np\n",
    "import matplotlib.pyplot as plt"
   ]
  },
  {
   "cell_type": "code",
   "execution_count": 3,
   "metadata": {},
   "outputs": [],
   "source": [
    "# Local imports\n",
    "sys.path.append(\"C:/Users/Ben Hutchins/OneDrive - University of Reading/Documents/GitHub/skill-maps-1\")\n",
    "import dictionaries as dicts\n",
    "\n",
    "# # Import functions from skill-maps\n",
    "sys.path.append(\"C:/Users/Ben Hutchins/OneDrive - University of Reading/Documents/GitHub/skill-maps-1/python\")\n",
    "# import functions as fnc\n",
    "import plotting_functions as plt_fnc\n",
    "\n",
    "# Import functions from plot_init_benefit\n",
    "sys.path.append(\"C:/Users/Ben Hutchins/OneDrive - University of Reading/Documents/GitHub/skill-maps-1/rose-suite-matching\")\n",
    "import plot_init_benefit as pib_fnc"
   ]
  },
  {
   "cell_type": "code",
   "execution_count": null,
   "metadata": {},
   "outputs": [
    {
     "ename": "",
     "evalue": "",
     "output_type": "error",
     "traceback": [
      "\u001b[1;31mRunning cells with 'c:\\Users\\Ben Hutchins\\OneDrive - University of Reading\\Documents\\GitHub\\MTMW14-Project-2\\.conda\\python.exe' requires the ipykernel package.\n",
      "\u001b[1;31mRun the following command to install 'ipykernel' into the Python environment. \n",
      "\u001b[1;31mCommand: 'conda install -p c:\\Users\\Ben Hutchins\\OneDrive - University of Reading\\Documents\\GitHub\\MTMW14-Project-2\\.conda ipykernel --update-deps --force-reinstall'"
     ]
    }
   ],
   "source": []
  },
  {
   "cell_type": "code",
   "execution_count": null,
   "metadata": {},
   "outputs": [
    {
     "ename": "",
     "evalue": "",
     "output_type": "error",
     "traceback": [
      "\u001b[1;31mRunning cells with 'c:\\Users\\Ben Hutchins\\OneDrive - University of Reading\\Documents\\GitHub\\MTMW14-Project-2\\.conda\\python.exe' requires the ipykernel package.\n",
      "\u001b[1;31mRun the following command to install 'ipykernel' into the Python environment. \n",
      "\u001b[1;31mCommand: 'conda install -p c:\\Users\\Ben Hutchins\\OneDrive - University of Reading\\Documents\\GitHub\\MTMW14-Project-2\\.conda ipykernel --update-deps --force-reinstall'"
     ]
    }
   ],
   "source": [
    "# Set up the global variables\n",
    "bootstrap_base_dir = \"/c/Users/Ben Hutchins/OneDrive - University of Reading/back_up_data/bootstrapping\"\n",
    "plots_dir = \"/c/Users/Ben Hutchins/OneDrive - University of Reading/backup_plots/prop_plots\"\n",
    "region = \"global\"\n",
    "forecast_range = \"2-9\"\n",
    "\n",
    "# Set up the lists\n",
    "seasons_list = [\"DJFM\", \"MAM\", \"JJA\", \"SON\"]\n",
    "methods_list = [\"raw\", \"lagged\"]\n",
    "variable = \"sfcWind\" # No time series for ua downloaded from JASMIN"
   ]
  }
 ],
 "metadata": {
  "kernelspec": {
   "display_name": "base",
   "language": "python",
   "name": "python3"
  },
  "language_info": {
   "codemirror_mode": {
    "name": "ipython",
    "version": 3
   },
   "file_extension": ".py",
   "mimetype": "text/x-python",
   "name": "python",
   "nbconvert_exporter": "python",
   "pygments_lexer": "ipython3",
   "version": "3.11.0"
  }
 },
 "nbformat": 4,
 "nbformat_minor": 2
}
