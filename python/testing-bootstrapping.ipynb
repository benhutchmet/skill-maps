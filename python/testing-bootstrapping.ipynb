{
 "cells": [
  {
   "cell_type": "code",
   "execution_count": 1,
   "metadata": {},
   "outputs": [],
   "source": [
    "# Imports\n",
    "import argparse\n",
    "import os\n",
    "import sys\n",
    "import time\n",
    "import glob\n",
    "import re\n",
    "\n",
    "# Third-party imports\n",
    "import numpy as np\n",
    "import pandas as pd\n",
    "import matplotlib.pyplot as plt\n",
    "import xarray as xr\n",
    "import cartopy.crs as ccrs\n",
    "from _datetime import datetime\n",
    "import scipy.stats as stats\n",
    "import matplotlib.animation as animation\n",
    "from matplotlib import rcParams\n",
    "from PIL import Image\n",
    "from sklearn.utils import resample\n",
    "from scipy.stats import pearsonr\n",
    "import scipy.stats as stats\n",
    "import scipy"
   ]
  },
  {
   "cell_type": "code",
   "execution_count": 3,
   "metadata": {},
   "outputs": [],
   "source": [
    "# Local imports\n",
    "sys.path.append(\"/home/users/benhutch/skill-maps\")\n",
    "import dictionaries as dicts\n",
    "\n",
    "sys.path.append(\"/home/users/benhutch/skill-maps/python\")\n",
    "import functions as fnc"
   ]
  },
  {
   "cell_type": "code",
   "execution_count": 4,
   "metadata": {},
   "outputs": [],
   "source": [
    "# Imports of historical functions\n",
    "sys.path.append(\"/home/users/benhutch/skill-maps-differences\")\n",
    "import functions as hist_fnc"
   ]
  },
  {
   "cell_type": "code",
   "execution_count": 5,
   "metadata": {},
   "outputs": [
    {
     "ename": "AttributeError",
     "evalue": "module 'dictionaries' has no attribute 'base_dir_historical'",
     "output_type": "error",
     "traceback": [
      "\u001b[0;31m---------------------------------------------------------------------------\u001b[0m",
      "\u001b[0;31mAttributeError\u001b[0m                            Traceback (most recent call last)",
      "\u001b[1;32m/home/users/benhutch/skill-maps/python/testing-bootstrapping.ipynb Cell 4\u001b[0m line \u001b[0;36m<cell line: 18>\u001b[0;34m()\u001b[0m\n\u001b[1;32m     <a href='vscode-notebook-cell://ssh-remote%2Bsci2/home/users/benhutch/skill-maps/python/testing-bootstrapping.ipynb#W3sdnNjb2RlLXJlbW90ZQ%3D%3D?line=15'>16</a>\u001b[0m historical_models \u001b[39m=\u001b[39m dicts\u001b[39m.\u001b[39mpsl_models\n\u001b[1;32m     <a href='vscode-notebook-cell://ssh-remote%2Bsci2/home/users/benhutch/skill-maps/python/testing-bootstrapping.ipynb#W3sdnNjb2RlLXJlbW90ZQ%3D%3D?line=16'>17</a>\u001b[0m base_dir \u001b[39m=\u001b[39m dicts\u001b[39m.\u001b[39mbase_dir\n\u001b[0;32m---> <a href='vscode-notebook-cell://ssh-remote%2Bsci2/home/users/benhutch/skill-maps/python/testing-bootstrapping.ipynb#W3sdnNjb2RlLXJlbW90ZQ%3D%3D?line=17'>18</a>\u001b[0m base_dir_historical \u001b[39m=\u001b[39m dicts\u001b[39m.\u001b[39;49mbase_dir_historical\n\u001b[1;32m     <a href='vscode-notebook-cell://ssh-remote%2Bsci2/home/users/benhutch/skill-maps/python/testing-bootstrapping.ipynb#W3sdnNjb2RlLXJlbW90ZQ%3D%3D?line=18'>19</a>\u001b[0m output_dir \u001b[39m=\u001b[39m dicts\u001b[39m.\u001b[39mplots_dir\n\u001b[1;32m     <a href='vscode-notebook-cell://ssh-remote%2Bsci2/home/users/benhutch/skill-maps/python/testing-bootstrapping.ipynb#W3sdnNjb2RlLXJlbW90ZQ%3D%3D?line=19'>20</a>\u001b[0m save_dir \u001b[39m=\u001b[39m dicts\u001b[39m.\u001b[39msave_dir\n",
      "\u001b[0;31mAttributeError\u001b[0m: module 'dictionaries' has no attribute 'base_dir_historical'"
     ]
    }
   ],
   "source": [
    "# Set up the parameters\n",
    "# Test run with psl dcppA-hindcast raw data and historical data\n",
    "variable = \"psl\"\n",
    "obs_var_name = \"msl\"\n",
    "region = \"global\"\n",
    "region_grid = dicts.gridspec_global\n",
    "forecast_range = \"2-9\"\n",
    "season = \"DJFM\"\n",
    "model_season = \"DJFM\"\n",
    "start_year = \"1960\"\n",
    "end_year = \"2022\"\n",
    "\n",
    "# Set up the paths\n",
    "observations_path = dicts.obs\n",
    "dcpp_models = dicts.models\n",
    "historical_models = dicts.psl_models\n",
    "base_dir = dicts.base_dir\n",
    "base_dir_historical = dicts.base_dir_historical\n",
    "output_dir = dicts.plots_dir\n",
    "save_dir = dicts.save_dir"
   ]
  },
  {
   "cell_type": "code",
   "execution_count": null,
   "metadata": {},
   "outputs": [],
   "source": [
    "# Process the observations\n",
    "obs = fnc.process_observations(variable, region, region_grid, forecast_range, season,\n",
    "                                observations_path, obs_var_name, plev=None)"
   ]
  },
  {
   "cell_type": "code",
   "execution_count": null,
   "metadata": {},
   "outputs": [],
   "source": [
    "# Load the historical data\n",
    "hist_data = hist_fnc.load_processed_historical_data(base_dir_historical, historical_models,\n",
    "                                                    variable, region, forecast_range, season)\n",
    "\n",
    "# Extract the data for the variable from the historical data\n",
    "hist_data, _ = hist_fnc.extract_historical_data(hist_data, variable)"
   ]
  },
  {
   "cell_type": "code",
   "execution_count": null,
   "metadata": {},
   "outputs": [],
   "source": [
    "# Load the DCPP data\n",
    "dcpp_data = fnc.load_data(base_dir, dcpp_models, variable, region, \n",
    "                            forecast_range, season, level=None)\n",
    "\n",
    "# Extract the data for the variable from the DCPP data\n",
    "dcpp_data, _ = fnc.process_data(dcpp_data, variable)"
   ]
  },
  {
   "cell_type": "code",
   "execution_count": null,
   "metadata": {},
   "outputs": [],
   "source": [
    "# Now we want to make sure that the time period \n",
    "# is the same for all of the data\n",
    "# and extract the data into arrays\n"
   ]
  }
 ],
 "metadata": {
  "kernelspec": {
   "display_name": "Python 3",
   "language": "python",
   "name": "python3"
  },
  "language_info": {
   "codemirror_mode": {
    "name": "ipython",
    "version": 3
   },
   "file_extension": ".py",
   "mimetype": "text/x-python",
   "name": "python",
   "nbconvert_exporter": "python",
   "pygments_lexer": "ipython3",
   "version": "3.10.5"
  }
 },
 "nbformat": 4,
 "nbformat_minor": 2
}
