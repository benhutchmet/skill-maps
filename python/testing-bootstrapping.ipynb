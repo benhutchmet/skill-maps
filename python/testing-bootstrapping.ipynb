{
 "cells": [
  {
   "cell_type": "code",
   "execution_count": 1,
   "metadata": {},
   "outputs": [],
   "source": [
    "# Imports\n",
    "import argparse\n",
    "import os\n",
    "import sys\n",
    "import time\n",
    "import glob\n",
    "import re\n",
    "\n",
    "# Third-party imports\n",
    "import numpy as np\n",
    "import pandas as pd\n",
    "import matplotlib.pyplot as plt\n",
    "import xarray as xr\n",
    "import cartopy.crs as ccrs\n",
    "from _datetime import datetime\n",
    "import scipy.stats as stats\n",
    "import matplotlib.animation as animation\n",
    "from matplotlib import rcParams\n",
    "from PIL import Image\n",
    "from sklearn.utils import resample\n",
    "from scipy.stats import pearsonr\n",
    "import scipy.stats as stats\n",
    "import scipy"
   ]
  },
  {
   "cell_type": "code",
   "execution_count": 2,
   "metadata": {},
   "outputs": [],
   "source": [
    "# Local imports\n",
    "sys.path.append(\"/home/users/benhutch/skill-maps\")\n",
    "import dictionaries as dicts\n",
    "\n",
    "sys.path.append(\"/home/users/benhutch/skill-maps/python\")\n",
    "import functions as fnc"
   ]
  },
  {
   "cell_type": "code",
   "execution_count": 3,
   "metadata": {},
   "outputs": [
    {
     "name": "stdout",
     "output_type": "stream",
     "text": [
      "['.git', '.gitignore', 'README.md', 'functions_diff.py', 'dictionaries.py', 'plotting.ipynb', '__pycache__', 'plotting_functions.py', '.ipynb_checkpoints', 'skill_maps_functions.py']\n",
      "['CDOException', 'CDO_PY_VERSION', 'Cdo', 'CdoTempfileStore', 'Image', 'StringIO', '__builtins__', '__cached__', '__doc__', '__file__', '__loader__', '__name__', '__package__', '__spec__', 'animation', 'argparse', 'auto_doc', 'calculate_annual_mean_anomalies_obs', 'calculate_anomalies', 'calculate_correlation_coefficient', 'calculate_correlations', 'calculate_correlations_diff', 'calculate_dcpp_data_ws', 'calculate_historical_data_ws', 'calculate_spatial_correlations', 'calculate_spatial_correlations_bootstrap', 'calculate_spatial_correlations_bootstrap_diff', 'calculate_spatial_correlations_diff', 'calculate_wind_speed', 'ccrs', 'cdo', 'constrain_years_init_uninit', 'constrain_years_processed_hist', 'da', 'dask', 'datetime', 'dd', 'dic', 'extract_ensemble_members', 'extract_historical_data', 'getCdoVersion', 'glob', 'json', 'load_data', 'load_processed_historical_data', 'multiprocessing', 'np', 'operator_doc', 'os', 'parse_version', 'pd', 'plt', 'process_data', 'process_historical_members', 'process_model_data_for_plot', 'process_model_data_for_plot_diff', 'process_observations', 'pyLog', 'random', 'rcParams', 're', 'regrid_and_select_region', 'remove_nan_years_obs', 'remove_years_with_nans', 'remove_years_with_nans_original', 'resample', 'select_forecast_range', 'select_season', 'setupLogging', 'signal', 'six', 'stats', 'strip', 'subprocess', 'sys', 'tempfile', 'threading', 'which', 'xr']\n"
     ]
    }
   ],
   "source": [
    "# Imports of historical functions\n",
    "#/home/users/benhutch/skill-maps-differences/functions.py\n",
    "import os\n",
    "\n",
    "path = \"/home/users/benhutch/skill-maps-differences\"\n",
    "print(os.listdir(path))\n",
    "\n",
    "# append path and import\n",
    "sys.path.append(path)\n",
    "import functions_diff as hist_fnc\n",
    "\n",
    "# List the functions in the module\n",
    "print(dir(hist_fnc))"
   ]
  },
  {
   "cell_type": "code",
   "execution_count": 4,
   "metadata": {},
   "outputs": [],
   "source": [
    "# Set up the parameters\n",
    "# Test run with psl dcppA-hindcast raw data and historical data\n",
    "variable = \"psl\"\n",
    "obs_var_name = \"psl\"\n",
    "region = \"global\"\n",
    "region_grid = dicts.gridspec_global\n",
    "forecast_range = \"2-9\"\n",
    "season = \"DJFM\"\n",
    "model_season = \"DJFM\"\n",
    "start_year = \"1960\"\n",
    "end_year = \"2022\"\n",
    "\n",
    "# Set up the paths\n",
    "observations_path = dicts.obs\n",
    "dcpp_models = dicts.models\n",
    "historical_models = dicts.psl_models_historical\n",
    "base_dir = dicts.base_dir\n",
    "base_dir_historical = dicts.base_dir_historical\n",
    "output_dir = dicts.plots_dir\n",
    "save_dir = dicts.save_dir"
   ]
  },
  {
   "cell_type": "code",
   "execution_count": 5,
   "metadata": {},
   "outputs": [
    {
     "name": "stdout",
     "output_type": "stream",
     "text": [
      "Gridspec file: /home/users/benhutch/gridspec/gridspec-global.txt\n",
      "Variable is not ua or va, creating new file name\n",
      "File already exists\n",
      "Loading ERA5 data\n"
     ]
    },
    {
     "name": "stderr",
     "output_type": "stream",
     "text": [
      "No traceback available to show.\n"
     ]
    }
   ],
   "source": [
    "%tb\n",
    "# Process the observations\n",
    "obs = fnc.process_observations(variable, region, region_grid, forecast_range, season,\n",
    "                                observations_path, obs_var_name, plev=None)"
   ]
  },
  {
   "cell_type": "code",
   "execution_count": 6,
   "metadata": {},
   "outputs": [
    {
     "name": "stdout",
     "output_type": "stream",
     "text": [
      "processing model:  BCC-CSM2-MR\n",
      "files_path:  /home/users/benhutch/skill-maps-processed-data/historical/psl/BCC-CSM2-MR/global/years_2-9/DJFM/outputs/processed/*.nc\n",
      "processing model:  MPI-ESM1-2-HR\n",
      "files_path:  /home/users/benhutch/skill-maps-processed-data/historical/psl/MPI-ESM1-2-HR/global/years_2-9/DJFM/outputs/processed/*.nc\n",
      "processing model:  CanESM5\n",
      "files_path:  /home/users/benhutch/skill-maps-processed-data/historical/psl/CanESM5/global/years_2-9/DJFM/outputs/processed/*.nc\n",
      "processing model:  CMCC-CM2-SR5\n",
      "files_path:  /home/users/benhutch/skill-maps-processed-data/historical/psl/CMCC-CM2-SR5/global/years_2-9/DJFM/outputs/processed/*.nc\n",
      "processing model:  HadGEM3-GC31-MM\n",
      "files_path:  /home/users/benhutch/skill-maps-processed-data/historical/psl/HadGEM3-GC31-MM/global/years_2-9/DJFM/outputs/processed/*.nc\n",
      "processing model:  EC-Earth3\n",
      "files_path:  /home/users/benhutch/skill-maps-processed-data/historical/psl/EC-Earth3/global/years_2-9/DJFM/outputs/processed/*.nc\n",
      "processing model:  MPI-ESM1-2-LR\n",
      "files_path:  /home/users/benhutch/skill-maps-processed-data/historical/psl/MPI-ESM1-2-LR/global/years_2-9/DJFM/outputs/processed/*.nc\n",
      "processing model:  FGOALS-f3-L\n",
      "files_path:  /home/users/benhutch/skill-maps-processed-data/historical/psl/FGOALS-f3-L/global/years_2-9/DJFM/outputs/processed/*.nc\n",
      "processing model:  MIROC6\n",
      "files_path:  /home/users/benhutch/skill-maps-processed-data/historical/psl/MIROC6/global/years_2-9/DJFM/outputs/processed/*.nc\n",
      "processing model:  IPSL-CM6A-LR\n",
      "files_path:  /home/users/benhutch/skill-maps-processed-data/historical/psl/IPSL-CM6A-LR/global/years_2-9/DJFM/outputs/processed/*.nc\n",
      "processing model:  CESM1-1-CAM5-CMIP5\n",
      "files_path:  /home/users/benhutch/skill-maps-processed-data/historical/psl/CESM1-1-CAM5-CMIP5/global/years_2-9/DJFM/outputs/processed/*.nc\n",
      "Warning, no files found for model:  CESM1-1-CAM5-CMIP5\n"
     ]
    },
    {
     "ename": "TypeError",
     "evalue": "'NoneType' object is not iterable",
     "output_type": "error",
     "traceback": [
      "\u001b[0;31m---------------------------------------------------------------------------\u001b[0m",
      "\u001b[0;31mTypeError\u001b[0m                                 Traceback (most recent call last)",
      "\u001b[1;32m/home/users/benhutch/skill-maps/python/testing-bootstrapping.ipynb Cell 6\u001b[0m line \u001b[0;36m<cell line: 6>\u001b[0;34m()\u001b[0m\n\u001b[1;32m      <a href='vscode-notebook-cell://ssh-remote%2Bsci2/home/users/benhutch/skill-maps/python/testing-bootstrapping.ipynb#W5sdnNjb2RlLXJlbW90ZQ%3D%3D?line=1'>2</a>\u001b[0m hist_data \u001b[39m=\u001b[39m hist_fnc\u001b[39m.\u001b[39mload_processed_historical_data(base_dir_historical, historical_models,\n\u001b[1;32m      <a href='vscode-notebook-cell://ssh-remote%2Bsci2/home/users/benhutch/skill-maps/python/testing-bootstrapping.ipynb#W5sdnNjb2RlLXJlbW90ZQ%3D%3D?line=2'>3</a>\u001b[0m                                                     variable, region, forecast_range, season)\n\u001b[1;32m      <a href='vscode-notebook-cell://ssh-remote%2Bsci2/home/users/benhutch/skill-maps/python/testing-bootstrapping.ipynb#W5sdnNjb2RlLXJlbW90ZQ%3D%3D?line=4'>5</a>\u001b[0m \u001b[39m# Extract the data for the variable from the historical data\u001b[39;00m\n\u001b[0;32m----> <a href='vscode-notebook-cell://ssh-remote%2Bsci2/home/users/benhutch/skill-maps/python/testing-bootstrapping.ipynb#W5sdnNjb2RlLXJlbW90ZQ%3D%3D?line=5'>6</a>\u001b[0m hist_data, _ \u001b[39m=\u001b[39m hist_fnc\u001b[39m.\u001b[39;49mextract_historical_data(hist_data, variable)\n",
      "File \u001b[0;32m~/skill-maps-differences/functions_diff.py:232\u001b[0m, in \u001b[0;36mextract_historical_data\u001b[0;34m(historical_data, variable)\u001b[0m\n\u001b[1;32m    229\u001b[0m historical_time_by_model \u001b[39m=\u001b[39m {}\n\u001b[1;32m    231\u001b[0m \u001b[39m# Loop over the models\u001b[39;00m\n\u001b[0;32m--> 232\u001b[0m \u001b[39mfor\u001b[39;00m model \u001b[39min\u001b[39;00m historical_data:\n\u001b[1;32m    233\u001b[0m     \u001b[39m# Print the model name\u001b[39;00m\n\u001b[1;32m    234\u001b[0m     \u001b[39mprint\u001b[39m(\u001b[39m\"\u001b[39m\u001b[39mprocessing model: \u001b[39m\u001b[39m\"\u001b[39m, model)\n\u001b[1;32m    236\u001b[0m     \u001b[39m# Create empty lists to store the data\u001b[39;00m\n",
      "\u001b[0;31mTypeError\u001b[0m: 'NoneType' object is not iterable"
     ]
    }
   ],
   "source": [
    "# Load the historical data\n",
    "hist_data = hist_fnc.load_processed_historical_data(base_dir_historical, historical_models,\n",
    "                                                    variable, region, forecast_range, season)\n",
    "\n",
    "# Extract the data for the variable from the historical data\n",
    "hist_data, _ = hist_fnc.extract_historical_data(hist_data, variable)"
   ]
  },
  {
   "cell_type": "code",
   "execution_count": null,
   "metadata": {},
   "outputs": [],
   "source": [
    "# Load the DCPP data\n",
    "dcpp_data = fnc.load_data(base_dir, dcpp_models, variable, region, \n",
    "                            forecast_range, season, level=None)\n",
    "\n",
    "# Extract the data for the variable from the DCPP data\n",
    "dcpp_data, _ = fnc.process_data(dcpp_data, variable)"
   ]
  },
  {
   "cell_type": "code",
   "execution_count": null,
   "metadata": {},
   "outputs": [],
   "source": [
    "# Now we want to make sure that the time period \n",
    "# is the same for all of the data\n",
    "# and extract the data into arrays\n"
   ]
  }
 ],
 "metadata": {
  "kernelspec": {
   "display_name": "Python 3",
   "language": "python",
   "name": "python3"
  },
  "language_info": {
   "codemirror_mode": {
    "name": "ipython",
    "version": 3
   },
   "file_extension": ".py",
   "mimetype": "text/x-python",
   "name": "python",
   "nbconvert_exporter": "python",
   "pygments_lexer": "ipython3",
   "version": "3.10.5"
  }
 },
 "nbformat": 4,
 "nbformat_minor": 2
}
