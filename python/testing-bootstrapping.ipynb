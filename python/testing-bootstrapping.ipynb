{
 "cells": [
  {
   "cell_type": "code",
   "execution_count": null,
   "metadata": {},
   "outputs": [],
   "source": [
    "# Imports\n",
    "import argparse\n",
    "import os\n",
    "import sys\n",
    "import time\n",
    "import glob\n",
    "import re\n",
    "\n",
    "# Third-party imports\n",
    "import numpy as np\n",
    "import pandas as pd\n",
    "import matplotlib.pyplot as plt\n",
    "import xarray as xr\n",
    "import cartopy.crs as ccrs\n",
    "from _datetime import datetime\n",
    "import scipy.stats as stats\n",
    "import matplotlib.animation as animation\n",
    "from matplotlib import rcParams\n",
    "from PIL import Image\n",
    "from sklearn.utils import resample\n",
    "from scipy.stats import pearsonr\n",
    "import scipy.stats as stats\n",
    "import scipy"
   ]
  },
  {
   "cell_type": "code",
   "execution_count": null,
   "metadata": {},
   "outputs": [],
   "source": [
    "# Local imports\n",
    "sys.path.append(\"/home/users/benhutch/skill-maps/python\")\n",
    "import dictionaries as dicts\n",
    "import functions as fnc"
   ]
  },
  {
   "cell_type": "code",
   "execution_count": null,
   "metadata": {},
   "outputs": [],
   "source": [
    "# Imports of historical functions\n",
    "sys.path.append(\"/home/users/benhutch/skill-maps-differences\")\n",
    "import functions as hist_fnc"
   ]
  },
  {
   "cell_type": "code",
   "execution_count": null,
   "metadata": {},
   "outputs": [],
   "source": [
    "# Set up the parameters\n",
    "# Test run with psl dcppA-hindcast raw data and historical data\n",
    "variable = \"psl\"\n",
    "obs_var_name = \"msl\"\n",
    "region = \"global\"\n",
    "region_grid = dicts.gridspec_global\n",
    "forecast_range = \"2-9\"\n",
    "season = \"DJFM\"\n",
    "model_season = \"DJFM\"\n",
    "start_year = \"1960\"\n",
    "end_year = \"2022\"\n",
    "\n",
    "# Set up the paths\n",
    "observations_path = dicts.obs\n",
    "dcpp_models = dicts.models\n",
    "historical_models = dicts.psl_models\n",
    "base_dir = dicts.base_dir\n",
    "base_dir_historical = dicts.base_dir_historical\n",
    "output_dir = dicts.plots_dir\n",
    "save_dir = dicts.save_dir"
   ]
  },
  {
   "cell_type": "code",
   "execution_count": null,
   "metadata": {},
   "outputs": [],
   "source": [
    "# Process the observations\n",
    "obs = fnc.process_observations(variable, region, region_grid, forecast_range, season,\n",
    "                                observations_path, obs_var_name, plev=None)"
   ]
  },
  {
   "cell_type": "code",
   "execution_count": null,
   "metadata": {},
   "outputs": [],
   "source": [
    "# Load the historical data\n",
    "hist_data = hist_fnc.load_processed_historical_data(base_dir_historical, historical_models,\n",
    "                                                    variable, region, forecast_range, season)\n",
    "\n",
    "# Extract the data for the variable from the historical data\n",
    "hist_data, _ = hist_fnc.extract_historical_data(hist_data, variable)"
   ]
  },
  {
   "cell_type": "code",
   "execution_count": null,
   "metadata": {},
   "outputs": [],
   "source": [
    "# Load the DCPP data\n",
    "dcpp_data = fnc.load_data(base_dir, dcpp_models, variable, region, \n",
    "                            forecast_range, season, level=None)\n",
    "\n",
    "# Extract the data for the variable from the DCPP data\n",
    "dcpp_data, _ = fnc.process_data(dcpp_data, variable)"
   ]
  },
  {
   "cell_type": "code",
   "execution_count": null,
   "metadata": {},
   "outputs": [],
   "source": [
    "# Now we want to make sure that the time period \n",
    "# is the same for all of the data\n",
    "# and extract the data into arrays\n"
   ]
  }
 ],
 "metadata": {
  "kernelspec": {
   "display_name": "Python 3",
   "language": "python",
   "name": "python3"
  },
  "language_info": {
   "name": "python",
   "version": "3.10.5"
  }
 },
 "nbformat": 4,
 "nbformat_minor": 2
}
