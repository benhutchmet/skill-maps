{
 "cells": [
  {
   "cell_type": "code",
   "execution_count": 1,
   "metadata": {},
   "outputs": [],
   "source": [
    "# Imports\n",
    "import os\n",
    "import sys\n",
    "import glob\n",
    "\n",
    "# Third-party imports\n",
    "import numpy as np\n",
    "import matplotlib.pyplot as plt"
   ]
  },
  {
   "cell_type": "code",
   "execution_count": 2,
   "metadata": {},
   "outputs": [],
   "source": [
    "# Local imports\n",
    "sys.path.append(\"/home/users/benhutch/skill-maps\")\n",
    "import dictionaries as dicts\n",
    "\n",
    "# # Import functions from skill-maps\n",
    "# sys.path.append(\"/home/users/benhutch/skill-maps/python\")\n",
    "# import functions as fnc\n",
    "# import plotting_functions as plt_fnc\n",
    "\n",
    "# Import functions from plot_init_benefit\n",
    "sys.path.append(\"/home/users/benhutch/skill-maps/rose-suite-matching\")\n",
    "import plot_init_benefit as pib_fnc"
   ]
  },
  {
   "cell_type": "code",
   "execution_count": 3,
   "metadata": {},
   "outputs": [],
   "source": [
    "# Set up the arguments\n",
    "variable = \"rsds\"\n",
    "region = \"global\"\n",
    "season = \"DJFM\"\n",
    "forecast_range = \"2-9\"\n",
    "method = \"raw\"\n",
    "no_bootstraps = 5 # test case\n",
    "bootstrap_base_dir = \"/gws/nopw/j04/canari/users/benhutch/bootstrapping\""
   ]
  },
  {
   "cell_type": "code",
   "execution_count": 4,
   "metadata": {},
   "outputs": [
    {
     "name": "stdout",
     "output_type": "stream",
     "text": [
      "/gws/nopw/j04/canari/users/benhutch/bootstrapping/rsds/global/DJFM/2-9/raw/no_bootstraps_5\n",
      "Path exists\n",
      "['/gws/nopw/j04/canari/users/benhutch/bootstrapping/rsds/global/DJFM/2-9/raw/no_bootstraps_5/corr1_p_rsds_global_DJFM_2-9.npy', '/gws/nopw/j04/canari/users/benhutch/bootstrapping/rsds/global/DJFM/2-9/raw/no_bootstraps_5/corr1_rsds_global_DJFM_2-9.npy', '/gws/nopw/j04/canari/users/benhutch/bootstrapping/rsds/global/DJFM/2-9/raw/no_bootstraps_5/nens1_rsds_global_DJFM_2-9.txt', '/gws/nopw/j04/canari/users/benhutch/bootstrapping/rsds/global/DJFM/2-9/raw/no_bootstraps_5/nens2_rsds_global_DJFM_2-9.txt', '/gws/nopw/j04/canari/users/benhutch/bootstrapping/rsds/global/DJFM/2-9/raw/no_bootstraps_5/obs_resid_rsds_global_DJFM_2-9.npy', '/gws/nopw/j04/canari/users/benhutch/bootstrapping/rsds/global/DJFM/2-9/raw/no_bootstraps_5/partial_r_p_rsds_global_DJFM_2-9.npy', '/gws/nopw/j04/canari/users/benhutch/bootstrapping/rsds/global/DJFM/2-9/raw/no_bootstraps_5/partial_r_rsds_global_DJFM_2-9.npy', '/gws/nopw/j04/canari/users/benhutch/bootstrapping/rsds/global/DJFM/2-9/raw/no_bootstraps_5/sigo_resid_rsds_global_DJFM_2-9.txt', '/gws/nopw/j04/canari/users/benhutch/bootstrapping/rsds/global/DJFM/2-9/raw/no_bootstraps_5/sigo_rsds_global_DJFM_2-9.txt', '/gws/nopw/j04/canari/users/benhutch/bootstrapping/rsds/global/DJFM/2-9/raw/no_bootstraps_5/start_end_years_rsds_global_DJFM_2-9.txt']\n"
     ]
    }
   ],
   "source": [
    "# Form the path\n",
    "path = f\"{bootstrap_base_dir}/{variable}/{region}/{season}/\" + \\\n",
    "         f\"{forecast_range}/{method}/no_bootstraps_{no_bootstraps}\"\n",
    "\n",
    "# Print the path\n",
    "print(path)\n",
    "\n",
    "# Check if the path exists\n",
    "if os.path.exists(path):\n",
    "    print(\"Path exists\")\n",
    "\n",
    "# print the files in the path\n",
    "files = glob.glob(f\"{path}/*\")\n",
    "\n",
    "# Print the files\n",
    "print(files)\n"
   ]
  },
  {
   "cell_type": "code",
   "execution_count": 5,
   "metadata": {},
   "outputs": [
    {
     "name": "stdout",
     "output_type": "stream",
     "text": [
      "['/gws/nopw/j04/canari/users/benhutch/bootstrapping/rsds/global/DJFM/2-9/raw/no_bootstraps_5/nens1_rsds_global_DJFM_2-9.txt', '/gws/nopw/j04/canari/users/benhutch/bootstrapping/rsds/global/DJFM/2-9/raw/no_bootstraps_5/nens2_rsds_global_DJFM_2-9.txt', '/gws/nopw/j04/canari/users/benhutch/bootstrapping/rsds/global/DJFM/2-9/raw/no_bootstraps_5/sigo_resid_rsds_global_DJFM_2-9.txt', '/gws/nopw/j04/canari/users/benhutch/bootstrapping/rsds/global/DJFM/2-9/raw/no_bootstraps_5/sigo_rsds_global_DJFM_2-9.txt', '/gws/nopw/j04/canari/users/benhutch/bootstrapping/rsds/global/DJFM/2-9/raw/no_bootstraps_5/start_end_years_rsds_global_DJFM_2-9.txt']\n",
      "/gws/nopw/j04/canari/users/benhutch/bootstrapping/rsds/global/DJFM/2-9/raw/no_bootstraps_5/nens1_rsds_global_DJFM_2-9.txt\n",
      "/gws/nopw/j04/canari/users/benhutch/bootstrapping/rsds/global/DJFM/2-9/raw/no_bootstraps_5/nens2_rsds_global_DJFM_2-9.txt\n",
      "/gws/nopw/j04/canari/users/benhutch/bootstrapping/rsds/global/DJFM/2-9/raw/no_bootstraps_5/sigo_rsds_global_DJFM_2-9.txt\n",
      "/gws/nopw/j04/canari/users/benhutch/bootstrapping/rsds/global/DJFM/2-9/raw/no_bootstraps_5/sigo_resid_rsds_global_DJFM_2-9.txt\n",
      "/gws/nopw/j04/canari/users/benhutch/bootstrapping/rsds/global/DJFM/2-9/raw/no_bootstraps_5/start_end_years_rsds_global_DJFM_2-9.txt\n",
      "{'nens1': array(141), 'nens2': array(67), 'sigo': array(2.98146606), 'sigo_resid': array(3.13055367), 'start_year': 1966, 'end_year': 2011}\n"
     ]
    }
   ],
   "source": [
    "# test the function for extracting the values from the .txt files\n",
    "values = pib_fnc.extract_values_from_txt(path, variable)\n",
    "\n",
    "print(values)\n",
    "\n"
   ]
  },
  {
   "cell_type": "code",
   "execution_count": 6,
   "metadata": {},
   "outputs": [
    {
     "name": "stdout",
     "output_type": "stream",
     "text": [
      "['/gws/nopw/j04/canari/users/benhutch/bootstrapping/rsds/global/DJFM/2-9/raw/no_bootstraps_5/corr1_p_rsds_global_DJFM_2-9.npy', '/gws/nopw/j04/canari/users/benhutch/bootstrapping/rsds/global/DJFM/2-9/raw/no_bootstraps_5/corr1_rsds_global_DJFM_2-9.npy', '/gws/nopw/j04/canari/users/benhutch/bootstrapping/rsds/global/DJFM/2-9/raw/no_bootstraps_5/obs_resid_rsds_global_DJFM_2-9.npy', '/gws/nopw/j04/canari/users/benhutch/bootstrapping/rsds/global/DJFM/2-9/raw/no_bootstraps_5/partial_r_p_rsds_global_DJFM_2-9.npy', '/gws/nopw/j04/canari/users/benhutch/bootstrapping/rsds/global/DJFM/2-9/raw/no_bootstraps_5/partial_r_rsds_global_DJFM_2-9.npy']\n",
      "corr1_file:  /gws/nopw/j04/canari/users/benhutch/bootstrapping/rsds/global/DJFM/2-9/raw/no_bootstraps_5/corr1_rsds_global_DJFM_2-9.npy\n"
     ]
    },
    {
     "name": "stdout",
     "output_type": "stream",
     "text": [
      "{'corr1': array([[0.71309055, 0.71389414, 0.70989183, ..., 0.70869699, 0.71056189,\n",
      "        0.713325  ],\n",
      "       [0.59473596, 0.57374885, 0.5553649 , ..., 0.59925453, 0.59101961,\n",
      "        0.59167757],\n",
      "       [0.53861137, 0.52597354, 0.49872046, ..., 0.63593044, 0.5948098 ,\n",
      "        0.56182608],\n",
      "       ...,\n",
      "       [0.37879342, 0.38227781, 0.39843196, ..., 0.34597491, 0.38393258,\n",
      "        0.38616937],\n",
      "       [0.2773315 , 0.28866405, 0.34405398, ..., 0.2444953 , 0.22249389,\n",
      "        0.22951469],\n",
      "       [0.62627658, 0.62231067, 0.61600458, ..., 0.56815237, 0.58707004,\n",
      "        0.60235122]]), 'corr1_p': array([[0., 0., 0., ..., 0., 0., 0.],\n",
      "       [0., 0., 0., ..., 0., 0., 0.],\n",
      "       [0., 0., 0., ..., 0., 0., 0.],\n",
      "       ...,\n",
      "       [0., 0., 0., ..., 0., 0., 0.],\n",
      "       [0., 0., 0., ..., 0., 0., 0.],\n",
      "       [0., 0., 0., ..., 0., 0., 0.]]), 'partial_r': array([[0.52763598, 0.53237953, 0.52345743, ..., 0.52227872, 0.52382711,\n",
      "        0.52902697],\n",
      "       [0.44265191, 0.40097475, 0.39348842, ..., 0.43947923, 0.41790771,\n",
      "        0.42557717],\n",
      "       [0.33955234, 0.35650821, 0.3470305 , ..., 0.39713558, 0.38674326,\n",
      "        0.35665416],\n",
      "       ...,\n",
      "       [0.23084041, 0.22948109, 0.29246639, ..., 0.21990282, 0.28565209,\n",
      "        0.28325183],\n",
      "       [0.30584186, 0.31468991, 0.36639564, ..., 0.26187994, 0.24210522,\n",
      "        0.25148786],\n",
      "       [0.55830023, 0.56176166, 0.55920796, ..., 0.49787475, 0.51046917,\n",
      "        0.53104467]]), 'partial_r_p': array([[0. , 0. , 0. , ..., 0. , 0. , 0. ],\n",
      "       [0.2, 0.2, 0.2, ..., 0.2, 0.2, 0.2],\n",
      "       [0.4, 0.4, 0.4, ..., 0.4, 0.4, 0.4],\n",
      "       ...,\n",
      "       [0. , 0. , 0. , ..., 0.2, 0.2, 0. ],\n",
      "       [0. , 0.2, 0.2, ..., 0. , 0.2, 0.2],\n",
      "       [0. , 0. , 0. , ..., 0. , 0. , 0. ]])}\n"
     ]
    }
   ],
   "source": [
    "# Test the function for extracting the arrays into a dictionary\n",
    "arrays = pib_fnc.load_arrays_from_npy(path, variable)\n",
    "\n",
    "print(arrays)\n"
   ]
  },
  {
   "cell_type": "code",
   "execution_count": null,
   "metadata": {},
   "outputs": [],
   "source": [
    "# Define a function to process the initialization benefit"
   ]
  }
 ],
 "metadata": {
  "kernelspec": {
   "display_name": "Python 3",
   "language": "python",
   "name": "python3"
  },
  "language_info": {
   "codemirror_mode": {
    "name": "ipython",
    "version": 3
   },
   "file_extension": ".py",
   "mimetype": "text/x-python",
   "name": "python",
   "nbconvert_exporter": "python",
   "pygments_lexer": "ipython3",
   "version": "3.10.5"
  }
 },
 "nbformat": 4,
 "nbformat_minor": 2
}
