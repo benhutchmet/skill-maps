{
 "cells": [
  {
   "cell_type": "code",
   "execution_count": 1,
   "metadata": {},
   "outputs": [],
   "source": [
    "# Imports\n",
    "import os\n",
    "import sys\n",
    "import glob\n",
    "\n",
    "# Third-party imports\n",
    "import numpy as np\n",
    "import matplotlib.pyplot as plt"
   ]
  },
  {
   "cell_type": "code",
   "execution_count": 2,
   "metadata": {},
   "outputs": [],
   "source": [
    "# Local imports\n",
    "sys.path.append(\"/home/users/benhutch/skill-maps\")\n",
    "import dictionaries as dicts\n",
    "\n",
    "# Import functions from skill-maps\n",
    "sys.path.append(\"/home/users/benhutch/skill-maps/python\")\n",
    "import functions as fnc\n",
    "import plotting_functions as plt_fnc\n",
    "\n",
    "# Import functions from plot_init_benefit\n",
    "sys.path.append(\"/home/users/benhutch/skill-maps/rose-suite-matching\")\n",
    "import plot_init_benefit as pib_fnc"
   ]
  },
  {
   "cell_type": "code",
   "execution_count": 3,
   "metadata": {},
   "outputs": [],
   "source": [
    "# Set up the arguments\n",
    "variable = \"rsds\"\n",
    "region = \"global\"\n",
    "season = \"DJFM\"\n",
    "forecast_range = \"2-9\"\n",
    "method = \"raw\"\n",
    "no_bootstraps = 5 # test case\n",
    "bootstrap_base_dir = \"/gws/nopw/j04/canari/users/benhutch/bootstrapping\""
   ]
  },
  {
   "cell_type": "code",
   "execution_count": 4,
   "metadata": {},
   "outputs": [
    {
     "name": "stdout",
     "output_type": "stream",
     "text": [
      "/gws/nopw/j04/canari/users/benhutch/bootstrapping/rsds/global/DJFM/2-9/raw/no_bootstraps_5\n",
      "Path exists\n",
      "['/gws/nopw/j04/canari/users/benhutch/bootstrapping/rsds/global/DJFM/2-9/raw/no_bootstraps_5/corr1_p_rsds_global_DJFM_2-9.npy', '/gws/nopw/j04/canari/users/benhutch/bootstrapping/rsds/global/DJFM/2-9/raw/no_bootstraps_5/corr1_rsds_global_DJFM_2-9.npy', '/gws/nopw/j04/canari/users/benhutch/bootstrapping/rsds/global/DJFM/2-9/raw/no_bootstraps_5/nens1_rsds_global_DJFM_2-9.txt', '/gws/nopw/j04/canari/users/benhutch/bootstrapping/rsds/global/DJFM/2-9/raw/no_bootstraps_5/nens2_rsds_global_DJFM_2-9.txt', '/gws/nopw/j04/canari/users/benhutch/bootstrapping/rsds/global/DJFM/2-9/raw/no_bootstraps_5/obs_resid_rsds_global_DJFM_2-9.npy', '/gws/nopw/j04/canari/users/benhutch/bootstrapping/rsds/global/DJFM/2-9/raw/no_bootstraps_5/partial_r_p_rsds_global_DJFM_2-9.npy', '/gws/nopw/j04/canari/users/benhutch/bootstrapping/rsds/global/DJFM/2-9/raw/no_bootstraps_5/partial_r_rsds_global_DJFM_2-9.npy', '/gws/nopw/j04/canari/users/benhutch/bootstrapping/rsds/global/DJFM/2-9/raw/no_bootstraps_5/sigo_resid_rsds_global_DJFM_2-9.txt', '/gws/nopw/j04/canari/users/benhutch/bootstrapping/rsds/global/DJFM/2-9/raw/no_bootstraps_5/sigo_rsds_global_DJFM_2-9.txt', '/gws/nopw/j04/canari/users/benhutch/bootstrapping/rsds/global/DJFM/2-9/raw/no_bootstraps_5/start_end_years_rsds_global_DJFM_2-9.txt']\n"
     ]
    }
   ],
   "source": [
    "# Form the path\n",
    "path = f\"{bootstrap_base_dir}/{variable}/{region}/{season}/\" + \\\n",
    "         f\"{forecast_range}/{method}/no_bootstraps_{no_bootstraps}\"\n",
    "\n",
    "# Print the path\n",
    "print(path)\n",
    "\n",
    "# Check if the path exists\n",
    "if os.path.exists(path):\n",
    "    print(\"Path exists\")\n",
    "\n",
    "# print the files in the path\n",
    "files = glob.glob(f\"{path}/*\")\n",
    "\n",
    "# Print the files\n",
    "print(files)\n"
   ]
  },
  {
   "cell_type": "code",
   "execution_count": 5,
   "metadata": {},
   "outputs": [
    {
     "name": "stdout",
     "output_type": "stream",
     "text": [
      "['/gws/nopw/j04/canari/users/benhutch/bootstrapping/rsds/global/DJFM/2-9/raw/no_bootstraps_5/nens1_rsds_global_DJFM_2-9.txt', '/gws/nopw/j04/canari/users/benhutch/bootstrapping/rsds/global/DJFM/2-9/raw/no_bootstraps_5/nens2_rsds_global_DJFM_2-9.txt', '/gws/nopw/j04/canari/users/benhutch/bootstrapping/rsds/global/DJFM/2-9/raw/no_bootstraps_5/sigo_resid_rsds_global_DJFM_2-9.txt', '/gws/nopw/j04/canari/users/benhutch/bootstrapping/rsds/global/DJFM/2-9/raw/no_bootstraps_5/sigo_rsds_global_DJFM_2-9.txt', '/gws/nopw/j04/canari/users/benhutch/bootstrapping/rsds/global/DJFM/2-9/raw/no_bootstraps_5/start_end_years_rsds_global_DJFM_2-9.txt']\n",
      "/gws/nopw/j04/canari/users/benhutch/bootstrapping/rsds/global/DJFM/2-9/raw/no_bootstraps_5/nens1_rsds_global_DJFM_2-9.txt\n",
      "/gws/nopw/j04/canari/users/benhutch/bootstrapping/rsds/global/DJFM/2-9/raw/no_bootstraps_5/nens2_rsds_global_DJFM_2-9.txt\n",
      "/gws/nopw/j04/canari/users/benhutch/bootstrapping/rsds/global/DJFM/2-9/raw/no_bootstraps_5/sigo_rsds_global_DJFM_2-9.txt\n",
      "/gws/nopw/j04/canari/users/benhutch/bootstrapping/rsds/global/DJFM/2-9/raw/no_bootstraps_5/sigo_resid_rsds_global_DJFM_2-9.txt\n",
      "/gws/nopw/j04/canari/users/benhutch/bootstrapping/rsds/global/DJFM/2-9/raw/no_bootstraps_5/start_end_years_rsds_global_DJFM_2-9.txt\n",
      "{'nens1': array(141), 'nens2': array(67), 'sigo': array(2.98146606), 'sigo_resid': array(3.13055367), 'start_year': 1966, 'end_year': 2011}\n"
     ]
    }
   ],
   "source": [
    "# test the function for extracting the values from the .txt files\n",
    "values = pib_fnc.extract_values_from_txt(path, variable)\n",
    "\n",
    "print(values)\n",
    "\n"
   ]
  }
 ],
 "metadata": {
  "kernelspec": {
   "display_name": "Python 3",
   "language": "python",
   "name": "python3"
  },
  "language_info": {
   "codemirror_mode": {
    "name": "ipython",
    "version": 3
   },
   "file_extension": ".py",
   "mimetype": "text/x-python",
   "name": "python",
   "nbconvert_exporter": "python",
   "pygments_lexer": "ipython3",
   "version": "3.10.5"
  }
 },
 "nbformat": 4,
 "nbformat_minor": 2
}
