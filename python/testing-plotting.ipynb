{
 "cells": [
  {
   "cell_type": "code",
   "execution_count": 1,
   "metadata": {},
   "outputs": [],
   "source": [
    "# Imports\n",
    "import os\n",
    "import sys\n",
    "import glob\n",
    "\n",
    "# Third-party imports\n",
    "import numpy as np\n",
    "import matplotlib.pyplot as plt"
   ]
  },
  {
   "cell_type": "code",
   "execution_count": 2,
   "metadata": {},
   "outputs": [],
   "source": [
    "# Local imports\n",
    "sys.path.append(\"/home/users/benhutch/skill-maps\")\n",
    "import dictionaries as dicts\n",
    "\n",
    "# # Import functions from skill-maps\n",
    "# sys.path.append(\"/home/users/benhutch/skill-maps/python\")\n",
    "# import functions as fnc\n",
    "# import plotting_functions as plt_fnc\n",
    "\n",
    "# Import functions from plot_init_benefit\n",
    "sys.path.append(\"/home/users/benhutch/skill-maps/rose-suite-matching\")\n",
    "import plot_init_benefit as pib_fnc"
   ]
  },
  {
   "cell_type": "code",
   "execution_count": 3,
   "metadata": {},
   "outputs": [],
   "source": [
    "# Set up the arguments\n",
    "variable = \"rsds\"\n",
    "region = \"global\"\n",
    "season = \"JJA\"\n",
    "forecast_range = \"2-9\"\n",
    "method = \"raw\"\n",
    "no_bootstraps = 5 # test case\n",
    "bootstrap_base_dir = \"/gws/nopw/j04/canari/users/benhutch/bootstrapping\""
   ]
  },
  {
   "cell_type": "code",
   "execution_count": 4,
   "metadata": {},
   "outputs": [
    {
     "name": "stdout",
     "output_type": "stream",
     "text": [
      "/gws/nopw/j04/canari/users/benhutch/bootstrapping/rsds/global/JJA/2-9/raw/no_bootstraps_5\n",
      "Path exists\n",
      "['/gws/nopw/j04/canari/users/benhutch/bootstrapping/rsds/global/JJA/2-9/raw/no_bootstraps_5/corr1_p_rsds_global_JJA_2-9.npy', '/gws/nopw/j04/canari/users/benhutch/bootstrapping/rsds/global/JJA/2-9/raw/no_bootstraps_5/corr1_rsds_global_JJA_2-9.npy', '/gws/nopw/j04/canari/users/benhutch/bootstrapping/rsds/global/JJA/2-9/raw/no_bootstraps_5/nens1_rsds_global_JJA_2-9.txt', '/gws/nopw/j04/canari/users/benhutch/bootstrapping/rsds/global/JJA/2-9/raw/no_bootstraps_5/nens2_rsds_global_JJA_2-9.txt', '/gws/nopw/j04/canari/users/benhutch/bootstrapping/rsds/global/JJA/2-9/raw/no_bootstraps_5/obs_resid_rsds_global_JJA_2-9.npy', '/gws/nopw/j04/canari/users/benhutch/bootstrapping/rsds/global/JJA/2-9/raw/no_bootstraps_5/partial_r_p_rsds_global_JJA_2-9.npy', '/gws/nopw/j04/canari/users/benhutch/bootstrapping/rsds/global/JJA/2-9/raw/no_bootstraps_5/partial_r_rsds_global_JJA_2-9.npy', '/gws/nopw/j04/canari/users/benhutch/bootstrapping/rsds/global/JJA/2-9/raw/no_bootstraps_5/sigo_resid_rsds_global_JJA_2-9.txt', '/gws/nopw/j04/canari/users/benhutch/bootstrapping/rsds/global/JJA/2-9/raw/no_bootstraps_5/sigo_rsds_global_JJA_2-9.txt', '/gws/nopw/j04/canari/users/benhutch/bootstrapping/rsds/global/JJA/2-9/raw/no_bootstraps_5/start_end_years_rsds_global_JJA_2-9.txt']\n"
     ]
    }
   ],
   "source": [
    "# Form the path\n",
    "path = f\"{bootstrap_base_dir}/{variable}/{region}/{season}/\" + \\\n",
    "         f\"{forecast_range}/{method}/no_bootstraps_{no_bootstraps}\"\n",
    "\n",
    "# Print the path\n",
    "print(path)\n",
    "\n",
    "# Check if the path exists\n",
    "if os.path.exists(path):\n",
    "    print(\"Path exists\")\n",
    "\n",
    "# print the files in the path\n",
    "files = glob.glob(f\"{path}/*\")\n",
    "\n",
    "# Print the files\n",
    "print(files)\n"
   ]
  },
  {
   "cell_type": "code",
   "execution_count": 5,
   "metadata": {},
   "outputs": [
    {
     "name": "stdout",
     "output_type": "stream",
     "text": [
      "['/gws/nopw/j04/canari/users/benhutch/bootstrapping/rsds/global/JJA/2-9/raw/no_bootstraps_5/nens1_rsds_global_JJA_2-9.txt', '/gws/nopw/j04/canari/users/benhutch/bootstrapping/rsds/global/JJA/2-9/raw/no_bootstraps_5/nens2_rsds_global_JJA_2-9.txt', '/gws/nopw/j04/canari/users/benhutch/bootstrapping/rsds/global/JJA/2-9/raw/no_bootstraps_5/sigo_resid_rsds_global_JJA_2-9.txt', '/gws/nopw/j04/canari/users/benhutch/bootstrapping/rsds/global/JJA/2-9/raw/no_bootstraps_5/sigo_rsds_global_JJA_2-9.txt', '/gws/nopw/j04/canari/users/benhutch/bootstrapping/rsds/global/JJA/2-9/raw/no_bootstraps_5/start_end_years_rsds_global_JJA_2-9.txt']\n",
      "/gws/nopw/j04/canari/users/benhutch/bootstrapping/rsds/global/JJA/2-9/raw/no_bootstraps_5/nens1_rsds_global_JJA_2-9.txt\n",
      "/gws/nopw/j04/canari/users/benhutch/bootstrapping/rsds/global/JJA/2-9/raw/no_bootstraps_5/nens2_rsds_global_JJA_2-9.txt\n",
      "/gws/nopw/j04/canari/users/benhutch/bootstrapping/rsds/global/JJA/2-9/raw/no_bootstraps_5/sigo_rsds_global_JJA_2-9.txt\n",
      "/gws/nopw/j04/canari/users/benhutch/bootstrapping/rsds/global/JJA/2-9/raw/no_bootstraps_5/sigo_resid_rsds_global_JJA_2-9.txt\n",
      "/gws/nopw/j04/canari/users/benhutch/bootstrapping/rsds/global/JJA/2-9/raw/no_bootstraps_5/start_end_years_rsds_global_JJA_2-9.txt\n",
      "{'nens1': array(141), 'nens2': array(67), 'sigo': array(3.42774526), 'sigo_resid': array(3.6351039), 'start_year': 1967, 'end_year': 2011}\n"
     ]
    }
   ],
   "source": [
    "# test the function for extracting the values from the .txt files\n",
    "values = pib_fnc.extract_values_from_txt(path, variable)\n",
    "\n",
    "print(values)\n",
    "\n"
   ]
  },
  {
   "cell_type": "code",
   "execution_count": 6,
   "metadata": {},
   "outputs": [
    {
     "name": "stdout",
     "output_type": "stream",
     "text": [
      "['/gws/nopw/j04/canari/users/benhutch/bootstrapping/rsds/global/JJA/2-9/raw/no_bootstraps_5/corr1_p_rsds_global_JJA_2-9.npy', '/gws/nopw/j04/canari/users/benhutch/bootstrapping/rsds/global/JJA/2-9/raw/no_bootstraps_5/corr1_rsds_global_JJA_2-9.npy', '/gws/nopw/j04/canari/users/benhutch/bootstrapping/rsds/global/JJA/2-9/raw/no_bootstraps_5/obs_resid_rsds_global_JJA_2-9.npy', '/gws/nopw/j04/canari/users/benhutch/bootstrapping/rsds/global/JJA/2-9/raw/no_bootstraps_5/partial_r_p_rsds_global_JJA_2-9.npy', '/gws/nopw/j04/canari/users/benhutch/bootstrapping/rsds/global/JJA/2-9/raw/no_bootstraps_5/partial_r_rsds_global_JJA_2-9.npy']\n",
      "corr1_file:  /gws/nopw/j04/canari/users/benhutch/bootstrapping/rsds/global/JJA/2-9/raw/no_bootstraps_5/corr1_rsds_global_JJA_2-9.npy\n"
     ]
    },
    {
     "name": "stdout",
     "output_type": "stream",
     "text": [
      "{'corr1': array([[       nan,        nan,        nan, ...,        nan,        nan,\n",
      "               nan],\n",
      "       [       nan,        nan,        nan, ...,        nan,        nan,\n",
      "               nan],\n",
      "       [       nan,        nan,        nan, ...,        nan,        nan,\n",
      "               nan],\n",
      "       ...,\n",
      "       [0.51331272, 0.54403432, 0.54812514, ..., 0.58840733, 0.54480468,\n",
      "        0.52989605],\n",
      "       [0.30633439, 0.27842244, 0.29847085, ..., 0.34387112, 0.34059382,\n",
      "        0.33245234],\n",
      "       [0.22729118, 0.23861865, 0.24867063, ..., 0.19272982, 0.17833131,\n",
      "        0.20252902]]), 'corr1_p': array([[0. , 0. , 0. , ..., 0. , 0. , 0. ],\n",
      "       [0. , 0. , 0. , ..., 0. , 0. , 0. ],\n",
      "       [0. , 0. , 0. , ..., 0. , 0. , 0. ],\n",
      "       ...,\n",
      "       [0.2, 0. , 0. , ..., 0.2, 0.2, 0.2],\n",
      "       [0.2, 0.2, 0. , ..., 0.2, 0.2, 0.2],\n",
      "       [0. , 0. , 0. , ..., 0.2, 0.2, 0. ]]), 'partial_r': array([[        nan,         nan,         nan, ...,         nan,\n",
      "                nan,         nan],\n",
      "       [        nan,         nan,         nan, ...,         nan,\n",
      "                nan,         nan],\n",
      "       [        nan,         nan,         nan, ...,         nan,\n",
      "                nan,         nan],\n",
      "       ...,\n",
      "       [-0.18905094, -0.11382513, -0.06125849, ..., -0.20402193,\n",
      "        -0.15171849, -0.13089048],\n",
      "       [ 0.05532672,  0.07876825,  0.11055672, ...,  0.02391351,\n",
      "         0.03589575,  0.04529376],\n",
      "       [ 0.0693132 ,  0.09118102,  0.11526381, ...,  0.03964122,\n",
      "         0.00650301,  0.01559229]]), 'partial_r_p': array([[0. , 0. , 0. , ..., 0. , 0. , 0. ],\n",
      "       [0. , 0. , 0. , ..., 0. , 0. , 0. ],\n",
      "       [0. , 0. , 0. , ..., 0. , 0. , 0. ],\n",
      "       ...,\n",
      "       [0.6, 0.6, 0.6, ..., 0.6, 0.6, 0.6],\n",
      "       [0.2, 0.2, 0.2, ..., 0.4, 0.4, 0.4],\n",
      "       [0.2, 0.2, 0.2, ..., 0.2, 0.2, 0.2]])}\n"
     ]
    }
   ],
   "source": [
    "# Test the function for extracting the arrays into a dictionary\n",
    "arrays = pib_fnc.load_arrays_from_npy(path, variable)\n",
    "\n",
    "print(arrays)\n"
   ]
  },
  {
   "cell_type": "code",
   "execution_count": 7,
   "metadata": {},
   "outputs": [],
   "source": [
    "# Define a function to process the initialization benefit\n",
    "# Set up the args first\n",
    "sigo = values[\"sigo\"] ; sigo_resid = values[\"sigo_resid\"]\n",
    "\n",
    "# Extract the arrays\n",
    "partial_r = arrays[\"partial_r\"] ; corr1 = arrays[\"corr1\"] \n",
    "\n",
    "# Process the initialization benefit\n",
    "init_impact = pib_fnc.calculate_init_benefit(partial_r, sigo_resid,\n",
    "                                             corr1, sigo)"
   ]
  },
  {
   "cell_type": "code",
   "execution_count": null,
   "metadata": {},
   "outputs": [],
   "source": [
    "# Now we want to plot the initialization benefit alongside the raw field\n",
    "# With significance levels shown by the stippling"
   ]
  }
 ],
 "metadata": {
  "kernelspec": {
   "display_name": "Python 3",
   "language": "python",
   "name": "python3"
  },
  "language_info": {
   "codemirror_mode": {
    "name": "ipython",
    "version": 3
   },
   "file_extension": ".py",
   "mimetype": "text/x-python",
   "name": "python",
   "nbconvert_exporter": "python",
   "pygments_lexer": "ipython3",
   "version": "3.10.5"
  }
 },
 "nbformat": 4,
 "nbformat_minor": 2
}
