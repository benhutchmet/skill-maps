{
 "cells": [
  {
   "cell_type": "markdown",
   "metadata": {},
   "source": [
    "### Downloading Pr data ###\n",
    "\n",
    "Trying to figure out the easiest way to download the remaning data for precip."
   ]
  },
  {
   "cell_type": "code",
   "execution_count": null,
   "metadata": {},
   "outputs": [],
   "source": [
    "! pip install esmvalcore"
   ]
  },
  {
   "cell_type": "code",
   "execution_count": null,
   "metadata": {},
   "outputs": [],
   "source": [
    "# Load autoreload extension\n",
    "%load_ext autoreload\n",
    "%autoreload 2\n",
    "\n",
    "# Import relevant modules\n",
    "import os\n",
    "import sys\n",
    "import time\n",
    "import glob\n",
    "\n",
    "# Load third-party packages\n",
    "import cf_units\n",
    "import matplotlib.pyplot as plt\n",
    "from iris import quickplot\n",
    "\n",
    "from esmvalcore.config import CFG\n",
    "from esmvalcore.dataset import Dataset\n",
    "from esmvalcore.preprocessor import annual_statistics, anomalies, area_statistics\n"
   ]
  },
  {
   "cell_type": "code",
   "execution_count": null,
   "metadata": {},
   "outputs": [],
   "source": [
    "# Settings for automatic ESGF search\n",
    "# Settings for automatic ESGF search\n",
    "CFG['search_esgf'] = 'when_missing'"
   ]
  },
  {
   "cell_type": "code",
   "execution_count": null,
   "metadata": {},
   "outputs": [],
   "source": [
    "# Declare the common dataset facets\n",
    "common_facets = {\n",
    "    'project': 'CMIP6',\n",
    "    'exp': 'dcppA-hindcast',\n",
    "    'ensemble': '*',\n",
    "    'table': 'Amon',\n",
    "    'variable': 'pr',\n",
    "    'grid': 'gn',\n",
    "    'version': 'latest'\n",
    "}\n",
    "\n",
    "# Set up the datasets\n",
    "datasets_models = [\"MPI-ESM1-2-LR\", \"FGOALS-f3-L\", \"MIROC6\", \"IPSL-CM6A-LR\", \"CESM1-1-CAM5-CMIP5\", \"NorCPM1\"]"
   ]
  },
  {
   "cell_type": "code",
   "execution_count": null,
   "metadata": {},
   "outputs": [],
   "source": []
  }
 ],
 "metadata": {
  "kernelspec": {
   "display_name": "Python 3",
   "language": "python",
   "name": "python3"
  },
  "language_info": {
   "codemirror_mode": {
    "name": "ipython",
    "version": 3
   },
   "file_extension": ".py",
   "mimetype": "text/x-python",
   "name": "python",
   "nbconvert_exporter": "python",
   "pygments_lexer": "ipython3",
   "version": "3.10.5"
  }
 },
 "nbformat": 4,
 "nbformat_minor": 2
}
