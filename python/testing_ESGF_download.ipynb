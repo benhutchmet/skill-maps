{
 "cells": [
  {
   "cell_type": "markdown",
   "metadata": {},
   "source": [
    "### Downloading Pr data ###\n",
    "\n",
    "Trying to figure out the easiest way to download the remaning data for precip."
   ]
  },
  {
   "cell_type": "code",
   "execution_count": 1,
   "metadata": {},
   "outputs": [
    {
     "name": "stdout",
     "output_type": "stream",
     "text": [
      "Defaulting to user installation because normal site-packages is not writeable\n",
      "Collecting git+https://github.com/ESGF/esgf-download\n",
      "  Cloning https://github.com/ESGF/esgf-download to /tmp/pip-req-build-knx88br3\n",
      "  Running command git clone --filter=blob:none --quiet https://github.com/ESGF/esgf-download /tmp/pip-req-build-knx88br3\n",
      "  Resolved https://github.com/ESGF/esgf-download to commit e54c4cb176954a1185944d5dfb6fe989699e5e4d\n",
      "  Installing build dependencies ... \u001b[?25ldone\n",
      "\u001b[?25h  Getting requirements to build wheel ... \u001b[?25ldone\n",
      "\u001b[?25h  Preparing metadata (pyproject.toml) ... \u001b[?25ldone\n",
      "\u001b[?25hRequirement already satisfied: click-params>=0.4.0 in /home/users/benhutch/.local/lib/python3.10/site-packages (from esgpull==0.6.2) (0.5.0)\n",
      "Requirement already satisfied: rich>=12.6.0 in /home/users/benhutch/.local/lib/python3.10/site-packages (from esgpull==0.6.2) (13.7.0)\n",
      "Requirement already satisfied: aiostream>=0.4.5 in /home/users/benhutch/.local/lib/python3.10/site-packages (from esgpull==0.6.2) (0.5.2)\n",
      "Requirement already satisfied: pyOpenSSL>=22.1.0 in /home/users/benhutch/.local/lib/python3.10/site-packages (from esgpull==0.6.2) (24.0.0)\n",
      "Requirement already satisfied: setuptools>=65.4.1 in /home/users/benhutch/.local/lib/python3.10/site-packages (from esgpull==0.6.2) (68.1.2)\n",
      "Requirement already satisfied: cattrs>=22.2.0 in /home/users/benhutch/.local/lib/python3.10/site-packages (from esgpull==0.6.2) (23.2.3)\n",
      "Requirement already satisfied: aiofiles>=22.1.0 in /home/users/benhutch/.local/lib/python3.10/site-packages (from esgpull==0.6.2) (23.2.1)\n",
      "Requirement already satisfied: pyparsing>=3.0.9 in /apps/jasmin/jaspy/miniconda_envs/jaspy3.10/m3-4.9.2/envs/jaspy3.10-m3-4.9.2-r20220721/lib/python3.10/site-packages (from esgpull==0.6.2) (3.0.9)\n",
      "Requirement already satisfied: tomlkit>=0.11.5 in /home/users/benhutch/.local/lib/python3.10/site-packages (from esgpull==0.6.2) (0.12.3)\n",
      "Requirement already satisfied: pyyaml>=6.0 in /apps/jasmin/jaspy/miniconda_envs/jaspy3.10/m3-4.9.2/envs/jaspy3.10-m3-4.9.2-r20220721/lib/python3.10/site-packages (from esgpull==0.6.2) (6.0)\n",
      "Requirement already satisfied: MyProxyClient>=2.1.0 in /apps/jasmin/jaspy/miniconda_envs/jaspy3.10/m3-4.9.2/envs/jaspy3.10-m3-4.9.2-r20220721/lib/python3.10/site-packages (from esgpull==0.6.2) (2.1.0)\n",
      "Requirement already satisfied: httpx>=0.23.0 in /home/users/benhutch/.local/lib/python3.10/site-packages (from esgpull==0.6.2) (0.26.0)\n",
      "Requirement already satisfied: click>=8.1.3 in /apps/jasmin/jaspy/miniconda_envs/jaspy3.10/m3-4.9.2/envs/jaspy3.10-m3-4.9.2-r20220721/lib/python3.10/site-packages (from esgpull==0.6.2) (8.1.3)\n",
      "Requirement already satisfied: alembic>=1.8.1 in /home/users/benhutch/.local/lib/python3.10/site-packages (from esgpull==0.6.2) (1.13.1)\n",
      "Requirement already satisfied: platformdirs>=2.6.2 in /home/users/benhutch/.local/lib/python3.10/site-packages (from esgpull==0.6.2) (4.2.0)\n",
      "Requirement already satisfied: sqlalchemy>=2.0.0b2 in /home/users/benhutch/.local/lib/python3.10/site-packages (from esgpull==0.6.2) (2.0.27)\n",
      "Requirement already satisfied: attrs>=22.1.0 in /home/users/benhutch/.local/lib/python3.10/site-packages (from esgpull==0.6.2) (23.2.0)\n",
      "Requirement already satisfied: nest-asyncio>=1.5.6 in /home/users/benhutch/.local/lib/python3.10/site-packages (from esgpull==0.6.2) (1.6.0)\n",
      "Requirement already satisfied: typing-extensions in /home/users/benhutch/.local/lib/python3.10/site-packages (from aiostream>=0.4.5->esgpull==0.6.2) (4.9.0)\n",
      "Requirement already satisfied: Mako in /home/users/benhutch/.local/lib/python3.10/site-packages (from alembic>=1.8.1->esgpull==0.6.2) (1.3.2)\n",
      "Requirement already satisfied: exceptiongroup>=1.1.1 in /home/users/benhutch/.local/lib/python3.10/site-packages (from cattrs>=22.2.0->esgpull==0.6.2) (1.2.0)\n",
      "Requirement already satisfied: validators<0.23,>=0.22 in /home/users/benhutch/.local/lib/python3.10/site-packages (from click-params>=0.4.0->esgpull==0.6.2) (0.22.0)\n",
      "Requirement already satisfied: deprecated<2.0.0,>=1.2.14 in /home/users/benhutch/.local/lib/python3.10/site-packages (from click-params>=0.4.0->esgpull==0.6.2) (1.2.14)\n",
      "Requirement already satisfied: certifi in /apps/jasmin/jaspy/miniconda_envs/jaspy3.10/m3-4.9.2/envs/jaspy3.10-m3-4.9.2-r20220721/lib/python3.10/site-packages (from httpx>=0.23.0->esgpull==0.6.2) (2022.6.15)\n",
      "Requirement already satisfied: idna in /apps/jasmin/jaspy/miniconda_envs/jaspy3.10/m3-4.9.2/envs/jaspy3.10-m3-4.9.2-r20220721/lib/python3.10/site-packages (from httpx>=0.23.0->esgpull==0.6.2) (3.3)\n",
      "Requirement already satisfied: sniffio in /home/users/benhutch/.local/lib/python3.10/site-packages (from httpx>=0.23.0->esgpull==0.6.2) (1.3.0)\n",
      "Requirement already satisfied: anyio in /home/users/benhutch/.local/lib/python3.10/site-packages (from httpx>=0.23.0->esgpull==0.6.2) (4.2.0)\n",
      "Requirement already satisfied: httpcore==1.* in /home/users/benhutch/.local/lib/python3.10/site-packages (from httpx>=0.23.0->esgpull==0.6.2) (1.0.3)\n",
      "Requirement already satisfied: h11<0.15,>=0.13 in /home/users/benhutch/.local/lib/python3.10/site-packages (from httpcore==1.*->httpx>=0.23.0->esgpull==0.6.2) (0.14.0)\n",
      "Requirement already satisfied: six in /apps/jasmin/jaspy/miniconda_envs/jaspy3.10/m3-4.9.2/envs/jaspy3.10-m3-4.9.2-r20220721/lib/python3.10/site-packages (from MyProxyClient>=2.1.0->esgpull==0.6.2) (1.16.0)\n",
      "Requirement already satisfied: cryptography<43,>=41.0.5 in /home/users/benhutch/.local/lib/python3.10/site-packages (from pyOpenSSL>=22.1.0->esgpull==0.6.2) (42.0.3)\n",
      "Requirement already satisfied: pygments<3.0.0,>=2.13.0 in /home/users/benhutch/.local/lib/python3.10/site-packages (from rich>=12.6.0->esgpull==0.6.2) (2.17.2)\n",
      "Requirement already satisfied: markdown-it-py>=2.2.0 in /home/users/benhutch/.local/lib/python3.10/site-packages (from rich>=12.6.0->esgpull==0.6.2) (3.0.0)\n",
      "Requirement already satisfied: greenlet!=0.4.17 in /apps/jasmin/jaspy/miniconda_envs/jaspy3.10/m3-4.9.2/envs/jaspy3.10-m3-4.9.2-r20220721/lib/python3.10/site-packages (from sqlalchemy>=2.0.0b2->esgpull==0.6.2) (1.1.2)\n",
      "Requirement already satisfied: cffi>=1.12 in /apps/jasmin/jaspy/miniconda_envs/jaspy3.10/m3-4.9.2/envs/jaspy3.10-m3-4.9.2-r20220721/lib/python3.10/site-packages (from cryptography<43,>=41.0.5->pyOpenSSL>=22.1.0->esgpull==0.6.2) (1.15.1)\n",
      "Requirement already satisfied: wrapt<2,>=1.10 in /apps/jasmin/jaspy/miniconda_envs/jaspy3.10/m3-4.9.2/envs/jaspy3.10-m3-4.9.2-r20220721/lib/python3.10/site-packages (from deprecated<2.0.0,>=1.2.14->click-params>=0.4.0->esgpull==0.6.2) (1.14.1)\n",
      "Requirement already satisfied: mdurl~=0.1 in /home/users/benhutch/.local/lib/python3.10/site-packages (from markdown-it-py>=2.2.0->rich>=12.6.0->esgpull==0.6.2) (0.1.2)\n",
      "Requirement already satisfied: MarkupSafe>=0.9.2 in /apps/jasmin/jaspy/miniconda_envs/jaspy3.10/m3-4.9.2/envs/jaspy3.10-m3-4.9.2-r20220721/lib/python3.10/site-packages (from Mako->alembic>=1.8.1->esgpull==0.6.2) (2.1.1)\n",
      "Requirement already satisfied: pycparser in /apps/jasmin/jaspy/miniconda_envs/jaspy3.10/m3-4.9.2/envs/jaspy3.10-m3-4.9.2-r20220721/lib/python3.10/site-packages (from cffi>=1.12->cryptography<43,>=41.0.5->pyOpenSSL>=22.1.0->esgpull==0.6.2) (2.21)\n"
     ]
    }
   ],
   "source": [
    "! pip install git+https://github.com/ESGF/esgf-download\n"
   ]
  },
  {
   "cell_type": "code",
   "execution_count": 5,
   "metadata": {},
   "outputs": [
    {
     "name": "stdout",
     "output_type": "stream",
     "text": [
      "\u001b[92m───────────────────────────── \u001b[0m\u001b[1;32mesgpull\u001b[0m installation\u001b[92m ─────────────────────────────\u001b[0m\n",
      "Install location \u001b[1;36m(/home/users/benhutch/.esgpull)\u001b[0m: ^C\n",
      "\u001b[2;36m[10:47:24]\u001b[0m\u001b[2;36m \u001b[0m\u001b[1;31mERROR   \u001b[0m \u001b[33m· root ·\u001b[0m                                                    \n",
      "\u001b[2;36m           \u001b[0m         Traceback \u001b[1m(\u001b[0mmost recent call last\u001b[1m)\u001b[0m:                          \n",
      "\u001b[2;36m           \u001b[0m           File                                                      \n",
      "\u001b[2;36m           \u001b[0m         \u001b[32m\"/home/users/benhutch/.local/lib/python3.10/site-packages/es\u001b[0m\n",
      "\u001b[2;36m           \u001b[0m         \u001b[32mgpull/tui.py\"\u001b[0m, line \u001b[1;36m164\u001b[0m, in logging                         \n",
      "\u001b[2;36m           \u001b[0m             yield                                                   \n",
      "\u001b[2;36m           \u001b[0m           File                                                      \n",
      "\u001b[2;36m           \u001b[0m         \u001b[32m\"/home/users/benhutch/.local/lib/python3.10/site-packages/es\u001b[0m\n",
      "\u001b[2;36m           \u001b[0m         \u001b[32mgpull/cli/self.py\"\u001b[0m, line \u001b[1;36m61\u001b[0m, in install                     \n",
      "\u001b[2;36m           \u001b[0m             path = \u001b[1;35mPath\u001b[0m\u001b[1m(\u001b[0m\u001b[1;35mTempUI.prompt\u001b[0m\u001b[1m(\u001b[0m\u001b[32m\"Install location\"\u001b[0m,           \n",
      "\u001b[2;36m           \u001b[0m         \u001b[33mdefault\u001b[0m=\u001b[35mdefault\u001b[0m\u001b[1m)\u001b[0m\u001b[1m)\u001b[0m                                           \n",
      "\u001b[2;36m           \u001b[0m           File                                                      \n",
      "\u001b[2;36m           \u001b[0m         \u001b[32m\"/home/users/benhutch/.local/lib/python3.10/site-packages/es\u001b[0m\n",
      "\u001b[2;36m           \u001b[0m         \u001b[32mgpull/tui.py\"\u001b[0m, line \u001b[1;36m311\u001b[0m, in prompt                          \n",
      "\u001b[2;36m           \u001b[0m             return \u001b[1;35mPrompt.ask\u001b[0m\u001b[1m(\u001b[0m                                      \n",
      "\u001b[2;36m           \u001b[0m           File                                                      \n",
      "\u001b[2;36m           \u001b[0m         \u001b[32m\"/home/users/benhutch/.local/lib/python3.10/site-packages/ri\u001b[0m\n",
      "\u001b[2;36m           \u001b[0m         \u001b[32mch/prompt.py\"\u001b[0m, line \u001b[1;36m141\u001b[0m, in ask                             \n",
      "\u001b[2;36m           \u001b[0m             return \u001b[1;35m_prompt\u001b[0m\u001b[1m(\u001b[0m\u001b[33mdefault\u001b[0m=\u001b[35mdefault\u001b[0m, \u001b[33mstream\u001b[0m=\u001b[35mstream\u001b[0m\u001b[1m)\u001b[0m          \n",
      "\u001b[2;36m           \u001b[0m           File                                                      \n",
      "\u001b[2;36m           \u001b[0m         \u001b[32m\"/home/users/benhutch/.local/lib/python3.10/site-packages/ri\u001b[0m\n",
      "\u001b[2;36m           \u001b[0m         \u001b[32mch/prompt.py\"\u001b[0m, line \u001b[1;36m274\u001b[0m, in __call__                        \n",
      "\u001b[2;36m           \u001b[0m             value = \u001b[1;35mself.get_input\u001b[0m\u001b[1m(\u001b[0mself.console, prompt,            \n",
      "\u001b[2;36m           \u001b[0m         self.password, \u001b[33mstream\u001b[0m=\u001b[35mstream\u001b[0m\u001b[1m)\u001b[0m                               \n",
      "\u001b[2;36m           \u001b[0m           File                                                      \n",
      "\u001b[2;36m           \u001b[0m         \u001b[32m\"/home/users/benhutch/.local/lib/python3.10/site-packages/ri\u001b[0m\n",
      "\u001b[2;36m           \u001b[0m         \u001b[32mch/prompt.py\"\u001b[0m, line \u001b[1;36m203\u001b[0m, in get_input                       \n",
      "\u001b[2;36m           \u001b[0m             return \u001b[1;35mconsole.input\u001b[0m\u001b[1m(\u001b[0mprompt, \u001b[33mpassword\u001b[0m=\u001b[35mpassword\u001b[0m,         \n",
      "\u001b[2;36m           \u001b[0m         \u001b[33mstream\u001b[0m=\u001b[35mstream\u001b[0m\u001b[1m)\u001b[0m                                              \n",
      "\u001b[2;36m           \u001b[0m           File                                                      \n",
      "\u001b[2;36m           \u001b[0m         \u001b[32m\"/home/users/benhutch/.local/lib/python3.10/site-packages/ri\u001b[0m\n",
      "\u001b[2;36m           \u001b[0m         \u001b[32mch/console.py\"\u001b[0m, line \u001b[1;36m2123\u001b[0m, in input                         \n",
      "\u001b[2;36m           \u001b[0m             result = \u001b[1;35minput\u001b[0m\u001b[1m(\u001b[0m\u001b[1m)\u001b[0m                                        \n",
      "\u001b[2;36m           \u001b[0m         KeyboardInterrupt                                           \n",
      "\u001b[31mKeyboardInterrupt\u001b[0m: \n"
     ]
    }
   ],
   "source": [
    "! esgpull self install"
   ]
  },
  {
   "cell_type": "code",
   "execution_count": 4,
   "metadata": {},
   "outputs": [
    {
     "name": "stdout",
     "output_type": "stream",
     "text": [
      "/bin/bash: conda: command not found\n"
     ]
    }
   ],
   "source": [
    "# ! conda create --name jaspy3.10-m3-4.9.2-r20220721 esgpull --channel ipsl --channel conda-forge\n"
   ]
  },
  {
   "cell_type": "code",
   "execution_count": 2,
   "metadata": {},
   "outputs": [],
   "source": [
    "# Load autoreload extension\n",
    "%load_ext autoreload\n",
    "%autoreload 2\n",
    "\n",
    "# Import relevant modules\n",
    "import os\n",
    "import sys\n",
    "import time\n",
    "import glob\n",
    "\n",
    "# Load third-party packages\n",
    "import cf_units\n",
    "import matplotlib.pyplot as plt\n",
    "from iris import quickplot\n",
    "\n",
    "from esmvalcore.config import CFG\n",
    "from esmvalcore.dataset import Dataset\n",
    "from esmvalcore.preprocessor import annual_statistics, anomalies, area_statistics\n",
    "from esmvalcore.esgf import find_files, download\n"
   ]
  },
  {
   "cell_type": "code",
   "execution_count": 3,
   "metadata": {},
   "outputs": [],
   "source": [
    "# Settings for automatic ESGF search\n",
    "# Settings for automatic ESGF search\n",
    "CFG['search_esgf'] = 'always'"
   ]
  },
  {
   "cell_type": "code",
   "execution_count": 4,
   "metadata": {},
   "outputs": [],
   "source": [
    "# # Declare common dataset facets\n",
    "# template = Dataset(\n",
    "#     short_name='tos',\n",
    "#     mip='Omon',\n",
    "#     project='CMIP6',\n",
    "#     exp= '*', # We'll fill this below\n",
    "#     dataset='*',  # We'll fill this below\n",
    "#     ensemble='r4i1p1f1',\n",
    "#     grid='gn',\n",
    "# )"
   ]
  },
  {
   "cell_type": "code",
   "execution_count": 5,
   "metadata": {},
   "outputs": [],
   "source": [
    "# # Declare the common dataset facets\n",
    "# common_facets = Dataset(\n",
    "#     short_name='pr',\n",
    "#     mip='Amon',\n",
    "#     project='CMIP6',\n",
    "#     exp= 'dcppA-hindcast',\n",
    "#     dataset='*',\n",
    "#     ensemble='*',\n",
    "#     grid='gn',\n",
    "# )"
   ]
  },
  {
   "cell_type": "code",
   "execution_count": 6,
   "metadata": {},
   "outputs": [],
   "source": [
    "# # Use the find files function to search for the dataset\n",
    "# find_files(\n",
    "#     project=\"CMIP6\",\n",
    "#     mip=\"Amon\",\n",
    "#     short_name=\"pr\",\n",
    "#     dataset=\"CanESM5\",\n",
    "#     exp=\"dcppA-hindcast\",\n",
    "#     ensemble=\"r1i1p1f1\",\n",
    "# )"
   ]
  },
  {
   "cell_type": "code",
   "execution_count": 7,
   "metadata": {},
   "outputs": [],
   "source": [
    "MIROC6_files = find_files(\n",
    "    project='CMIP6',\n",
    "    mip='Amon',\n",
    "    short_name='pr',\n",
    "    dataset='MIROC6',\n",
    "    exp='dcppA-hindcast',\n",
    "    ensemble='*',\n",
    ")  "
   ]
  },
  {
   "cell_type": "code",
   "execution_count": 8,
   "metadata": {},
   "outputs": [
    {
     "ename": "KeyboardInterrupt",
     "evalue": "",
     "output_type": "error",
     "traceback": [
      "\u001b[0;31m---------------------------------------------------------------------------\u001b[0m",
      "\u001b[0;31mTimeoutError\u001b[0m                              Traceback (most recent call last)",
      "File \u001b[0;32m~/.local/lib/python3.10/site-packages/esmvalcore/esgf/_download.py:560\u001b[0m, in \u001b[0;36mdownload\u001b[0;34m(files, dest_folder, n_jobs)\u001b[0m\n\u001b[1;32m    559\u001b[0m \u001b[38;5;28;01mtry\u001b[39;00m:\n\u001b[0;32m--> 560\u001b[0m     \u001b[43mfuture\u001b[49m\u001b[38;5;241;43m.\u001b[39;49m\u001b[43mresult\u001b[49m\u001b[43m(\u001b[49m\u001b[43m)\u001b[49m\n\u001b[1;32m    561\u001b[0m \u001b[38;5;28;01mexcept\u001b[39;00m DownloadError \u001b[38;5;28;01mas\u001b[39;00m error:\n",
      "File \u001b[0;32m/apps/jasmin/jaspy/miniconda_envs/jaspy3.10/m3-4.9.2/envs/jaspy3.10-m3-4.9.2-r20220721/lib/python3.10/concurrent/futures/_base.py:439\u001b[0m, in \u001b[0;36mFuture.result\u001b[0;34m(self, timeout)\u001b[0m\n\u001b[1;32m    438\u001b[0m \u001b[38;5;28;01melif\u001b[39;00m \u001b[38;5;28mself\u001b[39m\u001b[38;5;241m.\u001b[39m_state \u001b[38;5;241m==\u001b[39m FINISHED:\n\u001b[0;32m--> 439\u001b[0m     \u001b[38;5;28;01mreturn\u001b[39;00m \u001b[38;5;28;43mself\u001b[39;49m\u001b[38;5;241;43m.\u001b[39;49m\u001b[43m__get_result\u001b[49m\u001b[43m(\u001b[49m\u001b[43m)\u001b[49m\n\u001b[1;32m    441\u001b[0m \u001b[38;5;28mself\u001b[39m\u001b[38;5;241m.\u001b[39m_condition\u001b[38;5;241m.\u001b[39mwait(timeout)\n",
      "File \u001b[0;32m/apps/jasmin/jaspy/miniconda_envs/jaspy3.10/m3-4.9.2/envs/jaspy3.10-m3-4.9.2-r20220721/lib/python3.10/concurrent/futures/_base.py:391\u001b[0m, in \u001b[0;36mFuture.__get_result\u001b[0;34m(self)\u001b[0m\n\u001b[1;32m    390\u001b[0m \u001b[38;5;28;01mtry\u001b[39;00m:\n\u001b[0;32m--> 391\u001b[0m     \u001b[38;5;28;01mraise\u001b[39;00m \u001b[38;5;28mself\u001b[39m\u001b[38;5;241m.\u001b[39m_exception\n\u001b[1;32m    392\u001b[0m \u001b[38;5;28;01mfinally\u001b[39;00m:\n\u001b[1;32m    393\u001b[0m     \u001b[38;5;66;03m# Break a reference cycle with the exception in self._exception\u001b[39;00m\n",
      "File \u001b[0;32m/apps/jasmin/jaspy/miniconda_envs/jaspy3.10/m3-4.9.2/envs/jaspy3.10-m3-4.9.2-r20220721/lib/python3.10/concurrent/futures/thread.py:58\u001b[0m, in \u001b[0;36m_WorkItem.run\u001b[0;34m(self)\u001b[0m\n\u001b[1;32m     57\u001b[0m \u001b[38;5;28;01mtry\u001b[39;00m:\n\u001b[0;32m---> 58\u001b[0m     result \u001b[38;5;241m=\u001b[39m \u001b[38;5;28;43mself\u001b[39;49m\u001b[38;5;241;43m.\u001b[39;49m\u001b[43mfn\u001b[49m\u001b[43m(\u001b[49m\u001b[38;5;241;43m*\u001b[39;49m\u001b[38;5;28;43mself\u001b[39;49m\u001b[38;5;241;43m.\u001b[39;49m\u001b[43margs\u001b[49m\u001b[43m,\u001b[49m\u001b[43m \u001b[49m\u001b[38;5;241;43m*\u001b[39;49m\u001b[38;5;241;43m*\u001b[39;49m\u001b[38;5;28;43mself\u001b[39;49m\u001b[38;5;241;43m.\u001b[39;49m\u001b[43mkwargs\u001b[49m\u001b[43m)\u001b[49m\n\u001b[1;32m     59\u001b[0m \u001b[38;5;28;01mexcept\u001b[39;00m \u001b[38;5;167;01mBaseException\u001b[39;00m \u001b[38;5;28;01mas\u001b[39;00m exc:\n",
      "File \u001b[0;32m~/.local/lib/python3.10/site-packages/esmvalcore/esgf/_download.py:544\u001b[0m, in \u001b[0;36mdownload.<locals>._download\u001b[0;34m(file)\u001b[0m\n\u001b[1;32m    543\u001b[0m \u001b[38;5;124;03m\"\"\"Download file to dest_folder.\"\"\"\u001b[39;00m\n\u001b[0;32m--> 544\u001b[0m \u001b[43mfile\u001b[49m\u001b[38;5;241;43m.\u001b[39;49m\u001b[43mdownload\u001b[49m\u001b[43m(\u001b[49m\u001b[43mdest_folder\u001b[49m\u001b[43m)\u001b[49m\n",
      "File \u001b[0;32m~/.local/lib/python3.10/site-packages/esmvalcore/esgf/_download.py:427\u001b[0m, in \u001b[0;36mESGFFile.download\u001b[0;34m(self, dest_folder)\u001b[0m\n\u001b[1;32m    426\u001b[0m \u001b[38;5;28;01mtry\u001b[39;00m:\n\u001b[0;32m--> 427\u001b[0m     \u001b[38;5;28;43mself\u001b[39;49m\u001b[38;5;241;43m.\u001b[39;49m\u001b[43m_download\u001b[49m\u001b[43m(\u001b[49m\u001b[43mlocal_file\u001b[49m\u001b[43m,\u001b[49m\u001b[43m \u001b[49m\u001b[43murl\u001b[49m\u001b[43m)\u001b[49m\n\u001b[1;32m    428\u001b[0m \u001b[38;5;28;01mexcept\u001b[39;00m (DownloadError,\n\u001b[1;32m    429\u001b[0m         requests\u001b[38;5;241m.\u001b[39mexceptions\u001b[38;5;241m.\u001b[39mRequestException) \u001b[38;5;28;01mas\u001b[39;00m error:\n",
      "File \u001b[0;32m~/.local/lib/python3.10/site-packages/esmvalcore/esgf/_download.py:466\u001b[0m, in \u001b[0;36mESGFFile._download\u001b[0;34m(self, local_file, url)\u001b[0m\n\u001b[1;32m    462\u001b[0m start_time \u001b[38;5;241m=\u001b[39m datetime\u001b[38;5;241m.\u001b[39mdatetime\u001b[38;5;241m.\u001b[39mnow()\n\u001b[1;32m    463\u001b[0m response \u001b[38;5;241m=\u001b[39m requests\u001b[38;5;241m.\u001b[39mget(url,\n\u001b[1;32m    464\u001b[0m                         stream\u001b[38;5;241m=\u001b[39m\u001b[38;5;28;01mTrue\u001b[39;00m,\n\u001b[1;32m    465\u001b[0m                         timeout\u001b[38;5;241m=\u001b[39mTIMEOUT,\n\u001b[0;32m--> 466\u001b[0m                         cert\u001b[38;5;241m=\u001b[39m\u001b[43mget_credentials\u001b[49m\u001b[43m(\u001b[49m\u001b[43m)\u001b[49m)\n\u001b[1;32m    467\u001b[0m response\u001b[38;5;241m.\u001b[39mraise_for_status()\n",
      "File \u001b[0;32m~/.local/lib/python3.10/site-packages/esmvalcore/esgf/_logon.py:40\u001b[0m, in \u001b[0;36mget_credentials\u001b[0;34m()\u001b[0m\n\u001b[1;32m     39\u001b[0m \u001b[38;5;124;03m\"\"\"Return ESGF credentials.\"\"\"\u001b[39;00m\n\u001b[0;32m---> 40\u001b[0m manager \u001b[38;5;241m=\u001b[39m \u001b[43mlogon\u001b[49m\u001b[43m(\u001b[49m\u001b[43m)\u001b[49m\n\u001b[1;32m     41\u001b[0m \u001b[38;5;28;01mif\u001b[39;00m manager\u001b[38;5;241m.\u001b[39mis_logged_on():\n",
      "File \u001b[0;32m~/.local/lib/python3.10/site-packages/esmvalcore/esgf/_logon.py:28\u001b[0m, in \u001b[0;36mlogon\u001b[0;34m()\u001b[0m\n\u001b[1;32m     26\u001b[0m \u001b[38;5;28;01mif\u001b[39;00m \u001b[38;5;28many\u001b[39m(cfg[\u001b[38;5;124m'\u001b[39m\u001b[38;5;124mlogon\u001b[39m\u001b[38;5;124m'\u001b[39m]\u001b[38;5;241m.\u001b[39mget(key) \u001b[38;5;28;01mfor\u001b[39;00m key \u001b[38;5;129;01min\u001b[39;00m keys):\n\u001b[1;32m     27\u001b[0m     \u001b[38;5;66;03m# only try logging on if it is configured\u001b[39;00m\n\u001b[0;32m---> 28\u001b[0m     \u001b[43mmanager\u001b[49m\u001b[38;5;241;43m.\u001b[39;49m\u001b[43mlogon\u001b[49m\u001b[43m(\u001b[49m\u001b[38;5;241;43m*\u001b[39;49m\u001b[38;5;241;43m*\u001b[39;49m\u001b[43mcfg\u001b[49m\u001b[43m[\u001b[49m\u001b[38;5;124;43m'\u001b[39;49m\u001b[38;5;124;43mlogon\u001b[39;49m\u001b[38;5;124;43m'\u001b[39;49m\u001b[43m]\u001b[49m\u001b[43m)\u001b[49m\n\u001b[1;32m     29\u001b[0m     \u001b[38;5;28;01mif\u001b[39;00m manager\u001b[38;5;241m.\u001b[39mis_logged_on():\n",
      "File \u001b[0;32m/apps/jasmin/jaspy/miniconda_envs/jaspy3.10/m3-4.9.2/envs/jaspy3.10-m3-4.9.2-r20220721/lib/python3.10/site-packages/pyesgf/logon.py:184\u001b[0m, in \u001b[0;36mLogonManager.logon\u001b[0;34m(self, username, password, hostname, bootstrap, update_trustroots, interactive)\u001b[0m\n\u001b[1;32m    182\u001b[0m c \u001b[38;5;241m=\u001b[39m MyProxyClient(hostname\u001b[38;5;241m=\u001b[39mhostname, caCertDir\u001b[38;5;241m=\u001b[39m\u001b[38;5;28mself\u001b[39m\u001b[38;5;241m.\u001b[39mesgf_certs_dir)\n\u001b[0;32m--> 184\u001b[0m creds \u001b[38;5;241m=\u001b[39m \u001b[43mc\u001b[49m\u001b[38;5;241;43m.\u001b[39;49m\u001b[43mlogon\u001b[49m\u001b[43m(\u001b[49m\u001b[43musername\u001b[49m\u001b[43m,\u001b[49m\u001b[43m \u001b[49m\u001b[43mpassword\u001b[49m\u001b[43m,\u001b[49m\n\u001b[1;32m    185\u001b[0m \u001b[43m                \u001b[49m\u001b[43mbootstrap\u001b[49m\u001b[38;5;241;43m=\u001b[39;49m\u001b[43mbootstrap\u001b[49m\u001b[43m,\u001b[49m\n\u001b[1;32m    186\u001b[0m \u001b[43m                \u001b[49m\u001b[43mupdateTrustRoots\u001b[49m\u001b[38;5;241;43m=\u001b[39;49m\u001b[43mupdate_trustroots\u001b[49m\u001b[43m)\u001b[49m\n\u001b[1;32m    187\u001b[0m \u001b[38;5;28;01mwith\u001b[39;00m \u001b[38;5;28mopen\u001b[39m(\u001b[38;5;28mself\u001b[39m\u001b[38;5;241m.\u001b[39mesgf_credentials, \u001b[38;5;124m'\u001b[39m\u001b[38;5;124mwb\u001b[39m\u001b[38;5;124m'\u001b[39m) \u001b[38;5;28;01mas\u001b[39;00m fh:\n",
      "File \u001b[0;32m/apps/jasmin/jaspy/miniconda_envs/jaspy3.10/m3-4.9.2/envs/jaspy3.10-m3-4.9.2-r20220721/lib/python3.10/site-packages/myproxy/client/__init__.py:1453\u001b[0m, in \u001b[0;36mMyProxyClient.logon\u001b[0;34m(self, username, passphrase, credname, lifetime, keyPair, certReq, nBitsForKey, bootstrap, updateTrustRoots, authnGetTrustRootsCall, sslCertFile, sslKeyFile, sslKeyFilePassphrase)\u001b[0m\n\u001b[1;32m   1451\u001b[0m         getTrustRootsKw \u001b[38;5;241m=\u001b[39m {}\n\u001b[0;32m-> 1453\u001b[0m     \u001b[38;5;28;43mself\u001b[39;49m\u001b[38;5;241;43m.\u001b[39;49m\u001b[43mgetTrustRoots\u001b[49m\u001b[43m(\u001b[49m\u001b[43mwriteToCACertDir\u001b[49m\u001b[38;5;241;43m=\u001b[39;49m\u001b[38;5;28;43;01mTrue\u001b[39;49;00m\u001b[43m,\u001b[49m\n\u001b[1;32m   1454\u001b[0m \u001b[43m                       \u001b[49m\u001b[43mbootstrap\u001b[49m\u001b[38;5;241;43m=\u001b[39;49m\u001b[43mbootstrap\u001b[49m\u001b[43m,\u001b[49m\n\u001b[1;32m   1455\u001b[0m \u001b[43m                       \u001b[49m\u001b[38;5;241;43m*\u001b[39;49m\u001b[38;5;241;43m*\u001b[39;49m\u001b[43mgetTrustRootsKw\u001b[49m\u001b[43m)\u001b[49m\n\u001b[1;32m   1457\u001b[0m lifetime \u001b[38;5;241m=\u001b[39m lifetime \u001b[38;5;129;01mor\u001b[39;00m \u001b[38;5;28mself\u001b[39m\u001b[38;5;241m.\u001b[39mproxyCertLifetime\n",
      "File \u001b[0;32m/apps/jasmin/jaspy/miniconda_envs/jaspy3.10/m3-4.9.2/envs/jaspy3.10-m3-4.9.2-r20220721/lib/python3.10/site-packages/myproxy/client/__init__.py:1609\u001b[0m, in \u001b[0;36mMyProxyClient.getTrustRoots\u001b[0;34m(self, username, passphrase, writeToCACertDir, bootstrap)\u001b[0m\n\u001b[1;32m   1608\u001b[0m conn \u001b[38;5;241m=\u001b[39m \u001b[38;5;28mself\u001b[39m\u001b[38;5;241m.\u001b[39m_initConnection(verifyPeerWithTrustRoots\u001b[38;5;241m=\u001b[39m(\u001b[38;5;129;01mnot\u001b[39;00m bootstrap))\n\u001b[0;32m-> 1609\u001b[0m \u001b[43mconn\u001b[49m\u001b[38;5;241;43m.\u001b[39;49m\u001b[43mconnect\u001b[49m\u001b[43m(\u001b[49m\u001b[43m(\u001b[49m\u001b[38;5;28;43mself\u001b[39;49m\u001b[38;5;241;43m.\u001b[39;49m\u001b[43mhostname\u001b[49m\u001b[43m,\u001b[49m\u001b[43m \u001b[49m\u001b[38;5;28;43mself\u001b[39;49m\u001b[38;5;241;43m.\u001b[39;49m\u001b[43mport\u001b[49m\u001b[43m)\u001b[49m\u001b[43m)\u001b[49m\n\u001b[1;32m   1611\u001b[0m \u001b[38;5;66;03m# send globus compatibility stuff\u001b[39;00m\n",
      "File \u001b[0;32m/apps/jasmin/jaspy/miniconda_envs/jaspy3.10/m3-4.9.2/envs/jaspy3.10-m3-4.9.2-r20220721/lib/python3.10/site-packages/OpenSSL/SSL.py:2022\u001b[0m, in \u001b[0;36mConnection.connect\u001b[0;34m(self, addr)\u001b[0m\n\u001b[1;32m   2021\u001b[0m _lib\u001b[38;5;241m.\u001b[39mSSL_set_connect_state(\u001b[38;5;28mself\u001b[39m\u001b[38;5;241m.\u001b[39m_ssl)\n\u001b[0;32m-> 2022\u001b[0m \u001b[38;5;28;01mreturn\u001b[39;00m \u001b[38;5;28;43mself\u001b[39;49m\u001b[38;5;241;43m.\u001b[39;49m\u001b[43m_socket\u001b[49m\u001b[38;5;241;43m.\u001b[39;49m\u001b[43mconnect\u001b[49m\u001b[43m(\u001b[49m\u001b[43maddr\u001b[49m\u001b[43m)\u001b[49m\n",
      "\u001b[0;31mTimeoutError\u001b[0m: [Errno 110] Connection timed out",
      "\nDuring handling of the above exception, another exception occurred:\n",
      "\u001b[0;31mKeyboardInterrupt\u001b[0m                         Traceback (most recent call last)",
      "Input \u001b[0;32mIn [8]\u001b[0m, in \u001b[0;36m<cell line: 5>\u001b[0;34m()\u001b[0m\n\u001b[1;32m      2\u001b[0m dest_folder \u001b[38;5;241m=\u001b[39m \u001b[38;5;124m\"\u001b[39m\u001b[38;5;124m/gws/nopw/j04/canari/users/benhutch/\u001b[39m\u001b[38;5;124m\"\u001b[39m\n\u001b[1;32m      4\u001b[0m \u001b[38;5;66;03m# Test the download function\u001b[39;00m\n\u001b[0;32m----> 5\u001b[0m \u001b[43mdownload\u001b[49m\u001b[43m(\u001b[49m\u001b[43mMIROC6_files\u001b[49m\u001b[43m,\u001b[49m\u001b[43m \u001b[49m\u001b[43mdest_folder\u001b[49m\u001b[43m)\u001b[49m\n",
      "File \u001b[0;32m~/.local/lib/python3.10/site-packages/esmvalcore/esgf/_download.py:551\u001b[0m, in \u001b[0;36mdownload\u001b[0;34m(files, dest_folder, n_jobs)\u001b[0m\n\u001b[1;32m    549\u001b[0m errors \u001b[38;5;241m=\u001b[39m []\n\u001b[1;32m    550\u001b[0m random\u001b[38;5;241m.\u001b[39mshuffle(files)\n\u001b[0;32m--> 551\u001b[0m \u001b[38;5;28;01mwith\u001b[39;00m concurrent\u001b[38;5;241m.\u001b[39mfutures\u001b[38;5;241m.\u001b[39mThreadPoolExecutor(max_workers\u001b[38;5;241m=\u001b[39mn_jobs) \u001b[38;5;28;01mas\u001b[39;00m executor:\n\u001b[1;32m    552\u001b[0m     future_to_file \u001b[38;5;241m=\u001b[39m {\n\u001b[1;32m    553\u001b[0m         executor\u001b[38;5;241m.\u001b[39msubmit(_download, file): file\n\u001b[1;32m    554\u001b[0m         \u001b[38;5;28;01mfor\u001b[39;00m file \u001b[38;5;129;01min\u001b[39;00m files\n\u001b[1;32m    555\u001b[0m     }\n\u001b[1;32m    557\u001b[0m     \u001b[38;5;28;01mfor\u001b[39;00m future \u001b[38;5;129;01min\u001b[39;00m concurrent\u001b[38;5;241m.\u001b[39mfutures\u001b[38;5;241m.\u001b[39mas_completed(future_to_file):\n",
      "File \u001b[0;32m/apps/jasmin/jaspy/miniconda_envs/jaspy3.10/m3-4.9.2/envs/jaspy3.10-m3-4.9.2-r20220721/lib/python3.10/concurrent/futures/_base.py:637\u001b[0m, in \u001b[0;36mExecutor.__exit__\u001b[0;34m(self, exc_type, exc_val, exc_tb)\u001b[0m\n\u001b[1;32m    636\u001b[0m \u001b[38;5;28;01mdef\u001b[39;00m \u001b[38;5;21m__exit__\u001b[39m(\u001b[38;5;28mself\u001b[39m, exc_type, exc_val, exc_tb):\n\u001b[0;32m--> 637\u001b[0m     \u001b[38;5;28;43mself\u001b[39;49m\u001b[38;5;241;43m.\u001b[39;49m\u001b[43mshutdown\u001b[49m\u001b[43m(\u001b[49m\u001b[43mwait\u001b[49m\u001b[38;5;241;43m=\u001b[39;49m\u001b[38;5;28;43;01mTrue\u001b[39;49;00m\u001b[43m)\u001b[49m\n\u001b[1;32m    638\u001b[0m     \u001b[38;5;28;01mreturn\u001b[39;00m \u001b[38;5;28;01mFalse\u001b[39;00m\n",
      "File \u001b[0;32m/apps/jasmin/jaspy/miniconda_envs/jaspy3.10/m3-4.9.2/envs/jaspy3.10-m3-4.9.2-r20220721/lib/python3.10/concurrent/futures/thread.py:235\u001b[0m, in \u001b[0;36mThreadPoolExecutor.shutdown\u001b[0;34m(self, wait, cancel_futures)\u001b[0m\n\u001b[1;32m    233\u001b[0m \u001b[38;5;28;01mif\u001b[39;00m wait:\n\u001b[1;32m    234\u001b[0m     \u001b[38;5;28;01mfor\u001b[39;00m t \u001b[38;5;129;01min\u001b[39;00m \u001b[38;5;28mself\u001b[39m\u001b[38;5;241m.\u001b[39m_threads:\n\u001b[0;32m--> 235\u001b[0m         \u001b[43mt\u001b[49m\u001b[38;5;241;43m.\u001b[39;49m\u001b[43mjoin\u001b[49m\u001b[43m(\u001b[49m\u001b[43m)\u001b[49m\n",
      "File \u001b[0;32m/apps/jasmin/jaspy/miniconda_envs/jaspy3.10/m3-4.9.2/envs/jaspy3.10-m3-4.9.2-r20220721/lib/python3.10/threading.py:1096\u001b[0m, in \u001b[0;36mThread.join\u001b[0;34m(self, timeout)\u001b[0m\n\u001b[1;32m   1093\u001b[0m     \u001b[38;5;28;01mraise\u001b[39;00m \u001b[38;5;167;01mRuntimeError\u001b[39;00m(\u001b[38;5;124m\"\u001b[39m\u001b[38;5;124mcannot join current thread\u001b[39m\u001b[38;5;124m\"\u001b[39m)\n\u001b[1;32m   1095\u001b[0m \u001b[38;5;28;01mif\u001b[39;00m timeout \u001b[38;5;129;01mis\u001b[39;00m \u001b[38;5;28;01mNone\u001b[39;00m:\n\u001b[0;32m-> 1096\u001b[0m     \u001b[38;5;28;43mself\u001b[39;49m\u001b[38;5;241;43m.\u001b[39;49m\u001b[43m_wait_for_tstate_lock\u001b[49m\u001b[43m(\u001b[49m\u001b[43m)\u001b[49m\n\u001b[1;32m   1097\u001b[0m \u001b[38;5;28;01melse\u001b[39;00m:\n\u001b[1;32m   1098\u001b[0m     \u001b[38;5;66;03m# the behavior of a negative timeout isn't documented, but\u001b[39;00m\n\u001b[1;32m   1099\u001b[0m     \u001b[38;5;66;03m# historically .join(timeout=x) for x<0 has acted as if timeout=0\u001b[39;00m\n\u001b[1;32m   1100\u001b[0m     \u001b[38;5;28mself\u001b[39m\u001b[38;5;241m.\u001b[39m_wait_for_tstate_lock(timeout\u001b[38;5;241m=\u001b[39m\u001b[38;5;28mmax\u001b[39m(timeout, \u001b[38;5;241m0\u001b[39m))\n",
      "File \u001b[0;32m/apps/jasmin/jaspy/miniconda_envs/jaspy3.10/m3-4.9.2/envs/jaspy3.10-m3-4.9.2-r20220721/lib/python3.10/threading.py:1116\u001b[0m, in \u001b[0;36mThread._wait_for_tstate_lock\u001b[0;34m(self, block, timeout)\u001b[0m\n\u001b[1;32m   1113\u001b[0m     \u001b[38;5;28;01mreturn\u001b[39;00m\n\u001b[1;32m   1115\u001b[0m \u001b[38;5;28;01mtry\u001b[39;00m:\n\u001b[0;32m-> 1116\u001b[0m     \u001b[38;5;28;01mif\u001b[39;00m \u001b[43mlock\u001b[49m\u001b[38;5;241;43m.\u001b[39;49m\u001b[43macquire\u001b[49m\u001b[43m(\u001b[49m\u001b[43mblock\u001b[49m\u001b[43m,\u001b[49m\u001b[43m \u001b[49m\u001b[43mtimeout\u001b[49m\u001b[43m)\u001b[49m:\n\u001b[1;32m   1117\u001b[0m         lock\u001b[38;5;241m.\u001b[39mrelease()\n\u001b[1;32m   1118\u001b[0m         \u001b[38;5;28mself\u001b[39m\u001b[38;5;241m.\u001b[39m_stop()\n",
      "\u001b[0;31mKeyboardInterrupt\u001b[0m: "
     ]
    }
   ],
   "source": [
    "# Download the files into a specified directory\n",
    "dest_folder = \"/gws/nopw/j04/canari/users/benhutch/\"\n",
    "\n",
    "# Test the download function\n",
    "download(MIROC6_files, dest_folder)"
   ]
  },
  {
   "cell_type": "code",
   "execution_count": null,
   "metadata": {},
   "outputs": [],
   "source": [
    "# CMIP6.DCPP.MOHC.HadGEM3-GC31-MM.dcppA-hindcast.s1967-r4i1p1f2.Amon.wap.gn.v20200417\n",
    "#experiment_id = historical\n",
    "# experiment_title = all-forcing simulation of the recent past\n",
    "# %(root)s/%(mip_era)s/%(activity_drs)s/%(institution_id)s/%(source_id)s/%(experiment_id)s/%(member_id)s/%(table_id)s/%(variable_id)s/%(grid_label)s/%(version)s\n",
    "#%(root)s/%(mip_era)s/%(activity_drs)s/%(institution_id)s/%(source_id)s/%(experiment_id)s/%(member_id)s/%(table_id)s/%(variable_id)s/%(grid_label)s/%(version)s\n",
    "# east_degrees = 359.16666\n",
    "# experiment_id = dcppA-hindcast"
   ]
  },
  {
   "cell_type": "code",
   "execution_count": 9,
   "metadata": {},
   "outputs": [
    {
     "data": {
      "text/plain": [
       "[]"
      ]
     },
     "execution_count": 9,
     "metadata": {},
     "output_type": "execute_result"
    }
   ],
   "source": [
    "files"
   ]
  },
  {
   "cell_type": "code",
   "execution_count": 6,
   "metadata": {},
   "outputs": [],
   "source": [
    "# Set up the datasets\n",
    "datasets_models = [\"MPI-ESM1-2-LR\", \"FGOALS-f3-L\", \"MIROC6\", \"IPSL-CM6A-LR\", \"CESM1-1-CAM5-CMIP5\", \"NorCPM1\"]\n",
    "\n",
    "# Dataset test\n",
    "datasets_test = [\"MPI-ESM1-2-LR\"]"
   ]
  },
  {
   "cell_type": "code",
   "execution_count": 7,
   "metadata": {},
   "outputs": [],
   "source": [
    "# # Substitute data sources and experiments\n",
    "# datasets = []\n",
    "# for dataset_id in [\"CESM2\", \"MPI-ESM1-2-LR\", \"IPSL-CM6A-LR\"]:\n",
    "#     for experiment_id in ['ssp126', 'ssp585']:\n",
    "#         dataset = template.copy(dataset=dataset_id, exp=['historical', experiment_id])\n",
    "#         dataset.add_supplementary(short_name='areacello', mip='Ofx', exp='historical')\n",
    "#         dataset.augment_facets()\n",
    "#         datasets.append(dataset)"
   ]
  },
  {
   "cell_type": "code",
   "execution_count": 8,
   "metadata": {},
   "outputs": [],
   "source": [
    "datasets = []\n",
    "for dataset_id in datasets_test:\n",
    "    for i in range(1, 10 + 1):\n",
    "        dataset = common_facets.copy(dataset=dataset_id, ensemble=f'r{i}i1p1f1')\n",
    "        dataset.augment_facets()\n",
    "        datasets.append(dataset)"
   ]
  },
  {
   "cell_type": "code",
   "execution_count": 9,
   "metadata": {},
   "outputs": [
    {
     "data": {
      "text/plain": [
       "[Dataset:\n",
       " {'dataset': 'MPI-ESM1-2-LR',\n",
       "  'project': 'CMIP6',\n",
       "  'mip': 'Amon',\n",
       "  'short_name': 'pr',\n",
       "  'activity': 'DCPP',\n",
       "  'ensemble': 'r1i1p1f1',\n",
       "  'exp': 'dcppA-hindcast',\n",
       "  'frequency': 'mon',\n",
       "  'grid': 'gn',\n",
       "  'institute': ['MPI-M', 'AWI'],\n",
       "  'long_name': 'Precipitation',\n",
       "  'modeling_realm': ['atmos'],\n",
       "  'original_short_name': 'pr',\n",
       "  'standard_name': 'precipitation_flux',\n",
       "  'units': 'kg m-2 s-1'}\n",
       " session: 'session-de28c1ef-928b-42d4-bc44-0a3a8146b3b2_20240215_155112',\n",
       " Dataset:\n",
       " {'dataset': 'MPI-ESM1-2-LR',\n",
       "  'project': 'CMIP6',\n",
       "  'mip': 'Amon',\n",
       "  'short_name': 'pr',\n",
       "  'activity': 'DCPP',\n",
       "  'ensemble': 'r2i1p1f1',\n",
       "  'exp': 'dcppA-hindcast',\n",
       "  'frequency': 'mon',\n",
       "  'grid': 'gn',\n",
       "  'institute': ['MPI-M', 'AWI'],\n",
       "  'long_name': 'Precipitation',\n",
       "  'modeling_realm': ['atmos'],\n",
       "  'original_short_name': 'pr',\n",
       "  'standard_name': 'precipitation_flux',\n",
       "  'units': 'kg m-2 s-1'}\n",
       " session: 'session-59a2f206-f892-4b4d-9805-2951271b9865_20240215_155112',\n",
       " Dataset:\n",
       " {'dataset': 'MPI-ESM1-2-LR',\n",
       "  'project': 'CMIP6',\n",
       "  'mip': 'Amon',\n",
       "  'short_name': 'pr',\n",
       "  'activity': 'DCPP',\n",
       "  'ensemble': 'r3i1p1f1',\n",
       "  'exp': 'dcppA-hindcast',\n",
       "  'frequency': 'mon',\n",
       "  'grid': 'gn',\n",
       "  'institute': ['MPI-M', 'AWI'],\n",
       "  'long_name': 'Precipitation',\n",
       "  'modeling_realm': ['atmos'],\n",
       "  'original_short_name': 'pr',\n",
       "  'standard_name': 'precipitation_flux',\n",
       "  'units': 'kg m-2 s-1'}\n",
       " session: 'session-86d87780-6a62-4a72-b182-8d3de14fbeaa_20240215_155112',\n",
       " Dataset:\n",
       " {'dataset': 'MPI-ESM1-2-LR',\n",
       "  'project': 'CMIP6',\n",
       "  'mip': 'Amon',\n",
       "  'short_name': 'pr',\n",
       "  'activity': 'DCPP',\n",
       "  'ensemble': 'r4i1p1f1',\n",
       "  'exp': 'dcppA-hindcast',\n",
       "  'frequency': 'mon',\n",
       "  'grid': 'gn',\n",
       "  'institute': ['MPI-M', 'AWI'],\n",
       "  'long_name': 'Precipitation',\n",
       "  'modeling_realm': ['atmos'],\n",
       "  'original_short_name': 'pr',\n",
       "  'standard_name': 'precipitation_flux',\n",
       "  'units': 'kg m-2 s-1'}\n",
       " session: 'session-905df3eb-83ac-42af-9fd3-ff0cbb68b7f5_20240215_155112',\n",
       " Dataset:\n",
       " {'dataset': 'MPI-ESM1-2-LR',\n",
       "  'project': 'CMIP6',\n",
       "  'mip': 'Amon',\n",
       "  'short_name': 'pr',\n",
       "  'activity': 'DCPP',\n",
       "  'ensemble': 'r5i1p1f1',\n",
       "  'exp': 'dcppA-hindcast',\n",
       "  'frequency': 'mon',\n",
       "  'grid': 'gn',\n",
       "  'institute': ['MPI-M', 'AWI'],\n",
       "  'long_name': 'Precipitation',\n",
       "  'modeling_realm': ['atmos'],\n",
       "  'original_short_name': 'pr',\n",
       "  'standard_name': 'precipitation_flux',\n",
       "  'units': 'kg m-2 s-1'}\n",
       " session: 'session-e1e57025-0c5b-482f-befa-2580764a7f02_20240215_155112',\n",
       " Dataset:\n",
       " {'dataset': 'MPI-ESM1-2-LR',\n",
       "  'project': 'CMIP6',\n",
       "  'mip': 'Amon',\n",
       "  'short_name': 'pr',\n",
       "  'activity': 'DCPP',\n",
       "  'ensemble': 'r6i1p1f1',\n",
       "  'exp': 'dcppA-hindcast',\n",
       "  'frequency': 'mon',\n",
       "  'grid': 'gn',\n",
       "  'institute': ['MPI-M', 'AWI'],\n",
       "  'long_name': 'Precipitation',\n",
       "  'modeling_realm': ['atmos'],\n",
       "  'original_short_name': 'pr',\n",
       "  'standard_name': 'precipitation_flux',\n",
       "  'units': 'kg m-2 s-1'}\n",
       " session: 'session-d7ce64a9-fabc-4264-85d6-2decb2fe6f09_20240215_155112',\n",
       " Dataset:\n",
       " {'dataset': 'MPI-ESM1-2-LR',\n",
       "  'project': 'CMIP6',\n",
       "  'mip': 'Amon',\n",
       "  'short_name': 'pr',\n",
       "  'activity': 'DCPP',\n",
       "  'ensemble': 'r7i1p1f1',\n",
       "  'exp': 'dcppA-hindcast',\n",
       "  'frequency': 'mon',\n",
       "  'grid': 'gn',\n",
       "  'institute': ['MPI-M', 'AWI'],\n",
       "  'long_name': 'Precipitation',\n",
       "  'modeling_realm': ['atmos'],\n",
       "  'original_short_name': 'pr',\n",
       "  'standard_name': 'precipitation_flux',\n",
       "  'units': 'kg m-2 s-1'}\n",
       " session: 'session-a7011637-47a6-428f-b973-81513a63660f_20240215_155112',\n",
       " Dataset:\n",
       " {'dataset': 'MPI-ESM1-2-LR',\n",
       "  'project': 'CMIP6',\n",
       "  'mip': 'Amon',\n",
       "  'short_name': 'pr',\n",
       "  'activity': 'DCPP',\n",
       "  'ensemble': 'r8i1p1f1',\n",
       "  'exp': 'dcppA-hindcast',\n",
       "  'frequency': 'mon',\n",
       "  'grid': 'gn',\n",
       "  'institute': ['MPI-M', 'AWI'],\n",
       "  'long_name': 'Precipitation',\n",
       "  'modeling_realm': ['atmos'],\n",
       "  'original_short_name': 'pr',\n",
       "  'standard_name': 'precipitation_flux',\n",
       "  'units': 'kg m-2 s-1'}\n",
       " session: 'session-6c9d9e22-dd5a-49ff-ac4a-3130983ca1a5_20240215_155112',\n",
       " Dataset:\n",
       " {'dataset': 'MPI-ESM1-2-LR',\n",
       "  'project': 'CMIP6',\n",
       "  'mip': 'Amon',\n",
       "  'short_name': 'pr',\n",
       "  'activity': 'DCPP',\n",
       "  'ensemble': 'r9i1p1f1',\n",
       "  'exp': 'dcppA-hindcast',\n",
       "  'frequency': 'mon',\n",
       "  'grid': 'gn',\n",
       "  'institute': ['MPI-M', 'AWI'],\n",
       "  'long_name': 'Precipitation',\n",
       "  'modeling_realm': ['atmos'],\n",
       "  'original_short_name': 'pr',\n",
       "  'standard_name': 'precipitation_flux',\n",
       "  'units': 'kg m-2 s-1'}\n",
       " session: 'session-97ac6133-53f5-4a68-9b5e-ce134cf0f49b_20240215_155112',\n",
       " Dataset:\n",
       " {'dataset': 'MPI-ESM1-2-LR',\n",
       "  'project': 'CMIP6',\n",
       "  'mip': 'Amon',\n",
       "  'short_name': 'pr',\n",
       "  'activity': 'DCPP',\n",
       "  'ensemble': 'r10i1p1f1',\n",
       "  'exp': 'dcppA-hindcast',\n",
       "  'frequency': 'mon',\n",
       "  'grid': 'gn',\n",
       "  'institute': ['MPI-M', 'AWI'],\n",
       "  'long_name': 'Precipitation',\n",
       "  'modeling_realm': ['atmos'],\n",
       "  'original_short_name': 'pr',\n",
       "  'standard_name': 'precipitation_flux',\n",
       "  'units': 'kg m-2 s-1'}\n",
       " session: 'session-9f11df3a-0781-454f-bde0-3e6a572f17e1_20240215_155112']"
      ]
     },
     "execution_count": 9,
     "metadata": {},
     "output_type": "execute_result"
    }
   ],
   "source": [
    "datasets"
   ]
  },
  {
   "cell_type": "code",
   "execution_count": 10,
   "metadata": {},
   "outputs": [
    {
     "name": "stdout",
     "output_type": "stream",
     "text": [
      "{'download_dir': PosixPath('/home/users/benhutch/climate_data'), 'drs': {'CMIP3': 'ESGF', 'CMIP5': 'ESGF', 'CMIP6': 'ESGF', 'CORDEX': 'ESGF', 'obs4MIPs': 'ESGF'}, 'output_dir': PosixPath('/home/users/benhutch/esmvaltool_output'), 'rootpath': {'default': [PosixPath('/home/users/benhutch/climate_data')]}}\n"
     ]
    }
   ],
   "source": [
    "# Have a look at the default keys\n",
    "print({key: CFG[key] \n",
    "       for key in ['download_dir', 'drs', 'output_dir', 'rootpath']\n",
    "})"
   ]
  },
  {
   "cell_type": "code",
   "execution_count": 14,
   "metadata": {},
   "outputs": [
    {
     "ename": "AttributeError",
     "evalue": "'list' object has no attribute 'load'",
     "output_type": "error",
     "traceback": [
      "\u001b[0;31m---------------------------------------------------------------------------\u001b[0m",
      "\u001b[0;31mAttributeError\u001b[0m                            Traceback (most recent call last)",
      "Input \u001b[0;32mIn [14]\u001b[0m, in \u001b[0;36m<cell line: 2>\u001b[0;34m()\u001b[0m\n\u001b[1;32m      1\u001b[0m \u001b[38;5;66;03m# Load the datasets\u001b[39;00m\n\u001b[0;32m----> 2\u001b[0m cube \u001b[38;5;241m=\u001b[39m \u001b[43mdatasets\u001b[49m\u001b[38;5;241;43m.\u001b[39;49m\u001b[43mload\u001b[49m()\n",
      "\u001b[0;31mAttributeError\u001b[0m: 'list' object has no attribute 'load'"
     ]
    }
   ],
   "source": []
  }
 ],
 "metadata": {
  "kernelspec": {
   "display_name": "Python 3",
   "language": "python",
   "name": "python3"
  },
  "language_info": {
   "codemirror_mode": {
    "name": "ipython",
    "version": 3
   },
   "file_extension": ".py",
   "mimetype": "text/x-python",
   "name": "python",
   "nbconvert_exporter": "python",
   "pygments_lexer": "ipython3",
   "version": "3.10.5"
  }
 },
 "nbformat": 4,
 "nbformat_minor": 2
}
