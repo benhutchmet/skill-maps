{
 "cells": [
  {
   "cell_type": "markdown",
   "metadata": {},
   "source": [
    "### Plotting NAO data ###\n",
    "\n",
    "Plotting the NAO for the processed raw and alt_lagged data for the different forecast ranges and different summer and winter NAO."
   ]
  },
  {
   "cell_type": "code",
   "execution_count": 1,
   "metadata": {},
   "outputs": [],
   "source": [
    "# Import relevant libraries\n",
    "import os\n",
    "import sys\n",
    "import glob\n",
    "import re\n",
    "\n",
    "# Third-party libraries\n",
    "import numpy as np\n",
    "import pandas as pd\n",
    "import xarray as xr\n",
    "import matplotlib.pyplot as plt"
   ]
  },
  {
   "cell_type": "code",
   "execution_count": 2,
   "metadata": {},
   "outputs": [
    {
     "name": "stderr",
     "output_type": "stream",
     "text": [
      "ERROR 1: PROJ: proj_create_from_database: Open of /apps/jasmin/jaspy/mambaforge_envs/jaspy3.10/mf-22.11.1-4/envs/jaspy3.10-mf-22.11.1-4-r20230718/share/proj failed\n"
     ]
    }
   ],
   "source": [
    "# Import local modules\n",
    "import functions as func\n",
    "import nao_skill_functions as nao_func\n",
    "import nao_alt_lag_functions as nao_lag_func\n",
    "\n",
    "# Import dictionaries\n",
    "sys.path.append(\"/home/users/benhutch/skill-maps\")\n",
    "import dictionaries as dicts\n",
    "\n",
    "# Import the functions from the rose-suite-matching repository\n",
    "sys.path.append(\"/home/users/benhutch/skill-maps/rose-suite-matching\")\n",
    "import nao_matching_seasons as nms_func"
   ]
  },
  {
   "cell_type": "code",
   "execution_count": 3,
   "metadata": {},
   "outputs": [],
   "source": [
    "# Set up the variables\n",
    "season = \"ONDJFM\"\n",
    "forecast_range = \"2-9\"\n",
    "start_year = 1961\n",
    "end_year = 2014\n",
    "lag = 4\n",
    "alt_lag = True"
   ]
  },
  {
   "cell_type": "code",
   "execution_count": 4,
   "metadata": {},
   "outputs": [],
   "source": [
    "# # load the hist data\n",
    "# hist_data_lag = nao_lag_func.load_hist_data(\n",
    "#     season=\"ONDJFM\",\n",
    "#     lag_period=True,\n",
    "#     lagged_data=True,\n",
    "#     lag=4,\n",
    "# )"
   ]
  },
  {
   "cell_type": "code",
   "execution_count": 5,
   "metadata": {},
   "outputs": [],
   "source": [
    "# # Test the other new function for hist\n",
    "# nao_stats_hist = nao_lag_func.calc_nao_stats(\n",
    "#     data=np.zeros_like(hist_data_lag),\n",
    "#     season=season,\n",
    "#     forecast_range=forecast_range,\n",
    "#     start_year=start_year,\n",
    "#     end_year=end_year,\n",
    "#     lag=lag,\n",
    "#     hist_data=hist_data_lag,\n",
    "# )"
   ]
  },
  {
   "cell_type": "code",
   "execution_count": 6,
   "metadata": {},
   "outputs": [
    {
     "name": "stdout",
     "output_type": "stream",
     "text": [
      "More than one file found\n",
      "Using the latest datetime file: /gws/nopw/j04/canari/users/benhutch/alternate-lag-processed-data/psl_ONDJFM_global_1961_2014_2-9_4_1708533939.5692165.npy\n"
     ]
    },
    {
     "name": "stderr",
     "output_type": "stream",
     "text": [
      "/home/users/benhutch/skill-maps/python/nao_alt_lag_functions.py:221: FutureWarning: The behavior of 'to_datetime' with 'unit' when parsing strings is deprecated. In a future version, strings will be parsed as datetime strings, matching the behavior without a 'unit'. To retain the old behavior, explicitly cast ints or floats to numeric type before calling to_datetime.\n",
      "  datetimes = [pd.to_datetime(datetime, unit=\"s\") for datetime in datetimes]\n"
     ]
    },
    {
     "ename": "MemoryError",
     "evalue": "Unable to allocate 6.68 GiB for an array with shape (896914944,) and data type float64",
     "output_type": "error",
     "traceback": [
      "\u001b[0;31m---------------------------------------------------------------------------\u001b[0m",
      "\u001b[0;31mMemoryError\u001b[0m                               Traceback (most recent call last)",
      "Cell \u001b[0;32mIn[6], line 2\u001b[0m\n\u001b[1;32m      1\u001b[0m \u001b[38;5;66;03m# Load the raw data for this variable\u001b[39;00m\n\u001b[0;32m----> 2\u001b[0m raw_psl \u001b[38;5;241m=\u001b[39m \u001b[43mnao_lag_func\u001b[49m\u001b[38;5;241;43m.\u001b[39;49m\u001b[43mload_data\u001b[49m\u001b[43m(\u001b[49m\n\u001b[1;32m      3\u001b[0m \u001b[43m    \u001b[49m\u001b[43mseason\u001b[49m\u001b[38;5;241;43m=\u001b[39;49m\u001b[43mseason\u001b[49m\u001b[43m,\u001b[49m\n\u001b[1;32m      4\u001b[0m \u001b[43m    \u001b[49m\u001b[43mforecast_range\u001b[49m\u001b[38;5;241;43m=\u001b[39;49m\u001b[43mforecast_range\u001b[49m\u001b[43m,\u001b[49m\n\u001b[1;32m      5\u001b[0m \u001b[43m    \u001b[49m\u001b[43mstart_year\u001b[49m\u001b[38;5;241;43m=\u001b[39;49m\u001b[43mstart_year\u001b[49m\u001b[43m,\u001b[49m\n\u001b[1;32m      6\u001b[0m \u001b[43m    \u001b[49m\u001b[43mend_year\u001b[49m\u001b[38;5;241;43m=\u001b[39;49m\u001b[43mend_year\u001b[49m\u001b[43m,\u001b[49m\n\u001b[1;32m      7\u001b[0m \u001b[43m    \u001b[49m\u001b[43mlag\u001b[49m\u001b[38;5;241;43m=\u001b[39;49m\u001b[43mlag\u001b[49m\u001b[43m,\u001b[49m\n\u001b[1;32m      8\u001b[0m \u001b[43m    \u001b[49m\u001b[43mmethod\u001b[49m\u001b[38;5;241;43m=\u001b[39;49m\u001b[38;5;124;43m\"\u001b[39;49m\u001b[38;5;124;43mnew_raw\u001b[39;49m\u001b[38;5;124;43m\"\u001b[39;49m\u001b[43m,\u001b[49m\n\u001b[1;32m      9\u001b[0m \u001b[43m    \u001b[49m\u001b[43mdata_dir\u001b[49m\u001b[38;5;241;43m=\u001b[39;49m\u001b[38;5;124;43m\"\u001b[39;49m\u001b[38;5;124;43m/gws/nopw/j04/canari/users/benhutch/alternate-lag-processed-data/\u001b[39;49m\u001b[38;5;124;43m\"\u001b[39;49m\u001b[43m,\u001b[49m\n\u001b[1;32m     10\u001b[0m \u001b[43m)\u001b[49m\n",
      "File \u001b[0;32m~/skill-maps/python/nao_alt_lag_functions.py:233\u001b[0m, in \u001b[0;36mload_data\u001b[0;34m(season, forecast_range, start_year, end_year, lag, method, region, variable, data_dir)\u001b[0m\n\u001b[1;32m    230\u001b[0m     \u001b[38;5;28mprint\u001b[39m(\u001b[38;5;124m\"\u001b[39m\u001b[38;5;124mUsing the latest datetime file:\u001b[39m\u001b[38;5;124m\"\u001b[39m, files[latest_datetime_index])\n\u001b[1;32m    232\u001b[0m     \u001b[38;5;66;03m# Load the file\u001b[39;00m\n\u001b[0;32m--> 233\u001b[0m     data \u001b[38;5;241m=\u001b[39m \u001b[43mnp\u001b[49m\u001b[38;5;241;43m.\u001b[39;49m\u001b[43mload\u001b[49m\u001b[43m(\u001b[49m\u001b[43mfiles\u001b[49m\u001b[43m[\u001b[49m\u001b[43mlatest_datetime_index\u001b[49m\u001b[43m]\u001b[49m\u001b[43m)\u001b[49m\n\u001b[1;32m    234\u001b[0m \u001b[38;5;28;01melse\u001b[39;00m:\n\u001b[1;32m    235\u001b[0m     \u001b[38;5;66;03m# Load the file\u001b[39;00m\n\u001b[1;32m    236\u001b[0m     data \u001b[38;5;241m=\u001b[39m np\u001b[38;5;241m.\u001b[39mload(files[\u001b[38;5;241m0\u001b[39m])\n",
      "File \u001b[0;32m~/.local/lib/python3.10/site-packages/numpy/lib/npyio.py:430\u001b[0m, in \u001b[0;36mload\u001b[0;34m(file, mmap_mode, allow_pickle, fix_imports, encoding)\u001b[0m\n\u001b[1;32m    428\u001b[0m         \u001b[38;5;28;01mreturn\u001b[39;00m \u001b[38;5;28mformat\u001b[39m\u001b[38;5;241m.\u001b[39mopen_memmap(file, mode\u001b[38;5;241m=\u001b[39mmmap_mode)\n\u001b[1;32m    429\u001b[0m     \u001b[38;5;28;01melse\u001b[39;00m:\n\u001b[0;32m--> 430\u001b[0m         \u001b[38;5;28;01mreturn\u001b[39;00m \u001b[38;5;28;43mformat\u001b[39;49m\u001b[38;5;241;43m.\u001b[39;49m\u001b[43mread_array\u001b[49m\u001b[43m(\u001b[49m\u001b[43mfid\u001b[49m\u001b[43m,\u001b[49m\u001b[43m \u001b[49m\u001b[43mallow_pickle\u001b[49m\u001b[38;5;241;43m=\u001b[39;49m\u001b[43mallow_pickle\u001b[49m\u001b[43m,\u001b[49m\n\u001b[1;32m    431\u001b[0m \u001b[43m                                 \u001b[49m\u001b[43mpickle_kwargs\u001b[49m\u001b[38;5;241;43m=\u001b[39;49m\u001b[43mpickle_kwargs\u001b[49m\u001b[43m)\u001b[49m\n\u001b[1;32m    432\u001b[0m \u001b[38;5;28;01melse\u001b[39;00m:\n\u001b[1;32m    433\u001b[0m     \u001b[38;5;66;03m# Try a pickle\u001b[39;00m\n\u001b[1;32m    434\u001b[0m     \u001b[38;5;28;01mif\u001b[39;00m \u001b[38;5;129;01mnot\u001b[39;00m allow_pickle:\n",
      "File \u001b[0;32m~/.local/lib/python3.10/site-packages/numpy/lib/format.py:756\u001b[0m, in \u001b[0;36mread_array\u001b[0;34m(fp, allow_pickle, pickle_kwargs)\u001b[0m\n\u001b[1;32m    753\u001b[0m \u001b[38;5;28;01melse\u001b[39;00m:\n\u001b[1;32m    754\u001b[0m     \u001b[38;5;28;01mif\u001b[39;00m isfileobj(fp):\n\u001b[1;32m    755\u001b[0m         \u001b[38;5;66;03m# We can use the fast fromfile() function.\u001b[39;00m\n\u001b[0;32m--> 756\u001b[0m         array \u001b[38;5;241m=\u001b[39m \u001b[43mnumpy\u001b[49m\u001b[38;5;241;43m.\u001b[39;49m\u001b[43mfromfile\u001b[49m\u001b[43m(\u001b[49m\u001b[43mfp\u001b[49m\u001b[43m,\u001b[49m\u001b[43m \u001b[49m\u001b[43mdtype\u001b[49m\u001b[38;5;241;43m=\u001b[39;49m\u001b[43mdtype\u001b[49m\u001b[43m,\u001b[49m\u001b[43m \u001b[49m\u001b[43mcount\u001b[49m\u001b[38;5;241;43m=\u001b[39;49m\u001b[43mcount\u001b[49m\u001b[43m)\u001b[49m\n\u001b[1;32m    757\u001b[0m     \u001b[38;5;28;01melse\u001b[39;00m:\n\u001b[1;32m    758\u001b[0m         \u001b[38;5;66;03m# This is not a real file. We have to read it the\u001b[39;00m\n\u001b[1;32m    759\u001b[0m         \u001b[38;5;66;03m# memory-intensive way.\u001b[39;00m\n\u001b[0;32m   (...)\u001b[0m\n\u001b[1;32m    767\u001b[0m         \u001b[38;5;66;03m# not correctly instantiate zero-width string dtypes; see\u001b[39;00m\n\u001b[1;32m    768\u001b[0m         \u001b[38;5;66;03m# https://github.com/numpy/numpy/pull/6430\u001b[39;00m\n\u001b[1;32m    769\u001b[0m         array \u001b[38;5;241m=\u001b[39m numpy\u001b[38;5;241m.\u001b[39mndarray(count, dtype\u001b[38;5;241m=\u001b[39mdtype)\n",
      "\u001b[0;31mMemoryError\u001b[0m: Unable to allocate 6.68 GiB for an array with shape (896914944,) and data type float64"
     ]
    }
   ],
   "source": [
    "# Load the raw data for this variable\n",
    "raw_psl = nao_lag_func.load_data(\n",
    "    season=season,\n",
    "    forecast_range=forecast_range,\n",
    "    start_year=start_year,\n",
    "    end_year=end_year,\n",
    "    lag=lag,\n",
    "    method=\"new_raw\",\n",
    "    data_dir=\"/gws/nopw/j04/canari/users/benhutch/alternate-lag-processed-data/\",\n",
    ")"
   ]
  },
  {
   "cell_type": "code",
   "execution_count": null,
   "metadata": {},
   "outputs": [
    {
     "name": "stdout",
     "output_type": "stream",
     "text": [
      "More than one file found\n",
      "Using the latest datetime file: /gws/nopw/j04/canari/users/benhutch/alternate-lag-processed-data/psl_ONDJFM_global_1964_2014_2-9_4_1708533939.5692165_alternate_lag.npy\n"
     ]
    },
    {
     "name": "stderr",
     "output_type": "stream",
     "text": [
      "/home/users/benhutch/skill-maps/python/nao_alt_lag_functions.py:124: FutureWarning: The behavior of 'to_datetime' with 'unit' when parsing strings is deprecated. In a future version, strings will be parsed as datetime strings, matching the behavior without a 'unit'. To retain the old behavior, explicitly cast ints or floats to numeric type before calling to_datetime.\n",
      "  datetimes = [pd.to_datetime(datetime, unit=\"s\") for datetime in datetimes]\n"
     ]
    },
    {
     "name": "stdout",
     "output_type": "stream",
     "text": [
      "Shape of the data: (51, 712, 72, 144)\n"
     ]
    }
   ],
   "source": [
    "# Load the raw data for the alternate lag\n",
    "alt_lag_psl = nao_lag_func.load_data(\n",
    "    season=season,\n",
    "    forecast_range=forecast_range,\n",
    "    start_year=start_year,\n",
    "    end_year=end_year,\n",
    "    lag=lag,\n",
    "    method=\"alt_lag\",\n",
    "    data_dir=\"/gws/nopw/j04/canari/users/benhutch/alternate-lag-processed-data/\",\n",
    ")"
   ]
  },
  {
   "cell_type": "markdown",
   "metadata": {},
   "source": [
    "### Data dimensions ###\n",
    "\n",
    "In the case of the raw data, the dimensions will be something like:\n",
    "\n",
    "(54, 178, 9, 72, 144)\n",
    "\n",
    "* 54 is the number of time steps (e.g. from 1961 to 2014)\n",
    "* 178 is the number of ensemble members (e.g. from the full CMIP6 ensemble)\n",
    "* 9 is the number of forecast years (e.g. for s1960, from 1960 to 1970)\n",
    "* 72 is the number of latitudes (2.5 degree grid spacing)\n",
    "* 144 is the number of longitudes (2.5 degree grid spacing)\n",
    "\n",
    "In the case of the alternative lagged (/lagged) data, the dimensions will be something like:\n",
    "\n",
    "(51, 712, 72, 144)\n",
    "\n",
    "* 51 is the number of time steps (e.g. from 1964 to 2014)\n",
    "* 712 is the number of lagged ensemble members (e.g. from the full lagged CMIP6 ensemble)\n",
    "* 72 is the number of latitudes (2.5 degree grid spacing)\n",
    "* 144 is the number of longitudes (2.5 degree grid spacing)"
   ]
  },
  {
   "cell_type": "code",
   "execution_count": null,
   "metadata": {},
   "outputs": [],
   "source": [
    "# import importlib\n",
    "import importlib\n",
    "\n",
    "# Import the function again so as not to have to restart the kernel\n",
    "importlib.reload(sys.modules[\"nao_alt_lag_functions\"])\n",
    "\n",
    "# import the functions\n",
    "from nao_alt_lag_functions import *"
   ]
  },
  {
   "cell_type": "code",
   "execution_count": null,
   "metadata": {},
   "outputs": [
    {
     "ename": "NameError",
     "evalue": "name 'raw_psl' is not defined",
     "output_type": "error",
     "traceback": [
      "\u001b[0;31m---------------------------------------------------------------------------\u001b[0m",
      "\u001b[0;31mNameError\u001b[0m                                 Traceback (most recent call last)",
      "Cell \u001b[0;32mIn[22], line 3\u001b[0m\n\u001b[1;32m      1\u001b[0m \u001b[38;5;66;03m# Test the other new function\u001b[39;00m\n\u001b[1;32m      2\u001b[0m nao_stats_raw \u001b[38;5;241m=\u001b[39m nao_lag_func\u001b[38;5;241m.\u001b[39mcalc_nao_stats(\n\u001b[0;32m----> 3\u001b[0m     data\u001b[38;5;241m=\u001b[39m\u001b[43mraw_psl\u001b[49m,\n\u001b[1;32m      4\u001b[0m     season\u001b[38;5;241m=\u001b[39mseason,\n\u001b[1;32m      5\u001b[0m     forecast_range\u001b[38;5;241m=\u001b[39mforecast_range,\n\u001b[1;32m      6\u001b[0m     start_year\u001b[38;5;241m=\u001b[39mstart_year,\n\u001b[1;32m      7\u001b[0m     end_year\u001b[38;5;241m=\u001b[39mend_year,\n\u001b[1;32m      8\u001b[0m     lag\u001b[38;5;241m=\u001b[39mlag,\n\u001b[1;32m      9\u001b[0m     alt_lag\u001b[38;5;241m=\u001b[39m\u001b[38;5;28;01mFalse\u001b[39;00m,\n\u001b[1;32m     10\u001b[0m     nao_matched\u001b[38;5;241m=\u001b[39m\u001b[38;5;28;01mFalse\u001b[39;00m,\n\u001b[1;32m     11\u001b[0m     winter_nao_n_grid\u001b[38;5;241m=\u001b[39mdicts\u001b[38;5;241m.\u001b[39miceland_grid_corrected,\n\u001b[1;32m     12\u001b[0m     winter_nao_s_grid\u001b[38;5;241m=\u001b[39mdicts\u001b[38;5;241m.\u001b[39mazores_grid_corrected,\n\u001b[1;32m     13\u001b[0m )\n",
      "\u001b[0;31mNameError\u001b[0m: name 'raw_psl' is not defined"
     ]
    }
   ],
   "source": [
    "# Test the other new function\n",
    "nao_stats_raw = nao_lag_func.calc_nao_stats(\n",
    "    data=raw_psl,\n",
    "    season=season,\n",
    "    forecast_range=forecast_range,\n",
    "    start_year=start_year,\n",
    "    end_year=end_year,\n",
    "    lag=lag,\n",
    "    alt_lag=False,\n",
    "    nao_matched=False,\n",
    "    winter_nao_n_grid=dicts.iceland_grid_corrected,\n",
    "    winter_nao_s_grid=dicts.azores_grid_corrected,\n",
    ")"
   ]
  },
  {
   "cell_type": "code",
   "execution_count": null,
   "metadata": {},
   "outputs": [
    {
     "name": "stdout",
     "output_type": "stream",
     "text": [
      "Using standard NAO definition\n",
      "Forecast range obs: 2-9\n"
     ]
    },
    {
     "name": "stderr",
     "output_type": "stream",
     "text": [
      "/home/users/benhutch/.local/lib/python3.10/site-packages/iris/coords.py:2237: UserWarning: Cannot check if coordinate is contiguous: Invalid operation for 'time', with 0 bound(s). Contiguous bounds are only defined for 1D coordinates with 2 bounds. Metadata may not be fully descriptive for 'time'. Ignoring bounds.\n",
      "  warnings.warn(msg.format(str(exc), self.name()))\n",
      "/home/users/benhutch/.local/lib/python3.10/site-packages/xarray/core/groupby.py:509: FutureWarning: 'Y' is deprecated and will be removed in a future version, please use 'YE' instead.\n",
      "  index_grouper = pd.Grouper(\n"
     ]
    },
    {
     "name": "stdout",
     "output_type": "stream",
     "text": [
      "Time dimension of obs: ['1960-12-31T00:00:00.000000000' '1961-12-31T00:00:00.000000000'\n",
      " '1962-12-31T00:00:00.000000000' '1963-12-31T00:00:00.000000000'\n",
      " '1964-12-31T00:00:00.000000000' '1965-12-31T00:00:00.000000000'\n",
      " '1966-12-31T00:00:00.000000000' '1967-12-31T00:00:00.000000000'\n",
      " '1968-12-31T00:00:00.000000000' '1969-12-31T00:00:00.000000000'\n",
      " '1970-12-31T00:00:00.000000000' '1971-12-31T00:00:00.000000000'\n",
      " '1972-12-31T00:00:00.000000000' '1973-12-31T00:00:00.000000000'\n",
      " '1974-12-31T00:00:00.000000000' '1975-12-31T00:00:00.000000000'\n",
      " '1976-12-31T00:00:00.000000000' '1977-12-31T00:00:00.000000000'\n",
      " '1978-12-31T00:00:00.000000000' '1979-12-31T00:00:00.000000000'\n",
      " '1980-12-31T00:00:00.000000000' '1981-12-31T00:00:00.000000000'\n",
      " '1982-12-31T00:00:00.000000000' '1983-12-31T00:00:00.000000000'\n",
      " '1984-12-31T00:00:00.000000000' '1985-12-31T00:00:00.000000000'\n",
      " '1986-12-31T00:00:00.000000000' '1987-12-31T00:00:00.000000000'\n",
      " '1988-12-31T00:00:00.000000000' '1989-12-31T00:00:00.000000000'\n",
      " '1990-12-31T00:00:00.000000000' '1991-12-31T00:00:00.000000000'\n",
      " '1992-12-31T00:00:00.000000000' '1993-12-31T00:00:00.000000000'\n",
      " '1994-12-31T00:00:00.000000000' '1995-12-31T00:00:00.000000000'\n",
      " '1996-12-31T00:00:00.000000000' '1997-12-31T00:00:00.000000000'\n",
      " '1998-12-31T00:00:00.000000000' '1999-12-31T00:00:00.000000000'\n",
      " '2000-12-31T00:00:00.000000000' '2001-12-31T00:00:00.000000000'\n",
      " '2002-12-31T00:00:00.000000000' '2003-12-31T00:00:00.000000000'\n",
      " '2004-12-31T00:00:00.000000000' '2005-12-31T00:00:00.000000000'\n",
      " '2006-12-31T00:00:00.000000000' '2007-12-31T00:00:00.000000000'\n",
      " '2008-12-31T00:00:00.000000000' '2009-12-31T00:00:00.000000000'\n",
      " '2010-12-31T00:00:00.000000000' '2011-12-31T00:00:00.000000000'\n",
      " '2012-12-31T00:00:00.000000000' '2013-12-31T00:00:00.000000000'\n",
      " '2014-12-31T00:00:00.000000000' '2015-12-31T00:00:00.000000000'\n",
      " '2016-12-31T00:00:00.000000000' '2017-12-31T00:00:00.000000000'\n",
      " '2018-12-31T00:00:00.000000000' '2019-12-31T00:00:00.000000000'\n",
      " '2020-12-31T00:00:00.000000000' '2021-12-31T00:00:00.000000000'\n",
      " '2022-12-31T00:00:00.000000000' '2023-12-31T00:00:00.000000000']\n",
      "data shape (51, 712, 72, 144)\n",
      "len data 51\n",
      "Processing the alt-lag data\n",
      "Alt-lag first year: 1969\n",
      "Alt-lag last year: 2019\n",
      "First year of obs_psl_anom: 1969\n",
      "Last year of obs_psl_anom: 2019\n",
      "Shape of the model data: (712, 51, 72, 144)\n",
      "Shape of the obs_nao: (51,)\n",
      "Shape of the model nao: (712, 51)\n"
     ]
    }
   ],
   "source": [
    "# Test the other new function\n",
    "nao_stats_lag = nao_lag_func.calc_nao_stats(\n",
    "    data=alt_lag_psl,\n",
    "    season=season,\n",
    "    forecast_range=forecast_range,\n",
    "    start_year=start_year,\n",
    "    end_year=end_year,\n",
    "    lag=lag,\n",
    "    alt_lag=True,\n",
    "    nao_matched=False,\n",
    ")"
   ]
  },
  {
   "cell_type": "code",
   "execution_count": null,
   "metadata": {},
   "outputs": [
    {
     "data": {
      "text/plain": [
       "dict_keys(['obs_nao', 'model_nao_mean', 'model_nao_members', 'model_nao_members_min', 'model_nao_members_max', 'init_years', 'valid_years', 'corr1', 'p1', 'rpc1', 'rps1', 'nens'])"
      ]
     },
     "execution_count": 11,
     "metadata": {},
     "output_type": "execute_result"
    }
   ],
   "source": [
    "nao_stats_lag.keys()"
   ]
  },
  {
   "cell_type": "code",
   "execution_count": null,
   "metadata": {},
   "outputs": [
    {
     "data": {
      "text/plain": [
       "(51,)"
      ]
     },
     "execution_count": 12,
     "metadata": {},
     "output_type": "execute_result"
    }
   ],
   "source": [
    "nao_stats_lag['obs_nao'].shape"
   ]
  },
  {
   "cell_type": "code",
   "execution_count": null,
   "metadata": {},
   "outputs": [
    {
     "data": {
      "text/plain": [
       "(712, 51)"
      ]
     },
     "execution_count": 13,
     "metadata": {},
     "output_type": "execute_result"
    }
   ],
   "source": [
    "nao_stats_lag['model_nao_members'].shape"
   ]
  },
  {
   "cell_type": "code",
   "execution_count": null,
   "metadata": {},
   "outputs": [],
   "source": [
    "# # Test the bootstrapping function\n",
    "# fcsts_stats = nao_lag_func.fcsts_assess(\n",
    "#     obs=nao_stats_lag['obs_nao'],\n",
    "#     fcst1=nao_stats_lag['model_nao_members'],\n",
    "#     fcst2=nao_stats_lag['model_nao_members'],\n",
    "#     nboot=1000,\n",
    "# )"
   ]
  },
  {
   "cell_type": "code",
   "execution_count": null,
   "metadata": {},
   "outputs": [],
   "source": [
    "# fcsts_stats.keys()"
   ]
  },
  {
   "cell_type": "code",
   "execution_count": null,
   "metadata": {},
   "outputs": [],
   "source": [
    "# fcsts_stats"
   ]
  },
  {
   "cell_type": "code",
   "execution_count": null,
   "metadata": {},
   "outputs": [],
   "source": [
    "import importlib\n",
    "\n",
    "# reload the functions\n",
    "importlib.reload(sys.modules[\"nao_alt_lag_functions\"])\n",
    "\n",
    "# import the functions\n",
    "import nao_alt_lag_functions as nao_lag_func"
   ]
  },
  {
   "cell_type": "code",
   "execution_count": null,
   "metadata": {},
   "outputs": [
    {
     "name": "stdout",
     "output_type": "stream",
     "text": [
      "\n",
      "    Length of init_years: 51\n",
      "    Length of valid_years: 51\n",
      "    Length of obs_nao: 51\n",
      "    Length of model_nao_mean: 51\n",
      "    Length of model_nao_members_min: 51\n",
      "    Length of model_nao_members_max: 51\n",
      "    \n",
      "Dataframe saved to /gws/nopw/j04/canari/users/benhutch/nao_stats_df/psl_ONDJFM_global_1961_2014_2-9_4_nao_default.csv\n"
     ]
    }
   ],
   "source": [
    "# Set up the dataframe\n",
    "nao_stats_df = nao_lag_func.create_nao_stats_df(\n",
    "    nao_stats=nao_stats_lag,\n",
    "    season=season,\n",
    "    forecast_range=forecast_range,\n",
    "    start_year=start_year,\n",
    "    end_year=end_year,\n",
    "    lag=4,\n",
    "    alt_lag=True,\n",
    ")"
   ]
  },
  {
   "cell_type": "code",
   "execution_count": null,
   "metadata": {},
   "outputs": [],
   "source": [
    "# nao_stats_df.head()"
   ]
  },
  {
   "cell_type": "code",
   "execution_count": null,
   "metadata": {},
   "outputs": [],
   "source": [
    "# plot the nao\n",
    "nao_lag_func.plot_nao(\n",
    "    nao_stats=nao_stats_lag,\n",
    "    season=season,\n",
    "    forecast_range=forecast_range,\n",
    "    lag=lag,\n",
    "    alt_lag=True,\n",
    "    figsize_x=10,\n",
    "    figsize_y=5,\n",
    "    ylim_min=-8,\n",
    "    ylim_max=8,\n",
    "    title=\"Observed NAO index (black) and \\n dcpp-A NAO index (red)\",\n",
    "    ylabel=\"NAO index anomaly (hPa)\",\n",
    "    label=\"a\",\n",
    "    fontsize=10,\n",
    ")"
   ]
  },
  {
   "cell_type": "code",
   "execution_count": null,
   "metadata": {},
   "outputs": [
    {
     "ename": "NameError",
     "evalue": "name 'nao_stats_raw' is not defined",
     "output_type": "error",
     "traceback": [
      "\u001b[0;31m---------------------------------------------------------------------------\u001b[0m",
      "\u001b[0;31mNameError\u001b[0m                                 Traceback (most recent call last)",
      "Cell \u001b[0;32mIn[21], line 3\u001b[0m\n\u001b[1;32m      1\u001b[0m \u001b[38;5;66;03m# Plot the NAO\u001b[39;00m\n\u001b[1;32m      2\u001b[0m nao_lag_func\u001b[38;5;241m.\u001b[39mplot_nao_subplots(\n\u001b[0;32m----> 3\u001b[0m     nao_stats_1\u001b[38;5;241m=\u001b[39m\u001b[43mnao_stats_raw\u001b[49m,\n\u001b[1;32m      4\u001b[0m     nao_stats_2\u001b[38;5;241m=\u001b[39mnao_stats_lag,\n\u001b[1;32m      5\u001b[0m     method_1\u001b[38;5;241m=\u001b[39m\u001b[38;5;124m\"\u001b[39m\u001b[38;5;124mRaw ensemble\u001b[39m\u001b[38;5;124m\"\u001b[39m,\n\u001b[1;32m      6\u001b[0m     method_2\u001b[38;5;241m=\u001b[39m\u001b[38;5;124m\"\u001b[39m\u001b[38;5;124mVariance adjusted and lagged\u001b[39m\u001b[38;5;124m\"\u001b[39m,\n\u001b[1;32m      7\u001b[0m     season\u001b[38;5;241m=\u001b[39mseason,\n\u001b[1;32m      8\u001b[0m     forecast_range\u001b[38;5;241m=\u001b[39mforecast_range,\n\u001b[1;32m      9\u001b[0m     lag\u001b[38;5;241m=\u001b[39mlag,\n\u001b[1;32m     10\u001b[0m     figsize_x_px\u001b[38;5;241m=\u001b[39m\u001b[38;5;241m1800\u001b[39m,\n\u001b[1;32m     11\u001b[0m     figsize_y_px\u001b[38;5;241m=\u001b[39m\u001b[38;5;241m500\u001b[39m,\n\u001b[1;32m     12\u001b[0m     dpi\u001b[38;5;241m=\u001b[39m\u001b[38;5;241m100\u001b[39m,\n\u001b[1;32m     13\u001b[0m     fontsize\u001b[38;5;241m=\u001b[39m\u001b[38;5;241m12\u001b[39m,\n\u001b[1;32m     14\u001b[0m     save_dpi\u001b[38;5;241m=\u001b[39m\u001b[38;5;241m600\u001b[39m,\n\u001b[1;32m     15\u001b[0m     fig_labels\u001b[38;5;241m=\u001b[39m[\u001b[38;5;124m\"\u001b[39m\u001b[38;5;124ma\u001b[39m\u001b[38;5;124m\"\u001b[39m, \u001b[38;5;124m\"\u001b[39m\u001b[38;5;124mb\u001b[39m\u001b[38;5;124m\"\u001b[39m],\n\u001b[1;32m     16\u001b[0m )\n",
      "\u001b[0;31mNameError\u001b[0m: name 'nao_stats_raw' is not defined"
     ]
    }
   ],
   "source": [
    "# Plot the NAO\n",
    "nao_lag_func.plot_nao_subplots(\n",
    "    nao_stats_1=nao_stats_raw,\n",
    "    nao_stats_2=nao_stats_lag,\n",
    "    method_1=\"Raw ensemble\",\n",
    "    method_2=\"Variance adjusted and lagged\",\n",
    "    season=season,\n",
    "    forecast_range=forecast_range,\n",
    "    lag=lag,\n",
    "    figsize_x_px=1800,\n",
    "    figsize_y_px=500,\n",
    "    dpi=100,\n",
    "    fontsize=12,\n",
    "    save_dpi=600,\n",
    "    fig_labels=[\"a\", \"b\"],\n",
    ")"
   ]
  },
  {
   "cell_type": "code",
   "execution_count": null,
   "metadata": {},
   "outputs": [],
   "source": [
    "# how could we break this down into individual models? - does depresys have second winter skill?\n",
    "# do november init models have second winter skill?"
   ]
  }
 ],
 "metadata": {
  "kernelspec": {
   "display_name": "Python 3",
   "language": "python",
   "name": "python3"
  },
  "language_info": {
   "codemirror_mode": {
    "name": "ipython",
    "version": 3
   },
   "file_extension": ".py",
   "mimetype": "text/x-python",
   "name": "python",
   "nbconvert_exporter": "python",
   "pygments_lexer": "ipython3",
   "version": "3.10.8"
  }
 },
 "nbformat": 4,
 "nbformat_minor": 2
}
