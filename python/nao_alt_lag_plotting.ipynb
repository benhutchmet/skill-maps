{
 "cells": [
  {
   "cell_type": "markdown",
   "metadata": {},
   "source": [
    "### Plotting NAO data ###\n",
    "\n",
    "Plotting the NAO for the processed raw and alt_lagged data for the different forecast ranges and different summer and winter NAO."
   ]
  },
  {
   "cell_type": "code",
   "execution_count": null,
   "metadata": {},
   "outputs": [],
   "source": [
    "# Import relevant libraries\n",
    "import os\n",
    "import sys\n",
    "import glob\n",
    "import re\n",
    "\n",
    "# Third-party libraries\n",
    "import numpy as np\n",
    "import pandas as pd\n",
    "import xarray as xr\n",
    "import matplotlib.pyplot as plt"
   ]
  },
  {
   "cell_type": "code",
   "execution_count": null,
   "metadata": {},
   "outputs": [],
   "source": [
    "# Import local modules\n",
    "import functions as func\n",
    "import nao_skill_functions as nao_func\n",
    "import nao_alt_lag_functions as nao_lag_func\n",
    "\n",
    "# Import dictionaries\n",
    "sys.path.append('/home/users/benhutch/skill-maps')\n",
    "import dictionaries as dicts\n",
    "\n",
    "# Import the functions from the rose-suite-matching repository\n",
    "sys.path.append('/home/users/benhutch/skill-maps/rose-suite-matching')\n",
    "import nao_matching_seasons as nms_func"
   ]
  },
  {
   "cell_type": "code",
   "execution_count": null,
   "metadata": {},
   "outputs": [],
   "source": [
    "# Set up the variables\n",
    "season = \"ULG\"\n",
    "forecast_range = \"2-9\"\n",
    "start_year = 1961\n",
    "end_year = 2014\n",
    "lag = 4\n",
    "alt_lag = True"
   ]
  },
  {
   "cell_type": "code",
   "execution_count": null,
   "metadata": {},
   "outputs": [],
   "source": [
    "# Load the raw data for this variable\n",
    "raw_psl = nao_lag_func.load_data(season=season,\n",
    "                                  forecast_range=forecast_range,\n",
    "                                  start_year=start_year,\n",
    "                                  end_year=end_year,\n",
    "                                  lag=lag,\n",
    "                                  alt_lag=alt_lag,)"
   ]
  },
  {
   "cell_type": "markdown",
   "metadata": {},
   "source": [
    "### Data dimensions ###\n",
    "\n",
    "In the case of the raw data, the dimensions will be something like:\n",
    "\n",
    "(54, 178, 9, 72, 144)\n",
    "\n",
    "* 54 is the number of time steps (e.g. from 1961 to 2014)\n",
    "* 178 is the number of ensemble members (e.g. from the full CMIP6 ensemble)\n",
    "* 9 is the number of forecast years (e.g. for s1960, from 1960 to 1970)\n",
    "* 72 is the number of latitudes (2.5 degree grid spacing)\n",
    "* 144 is the number of longitudes (2.5 degree grid spacing)\n",
    "\n",
    "In the case of the alternative lagged (/lagged) data, the dimensions will be something like:\n",
    "\n",
    "(51, 712, 72, 144)\n",
    "\n",
    "* 51 is the number of time steps (e.g. from 1964 to 2014)\n",
    "* 712 is the number of lagged ensemble members (e.g. from the full lagged CMIP6 ensemble)\n",
    "* 72 is the number of latitudes (2.5 degree grid spacing)\n",
    "* 144 is the number of longitudes (2.5 degree grid spacing)"
   ]
  },
  {
   "cell_type": "code",
   "execution_count": null,
   "metadata": {},
   "outputs": [],
   "source": [
    "# import importlib\n",
    "import importlib\n",
    "\n",
    "# Import the function again so as not to have to restart the kernel\n",
    "importlib.reload(sys.modules['nao_alt_lag_functions'])\n",
    "\n",
    "# import the functions\n",
    "from nao_alt_lag_functions import *"
   ]
  },
  {
   "cell_type": "code",
   "execution_count": null,
   "metadata": {},
   "outputs": [],
   "source": [
    "# Test the other new function\n",
    "nao_stats = nao_lag_func.calc_nao_stats(data=raw_psl,\n",
    "                                        season=season,\n",
    "                                        forecast_range=forecast_range,\n",
    "                                        start_year=start_year,\n",
    "                                        end_year=end_year,\n",
    "                                        lag=lag,\n",
    "                                        alt_lag=alt_lag,\n",
    "                                        )"
   ]
  },
  {
   "cell_type": "code",
   "execution_count": null,
   "metadata": {},
   "outputs": [],
   "source": [
    "# Plot the NAO\n",
    "nao_lag_func.plot_nao(nao_stats=nao_stats,\n",
    "                      season=season,\n",
    "                      forecast_range=forecast_range,\n",
    "                      lag=lag,\n",
    "                      alt_lag=alt_lag,\n",
    "                      figsize_x=12,\n",
    "                      figsize_y=6,\n",
    "                      )"
   ]
  },
  {
   "cell_type": "code",
   "execution_count": null,
   "metadata": {},
   "outputs": [],
   "source": [
    "# how could we break this down into individual models? - does depresys have second winter skill?\n",
    "# do november init models have second winter skill?"
   ]
  }
 ],
 "metadata": {
  "kernelspec": {
   "display_name": "Python 3",
   "language": "python",
   "name": "python3"
  },
  "language_info": {
   "codemirror_mode": {
    "name": "ipython",
    "version": 3
   },
   "file_extension": ".py",
   "mimetype": "text/x-python",
   "name": "python",
   "nbconvert_exporter": "python",
   "pygments_lexer": "ipython3",
   "version": "3.10.5"
  }
 },
 "nbformat": 4,
 "nbformat_minor": 2
}
