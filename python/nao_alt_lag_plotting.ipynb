{
 "cells": [
  {
   "cell_type": "markdown",
   "metadata": {},
   "source": [
    "### Plotting NAO data ###\n",
    "\n",
    "Plotting the NAO for the processed raw and alt_lagged data for the different forecast ranges and different summer and winter NAO."
   ]
  },
  {
   "cell_type": "code",
   "execution_count": 1,
   "metadata": {},
   "outputs": [],
   "source": [
    "# Import relevant libraries\n",
    "import os\n",
    "import sys\n",
    "import glob\n",
    "import re\n",
    "\n",
    "# Third-party libraries\n",
    "import numpy as np\n",
    "import pandas as pd\n",
    "import xarray as xr\n",
    "import matplotlib.pyplot as plt"
   ]
  },
  {
   "cell_type": "code",
   "execution_count": 2,
   "metadata": {},
   "outputs": [],
   "source": [
    "# Import local modules\n",
    "import functions as func\n",
    "import nao_skill_functions as nao_func\n",
    "import nao_alt_lag_functions as nao_lag_func\n",
    "\n",
    "# Import dictionaries\n",
    "sys.path.append(\"/home/users/benhutch/skill-maps\")\n",
    "import dictionaries as dicts\n",
    "\n",
    "# Import the functions from the rose-suite-matching repository\n",
    "sys.path.append(\"/home/users/benhutch/skill-maps/rose-suite-matching\")\n",
    "import nao_matching_seasons as nms_func"
   ]
  },
  {
   "cell_type": "code",
   "execution_count": 3,
   "metadata": {},
   "outputs": [],
   "source": [
    "# Set up the variables\n",
    "season = \"DJFM\"\n",
    "forecast_range = \"2-9\"\n",
    "start_year = 1961\n",
    "end_year = 2014\n",
    "lag = 4\n",
    "alt_lag = True"
   ]
  },
  {
   "cell_type": "code",
   "execution_count": 4,
   "metadata": {},
   "outputs": [
    {
     "name": "stdout",
     "output_type": "stream",
     "text": [
      "Shape of the data: (51, 712, 72, 144)\n"
     ]
    }
   ],
   "source": [
    "# Load the raw data for this variable\n",
    "raw_psl = nao_lag_func.load_data(\n",
    "    season=season,\n",
    "    forecast_range=forecast_range,\n",
    "    start_year=start_year,\n",
    "    end_year=end_year,\n",
    "    lag=lag,\n",
    "    method=\"alt_lag\",\n",
    "    data_dir=\"/gws/nopw/j04/canari/users/benhutch/alternate-lag-processed-data/test-sfcWind/\",\n",
    ")"
   ]
  },
  {
   "cell_type": "markdown",
   "metadata": {},
   "source": [
    "### Data dimensions ###\n",
    "\n",
    "In the case of the raw data, the dimensions will be something like:\n",
    "\n",
    "(54, 178, 9, 72, 144)\n",
    "\n",
    "* 54 is the number of time steps (e.g. from 1961 to 2014)\n",
    "* 178 is the number of ensemble members (e.g. from the full CMIP6 ensemble)\n",
    "* 9 is the number of forecast years (e.g. for s1960, from 1960 to 1970)\n",
    "* 72 is the number of latitudes (2.5 degree grid spacing)\n",
    "* 144 is the number of longitudes (2.5 degree grid spacing)\n",
    "\n",
    "In the case of the alternative lagged (/lagged) data, the dimensions will be something like:\n",
    "\n",
    "(51, 712, 72, 144)\n",
    "\n",
    "* 51 is the number of time steps (e.g. from 1964 to 2014)\n",
    "* 712 is the number of lagged ensemble members (e.g. from the full lagged CMIP6 ensemble)\n",
    "* 72 is the number of latitudes (2.5 degree grid spacing)\n",
    "* 144 is the number of longitudes (2.5 degree grid spacing)"
   ]
  },
  {
   "cell_type": "code",
   "execution_count": 5,
   "metadata": {},
   "outputs": [],
   "source": [
    "# import importlib\n",
    "import importlib\n",
    "\n",
    "# Import the function again so as not to have to restart the kernel\n",
    "importlib.reload(sys.modules[\"nao_alt_lag_functions\"])\n",
    "\n",
    "# import the functions\n",
    "from nao_alt_lag_functions import *"
   ]
  },
  {
   "cell_type": "code",
   "execution_count": 7,
   "metadata": {},
   "outputs": [
    {
     "name": "stdout",
     "output_type": "stream",
     "text": [
      "Using standard NAO definition\n",
      "Forecast range obs: 2-9\n",
      "Time dimension of obs: ['1960-12-31T00:00:00.000000000' '1961-12-31T00:00:00.000000000'\n",
      " '1962-12-31T00:00:00.000000000' '1963-12-31T00:00:00.000000000'\n",
      " '1964-12-31T00:00:00.000000000' '1965-12-31T00:00:00.000000000'\n",
      " '1966-12-31T00:00:00.000000000' '1967-12-31T00:00:00.000000000'\n",
      " '1968-12-31T00:00:00.000000000' '1969-12-31T00:00:00.000000000'\n",
      " '1970-12-31T00:00:00.000000000' '1971-12-31T00:00:00.000000000'\n",
      " '1972-12-31T00:00:00.000000000' '1973-12-31T00:00:00.000000000'\n",
      " '1974-12-31T00:00:00.000000000' '1975-12-31T00:00:00.000000000'\n",
      " '1976-12-31T00:00:00.000000000' '1977-12-31T00:00:00.000000000'\n",
      " '1978-12-31T00:00:00.000000000' '1979-12-31T00:00:00.000000000'\n",
      " '1980-12-31T00:00:00.000000000' '1981-12-31T00:00:00.000000000'\n",
      " '1982-12-31T00:00:00.000000000' '1983-12-31T00:00:00.000000000'\n",
      " '1984-12-31T00:00:00.000000000' '1985-12-31T00:00:00.000000000'\n",
      " '1986-12-31T00:00:00.000000000' '1987-12-31T00:00:00.000000000'\n",
      " '1988-12-31T00:00:00.000000000' '1989-12-31T00:00:00.000000000'\n",
      " '1990-12-31T00:00:00.000000000' '1991-12-31T00:00:00.000000000'\n",
      " '1992-12-31T00:00:00.000000000' '1993-12-31T00:00:00.000000000'\n",
      " '1994-12-31T00:00:00.000000000' '1995-12-31T00:00:00.000000000'\n",
      " '1996-12-31T00:00:00.000000000' '1997-12-31T00:00:00.000000000'\n",
      " '1998-12-31T00:00:00.000000000' '1999-12-31T00:00:00.000000000'\n",
      " '2000-12-31T00:00:00.000000000' '2001-12-31T00:00:00.000000000'\n",
      " '2002-12-31T00:00:00.000000000' '2003-12-31T00:00:00.000000000'\n",
      " '2004-12-31T00:00:00.000000000' '2005-12-31T00:00:00.000000000'\n",
      " '2006-12-31T00:00:00.000000000' '2007-12-31T00:00:00.000000000'\n",
      " '2008-12-31T00:00:00.000000000' '2009-12-31T00:00:00.000000000'\n",
      " '2010-12-31T00:00:00.000000000' '2011-12-31T00:00:00.000000000'\n",
      " '2012-12-31T00:00:00.000000000' '2013-12-31T00:00:00.000000000'\n",
      " '2014-12-31T00:00:00.000000000' '2015-12-31T00:00:00.000000000'\n",
      " '2016-12-31T00:00:00.000000000' '2017-12-31T00:00:00.000000000'\n",
      " '2018-12-31T00:00:00.000000000' '2019-12-31T00:00:00.000000000'\n",
      " '2020-12-31T00:00:00.000000000' '2021-12-31T00:00:00.000000000'\n",
      " '2022-12-31T00:00:00.000000000' '2023-12-31T00:00:00.000000000']\n",
      "data shape (51, 712, 72, 144)\n",
      "len data 51\n",
      "Processing the alt-lag data\n",
      "Alt-lag first year: 1969\n",
      "Alt-lag last year: 2019\n",
      "First year of obs_psl_anom: 1969\n",
      "Last year of obs_psl_anom: 2019\n"
     ]
    },
    {
     "name": "stderr",
     "output_type": "stream",
     "text": [
      "/home/users/benhutch/.local/lib/python3.10/site-packages/iris/coords.py:2237: UserWarning: Cannot check if coordinate is contiguous: Invalid operation for 'time', with 0 bound(s). Contiguous bounds are only defined for 1D coordinates with 2 bounds. Metadata may not be fully descriptive for 'time'. Ignoring bounds.\n",
      "  warnings.warn(msg.format(str(exc), self.name()))\n"
     ]
    },
    {
     "name": "stdout",
     "output_type": "stream",
     "text": [
      "Shape of the model data: (712, 51, 72, 144)\n",
      "Shape of the obs_nao: (51,)\n",
      "Shape of the model nao: (712, 51)\n"
     ]
    }
   ],
   "source": [
    "# Test the other new function\n",
    "nao_stats = nao_lag_func.calc_nao_stats(\n",
    "    data=raw_psl,\n",
    "    season=season,\n",
    "    forecast_range=forecast_range,\n",
    "    start_year=start_year,\n",
    "    end_year=end_year,\n",
    "    lag=lag,\n",
    "    alt_lag=alt_lag,\n",
    "    nao_matched=False,\n",
    "    winter_nao_n_grid=dicts.iceland_grid_corrected,\n",
    "    winter_nao_s_grid=dicts.azores_grid_corrected,\n",
    ")"
   ]
  },
  {
   "cell_type": "code",
   "execution_count": 8,
   "metadata": {},
   "outputs": [],
   "source": [
    "# reload the functions\n",
    "importlib.reload(sys.modules[\"nao_alt_lag_functions\"])\n",
    "\n",
    "# import the functions\n",
    "import nao_alt_lag_functions as nao_lag_func"
   ]
  },
  {
   "cell_type": "code",
   "execution_count": 9,
   "metadata": {},
   "outputs": [
    {
     "name": "stdout",
     "output_type": "stream",
     "text": [
      "\n",
      "    Length of init_years: 51\n",
      "    Length of valid_years: 51\n",
      "    Length of obs_nao: 51\n",
      "    Length of model_nao_mean: 51\n",
      "    Length of model_nao_members_min: 51\n",
      "    Length of model_nao_members_max: 51\n",
      "    \n",
      "Dataframe saved to /gws/nopw/j04/canari/users/benhutch/nao_stats_df/psl_DJFM_global_1961_2014_2-9_4_default.csv\n"
     ]
    }
   ],
   "source": [
    "# Set up the dataframe\n",
    "nao_stats_df = nao_lag_func.create_nao_stats_df(\n",
    "    nao_stats=nao_stats,\n",
    "    season=season,\n",
    "    forecast_range=forecast_range,\n",
    "    start_year=start_year,\n",
    "    end_year=end_year,\n",
    "    lag=lag,\n",
    "    alt_lag=alt_lag,\n",
    "    nao_type=\"default\",\n",
    ")"
   ]
  },
  {
   "cell_type": "code",
   "execution_count": 10,
   "metadata": {},
   "outputs": [
    {
     "data": {
      "text/html": [
       "<div>\n",
       "<style scoped>\n",
       "    .dataframe tbody tr th:only-of-type {\n",
       "        vertical-align: middle;\n",
       "    }\n",
       "\n",
       "    .dataframe tbody tr th {\n",
       "        vertical-align: top;\n",
       "    }\n",
       "\n",
       "    .dataframe thead th {\n",
       "        text-align: right;\n",
       "    }\n",
       "</style>\n",
       "<table border=\"1\" class=\"dataframe\">\n",
       "  <thead>\n",
       "    <tr style=\"text-align: right;\">\n",
       "      <th></th>\n",
       "      <th>init_time</th>\n",
       "      <th>valid_time</th>\n",
       "      <th>obs_nao</th>\n",
       "      <th>model_nao_mean</th>\n",
       "      <th>model_nao_members_min</th>\n",
       "      <th>model_nao_members_max</th>\n",
       "    </tr>\n",
       "  </thead>\n",
       "  <tbody>\n",
       "    <tr>\n",
       "      <th>0</th>\n",
       "      <td>1964</td>\n",
       "      <td>1969</td>\n",
       "      <td>-412.926880</td>\n",
       "      <td>-335.941495</td>\n",
       "      <td>-605.151560</td>\n",
       "      <td>-66.731430</td>\n",
       "    </tr>\n",
       "    <tr>\n",
       "      <th>1</th>\n",
       "      <td>1965</td>\n",
       "      <td>1970</td>\n",
       "      <td>-202.493439</td>\n",
       "      <td>-328.039285</td>\n",
       "      <td>-597.249350</td>\n",
       "      <td>-58.829221</td>\n",
       "    </tr>\n",
       "    <tr>\n",
       "      <th>2</th>\n",
       "      <td>1966</td>\n",
       "      <td>1971</td>\n",
       "      <td>-227.247345</td>\n",
       "      <td>-305.350475</td>\n",
       "      <td>-574.560539</td>\n",
       "      <td>-36.140410</td>\n",
       "    </tr>\n",
       "    <tr>\n",
       "      <th>3</th>\n",
       "      <td>1967</td>\n",
       "      <td>1972</td>\n",
       "      <td>-101.660988</td>\n",
       "      <td>-160.900994</td>\n",
       "      <td>-430.111059</td>\n",
       "      <td>108.309071</td>\n",
       "    </tr>\n",
       "    <tr>\n",
       "      <th>4</th>\n",
       "      <td>1968</td>\n",
       "      <td>1973</td>\n",
       "      <td>-5.680248</td>\n",
       "      <td>-115.849440</td>\n",
       "      <td>-385.059505</td>\n",
       "      <td>153.360625</td>\n",
       "    </tr>\n",
       "  </tbody>\n",
       "</table>\n",
       "</div>"
      ],
      "text/plain": [
       "   init_time  valid_time     obs_nao  model_nao_mean  model_nao_members_min  \\\n",
       "0       1964        1969 -412.926880     -335.941495            -605.151560   \n",
       "1       1965        1970 -202.493439     -328.039285            -597.249350   \n",
       "2       1966        1971 -227.247345     -305.350475            -574.560539   \n",
       "3       1967        1972 -101.660988     -160.900994            -430.111059   \n",
       "4       1968        1973   -5.680248     -115.849440            -385.059505   \n",
       "\n",
       "   model_nao_members_max  \n",
       "0             -66.731430  \n",
       "1             -58.829221  \n",
       "2             -36.140410  \n",
       "3             108.309071  \n",
       "4             153.360625  "
      ]
     },
     "execution_count": 10,
     "metadata": {},
     "output_type": "execute_result"
    }
   ],
   "source": [
    "nao_stats_df.head()"
   ]
  },
  {
   "cell_type": "code",
   "execution_count": 11,
   "metadata": {},
   "outputs": [
    {
     "data": {
      "image/png": "[encoded data removed]",
      "text/plain": [
       "<Figure size 864x432 with 1 Axes>"
      ]
     },
     "metadata": {
      "needs_background": "light"
     },
     "output_type": "display_data"
    }
   ],
   "source": [
    "# Plot the NAO\n",
    "nao_lag_func.plot_nao(\n",
    "    nao_stats=nao_stats,\n",
    "    season=season,\n",
    "    forecast_range=forecast_range,\n",
    "    lag=lag,\n",
    "    alt_lag=alt_lag,\n",
    "    figsize_x=12,\n",
    "    figsize_y=6,\n",
    ")"
   ]
  },
  {
   "cell_type": "code",
   "execution_count": null,
   "metadata": {},
   "outputs": [],
   "source": [
    "# how could we break this down into individual models? - does depresys have second winter skill?\n",
    "# do november init models have second winter skill?"
   ]
  }
 ],
 "metadata": {
  "kernelspec": {
   "display_name": "Python 3",
   "language": "python",
   "name": "python3"
  },
  "language_info": {
   "codemirror_mode": {
    "name": "ipython",
    "version": 3
   },
   "file_extension": ".py",
   "mimetype": "text/x-python",
   "name": "python",
   "nbconvert_exporter": "python",
   "pygments_lexer": "ipython3",
   "version": "3.10.5"
  }
 },
 "nbformat": 4,
 "nbformat_minor": 2
}
