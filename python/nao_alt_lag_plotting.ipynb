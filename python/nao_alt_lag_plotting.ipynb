{
 "cells": [
  {
   "cell_type": "markdown",
   "metadata": {},
   "source": [
    "### Plotting NAO data ###\n",
    "\n",
    "Plotting the NAO for the processed raw and alt_lagged data for the different forecast ranges and different summer and winter NAO."
   ]
  },
  {
   "cell_type": "code",
   "execution_count": null,
   "metadata": {},
   "outputs": [],
   "source": [
    "# Import relevant libraries\n",
    "import os\n",
    "import sys\n",
    "import glob\n",
    "import re\n",
    "\n",
    "# Third-party libraries\n",
    "import numpy as np\n",
    "import pandas as pd\n",
    "import xarray as xr\n",
    "import matplotlib.pyplot as plt"
   ]
  },
  {
   "cell_type": "code",
   "execution_count": null,
   "metadata": {},
   "outputs": [],
   "source": [
    "# Import local modules\n",
    "import functions as func\n",
    "import nao_skill_functions as nao_func\n",
    "import nao_alt_lag_functions as nao_lag_func\n",
    "\n",
    "# Import dictionaries\n",
    "sys.path.append(\"/home/users/benhutch/skill-maps\")\n",
    "import dictionaries as dicts\n",
    "\n",
    "# Import the functions from the rose-suite-matching repository\n",
    "sys.path.append(\"/home/users/benhutch/skill-maps/rose-suite-matching\")\n",
    "import nao_matching_seasons as nms_func"
   ]
  },
  {
   "cell_type": "code",
   "execution_count": null,
   "metadata": {},
   "outputs": [],
   "source": [
    "# Set up the variables\n",
    "season = \"ONDJFM\"\n",
    "forecast_range = \"2-9\"\n",
    "start_year = 1961\n",
    "end_year = 2014\n",
    "lag = 4\n",
    "alt_lag = False"
   ]
  },
  {
   "cell_type": "code",
   "execution_count": null,
   "metadata": {},
   "outputs": [],
   "source": [
    "# load the hist data\n",
    "hist_data_lag = nao_lag_func.load_hist_data(\n",
    "    season=\"ONDJFM\",\n",
    "    lag_period=True,\n",
    "    lagged_data=True,\n",
    "    lag=4,\n",
    ")"
   ]
  },
  {
   "cell_type": "code",
   "execution_count": null,
   "metadata": {},
   "outputs": [],
   "source": [
    "# Test the other new function for hist\n",
    "nao_stats_hist = nao_lag_func.calc_nao_stats(\n",
    "    data=np.zeros_like(hist_data_lag),\n",
    "    season=season,\n",
    "    forecast_range=forecast_range,\n",
    "    start_year=start_year,\n",
    "    end_year=end_year,\n",
    "    lag=lag,\n",
    "    hist_data=hist_data_lag,\n",
    ")"
   ]
  },
  {
   "cell_type": "code",
   "execution_count": null,
   "metadata": {},
   "outputs": [],
   "source": [
    "# # Load the raw data for this variable\n",
    "# raw_psl = nao_lag_func.load_data(\n",
    "#     season=season,\n",
    "#     forecast_range=forecast_range,\n",
    "#     start_year=start_year,\n",
    "#     end_year=end_year,\n",
    "#     lag=lag,\n",
    "#     method=\"new_raw\",\n",
    "#     data_dir=\"/gws/nopw/j04/canari/users/benhutch/alternate-lag-processed-data/\",\n",
    "# )"
   ]
  },
  {
   "cell_type": "code",
   "execution_count": null,
   "metadata": {},
   "outputs": [],
   "source": [
    "# Load the raw data for the alternate lag\n",
    "alt_lag_psl = nao_lag_func.load_data(\n",
    "    season=season,\n",
    "    forecast_range=forecast_range,\n",
    "    start_year=start_year,\n",
    "    end_year=end_year,\n",
    "    lag=lag,\n",
    "    method=\"alt_lag\",\n",
    "    data_dir=\"/gws/nopw/j04/canari/users/benhutch/alternate-lag-processed-data/\",\n",
    ")"
   ]
  },
  {
   "cell_type": "markdown",
   "metadata": {},
   "source": [
    "### Data dimensions ###\n",
    "\n",
    "In the case of the raw data, the dimensions will be something like:\n",
    "\n",
    "(54, 178, 9, 72, 144)\n",
    "\n",
    "* 54 is the number of time steps (e.g. from 1961 to 2014)\n",
    "* 178 is the number of ensemble members (e.g. from the full CMIP6 ensemble)\n",
    "* 9 is the number of forecast years (e.g. for s1960, from 1960 to 1970)\n",
    "* 72 is the number of latitudes (2.5 degree grid spacing)\n",
    "* 144 is the number of longitudes (2.5 degree grid spacing)\n",
    "\n",
    "In the case of the alternative lagged (/lagged) data, the dimensions will be something like:\n",
    "\n",
    "(51, 712, 72, 144)\n",
    "\n",
    "* 51 is the number of time steps (e.g. from 1964 to 2014)\n",
    "* 712 is the number of lagged ensemble members (e.g. from the full lagged CMIP6 ensemble)\n",
    "* 72 is the number of latitudes (2.5 degree grid spacing)\n",
    "* 144 is the number of longitudes (2.5 degree grid spacing)"
   ]
  },
  {
   "cell_type": "code",
   "execution_count": null,
   "metadata": {},
   "outputs": [],
   "source": [
    "# import importlib\n",
    "import importlib\n",
    "\n",
    "# Import the function again so as not to have to restart the kernel\n",
    "importlib.reload(sys.modules[\"nao_alt_lag_functions\"])\n",
    "\n",
    "# import the functions\n",
    "from nao_alt_lag_functions import *"
   ]
  },
  {
   "cell_type": "code",
   "execution_count": null,
   "metadata": {},
   "outputs": [],
   "source": [
    "# # Test the other new function\n",
    "# nao_stats_raw = nao_lag_func.calc_nao_stats(\n",
    "#     data=raw_psl,\n",
    "#     season=season,\n",
    "#     forecast_range=forecast_range,\n",
    "#     start_year=start_year,\n",
    "#     end_year=end_year,\n",
    "#     lag=lag,\n",
    "#     alt_lag=False,\n",
    "#     nao_matched=False,\n",
    "#     winter_nao_n_grid=dicts.iceland_grid_corrected,\n",
    "#     winter_nao_s_grid=dicts.azores_grid_corrected,\n",
    "# )"
   ]
  },
  {
   "cell_type": "code",
   "execution_count": null,
   "metadata": {},
   "outputs": [],
   "source": [
    "# Test the other new function\n",
    "nao_stats_lag = nao_lag_func.calc_nao_stats(\n",
    "    data=alt_lag_psl,\n",
    "    season=season,\n",
    "    forecast_range=forecast_range,\n",
    "    start_year=start_year,\n",
    "    end_year=end_year,\n",
    "    lag=lag,\n",
    "    alt_lag=True,\n",
    "    nao_matched=False,\n",
    "    winter_nao_n_grid=dicts.uk_n_box_corrected,\n",
    "    winter_nao_s_grid=dicts.uk_s_box_corrected,\n",
    ")"
   ]
  },
  {
   "cell_type": "code",
   "execution_count": null,
   "metadata": {},
   "outputs": [],
   "source": [
    "import importlib\n",
    "\n",
    "# reload the functions\n",
    "importlib.reload(sys.modules[\"nao_alt_lag_functions\"])\n",
    "\n",
    "# import the functions\n",
    "import nao_alt_lag_functions as nao_lag_func"
   ]
  },
  {
   "cell_type": "code",
   "execution_count": null,
   "metadata": {},
   "outputs": [],
   "source": [
    "# # Set up the dataframe\n",
    "# nao_stats_df = nao_lag_func.create_nao_stats_df(\n",
    "#     nao_stats=nao_stats_lag,\n",
    "#     season=season,\n",
    "#     forecast_range=forecast_range,\n",
    "#     start_year=start_year,\n",
    "#     end_year=end_year,\n",
    "#     lag=lag,\n",
    "#     alt_lag=alt_lag,\n",
    "#     nao_type=\"default\",\n",
    "# )"
   ]
  },
  {
   "cell_type": "code",
   "execution_count": null,
   "metadata": {},
   "outputs": [],
   "source": [
    "# nao_stats_df.head()"
   ]
  },
  {
   "cell_type": "code",
   "execution_count": null,
   "metadata": {},
   "outputs": [],
   "source": [
    "# plot the nao\n",
    "nao_lag_func.plot_nao(\n",
    "    nao_stats=nao_stats_hist,\n",
    "    season=season,\n",
    "    forecast_range=forecast_range,\n",
    "    lag=lag,\n",
    "    alt_lag=True,\n",
    "    figsize_x=12,\n",
    "    figsize_y=6,\n",
    ")"
   ]
  },
  {
   "cell_type": "code",
   "execution_count": null,
   "metadata": {},
   "outputs": [],
   "source": [
    "# # Plot the NAO\n",
    "# nao_lag_func.plot_nao_subplots(\n",
    "#     nao_stats_1=nao_stats_raw,\n",
    "#     nao_stats_2=nao_stats_lag,\n",
    "#     method_1=\"Raw ensemble\",\n",
    "#     method_2=\"Variance adjusted and lagged\",\n",
    "#     season=season,\n",
    "#     forecast_range=forecast_range,\n",
    "#     lag=lag,\n",
    "#     figsize_x_px=1800,\n",
    "#     figsize_y_px=500,\n",
    "#     dpi=100,\n",
    "#     fontsize=12,\n",
    "#     save_dpi=600,\n",
    "#     fig_labels=[\"a\", \"b\"],\n",
    "# )"
   ]
  },
  {
   "cell_type": "code",
   "execution_count": null,
   "metadata": {},
   "outputs": [],
   "source": [
    "# how could we break this down into individual models? - does depresys have second winter skill?\n",
    "# do november init models have second winter skill?"
   ]
  }
 ],
 "metadata": {
  "kernelspec": {
   "display_name": "Python 3",
   "language": "python",
   "name": "python3"
  },
  "language_info": {
   "codemirror_mode": {
    "name": "ipython",
    "version": 3
   },
   "file_extension": ".py",
   "mimetype": "text/x-python",
   "name": "python",
   "nbconvert_exporter": "python",
   "pygments_lexer": "ipython3",
   "version": "3.10.8"
  }
 },
 "nbformat": 4,
 "nbformat_minor": 2
}
