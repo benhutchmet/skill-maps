{
 "cells": [
  {
   "cell_type": "markdown",
   "metadata": {},
   "source": [
    "### Plotting NAO data ###\n",
    "\n",
    "Plotting the NAO for the processed raw and alt_lagged data for the different forecast ranges and different summer and winter NAO."
   ]
  },
  {
   "cell_type": "code",
   "execution_count": 1,
   "metadata": {},
   "outputs": [],
   "source": [
    "# Import relevant libraries\n",
    "import os\n",
    "import sys\n",
    "import glob\n",
    "import re\n",
    "\n",
    "# Third-party libraries\n",
    "import numpy as np\n",
    "import pandas as pd\n",
    "import xarray as xr\n",
    "import matplotlib.pyplot as plt"
   ]
  },
  {
   "cell_type": "code",
   "execution_count": 2,
   "metadata": {},
   "outputs": [
    {
     "name": "stderr",
     "output_type": "stream",
     "text": [
      "ERROR 1: PROJ: proj_create_from_database: Open of /apps/jasmin/jaspy/mambaforge_envs/jaspy3.10/mf-22.11.1-4/envs/jaspy3.10-mf-22.11.1-4-r20230718/share/proj failed\n"
     ]
    }
   ],
   "source": [
    "# Import local modules\n",
    "import functions as func\n",
    "import nao_skill_functions as nao_func\n",
    "import nao_alt_lag_functions as nao_lag_func\n",
    "\n",
    "# Import dictionaries\n",
    "sys.path.append(\"/home/users/benhutch/skill-maps\")\n",
    "import dictionaries as dicts\n",
    "\n",
    "# Import the functions from the rose-suite-matching repository\n",
    "sys.path.append(\"/home/users/benhutch/skill-maps/rose-suite-matching\")\n",
    "import nao_matching_seasons as nms_func"
   ]
  },
  {
   "cell_type": "code",
   "execution_count": 3,
   "metadata": {},
   "outputs": [],
   "source": [
    "# Set up the variables\n",
    "season = \"ONDJFM\"\n",
    "forecast_range = \"2-9\"\n",
    "start_year = 1961\n",
    "end_year = 2014\n",
    "lag = 4\n",
    "alt_lag = False"
   ]
  },
  {
   "cell_type": "code",
   "execution_count": 4,
   "metadata": {},
   "outputs": [],
   "source": [
    "# # load the hist data\n",
    "# hist_data_lag = nao_lag_func.load_hist_data(\n",
    "#     season=\"ONDJFM\",\n",
    "#     lag_period=True,\n",
    "#     lagged_data=True,\n",
    "#     lag=4,\n",
    "# )"
   ]
  },
  {
   "cell_type": "code",
   "execution_count": 5,
   "metadata": {},
   "outputs": [],
   "source": [
    "# # Test the other new function for hist\n",
    "# nao_stats_hist = nao_lag_func.calc_nao_stats(\n",
    "#     data=np.zeros_like(hist_data_lag),\n",
    "#     season=season,\n",
    "#     forecast_range=forecast_range,\n",
    "#     start_year=start_year,\n",
    "#     end_year=end_year,\n",
    "#     lag=lag,\n",
    "#     hist_data=hist_data_lag,\n",
    "# )"
   ]
  },
  {
   "cell_type": "code",
   "execution_count": 6,
   "metadata": {},
   "outputs": [],
   "source": [
    "# # Load the raw data for this variable\n",
    "# raw_psl = nao_lag_func.load_data(\n",
    "#     season=season,\n",
    "#     forecast_range=forecast_range,\n",
    "#     start_year=start_year,\n",
    "#     end_year=end_year,\n",
    "#     lag=lag,\n",
    "#     method=\"new_raw\",\n",
    "#     data_dir=\"/gws/nopw/j04/canari/users/benhutch/alternate-lag-processed-data/\",\n",
    "# )"
   ]
  },
  {
   "cell_type": "code",
   "execution_count": 7,
   "metadata": {},
   "outputs": [
    {
     "name": "stdout",
     "output_type": "stream",
     "text": [
      "More than one file found\n",
      "Using the latest datetime file: /gws/nopw/j04/canari/users/benhutch/alternate-lag-processed-data/psl_ONDJFM_global_1961_2014_2-9_4_1708533939.5692165.npy\n"
     ]
    },
    {
     "name": "stderr",
     "output_type": "stream",
     "text": [
      "/home/users/benhutch/skill-maps/python/nao_alt_lag_functions.py:221: FutureWarning: The behavior of 'to_datetime' with 'unit' when parsing strings is deprecated. In a future version, strings will be parsed as datetime strings, matching the behavior without a 'unit'. To retain the old behavior, explicitly cast ints or floats to numeric type before calling to_datetime.\n",
      "  datetimes = [pd.to_datetime(datetime, unit=\"s\") for datetime in datetimes]\n"
     ]
    },
    {
     "name": "stdout",
     "output_type": "stream",
     "text": [
      "Shape of the data: (54, 178, 9, 72, 144)\n"
     ]
    }
   ],
   "source": [
    "# Load the raw data for the alternate lag\n",
    "alt_lag_psl = nao_lag_func.load_data(\n",
    "    season=season,\n",
    "    forecast_range=forecast_range,\n",
    "    start_year=start_year,\n",
    "    end_year=end_year,\n",
    "    lag=lag,\n",
    "    method=\"new_raw\",\n",
    "    data_dir=\"/gws/nopw/j04/canari/users/benhutch/alternate-lag-processed-data/\",\n",
    ")"
   ]
  },
  {
   "cell_type": "markdown",
   "metadata": {},
   "source": [
    "### Data dimensions ###\n",
    "\n",
    "In the case of the raw data, the dimensions will be something like:\n",
    "\n",
    "(54, 178, 9, 72, 144)\n",
    "\n",
    "* 54 is the number of time steps (e.g. from 1961 to 2014)\n",
    "* 178 is the number of ensemble members (e.g. from the full CMIP6 ensemble)\n",
    "* 9 is the number of forecast years (e.g. for s1960, from 1960 to 1970)\n",
    "* 72 is the number of latitudes (2.5 degree grid spacing)\n",
    "* 144 is the number of longitudes (2.5 degree grid spacing)\n",
    "\n",
    "In the case of the alternative lagged (/lagged) data, the dimensions will be something like:\n",
    "\n",
    "(51, 712, 72, 144)\n",
    "\n",
    "* 51 is the number of time steps (e.g. from 1964 to 2014)\n",
    "* 712 is the number of lagged ensemble members (e.g. from the full lagged CMIP6 ensemble)\n",
    "* 72 is the number of latitudes (2.5 degree grid spacing)\n",
    "* 144 is the number of longitudes (2.5 degree grid spacing)"
   ]
  },
  {
   "cell_type": "code",
   "execution_count": 8,
   "metadata": {},
   "outputs": [],
   "source": [
    "# import importlib\n",
    "import importlib\n",
    "\n",
    "# Import the function again so as not to have to restart the kernel\n",
    "importlib.reload(sys.modules[\"nao_alt_lag_functions\"])\n",
    "\n",
    "# import the functions\n",
    "from nao_alt_lag_functions import *"
   ]
  },
  {
   "cell_type": "code",
   "execution_count": 9,
   "metadata": {},
   "outputs": [],
   "source": [
    "# # Test the other new function\n",
    "# nao_stats_raw = nao_lag_func.calc_nao_stats(\n",
    "#     data=raw_psl,\n",
    "#     season=season,\n",
    "#     forecast_range=forecast_range,\n",
    "#     start_year=start_year,\n",
    "#     end_year=end_year,\n",
    "#     lag=lag,\n",
    "#     alt_lag=False,\n",
    "#     nao_matched=False,\n",
    "#     winter_nao_n_grid=dicts.iceland_grid_corrected,\n",
    "#     winter_nao_s_grid=dicts.azores_grid_corrected,\n",
    "# )"
   ]
  },
  {
   "cell_type": "code",
   "execution_count": 10,
   "metadata": {},
   "outputs": [
    {
     "name": "stdout",
     "output_type": "stream",
     "text": [
      "Using standard NAO definition\n",
      "Forecast range obs: 2-9\n"
     ]
    },
    {
     "name": "stderr",
     "output_type": "stream",
     "text": [
      "/home/users/benhutch/.local/lib/python3.10/site-packages/iris/coords.py:2237: UserWarning: Cannot check if coordinate is contiguous: Invalid operation for 'time', with 0 bound(s). Contiguous bounds are only defined for 1D coordinates with 2 bounds. Metadata may not be fully descriptive for 'time'. Ignoring bounds.\n",
      "  warnings.warn(msg.format(str(exc), self.name()))\n"
     ]
    },
    {
     "name": "stdout",
     "output_type": "stream",
     "text": [
      "Time dimension of obs: ['1960-12-31T00:00:00.000000000' '1961-12-31T00:00:00.000000000'\n",
      " '1962-12-31T00:00:00.000000000' '1963-12-31T00:00:00.000000000'\n",
      " '1964-12-31T00:00:00.000000000' '1965-12-31T00:00:00.000000000'\n",
      " '1966-12-31T00:00:00.000000000' '1967-12-31T00:00:00.000000000'\n",
      " '1968-12-31T00:00:00.000000000' '1969-12-31T00:00:00.000000000'\n",
      " '1970-12-31T00:00:00.000000000' '1971-12-31T00:00:00.000000000'\n",
      " '1972-12-31T00:00:00.000000000' '1973-12-31T00:00:00.000000000'\n",
      " '1974-12-31T00:00:00.000000000' '1975-12-31T00:00:00.000000000'\n",
      " '1976-12-31T00:00:00.000000000' '1977-12-31T00:00:00.000000000'\n",
      " '1978-12-31T00:00:00.000000000' '1979-12-31T00:00:00.000000000'\n",
      " '1980-12-31T00:00:00.000000000' '1981-12-31T00:00:00.000000000'\n",
      " '1982-12-31T00:00:00.000000000' '1983-12-31T00:00:00.000000000'\n",
      " '1984-12-31T00:00:00.000000000' '1985-12-31T00:00:00.000000000'\n",
      " '1986-12-31T00:00:00.000000000' '1987-12-31T00:00:00.000000000'\n",
      " '1988-12-31T00:00:00.000000000' '1989-12-31T00:00:00.000000000'\n",
      " '1990-12-31T00:00:00.000000000' '1991-12-31T00:00:00.000000000'\n",
      " '1992-12-31T00:00:00.000000000' '1993-12-31T00:00:00.000000000'\n",
      " '1994-12-31T00:00:00.000000000' '1995-12-31T00:00:00.000000000'\n",
      " '1996-12-31T00:00:00.000000000' '1997-12-31T00:00:00.000000000'\n",
      " '1998-12-31T00:00:00.000000000' '1999-12-31T00:00:00.000000000'\n",
      " '2000-12-31T00:00:00.000000000' '2001-12-31T00:00:00.000000000'\n",
      " '2002-12-31T00:00:00.000000000' '2003-12-31T00:00:00.000000000'\n",
      " '2004-12-31T00:00:00.000000000' '2005-12-31T00:00:00.000000000'\n",
      " '2006-12-31T00:00:00.000000000' '2007-12-31T00:00:00.000000000'\n",
      " '2008-12-31T00:00:00.000000000' '2009-12-31T00:00:00.000000000'\n",
      " '2010-12-31T00:00:00.000000000' '2011-12-31T00:00:00.000000000'\n",
      " '2012-12-31T00:00:00.000000000' '2013-12-31T00:00:00.000000000'\n",
      " '2014-12-31T00:00:00.000000000' '2015-12-31T00:00:00.000000000'\n",
      " '2016-12-31T00:00:00.000000000' '2017-12-31T00:00:00.000000000'\n",
      " '2018-12-31T00:00:00.000000000' '2019-12-31T00:00:00.000000000'\n",
      " '2020-12-31T00:00:00.000000000' '2021-12-31T00:00:00.000000000'\n",
      " '2022-12-31T00:00:00.000000000' '2023-12-31T00:00:00.000000000']\n",
      "data shape (54, 178, 9, 72, 144)\n",
      "len data 54\n",
      "Processing the raw data\n",
      "Raw first year: 1966\n",
      "Raw last year: 2019\n",
      "Shape of the obs_nao: (54,)\n",
      "Shape of the data: (178, 54, 9, 72, 144)\n",
      "Shape of the 2nd axis: 9\n",
      "Shape of the data: (178, 54, 72, 144)\n",
      "Shape of the model data: (178, 54, 72, 144)\n",
      "shape of the observed data: (54,)\n",
      "Shape of the model nao: (178, 54)\n"
     ]
    }
   ],
   "source": [
    "# Test the other new function\n",
    "nao_stats_lag = nao_lag_func.calc_nao_stats(\n",
    "    data=alt_lag_psl,\n",
    "    season=season,\n",
    "    forecast_range=forecast_range,\n",
    "    start_year=start_year,\n",
    "    end_year=end_year,\n",
    "    lag=lag,\n",
    "    alt_lag=False,\n",
    "    nao_matched=False,\n",
    ")"
   ]
  },
  {
   "cell_type": "code",
   "execution_count": 11,
   "metadata": {},
   "outputs": [
    {
     "data": {
      "text/plain": [
       "(54,)"
      ]
     },
     "execution_count": 11,
     "metadata": {},
     "output_type": "execute_result"
    }
   ],
   "source": [
    "nao_stats_lag['obs_nao'].shape"
   ]
  },
  {
   "cell_type": "code",
   "execution_count": 12,
   "metadata": {},
   "outputs": [
    {
     "data": {
      "text/plain": [
       "(178, 54)"
      ]
     },
     "execution_count": 12,
     "metadata": {},
     "output_type": "execute_result"
    }
   ],
   "source": [
    "nao_stats_lag['model_nao_members'].shape"
   ]
  },
  {
   "cell_type": "code",
   "execution_count": 13,
   "metadata": {},
   "outputs": [
    {
     "name": "stderr",
     "output_type": "stream",
     "text": [
      "  0%|          | 0/1000 [00:00<?, ?it/s]/home/users/benhutch/skill-maps/python/nao_alt_lag_functions.py:1788: RuntimeWarning: invalid value encountered in scalar divide\n",
      "  r_partial_boot[iboot] = (r1o-r12*r2o)/np.sqrt(denom_sq)\n",
      "100%|██████████| 1000/1000 [00:06<00:00, 157.53it/s]\n"
     ]
    }
   ],
   "source": [
    "# Test the bootstrapping function\n",
    "fcsts_stats = nao_lag_func.fcsts_assess(\n",
    "    obs=nao_stats_lag['obs_nao'],\n",
    "    fcst1=nao_stats_lag['model_nao_members'],\n",
    "    fcst2=nao_stats_lag['model_nao_members'],\n",
    "    nboot=1000,\n",
    ")"
   ]
  },
  {
   "cell_type": "code",
   "execution_count": 14,
   "metadata": {},
   "outputs": [
    {
     "data": {
      "text/plain": [
       "dict_keys(['corr1', 'corr1_min', 'corr1_max', 'corr1_p', 'corr2', 'corr2_min', 'corr2_max', 'corr2_p', 'corr10', 'corr10_min', 'corr10_max', 'corr10_p', 'msss1', 'msss1_min', 'msss1_max', 'msss1_p', 'corr12', 'corr12_min', 'corr12_max', 'corr12_p', 'rpc1', 'rpc1_min', 'rpc1_max', 'rpc1_p', 'rpc2', 'rpc2_min', 'rpc2_max', 'rpc2_p', 'corr_diff', 'corr_diff_min', 'corr_diff_max', 'corr_diff_p', 'partialr', 'partialr_min', 'partialr_max', 'partialr_p', 'partialr_bias', 'obs_resid', 'fcst1_em_resid'])"
      ]
     },
     "execution_count": 14,
     "metadata": {},
     "output_type": "execute_result"
    }
   ],
   "source": [
    "fcsts_stats.keys()"
   ]
  },
  {
   "cell_type": "code",
   "execution_count": 15,
   "metadata": {},
   "outputs": [
    {
     "data": {
      "text/plain": [
       "{'corr1': 0.5389216590830584,\n",
       " 'corr1_min': 0.17664189781180012,\n",
       " 'corr1_max': 0.6086322671781391,\n",
       " 'corr1_p': 0.003,\n",
       " 'corr2': 0.5389216590830584,\n",
       " 'corr2_min': 0.1716310285041078,\n",
       " 'corr2_max': 0.6215720980607,\n",
       " 'corr2_p': 0.002,\n",
       " 'corr10': 0.16628065185498653,\n",
       " 'corr10_min': -0.10623218077874198,\n",
       " 'corr10_max': 0.4506590185852719,\n",
       " 'corr10_p': 0.19,\n",
       " 'msss1': 0.0522647220938387,\n",
       " 'msss1_min': -0.4330889272920468,\n",
       " 'msss1_max': 0.09637729183272513,\n",
       " 'msss1_p': 0.488,\n",
       " 'corr12': 1.0,\n",
       " 'corr12_min': 0.4627608600339829,\n",
       " 'corr12_max': 0.8109596938255491,\n",
       " 'corr12_p': 0.0,\n",
       " 'rpc1': 4.972344102336881,\n",
       " 'rpc1_min': 1.4126448612195122,\n",
       " 'rpc1_max': 4.921446808923528,\n",
       " 'rpc1_p': 0.025,\n",
       " 'rpc2': 4.972344102336881,\n",
       " 'rpc2_min': 1.4123679770006081,\n",
       " 'rpc2_max': 5.040326714424117,\n",
       " 'rpc2_p': 0.022,\n",
       " 'corr_diff': 0.0,\n",
       " 'corr_diff_min': -0.2139442816448514,\n",
       " 'corr_diff_max': 0.21646839873540105,\n",
       " 'corr_diff_p': 0.487,\n",
       " 'partialr': nan,\n",
       " 'partialr_min': nan,\n",
       " 'partialr_max': nan,\n",
       " 'partialr_p': 0.32,\n",
       " 'partialr_bias': 0.12270891671334068,\n",
       " 'obs_resid': array([-6.59874412e+02, -5.02272999e+02, -1.91252478e+02, -3.77446557e+01,\n",
       "        -1.76606980e+02, -7.55520441e+01, -1.01163187e+02,  2.86235638e+02,\n",
       "        -1.52308359e+02,  1.16187843e+02,  1.31160962e+02, -2.19381252e+02,\n",
       "        -9.57581979e+01,  1.93946957e+02,  1.68169692e+02, -4.64442276e+01,\n",
       "         1.27206387e+02,  3.02459931e+02,  2.05834799e+01,  4.35464371e+01,\n",
       "         3.18843783e+02,  1.71337983e+02, -9.19557493e+01,  2.55761200e+02,\n",
       "         4.68578477e+02,  3.61657271e+02,  1.53531472e+02,  2.43717236e+02,\n",
       "         1.59225363e+02,  1.24207710e+02,  2.08061054e+02,  4.89869176e+01,\n",
       "         2.59184560e+01, -1.13209294e+02, -4.11988379e+01, -4.65346190e+01,\n",
       "        -7.10333871e+01, -2.00285149e+02, -8.11694128e+01, -5.45245967e+01,\n",
       "        -5.18751833e-01, -1.75525326e+02, -1.19724757e+02, -1.82187868e+02,\n",
       "        -5.74603645e+01,  2.61301571e+01,  3.08022536e+01,  5.10864081e+00,\n",
       "         3.13521290e+02,  3.48802012e+02,  2.46337634e+02,  3.65583133e+02,\n",
       "         2.13243819e+02,  1.07927901e+02]),\n",
       " 'fcst1_em_resid': array([ 0.00000000e+00,  1.77635684e-15,  0.00000000e+00,  0.00000000e+00,\n",
       "         0.00000000e+00,  0.00000000e+00,  0.00000000e+00,  0.00000000e+00,\n",
       "         0.00000000e+00, -1.77635684e-15,  0.00000000e+00,  1.77635684e-15,\n",
       "         0.00000000e+00,  0.00000000e+00,  0.00000000e+00,  0.00000000e+00,\n",
       "         0.00000000e+00,  0.00000000e+00,  0.00000000e+00,  0.00000000e+00,\n",
       "         0.00000000e+00,  0.00000000e+00,  0.00000000e+00,  0.00000000e+00,\n",
       "         0.00000000e+00,  0.00000000e+00,  0.00000000e+00,  0.00000000e+00,\n",
       "         4.44089210e-16,  0.00000000e+00,  0.00000000e+00,  0.00000000e+00,\n",
       "         0.00000000e+00,  0.00000000e+00,  8.88178420e-16,  0.00000000e+00,\n",
       "         8.88178420e-16,  0.00000000e+00,  0.00000000e+00,  0.00000000e+00,\n",
       "         0.00000000e+00,  0.00000000e+00,  0.00000000e+00,  4.44089210e-16,\n",
       "         0.00000000e+00,  0.00000000e+00,  0.00000000e+00,  0.00000000e+00,\n",
       "         0.00000000e+00,  0.00000000e+00,  0.00000000e+00,  0.00000000e+00,\n",
       "         0.00000000e+00,  0.00000000e+00])}"
      ]
     },
     "execution_count": 15,
     "metadata": {},
     "output_type": "execute_result"
    }
   ],
   "source": [
    "fcsts_stats"
   ]
  },
  {
   "cell_type": "code",
   "execution_count": 11,
   "metadata": {},
   "outputs": [],
   "source": [
    "import importlib\n",
    "\n",
    "# reload the functions\n",
    "importlib.reload(sys.modules[\"nao_alt_lag_functions\"])\n",
    "\n",
    "# import the functions\n",
    "import nao_alt_lag_functions as nao_lag_func"
   ]
  },
  {
   "cell_type": "code",
   "execution_count": 15,
   "metadata": {},
   "outputs": [
    {
     "name": "stdout",
     "output_type": "stream",
     "text": [
      "\n",
      "    Length of init_years: 51\n",
      "    Length of valid_years: 51\n",
      "    Length of obs_nao: 51\n",
      "    Length of model_nao_mean: 51\n",
      "    Length of model_nao_members_min: 51\n",
      "    Length of model_nao_members_max: 51\n",
      "    \n",
      "Dataframe saved to /gws/nopw/j04/canari/users/benhutch/nao_stats_df/psl_ONDJFM_global_1961_2014_2-9_4_thornton_2019.csv\n"
     ]
    }
   ],
   "source": [
    "# Set up the dataframe\n",
    "nao_stats_df = nao_lag_func.create_nao_stats_df(\n",
    "    nao_stats=nao_stats_lag,\n",
    "    season=season,\n",
    "    forecast_range=forecast_range,\n",
    "    start_year=start_year,\n",
    "    end_year=end_year,\n",
    "    lag=4,\n",
    "    alt_lag=True,\n",
    "    nao_type=\"thornton_2019\",\n",
    ")"
   ]
  },
  {
   "cell_type": "code",
   "execution_count": 13,
   "metadata": {},
   "outputs": [],
   "source": [
    "# nao_stats_df.head()"
   ]
  },
  {
   "cell_type": "code",
   "execution_count": 14,
   "metadata": {},
   "outputs": [
    {
     "data": {
      "image/png": "[encoded data removed]",
      "text/plain": [
       "<Figure size 1000x500 with 1 Axes>"
      ]
     },
     "metadata": {},
     "output_type": "display_data"
    }
   ],
   "source": [
    "# plot the nao\n",
    "nao_lag_func.plot_nao(\n",
    "    nao_stats=nao_stats_lag,\n",
    "    season=season,\n",
    "    forecast_range=forecast_range,\n",
    "    lag=lag,\n",
    "    alt_lag=True,\n",
    "    figsize_x=10,\n",
    "    figsize_y=5,\n",
    "    ylim_min=-5,\n",
    "    ylim_max=5,\n",
    "    title=\"Observed delta P (black) and \\n dcpp-A delta P (red)\",\n",
    "    ylabel=\"delta P index anomaly (hPa)\",\n",
    "    label=\"b\",\n",
    "    fontsize=10,\n",
    ")"
   ]
  },
  {
   "cell_type": "code",
   "execution_count": null,
   "metadata": {},
   "outputs": [],
   "source": [
    "# # Plot the NAO\n",
    "# nao_lag_func.plot_nao_subplots(\n",
    "#     nao_stats_1=nao_stats_raw,\n",
    "#     nao_stats_2=nao_stats_lag,\n",
    "#     method_1=\"Raw ensemble\",\n",
    "#     method_2=\"Variance adjusted and lagged\",\n",
    "#     season=season,\n",
    "#     forecast_range=forecast_range,\n",
    "#     lag=lag,\n",
    "#     figsize_x_px=1800,\n",
    "#     figsize_y_px=500,\n",
    "#     dpi=100,\n",
    "#     fontsize=12,\n",
    "#     save_dpi=600,\n",
    "#     fig_labels=[\"a\", \"b\"],\n",
    "# )"
   ]
  },
  {
   "cell_type": "code",
   "execution_count": null,
   "metadata": {},
   "outputs": [],
   "source": [
    "# how could we break this down into individual models? - does depresys have second winter skill?\n",
    "# do november init models have second winter skill?"
   ]
  }
 ],
 "metadata": {
  "kernelspec": {
   "display_name": "Python 3",
   "language": "python",
   "name": "python3"
  },
  "language_info": {
   "codemirror_mode": {
    "name": "ipython",
    "version": 3
   },
   "file_extension": ".py",
   "mimetype": "text/x-python",
   "name": "python",
   "nbconvert_exporter": "python",
   "pygments_lexer": "ipython3",
   "version": "3.10.8"
  }
 },
 "nbformat": 4,
 "nbformat_minor": 2
}
