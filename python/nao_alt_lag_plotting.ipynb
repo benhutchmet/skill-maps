{
 "cells": [
  {
   "cell_type": "markdown",
   "metadata": {},
   "source": [
    "### Plotting NAO data ###\n",
    "\n",
    "Plotting the NAO for the processed raw and alt_lagged data for the different forecast ranges and different summer and winter NAO."
   ]
  },
  {
   "cell_type": "code",
   "execution_count": 1,
   "metadata": {},
   "outputs": [],
   "source": [
    "# Import relevant libraries\n",
    "import os\n",
    "import sys\n",
    "import glob\n",
    "import re\n",
    "\n",
    "# Third-party libraries\n",
    "import numpy as np\n",
    "import pandas as pd\n",
    "import xarray as xr\n",
    "import matplotlib.pyplot as plt"
   ]
  },
  {
   "cell_type": "code",
   "execution_count": 2,
   "metadata": {},
   "outputs": [],
   "source": [
    "# Import local modules\n",
    "import functions as func\n",
    "import nao_skill_functions as nao_func\n",
    "import nao_alt_lag_functions as nao_lag_func\n",
    "\n",
    "# Import dictionaries\n",
    "sys.path.append('/home/users/benhutch/skill-maps')\n",
    "import dictionaries as dict\n",
    "\n",
    "# Import the functions from the rose-suite-matching repository\n",
    "sys.path.append('/home/users/benhutch/skill-maps/rose-suite-matching')\n",
    "import nao_matching_seasons as nms_func"
   ]
  },
  {
   "cell_type": "code",
   "execution_count": 3,
   "metadata": {},
   "outputs": [],
   "source": [
    "# Set up the variables\n",
    "season = \"DJFM\"\n",
    "forecast_range = \"2-3\"\n",
    "start_year = 1961\n",
    "end_year = 2014\n",
    "lag = 4"
   ]
  },
  {
   "cell_type": "code",
   "execution_count": 4,
   "metadata": {},
   "outputs": [
    {
     "name": "stdout",
     "output_type": "stream",
     "text": [
      "More than one file found\n",
      "Using the latest datetime file: /gws/nopw/j04/canari/users/benhutch/alternate-lag-processed-data/psl_DJFM_global_1961_2014_2-3_4_1706785429.0699768.npy\n",
      "Shape of the data: (54, 178, 9, 72, 144)\n"
     ]
    }
   ],
   "source": [
    "# Load the raw data for this variable\n",
    "raw_psl = nao_lag_func.load_data(season=season,\n",
    "                                  forecast_range=forecast_range,\n",
    "                                  start_year=start_year,\n",
    "                                  end_year=end_year,\n",
    "                                  lag=lag,\n",
    "                                  alt_lag=False,)"
   ]
  },
  {
   "cell_type": "markdown",
   "metadata": {},
   "source": [
    "### Data dimensions ###\n",
    "\n",
    "In the case of the raw data, the dimensions will be something like:\n",
    "\n",
    "(54, 178, 9, 72, 144)\n",
    "\n",
    "* 54 is the number of time steps (e.g. from 1961 to 2014)\n",
    "* 178 is the number of ensemble members (e.g. from the full CMIP6 ensemble)\n",
    "* 9 is the number of forecast years (e.g. for s1960, from 1960 to 1970)\n",
    "* 72 is the number of latitudes (2.5 degree grid spacing)\n",
    "* 144 is the number of longitudes (2.5 degree grid spacing)\n",
    "\n",
    "In the case of the alternative lagged (/lagged) data, the dimensions will be something like:\n",
    "\n",
    "(51, 712, 72, 144)\n",
    "\n",
    "* 51 is the number of time steps (e.g. from 1964 to 2014)\n",
    "* 712 is the number of lagged ensemble members (e.g. from the full lagged CMIP6 ensemble)\n",
    "* 72 is the number of latitudes (2.5 degree grid spacing)\n",
    "* 144 is the number of longitudes (2.5 degree grid spacing)"
   ]
  },
  {
   "cell_type": "code",
   "execution_count": 5,
   "metadata": {},
   "outputs": [
    {
     "name": "stdout",
     "output_type": "stream",
     "text": [
      "More than one file found\n",
      "Using the latest datetime file: /gws/nopw/j04/canari/users/benhutch/alternate-lag-processed-data/psl_DJFM_global_1961_2014_2-3_4_1706785429.0699768.npy\n",
      "Shape of the data: (54, 178, 9, 72, 144)\n"
     ]
    }
   ],
   "source": [
    "# Load the raw data for the alternative lag\n",
    "hindcast_psl = nao_lag_func.load_data(season=season,\n",
    "                                      forecast_range=forecast_range,\n",
    "                                      start_year=start_year,\n",
    "                                      end_year=end_year,\n",
    "                                      lag=lag,\n",
    "                                      alt_lag=False,)"
   ]
  },
  {
   "cell_type": "code",
   "execution_count": 12,
   "metadata": {},
   "outputs": [],
   "source": [
    "# import importlib\n",
    "import importlib\n",
    "\n",
    "# Import the function again so as not to have to restart the kernel\n",
    "importlib.reload(sys.modules['nao_alt_lag_functions'])\n",
    "\n",
    "# import the functions\n",
    "from nao_alt_lag_functions import *"
   ]
  },
  {
   "cell_type": "code",
   "execution_count": 13,
   "metadata": {},
   "outputs": [
    {
     "name": "stdout",
     "output_type": "stream",
     "text": [
      "Using standard NAO definition\n"
     ]
    },
    {
     "name": "stderr",
     "output_type": "stream",
     "text": [
      "/apps/jasmin/jaspy/miniconda_envs/jaspy3.10/m3-4.9.2/envs/jaspy3.10-m3-4.9.2-r20220721/lib/python3.10/site-packages/iris/coords.py:2220: UserWarning: Collapsing a non-contiguous coordinate. Metadata may not be fully descriptive for 'time'.\n",
      "  warnings.warn(msg.format(self.name()))\n"
     ]
    },
    {
     "name": "stdout",
     "output_type": "stream",
     "text": [
      "Time dimension of obs: ['1960-12-31T00:00:00.000000000' '1961-12-31T00:00:00.000000000'\n",
      " '1962-12-31T00:00:00.000000000' '1963-12-31T00:00:00.000000000'\n",
      " '1964-12-31T00:00:00.000000000' '1965-12-31T00:00:00.000000000'\n",
      " '1966-12-31T00:00:00.000000000' '1967-12-31T00:00:00.000000000'\n",
      " '1968-12-31T00:00:00.000000000' '1969-12-31T00:00:00.000000000'\n",
      " '1970-12-31T00:00:00.000000000' '1971-12-31T00:00:00.000000000'\n",
      " '1972-12-31T00:00:00.000000000' '1973-12-31T00:00:00.000000000'\n",
      " '1974-12-31T00:00:00.000000000' '1975-12-31T00:00:00.000000000'\n",
      " '1976-12-31T00:00:00.000000000' '1977-12-31T00:00:00.000000000'\n",
      " '1978-12-31T00:00:00.000000000' '1979-12-31T00:00:00.000000000'\n",
      " '1980-12-31T00:00:00.000000000' '1981-12-31T00:00:00.000000000'\n",
      " '1982-12-31T00:00:00.000000000' '1983-12-31T00:00:00.000000000'\n",
      " '1984-12-31T00:00:00.000000000' '1985-12-31T00:00:00.000000000'\n",
      " '1986-12-31T00:00:00.000000000' '1987-12-31T00:00:00.000000000'\n",
      " '1988-12-31T00:00:00.000000000' '1989-12-31T00:00:00.000000000'\n",
      " '1990-12-31T00:00:00.000000000' '1991-12-31T00:00:00.000000000'\n",
      " '1992-12-31T00:00:00.000000000' '1993-12-31T00:00:00.000000000'\n",
      " '1994-12-31T00:00:00.000000000' '1995-12-31T00:00:00.000000000'\n",
      " '1996-12-31T00:00:00.000000000' '1997-12-31T00:00:00.000000000'\n",
      " '1998-12-31T00:00:00.000000000' '1999-12-31T00:00:00.000000000'\n",
      " '2000-12-31T00:00:00.000000000' '2001-12-31T00:00:00.000000000'\n",
      " '2002-12-31T00:00:00.000000000' '2003-12-31T00:00:00.000000000'\n",
      " '2004-12-31T00:00:00.000000000' '2005-12-31T00:00:00.000000000'\n",
      " '2006-12-31T00:00:00.000000000' '2007-12-31T00:00:00.000000000'\n",
      " '2008-12-31T00:00:00.000000000' '2009-12-31T00:00:00.000000000'\n",
      " '2010-12-31T00:00:00.000000000' '2011-12-31T00:00:00.000000000'\n",
      " '2012-12-31T00:00:00.000000000' '2013-12-31T00:00:00.000000000'\n",
      " '2014-12-31T00:00:00.000000000' '2015-12-31T00:00:00.000000000'\n",
      " '2016-12-31T00:00:00.000000000' '2017-12-31T00:00:00.000000000'\n",
      " '2018-12-31T00:00:00.000000000' '2019-12-31T00:00:00.000000000'\n",
      " '2020-12-31T00:00:00.000000000' '2021-12-31T00:00:00.000000000'\n",
      " '2022-12-31T00:00:00.000000000' '2023-12-31T00:00:00.000000000']\n",
      "data shape (54, 178, 9, 72, 144)\n",
      "len data 54\n",
      "Processing the raw data\n",
      "Raw first year: 1963\n",
      "Raw last year: 2016\n",
      "Shape of the obs_nao: (54,)\n",
      "Shape of the data: (178, 54, 9, 72, 144)\n",
      "Shape of the model data: (178, 54, 72, 144)\n",
      "shape of the observed data: (54,)\n",
      "Shape of the model nao: (178, 54)\n"
     ]
    }
   ],
   "source": [
    "# Test the other new function\n",
    "nao_stats = nao_lag_func.calc_nao_stats(data=hindcast_psl,\n",
    "                                        season=season,\n",
    "                                        forecast_range=forecast_range,\n",
    "                                        start_year=start_year,\n",
    "                                        end_year=end_year,\n",
    "                                        lag=0,\n",
    "                                        alt_lag=False,\n",
    "                                        )"
   ]
  },
  {
   "cell_type": "code",
   "execution_count": 14,
   "metadata": {},
   "outputs": [
    {
     "name": "stdout",
     "output_type": "stream",
     "text": [
      "{'obs_nao': array([-1256.1571  , -1080.2263  , -1164.7241  ,  -472.65207 ,\n",
      "           3.959549, -1180.1301  , -1277.0947  ,  -512.74207 ,\n",
      "        -102.48291 ,   513.81665 ,   565.6443  ,   270.06604 ,\n",
      "         407.28934 ,  -293.86163 ,  -809.7915  ,  -711.35913 ,\n",
      "        -594.40283 ,    14.419922,    43.514606,   419.3222  ,\n",
      "         725.20825 ,   -62.96    ,  -389.37643 ,  -307.0416  ,\n",
      "        -399.3613  ,   623.6166  ,  1282.9071  ,   686.5044  ,\n",
      "         560.6515  ,   839.6625  ,   931.1673  ,  1041.9651  ,\n",
      "          37.9777  ,  -627.19476 ,  -152.48755 ,   280.73767 ,\n",
      "         759.2278  ,  -102.454346,  -600.73193 ,  -136.73303 ,\n",
      "        -219.1565  ,  -124.405106,  -199.41695 ,   152.41072 ,\n",
      "         694.4708  ,   383.4062  ,  -961.8202  , -1322.834   ,\n",
      "         341.26678 ,    73.80237 ,   -99.327065,  1372.7769  ,\n",
      "        1202.7002  ,   520.7555  ], dtype=float32), 'model_nao_mean': array([  21.87170895,  -46.36442752,  -80.11203476, -154.55325777,\n",
      "         33.40027944,  -57.84025815,   57.04801725, -133.57887699,\n",
      "         86.52229818,  -18.53839793, -103.76396192,  107.63901093,\n",
      "         -7.35311366,  -86.65006437, -100.60069713,  -52.50263855,\n",
      "        -32.25420946,  -83.43394378,    9.06618936,   42.13692247,\n",
      "        -55.77322536,   40.90389418,  155.06894678,    4.44157633,\n",
      "         -3.69650376,    6.98088608,  103.7437116 ,    5.26629543,\n",
      "        -14.95020592,   86.09498661,   48.141599  ,   21.65995801,\n",
      "         60.3029904 ,   73.48019699,   86.24119302,  -34.11716043,\n",
      "        117.53818323,  118.20633924,   17.00936293,  -34.0846698 ,\n",
      "        -63.98852887,   -6.44286085,   72.85051535,   23.30623281,\n",
      "        -72.31554673,   -1.87154034,  -59.96995955,  -32.21433279,\n",
      "         18.05942182,  -83.18177669,   40.24612411,  -59.22731522,\n",
      "         -9.48374883,  -76.06636638]), 'model_nao_members': array([[-228.97161458, -211.85865885,  677.06041667, ..., -340.06523437,\n",
      "         666.57239583,  226.24661458],\n",
      "       [ 443.07356771, -349.52701823,  269.73860677, ...,    4.38958333,\n",
      "         596.9999349 , -808.82096354],\n",
      "       [-105.66321615, -426.18541667, -318.62923177, ...,  140.37825521,\n",
      "          92.54173177, -442.60546875],\n",
      "       ...,\n",
      "       [ 379.95970052,  152.7671875 , -409.72929687, ...,  405.3499349 ,\n",
      "        -291.65625   , -994.16842448],\n",
      "       [ 544.24856771, -289.94010417,   25.97070312, ..., -253.19186198,\n",
      "          52.14863281,   -2.88522135],\n",
      "       [ 163.76510417, -148.31269531,  177.00325521, ...,  403.9514974 ,\n",
      "        -215.18854167, -408.11529948]]), 'model_nao_members_min': array([ -815.85061849,  -878.89601237,  -968.58235352, -1099.27631836,\n",
      "        -813.47807617,  -940.74255534,  -801.44668945,  -969.51841146,\n",
      "        -801.50607096,  -773.48439779,  -966.44375   ,  -674.62688477,\n",
      "        -810.14464193,  -930.05036784,  -886.47192708,  -880.44105143,\n",
      "        -782.4924056 ,  -876.22007487,  -881.03489909,  -818.80060872,\n",
      "        -926.00534505,  -737.54207682,  -652.16763021,  -747.1135612 ,\n",
      "        -835.02775716,  -750.89021159,  -761.34899089,  -843.06326172,\n",
      "        -809.05429688,  -734.77274089,  -811.97792969,  -781.7817513 ,\n",
      "        -730.20891927,  -758.26936523,  -787.36961263,  -841.95381185,\n",
      "        -691.68448893,  -638.84544271,  -765.84046224,  -928.99347982,\n",
      "        -929.67922201,  -830.53744141,  -683.1361556 ,  -659.67493164,\n",
      "        -861.00375651,  -738.38973307,  -857.46501628,  -866.34667969,\n",
      "        -824.76225586,  -861.94197591,  -684.73943685,  -878.43830729,\n",
      "        -827.38903971,  -844.37155273]), 'model_nao_members_max': array([ 643.44612956,  662.24883789,  728.73051432,  579.77990234,\n",
      "        783.16228516,  724.73155924,  770.55812826,  585.78215495,\n",
      "        729.9242806 ,  779.41952474,  688.6047168 ,  798.04578125,\n",
      "        780.60649089,  695.80504883,  580.98466146,  701.7790625 ,\n",
      "        753.73304362,  633.08623047,  671.15731445,  765.49799805,\n",
      "        651.95      ,  754.71745443, 1060.6637207 ,  782.63964844,\n",
      "        742.20477539,  727.301875  ,  816.24997396,  716.27212891,\n",
      "        682.48878255,  813.35715495,  764.38211263,  813.67628906,\n",
      "        811.73057617,  883.56354818,  788.77515625,  716.84408529,\n",
      "        814.8313737 ,  825.9725293 ,  639.27319987,  711.36540365,\n",
      "        743.61498372,  727.78866536,  721.31157878,  803.49885417,\n",
      "        687.60204427,  792.16926758,  708.35578776,  683.54275065,\n",
      "        677.70652995,  761.55291016,  675.28496745,  624.59113281,\n",
      "        763.09849284,  621.49568685]), 'init_years': array([1961, 1962, 1963, 1964, 1965, 1966, 1967, 1968, 1969, 1970, 1971,\n",
      "       1972, 1973, 1974, 1975, 1976, 1977, 1978, 1979, 1980, 1981, 1982,\n",
      "       1983, 1984, 1985, 1986, 1987, 1988, 1989, 1990, 1991, 1992, 1993,\n",
      "       1994, 1995, 1996, 1997, 1998, 1999, 2000, 2001, 2002, 2003, 2004,\n",
      "       2005, 2006, 2007, 2008, 2009, 2010, 2011, 2012, 2013, 2014]), 'valid_years': array([1963, 1964, 1965, 1966, 1967, 1968, 1969, 1970, 1971, 1972, 1973,\n",
      "       1974, 1975, 1976, 1977, 1978, 1979, 1980, 1981, 1982, 1983, 1984,\n",
      "       1985, 1986, 1987, 1988, 1989, 1990, 1991, 1992, 1993, 1994, 1995,\n",
      "       1996, 1997, 1998, 1999, 2000, 2001, 2002, 2003, 2004, 2005, 2006,\n",
      "       2007, 2008, 2009, 2010, 2011, 2012, 2013, 2014, 2015, 2016]), 'corr1': 0.18658086158680157, 'p1': 0.176727795728722, 'rpc1': 1.3170431012127752, 'rps1': 1.861254895595387, 'nens': 178}\n"
     ]
    }
   ],
   "source": [
    "print(nao_stats)"
   ]
  }
 ],
 "metadata": {
  "kernelspec": {
   "display_name": "Python 3",
   "language": "python",
   "name": "python3"
  },
  "language_info": {
   "codemirror_mode": {
    "name": "ipython",
    "version": 3
   },
   "file_extension": ".py",
   "mimetype": "text/x-python",
   "name": "python",
   "nbconvert_exporter": "python",
   "pygments_lexer": "ipython3",
   "version": "3.10.5"
  }
 },
 "nbformat": 4,
 "nbformat_minor": 2
}
